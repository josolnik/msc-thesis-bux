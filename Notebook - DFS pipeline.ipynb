{
 "cells": [
  {
   "cell_type": "code",
   "execution_count": 220,
   "metadata": {
    "collapsed": true
   },
   "outputs": [],
   "source": [
    "# data munging and visualization\n",
    "import numpy as np\n",
    "import pandas as pd\n",
    "import matplotlib.pyplot as plt\n",
    "%matplotlib notebook\n",
    "%matplotlib inline\n",
    "import itertools\n",
    "\n",
    "# timestamps\n",
    "import datetime\n",
    "\n",
    "\n",
    "# feature engineering\n",
    "import featuretools as ft\n",
    "\n",
    "# machine learning\n",
    "from sklearn.ensemble import RandomForestClassifier\n",
    "from sklearn.ensemble import GradientBoostingRegressor\n",
    "from sklearn.metrics import precision_recall_fscore_support\n",
    "from sklearn.metrics import confusion_matrix\n",
    "from sklearn.model_selection import train_test_split\n",
    "from sklearn.model_selection import cross_val_score\n",
    "import os"
   ]
  },
  {
   "cell_type": "markdown",
   "metadata": {},
   "source": [
    "## Users"
   ]
  },
  {
   "cell_type": "code",
   "execution_count": 221,
   "metadata": {
    "collapsed": false
   },
   "outputs": [
    {
     "data": {
      "text/plain": [
       "58839"
      ]
     },
     "execution_count": 221,
     "metadata": {},
     "output_type": "execute_result"
    }
   ],
   "source": [
    "users = pd.read_csv('data/users_Feb_1_30days_cohort.csv')\n",
    "users['bux_account_created_dts'] = pd.to_datetime(users['bux_account_created_dts'])\n",
    "users = users[users.columns[1:]]\n",
    "len(users)"
   ]
  },
  {
   "cell_type": "code",
   "execution_count": 222,
   "metadata": {
    "collapsed": false
   },
   "outputs": [],
   "source": [
    "sample_num = 30000\n",
    "sample_users = users[0:sample_num]"
   ]
  },
  {
   "cell_type": "code",
   "execution_count": 223,
   "metadata": {
    "collapsed": false
   },
   "outputs": [
    {
     "data": {
      "text/html": [
       "<div>\n",
       "<style scoped>\n",
       "    .dataframe tbody tr th:only-of-type {\n",
       "        vertical-align: middle;\n",
       "    }\n",
       "\n",
       "    .dataframe tbody tr th {\n",
       "        vertical-align: top;\n",
       "    }\n",
       "\n",
       "    .dataframe thead th {\n",
       "        text-align: right;\n",
       "    }\n",
       "</style>\n",
       "<table border=\"1\" class=\"dataframe\">\n",
       "  <thead>\n",
       "    <tr style=\"text-align: right;\">\n",
       "      <th></th>\n",
       "      <th>user_id</th>\n",
       "      <th>country_cd</th>\n",
       "      <th>gender</th>\n",
       "      <th>nationality</th>\n",
       "      <th>platform_type_name</th>\n",
       "      <th>trading_experience</th>\n",
       "      <th>title</th>\n",
       "      <th>network</th>\n",
       "      <th>bux_account_created_dts</th>\n",
       "      <th>account_type</th>\n",
       "      <th>ams_first_funded_dts</th>\n",
       "      <th>initial_deposit_amount</th>\n",
       "      <th>sum_deposits</th>\n",
       "      <th>cnt_deposits</th>\n",
       "    </tr>\n",
       "  </thead>\n",
       "  <tbody>\n",
       "    <tr>\n",
       "      <th>0</th>\n",
       "      <td>031b0f17-9a45-4b1b-b7b4-027802ffad95</td>\n",
       "      <td>DE</td>\n",
       "      <td>MALE</td>\n",
       "      <td>DE</td>\n",
       "      <td>iOS</td>\n",
       "      <td>SOME</td>\n",
       "      <td>Experienced Trader</td>\n",
       "      <td>Appnext</td>\n",
       "      <td>2017-02-03 21:10:20.056</td>\n",
       "      <td>SERIOUS_BUX</td>\n",
       "      <td>2017-02-13 22:11:52.000</td>\n",
       "      <td>450.0</td>\n",
       "      <td>450.0</td>\n",
       "      <td>1.0</td>\n",
       "    </tr>\n",
       "    <tr>\n",
       "      <th>1</th>\n",
       "      <td>010e236f-8ab5-4681-a146-273531d19d54</td>\n",
       "      <td>AT</td>\n",
       "      <td>NaN</td>\n",
       "      <td>NaN</td>\n",
       "      <td>Android</td>\n",
       "      <td>NONE</td>\n",
       "      <td>Rookie Trader</td>\n",
       "      <td>Organic</td>\n",
       "      <td>2017-02-01 16:33:27.777</td>\n",
       "      <td>FUN_BUX</td>\n",
       "      <td>NaN</td>\n",
       "      <td>NaN</td>\n",
       "      <td>NaN</td>\n",
       "      <td>NaN</td>\n",
       "    </tr>\n",
       "    <tr>\n",
       "      <th>2</th>\n",
       "      <td>011f6526-ab7e-4790-b289-5fa1faf69bc3</td>\n",
       "      <td>AT</td>\n",
       "      <td>NaN</td>\n",
       "      <td>NaN</td>\n",
       "      <td>Android</td>\n",
       "      <td>NONE</td>\n",
       "      <td>Rookie Trader</td>\n",
       "      <td>Viral Invites</td>\n",
       "      <td>2017-02-26 11:55:06.928</td>\n",
       "      <td>FUN_BUX</td>\n",
       "      <td>NaN</td>\n",
       "      <td>NaN</td>\n",
       "      <td>NaN</td>\n",
       "      <td>NaN</td>\n",
       "    </tr>\n",
       "    <tr>\n",
       "      <th>3</th>\n",
       "      <td>0231bd62-6733-4f8b-9c57-87f4eb9e0aa1</td>\n",
       "      <td>AT</td>\n",
       "      <td>NaN</td>\n",
       "      <td>NaN</td>\n",
       "      <td>Android</td>\n",
       "      <td>NONE</td>\n",
       "      <td>Rookie Trader</td>\n",
       "      <td>Facebook Installs</td>\n",
       "      <td>2017-02-17 23:14:11.280</td>\n",
       "      <td>FUN_BUX</td>\n",
       "      <td>NaN</td>\n",
       "      <td>NaN</td>\n",
       "      <td>NaN</td>\n",
       "      <td>NaN</td>\n",
       "    </tr>\n",
       "    <tr>\n",
       "      <th>4</th>\n",
       "      <td>028e03b9-ab6d-4ede-85f2-ce6b6e38ad47</td>\n",
       "      <td>AT</td>\n",
       "      <td>NaN</td>\n",
       "      <td>NaN</td>\n",
       "      <td>Android</td>\n",
       "      <td>NONE</td>\n",
       "      <td>Rookie Trader</td>\n",
       "      <td>Facebook Installs</td>\n",
       "      <td>2017-02-20 10:30:34.584</td>\n",
       "      <td>FUN_BUX</td>\n",
       "      <td>NaN</td>\n",
       "      <td>NaN</td>\n",
       "      <td>NaN</td>\n",
       "      <td>NaN</td>\n",
       "    </tr>\n",
       "  </tbody>\n",
       "</table>\n",
       "</div>"
      ],
      "text/plain": [
       "                                user_id country_cd gender nationality  \\\n",
       "0  031b0f17-9a45-4b1b-b7b4-027802ffad95         DE   MALE          DE   \n",
       "1  010e236f-8ab5-4681-a146-273531d19d54         AT    NaN         NaN   \n",
       "2  011f6526-ab7e-4790-b289-5fa1faf69bc3         AT    NaN         NaN   \n",
       "3  0231bd62-6733-4f8b-9c57-87f4eb9e0aa1         AT    NaN         NaN   \n",
       "4  028e03b9-ab6d-4ede-85f2-ce6b6e38ad47         AT    NaN         NaN   \n",
       "\n",
       "  platform_type_name trading_experience               title  \\\n",
       "0                iOS               SOME  Experienced Trader   \n",
       "1            Android               NONE       Rookie Trader   \n",
       "2            Android               NONE       Rookie Trader   \n",
       "3            Android               NONE       Rookie Trader   \n",
       "4            Android               NONE       Rookie Trader   \n",
       "\n",
       "             network bux_account_created_dts account_type  \\\n",
       "0            Appnext 2017-02-03 21:10:20.056  SERIOUS_BUX   \n",
       "1            Organic 2017-02-01 16:33:27.777      FUN_BUX   \n",
       "2      Viral Invites 2017-02-26 11:55:06.928      FUN_BUX   \n",
       "3  Facebook Installs 2017-02-17 23:14:11.280      FUN_BUX   \n",
       "4  Facebook Installs 2017-02-20 10:30:34.584      FUN_BUX   \n",
       "\n",
       "      ams_first_funded_dts  initial_deposit_amount  sum_deposits  cnt_deposits  \n",
       "0  2017-02-13 22:11:52.000                   450.0         450.0           1.0  \n",
       "1                      NaN                     NaN           NaN           NaN  \n",
       "2                      NaN                     NaN           NaN           NaN  \n",
       "3                      NaN                     NaN           NaN           NaN  \n",
       "4                      NaN                     NaN           NaN           NaN  "
      ]
     },
     "execution_count": 223,
     "metadata": {},
     "output_type": "execute_result"
    }
   ],
   "source": [
    "users.head()"
   ]
  },
  {
   "cell_type": "code",
   "execution_count": 224,
   "metadata": {
    "collapsed": false
   },
   "outputs": [
    {
     "data": {
      "text/plain": [
       "0     3\n",
       "1     1\n",
       "2    26\n",
       "3    17\n",
       "4    20\n",
       "Name: bux_account_created_day, dtype: int64"
      ]
     },
     "execution_count": 224,
     "metadata": {},
     "output_type": "execute_result"
    }
   ],
   "source": [
    "users['bux_account_created_day'] = [ts.day for ts in users['bux_account_created_dts']]\n",
    "users['bux_account_created_day'].head()"
   ]
  },
  {
   "cell_type": "code",
   "execution_count": 225,
   "metadata": {
    "collapsed": false
   },
   "outputs": [
    {
     "data": {
      "image/png": "[encoded data removed]",
      "text/plain": [
       "<matplotlib.figure.Figure at 0x7fa5c43a4cf8>"
      ]
     },
     "metadata": {},
     "output_type": "display_data"
    }
   ],
   "source": [
    "users['bux_account_created_day'].plot(kind='hist');"
   ]
  },
  {
   "cell_type": "code",
   "execution_count": 226,
   "metadata": {
    "collapsed": false
   },
   "outputs": [],
   "source": [
    "# 30 users in the sample that created an accountusers[users['bux_account_created_day'] == 10]['user_id'].count()"
   ]
  },
  {
   "cell_type": "code",
   "execution_count": 227,
   "metadata": {
    "collapsed": false
   },
   "outputs": [
    {
     "data": {
      "text/plain": [
       "58839"
      ]
     },
     "execution_count": 227,
     "metadata": {},
     "output_type": "execute_result"
    }
   ],
   "source": [
    "len(users)"
   ]
  },
  {
   "cell_type": "markdown",
   "metadata": {},
   "source": [
    "## Cube daily user"
   ]
  },
  {
   "cell_type": "code",
   "execution_count": 228,
   "metadata": {
    "collapsed": false
   },
   "outputs": [
    {
     "data": {
      "text/html": [
       "<div>\n",
       "<style scoped>\n",
       "    .dataframe tbody tr th:only-of-type {\n",
       "        vertical-align: middle;\n",
       "    }\n",
       "\n",
       "    .dataframe tbody tr th {\n",
       "        vertical-align: top;\n",
       "    }\n",
       "\n",
       "    .dataframe thead th {\n",
       "        text-align: right;\n",
       "    }\n",
       "</style>\n",
       "<table border=\"1\" class=\"dataframe\">\n",
       "  <thead>\n",
       "    <tr style=\"text-align: right;\">\n",
       "      <th></th>\n",
       "      <th>index</th>\n",
       "      <th>user_id</th>\n",
       "      <th>day_of_year</th>\n",
       "      <th>date</th>\n",
       "      <th>number_of_sessions</th>\n",
       "      <th>total_session_duration</th>\n",
       "      <th>account_status</th>\n",
       "      <th>trades_fb_commodities_open</th>\n",
       "      <th>trades_fb_commodities_profit</th>\n",
       "      <th>social_status_battles</th>\n",
       "      <th>social_status</th>\n",
       "      <th>conversion_to_sb</th>\n",
       "    </tr>\n",
       "  </thead>\n",
       "  <tbody>\n",
       "    <tr>\n",
       "      <th>0</th>\n",
       "      <td>0</td>\n",
       "      <td>000c5e5d-4e25-412d-951b-31167045eb95</td>\n",
       "      <td>60</td>\n",
       "      <td>2017-03-01</td>\n",
       "      <td>0</td>\n",
       "      <td>0</td>\n",
       "      <td>FUN_BUX</td>\n",
       "      <td>0</td>\n",
       "      <td>0.0</td>\n",
       "      <td>0</td>\n",
       "      <td>Following</td>\n",
       "      <td>0</td>\n",
       "    </tr>\n",
       "    <tr>\n",
       "      <th>1</th>\n",
       "      <td>1</td>\n",
       "      <td>000c5e5d-4e25-412d-951b-31167045eb95</td>\n",
       "      <td>61</td>\n",
       "      <td>2017-03-02</td>\n",
       "      <td>0</td>\n",
       "      <td>0</td>\n",
       "      <td>FUN_BUX</td>\n",
       "      <td>0</td>\n",
       "      <td>0.0</td>\n",
       "      <td>0</td>\n",
       "      <td>Following</td>\n",
       "      <td>0</td>\n",
       "    </tr>\n",
       "    <tr>\n",
       "      <th>2</th>\n",
       "      <td>2</td>\n",
       "      <td>000c5e5d-4e25-412d-951b-31167045eb95</td>\n",
       "      <td>62</td>\n",
       "      <td>2017-03-03</td>\n",
       "      <td>0</td>\n",
       "      <td>0</td>\n",
       "      <td>FUN_BUX</td>\n",
       "      <td>0</td>\n",
       "      <td>0.0</td>\n",
       "      <td>0</td>\n",
       "      <td>Following</td>\n",
       "      <td>0</td>\n",
       "    </tr>\n",
       "    <tr>\n",
       "      <th>3</th>\n",
       "      <td>3</td>\n",
       "      <td>000c5e5d-4e25-412d-951b-31167045eb95</td>\n",
       "      <td>65</td>\n",
       "      <td>2017-03-06</td>\n",
       "      <td>0</td>\n",
       "      <td>0</td>\n",
       "      <td>FUN_BUX</td>\n",
       "      <td>0</td>\n",
       "      <td>0.0</td>\n",
       "      <td>0</td>\n",
       "      <td>Following</td>\n",
       "      <td>0</td>\n",
       "    </tr>\n",
       "    <tr>\n",
       "      <th>4</th>\n",
       "      <td>4</td>\n",
       "      <td>000c5e5d-4e25-412d-951b-31167045eb95</td>\n",
       "      <td>66</td>\n",
       "      <td>2017-03-07</td>\n",
       "      <td>0</td>\n",
       "      <td>0</td>\n",
       "      <td>FUN_BUX</td>\n",
       "      <td>0</td>\n",
       "      <td>0.0</td>\n",
       "      <td>0</td>\n",
       "      <td>Following</td>\n",
       "      <td>0</td>\n",
       "    </tr>\n",
       "  </tbody>\n",
       "</table>\n",
       "</div>"
      ],
      "text/plain": [
       "   index                               user_id  day_of_year       date  \\\n",
       "0      0  000c5e5d-4e25-412d-951b-31167045eb95           60 2017-03-01   \n",
       "1      1  000c5e5d-4e25-412d-951b-31167045eb95           61 2017-03-02   \n",
       "2      2  000c5e5d-4e25-412d-951b-31167045eb95           62 2017-03-03   \n",
       "3      3  000c5e5d-4e25-412d-951b-31167045eb95           65 2017-03-06   \n",
       "4      4  000c5e5d-4e25-412d-951b-31167045eb95           66 2017-03-07   \n",
       "\n",
       "   number_of_sessions  total_session_duration account_status  \\\n",
       "0                   0                       0        FUN_BUX   \n",
       "1                   0                       0        FUN_BUX   \n",
       "2                   0                       0        FUN_BUX   \n",
       "3                   0                       0        FUN_BUX   \n",
       "4                   0                       0        FUN_BUX   \n",
       "\n",
       "   trades_fb_commodities_open  trades_fb_commodities_profit  \\\n",
       "0                           0                           0.0   \n",
       "1                           0                           0.0   \n",
       "2                           0                           0.0   \n",
       "3                           0                           0.0   \n",
       "4                           0                           0.0   \n",
       "\n",
       "   social_status_battles social_status  conversion_to_sb  \n",
       "0                      0     Following                 0  \n",
       "1                      0     Following                 0  \n",
       "2                      0     Following                 0  \n",
       "3                      0     Following                 0  \n",
       "4                      0     Following                 0  "
      ]
     },
     "execution_count": 228,
     "metadata": {},
     "output_type": "execute_result"
    }
   ],
   "source": [
    "transactions = pd.read_csv('data/cube_daily_user_Feb_1_30days_cohort.csv')\n",
    "transactions['date'] = pd.to_datetime(transactions['date'])\n",
    "transactions = transactions[transactions.columns[1:]]\n",
    "transactions = transactions.reset_index()\n",
    "transactions.head()"
   ]
  },
  {
   "cell_type": "code",
   "execution_count": 229,
   "metadata": {
    "collapsed": false
   },
   "outputs": [
    {
     "data": {
      "text/plain": [
       "370117"
      ]
     },
     "execution_count": 229,
     "metadata": {},
     "output_type": "execute_result"
    }
   ],
   "source": [
    "len(transactions)"
   ]
  },
  {
   "cell_type": "code",
   "execution_count": 230,
   "metadata": {
    "collapsed": false
   },
   "outputs": [
    {
     "data": {
      "text/plain": [
       "58045"
      ]
     },
     "execution_count": 230,
     "metadata": {},
     "output_type": "execute_result"
    }
   ],
   "source": [
    "len(transactions['user_id'].unique())"
   ]
  },
  {
   "cell_type": "code",
   "execution_count": 231,
   "metadata": {
    "collapsed": false
   },
   "outputs": [
    {
     "data": {
      "text/plain": [
       "12"
      ]
     },
     "execution_count": 231,
     "metadata": {},
     "output_type": "execute_result"
    }
   ],
   "source": [
    "len(transactions.columns)"
   ]
  },
  {
   "cell_type": "code",
   "execution_count": 232,
   "metadata": {
    "collapsed": false
   },
   "outputs": [
    {
     "data": {
      "text/plain": [
       "192577"
      ]
     },
     "execution_count": 232,
     "metadata": {},
     "output_type": "execute_result"
    }
   ],
   "source": [
    "sample_transactions = transactions[transactions['user_id'].isin(sample_users['user_id'])]\n",
    "len(sample_transactions)"
   ]
  },
  {
   "cell_type": "markdown",
   "metadata": {},
   "source": [
    "## Target values (Current customer value - CurCV)"
   ]
  },
  {
   "cell_type": "code",
   "execution_count": 233,
   "metadata": {
    "collapsed": false
   },
   "outputs": [
    {
     "data": {
      "text/html": [
       "<div>\n",
       "<style scoped>\n",
       "    .dataframe tbody tr th:only-of-type {\n",
       "        vertical-align: middle;\n",
       "    }\n",
       "\n",
       "    .dataframe tbody tr th {\n",
       "        vertical-align: top;\n",
       "    }\n",
       "\n",
       "    .dataframe thead th {\n",
       "        text-align: right;\n",
       "    }\n",
       "</style>\n",
       "<table border=\"1\" class=\"dataframe\">\n",
       "  <thead>\n",
       "    <tr style=\"text-align: right;\">\n",
       "      <th></th>\n",
       "      <th>user_id</th>\n",
       "      <th>com</th>\n",
       "      <th>div</th>\n",
       "      <th>ff</th>\n",
       "      <th>total</th>\n",
       "    </tr>\n",
       "  </thead>\n",
       "  <tbody>\n",
       "    <tr>\n",
       "      <th>0</th>\n",
       "      <td>62975554-fc1c-46c9-8a7c-80b8ed710284</td>\n",
       "      <td>0.0</td>\n",
       "      <td>0.0</td>\n",
       "      <td>0.0</td>\n",
       "      <td>0.0</td>\n",
       "    </tr>\n",
       "    <tr>\n",
       "      <th>1</th>\n",
       "      <td>84a09b40-e773-4ca5-8e0b-4dcfe5a34b00</td>\n",
       "      <td>0.0</td>\n",
       "      <td>0.0</td>\n",
       "      <td>0.0</td>\n",
       "      <td>0.0</td>\n",
       "    </tr>\n",
       "    <tr>\n",
       "      <th>2</th>\n",
       "      <td>0c743fbc-d056-4957-9c90-d92f893defc0</td>\n",
       "      <td>0.0</td>\n",
       "      <td>0.0</td>\n",
       "      <td>0.0</td>\n",
       "      <td>0.0</td>\n",
       "    </tr>\n",
       "    <tr>\n",
       "      <th>3</th>\n",
       "      <td>cfab8dd2-d4c8-490c-9452-581acd5ebdf7</td>\n",
       "      <td>0.0</td>\n",
       "      <td>0.0</td>\n",
       "      <td>0.0</td>\n",
       "      <td>0.0</td>\n",
       "    </tr>\n",
       "    <tr>\n",
       "      <th>4</th>\n",
       "      <td>a9727139-75e6-41b0-8428-6b2a7d2ff893</td>\n",
       "      <td>0.0</td>\n",
       "      <td>0.0</td>\n",
       "      <td>0.0</td>\n",
       "      <td>0.0</td>\n",
       "    </tr>\n",
       "  </tbody>\n",
       "</table>\n",
       "</div>"
      ],
      "text/plain": [
       "                                user_id  com  div   ff  total\n",
       "0  62975554-fc1c-46c9-8a7c-80b8ed710284  0.0  0.0  0.0    0.0\n",
       "1  84a09b40-e773-4ca5-8e0b-4dcfe5a34b00  0.0  0.0  0.0    0.0\n",
       "2  0c743fbc-d056-4957-9c90-d92f893defc0  0.0  0.0  0.0    0.0\n",
       "3  cfab8dd2-d4c8-490c-9452-581acd5ebdf7  0.0  0.0  0.0    0.0\n",
       "4  a9727139-75e6-41b0-8428-6b2a7d2ff893  0.0  0.0  0.0    0.0"
      ]
     },
     "execution_count": 233,
     "metadata": {},
     "output_type": "execute_result"
    }
   ],
   "source": [
    "CurCV = pd.read_csv('data/curCv_Feb_1_30days_cohort.csv')\n",
    "CurCV = CurCV[CurCV.columns[1:]]\n",
    "CurCV = CurCV.fillna(0)\n",
    "CurCV.head()"
   ]
  },
  {
   "cell_type": "code",
   "execution_count": 234,
   "metadata": {
    "collapsed": false
   },
   "outputs": [
    {
     "data": {
      "text/html": [
       "<div>\n",
       "<style scoped>\n",
       "    .dataframe tbody tr th:only-of-type {\n",
       "        vertical-align: middle;\n",
       "    }\n",
       "\n",
       "    .dataframe tbody tr th {\n",
       "        vertical-align: top;\n",
       "    }\n",
       "\n",
       "    .dataframe thead th {\n",
       "        text-align: right;\n",
       "    }\n",
       "</style>\n",
       "<table border=\"1\" class=\"dataframe\">\n",
       "  <thead>\n",
       "    <tr style=\"text-align: right;\">\n",
       "      <th></th>\n",
       "      <th>user_id</th>\n",
       "      <th>curcv</th>\n",
       "    </tr>\n",
       "  </thead>\n",
       "  <tbody>\n",
       "    <tr>\n",
       "      <th>0</th>\n",
       "      <td>62975554-fc1c-46c9-8a7c-80b8ed710284</td>\n",
       "      <td>0.0</td>\n",
       "    </tr>\n",
       "    <tr>\n",
       "      <th>1</th>\n",
       "      <td>84a09b40-e773-4ca5-8e0b-4dcfe5a34b00</td>\n",
       "      <td>0.0</td>\n",
       "    </tr>\n",
       "    <tr>\n",
       "      <th>2</th>\n",
       "      <td>0c743fbc-d056-4957-9c90-d92f893defc0</td>\n",
       "      <td>0.0</td>\n",
       "    </tr>\n",
       "    <tr>\n",
       "      <th>3</th>\n",
       "      <td>cfab8dd2-d4c8-490c-9452-581acd5ebdf7</td>\n",
       "      <td>0.0</td>\n",
       "    </tr>\n",
       "    <tr>\n",
       "      <th>4</th>\n",
       "      <td>a9727139-75e6-41b0-8428-6b2a7d2ff893</td>\n",
       "      <td>0.0</td>\n",
       "    </tr>\n",
       "  </tbody>\n",
       "</table>\n",
       "</div>"
      ],
      "text/plain": [
       "                                user_id  curcv\n",
       "0  62975554-fc1c-46c9-8a7c-80b8ed710284    0.0\n",
       "1  84a09b40-e773-4ca5-8e0b-4dcfe5a34b00    0.0\n",
       "2  0c743fbc-d056-4957-9c90-d92f893defc0    0.0\n",
       "3  cfab8dd2-d4c8-490c-9452-581acd5ebdf7    0.0\n",
       "4  a9727139-75e6-41b0-8428-6b2a7d2ff893    0.0"
      ]
     },
     "execution_count": 234,
     "metadata": {},
     "output_type": "execute_result"
    }
   ],
   "source": [
    "CurCV = CurCV[['user_id', 'total']]\n",
    "CurCV.columns = ['user_id', 'curcv']\n",
    "CurCV.head()"
   ]
  },
  {
   "cell_type": "code",
   "execution_count": 235,
   "metadata": {
    "collapsed": false
   },
   "outputs": [
    {
     "data": {
      "text/plain": [
       "30000"
      ]
     },
     "execution_count": 235,
     "metadata": {},
     "output_type": "execute_result"
    }
   ],
   "source": [
    "sample_CurCV = CurCV[CurCV['user_id'].isin(sample_users['user_id'])]\n",
    "len(sample_CurCV)"
   ]
  },
  {
   "cell_type": "markdown",
   "metadata": {},
   "source": [
    "## Define entities, entity tables and relationships"
   ]
  },
  {
   "cell_type": "code",
   "execution_count": 236,
   "metadata": {
    "collapsed": false
   },
   "outputs": [
    {
     "data": {
      "text/html": [
       "<div>\n",
       "<style scoped>\n",
       "    .dataframe tbody tr th:only-of-type {\n",
       "        vertical-align: middle;\n",
       "    }\n",
       "\n",
       "    .dataframe tbody tr th {\n",
       "        vertical-align: top;\n",
       "    }\n",
       "\n",
       "    .dataframe thead th {\n",
       "        text-align: right;\n",
       "    }\n",
       "</style>\n",
       "<table border=\"1\" class=\"dataframe\">\n",
       "  <thead>\n",
       "    <tr style=\"text-align: right;\">\n",
       "      <th></th>\n",
       "      <th>user_id</th>\n",
       "      <th>country_cd</th>\n",
       "      <th>gender</th>\n",
       "      <th>nationality</th>\n",
       "      <th>platform_type_name</th>\n",
       "      <th>trading_experience</th>\n",
       "      <th>title</th>\n",
       "      <th>network</th>\n",
       "      <th>bux_account_created_dts</th>\n",
       "      <th>account_type</th>\n",
       "      <th>ams_first_funded_dts</th>\n",
       "      <th>initial_deposit_amount</th>\n",
       "      <th>sum_deposits</th>\n",
       "      <th>cnt_deposits</th>\n",
       "    </tr>\n",
       "  </thead>\n",
       "  <tbody>\n",
       "    <tr>\n",
       "      <th>0</th>\n",
       "      <td>031b0f17-9a45-4b1b-b7b4-027802ffad95</td>\n",
       "      <td>DE</td>\n",
       "      <td>MALE</td>\n",
       "      <td>DE</td>\n",
       "      <td>iOS</td>\n",
       "      <td>SOME</td>\n",
       "      <td>Experienced Trader</td>\n",
       "      <td>Appnext</td>\n",
       "      <td>2017-02-03 21:10:20.056</td>\n",
       "      <td>SERIOUS_BUX</td>\n",
       "      <td>2017-02-13 22:11:52.000</td>\n",
       "      <td>450.0</td>\n",
       "      <td>450.0</td>\n",
       "      <td>1.0</td>\n",
       "    </tr>\n",
       "    <tr>\n",
       "      <th>1</th>\n",
       "      <td>010e236f-8ab5-4681-a146-273531d19d54</td>\n",
       "      <td>AT</td>\n",
       "      <td>NaN</td>\n",
       "      <td>NaN</td>\n",
       "      <td>Android</td>\n",
       "      <td>NONE</td>\n",
       "      <td>Rookie Trader</td>\n",
       "      <td>Organic</td>\n",
       "      <td>2017-02-01 16:33:27.777</td>\n",
       "      <td>FUN_BUX</td>\n",
       "      <td>NaN</td>\n",
       "      <td>NaN</td>\n",
       "      <td>NaN</td>\n",
       "      <td>NaN</td>\n",
       "    </tr>\n",
       "    <tr>\n",
       "      <th>2</th>\n",
       "      <td>011f6526-ab7e-4790-b289-5fa1faf69bc3</td>\n",
       "      <td>AT</td>\n",
       "      <td>NaN</td>\n",
       "      <td>NaN</td>\n",
       "      <td>Android</td>\n",
       "      <td>NONE</td>\n",
       "      <td>Rookie Trader</td>\n",
       "      <td>Viral Invites</td>\n",
       "      <td>2017-02-26 11:55:06.928</td>\n",
       "      <td>FUN_BUX</td>\n",
       "      <td>NaN</td>\n",
       "      <td>NaN</td>\n",
       "      <td>NaN</td>\n",
       "      <td>NaN</td>\n",
       "    </tr>\n",
       "    <tr>\n",
       "      <th>3</th>\n",
       "      <td>0231bd62-6733-4f8b-9c57-87f4eb9e0aa1</td>\n",
       "      <td>AT</td>\n",
       "      <td>NaN</td>\n",
       "      <td>NaN</td>\n",
       "      <td>Android</td>\n",
       "      <td>NONE</td>\n",
       "      <td>Rookie Trader</td>\n",
       "      <td>Facebook Installs</td>\n",
       "      <td>2017-02-17 23:14:11.280</td>\n",
       "      <td>FUN_BUX</td>\n",
       "      <td>NaN</td>\n",
       "      <td>NaN</td>\n",
       "      <td>NaN</td>\n",
       "      <td>NaN</td>\n",
       "    </tr>\n",
       "    <tr>\n",
       "      <th>4</th>\n",
       "      <td>028e03b9-ab6d-4ede-85f2-ce6b6e38ad47</td>\n",
       "      <td>AT</td>\n",
       "      <td>NaN</td>\n",
       "      <td>NaN</td>\n",
       "      <td>Android</td>\n",
       "      <td>NONE</td>\n",
       "      <td>Rookie Trader</td>\n",
       "      <td>Facebook Installs</td>\n",
       "      <td>2017-02-20 10:30:34.584</td>\n",
       "      <td>FUN_BUX</td>\n",
       "      <td>NaN</td>\n",
       "      <td>NaN</td>\n",
       "      <td>NaN</td>\n",
       "      <td>NaN</td>\n",
       "    </tr>\n",
       "  </tbody>\n",
       "</table>\n",
       "</div>"
      ],
      "text/plain": [
       "                                user_id country_cd gender nationality  \\\n",
       "0  031b0f17-9a45-4b1b-b7b4-027802ffad95         DE   MALE          DE   \n",
       "1  010e236f-8ab5-4681-a146-273531d19d54         AT    NaN         NaN   \n",
       "2  011f6526-ab7e-4790-b289-5fa1faf69bc3         AT    NaN         NaN   \n",
       "3  0231bd62-6733-4f8b-9c57-87f4eb9e0aa1         AT    NaN         NaN   \n",
       "4  028e03b9-ab6d-4ede-85f2-ce6b6e38ad47         AT    NaN         NaN   \n",
       "\n",
       "  platform_type_name trading_experience               title  \\\n",
       "0                iOS               SOME  Experienced Trader   \n",
       "1            Android               NONE       Rookie Trader   \n",
       "2            Android               NONE       Rookie Trader   \n",
       "3            Android               NONE       Rookie Trader   \n",
       "4            Android               NONE       Rookie Trader   \n",
       "\n",
       "             network bux_account_created_dts account_type  \\\n",
       "0            Appnext 2017-02-03 21:10:20.056  SERIOUS_BUX   \n",
       "1            Organic 2017-02-01 16:33:27.777      FUN_BUX   \n",
       "2      Viral Invites 2017-02-26 11:55:06.928      FUN_BUX   \n",
       "3  Facebook Installs 2017-02-17 23:14:11.280      FUN_BUX   \n",
       "4  Facebook Installs 2017-02-20 10:30:34.584      FUN_BUX   \n",
       "\n",
       "      ams_first_funded_dts  initial_deposit_amount  sum_deposits  cnt_deposits  \n",
       "0  2017-02-13 22:11:52.000                   450.0         450.0           1.0  \n",
       "1                      NaN                     NaN           NaN           NaN  \n",
       "2                      NaN                     NaN           NaN           NaN  \n",
       "3                      NaN                     NaN           NaN           NaN  \n",
       "4                      NaN                     NaN           NaN           NaN  "
      ]
     },
     "execution_count": 236,
     "metadata": {},
     "output_type": "execute_result"
    }
   ],
   "source": [
    "users = sample_users\n",
    "users[0:5]"
   ]
  },
  {
   "cell_type": "code",
   "execution_count": 237,
   "metadata": {
    "collapsed": false
   },
   "outputs": [
    {
     "data": {
      "text/html": [
       "<div>\n",
       "<style scoped>\n",
       "    .dataframe tbody tr th:only-of-type {\n",
       "        vertical-align: middle;\n",
       "    }\n",
       "\n",
       "    .dataframe tbody tr th {\n",
       "        vertical-align: top;\n",
       "    }\n",
       "\n",
       "    .dataframe thead th {\n",
       "        text-align: right;\n",
       "    }\n",
       "</style>\n",
       "<table border=\"1\" class=\"dataframe\">\n",
       "  <thead>\n",
       "    <tr style=\"text-align: right;\">\n",
       "      <th></th>\n",
       "      <th>index</th>\n",
       "      <th>user_id</th>\n",
       "      <th>day_of_year</th>\n",
       "      <th>date</th>\n",
       "      <th>number_of_sessions</th>\n",
       "      <th>total_session_duration</th>\n",
       "      <th>account_status</th>\n",
       "      <th>trades_fb_commodities_open</th>\n",
       "      <th>trades_fb_commodities_profit</th>\n",
       "      <th>social_status_battles</th>\n",
       "      <th>social_status</th>\n",
       "      <th>conversion_to_sb</th>\n",
       "    </tr>\n",
       "  </thead>\n",
       "  <tbody>\n",
       "    <tr>\n",
       "      <th>8</th>\n",
       "      <td>8</td>\n",
       "      <td>00193156-af2f-430a-9c2d-4bd8589172f0</td>\n",
       "      <td>60</td>\n",
       "      <td>2017-03-01</td>\n",
       "      <td>5</td>\n",
       "      <td>87</td>\n",
       "      <td>FUN_BUX</td>\n",
       "      <td>1</td>\n",
       "      <td>0.0</td>\n",
       "      <td>2</td>\n",
       "      <td>Chatting</td>\n",
       "      <td>0</td>\n",
       "    </tr>\n",
       "    <tr>\n",
       "      <th>9</th>\n",
       "      <td>9</td>\n",
       "      <td>00193156-af2f-430a-9c2d-4bd8589172f0</td>\n",
       "      <td>61</td>\n",
       "      <td>2017-03-02</td>\n",
       "      <td>1</td>\n",
       "      <td>23</td>\n",
       "      <td>FUN_BUX</td>\n",
       "      <td>0</td>\n",
       "      <td>0.0</td>\n",
       "      <td>2</td>\n",
       "      <td>Chatting</td>\n",
       "      <td>0</td>\n",
       "    </tr>\n",
       "    <tr>\n",
       "      <th>10</th>\n",
       "      <td>10</td>\n",
       "      <td>00193156-af2f-430a-9c2d-4bd8589172f0</td>\n",
       "      <td>64</td>\n",
       "      <td>2017-03-05</td>\n",
       "      <td>1</td>\n",
       "      <td>27</td>\n",
       "      <td>FUN_BUX</td>\n",
       "      <td>0</td>\n",
       "      <td>0.0</td>\n",
       "      <td>2</td>\n",
       "      <td>Chatting</td>\n",
       "      <td>0</td>\n",
       "    </tr>\n",
       "    <tr>\n",
       "      <th>11</th>\n",
       "      <td>11</td>\n",
       "      <td>00193156-af2f-430a-9c2d-4bd8589172f0</td>\n",
       "      <td>65</td>\n",
       "      <td>2017-03-06</td>\n",
       "      <td>2</td>\n",
       "      <td>10</td>\n",
       "      <td>FUN_BUX</td>\n",
       "      <td>0</td>\n",
       "      <td>0.0</td>\n",
       "      <td>2</td>\n",
       "      <td>Chatting</td>\n",
       "      <td>0</td>\n",
       "    </tr>\n",
       "    <tr>\n",
       "      <th>12</th>\n",
       "      <td>12</td>\n",
       "      <td>001969e1-e1ea-455d-87de-29e6424ba5ba</td>\n",
       "      <td>65</td>\n",
       "      <td>2017-03-06</td>\n",
       "      <td>2</td>\n",
       "      <td>450</td>\n",
       "      <td>FUN_BUX</td>\n",
       "      <td>0</td>\n",
       "      <td>0.0</td>\n",
       "      <td>1</td>\n",
       "      <td>Following</td>\n",
       "      <td>0</td>\n",
       "    </tr>\n",
       "  </tbody>\n",
       "</table>\n",
       "</div>"
      ],
      "text/plain": [
       "    index                               user_id  day_of_year       date  \\\n",
       "8       8  00193156-af2f-430a-9c2d-4bd8589172f0           60 2017-03-01   \n",
       "9       9  00193156-af2f-430a-9c2d-4bd8589172f0           61 2017-03-02   \n",
       "10     10  00193156-af2f-430a-9c2d-4bd8589172f0           64 2017-03-05   \n",
       "11     11  00193156-af2f-430a-9c2d-4bd8589172f0           65 2017-03-06   \n",
       "12     12  001969e1-e1ea-455d-87de-29e6424ba5ba           65 2017-03-06   \n",
       "\n",
       "    number_of_sessions  total_session_duration account_status  \\\n",
       "8                    5                      87        FUN_BUX   \n",
       "9                    1                      23        FUN_BUX   \n",
       "10                   1                      27        FUN_BUX   \n",
       "11                   2                      10        FUN_BUX   \n",
       "12                   2                     450        FUN_BUX   \n",
       "\n",
       "    trades_fb_commodities_open  trades_fb_commodities_profit  \\\n",
       "8                            1                           0.0   \n",
       "9                            0                           0.0   \n",
       "10                           0                           0.0   \n",
       "11                           0                           0.0   \n",
       "12                           0                           0.0   \n",
       "\n",
       "    social_status_battles social_status  conversion_to_sb  \n",
       "8                       2      Chatting                 0  \n",
       "9                       2      Chatting                 0  \n",
       "10                      2      Chatting                 0  \n",
       "11                      2      Chatting                 0  \n",
       "12                      1     Following                 0  "
      ]
     },
     "execution_count": 237,
     "metadata": {},
     "output_type": "execute_result"
    }
   ],
   "source": [
    "transactions = sample_transactions\n",
    "transactions[0:5]"
   ]
  },
  {
   "cell_type": "code",
   "execution_count": 238,
   "metadata": {
    "collapsed": false
   },
   "outputs": [
    {
     "data": {
      "text/html": [
       "<div>\n",
       "<style scoped>\n",
       "    .dataframe tbody tr th:only-of-type {\n",
       "        vertical-align: middle;\n",
       "    }\n",
       "\n",
       "    .dataframe tbody tr th {\n",
       "        vertical-align: top;\n",
       "    }\n",
       "\n",
       "    .dataframe thead th {\n",
       "        text-align: right;\n",
       "    }\n",
       "</style>\n",
       "<table border=\"1\" class=\"dataframe\">\n",
       "  <thead>\n",
       "    <tr style=\"text-align: right;\">\n",
       "      <th></th>\n",
       "      <th>user_id</th>\n",
       "      <th>curcv</th>\n",
       "    </tr>\n",
       "  </thead>\n",
       "  <tbody>\n",
       "    <tr>\n",
       "      <th>2</th>\n",
       "      <td>0c743fbc-d056-4957-9c90-d92f893defc0</td>\n",
       "      <td>0.0</td>\n",
       "    </tr>\n",
       "    <tr>\n",
       "      <th>3</th>\n",
       "      <td>cfab8dd2-d4c8-490c-9452-581acd5ebdf7</td>\n",
       "      <td>0.0</td>\n",
       "    </tr>\n",
       "    <tr>\n",
       "      <th>6</th>\n",
       "      <td>3bb4e055-9d9d-4188-a4d2-398066566bfc</td>\n",
       "      <td>0.0</td>\n",
       "    </tr>\n",
       "    <tr>\n",
       "      <th>8</th>\n",
       "      <td>b78a93e2-5b0f-4d93-bc87-2f0c2b511522</td>\n",
       "      <td>0.0</td>\n",
       "    </tr>\n",
       "    <tr>\n",
       "      <th>9</th>\n",
       "      <td>2056ee02-c98b-4503-989b-e17c1e447eff</td>\n",
       "      <td>0.0</td>\n",
       "    </tr>\n",
       "  </tbody>\n",
       "</table>\n",
       "</div>"
      ],
      "text/plain": [
       "                                user_id  curcv\n",
       "2  0c743fbc-d056-4957-9c90-d92f893defc0    0.0\n",
       "3  cfab8dd2-d4c8-490c-9452-581acd5ebdf7    0.0\n",
       "6  3bb4e055-9d9d-4188-a4d2-398066566bfc    0.0\n",
       "8  b78a93e2-5b0f-4d93-bc87-2f0c2b511522    0.0\n",
       "9  2056ee02-c98b-4503-989b-e17c1e447eff    0.0"
      ]
     },
     "execution_count": 238,
     "metadata": {},
     "output_type": "execute_result"
    }
   ],
   "source": [
    "CurCV = sample_CurCV\n",
    "CurCV.head()"
   ]
  },
  {
   "cell_type": "code",
   "execution_count": 239,
   "metadata": {
    "collapsed": true
   },
   "outputs": [],
   "source": [
    "es = ft.EntitySet(\"bux_cltv\")"
   ]
  },
  {
   "cell_type": "code",
   "execution_count": 240,
   "metadata": {
    "collapsed": false
   },
   "outputs": [
    {
     "data": {
      "text/plain": [
       "Entityset: bux_cltv\n",
       "  Entities:\n",
       "    users (shape = [30000, 14])\n",
       "  Relationships:\n",
       "    No relationships"
      ]
     },
     "execution_count": 240,
     "metadata": {},
     "output_type": "execute_result"
    }
   ],
   "source": [
    "es.entity_from_dataframe(entity_id='users',\n",
    "                        dataframe=users,\n",
    "                        index='user_id',\n",
    "                        time_index='bux_account_created_dts')"
   ]
  },
  {
   "cell_type": "code",
   "execution_count": 241,
   "metadata": {
    "collapsed": false
   },
   "outputs": [
    {
     "data": {
      "text/plain": [
       "Entityset: bux_cltv\n",
       "  Entities:\n",
       "    users (shape = [30000, 14])\n",
       "    transactions (shape = [192577, 12])\n",
       "  Relationships:\n",
       "    No relationships"
      ]
     },
     "execution_count": 241,
     "metadata": {},
     "output_type": "execute_result"
    }
   ],
   "source": [
    "es.entity_from_dataframe(entity_id='transactions',\n",
    "                        dataframe=transactions,\n",
    "                        index='index',\n",
    "                        time_index='date')"
   ]
  },
  {
   "cell_type": "code",
   "execution_count": 242,
   "metadata": {
    "collapsed": false
   },
   "outputs": [
    {
     "data": {
      "text/plain": [
       "Entityset: bux_cltv\n",
       "  Entities:\n",
       "    users (shape = [30000, 14])\n",
       "    transactions (shape = [192577, 12])\n",
       "  Relationships:\n",
       "    transactions.user_id -> users.user_id"
      ]
     },
     "execution_count": 242,
     "metadata": {},
     "output_type": "execute_result"
    }
   ],
   "source": [
    "es.add_relationship(ft.Relationship(es['users']['user_id'], es['transactions']['user_id']))"
   ]
  },
  {
   "cell_type": "markdown",
   "metadata": {
    "collapsed": true
   },
   "source": [
    "## Building labels"
   ]
  },
  {
   "cell_type": "code",
   "execution_count": 243,
   "metadata": {
    "collapsed": false
   },
   "outputs": [
    {
     "data": {
      "text/plain": [
       "2.500299999999988"
      ]
     },
     "execution_count": 243,
     "metadata": {},
     "output_type": "execute_result"
    }
   ],
   "source": [
    "# 70 euros 1 year customer value-> a user whale or not whale\n",
    "ninetynine_perc = CurCV['curcv'].quantile(0.97)\n",
    "ninetynine_perc"
   ]
  },
  {
   "cell_type": "code",
   "execution_count": 244,
   "metadata": {
    "collapsed": false
   },
   "outputs": [],
   "source": [
    "CurCV['whale'] = (CurCV['curcv'] > ninetynine_perc).astype(int)"
   ]
  },
  {
   "cell_type": "code",
   "execution_count": 245,
   "metadata": {
    "collapsed": false
   },
   "outputs": [
    {
     "data": {
      "text/plain": [
       "0    29100\n",
       "1      900\n",
       "Name: whale, dtype: int64"
      ]
     },
     "execution_count": 245,
     "metadata": {},
     "output_type": "execute_result"
    }
   ],
   "source": [
    "CurCV['whale'].value_counts()"
   ]
  },
  {
   "cell_type": "code",
   "execution_count": 246,
   "metadata": {
    "collapsed": false
   },
   "outputs": [
    {
     "data": {
      "text/plain": [
       "900"
      ]
     },
     "execution_count": 246,
     "metadata": {},
     "output_type": "execute_result"
    }
   ],
   "source": [
    "# number of whales\n",
    "whales = CurCV[CurCV['curcv'] >= ninetynine_perc]\n",
    "len(whales)"
   ]
  },
  {
   "cell_type": "code",
   "execution_count": 247,
   "metadata": {
    "collapsed": false
   },
   "outputs": [
    {
     "data": {
      "text/plain": [
       "29100"
      ]
     },
     "execution_count": 247,
     "metadata": {},
     "output_type": "execute_result"
    }
   ],
   "source": [
    "non_whales = CurCV[CurCV['curcv'] < ninetynine_perc]\n",
    "len(non_whales)"
   ]
  },
  {
   "cell_type": "code",
   "execution_count": 248,
   "metadata": {
    "collapsed": false
   },
   "outputs": [
    {
     "data": {
      "text/plain": [
       "(7.518087666666662, 0.0)"
      ]
     },
     "execution_count": 248,
     "metadata": {},
     "output_type": "execute_result"
    }
   ],
   "source": [
    "# 1y CV\n",
    "CurCV['curcv'].mean(), CurCV['curcv'].median()"
   ]
  },
  {
   "cell_type": "code",
   "execution_count": 249,
   "metadata": {
    "collapsed": false
   },
   "outputs": [
    {
     "data": {
      "text/plain": [
       "225542.63"
      ]
     },
     "execution_count": 249,
     "metadata": {},
     "output_type": "execute_result"
    }
   ],
   "source": [
    "# cohort value\n",
    "CurCV['curcv'].sum()"
   ]
  },
  {
   "cell_type": "code",
   "execution_count": 250,
   "metadata": {
    "collapsed": false
   },
   "outputs": [
    {
     "data": {
      "text/plain": [
       "39811.330000000002"
      ]
     },
     "execution_count": 250,
     "metadata": {},
     "output_type": "execute_result"
    }
   ],
   "source": [
    "# max value\n",
    "CurCV['curcv'].max()"
   ]
  },
  {
   "cell_type": "code",
   "execution_count": 251,
   "metadata": {
    "collapsed": false
   },
   "outputs": [],
   "source": [
    "# CurCV['whale'].plot(kind='bar')"
   ]
  },
  {
   "cell_type": "markdown",
   "metadata": {},
   "source": [
    "- Training window = the amount of historical data we want to use when calculating features\n",
    "- cutoff_time = the point in time to calculate the features\n",
    "\n",
    "We use cutoff times to avoid the risk of leaking labels into prediction"
   ]
  },
  {
   "cell_type": "code",
   "execution_count": 252,
   "metadata": {
    "collapsed": false
   },
   "outputs": [
    {
     "data": {
      "text/plain": [
       "(numpy.datetime64('2017-02-01T00:00:00.000000000'),\n",
       " numpy.datetime64('2017-03-22T00:00:00.000000000'))"
      ]
     },
     "execution_count": 252,
     "metadata": {},
     "output_type": "execute_result"
    }
   ],
   "source": [
    "min(transactions['date'].unique()), max(transactions['date'].unique())"
   ]
  },
  {
   "cell_type": "code",
   "execution_count": 253,
   "metadata": {
    "collapsed": false
   },
   "outputs": [
    {
     "data": {
      "text/plain": [
       "'\\n\\ncutoff_time = pd.Timestamp(\\'Feb 10, 2017\\')\\n# 1 month prediction window\\nprediction_window = ft.Timedelta(\"3 weeks\")\\n# 6 months of training data\\ntraining_window = ft.Timedelta(\"10 days\")\\n\\nprediction_window_end = cutoff_time + prediction_window\\nt_start = cutoff_time - training_window\\n\\n\\ncutoff_time = pd.Timestamp(\\'Mar 1, 2017\\')\\n# 1 month prediction window\\nprediction_window = ft.Timedelta(\"1 day\")\\n# 6 months of training data\\ntraining_window = ft.Timedelta(\"4 weeks\")\\n\\nprediction_window_end = cutoff_time + prediction_window\\nt_start = cutoff_time - training_window\\nprediction_window_end\\n\\nt_start\\ntransactions.head()\\n\\n'"
      ]
     },
     "execution_count": 253,
     "metadata": {},
     "output_type": "execute_result"
    }
   ],
   "source": [
    "\"\"\"\n",
    "\n",
    "cutoff_time = pd.Timestamp('Feb 10, 2017')\n",
    "# 1 month prediction window\n",
    "prediction_window = ft.Timedelta(\"3 weeks\")\n",
    "# 6 months of training data\n",
    "training_window = ft.Timedelta(\"10 days\")\n",
    "\n",
    "prediction_window_end = cutoff_time + prediction_window\n",
    "t_start = cutoff_time - training_window\n",
    "\n",
    "\n",
    "cutoff_time = pd.Timestamp('Mar 1, 2017')\n",
    "# 1 month prediction window\n",
    "prediction_window = ft.Timedelta(\"1 day\")\n",
    "# 6 months of training data\n",
    "training_window = ft.Timedelta(\"4 weeks\")\n",
    "\n",
    "prediction_window_end = cutoff_time + prediction_window\n",
    "t_start = cutoff_time - training_window\n",
    "prediction_window_end\n",
    "\n",
    "t_start\n",
    "transactions.head()\n",
    "\n",
    "\"\"\""
   ]
  },
  {
   "cell_type": "code",
   "execution_count": 254,
   "metadata": {
    "collapsed": false
   },
   "outputs": [
    {
     "data": {
      "text/plain": [
       "index\n",
       "3225   2017-02-01\n",
       "4387   2017-02-01\n",
       "4469   2017-02-01\n",
       "4553   2017-02-01\n",
       "5437   2017-02-01\n",
       "Name: date, dtype: datetime64[ns]"
      ]
     },
     "execution_count": 254,
     "metadata": {},
     "output_type": "execute_result"
    }
   ],
   "source": [
    "# transactions sorted by the date\n",
    "trans = es['transactions'].df\n",
    "trans['date'][0:5]"
   ]
  },
  {
   "cell_type": "code",
   "execution_count": 255,
   "metadata": {
    "collapsed": false
   },
   "outputs": [],
   "source": [
    "# # get the first launch of a user\n",
    "# # user_created = pd.DataFrame(trans.groupby('user_id')['date'].min()).reset_index()\n",
    "\n",
    "# user_last_event_last = pd.DataFrame(trans.groupby('user_id')['date'].max()).reset_index()\n",
    "# user_last_event_last = user_last_event_last['date'].max()\n",
    "# user_last_event_last"
   ]
  },
  {
   "cell_type": "code",
   "execution_count": 256,
   "metadata": {
    "collapsed": false
   },
   "outputs": [],
   "source": [
    "# cutoff_time = '2017-02-20'\n",
    "# users_in_training = user_created[user_created['date'] < cutoff_time]['user_id']\n",
    "# len(users_in_training)"
   ]
  },
  {
   "cell_type": "code",
   "execution_count": 257,
   "metadata": {
    "collapsed": false
   },
   "outputs": [],
   "source": [
    "# training_data = trans[trans['user_id'].isin(users_in_training)]\n",
    "# validation_data = trans[~trans['user_id'].isin(users_in_training)]"
   ]
  },
  {
   "cell_type": "code",
   "execution_count": 258,
   "metadata": {
    "collapsed": false
   },
   "outputs": [],
   "source": [
    "# len(training_data)"
   ]
  },
  {
   "cell_type": "code",
   "execution_count": 259,
   "metadata": {
    "collapsed": false
   },
   "outputs": [],
   "source": [
    "# len(validation_data)"
   ]
  },
  {
   "cell_type": "code",
   "execution_count": 260,
   "metadata": {
    "collapsed": false
   },
   "outputs": [],
   "source": [
    "# # the raw feature values\n",
    "# training_data = trans[(trans['date'] <= cutoff_time) & (trans['date'] > t_start)]\n",
    "# # to compute the label\n",
    "# prediction_data = trans[(trans['date'] > cutoff_time) & (trans['date'] < prediction_window_end)]"
   ]
  },
  {
   "cell_type": "code",
   "execution_count": 261,
   "metadata": {
    "collapsed": true
   },
   "outputs": [],
   "source": [
    "# users_in_training = training_data['user_id'].unique()"
   ]
  },
  {
   "cell_type": "code",
   "execution_count": 262,
   "metadata": {
    "collapsed": false
   },
   "outputs": [],
   "source": [
    "# prediction_data['user_id'].isin(users_in_training)[0:5]"
   ]
  },
  {
   "cell_type": "code",
   "execution_count": 263,
   "metadata": {
    "collapsed": false
   },
   "outputs": [],
   "source": [
    "# ~something.isin(somewhere)\n",
    "# ~prediction_data['user_id'].isin(users_in_training)[0:5]"
   ]
  },
  {
   "cell_type": "code",
   "execution_count": 264,
   "metadata": {
    "collapsed": false
   },
   "outputs": [],
   "source": [
    "# valid_pred_data = prediction_data[~prediction_data['user_id'].isin(users_in_training)]"
   ]
  },
  {
   "cell_type": "code",
   "execution_count": 265,
   "metadata": {
    "collapsed": false
   },
   "outputs": [],
   "source": [
    "# len(training_data['user_id'].unique())"
   ]
  },
  {
   "cell_type": "code",
   "execution_count": 266,
   "metadata": {
    "collapsed": false
   },
   "outputs": [],
   "source": [
    "# len(valid_pred_data['user_id'].unique())"
   ]
  },
  {
   "cell_type": "code",
   "execution_count": 267,
   "metadata": {
    "collapsed": false
   },
   "outputs": [],
   "source": [
    "# label_times = CurCV[CurCV['user_id'].isin(users_in_training)][['user_id', 'whale']]\n",
    "# label_times = label_times.merge(user_created, on ='user_id')\n",
    "# label_times['cutoff_time'] = user_last_event_last\n",
    "# # label_times['cutoff_time'] =  label_times['date'] + datetime.timedelta(weeks=3)\n",
    "# # label_times['cutoff_time'] = cutoff_time\n",
    "# label_times.head()"
   ]
  },
  {
   "cell_type": "code",
   "execution_count": 268,
   "metadata": {
    "collapsed": false
   },
   "outputs": [],
   "source": [
    "# print(\" First launch:\", transactions[transactions['user_id'] == 'a9727139-75e6-41b0-8428-6b2a7d2ff893']['date'].min(), \"\\n\" ,\n",
    "#      \"Three weeks after first launch:\" + \" 3 weeks of usage: \", transactions[transactions['user_id'] == 'a9727139-75e6-41b0-8428-6b2a7d2ff893']['date'].min() + datetime.timedelta(weeks=3))"
   ]
  },
  {
   "cell_type": "markdown",
   "metadata": {},
   "source": [
    "## Automated feature engineering"
   ]
  },
  {
   "cell_type": "code",
   "execution_count": 269,
   "metadata": {
    "collapsed": false
   },
   "outputs": [
    {
     "data": {
      "text/html": [
       "<div>\n",
       "<style scoped>\n",
       "    .dataframe tbody tr th:only-of-type {\n",
       "        vertical-align: middle;\n",
       "    }\n",
       "\n",
       "    .dataframe tbody tr th {\n",
       "        vertical-align: top;\n",
       "    }\n",
       "\n",
       "    .dataframe thead th {\n",
       "        text-align: right;\n",
       "    }\n",
       "</style>\n",
       "<table border=\"1\" class=\"dataframe\">\n",
       "  <thead>\n",
       "    <tr style=\"text-align: right;\">\n",
       "      <th></th>\n",
       "      <th>user_id</th>\n",
       "      <th>country_cd</th>\n",
       "      <th>gender</th>\n",
       "      <th>nationality</th>\n",
       "      <th>platform_type_name</th>\n",
       "      <th>trading_experience</th>\n",
       "      <th>title</th>\n",
       "      <th>network</th>\n",
       "      <th>bux_account_created_dts</th>\n",
       "      <th>account_type</th>\n",
       "      <th>ams_first_funded_dts</th>\n",
       "      <th>initial_deposit_amount</th>\n",
       "      <th>sum_deposits</th>\n",
       "      <th>cnt_deposits</th>\n",
       "    </tr>\n",
       "    <tr>\n",
       "      <th>user_id</th>\n",
       "      <th></th>\n",
       "      <th></th>\n",
       "      <th></th>\n",
       "      <th></th>\n",
       "      <th></th>\n",
       "      <th></th>\n",
       "      <th></th>\n",
       "      <th></th>\n",
       "      <th></th>\n",
       "      <th></th>\n",
       "      <th></th>\n",
       "      <th></th>\n",
       "      <th></th>\n",
       "      <th></th>\n",
       "    </tr>\n",
       "  </thead>\n",
       "  <tbody>\n",
       "    <tr>\n",
       "      <th>65c8c310-d0f9-4e38-bc56-5228c8290755</th>\n",
       "      <td>65c8c310-d0f9-4e38-bc56-5228c8290755</td>\n",
       "      <td>DE</td>\n",
       "      <td>NaN</td>\n",
       "      <td>NaN</td>\n",
       "      <td>Android</td>\n",
       "      <td>NONE</td>\n",
       "      <td>Rookie Trader</td>\n",
       "      <td>Viral Invites</td>\n",
       "      <td>2017-02-01 00:02:28.610</td>\n",
       "      <td>FUN_BUX</td>\n",
       "      <td>NaT</td>\n",
       "      <td>NaN</td>\n",
       "      <td>NaN</td>\n",
       "      <td>NaN</td>\n",
       "    </tr>\n",
       "    <tr>\n",
       "      <th>72fda13b-6385-42e3-8607-e9df7d877b66</th>\n",
       "      <td>72fda13b-6385-42e3-8607-e9df7d877b66</td>\n",
       "      <td>DE</td>\n",
       "      <td>NaN</td>\n",
       "      <td>NaN</td>\n",
       "      <td>Android</td>\n",
       "      <td>NONE</td>\n",
       "      <td>Rookie Trader</td>\n",
       "      <td>Organic</td>\n",
       "      <td>2017-02-01 00:03:06.424</td>\n",
       "      <td>FUN_BUX</td>\n",
       "      <td>NaT</td>\n",
       "      <td>NaN</td>\n",
       "      <td>NaN</td>\n",
       "      <td>NaN</td>\n",
       "    </tr>\n",
       "    <tr>\n",
       "      <th>f47e9b1b-0778-4809-98ff-008ad8df347a</th>\n",
       "      <td>f47e9b1b-0778-4809-98ff-008ad8df347a</td>\n",
       "      <td>DE</td>\n",
       "      <td>NaN</td>\n",
       "      <td>NaN</td>\n",
       "      <td>Android</td>\n",
       "      <td>NONE</td>\n",
       "      <td>Rookie Trader</td>\n",
       "      <td>Facebook Installs</td>\n",
       "      <td>2017-02-01 00:04:30.705</td>\n",
       "      <td>FUN_BUX</td>\n",
       "      <td>NaT</td>\n",
       "      <td>NaN</td>\n",
       "      <td>NaN</td>\n",
       "      <td>NaN</td>\n",
       "    </tr>\n",
       "    <tr>\n",
       "      <th>1c4c7025-5ca7-445d-ad9d-22fd397944e3</th>\n",
       "      <td>1c4c7025-5ca7-445d-ad9d-22fd397944e3</td>\n",
       "      <td>DE</td>\n",
       "      <td>NaN</td>\n",
       "      <td>NaN</td>\n",
       "      <td>Android</td>\n",
       "      <td>NONE</td>\n",
       "      <td>Rookie Trader</td>\n",
       "      <td>Viral Invites</td>\n",
       "      <td>2017-02-01 00:05:25.479</td>\n",
       "      <td>FUN_BUX</td>\n",
       "      <td>NaT</td>\n",
       "      <td>NaN</td>\n",
       "      <td>NaN</td>\n",
       "      <td>NaN</td>\n",
       "    </tr>\n",
       "    <tr>\n",
       "      <th>390f4493-89f7-46aa-b717-49ac81f630f7</th>\n",
       "      <td>390f4493-89f7-46aa-b717-49ac81f630f7</td>\n",
       "      <td>DE</td>\n",
       "      <td>NaN</td>\n",
       "      <td>NaN</td>\n",
       "      <td>iOS</td>\n",
       "      <td>NONE</td>\n",
       "      <td>Rookie Trader</td>\n",
       "      <td>Viral Invites</td>\n",
       "      <td>2017-02-01 00:05:26.389</td>\n",
       "      <td>FUN_BUX</td>\n",
       "      <td>NaT</td>\n",
       "      <td>NaN</td>\n",
       "      <td>NaN</td>\n",
       "      <td>NaN</td>\n",
       "    </tr>\n",
       "    <tr>\n",
       "      <th>80505c8e-2f64-4f79-bf3e-72e5acf86986</th>\n",
       "      <td>80505c8e-2f64-4f79-bf3e-72e5acf86986</td>\n",
       "      <td>DE</td>\n",
       "      <td>NaN</td>\n",
       "      <td>NaN</td>\n",
       "      <td>iOS</td>\n",
       "      <td>NONE</td>\n",
       "      <td>Rookie Trader</td>\n",
       "      <td>Organic</td>\n",
       "      <td>2017-02-01 00:05:36.067</td>\n",
       "      <td>FUN_BUX</td>\n",
       "      <td>NaT</td>\n",
       "      <td>NaN</td>\n",
       "      <td>NaN</td>\n",
       "      <td>NaN</td>\n",
       "    </tr>\n",
       "    <tr>\n",
       "      <th>1322c37f-b82e-475c-971c-12166b50ff5d</th>\n",
       "      <td>1322c37f-b82e-475c-971c-12166b50ff5d</td>\n",
       "      <td>DE</td>\n",
       "      <td>NaN</td>\n",
       "      <td>NaN</td>\n",
       "      <td>iOS</td>\n",
       "      <td>NONE</td>\n",
       "      <td>Rookie Trader</td>\n",
       "      <td>Facebook Installs</td>\n",
       "      <td>2017-02-01 00:05:45.406</td>\n",
       "      <td>FUN_BUX</td>\n",
       "      <td>NaT</td>\n",
       "      <td>NaN</td>\n",
       "      <td>NaN</td>\n",
       "      <td>NaN</td>\n",
       "    </tr>\n",
       "    <tr>\n",
       "      <th>1f84ae24-a906-4eef-a6b4-141c268ec727</th>\n",
       "      <td>1f84ae24-a906-4eef-a6b4-141c268ec727</td>\n",
       "      <td>DE</td>\n",
       "      <td>NaN</td>\n",
       "      <td>NaN</td>\n",
       "      <td>Android</td>\n",
       "      <td>NONE</td>\n",
       "      <td>Rookie Trader</td>\n",
       "      <td>Organic</td>\n",
       "      <td>2017-02-01 00:06:14.630</td>\n",
       "      <td>FUN_BUX</td>\n",
       "      <td>NaT</td>\n",
       "      <td>NaN</td>\n",
       "      <td>NaN</td>\n",
       "      <td>NaN</td>\n",
       "    </tr>\n",
       "    <tr>\n",
       "      <th>9a06ddd4-14be-475e-a0e5-a5dd185ecf66</th>\n",
       "      <td>9a06ddd4-14be-475e-a0e5-a5dd185ecf66</td>\n",
       "      <td>DK</td>\n",
       "      <td>MALE</td>\n",
       "      <td>DK</td>\n",
       "      <td>iOS</td>\n",
       "      <td>NONE</td>\n",
       "      <td>Rookie Trader</td>\n",
       "      <td>Facebook Installs</td>\n",
       "      <td>2017-02-01 00:06:32.373</td>\n",
       "      <td>FUN_BUX</td>\n",
       "      <td>NaT</td>\n",
       "      <td>NaN</td>\n",
       "      <td>NaN</td>\n",
       "      <td>NaN</td>\n",
       "    </tr>\n",
       "    <tr>\n",
       "      <th>21e6fc72-cab3-401f-a520-339e2442baf0</th>\n",
       "      <td>21e6fc72-cab3-401f-a520-339e2442baf0</td>\n",
       "      <td>DE</td>\n",
       "      <td>NaN</td>\n",
       "      <td>NaN</td>\n",
       "      <td>iOS</td>\n",
       "      <td>NONE</td>\n",
       "      <td>Rookie Trader</td>\n",
       "      <td>TV</td>\n",
       "      <td>2017-02-01 00:08:03.528</td>\n",
       "      <td>FUN_BUX</td>\n",
       "      <td>NaT</td>\n",
       "      <td>NaN</td>\n",
       "      <td>NaN</td>\n",
       "      <td>NaN</td>\n",
       "    </tr>\n",
       "  </tbody>\n",
       "</table>\n",
       "</div>"
      ],
      "text/plain": [
       "                                                                   user_id  \\\n",
       "user_id                                                                      \n",
       "65c8c310-d0f9-4e38-bc56-5228c8290755  65c8c310-d0f9-4e38-bc56-5228c8290755   \n",
       "72fda13b-6385-42e3-8607-e9df7d877b66  72fda13b-6385-42e3-8607-e9df7d877b66   \n",
       "f47e9b1b-0778-4809-98ff-008ad8df347a  f47e9b1b-0778-4809-98ff-008ad8df347a   \n",
       "1c4c7025-5ca7-445d-ad9d-22fd397944e3  1c4c7025-5ca7-445d-ad9d-22fd397944e3   \n",
       "390f4493-89f7-46aa-b717-49ac81f630f7  390f4493-89f7-46aa-b717-49ac81f630f7   \n",
       "80505c8e-2f64-4f79-bf3e-72e5acf86986  80505c8e-2f64-4f79-bf3e-72e5acf86986   \n",
       "1322c37f-b82e-475c-971c-12166b50ff5d  1322c37f-b82e-475c-971c-12166b50ff5d   \n",
       "1f84ae24-a906-4eef-a6b4-141c268ec727  1f84ae24-a906-4eef-a6b4-141c268ec727   \n",
       "9a06ddd4-14be-475e-a0e5-a5dd185ecf66  9a06ddd4-14be-475e-a0e5-a5dd185ecf66   \n",
       "21e6fc72-cab3-401f-a520-339e2442baf0  21e6fc72-cab3-401f-a520-339e2442baf0   \n",
       "\n",
       "                                     country_cd gender nationality  \\\n",
       "user_id                                                              \n",
       "65c8c310-d0f9-4e38-bc56-5228c8290755         DE    NaN         NaN   \n",
       "72fda13b-6385-42e3-8607-e9df7d877b66         DE    NaN         NaN   \n",
       "f47e9b1b-0778-4809-98ff-008ad8df347a         DE    NaN         NaN   \n",
       "1c4c7025-5ca7-445d-ad9d-22fd397944e3         DE    NaN         NaN   \n",
       "390f4493-89f7-46aa-b717-49ac81f630f7         DE    NaN         NaN   \n",
       "80505c8e-2f64-4f79-bf3e-72e5acf86986         DE    NaN         NaN   \n",
       "1322c37f-b82e-475c-971c-12166b50ff5d         DE    NaN         NaN   \n",
       "1f84ae24-a906-4eef-a6b4-141c268ec727         DE    NaN         NaN   \n",
       "9a06ddd4-14be-475e-a0e5-a5dd185ecf66         DK   MALE          DK   \n",
       "21e6fc72-cab3-401f-a520-339e2442baf0         DE    NaN         NaN   \n",
       "\n",
       "                                     platform_type_name trading_experience  \\\n",
       "user_id                                                                      \n",
       "65c8c310-d0f9-4e38-bc56-5228c8290755            Android               NONE   \n",
       "72fda13b-6385-42e3-8607-e9df7d877b66            Android               NONE   \n",
       "f47e9b1b-0778-4809-98ff-008ad8df347a            Android               NONE   \n",
       "1c4c7025-5ca7-445d-ad9d-22fd397944e3            Android               NONE   \n",
       "390f4493-89f7-46aa-b717-49ac81f630f7                iOS               NONE   \n",
       "80505c8e-2f64-4f79-bf3e-72e5acf86986                iOS               NONE   \n",
       "1322c37f-b82e-475c-971c-12166b50ff5d                iOS               NONE   \n",
       "1f84ae24-a906-4eef-a6b4-141c268ec727            Android               NONE   \n",
       "9a06ddd4-14be-475e-a0e5-a5dd185ecf66                iOS               NONE   \n",
       "21e6fc72-cab3-401f-a520-339e2442baf0                iOS               NONE   \n",
       "\n",
       "                                              title            network  \\\n",
       "user_id                                                                  \n",
       "65c8c310-d0f9-4e38-bc56-5228c8290755  Rookie Trader      Viral Invites   \n",
       "72fda13b-6385-42e3-8607-e9df7d877b66  Rookie Trader            Organic   \n",
       "f47e9b1b-0778-4809-98ff-008ad8df347a  Rookie Trader  Facebook Installs   \n",
       "1c4c7025-5ca7-445d-ad9d-22fd397944e3  Rookie Trader      Viral Invites   \n",
       "390f4493-89f7-46aa-b717-49ac81f630f7  Rookie Trader      Viral Invites   \n",
       "80505c8e-2f64-4f79-bf3e-72e5acf86986  Rookie Trader            Organic   \n",
       "1322c37f-b82e-475c-971c-12166b50ff5d  Rookie Trader  Facebook Installs   \n",
       "1f84ae24-a906-4eef-a6b4-141c268ec727  Rookie Trader            Organic   \n",
       "9a06ddd4-14be-475e-a0e5-a5dd185ecf66  Rookie Trader  Facebook Installs   \n",
       "21e6fc72-cab3-401f-a520-339e2442baf0  Rookie Trader                 TV   \n",
       "\n",
       "                                     bux_account_created_dts account_type  \\\n",
       "user_id                                                                     \n",
       "65c8c310-d0f9-4e38-bc56-5228c8290755 2017-02-01 00:02:28.610      FUN_BUX   \n",
       "72fda13b-6385-42e3-8607-e9df7d877b66 2017-02-01 00:03:06.424      FUN_BUX   \n",
       "f47e9b1b-0778-4809-98ff-008ad8df347a 2017-02-01 00:04:30.705      FUN_BUX   \n",
       "1c4c7025-5ca7-445d-ad9d-22fd397944e3 2017-02-01 00:05:25.479      FUN_BUX   \n",
       "390f4493-89f7-46aa-b717-49ac81f630f7 2017-02-01 00:05:26.389      FUN_BUX   \n",
       "80505c8e-2f64-4f79-bf3e-72e5acf86986 2017-02-01 00:05:36.067      FUN_BUX   \n",
       "1322c37f-b82e-475c-971c-12166b50ff5d 2017-02-01 00:05:45.406      FUN_BUX   \n",
       "1f84ae24-a906-4eef-a6b4-141c268ec727 2017-02-01 00:06:14.630      FUN_BUX   \n",
       "9a06ddd4-14be-475e-a0e5-a5dd185ecf66 2017-02-01 00:06:32.373      FUN_BUX   \n",
       "21e6fc72-cab3-401f-a520-339e2442baf0 2017-02-01 00:08:03.528      FUN_BUX   \n",
       "\n",
       "                                     ams_first_funded_dts  \\\n",
       "user_id                                                     \n",
       "65c8c310-d0f9-4e38-bc56-5228c8290755                  NaT   \n",
       "72fda13b-6385-42e3-8607-e9df7d877b66                  NaT   \n",
       "f47e9b1b-0778-4809-98ff-008ad8df347a                  NaT   \n",
       "1c4c7025-5ca7-445d-ad9d-22fd397944e3                  NaT   \n",
       "390f4493-89f7-46aa-b717-49ac81f630f7                  NaT   \n",
       "80505c8e-2f64-4f79-bf3e-72e5acf86986                  NaT   \n",
       "1322c37f-b82e-475c-971c-12166b50ff5d                  NaT   \n",
       "1f84ae24-a906-4eef-a6b4-141c268ec727                  NaT   \n",
       "9a06ddd4-14be-475e-a0e5-a5dd185ecf66                  NaT   \n",
       "21e6fc72-cab3-401f-a520-339e2442baf0                  NaT   \n",
       "\n",
       "                                      initial_deposit_amount  sum_deposits  \\\n",
       "user_id                                                                      \n",
       "65c8c310-d0f9-4e38-bc56-5228c8290755                     NaN           NaN   \n",
       "72fda13b-6385-42e3-8607-e9df7d877b66                     NaN           NaN   \n",
       "f47e9b1b-0778-4809-98ff-008ad8df347a                     NaN           NaN   \n",
       "1c4c7025-5ca7-445d-ad9d-22fd397944e3                     NaN           NaN   \n",
       "390f4493-89f7-46aa-b717-49ac81f630f7                     NaN           NaN   \n",
       "80505c8e-2f64-4f79-bf3e-72e5acf86986                     NaN           NaN   \n",
       "1322c37f-b82e-475c-971c-12166b50ff5d                     NaN           NaN   \n",
       "1f84ae24-a906-4eef-a6b4-141c268ec727                     NaN           NaN   \n",
       "9a06ddd4-14be-475e-a0e5-a5dd185ecf66                     NaN           NaN   \n",
       "21e6fc72-cab3-401f-a520-339e2442baf0                     NaN           NaN   \n",
       "\n",
       "                                      cnt_deposits  \n",
       "user_id                                             \n",
       "65c8c310-d0f9-4e38-bc56-5228c8290755           NaN  \n",
       "72fda13b-6385-42e3-8607-e9df7d877b66           NaN  \n",
       "f47e9b1b-0778-4809-98ff-008ad8df347a           NaN  \n",
       "1c4c7025-5ca7-445d-ad9d-22fd397944e3           NaN  \n",
       "390f4493-89f7-46aa-b717-49ac81f630f7           NaN  \n",
       "80505c8e-2f64-4f79-bf3e-72e5acf86986           NaN  \n",
       "1322c37f-b82e-475c-971c-12166b50ff5d           NaN  \n",
       "1f84ae24-a906-4eef-a6b4-141c268ec727           NaN  \n",
       "9a06ddd4-14be-475e-a0e5-a5dd185ecf66           NaN  \n",
       "21e6fc72-cab3-401f-a520-339e2442baf0           NaN  "
      ]
     },
     "execution_count": 269,
     "metadata": {},
     "output_type": "execute_result"
    }
   ],
   "source": [
    "es['users'].head()"
   ]
  },
  {
   "cell_type": "code",
   "execution_count": 270,
   "metadata": {
    "collapsed": false
   },
   "outputs": [
    {
     "data": {
      "text/html": [
       "<div>\n",
       "<style scoped>\n",
       "    .dataframe tbody tr th:only-of-type {\n",
       "        vertical-align: middle;\n",
       "    }\n",
       "\n",
       "    .dataframe tbody tr th {\n",
       "        vertical-align: top;\n",
       "    }\n",
       "\n",
       "    .dataframe thead th {\n",
       "        text-align: right;\n",
       "    }\n",
       "</style>\n",
       "<table border=\"1\" class=\"dataframe\">\n",
       "  <thead>\n",
       "    <tr style=\"text-align: right;\">\n",
       "      <th></th>\n",
       "      <th>index</th>\n",
       "      <th>user_id</th>\n",
       "      <th>day_of_year</th>\n",
       "      <th>date</th>\n",
       "      <th>number_of_sessions</th>\n",
       "      <th>total_session_duration</th>\n",
       "      <th>account_status</th>\n",
       "      <th>trades_fb_commodities_open</th>\n",
       "      <th>trades_fb_commodities_profit</th>\n",
       "      <th>social_status_battles</th>\n",
       "      <th>social_status</th>\n",
       "      <th>conversion_to_sb</th>\n",
       "    </tr>\n",
       "    <tr>\n",
       "      <th>index</th>\n",
       "      <th></th>\n",
       "      <th></th>\n",
       "      <th></th>\n",
       "      <th></th>\n",
       "      <th></th>\n",
       "      <th></th>\n",
       "      <th></th>\n",
       "      <th></th>\n",
       "      <th></th>\n",
       "      <th></th>\n",
       "      <th></th>\n",
       "      <th></th>\n",
       "    </tr>\n",
       "  </thead>\n",
       "  <tbody>\n",
       "    <tr>\n",
       "      <th>3225</th>\n",
       "      <td>3225</td>\n",
       "      <td>01060844-879c-41a4-bb11-368521a50a3d</td>\n",
       "      <td>32</td>\n",
       "      <td>2017-02-01</td>\n",
       "      <td>2</td>\n",
       "      <td>666</td>\n",
       "      <td>FUN_BUX</td>\n",
       "      <td>0</td>\n",
       "      <td>0.00</td>\n",
       "      <td>0</td>\n",
       "      <td>Following</td>\n",
       "      <td>0</td>\n",
       "    </tr>\n",
       "    <tr>\n",
       "      <th>4387</th>\n",
       "      <td>4387</td>\n",
       "      <td>0176657e-73d7-490d-9c0e-09983ecce3bd</td>\n",
       "      <td>32</td>\n",
       "      <td>2017-02-01</td>\n",
       "      <td>13</td>\n",
       "      <td>2142</td>\n",
       "      <td>FUN_BUX</td>\n",
       "      <td>0</td>\n",
       "      <td>0.00</td>\n",
       "      <td>0</td>\n",
       "      <td>Following</td>\n",
       "      <td>0</td>\n",
       "    </tr>\n",
       "    <tr>\n",
       "      <th>4469</th>\n",
       "      <td>4469</td>\n",
       "      <td>01d9b716-4f45-4696-9b6d-0bc2b501ddf9</td>\n",
       "      <td>32</td>\n",
       "      <td>2017-02-01</td>\n",
       "      <td>2</td>\n",
       "      <td>115</td>\n",
       "      <td>FUN_BUX</td>\n",
       "      <td>0</td>\n",
       "      <td>0.00</td>\n",
       "      <td>0</td>\n",
       "      <td>Non-Social</td>\n",
       "      <td>0</td>\n",
       "    </tr>\n",
       "    <tr>\n",
       "      <th>4553</th>\n",
       "      <td>4553</td>\n",
       "      <td>0211f774-2934-4777-8e58-ab159acb74d9</td>\n",
       "      <td>32</td>\n",
       "      <td>2017-02-01</td>\n",
       "      <td>1</td>\n",
       "      <td>337</td>\n",
       "      <td>FUN_BUX</td>\n",
       "      <td>0</td>\n",
       "      <td>0.00</td>\n",
       "      <td>0</td>\n",
       "      <td>Non-Social</td>\n",
       "      <td>0</td>\n",
       "    </tr>\n",
       "    <tr>\n",
       "      <th>5437</th>\n",
       "      <td>5437</td>\n",
       "      <td>0056c5ce-7e6b-437f-ab2f-1f5d24874734</td>\n",
       "      <td>32</td>\n",
       "      <td>2017-02-01</td>\n",
       "      <td>26</td>\n",
       "      <td>2626</td>\n",
       "      <td>FUN_BUX</td>\n",
       "      <td>1</td>\n",
       "      <td>13.20</td>\n",
       "      <td>0</td>\n",
       "      <td>Non-Social</td>\n",
       "      <td>0</td>\n",
       "    </tr>\n",
       "    <tr>\n",
       "      <th>5582</th>\n",
       "      <td>5582</td>\n",
       "      <td>00eceec7-aaff-4c8c-af0e-1fee08f24b7c</td>\n",
       "      <td>32</td>\n",
       "      <td>2017-02-01</td>\n",
       "      <td>2</td>\n",
       "      <td>348</td>\n",
       "      <td>FUN_BUX</td>\n",
       "      <td>0</td>\n",
       "      <td>0.00</td>\n",
       "      <td>0</td>\n",
       "      <td>Non-Social</td>\n",
       "      <td>0</td>\n",
       "    </tr>\n",
       "    <tr>\n",
       "      <th>5609</th>\n",
       "      <td>5609</td>\n",
       "      <td>010e236f-8ab5-4681-a146-273531d19d54</td>\n",
       "      <td>32</td>\n",
       "      <td>2017-02-01</td>\n",
       "      <td>14</td>\n",
       "      <td>740</td>\n",
       "      <td>FUN_BUX</td>\n",
       "      <td>1</td>\n",
       "      <td>0.54</td>\n",
       "      <td>0</td>\n",
       "      <td>Non-Social</td>\n",
       "      <td>0</td>\n",
       "    </tr>\n",
       "    <tr>\n",
       "      <th>5641</th>\n",
       "      <td>5641</td>\n",
       "      <td>0129a588-e011-4fe5-907e-6d5f6629b7e1</td>\n",
       "      <td>32</td>\n",
       "      <td>2017-02-01</td>\n",
       "      <td>4</td>\n",
       "      <td>1393</td>\n",
       "      <td>FUN_BUX</td>\n",
       "      <td>0</td>\n",
       "      <td>0.00</td>\n",
       "      <td>1</td>\n",
       "      <td>Following</td>\n",
       "      <td>0</td>\n",
       "    </tr>\n",
       "    <tr>\n",
       "      <th>6686</th>\n",
       "      <td>6686</td>\n",
       "      <td>01fc6d47-cc88-433d-ad49-fce76379ea6b</td>\n",
       "      <td>32</td>\n",
       "      <td>2017-02-01</td>\n",
       "      <td>1</td>\n",
       "      <td>50</td>\n",
       "      <td>FUN_BUX</td>\n",
       "      <td>0</td>\n",
       "      <td>0.00</td>\n",
       "      <td>0</td>\n",
       "      <td>Non-Social</td>\n",
       "      <td>0</td>\n",
       "    </tr>\n",
       "    <tr>\n",
       "      <th>6735</th>\n",
       "      <td>6735</td>\n",
       "      <td>024f7304-3df5-466a-a97f-c63584fb4a13</td>\n",
       "      <td>32</td>\n",
       "      <td>2017-02-01</td>\n",
       "      <td>1</td>\n",
       "      <td>163</td>\n",
       "      <td>FUN_BUX</td>\n",
       "      <td>0</td>\n",
       "      <td>0.00</td>\n",
       "      <td>0</td>\n",
       "      <td>Non-Social</td>\n",
       "      <td>0</td>\n",
       "    </tr>\n",
       "  </tbody>\n",
       "</table>\n",
       "</div>"
      ],
      "text/plain": [
       "       index                               user_id  day_of_year       date  \\\n",
       "index                                                                        \n",
       "3225    3225  01060844-879c-41a4-bb11-368521a50a3d           32 2017-02-01   \n",
       "4387    4387  0176657e-73d7-490d-9c0e-09983ecce3bd           32 2017-02-01   \n",
       "4469    4469  01d9b716-4f45-4696-9b6d-0bc2b501ddf9           32 2017-02-01   \n",
       "4553    4553  0211f774-2934-4777-8e58-ab159acb74d9           32 2017-02-01   \n",
       "5437    5437  0056c5ce-7e6b-437f-ab2f-1f5d24874734           32 2017-02-01   \n",
       "5582    5582  00eceec7-aaff-4c8c-af0e-1fee08f24b7c           32 2017-02-01   \n",
       "5609    5609  010e236f-8ab5-4681-a146-273531d19d54           32 2017-02-01   \n",
       "5641    5641  0129a588-e011-4fe5-907e-6d5f6629b7e1           32 2017-02-01   \n",
       "6686    6686  01fc6d47-cc88-433d-ad49-fce76379ea6b           32 2017-02-01   \n",
       "6735    6735  024f7304-3df5-466a-a97f-c63584fb4a13           32 2017-02-01   \n",
       "\n",
       "       number_of_sessions  total_session_duration account_status  \\\n",
       "index                                                              \n",
       "3225                    2                     666        FUN_BUX   \n",
       "4387                   13                    2142        FUN_BUX   \n",
       "4469                    2                     115        FUN_BUX   \n",
       "4553                    1                     337        FUN_BUX   \n",
       "5437                   26                    2626        FUN_BUX   \n",
       "5582                    2                     348        FUN_BUX   \n",
       "5609                   14                     740        FUN_BUX   \n",
       "5641                    4                    1393        FUN_BUX   \n",
       "6686                    1                      50        FUN_BUX   \n",
       "6735                    1                     163        FUN_BUX   \n",
       "\n",
       "       trades_fb_commodities_open  trades_fb_commodities_profit  \\\n",
       "index                                                             \n",
       "3225                            0                          0.00   \n",
       "4387                            0                          0.00   \n",
       "4469                            0                          0.00   \n",
       "4553                            0                          0.00   \n",
       "5437                            1                         13.20   \n",
       "5582                            0                          0.00   \n",
       "5609                            1                          0.54   \n",
       "5641                            0                          0.00   \n",
       "6686                            0                          0.00   \n",
       "6735                            0                          0.00   \n",
       "\n",
       "       social_status_battles social_status  conversion_to_sb  \n",
       "index                                                         \n",
       "3225                       0     Following                 0  \n",
       "4387                       0     Following                 0  \n",
       "4469                       0    Non-Social                 0  \n",
       "4553                       0    Non-Social                 0  \n",
       "5437                       0    Non-Social                 0  \n",
       "5582                       0    Non-Social                 0  \n",
       "5609                       0    Non-Social                 0  \n",
       "5641                       1     Following                 0  \n",
       "6686                       0    Non-Social                 0  \n",
       "6735                       0    Non-Social                 0  "
      ]
     },
     "execution_count": 270,
     "metadata": {},
     "output_type": "execute_result"
    }
   ],
   "source": [
    "es['transactions'].head()"
   ]
  },
  {
   "cell_type": "code",
   "execution_count": 271,
   "metadata": {
    "collapsed": true
   },
   "outputs": [],
   "source": [
    "from dask import bag\n",
    "from dask.diagnostics import ProgressBar"
   ]
  },
  {
   "cell_type": "code",
   "execution_count": 272,
   "metadata": {
    "collapsed": false
   },
   "outputs": [],
   "source": [
    "# %%time\n",
    "\n",
    "# from featuretools.primitives import (Sum, Std, Max, Min, Mean,\n",
    "#                                      Count, PercentTrue, NUnique, \n",
    "#                                      Mode, Trend, Skew)\n",
    "\n",
    "\n",
    "# agg_primitives = [Sum, Std, Max, Min, Mean, \n",
    "#                   Count, PercentTrue, NUnique, \n",
    "#                   Mode, Trend, Skew]\n",
    "\n",
    "# feature_matrix, features = ft.dfs(\n",
    "#     entityset=es,\n",
    "#     target_entity=\"users\",\n",
    "#     trans_primitives=[],\n",
    "#     agg_primitives=agg_primitives,\n",
    "#     max_depth=3,\n",
    "#     # cutoff_time=cutoff_times,\n",
    "#     verbose=True\n",
    "# )\n",
    "\n",
    "# print(\"{} features generated\".format(len(features)))"
   ]
  },
  {
   "cell_type": "code",
   "execution_count": 273,
   "metadata": {
    "collapsed": false
   },
   "outputs": [],
   "source": [
    "# %%time\n",
    "\n",
    "# from featuretools.primitives import (Sum, Std, Max, Min, Mean,\n",
    "#                                      Count, PercentTrue, NUnique, \n",
    "#                                      Mode, Trend, Skew)\n",
    "\n",
    "\n",
    "# agg_primitives = [Sum, Std, Max, Min, Mean, \n",
    "#                   Count, PercentTrue, NUnique, \n",
    "#                   Mode]\n",
    "\n",
    "# feature_matrix, features = ft.dfs(\n",
    "#     entityset=es,\n",
    "#     target_entity=\"users\",\n",
    "#     trans_primitives=[],\n",
    "#     agg_primitives=agg_primitives,\n",
    "#     max_depth=3,\n",
    "#     # cutoff_time=cutoff_times,\n",
    "#     verbose=True\n",
    "# )\n",
    "\n",
    "# print(\"{} features generated\".format(len(features)))"
   ]
  },
  {
   "cell_type": "code",
   "execution_count": 274,
   "metadata": {
    "collapsed": false
   },
   "outputs": [
    {
     "name": "stdout",
     "output_type": "stream",
     "text": [
      "Building features: 66it [00:00, 2597.53it/s]\n",
      "Progress: 100%|██████████| 1/1 [07:15<00:00, 435.86s/cutoff time]\n",
      "51 features generated\n",
      "CPU times: user 7min 13s, sys: 1.59 s, total: 7min 15s\n",
      "Wall time: 7min 16s\n"
     ]
    }
   ],
   "source": [
    "%%time\n",
    "\n",
    "from featuretools.primitives import (Sum, Std, Max, Min, Mean,\n",
    "                                     Count, PercentTrue, NUnique, \n",
    "                                     Mode, Trend, Skew)\n",
    "\n",
    "\n",
    "agg_primitives = [Sum, Std, Max, Min, Mean, \n",
    "                  Count, PercentTrue, NUnique, \n",
    "                  Mode]\n",
    "\n",
    "feature_matrix, features = ft.dfs(\n",
    "    entityset=es,\n",
    "    target_entity=\"users\",\n",
    "    trans_primitives=[],\n",
    "    agg_primitives=agg_primitives,\n",
    "    max_depth=2,\n",
    "    # cutoff_time=cutoff_times,\n",
    "    verbose=True\n",
    ")\n",
    "\n",
    "print(\"{} features generated\".format(len(features)))"
   ]
  },
  {
   "cell_type": "code",
   "execution_count": 275,
   "metadata": {
    "collapsed": false
   },
   "outputs": [
    {
     "name": "stdout",
     "output_type": "stream",
     "text": [
      "Number of features 95\n"
     ]
    },
    {
     "data": {
      "text/html": [
       "<div>\n",
       "<style scoped>\n",
       "    .dataframe tbody tr th:only-of-type {\n",
       "        vertical-align: middle;\n",
       "    }\n",
       "\n",
       "    .dataframe tbody tr th {\n",
       "        vertical-align: top;\n",
       "    }\n",
       "\n",
       "    .dataframe thead th {\n",
       "        text-align: right;\n",
       "    }\n",
       "</style>\n",
       "<table border=\"1\" class=\"dataframe\">\n",
       "  <thead>\n",
       "    <tr style=\"text-align: right;\">\n",
       "      <th></th>\n",
       "      <th>network = Facebook Installs</th>\n",
       "      <th>network = Organic</th>\n",
       "      <th>network = Viral Invites</th>\n",
       "      <th>network = TV</th>\n",
       "      <th>network = Google Adwords Search</th>\n",
       "      <th>network = Instagram Installs</th>\n",
       "      <th>network = Appnext</th>\n",
       "      <th>network = BUX Website</th>\n",
       "      <th>network = AdColony</th>\n",
       "      <th>network = Finanzen.net</th>\n",
       "      <th>...</th>\n",
       "      <th>MIN(transactions.number_of_sessions)</th>\n",
       "      <th>STD(transactions.conversion_to_sb)</th>\n",
       "      <th>COUNT(transactions)</th>\n",
       "      <th>NUM_UNIQUE(transactions.account_status)</th>\n",
       "      <th>MAX(transactions.conversion_to_sb)</th>\n",
       "      <th>STD(transactions.day_of_year)</th>\n",
       "      <th>MIN(transactions.total_session_duration)</th>\n",
       "      <th>MEAN(transactions.number_of_sessions)</th>\n",
       "      <th>SUM(transactions.trades_fb_commodities_open)</th>\n",
       "      <th>MIN(transactions.trades_fb_commodities_open)</th>\n",
       "    </tr>\n",
       "    <tr>\n",
       "      <th>user_id</th>\n",
       "      <th></th>\n",
       "      <th></th>\n",
       "      <th></th>\n",
       "      <th></th>\n",
       "      <th></th>\n",
       "      <th></th>\n",
       "      <th></th>\n",
       "      <th></th>\n",
       "      <th></th>\n",
       "      <th></th>\n",
       "      <th></th>\n",
       "      <th></th>\n",
       "      <th></th>\n",
       "      <th></th>\n",
       "      <th></th>\n",
       "      <th></th>\n",
       "      <th></th>\n",
       "      <th></th>\n",
       "      <th></th>\n",
       "      <th></th>\n",
       "      <th></th>\n",
       "    </tr>\n",
       "  </thead>\n",
       "  <tbody>\n",
       "    <tr>\n",
       "      <th>0000c78d-d1ba-4758-8b0d-8503058aaa4e</th>\n",
       "      <td>1</td>\n",
       "      <td>0</td>\n",
       "      <td>0</td>\n",
       "      <td>0</td>\n",
       "      <td>0</td>\n",
       "      <td>0</td>\n",
       "      <td>0</td>\n",
       "      <td>0</td>\n",
       "      <td>0</td>\n",
       "      <td>0</td>\n",
       "      <td>...</td>\n",
       "      <td>1.0</td>\n",
       "      <td>0.0</td>\n",
       "      <td>2.0</td>\n",
       "      <td>1.0</td>\n",
       "      <td>0.0</td>\n",
       "      <td>7.500000</td>\n",
       "      <td>21.0</td>\n",
       "      <td>3.0</td>\n",
       "      <td>0.0</td>\n",
       "      <td>0.0</td>\n",
       "    </tr>\n",
       "    <tr>\n",
       "      <th>00028e09-fcff-4368-9409-e9419efec176</th>\n",
       "      <td>0</td>\n",
       "      <td>1</td>\n",
       "      <td>0</td>\n",
       "      <td>0</td>\n",
       "      <td>0</td>\n",
       "      <td>0</td>\n",
       "      <td>0</td>\n",
       "      <td>0</td>\n",
       "      <td>0</td>\n",
       "      <td>0</td>\n",
       "      <td>...</td>\n",
       "      <td>2.0</td>\n",
       "      <td>0.0</td>\n",
       "      <td>1.0</td>\n",
       "      <td>1.0</td>\n",
       "      <td>0.0</td>\n",
       "      <td>0.000000</td>\n",
       "      <td>256.0</td>\n",
       "      <td>2.0</td>\n",
       "      <td>0.0</td>\n",
       "      <td>0.0</td>\n",
       "    </tr>\n",
       "    <tr>\n",
       "      <th>0005d4cf-4eeb-4255-88ee-fdf2c662396c</th>\n",
       "      <td>0</td>\n",
       "      <td>0</td>\n",
       "      <td>0</td>\n",
       "      <td>1</td>\n",
       "      <td>0</td>\n",
       "      <td>0</td>\n",
       "      <td>0</td>\n",
       "      <td>0</td>\n",
       "      <td>0</td>\n",
       "      <td>0</td>\n",
       "      <td>...</td>\n",
       "      <td>2.0</td>\n",
       "      <td>0.0</td>\n",
       "      <td>1.0</td>\n",
       "      <td>1.0</td>\n",
       "      <td>0.0</td>\n",
       "      <td>0.000000</td>\n",
       "      <td>14.0</td>\n",
       "      <td>2.0</td>\n",
       "      <td>0.0</td>\n",
       "      <td>0.0</td>\n",
       "    </tr>\n",
       "    <tr>\n",
       "      <th>00063093-cd4a-4b44-93f0-ef23912da5db</th>\n",
       "      <td>1</td>\n",
       "      <td>0</td>\n",
       "      <td>0</td>\n",
       "      <td>0</td>\n",
       "      <td>0</td>\n",
       "      <td>0</td>\n",
       "      <td>0</td>\n",
       "      <td>0</td>\n",
       "      <td>0</td>\n",
       "      <td>0</td>\n",
       "      <td>...</td>\n",
       "      <td>1.0</td>\n",
       "      <td>0.0</td>\n",
       "      <td>2.0</td>\n",
       "      <td>1.0</td>\n",
       "      <td>0.0</td>\n",
       "      <td>1.000000</td>\n",
       "      <td>12.0</td>\n",
       "      <td>1.0</td>\n",
       "      <td>0.0</td>\n",
       "      <td>0.0</td>\n",
       "    </tr>\n",
       "    <tr>\n",
       "      <th>0006cadf-59f8-46d5-b085-1d0c7701e2a1</th>\n",
       "      <td>0</td>\n",
       "      <td>0</td>\n",
       "      <td>1</td>\n",
       "      <td>0</td>\n",
       "      <td>0</td>\n",
       "      <td>0</td>\n",
       "      <td>0</td>\n",
       "      <td>0</td>\n",
       "      <td>0</td>\n",
       "      <td>0</td>\n",
       "      <td>...</td>\n",
       "      <td>2.0</td>\n",
       "      <td>0.0</td>\n",
       "      <td>3.0</td>\n",
       "      <td>1.0</td>\n",
       "      <td>0.0</td>\n",
       "      <td>0.816497</td>\n",
       "      <td>28.0</td>\n",
       "      <td>4.0</td>\n",
       "      <td>0.0</td>\n",
       "      <td>0.0</td>\n",
       "    </tr>\n",
       "  </tbody>\n",
       "</table>\n",
       "<p>5 rows × 95 columns</p>\n",
       "</div>"
      ],
      "text/plain": [
       "                                      network = Facebook Installs  \\\n",
       "user_id                                                             \n",
       "0000c78d-d1ba-4758-8b0d-8503058aaa4e                            1   \n",
       "00028e09-fcff-4368-9409-e9419efec176                            0   \n",
       "0005d4cf-4eeb-4255-88ee-fdf2c662396c                            0   \n",
       "00063093-cd4a-4b44-93f0-ef23912da5db                            1   \n",
       "0006cadf-59f8-46d5-b085-1d0c7701e2a1                            0   \n",
       "\n",
       "                                      network = Organic  \\\n",
       "user_id                                                   \n",
       "0000c78d-d1ba-4758-8b0d-8503058aaa4e                  0   \n",
       "00028e09-fcff-4368-9409-e9419efec176                  1   \n",
       "0005d4cf-4eeb-4255-88ee-fdf2c662396c                  0   \n",
       "00063093-cd4a-4b44-93f0-ef23912da5db                  0   \n",
       "0006cadf-59f8-46d5-b085-1d0c7701e2a1                  0   \n",
       "\n",
       "                                      network = Viral Invites  network = TV  \\\n",
       "user_id                                                                       \n",
       "0000c78d-d1ba-4758-8b0d-8503058aaa4e                        0             0   \n",
       "00028e09-fcff-4368-9409-e9419efec176                        0             0   \n",
       "0005d4cf-4eeb-4255-88ee-fdf2c662396c                        0             1   \n",
       "00063093-cd4a-4b44-93f0-ef23912da5db                        0             0   \n",
       "0006cadf-59f8-46d5-b085-1d0c7701e2a1                        1             0   \n",
       "\n",
       "                                      network = Google Adwords Search  \\\n",
       "user_id                                                                 \n",
       "0000c78d-d1ba-4758-8b0d-8503058aaa4e                                0   \n",
       "00028e09-fcff-4368-9409-e9419efec176                                0   \n",
       "0005d4cf-4eeb-4255-88ee-fdf2c662396c                                0   \n",
       "00063093-cd4a-4b44-93f0-ef23912da5db                                0   \n",
       "0006cadf-59f8-46d5-b085-1d0c7701e2a1                                0   \n",
       "\n",
       "                                      network = Instagram Installs  \\\n",
       "user_id                                                              \n",
       "0000c78d-d1ba-4758-8b0d-8503058aaa4e                             0   \n",
       "00028e09-fcff-4368-9409-e9419efec176                             0   \n",
       "0005d4cf-4eeb-4255-88ee-fdf2c662396c                             0   \n",
       "00063093-cd4a-4b44-93f0-ef23912da5db                             0   \n",
       "0006cadf-59f8-46d5-b085-1d0c7701e2a1                             0   \n",
       "\n",
       "                                      network = Appnext  \\\n",
       "user_id                                                   \n",
       "0000c78d-d1ba-4758-8b0d-8503058aaa4e                  0   \n",
       "00028e09-fcff-4368-9409-e9419efec176                  0   \n",
       "0005d4cf-4eeb-4255-88ee-fdf2c662396c                  0   \n",
       "00063093-cd4a-4b44-93f0-ef23912da5db                  0   \n",
       "0006cadf-59f8-46d5-b085-1d0c7701e2a1                  0   \n",
       "\n",
       "                                      network = BUX Website  \\\n",
       "user_id                                                       \n",
       "0000c78d-d1ba-4758-8b0d-8503058aaa4e                      0   \n",
       "00028e09-fcff-4368-9409-e9419efec176                      0   \n",
       "0005d4cf-4eeb-4255-88ee-fdf2c662396c                      0   \n",
       "00063093-cd4a-4b44-93f0-ef23912da5db                      0   \n",
       "0006cadf-59f8-46d5-b085-1d0c7701e2a1                      0   \n",
       "\n",
       "                                      network = AdColony  \\\n",
       "user_id                                                    \n",
       "0000c78d-d1ba-4758-8b0d-8503058aaa4e                   0   \n",
       "00028e09-fcff-4368-9409-e9419efec176                   0   \n",
       "0005d4cf-4eeb-4255-88ee-fdf2c662396c                   0   \n",
       "00063093-cd4a-4b44-93f0-ef23912da5db                   0   \n",
       "0006cadf-59f8-46d5-b085-1d0c7701e2a1                   0   \n",
       "\n",
       "                                      network = Finanzen.net  \\\n",
       "user_id                                                        \n",
       "0000c78d-d1ba-4758-8b0d-8503058aaa4e                       0   \n",
       "00028e09-fcff-4368-9409-e9419efec176                       0   \n",
       "0005d4cf-4eeb-4255-88ee-fdf2c662396c                       0   \n",
       "00063093-cd4a-4b44-93f0-ef23912da5db                       0   \n",
       "0006cadf-59f8-46d5-b085-1d0c7701e2a1                       0   \n",
       "\n",
       "                                                          ...                       \\\n",
       "user_id                                                   ...                        \n",
       "0000c78d-d1ba-4758-8b0d-8503058aaa4e                      ...                        \n",
       "00028e09-fcff-4368-9409-e9419efec176                      ...                        \n",
       "0005d4cf-4eeb-4255-88ee-fdf2c662396c                      ...                        \n",
       "00063093-cd4a-4b44-93f0-ef23912da5db                      ...                        \n",
       "0006cadf-59f8-46d5-b085-1d0c7701e2a1                      ...                        \n",
       "\n",
       "                                      MIN(transactions.number_of_sessions)  \\\n",
       "user_id                                                                      \n",
       "0000c78d-d1ba-4758-8b0d-8503058aaa4e                                   1.0   \n",
       "00028e09-fcff-4368-9409-e9419efec176                                   2.0   \n",
       "0005d4cf-4eeb-4255-88ee-fdf2c662396c                                   2.0   \n",
       "00063093-cd4a-4b44-93f0-ef23912da5db                                   1.0   \n",
       "0006cadf-59f8-46d5-b085-1d0c7701e2a1                                   2.0   \n",
       "\n",
       "                                      STD(transactions.conversion_to_sb)  \\\n",
       "user_id                                                                    \n",
       "0000c78d-d1ba-4758-8b0d-8503058aaa4e                                 0.0   \n",
       "00028e09-fcff-4368-9409-e9419efec176                                 0.0   \n",
       "0005d4cf-4eeb-4255-88ee-fdf2c662396c                                 0.0   \n",
       "00063093-cd4a-4b44-93f0-ef23912da5db                                 0.0   \n",
       "0006cadf-59f8-46d5-b085-1d0c7701e2a1                                 0.0   \n",
       "\n",
       "                                      COUNT(transactions)  \\\n",
       "user_id                                                     \n",
       "0000c78d-d1ba-4758-8b0d-8503058aaa4e                  2.0   \n",
       "00028e09-fcff-4368-9409-e9419efec176                  1.0   \n",
       "0005d4cf-4eeb-4255-88ee-fdf2c662396c                  1.0   \n",
       "00063093-cd4a-4b44-93f0-ef23912da5db                  2.0   \n",
       "0006cadf-59f8-46d5-b085-1d0c7701e2a1                  3.0   \n",
       "\n",
       "                                      NUM_UNIQUE(transactions.account_status)  \\\n",
       "user_id                                                                         \n",
       "0000c78d-d1ba-4758-8b0d-8503058aaa4e                                      1.0   \n",
       "00028e09-fcff-4368-9409-e9419efec176                                      1.0   \n",
       "0005d4cf-4eeb-4255-88ee-fdf2c662396c                                      1.0   \n",
       "00063093-cd4a-4b44-93f0-ef23912da5db                                      1.0   \n",
       "0006cadf-59f8-46d5-b085-1d0c7701e2a1                                      1.0   \n",
       "\n",
       "                                      MAX(transactions.conversion_to_sb)  \\\n",
       "user_id                                                                    \n",
       "0000c78d-d1ba-4758-8b0d-8503058aaa4e                                 0.0   \n",
       "00028e09-fcff-4368-9409-e9419efec176                                 0.0   \n",
       "0005d4cf-4eeb-4255-88ee-fdf2c662396c                                 0.0   \n",
       "00063093-cd4a-4b44-93f0-ef23912da5db                                 0.0   \n",
       "0006cadf-59f8-46d5-b085-1d0c7701e2a1                                 0.0   \n",
       "\n",
       "                                      STD(transactions.day_of_year)  \\\n",
       "user_id                                                               \n",
       "0000c78d-d1ba-4758-8b0d-8503058aaa4e                       7.500000   \n",
       "00028e09-fcff-4368-9409-e9419efec176                       0.000000   \n",
       "0005d4cf-4eeb-4255-88ee-fdf2c662396c                       0.000000   \n",
       "00063093-cd4a-4b44-93f0-ef23912da5db                       1.000000   \n",
       "0006cadf-59f8-46d5-b085-1d0c7701e2a1                       0.816497   \n",
       "\n",
       "                                      MIN(transactions.total_session_duration)  \\\n",
       "user_id                                                                          \n",
       "0000c78d-d1ba-4758-8b0d-8503058aaa4e                                      21.0   \n",
       "00028e09-fcff-4368-9409-e9419efec176                                     256.0   \n",
       "0005d4cf-4eeb-4255-88ee-fdf2c662396c                                      14.0   \n",
       "00063093-cd4a-4b44-93f0-ef23912da5db                                      12.0   \n",
       "0006cadf-59f8-46d5-b085-1d0c7701e2a1                                      28.0   \n",
       "\n",
       "                                      MEAN(transactions.number_of_sessions)  \\\n",
       "user_id                                                                       \n",
       "0000c78d-d1ba-4758-8b0d-8503058aaa4e                                    3.0   \n",
       "00028e09-fcff-4368-9409-e9419efec176                                    2.0   \n",
       "0005d4cf-4eeb-4255-88ee-fdf2c662396c                                    2.0   \n",
       "00063093-cd4a-4b44-93f0-ef23912da5db                                    1.0   \n",
       "0006cadf-59f8-46d5-b085-1d0c7701e2a1                                    4.0   \n",
       "\n",
       "                                      SUM(transactions.trades_fb_commodities_open)  \\\n",
       "user_id                                                                              \n",
       "0000c78d-d1ba-4758-8b0d-8503058aaa4e                                           0.0   \n",
       "00028e09-fcff-4368-9409-e9419efec176                                           0.0   \n",
       "0005d4cf-4eeb-4255-88ee-fdf2c662396c                                           0.0   \n",
       "00063093-cd4a-4b44-93f0-ef23912da5db                                           0.0   \n",
       "0006cadf-59f8-46d5-b085-1d0c7701e2a1                                           0.0   \n",
       "\n",
       "                                      MIN(transactions.trades_fb_commodities_open)  \n",
       "user_id                                                                             \n",
       "0000c78d-d1ba-4758-8b0d-8503058aaa4e                                           0.0  \n",
       "00028e09-fcff-4368-9409-e9419efec176                                           0.0  \n",
       "0005d4cf-4eeb-4255-88ee-fdf2c662396c                                           0.0  \n",
       "00063093-cd4a-4b44-93f0-ef23912da5db                                           0.0  \n",
       "0006cadf-59f8-46d5-b085-1d0c7701e2a1                                           0.0  \n",
       "\n",
       "[5 rows x 95 columns]"
      ]
     },
     "execution_count": 275,
     "metadata": {},
     "output_type": "execute_result"
    }
   ],
   "source": [
    "# encode categorical features\n",
    "fm_encoded, features_encoded = ft.encode_features(feature_matrix, features)\n",
    "\n",
    "\n",
    "print('Number of features %s' % len(features_encoded))\n",
    "fm_encoded.head()"
   ]
  },
  {
   "cell_type": "markdown",
   "metadata": {},
   "source": [
    "## Machine learning"
   ]
  },
  {
   "cell_type": "code",
   "execution_count": 276,
   "metadata": {
    "collapsed": false
   },
   "outputs": [
    {
     "data": {
      "text/plain": [
       "True"
      ]
     },
     "execution_count": 276,
     "metadata": {},
     "output_type": "execute_result"
    }
   ],
   "source": [
    "# if building features on all users\n",
    "len(users) == len(fm_encoded)\n",
    "\n",
    "# if buiding features only on training users\n",
    "# len(fm_encoded) == len(users_in_training)"
   ]
  },
  {
   "cell_type": "code",
   "execution_count": 277,
   "metadata": {
    "collapsed": false
   },
   "outputs": [
    {
     "data": {
      "text/html": [
       "<div>\n",
       "<style scoped>\n",
       "    .dataframe tbody tr th:only-of-type {\n",
       "        vertical-align: middle;\n",
       "    }\n",
       "\n",
       "    .dataframe tbody tr th {\n",
       "        vertical-align: top;\n",
       "    }\n",
       "\n",
       "    .dataframe thead th {\n",
       "        text-align: right;\n",
       "    }\n",
       "</style>\n",
       "<table border=\"1\" class=\"dataframe\">\n",
       "  <thead>\n",
       "    <tr style=\"text-align: right;\">\n",
       "      <th></th>\n",
       "      <th>user_id</th>\n",
       "      <th>curcv</th>\n",
       "      <th>whale</th>\n",
       "    </tr>\n",
       "  </thead>\n",
       "  <tbody>\n",
       "    <tr>\n",
       "      <th>2</th>\n",
       "      <td>0c743fbc-d056-4957-9c90-d92f893defc0</td>\n",
       "      <td>0.0</td>\n",
       "      <td>0</td>\n",
       "    </tr>\n",
       "    <tr>\n",
       "      <th>3</th>\n",
       "      <td>cfab8dd2-d4c8-490c-9452-581acd5ebdf7</td>\n",
       "      <td>0.0</td>\n",
       "      <td>0</td>\n",
       "    </tr>\n",
       "    <tr>\n",
       "      <th>6</th>\n",
       "      <td>3bb4e055-9d9d-4188-a4d2-398066566bfc</td>\n",
       "      <td>0.0</td>\n",
       "      <td>0</td>\n",
       "    </tr>\n",
       "    <tr>\n",
       "      <th>8</th>\n",
       "      <td>b78a93e2-5b0f-4d93-bc87-2f0c2b511522</td>\n",
       "      <td>0.0</td>\n",
       "      <td>0</td>\n",
       "    </tr>\n",
       "    <tr>\n",
       "      <th>9</th>\n",
       "      <td>2056ee02-c98b-4503-989b-e17c1e447eff</td>\n",
       "      <td>0.0</td>\n",
       "      <td>0</td>\n",
       "    </tr>\n",
       "  </tbody>\n",
       "</table>\n",
       "</div>"
      ],
      "text/plain": [
       "                                user_id  curcv  whale\n",
       "2  0c743fbc-d056-4957-9c90-d92f893defc0    0.0      0\n",
       "3  cfab8dd2-d4c8-490c-9452-581acd5ebdf7    0.0      0\n",
       "6  3bb4e055-9d9d-4188-a4d2-398066566bfc    0.0      0\n",
       "8  b78a93e2-5b0f-4d93-bc87-2f0c2b511522    0.0      0\n",
       "9  2056ee02-c98b-4503-989b-e17c1e447eff    0.0      0"
      ]
     },
     "execution_count": 277,
     "metadata": {},
     "output_type": "execute_result"
    }
   ],
   "source": [
    "CurCV.head()"
   ]
  },
  {
   "cell_type": "code",
   "execution_count": 278,
   "metadata": {
    "collapsed": false
   },
   "outputs": [],
   "source": [
    "# add the target labels to the feature set (fm_encoded)\n",
    "# X = fm_encoded.reset_index().merge(label_times)\n",
    "X = fm_encoded.reset_index().merge(CurCV)\n",
    "\n",
    "\n",
    "# drop the user_id and cutoff_time (no information gain)\n",
    "X.drop(['user_id', 'curcv'], axis=1, inplace=True)\n",
    "\n",
    "# fill all NaN values as 0s\n",
    "X = X.fillna(0)\n",
    "# pop = return an item and drop from the frame\n",
    "y = X.pop('whale').astype('int')"
   ]
  },
  {
   "cell_type": "code",
   "execution_count": 279,
   "metadata": {
    "collapsed": false
   },
   "outputs": [
    {
     "data": {
      "text/plain": [
       "0    29100\n",
       "1      900\n",
       "Name: whale, dtype: int64"
      ]
     },
     "execution_count": 279,
     "metadata": {},
     "output_type": "execute_result"
    }
   ],
   "source": [
    "# class (im)balance\n",
    "y.value_counts()"
   ]
  },
  {
   "cell_type": "code",
   "execution_count": 280,
   "metadata": {
    "collapsed": false
   },
   "outputs": [
    {
     "data": {
      "text/html": [
       "<div>\n",
       "<style scoped>\n",
       "    .dataframe tbody tr th:only-of-type {\n",
       "        vertical-align: middle;\n",
       "    }\n",
       "\n",
       "    .dataframe tbody tr th {\n",
       "        vertical-align: top;\n",
       "    }\n",
       "\n",
       "    .dataframe thead th {\n",
       "        text-align: right;\n",
       "    }\n",
       "</style>\n",
       "<table border=\"1\" class=\"dataframe\">\n",
       "  <thead>\n",
       "    <tr style=\"text-align: right;\">\n",
       "      <th></th>\n",
       "      <th>network = Facebook Installs</th>\n",
       "      <th>network = Organic</th>\n",
       "      <th>network = Viral Invites</th>\n",
       "      <th>network = TV</th>\n",
       "      <th>network = Google Adwords Search</th>\n",
       "      <th>network = Instagram Installs</th>\n",
       "      <th>network = Appnext</th>\n",
       "      <th>network = BUX Website</th>\n",
       "      <th>network = AdColony</th>\n",
       "      <th>network = Finanzen.net</th>\n",
       "      <th>...</th>\n",
       "      <th>MIN(transactions.number_of_sessions)</th>\n",
       "      <th>STD(transactions.conversion_to_sb)</th>\n",
       "      <th>COUNT(transactions)</th>\n",
       "      <th>NUM_UNIQUE(transactions.account_status)</th>\n",
       "      <th>MAX(transactions.conversion_to_sb)</th>\n",
       "      <th>STD(transactions.day_of_year)</th>\n",
       "      <th>MIN(transactions.total_session_duration)</th>\n",
       "      <th>MEAN(transactions.number_of_sessions)</th>\n",
       "      <th>SUM(transactions.trades_fb_commodities_open)</th>\n",
       "      <th>MIN(transactions.trades_fb_commodities_open)</th>\n",
       "    </tr>\n",
       "  </thead>\n",
       "  <tbody>\n",
       "    <tr>\n",
       "      <th>0</th>\n",
       "      <td>1</td>\n",
       "      <td>0</td>\n",
       "      <td>0</td>\n",
       "      <td>0</td>\n",
       "      <td>0</td>\n",
       "      <td>0</td>\n",
       "      <td>0</td>\n",
       "      <td>0</td>\n",
       "      <td>0</td>\n",
       "      <td>0</td>\n",
       "      <td>...</td>\n",
       "      <td>1.0</td>\n",
       "      <td>0.0</td>\n",
       "      <td>2.0</td>\n",
       "      <td>1.0</td>\n",
       "      <td>0.0</td>\n",
       "      <td>7.500000</td>\n",
       "      <td>21.0</td>\n",
       "      <td>3.0</td>\n",
       "      <td>0.0</td>\n",
       "      <td>0.0</td>\n",
       "    </tr>\n",
       "    <tr>\n",
       "      <th>1</th>\n",
       "      <td>0</td>\n",
       "      <td>1</td>\n",
       "      <td>0</td>\n",
       "      <td>0</td>\n",
       "      <td>0</td>\n",
       "      <td>0</td>\n",
       "      <td>0</td>\n",
       "      <td>0</td>\n",
       "      <td>0</td>\n",
       "      <td>0</td>\n",
       "      <td>...</td>\n",
       "      <td>2.0</td>\n",
       "      <td>0.0</td>\n",
       "      <td>1.0</td>\n",
       "      <td>1.0</td>\n",
       "      <td>0.0</td>\n",
       "      <td>0.000000</td>\n",
       "      <td>256.0</td>\n",
       "      <td>2.0</td>\n",
       "      <td>0.0</td>\n",
       "      <td>0.0</td>\n",
       "    </tr>\n",
       "    <tr>\n",
       "      <th>2</th>\n",
       "      <td>0</td>\n",
       "      <td>0</td>\n",
       "      <td>0</td>\n",
       "      <td>1</td>\n",
       "      <td>0</td>\n",
       "      <td>0</td>\n",
       "      <td>0</td>\n",
       "      <td>0</td>\n",
       "      <td>0</td>\n",
       "      <td>0</td>\n",
       "      <td>...</td>\n",
       "      <td>2.0</td>\n",
       "      <td>0.0</td>\n",
       "      <td>1.0</td>\n",
       "      <td>1.0</td>\n",
       "      <td>0.0</td>\n",
       "      <td>0.000000</td>\n",
       "      <td>14.0</td>\n",
       "      <td>2.0</td>\n",
       "      <td>0.0</td>\n",
       "      <td>0.0</td>\n",
       "    </tr>\n",
       "    <tr>\n",
       "      <th>3</th>\n",
       "      <td>1</td>\n",
       "      <td>0</td>\n",
       "      <td>0</td>\n",
       "      <td>0</td>\n",
       "      <td>0</td>\n",
       "      <td>0</td>\n",
       "      <td>0</td>\n",
       "      <td>0</td>\n",
       "      <td>0</td>\n",
       "      <td>0</td>\n",
       "      <td>...</td>\n",
       "      <td>1.0</td>\n",
       "      <td>0.0</td>\n",
       "      <td>2.0</td>\n",
       "      <td>1.0</td>\n",
       "      <td>0.0</td>\n",
       "      <td>1.000000</td>\n",
       "      <td>12.0</td>\n",
       "      <td>1.0</td>\n",
       "      <td>0.0</td>\n",
       "      <td>0.0</td>\n",
       "    </tr>\n",
       "    <tr>\n",
       "      <th>4</th>\n",
       "      <td>0</td>\n",
       "      <td>0</td>\n",
       "      <td>1</td>\n",
       "      <td>0</td>\n",
       "      <td>0</td>\n",
       "      <td>0</td>\n",
       "      <td>0</td>\n",
       "      <td>0</td>\n",
       "      <td>0</td>\n",
       "      <td>0</td>\n",
       "      <td>...</td>\n",
       "      <td>2.0</td>\n",
       "      <td>0.0</td>\n",
       "      <td>3.0</td>\n",
       "      <td>1.0</td>\n",
       "      <td>0.0</td>\n",
       "      <td>0.816497</td>\n",
       "      <td>28.0</td>\n",
       "      <td>4.0</td>\n",
       "      <td>0.0</td>\n",
       "      <td>0.0</td>\n",
       "    </tr>\n",
       "  </tbody>\n",
       "</table>\n",
       "<p>5 rows × 95 columns</p>\n",
       "</div>"
      ],
      "text/plain": [
       "   network = Facebook Installs  network = Organic  network = Viral Invites  \\\n",
       "0                            1                  0                        0   \n",
       "1                            0                  1                        0   \n",
       "2                            0                  0                        0   \n",
       "3                            1                  0                        0   \n",
       "4                            0                  0                        1   \n",
       "\n",
       "   network = TV  network = Google Adwords Search  \\\n",
       "0             0                                0   \n",
       "1             0                                0   \n",
       "2             1                                0   \n",
       "3             0                                0   \n",
       "4             0                                0   \n",
       "\n",
       "   network = Instagram Installs  network = Appnext  network = BUX Website  \\\n",
       "0                             0                  0                      0   \n",
       "1                             0                  0                      0   \n",
       "2                             0                  0                      0   \n",
       "3                             0                  0                      0   \n",
       "4                             0                  0                      0   \n",
       "\n",
       "   network = AdColony  network = Finanzen.net  \\\n",
       "0                   0                       0   \n",
       "1                   0                       0   \n",
       "2                   0                       0   \n",
       "3                   0                       0   \n",
       "4                   0                       0   \n",
       "\n",
       "                       ...                       \\\n",
       "0                      ...                        \n",
       "1                      ...                        \n",
       "2                      ...                        \n",
       "3                      ...                        \n",
       "4                      ...                        \n",
       "\n",
       "   MIN(transactions.number_of_sessions)  STD(transactions.conversion_to_sb)  \\\n",
       "0                                   1.0                                 0.0   \n",
       "1                                   2.0                                 0.0   \n",
       "2                                   2.0                                 0.0   \n",
       "3                                   1.0                                 0.0   \n",
       "4                                   2.0                                 0.0   \n",
       "\n",
       "   COUNT(transactions)  NUM_UNIQUE(transactions.account_status)  \\\n",
       "0                  2.0                                      1.0   \n",
       "1                  1.0                                      1.0   \n",
       "2                  1.0                                      1.0   \n",
       "3                  2.0                                      1.0   \n",
       "4                  3.0                                      1.0   \n",
       "\n",
       "   MAX(transactions.conversion_to_sb)  STD(transactions.day_of_year)  \\\n",
       "0                                 0.0                       7.500000   \n",
       "1                                 0.0                       0.000000   \n",
       "2                                 0.0                       0.000000   \n",
       "3                                 0.0                       1.000000   \n",
       "4                                 0.0                       0.816497   \n",
       "\n",
       "   MIN(transactions.total_session_duration)  \\\n",
       "0                                      21.0   \n",
       "1                                     256.0   \n",
       "2                                      14.0   \n",
       "3                                      12.0   \n",
       "4                                      28.0   \n",
       "\n",
       "   MEAN(transactions.number_of_sessions)  \\\n",
       "0                                    3.0   \n",
       "1                                    2.0   \n",
       "2                                    2.0   \n",
       "3                                    1.0   \n",
       "4                                    4.0   \n",
       "\n",
       "   SUM(transactions.trades_fb_commodities_open)  \\\n",
       "0                                           0.0   \n",
       "1                                           0.0   \n",
       "2                                           0.0   \n",
       "3                                           0.0   \n",
       "4                                           0.0   \n",
       "\n",
       "   MIN(transactions.trades_fb_commodities_open)  \n",
       "0                                           0.0  \n",
       "1                                           0.0  \n",
       "2                                           0.0  \n",
       "3                                           0.0  \n",
       "4                                           0.0  \n",
       "\n",
       "[5 rows x 95 columns]"
      ]
     },
     "execution_count": 280,
     "metadata": {},
     "output_type": "execute_result"
    }
   ],
   "source": [
    "X.head()"
   ]
  },
  {
   "cell_type": "code",
   "execution_count": 281,
   "metadata": {
    "collapsed": false
   },
   "outputs": [],
   "source": [
    "X_train, X_test, y_train, y_test = train_test_split(X, y, test_size=0.3, random_state=42)"
   ]
  },
  {
   "cell_type": "code",
   "execution_count": 282,
   "metadata": {
    "collapsed": true
   },
   "outputs": [],
   "source": [
    "# GradientBoostingRegressor(verbose=True)\n",
    "clf = RandomForestClassifier(n_estimators=400, n_jobs=-1)"
   ]
  },
  {
   "cell_type": "code",
   "execution_count": 283,
   "metadata": {
    "collapsed": false
   },
   "outputs": [
    {
     "data": {
      "text/plain": [
       "RandomForestClassifier(bootstrap=True, class_weight=None, criterion='gini',\n",
       "            max_depth=None, max_features='auto', max_leaf_nodes=None,\n",
       "            min_impurity_decrease=0.0, min_impurity_split=None,\n",
       "            min_samples_leaf=1, min_samples_split=2,\n",
       "            min_weight_fraction_leaf=0.0, n_estimators=400, n_jobs=-1,\n",
       "            oob_score=False, random_state=None, verbose=0,\n",
       "            warm_start=False)"
      ]
     },
     "execution_count": 283,
     "metadata": {},
     "output_type": "execute_result"
    }
   ],
   "source": [
    "clf.fit(X_train, y_train)"
   ]
  },
  {
   "cell_type": "code",
   "execution_count": 284,
   "metadata": {
    "collapsed": false
   },
   "outputs": [],
   "source": [
    "y_pred = clf.predict(X_test)"
   ]
  },
  {
   "cell_type": "code",
   "execution_count": 285,
   "metadata": {
    "collapsed": false,
    "scrolled": true
   },
   "outputs": [
    {
     "data": {
      "text/plain": [
       "0.99688888888888894"
      ]
     },
     "execution_count": 285,
     "metadata": {},
     "output_type": "execute_result"
    }
   ],
   "source": [
    "clf.score(X_test, y_test)"
   ]
  },
  {
   "cell_type": "code",
   "execution_count": 286,
   "metadata": {
    "collapsed": false
   },
   "outputs": [
    {
     "data": {
      "text/plain": [
       "(0.99713617530681442, 0.99688888888888894, 0.99695352496179979, None)"
      ]
     },
     "execution_count": 286,
     "metadata": {},
     "output_type": "execute_result"
    }
   ],
   "source": [
    "precision_recall_fscore_support(y_test, y_pred, average='weighted')"
   ]
  },
  {
   "cell_type": "code",
   "execution_count": 287,
   "metadata": {
    "collapsed": false
   },
   "outputs": [
    {
     "name": "stderr",
     "output_type": "stream",
     "text": [
      "[Parallel(n_jobs=1)]: Done   3 out of   3 | elapsed:   26.9s finished\n"
     ]
    },
    {
     "data": {
      "text/plain": [
       "'AUC 1.00 +/- 0.00'"
      ]
     },
     "execution_count": 287,
     "metadata": {},
     "output_type": "execute_result"
    }
   ],
   "source": [
    "# random forest classifer, 5-fold cross-validation\n",
    "clf_cv = RandomForestClassifier(n_estimators=400, n_jobs=-1)\n",
    "scores = cross_val_score(estimator=clf_cv, X=X, y=y, scoring='roc_auc', verbose=True)\n",
    "\"AUC %.2f +/- %.2f\" % (scores.mean(), scores.std())"
   ]
  },
  {
   "cell_type": "code",
   "execution_count": 288,
   "metadata": {
    "collapsed": false
   },
   "outputs": [
    {
     "data": {
      "text/plain": [
       "array([ 0.99907474,  0.99925704,  0.99903866])"
      ]
     },
     "execution_count": 288,
     "metadata": {},
     "output_type": "execute_result"
    }
   ],
   "source": [
    "# get AUC score per each of the folds\n",
    "scores"
   ]
  },
  {
   "cell_type": "code",
   "execution_count": 289,
   "metadata": {
    "collapsed": true
   },
   "outputs": [],
   "source": [
    "cm = confusion_matrix(y_test, y_pred)"
   ]
  },
  {
   "cell_type": "code",
   "execution_count": 290,
   "metadata": {
    "collapsed": true
   },
   "outputs": [],
   "source": [
    "def plot_confusion_matrix(cm,\n",
    "                          classes=[0, 1],\n",
    "                          title='Confusion matrix',\n",
    "                          cmap=plt.cm.Blues):\n",
    "    \"\"\"\n",
    "    This function prints and plots the confusion matrix.\n",
    "    Source:\n",
    "    http://scikit-learn.org/stable/auto_examples/model_selection/plot_confusion_matrix.html#sphx-glr-auto-examples-model-selection-plot-confusion-matrix-py\n",
    "    \"\"\"\n",
    "    plt.imshow(cm, interpolation='nearest', cmap=cmap)\n",
    "    plt.title(title)\n",
    "    plt.colorbar()\n",
    "    tick_marks = np.arange(len(classes))\n",
    "    plt.xticks(tick_marks, classes, rotation=45)\n",
    "    plt.yticks(tick_marks, classes)\n",
    "\n",
    "    thresh = cm.max() / 2.\n",
    "    for i, j in itertools.product(range(cm.shape[0]), range(cm.shape[1])):\n",
    "        plt.text(\n",
    "            j,\n",
    "            i,\n",
    "            cm[i, j],\n",
    "            horizontalalignment=\"center\",\n",
    "            color=\"white\" if cm[i, j] > thresh else \"black\")\n",
    "\n",
    "    plt.tight_layout()\n",
    "    plt.ylabel('True Label')\n",
    "    plt.xlabel('Predicted Label')"
   ]
  },
  {
   "cell_type": "code",
   "execution_count": 291,
   "metadata": {
    "collapsed": false
   },
   "outputs": [
    {
     "data": {
      "image/png": "[encoded data removed]",
      "text/plain": [
       "<matplotlib.figure.Figure at 0x7fa5c4398dd8>"
      ]
     },
     "metadata": {},
     "output_type": "display_data"
    }
   ],
   "source": [
    "plot_confusion_matrix(cm, ['Non-whale', 'Whale'], title='Customer lifetime value prediction')"
   ]
  },
  {
   "cell_type": "code",
   "execution_count": 299,
   "metadata": {
    "collapsed": false
   },
   "outputs": [
    {
     "data": {
      "text/plain": [
       "array([ 0.99839043,  0.95364238])"
      ]
     },
     "execution_count": 299,
     "metadata": {},
     "output_type": "execute_result"
    }
   ],
   "source": [
    "from sklearn.metrics import f1_score\n",
    "f1_score(y_test, y_pred, average=None)"
   ]
  },
  {
   "cell_type": "code",
   "execution_count": 303,
   "metadata": {
    "collapsed": false
   },
   "outputs": [],
   "source": [
    "# # feature importance calculation\n",
    "# # get top n features\n",
    "\n",
    "# importances = clf.feature_importances_\n",
    "# n = 20\n",
    "\n",
    "# zipped = sorted(zip(features, importances), key=lambda x: - x[1])\n",
    "\n",
    "# for i, f in enumerate(zipped[:n]):\n",
    "#     print(\"%d: Feature: %s, %.3f\" % (i+1, f[0].get_name(), f[1]))\n",
    "    \n",
    "    \n",
    "# top_features = [f[0] for f in zipped[:n]]\n",
    "# top_features"
   ]
  },
  {
   "cell_type": "code",
   "execution_count": 304,
   "metadata": {
    "collapsed": false
   },
   "outputs": [],
   "source": [
    "def feature_importances(model, features, n=10):\n",
    "    importances = model.feature_importances_\n",
    "    zipped = sorted(zip(features, importances), key=lambda x: -x[1])\n",
    "    for i, f in enumerate(zipped[:n]):\n",
    "        print(\"%d: Feature: %s, %.3f\" % (i+1, f[0].get_name(), f[1]))\n",
    "\n",
    "    return([f[0] for f in zipped[:n]])"
   ]
  },
  {
   "cell_type": "code",
   "execution_count": 305,
   "metadata": {
    "collapsed": false
   },
   "outputs": [
    {
     "name": "stdout",
     "output_type": "stream",
     "text": [
      "1: Feature: sum_deposits, 0.144\n",
      "2: Feature: cnt_deposits, 0.135\n",
      "3: Feature: initial_deposit_amount, 0.131\n",
      "4: Feature: account_type = SERIOUS_BUX, 0.097\n",
      "5: Feature: account_type = FUN_BUX, 0.074\n",
      "6: Feature: STD(transactions.conversion_to_sb), 0.064\n",
      "7: Feature: SUM(transactions.conversion_to_sb), 0.048\n",
      "8: Feature: MAX(transactions.conversion_to_sb), 0.038\n",
      "9: Feature: MEAN(transactions.conversion_to_sb), 0.037\n",
      "10: Feature: MODE(transactions.account_status) = SERIOUS_BUX, 0.028\n",
      "11: Feature: NUM_UNIQUE(transactions.account_status), 0.026\n",
      "12: Feature: MODE(transactions.account_status) = FUN_BUX, 0.016\n",
      "13: Feature: SUM(transactions.total_session_duration), 0.011\n",
      "14: Feature: SUM(transactions.number_of_sessions), 0.010\n",
      "15: Feature: gender = unknown, 0.009\n",
      "16: Feature: MAX(transactions.number_of_sessions), 0.008\n",
      "17: Feature: gender = MALE, 0.008\n",
      "18: Feature: STD(transactions.number_of_sessions), 0.007\n",
      "19: Feature: STD(transactions.total_session_duration), 0.007\n",
      "20: Feature: SUM(transactions.day_of_year), 0.006\n"
     ]
    }
   ],
   "source": [
    "top_features = feature_importances(clf, features_encoded, n=20)"
   ]
  },
  {
   "cell_type": "code",
   "execution_count": 306,
   "metadata": {
    "collapsed": true
   },
   "outputs": [],
   "source": [
    "ft.save_features(top_features, \"top_features\")"
   ]
  },
  {
   "cell_type": "markdown",
   "metadata": {
    "collapsed": true
   },
   "source": [
    "### Retrain the classifier on top 20 features"
   ]
  },
  {
   "cell_type": "code",
   "execution_count": 307,
   "metadata": {
    "collapsed": true
   },
   "outputs": [],
   "source": [
    "# load in the features from before\n",
    "top_features = ft.load_features(\"top_features\", es)"
   ]
  },
  {
   "cell_type": "code",
   "execution_count": 311,
   "metadata": {
    "collapsed": false
   },
   "outputs": [
    {
     "name": "stdout",
     "output_type": "stream",
     "text": [
      "CPU times: user 5min 32s, sys: 597 ms, total: 5min 32s\n",
      "Wall time: 5min 33s\n"
     ]
    }
   ],
   "source": [
    "%%time\n",
    "fm = ft.calculate_feature_matrix(top_features,\n",
    "                                 entityset=es,\n",
    "                                 # cutoff_time = label_times,\n",
    "                                 cutoff_time_in_index=True,\n",
    "                                 verbose=False)"
   ]
  },
  {
   "cell_type": "markdown",
   "metadata": {},
   "source": [
    "## Classification"
   ]
  },
  {
   "cell_type": "code",
   "execution_count": 328,
   "metadata": {
    "collapsed": true
   },
   "outputs": [],
   "source": [
    "X = fm.reset_index().merge(CurCV[['user_id', 'whale']])\n",
    "X = X.fillna(0)\n",
    "X.drop([\"user_id\", \"time\"], axis=1, inplace=True)\n",
    "y = X.pop(\"whale\")"
   ]
  },
  {
   "cell_type": "code",
   "execution_count": 329,
   "metadata": {
    "collapsed": false
   },
   "outputs": [
    {
     "data": {
      "text/plain": [
       "20"
      ]
     },
     "execution_count": 329,
     "metadata": {},
     "output_type": "execute_result"
    }
   ],
   "source": [
    "# top 20 features\n",
    "len(X.columns)"
   ]
  },
  {
   "cell_type": "code",
   "execution_count": 330,
   "metadata": {
    "collapsed": false
   },
   "outputs": [
    {
     "data": {
      "text/plain": [
       "0    29100\n",
       "1      900\n",
       "Name: whale, dtype: int64"
      ]
     },
     "execution_count": 330,
     "metadata": {},
     "output_type": "execute_result"
    }
   ],
   "source": [
    "y.value_counts()"
   ]
  },
  {
   "cell_type": "code",
   "execution_count": 331,
   "metadata": {
    "collapsed": true
   },
   "outputs": [],
   "source": [
    "X_train, X_test, y_train, y_test = train_test_split(X, y, test_size=0.3, random_state=42)"
   ]
  },
  {
   "cell_type": "code",
   "execution_count": 336,
   "metadata": {
    "collapsed": true
   },
   "outputs": [],
   "source": [
    "# GradientBoostingRegressor(verbose=True)\n",
    "clf = RandomForestClassifier(n_estimators=400, n_jobs=-1)"
   ]
  },
  {
   "cell_type": "code",
   "execution_count": 337,
   "metadata": {
    "collapsed": false
   },
   "outputs": [
    {
     "data": {
      "text/plain": [
       "RandomForestClassifier(bootstrap=True, class_weight=None, criterion='gini',\n",
       "            max_depth=None, max_features='auto', max_leaf_nodes=None,\n",
       "            min_impurity_decrease=0.0, min_impurity_split=None,\n",
       "            min_samples_leaf=1, min_samples_split=2,\n",
       "            min_weight_fraction_leaf=0.0, n_estimators=400, n_jobs=-1,\n",
       "            oob_score=False, random_state=None, verbose=0,\n",
       "            warm_start=False)"
      ]
     },
     "execution_count": 337,
     "metadata": {},
     "output_type": "execute_result"
    }
   ],
   "source": [
    "clf.fit(X_train, y_train)"
   ]
  },
  {
   "cell_type": "code",
   "execution_count": 338,
   "metadata": {
    "collapsed": true
   },
   "outputs": [],
   "source": [
    "y_pred = clf.predict(X_test)"
   ]
  },
  {
   "cell_type": "code",
   "execution_count": 339,
   "metadata": {
    "collapsed": false
   },
   "outputs": [
    {
     "data": {
      "image/png": "[encoded data removed]",
      "text/plain": [
       "<matplotlib.figure.Figure at 0x7fa5a3ea0dd8>"
      ]
     },
     "metadata": {},
     "output_type": "display_data"
    }
   ],
   "source": [
    "cm = confusion_matrix(y_test, y_pred)\n",
    "plot_confusion_matrix(cm, ['Non-whale', 'Whale'], title='Customer lifetime value prediction')"
   ]
  },
  {
   "cell_type": "markdown",
   "metadata": {},
   "source": [
    "## Regression"
   ]
  },
  {
   "cell_type": "code",
   "execution_count": 343,
   "metadata": {
    "collapsed": true
   },
   "outputs": [],
   "source": [
    "X = fm.reset_index().merge(CurCV[['user_id', 'curcv']])\n",
    "X = X.fillna(0)\n",
    "X.drop([\"user_id\", \"time\"], axis=1, inplace=True)\n",
    "y = X.pop(\"curcv\")"
   ]
  },
  {
   "cell_type": "code",
   "execution_count": 345,
   "metadata": {
    "collapsed": false
   },
   "outputs": [
    {
     "data": {
      "text/plain": [
       "7.518087666666671"
      ]
     },
     "execution_count": 345,
     "metadata": {},
     "output_type": "execute_result"
    }
   ],
   "source": [
    "# average customer value\n",
    "y.mean()"
   ]
  },
  {
   "cell_type": "code",
   "execution_count": 346,
   "metadata": {
    "collapsed": true
   },
   "outputs": [],
   "source": [
    "X_train, X_test, y_train, y_test = train_test_split(X, y, test_size=0.3, random_state=42)"
   ]
  },
  {
   "cell_type": "code",
   "execution_count": 348,
   "metadata": {
    "collapsed": true
   },
   "outputs": [],
   "source": [
    "from sklearn.ensemble import RandomForestRegressor"
   ]
  },
  {
   "cell_type": "code",
   "execution_count": 349,
   "metadata": {
    "collapsed": false
   },
   "outputs": [],
   "source": [
    "regr = RandomForestRegressor(max_depth=2, random_state=0)"
   ]
  },
  {
   "cell_type": "code",
   "execution_count": 350,
   "metadata": {
    "collapsed": false
   },
   "outputs": [
    {
     "data": {
      "text/plain": [
       "RandomForestRegressor(bootstrap=True, criterion='mse', max_depth=2,\n",
       "           max_features='auto', max_leaf_nodes=None,\n",
       "           min_impurity_decrease=0.0, min_impurity_split=None,\n",
       "           min_samples_leaf=1, min_samples_split=2,\n",
       "           min_weight_fraction_leaf=0.0, n_estimators=10, n_jobs=1,\n",
       "           oob_score=False, random_state=0, verbose=0, warm_start=False)"
      ]
     },
     "execution_count": 350,
     "metadata": {},
     "output_type": "execute_result"
    }
   ],
   "source": [
    "regr.fit(X_train, y_train)"
   ]
  },
  {
   "cell_type": "code",
   "execution_count": 353,
   "metadata": {
    "collapsed": false
   },
   "outputs": [
    {
     "name": "stdout",
     "output_type": "stream",
     "text": [
      "1: Feature: network = Facebook Installs, 0.951\n",
      "2: Feature: gender = MALE, 0.030\n",
      "3: Feature: network = Organic, 0.011\n",
      "4: Feature: platform_type_name = Android, 0.008\n",
      "5: Feature: network = Viral Invites, 0.000\n",
      "6: Feature: network = TV, 0.000\n",
      "7: Feature: network = Google Adwords Search, 0.000\n",
      "8: Feature: network = Instagram Installs, 0.000\n",
      "9: Feature: network = Appnext, 0.000\n",
      "10: Feature: network = BUX Website, 0.000\n",
      "11: Feature: network = AdColony, 0.000\n",
      "12: Feature: network = Finanzen.net, 0.000\n",
      "13: Feature: network = unknown, 0.000\n",
      "14: Feature: cnt_deposits, 0.000\n",
      "15: Feature: gender = FEMALE, 0.000\n",
      "16: Feature: gender = unknown, 0.000\n",
      "17: Feature: platform_type_name = iOS, 0.000\n",
      "18: Feature: platform_type_name = unknown, 0.000\n",
      "19: Feature: trading_experience = NONE, 0.000\n",
      "20: Feature: trading_experience = SOME, 0.000\n"
     ]
    },
    {
     "data": {
      "text/plain": [
       "[<Feature: network = Facebook Installs>,\n",
       " <Feature: gender = MALE>,\n",
       " <Feature: network = Organic>,\n",
       " <Feature: platform_type_name = Android>,\n",
       " <Feature: network = Viral Invites>,\n",
       " <Feature: network = TV>,\n",
       " <Feature: network = Google Adwords Search>,\n",
       " <Feature: network = Instagram Installs>,\n",
       " <Feature: network = Appnext>,\n",
       " <Feature: network = BUX Website>,\n",
       " <Feature: network = AdColony>,\n",
       " <Feature: network = Finanzen.net>,\n",
       " <Feature: network = unknown>,\n",
       " <Feature: cnt_deposits>,\n",
       " <Feature: gender = FEMALE>,\n",
       " <Feature: gender = unknown>,\n",
       " <Feature: platform_type_name = iOS>,\n",
       " <Feature: platform_type_name = unknown>,\n",
       " <Feature: trading_experience = NONE>,\n",
       " <Feature: trading_experience = SOME>]"
      ]
     },
     "execution_count": 353,
     "metadata": {},
     "output_type": "execute_result"
    }
   ],
   "source": [
    "feature_importances(regr, features_encoded, n=20)"
   ]
  },
  {
   "cell_type": "code",
   "execution_count": 388,
   "metadata": {
    "collapsed": false
   },
   "outputs": [],
   "source": [
    "y_pred = regr.predict(X_test)"
   ]
  },
  {
   "cell_type": "code",
   "execution_count": 389,
   "metadata": {
    "collapsed": false
   },
   "outputs": [],
   "source": [
    "from sklearn.metrics import r2_score, mean_absolute_error, mean_squared_error"
   ]
  },
  {
   "cell_type": "code",
   "execution_count": 390,
   "metadata": {
    "collapsed": false
   },
   "outputs": [
    {
     "data": {
      "text/plain": [
       "2308     0.0\n",
       "22404    0.0\n",
       "23397    0.0\n",
       "25058    0.0\n",
       "2664     0.0\n",
       "Name: curcv, dtype: float64"
      ]
     },
     "execution_count": 390,
     "metadata": {},
     "output_type": "execute_result"
    }
   ],
   "source": [
    "y_test.head()"
   ]
  },
  {
   "cell_type": "code",
   "execution_count": 391,
   "metadata": {
    "collapsed": false
   },
   "outputs": [
    {
     "data": {
      "text/plain": [
       "0.60699999999999998"
      ]
     },
     "execution_count": 391,
     "metadata": {},
     "output_type": "execute_result"
    }
   ],
   "source": [
    "r2_reg = r2_score(y_test, y_pred).round(3)\n",
    "r2_reg"
   ]
  },
  {
   "cell_type": "code",
   "execution_count": 406,
   "metadata": {
    "collapsed": false
   },
   "outputs": [
    {
     "name": "stdout",
     "output_type": "stream",
     "text": [
      "8.06045289324\n",
      "12897.4587184\n",
      "113.566978997\n"
     ]
    }
   ],
   "source": [
    "print(mean_absolute_error(y_test, y_pred))\n",
    "print(mean_squared_error(y_test, y_pred))\n",
    "print(np.sqrt(mean_squared_error(y_test, y_pred)))"
   ]
  },
  {
   "cell_type": "code",
   "execution_count": 407,
   "metadata": {
    "collapsed": false
   },
   "outputs": [
    {
     "data": {
      "text/plain": [
       "(47132.284868087612, 69091.75)"
      ]
     },
     "execution_count": 407,
     "metadata": {},
     "output_type": "execute_result"
    }
   ],
   "source": [
    "test_set_pred = sum(y_pred)\n",
    "test_set_true = sum(y_test)\n",
    "\n",
    "test_set_pred, test_set_true"
   ]
  },
  {
   "cell_type": "code",
   "execution_count": 408,
   "metadata": {
    "collapsed": false
   },
   "outputs": [
    {
     "data": {
      "text/plain": [
       "(67662.78899999996, 69091.75)"
      ]
     },
     "execution_count": 408,
     "metadata": {},
     "output_type": "execute_result"
    }
   ],
   "source": [
    "test_set_benchmark = len(y_test) * CurCV['curcv'].mean()\n",
    "\n",
    "test_set_benchmark, test_set_true"
   ]
  },
  {
   "cell_type": "code",
   "execution_count": 409,
   "metadata": {
    "collapsed": true
   },
   "outputs": [],
   "source": [
    "y_benchmark = [CurCV['curcv'].mean() for i in range(0,len(y_test))]"
   ]
  },
  {
   "cell_type": "code",
   "execution_count": 410,
   "metadata": {
    "collapsed": false
   },
   "outputs": [
    {
     "name": "stdout",
     "output_type": "stream",
     "text": [
      "14.7379637747\n",
      "32789.0784159\n",
      "181.077548072\n"
     ]
    }
   ],
   "source": [
    "print(mean_absolute_error(y_test, y_benchmark))\n",
    "print(mean_squared_error(y_test, y_benchmark))\n",
    "print(np.sqrt(mean_squared_error(y_test, y_benchmark)))"
   ]
  },
  {
   "cell_type": "code",
   "execution_count": null,
   "metadata": {
    "collapsed": true
   },
   "outputs": [],
   "source": []
  }
 ],
 "metadata": {
  "anaconda-cloud": {},
  "kernelspec": {
   "display_name": "Python [conda root]",
   "language": "python",
   "name": "conda-root-py"
  },
  "language_info": {
   "codemirror_mode": {
    "name": "ipython",
    "version": 3
   },
   "file_extension": ".py",
   "mimetype": "text/x-python",
   "name": "python",
   "nbconvert_exporter": "python",
   "pygments_lexer": "ipython3",
   "version": "3.5.4"
  }
 },
 "nbformat": 4,
 "nbformat_minor": 1
}
