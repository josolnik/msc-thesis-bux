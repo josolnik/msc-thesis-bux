{
 "cells": [
  {
   "cell_type": "code",
   "execution_count": 1,
   "metadata": {
    "collapsed": false
   },
   "outputs": [
    {
     "name": "stderr",
     "output_type": "stream",
     "text": [
      "/home/jo/anaconda3/lib/python3.5/site-packages/statsmodels/compat/pandas.py:56: FutureWarning: The pandas.core.datetools module is deprecated and will be removed in a future version. Please use the pandas.tseries module instead.\n",
      "  from pandas.core import datetools\n"
     ]
    }
   ],
   "source": [
    "from tsfresh.examples.robot_execution_failures import download_robot_execution_failures, \\\n",
    "    load_robot_execution_failures\n",
    "download_robot_execution_failures()\n",
    "timeseries, y = load_robot_execution_failures()"
   ]
  },
  {
   "cell_type": "code",
   "execution_count": 2,
   "metadata": {
    "collapsed": false
   },
   "outputs": [
    {
     "data": {
      "text/plain": [
       "1    True\n",
       "2    True\n",
       "3    True\n",
       "4    True\n",
       "5    True\n",
       "dtype: bool"
      ]
     },
     "execution_count": 2,
     "metadata": {},
     "output_type": "execute_result"
    }
   ],
   "source": [
    "y.head()"
   ]
  },
  {
   "cell_type": "code",
   "execution_count": 3,
   "metadata": {
    "collapsed": false
   },
   "outputs": [
    {
     "data": {
      "text/html": [
       "<div>\n",
       "<style>\n",
       "    .dataframe thead tr:only-child th {\n",
       "        text-align: right;\n",
       "    }\n",
       "\n",
       "    .dataframe thead th {\n",
       "        text-align: left;\n",
       "    }\n",
       "\n",
       "    .dataframe tbody tr th {\n",
       "        vertical-align: top;\n",
       "    }\n",
       "</style>\n",
       "<table border=\"1\" class=\"dataframe\">\n",
       "  <thead>\n",
       "    <tr style=\"text-align: right;\">\n",
       "      <th></th>\n",
       "      <th>id</th>\n",
       "      <th>time</th>\n",
       "      <th>F_x</th>\n",
       "      <th>F_y</th>\n",
       "      <th>F_z</th>\n",
       "      <th>T_x</th>\n",
       "      <th>T_y</th>\n",
       "      <th>T_z</th>\n",
       "    </tr>\n",
       "  </thead>\n",
       "  <tbody>\n",
       "    <tr>\n",
       "      <th>0</th>\n",
       "      <td>1</td>\n",
       "      <td>0</td>\n",
       "      <td>-1</td>\n",
       "      <td>-1</td>\n",
       "      <td>63</td>\n",
       "      <td>-3</td>\n",
       "      <td>-1</td>\n",
       "      <td>0</td>\n",
       "    </tr>\n",
       "    <tr>\n",
       "      <th>1</th>\n",
       "      <td>1</td>\n",
       "      <td>1</td>\n",
       "      <td>0</td>\n",
       "      <td>0</td>\n",
       "      <td>62</td>\n",
       "      <td>-3</td>\n",
       "      <td>-1</td>\n",
       "      <td>0</td>\n",
       "    </tr>\n",
       "    <tr>\n",
       "      <th>2</th>\n",
       "      <td>1</td>\n",
       "      <td>2</td>\n",
       "      <td>-1</td>\n",
       "      <td>-1</td>\n",
       "      <td>61</td>\n",
       "      <td>-3</td>\n",
       "      <td>0</td>\n",
       "      <td>0</td>\n",
       "    </tr>\n",
       "    <tr>\n",
       "      <th>3</th>\n",
       "      <td>1</td>\n",
       "      <td>3</td>\n",
       "      <td>-1</td>\n",
       "      <td>-1</td>\n",
       "      <td>63</td>\n",
       "      <td>-2</td>\n",
       "      <td>-1</td>\n",
       "      <td>0</td>\n",
       "    </tr>\n",
       "    <tr>\n",
       "      <th>4</th>\n",
       "      <td>1</td>\n",
       "      <td>4</td>\n",
       "      <td>-1</td>\n",
       "      <td>-1</td>\n",
       "      <td>63</td>\n",
       "      <td>-3</td>\n",
       "      <td>-1</td>\n",
       "      <td>0</td>\n",
       "    </tr>\n",
       "  </tbody>\n",
       "</table>\n",
       "</div>"
      ],
      "text/plain": [
       "   id  time  F_x  F_y  F_z  T_x  T_y  T_z\n",
       "0   1     0   -1   -1   63   -3   -1    0\n",
       "1   1     1    0    0   62   -3   -1    0\n",
       "2   1     2   -1   -1   61   -3    0    0\n",
       "3   1     3   -1   -1   63   -2   -1    0\n",
       "4   1     4   -1   -1   63   -3   -1    0"
      ]
     },
     "execution_count": 3,
     "metadata": {},
     "output_type": "execute_result"
    }
   ],
   "source": [
    "timeseries.head()"
   ]
  },
  {
   "cell_type": "code",
   "execution_count": null,
   "metadata": {
    "collapsed": false
   },
   "outputs": [
    {
     "name": "stderr",
     "output_type": "stream",
     "text": [
      "Feature Extraction:  40%|████      | 4/10 [00:36<00:55,  9.24s/it]"
     ]
    }
   ],
   "source": [
    "from tsfresh import extract_features\n",
    "\n",
    "extracted_features = extract_features(timeseries, column_id=\"id\", column_sort=\"time\")"
   ]
  },
  {
   "cell_type": "code",
   "execution_count": null,
   "metadata": {
    "collapsed": true
   },
   "outputs": [],
   "source": [
    "from tsfresh import select_features\n",
    "from tsfresh.utilities.dataframe_functions import impute\n",
    "\n",
    "impute(extracted_features)\n",
    "features_filtered = select_features(extracted_features, y)"
   ]
  },
  {
   "cell_type": "code",
   "execution_count": null,
   "metadata": {
    "collapsed": true
   },
   "outputs": [],
   "source": []
  },
  {
   "cell_type": "code",
   "execution_count": null,
   "metadata": {
    "collapsed": true
   },
   "outputs": [],
   "source": []
  },
  {
   "cell_type": "code",
   "execution_count": 109,
   "metadata": {
    "collapsed": false
   },
   "outputs": [],
   "source": [
    "# data\n",
    "import numpy as np\n",
    "import pandas as pd\n",
    "import vertica_python\n",
    "import sqlalchemy as sa\n",
    "import configparser\n",
    "\n",
    "# visualization\n",
    "import matplotlib.pyplot as plt \n",
    "plt.style.use(u'ggplot')\n",
    "%matplotlib inline"
   ]
  },
  {
   "cell_type": "code",
   "execution_count": 110,
   "metadata": {
    "collapsed": false
   },
   "outputs": [],
   "source": [
    "config = configparser.ConfigParser()\n",
    "config.read(\"config.txt\")\n",
    "\n",
    "conn_info = {'host': config.get(\"databases\",\"vertica.host\"),\n",
    "             'port': config.getint(\"databases\",\"vertica.port\"),\n",
    "             'user': config.get(\"databases\",\"vertica.username\"),\n",
    "             'password': config.get(\"databases\",\"vertica.password\"),\n",
    "             'database': config.get(\"databases\",\"vertica.database\"),\n",
    "             'read_timeout': 600,\n",
    "             'unicode_error': 'strict',\n",
    "             'ssl': False}\n",
    "conn = vertica_python.connect(**conn_info)"
   ]
  },
  {
   "cell_type": "code",
   "execution_count": 111,
   "metadata": {
    "collapsed": true
   },
   "outputs": [],
   "source": [
    "def sql_query(query_string): # columns):\n",
    "    cur.execute(query_string)\n",
    "    df = pd.DataFrame(cur.fetchall())\n",
    "    # df.columns = columns\n",
    "    return df"
   ]
  },
  {
   "cell_type": "markdown",
   "metadata": {},
   "source": [
    "# Queries"
   ]
  },
  {
   "cell_type": "markdown",
   "metadata": {},
   "source": [
    "## MAIN"
   ]
  },
  {
   "cell_type": "markdown",
   "metadata": {},
   "source": [
    "### Cohort entity"
   ]
  },
  {
   "cell_type": "markdown",
   "metadata": {},
   "source": [
    "#### WoW cohort values"
   ]
  },
  {
   "cell_type": "code",
   "execution_count": 114,
   "metadata": {
    "collapsed": false
   },
   "outputs": [
    {
     "data": {
      "text/plain": [
       "53"
      ]
     },
     "execution_count": 114,
     "metadata": {},
     "output_type": "execute_result"
    }
   ],
   "source": [
    "#  , COUNT(DISTINCT a.user_id) as num_users\n",
    "\n",
    "query_cohort_wow_value = \"\"\"\n",
    "\n",
    "    SELECT\n",
    "    date_trunc('week', c.bux_account_created_dts)::date as report_week\n",
    "    , SUM(decode(transaction_type, 'COMMISSION',-amount * nvl(exchange_rate, 1),0))::numeric(20,2) + SUM(decode(transaction_type, 'FINANCING_FEE',-amount * nvl(exchange_rate, 1),0))::numeric(20,2) as cohort_value\n",
    "    FROM reporting.transactions a\n",
    "    LEFT JOIN reporting.exchange_rates_eur b on b.report_date = a.created_dts::date and b.currency = a.currency\n",
    "    LEFT JOIN reporting.user_details c USING (user_id)\n",
    "    WHERE c.bux_account_created_dts::date BETWEEN '2016-10-01' AND '2017-09-30'\n",
    "    AND a.created_dts < c.bux_account_created_dts + interval '6 months'\n",
    "    GROUP BY 1\n",
    "    ORDER BY 1\n",
    "\n",
    "\n",
    "\"\"\"\n",
    "\n",
    "cohort_wow_values = sql_query(query_cohort_wow_value)\n",
    "cohort_wow_values['cohort_value'] = cohort_wow_values['cohort_value'].astype(float)\n",
    "cohort_wow_values.to_csv('data/cohort_wow_values.csv',index=False)\n",
    "len(cohort_wow_values)"
   ]
  },
  {
   "cell_type": "code",
   "execution_count": 115,
   "metadata": {
    "collapsed": false
   },
   "outputs": [
    {
     "data": {
      "text/html": [
       "<div>\n",
       "<style>\n",
       "    .dataframe thead tr:only-child th {\n",
       "        text-align: right;\n",
       "    }\n",
       "\n",
       "    .dataframe thead th {\n",
       "        text-align: left;\n",
       "    }\n",
       "\n",
       "    .dataframe tbody tr th {\n",
       "        vertical-align: top;\n",
       "    }\n",
       "</style>\n",
       "<table border=\"1\" class=\"dataframe\">\n",
       "  <thead>\n",
       "    <tr style=\"text-align: right;\">\n",
       "      <th></th>\n",
       "      <th>report_week</th>\n",
       "      <th>cohort_value</th>\n",
       "    </tr>\n",
       "  </thead>\n",
       "  <tbody>\n",
       "    <tr>\n",
       "      <th>0</th>\n",
       "      <td>2016-09-26</td>\n",
       "      <td>7910.58</td>\n",
       "    </tr>\n",
       "    <tr>\n",
       "      <th>1</th>\n",
       "      <td>2016-10-03</td>\n",
       "      <td>26015.06</td>\n",
       "    </tr>\n",
       "    <tr>\n",
       "      <th>2</th>\n",
       "      <td>2016-10-10</td>\n",
       "      <td>78783.53</td>\n",
       "    </tr>\n",
       "    <tr>\n",
       "      <th>3</th>\n",
       "      <td>2016-10-17</td>\n",
       "      <td>20273.10</td>\n",
       "    </tr>\n",
       "    <tr>\n",
       "      <th>4</th>\n",
       "      <td>2016-10-24</td>\n",
       "      <td>32364.92</td>\n",
       "    </tr>\n",
       "  </tbody>\n",
       "</table>\n",
       "</div>"
      ],
      "text/plain": [
       "  report_week  cohort_value\n",
       "0  2016-09-26       7910.58\n",
       "1  2016-10-03      26015.06\n",
       "2  2016-10-10      78783.53\n",
       "3  2016-10-17      20273.10\n",
       "4  2016-10-24      32364.92"
      ]
     },
     "execution_count": 115,
     "metadata": {},
     "output_type": "execute_result"
    }
   ],
   "source": [
    "# cohort_wow_values['ARPU'] = (cohort_wow_values['cohort_value'] / cohort_wow_values['num_users']).astype(int)\n",
    "cohort_wow_values.head()"
   ]
  },
  {
   "cell_type": "code",
   "execution_count": 68,
   "metadata": {
    "collapsed": false
   },
   "outputs": [
    {
     "data": {
      "image/png": "[encoded data removed]",
      "text/plain": [
       "<matplotlib.figure.Figure at 0x7fabebedaf28>"
      ]
     },
     "metadata": {},
     "output_type": "display_data"
    }
   ],
   "source": [
    "cohort_wow_values.set_index('report_date').plot(kind='line', ylim=(0,cohort_wow_values['cohort_value'].max()*1.3), figsize=(12,6));"
   ]
  },
  {
   "cell_type": "markdown",
   "metadata": {},
   "source": [
    "#### Time series (price movement for each of the asset classes)"
   ]
  },
  {
   "cell_type": "code",
   "execution_count": 87,
   "metadata": {
    "collapsed": false,
    "scrolled": true
   },
   "outputs": [
    {
     "data": {
      "text/html": [
       "<div>\n",
       "<style>\n",
       "    .dataframe thead tr:only-child th {\n",
       "        text-align: right;\n",
       "    }\n",
       "\n",
       "    .dataframe thead th {\n",
       "        text-align: left;\n",
       "    }\n",
       "\n",
       "    .dataframe tbody tr th {\n",
       "        vertical-align: top;\n",
       "    }\n",
       "</style>\n",
       "<table border=\"1\" class=\"dataframe\">\n",
       "  <thead>\n",
       "    <tr style=\"text-align: right;\">\n",
       "      <th></th>\n",
       "      <th>report_week</th>\n",
       "      <th>date</th>\n",
       "      <th>product_type</th>\n",
       "      <th>price</th>\n",
       "    </tr>\n",
       "  </thead>\n",
       "  <tbody>\n",
       "    <tr>\n",
       "      <th>0</th>\n",
       "      <td>2016-09-26</td>\n",
       "      <td>2016-10-01 00:00:00</td>\n",
       "      <td>Stock</td>\n",
       "      <td>0.015</td>\n",
       "    </tr>\n",
       "    <tr>\n",
       "      <th>1</th>\n",
       "      <td>2016-09-26</td>\n",
       "      <td>2016-10-01 01:00:00</td>\n",
       "      <td>Stock</td>\n",
       "      <td>0.015</td>\n",
       "    </tr>\n",
       "    <tr>\n",
       "      <th>2</th>\n",
       "      <td>2016-09-26</td>\n",
       "      <td>2016-10-01 02:00:00</td>\n",
       "      <td>Stock</td>\n",
       "      <td>0.015</td>\n",
       "    </tr>\n",
       "    <tr>\n",
       "      <th>3</th>\n",
       "      <td>2016-09-26</td>\n",
       "      <td>2016-10-01 03:00:00</td>\n",
       "      <td>Stock</td>\n",
       "      <td>0.015</td>\n",
       "    </tr>\n",
       "    <tr>\n",
       "      <th>4</th>\n",
       "      <td>2016-09-26</td>\n",
       "      <td>2016-10-01 04:00:00</td>\n",
       "      <td>Stock</td>\n",
       "      <td>0.015</td>\n",
       "    </tr>\n",
       "  </tbody>\n",
       "</table>\n",
       "</div>"
      ],
      "text/plain": [
       "  report_week                date product_type  price\n",
       "0  2016-09-26 2016-10-01 00:00:00        Stock  0.015\n",
       "1  2016-09-26 2016-10-01 01:00:00        Stock  0.015\n",
       "2  2016-09-26 2016-10-01 02:00:00        Stock  0.015\n",
       "3  2016-09-26 2016-10-01 03:00:00        Stock  0.015\n",
       "4  2016-09-26 2016-10-01 04:00:00        Stock  0.015"
      ]
     },
     "execution_count": 87,
     "metadata": {},
     "output_type": "execute_result"
    }
   ],
   "source": [
    "cohort_query_ts = \"\"\" \n",
    "    \n",
    "            SELECT date_trunc('week', report_dts)::date as report_week, report_dts as date, product_type, AVG(close_price)::FLOAT as price\n",
    "            FROM reporting.trading_quotes_candlestick \n",
    "            LEFT JOIN reporting.products b USING(product_id)\n",
    "            WHERE duration = 'ONE_HOUR'\n",
    "            AND report_dts BETWEEN '2016-10-01' AND '2017-09-30'\n",
    "            GROUP BY 1,2,3\n",
    "            ORDER BY 2,3\n",
    "            \n",
    "        \"\"\"\n",
    "cohort_ts = sql_query(cohort_query_ts)\n",
    "cohort_ts['price'] = cohort_ts['price'].astype(float)\n",
    "# cohort_ts.set_index('date', inplace=True)\n",
    "cohort_ts.head()"
   ]
  },
  {
   "cell_type": "code",
   "execution_count": 88,
   "metadata": {
    "collapsed": true
   },
   "outputs": [],
   "source": [
    "cohort_ts.to_csv('data/cohort_ts.csv', index=False)"
   ]
  },
  {
   "cell_type": "code",
   "execution_count": 89,
   "metadata": {
    "collapsed": false
   },
   "outputs": [
    {
     "data": {
      "text/plain": [
       "34435"
      ]
     },
     "execution_count": 89,
     "metadata": {},
     "output_type": "execute_result"
    }
   ],
   "source": [
    "len(cohort_ts)"
   ]
  },
  {
   "cell_type": "code",
   "execution_count": 90,
   "metadata": {
    "collapsed": true
   },
   "outputs": [],
   "source": [
    "def plot_asset_class(product_type):\n",
    "    cohort_ts[cohort_ts['product_type'] == product_type].set_index('date')[['price']].plot(kind='line', figsize=(10,6), title=product_type);"
   ]
  },
  {
   "cell_type": "code",
   "execution_count": 95,
   "metadata": {
    "collapsed": false
   },
   "outputs": [
    {
     "data": {
      "image/png": "[encoded data removed]",
      "text/plain": [
       "<matplotlib.figure.Figure at 0x7fabeb0a13c8>"
      ]
     },
     "metadata": {},
     "output_type": "display_data"
    }
   ],
   "source": [
    "for product_type in list(cohort_ts['product_type'][2:4].unique()):\n",
    "    plot_asset_class(product_type)"
   ]
  },
  {
   "cell_type": "code",
   "execution_count": 48,
   "metadata": {
    "collapsed": false
   },
   "outputs": [
    {
     "data": {
      "text/html": [
       "<div>\n",
       "<style>\n",
       "    .dataframe thead tr:only-child th {\n",
       "        text-align: right;\n",
       "    }\n",
       "\n",
       "    .dataframe thead th {\n",
       "        text-align: left;\n",
       "    }\n",
       "\n",
       "    .dataframe tbody tr th {\n",
       "        vertical-align: top;\n",
       "    }\n",
       "</style>\n",
       "<table border=\"1\" class=\"dataframe\">\n",
       "  <thead>\n",
       "    <tr style=\"text-align: right;\">\n",
       "      <th></th>\n",
       "      <th>year_week</th>\n",
       "      <th>date</th>\n",
       "      <th>product_type</th>\n",
       "      <th>price</th>\n",
       "    </tr>\n",
       "  </thead>\n",
       "  <tbody>\n",
       "    <tr>\n",
       "      <th>0</th>\n",
       "      <td>2016-12-26</td>\n",
       "      <td>2017-01-01 00:00:00</td>\n",
       "      <td>Stock</td>\n",
       "      <td>0.015</td>\n",
       "    </tr>\n",
       "    <tr>\n",
       "      <th>1</th>\n",
       "      <td>2016-12-26</td>\n",
       "      <td>2017-01-01 01:00:00</td>\n",
       "      <td>Stock</td>\n",
       "      <td>0.015</td>\n",
       "    </tr>\n",
       "    <tr>\n",
       "      <th>2</th>\n",
       "      <td>2016-12-26</td>\n",
       "      <td>2017-01-01 02:00:00</td>\n",
       "      <td>Stock</td>\n",
       "      <td>0.015</td>\n",
       "    </tr>\n",
       "    <tr>\n",
       "      <th>3</th>\n",
       "      <td>2016-12-26</td>\n",
       "      <td>2017-01-01 03:00:00</td>\n",
       "      <td>Stock</td>\n",
       "      <td>0.015</td>\n",
       "    </tr>\n",
       "    <tr>\n",
       "      <th>4</th>\n",
       "      <td>2016-12-26</td>\n",
       "      <td>2017-01-01 04:00:00</td>\n",
       "      <td>Stock</td>\n",
       "      <td>0.015</td>\n",
       "    </tr>\n",
       "  </tbody>\n",
       "</table>\n",
       "</div>"
      ],
      "text/plain": [
       "    year_week                date product_type  price\n",
       "0  2016-12-26 2017-01-01 00:00:00        Stock  0.015\n",
       "1  2016-12-26 2017-01-01 01:00:00        Stock  0.015\n",
       "2  2016-12-26 2017-01-01 02:00:00        Stock  0.015\n",
       "3  2016-12-26 2017-01-01 03:00:00        Stock  0.015\n",
       "4  2016-12-26 2017-01-01 04:00:00        Stock  0.015"
      ]
     },
     "execution_count": 48,
     "metadata": {},
     "output_type": "execute_result"
    }
   ],
   "source": [
    "cohort_ts.head()"
   ]
  },
  {
   "cell_type": "code",
   "execution_count": 50,
   "metadata": {
    "collapsed": false
   },
   "outputs": [
    {
     "name": "stderr",
     "output_type": "stream",
     "text": [
      "\n",
      "\n",
      "\n",
      "\n",
      "\n",
      "Feature Extraction:   0%|          | 0/6 [00:00<?, ?it/s]\u001b[A\u001b[A\u001b[A\u001b[A\u001b[A\n",
      "\n",
      "\n",
      "\n",
      "\n",
      "Feature Extraction:  17%|█▋        | 1/6 [00:00<00:02,  1.93it/s]\u001b[A\u001b[A\u001b[A\u001b[A\u001b[A\n",
      "\n",
      "\n",
      "\n",
      "\n",
      "Feature Extraction:  33%|███▎      | 2/6 [00:06<00:12,  3.20s/it]\u001b[A\u001b[A\u001b[A\u001b[A\u001b[A\n",
      "\n",
      "\n",
      "\n",
      "\n",
      "Feature Extraction:  50%|█████     | 3/6 [00:08<00:08,  2.73s/it]\u001b[A\u001b[A\u001b[A\u001b[A\u001b[A\n",
      "\n",
      "\n",
      "\n",
      "\n",
      "Feature Extraction:  67%|██████▋   | 4/6 [00:12<00:06,  3.23s/it]\u001b[A\u001b[A\u001b[A\u001b[A\u001b[A\n",
      "\n",
      "\n",
      "\n",
      "\n",
      "Feature Extraction:  83%|████████▎ | 5/6 [00:13<00:02,  2.76s/it]\u001b[A\u001b[A\u001b[A\u001b[A\u001b[A\n",
      "\n",
      "\n",
      "\n",
      "\n",
      "Feature Extraction: 100%|██████████| 6/6 [00:14<00:00,  2.47s/it]\u001b[A\u001b[A\u001b[A\u001b[A\u001b[A\n",
      "\n",
      "\n",
      "\n",
      "\n",
      "\u001b[A\u001b[A\u001b[A\u001b[A\u001b[A"
     ]
    },
    {
     "data": {
      "text/html": [
       "<div>\n",
       "<style>\n",
       "    .dataframe thead tr:only-child th {\n",
       "        text-align: right;\n",
       "    }\n",
       "\n",
       "    .dataframe thead th {\n",
       "        text-align: left;\n",
       "    }\n",
       "\n",
       "    .dataframe tbody tr th {\n",
       "        vertical-align: top;\n",
       "    }\n",
       "</style>\n",
       "<table border=\"1\" class=\"dataframe\">\n",
       "  <thead>\n",
       "    <tr style=\"text-align: right;\">\n",
       "      <th>variable</th>\n",
       "      <th>price__abs_energy</th>\n",
       "      <th>price__absolute_sum_of_changes</th>\n",
       "      <th>price__agg_autocorrelation__f_agg_\"mean\"</th>\n",
       "      <th>price__agg_autocorrelation__f_agg_\"median\"</th>\n",
       "      <th>price__agg_autocorrelation__f_agg_\"var\"</th>\n",
       "      <th>price__agg_linear_trend__f_agg_\"max\"__chunk_len_10__attr_\"intercept\"</th>\n",
       "      <th>price__agg_linear_trend__f_agg_\"max\"__chunk_len_10__attr_\"rvalue\"</th>\n",
       "      <th>price__agg_linear_trend__f_agg_\"max\"__chunk_len_10__attr_\"slope\"</th>\n",
       "      <th>price__agg_linear_trend__f_agg_\"max\"__chunk_len_10__attr_\"stderr\"</th>\n",
       "      <th>price__agg_linear_trend__f_agg_\"max\"__chunk_len_50__attr_\"intercept\"</th>\n",
       "      <th>...</th>\n",
       "      <th>price__time_reversal_asymmetry_statistic__lag_1</th>\n",
       "      <th>price__time_reversal_asymmetry_statistic__lag_2</th>\n",
       "      <th>price__time_reversal_asymmetry_statistic__lag_3</th>\n",
       "      <th>price__value_count__value_-inf</th>\n",
       "      <th>price__value_count__value_0</th>\n",
       "      <th>price__value_count__value_1</th>\n",
       "      <th>price__value_count__value_inf</th>\n",
       "      <th>price__value_count__value_nan</th>\n",
       "      <th>price__variance</th>\n",
       "      <th>price__variance_larger_than_standard_deviation</th>\n",
       "    </tr>\n",
       "    <tr>\n",
       "      <th>id</th>\n",
       "      <th></th>\n",
       "      <th></th>\n",
       "      <th></th>\n",
       "      <th></th>\n",
       "      <th></th>\n",
       "      <th></th>\n",
       "      <th></th>\n",
       "      <th></th>\n",
       "      <th></th>\n",
       "      <th></th>\n",
       "      <th></th>\n",
       "      <th></th>\n",
       "      <th></th>\n",
       "      <th></th>\n",
       "      <th></th>\n",
       "      <th></th>\n",
       "      <th></th>\n",
       "      <th></th>\n",
       "      <th></th>\n",
       "      <th></th>\n",
       "      <th></th>\n",
       "    </tr>\n",
       "  </thead>\n",
       "  <tbody>\n",
       "    <tr>\n",
       "      <th>2016-12-26</th>\n",
       "      <td>3.796514e+02</td>\n",
       "      <td>19.432999</td>\n",
       "      <td>-0.128531</td>\n",
       "      <td>-0.045046</td>\n",
       "      <td>0.051808</td>\n",
       "      <td>16.209166</td>\n",
       "      <td>-0.866025</td>\n",
       "      <td>-9.716500</td>\n",
       "      <td>5.609824</td>\n",
       "      <td>NaN</td>\n",
       "      <td>...</td>\n",
       "      <td>-1.878919e+01</td>\n",
       "      <td>-2.588492e-01</td>\n",
       "      <td>-2.847342e-01</td>\n",
       "      <td>0.0</td>\n",
       "      <td>0.0</td>\n",
       "      <td>0.0</td>\n",
       "      <td>0.0</td>\n",
       "      <td>0.0</td>\n",
       "      <td>1.394960e+01</td>\n",
       "      <td>1.0</td>\n",
       "    </tr>\n",
       "    <tr>\n",
       "      <th>2017-01-02</th>\n",
       "      <td>6.451342e+09</td>\n",
       "      <td>70074.260578</td>\n",
       "      <td>0.754803</td>\n",
       "      <td>0.755340</td>\n",
       "      <td>0.018501</td>\n",
       "      <td>1105.928985</td>\n",
       "      <td>0.133227</td>\n",
       "      <td>24.368695</td>\n",
       "      <td>23.600635</td>\n",
       "      <td>1408.163130</td>\n",
       "      <td>...</td>\n",
       "      <td>1.167236e+07</td>\n",
       "      <td>1.130563e+08</td>\n",
       "      <td>1.026185e+08</td>\n",
       "      <td>0.0</td>\n",
       "      <td>0.0</td>\n",
       "      <td>0.0</td>\n",
       "      <td>0.0</td>\n",
       "      <td>0.0</td>\n",
       "      <td>8.337388e+06</td>\n",
       "      <td>1.0</td>\n",
       "    </tr>\n",
       "    <tr>\n",
       "      <th>2017-01-09</th>\n",
       "      <td>7.310726e+09</td>\n",
       "      <td>81021.141355</td>\n",
       "      <td>0.792450</td>\n",
       "      <td>0.792564</td>\n",
       "      <td>0.012910</td>\n",
       "      <td>900.350922</td>\n",
       "      <td>0.159042</td>\n",
       "      <td>26.008833</td>\n",
       "      <td>20.025757</td>\n",
       "      <td>1138.239654</td>\n",
       "      <td>...</td>\n",
       "      <td>2.208720e+07</td>\n",
       "      <td>-7.722608e+07</td>\n",
       "      <td>-6.756252e+07</td>\n",
       "      <td>0.0</td>\n",
       "      <td>0.0</td>\n",
       "      <td>0.0</td>\n",
       "      <td>0.0</td>\n",
       "      <td>0.0</td>\n",
       "      <td>8.591484e+06</td>\n",
       "      <td>1.0</td>\n",
       "    </tr>\n",
       "    <tr>\n",
       "      <th>2017-01-16</th>\n",
       "      <td>7.152673e+09</td>\n",
       "      <td>81351.853538</td>\n",
       "      <td>0.783193</td>\n",
       "      <td>0.785682</td>\n",
       "      <td>0.014667</td>\n",
       "      <td>993.909564</td>\n",
       "      <td>0.140901</td>\n",
       "      <td>23.553118</td>\n",
       "      <td>20.686572</td>\n",
       "      <td>1911.050408</td>\n",
       "      <td>...</td>\n",
       "      <td>8.993031e+07</td>\n",
       "      <td>2.164593e+07</td>\n",
       "      <td>-6.774005e+07</td>\n",
       "      <td>0.0</td>\n",
       "      <td>0.0</td>\n",
       "      <td>0.0</td>\n",
       "      <td>0.0</td>\n",
       "      <td>0.0</td>\n",
       "      <td>8.588847e+06</td>\n",
       "      <td>1.0</td>\n",
       "    </tr>\n",
       "    <tr>\n",
       "      <th>2017-01-23</th>\n",
       "      <td>7.362137e+09</td>\n",
       "      <td>85015.193021</td>\n",
       "      <td>0.790892</td>\n",
       "      <td>0.795817</td>\n",
       "      <td>0.013749</td>\n",
       "      <td>880.098971</td>\n",
       "      <td>0.165633</td>\n",
       "      <td>26.884172</td>\n",
       "      <td>19.854221</td>\n",
       "      <td>1151.737956</td>\n",
       "      <td>...</td>\n",
       "      <td>-1.112875e+08</td>\n",
       "      <td>-1.870320e+08</td>\n",
       "      <td>-2.793407e+08</td>\n",
       "      <td>0.0</td>\n",
       "      <td>0.0</td>\n",
       "      <td>0.0</td>\n",
       "      <td>0.0</td>\n",
       "      <td>0.0</td>\n",
       "      <td>8.650938e+06</td>\n",
       "      <td>1.0</td>\n",
       "    </tr>\n",
       "    <tr>\n",
       "      <th>2017-01-30</th>\n",
       "      <td>1.544913e+09</td>\n",
       "      <td>25929.722373</td>\n",
       "      <td>0.042727</td>\n",
       "      <td>-0.124444</td>\n",
       "      <td>0.220481</td>\n",
       "      <td>749.576812</td>\n",
       "      <td>0.264702</td>\n",
       "      <td>245.383392</td>\n",
       "      <td>269.536672</td>\n",
       "      <td>3386.861681</td>\n",
       "      <td>...</td>\n",
       "      <td>-1.769893e+08</td>\n",
       "      <td>-7.759842e+08</td>\n",
       "      <td>-7.772546e+08</td>\n",
       "      <td>0.0</td>\n",
       "      <td>0.0</td>\n",
       "      <td>0.0</td>\n",
       "      <td>0.0</td>\n",
       "      <td>0.0</td>\n",
       "      <td>9.196702e+06</td>\n",
       "      <td>1.0</td>\n",
       "    </tr>\n",
       "  </tbody>\n",
       "</table>\n",
       "<p>6 rows × 794 columns</p>\n",
       "</div>"
      ],
      "text/plain": [
       "variable    price__abs_energy  price__absolute_sum_of_changes  \\\n",
       "id                                                              \n",
       "2016-12-26       3.796514e+02                       19.432999   \n",
       "2017-01-02       6.451342e+09                    70074.260578   \n",
       "2017-01-09       7.310726e+09                    81021.141355   \n",
       "2017-01-16       7.152673e+09                    81351.853538   \n",
       "2017-01-23       7.362137e+09                    85015.193021   \n",
       "2017-01-30       1.544913e+09                    25929.722373   \n",
       "\n",
       "variable    price__agg_autocorrelation__f_agg_\"mean\"  \\\n",
       "id                                                     \n",
       "2016-12-26                                 -0.128531   \n",
       "2017-01-02                                  0.754803   \n",
       "2017-01-09                                  0.792450   \n",
       "2017-01-16                                  0.783193   \n",
       "2017-01-23                                  0.790892   \n",
       "2017-01-30                                  0.042727   \n",
       "\n",
       "variable    price__agg_autocorrelation__f_agg_\"median\"  \\\n",
       "id                                                       \n",
       "2016-12-26                                   -0.045046   \n",
       "2017-01-02                                    0.755340   \n",
       "2017-01-09                                    0.792564   \n",
       "2017-01-16                                    0.785682   \n",
       "2017-01-23                                    0.795817   \n",
       "2017-01-30                                   -0.124444   \n",
       "\n",
       "variable    price__agg_autocorrelation__f_agg_\"var\"  \\\n",
       "id                                                    \n",
       "2016-12-26                                 0.051808   \n",
       "2017-01-02                                 0.018501   \n",
       "2017-01-09                                 0.012910   \n",
       "2017-01-16                                 0.014667   \n",
       "2017-01-23                                 0.013749   \n",
       "2017-01-30                                 0.220481   \n",
       "\n",
       "variable    price__agg_linear_trend__f_agg_\"max\"__chunk_len_10__attr_\"intercept\"  \\\n",
       "id                                                                                 \n",
       "2016-12-26                                          16.209166                      \n",
       "2017-01-02                                        1105.928985                      \n",
       "2017-01-09                                         900.350922                      \n",
       "2017-01-16                                         993.909564                      \n",
       "2017-01-23                                         880.098971                      \n",
       "2017-01-30                                         749.576812                      \n",
       "\n",
       "variable    price__agg_linear_trend__f_agg_\"max\"__chunk_len_10__attr_\"rvalue\"  \\\n",
       "id                                                                              \n",
       "2016-12-26                                          -0.866025                   \n",
       "2017-01-02                                           0.133227                   \n",
       "2017-01-09                                           0.159042                   \n",
       "2017-01-16                                           0.140901                   \n",
       "2017-01-23                                           0.165633                   \n",
       "2017-01-30                                           0.264702                   \n",
       "\n",
       "variable    price__agg_linear_trend__f_agg_\"max\"__chunk_len_10__attr_\"slope\"  \\\n",
       "id                                                                             \n",
       "2016-12-26                                          -9.716500                  \n",
       "2017-01-02                                          24.368695                  \n",
       "2017-01-09                                          26.008833                  \n",
       "2017-01-16                                          23.553118                  \n",
       "2017-01-23                                          26.884172                  \n",
       "2017-01-30                                         245.383392                  \n",
       "\n",
       "variable    price__agg_linear_trend__f_agg_\"max\"__chunk_len_10__attr_\"stderr\"  \\\n",
       "id                                                                              \n",
       "2016-12-26                                           5.609824                   \n",
       "2017-01-02                                          23.600635                   \n",
       "2017-01-09                                          20.025757                   \n",
       "2017-01-16                                          20.686572                   \n",
       "2017-01-23                                          19.854221                   \n",
       "2017-01-30                                         269.536672                   \n",
       "\n",
       "variable    price__agg_linear_trend__f_agg_\"max\"__chunk_len_50__attr_\"intercept\"  \\\n",
       "id                                                                                 \n",
       "2016-12-26                                                NaN                      \n",
       "2017-01-02                                        1408.163130                      \n",
       "2017-01-09                                        1138.239654                      \n",
       "2017-01-16                                        1911.050408                      \n",
       "2017-01-23                                        1151.737956                      \n",
       "2017-01-30                                        3386.861681                      \n",
       "\n",
       "variable                         ...                        \\\n",
       "id                               ...                         \n",
       "2016-12-26                       ...                         \n",
       "2017-01-02                       ...                         \n",
       "2017-01-09                       ...                         \n",
       "2017-01-16                       ...                         \n",
       "2017-01-23                       ...                         \n",
       "2017-01-30                       ...                         \n",
       "\n",
       "variable    price__time_reversal_asymmetry_statistic__lag_1  \\\n",
       "id                                                            \n",
       "2016-12-26                                    -1.878919e+01   \n",
       "2017-01-02                                     1.167236e+07   \n",
       "2017-01-09                                     2.208720e+07   \n",
       "2017-01-16                                     8.993031e+07   \n",
       "2017-01-23                                    -1.112875e+08   \n",
       "2017-01-30                                    -1.769893e+08   \n",
       "\n",
       "variable    price__time_reversal_asymmetry_statistic__lag_2  \\\n",
       "id                                                            \n",
       "2016-12-26                                    -2.588492e-01   \n",
       "2017-01-02                                     1.130563e+08   \n",
       "2017-01-09                                    -7.722608e+07   \n",
       "2017-01-16                                     2.164593e+07   \n",
       "2017-01-23                                    -1.870320e+08   \n",
       "2017-01-30                                    -7.759842e+08   \n",
       "\n",
       "variable    price__time_reversal_asymmetry_statistic__lag_3  \\\n",
       "id                                                            \n",
       "2016-12-26                                    -2.847342e-01   \n",
       "2017-01-02                                     1.026185e+08   \n",
       "2017-01-09                                    -6.756252e+07   \n",
       "2017-01-16                                    -6.774005e+07   \n",
       "2017-01-23                                    -2.793407e+08   \n",
       "2017-01-30                                    -7.772546e+08   \n",
       "\n",
       "variable    price__value_count__value_-inf  price__value_count__value_0  \\\n",
       "id                                                                        \n",
       "2016-12-26                             0.0                          0.0   \n",
       "2017-01-02                             0.0                          0.0   \n",
       "2017-01-09                             0.0                          0.0   \n",
       "2017-01-16                             0.0                          0.0   \n",
       "2017-01-23                             0.0                          0.0   \n",
       "2017-01-30                             0.0                          0.0   \n",
       "\n",
       "variable    price__value_count__value_1  price__value_count__value_inf  \\\n",
       "id                                                                       \n",
       "2016-12-26                          0.0                            0.0   \n",
       "2017-01-02                          0.0                            0.0   \n",
       "2017-01-09                          0.0                            0.0   \n",
       "2017-01-16                          0.0                            0.0   \n",
       "2017-01-23                          0.0                            0.0   \n",
       "2017-01-30                          0.0                            0.0   \n",
       "\n",
       "variable    price__value_count__value_nan  price__variance  \\\n",
       "id                                                           \n",
       "2016-12-26                            0.0     1.394960e+01   \n",
       "2017-01-02                            0.0     8.337388e+06   \n",
       "2017-01-09                            0.0     8.591484e+06   \n",
       "2017-01-16                            0.0     8.588847e+06   \n",
       "2017-01-23                            0.0     8.650938e+06   \n",
       "2017-01-30                            0.0     9.196702e+06   \n",
       "\n",
       "variable    price__variance_larger_than_standard_deviation  \n",
       "id                                                          \n",
       "2016-12-26                                             1.0  \n",
       "2017-01-02                                             1.0  \n",
       "2017-01-09                                             1.0  \n",
       "2017-01-16                                             1.0  \n",
       "2017-01-23                                             1.0  \n",
       "2017-01-30                                             1.0  \n",
       "\n",
       "[6 rows x 794 columns]"
      ]
     },
     "execution_count": 50,
     "metadata": {},
     "output_type": "execute_result"
    }
   ],
   "source": [
    "# extracted_features = extract_features(cohort_ts[['year_week', 'product_type', 'price']], column_id=\"product_type\", column_sort=\"year_week\")\n",
    "cohort_feature_matrix= extract_features(cohort_ts[['year_week', 'product_type', 'price']], column_id=\"year_week\", column_sort=\"product_type\")\n",
    "cohort_feature_matrix"
   ]
  },
  {
   "cell_type": "markdown",
   "metadata": {},
   "source": [
    "### Vix"
   ]
  },
  {
   "cell_type": "code",
   "execution_count": 44,
   "metadata": {
    "collapsed": false
   },
   "outputs": [
    {
     "data": {
      "text/html": [
       "<div>\n",
       "<style>\n",
       "    .dataframe thead tr:only-child th {\n",
       "        text-align: right;\n",
       "    }\n",
       "\n",
       "    .dataframe thead th {\n",
       "        text-align: left;\n",
       "    }\n",
       "\n",
       "    .dataframe tbody tr th {\n",
       "        vertical-align: top;\n",
       "    }\n",
       "</style>\n",
       "<table border=\"1\" class=\"dataframe\">\n",
       "  <thead>\n",
       "    <tr style=\"text-align: right;\">\n",
       "      <th></th>\n",
       "      <th>product_type</th>\n",
       "      <th>average_vix_norm</th>\n",
       "    </tr>\n",
       "  </thead>\n",
       "  <tbody>\n",
       "    <tr>\n",
       "      <th>0</th>\n",
       "      <td>Commodity</td>\n",
       "      <td>90.671756</td>\n",
       "    </tr>\n",
       "    <tr>\n",
       "      <th>1</th>\n",
       "      <td>Currency</td>\n",
       "      <td>94.802788</td>\n",
       "    </tr>\n",
       "    <tr>\n",
       "      <th>2</th>\n",
       "      <td>Future</td>\n",
       "      <td>84.693795</td>\n",
       "    </tr>\n",
       "    <tr>\n",
       "      <th>3</th>\n",
       "      <td>Index</td>\n",
       "      <td>85.868841</td>\n",
       "    </tr>\n",
       "    <tr>\n",
       "      <th>4</th>\n",
       "      <td>Stock</td>\n",
       "      <td>92.892268</td>\n",
       "    </tr>\n",
       "  </tbody>\n",
       "</table>\n",
       "</div>"
      ],
      "text/plain": [
       "  product_type  average_vix_norm\n",
       "0    Commodity         90.671756\n",
       "1     Currency         94.802788\n",
       "2       Future         84.693795\n",
       "3        Index         85.868841\n",
       "4        Stock         92.892268"
      ]
     },
     "execution_count": 44,
     "metadata": {},
     "output_type": "execute_result"
    }
   ],
   "source": [
    "cohort_query_vix_normalized = \"\"\" \n",
    "    \n",
    "            SELECT product_type, AVG(vix) as average_vix_norm\n",
    "            FROM reporting.product_volatility\n",
    "            WHERE report_date BETWEEN '2016-01-01' AND '2017-12-31'\n",
    "            GROUP BY 1\n",
    "            ORDER BY 1\n",
    "        \"\"\"\n",
    "cohort_vix_normalized = sql_query(cohort_query_vix_normalized)\n",
    "cohort_vix_normalized.head()"
   ]
  },
  {
   "cell_type": "code",
   "execution_count": 45,
   "metadata": {
    "collapsed": false
   },
   "outputs": [
    {
     "data": {
      "text/html": [
       "<div>\n",
       "<style>\n",
       "    .dataframe thead tr:only-child th {\n",
       "        text-align: right;\n",
       "    }\n",
       "\n",
       "    .dataframe thead th {\n",
       "        text-align: left;\n",
       "    }\n",
       "\n",
       "    .dataframe tbody tr th {\n",
       "        vertical-align: top;\n",
       "    }\n",
       "</style>\n",
       "<table border=\"1\" class=\"dataframe\">\n",
       "  <thead>\n",
       "    <tr style=\"text-align: right;\">\n",
       "      <th></th>\n",
       "      <th>report_week</th>\n",
       "      <th>product_type</th>\n",
       "      <th>average_vix</th>\n",
       "    </tr>\n",
       "  </thead>\n",
       "  <tbody>\n",
       "    <tr>\n",
       "      <th>0</th>\n",
       "      <td>2016-10-03</td>\n",
       "      <td>Commodity</td>\n",
       "      <td>121.670178</td>\n",
       "    </tr>\n",
       "    <tr>\n",
       "      <th>1</th>\n",
       "      <td>2016-10-03</td>\n",
       "      <td>Currency</td>\n",
       "      <td>105.126720</td>\n",
       "    </tr>\n",
       "    <tr>\n",
       "      <th>2</th>\n",
       "      <td>2016-10-03</td>\n",
       "      <td>Future</td>\n",
       "      <td>55.977572</td>\n",
       "    </tr>\n",
       "    <tr>\n",
       "      <th>3</th>\n",
       "      <td>2016-10-03</td>\n",
       "      <td>Index</td>\n",
       "      <td>71.856906</td>\n",
       "    </tr>\n",
       "    <tr>\n",
       "      <th>4</th>\n",
       "      <td>2016-10-03</td>\n",
       "      <td>Stock</td>\n",
       "      <td>81.741464</td>\n",
       "    </tr>\n",
       "  </tbody>\n",
       "</table>\n",
       "</div>"
      ],
      "text/plain": [
       "  report_week product_type  average_vix\n",
       "0  2016-10-03    Commodity   121.670178\n",
       "1  2016-10-03     Currency   105.126720\n",
       "2  2016-10-03       Future    55.977572\n",
       "3  2016-10-03        Index    71.856906\n",
       "4  2016-10-03        Stock    81.741464"
      ]
     },
     "execution_count": 45,
     "metadata": {},
     "output_type": "execute_result"
    }
   ],
   "source": [
    "# DROP TABLE IF EXISTS temp_users;\n",
    "#             EXTRACT(year FROM report_date) as year, EXTRACT(week FROM report_date) as week\n",
    "\n",
    "cohort_query_vix = \"\"\" \n",
    "    \n",
    "            SELECT date_trunc('week', report_date)::date as report_week, product_type, AVG(vix) as average_vix\n",
    "            FROM reporting.product_volatility\n",
    "            WHERE report_date BETWEEN '2016-10-01' AND '2017-09-30'\n",
    "            GROUP BY 1,2\n",
    "            ORDER BY 1\n",
    "        \"\"\"\n",
    "cohort_data = sql_query(cohort_query_vix)\n",
    "cohort_data.head()"
   ]
  },
  {
   "cell_type": "code",
   "execution_count": 46,
   "metadata": {
    "collapsed": false
   },
   "outputs": [
    {
     "data": {
      "text/html": [
       "<div>\n",
       "<style>\n",
       "    .dataframe thead tr:only-child th {\n",
       "        text-align: right;\n",
       "    }\n",
       "\n",
       "    .dataframe thead th {\n",
       "        text-align: left;\n",
       "    }\n",
       "\n",
       "    .dataframe tbody tr th {\n",
       "        vertical-align: top;\n",
       "    }\n",
       "</style>\n",
       "<table border=\"1\" class=\"dataframe\">\n",
       "  <thead>\n",
       "    <tr style=\"text-align: right;\">\n",
       "      <th>product_type</th>\n",
       "      <th>report_week</th>\n",
       "      <th>Commodity</th>\n",
       "      <th>Currency</th>\n",
       "      <th>Future</th>\n",
       "      <th>Index</th>\n",
       "      <th>Stock</th>\n",
       "      <th>Currency_norm</th>\n",
       "      <th>Future_norm</th>\n",
       "      <th>Index_norm</th>\n",
       "      <th>Stock_norm</th>\n",
       "    </tr>\n",
       "  </thead>\n",
       "  <tbody>\n",
       "    <tr>\n",
       "      <th>0</th>\n",
       "      <td>2016-10-03</td>\n",
       "      <td>121.670178</td>\n",
       "      <td>105.126720</td>\n",
       "      <td>55.977572</td>\n",
       "      <td>71.856906</td>\n",
       "      <td>81.741464</td>\n",
       "      <td>1.118369</td>\n",
       "      <td>0.666400</td>\n",
       "      <td>0.845375</td>\n",
       "      <td>0.888494</td>\n",
       "    </tr>\n",
       "    <tr>\n",
       "      <th>1</th>\n",
       "      <td>2016-10-10</td>\n",
       "      <td>76.958261</td>\n",
       "      <td>97.906805</td>\n",
       "      <td>64.388402</td>\n",
       "      <td>76.701221</td>\n",
       "      <td>81.688184</td>\n",
       "      <td>1.041562</td>\n",
       "      <td>0.766529</td>\n",
       "      <td>0.902367</td>\n",
       "      <td>0.887915</td>\n",
       "    </tr>\n",
       "    <tr>\n",
       "      <th>2</th>\n",
       "      <td>2016-10-17</td>\n",
       "      <td>60.807821</td>\n",
       "      <td>82.015868</td>\n",
       "      <td>51.020668</td>\n",
       "      <td>58.416466</td>\n",
       "      <td>75.005426</td>\n",
       "      <td>0.872509</td>\n",
       "      <td>0.607389</td>\n",
       "      <td>0.687253</td>\n",
       "      <td>0.815276</td>\n",
       "    </tr>\n",
       "    <tr>\n",
       "      <th>3</th>\n",
       "      <td>2016-10-24</td>\n",
       "      <td>74.638628</td>\n",
       "      <td>79.819829</td>\n",
       "      <td>61.388038</td>\n",
       "      <td>66.075777</td>\n",
       "      <td>84.903987</td>\n",
       "      <td>0.849147</td>\n",
       "      <td>0.730810</td>\n",
       "      <td>0.777362</td>\n",
       "      <td>0.922869</td>\n",
       "    </tr>\n",
       "    <tr>\n",
       "      <th>4</th>\n",
       "      <td>2016-10-31</td>\n",
       "      <td>86.643977</td>\n",
       "      <td>85.911707</td>\n",
       "      <td>74.717124</td>\n",
       "      <td>77.367756</td>\n",
       "      <td>90.401676</td>\n",
       "      <td>0.913954</td>\n",
       "      <td>0.889490</td>\n",
       "      <td>0.910209</td>\n",
       "      <td>0.982627</td>\n",
       "    </tr>\n",
       "  </tbody>\n",
       "</table>\n",
       "</div>"
      ],
      "text/plain": [
       "product_type report_week   Commodity    Currency     Future      Index  \\\n",
       "0             2016-10-03  121.670178  105.126720  55.977572  71.856906   \n",
       "1             2016-10-10   76.958261   97.906805  64.388402  76.701221   \n",
       "2             2016-10-17   60.807821   82.015868  51.020668  58.416466   \n",
       "3             2016-10-24   74.638628   79.819829  61.388038  66.075777   \n",
       "4             2016-10-31   86.643977   85.911707  74.717124  77.367756   \n",
       "\n",
       "product_type      Stock  Currency_norm  Future_norm  Index_norm  Stock_norm  \n",
       "0             81.741464       1.118369     0.666400    0.845375    0.888494  \n",
       "1             81.688184       1.041562     0.766529    0.902367    0.887915  \n",
       "2             75.005426       0.872509     0.607389    0.687253    0.815276  \n",
       "3             84.903987       0.849147     0.730810    0.777362    0.922869  \n",
       "4             90.401676       0.913954     0.889490    0.910209    0.982627  "
      ]
     },
     "execution_count": 46,
     "metadata": {},
     "output_type": "execute_result"
    }
   ],
   "source": [
    "# pivot table on the cohort data\n",
    "cohort_data = cohort_data.pivot(index='report_week', columns='product_type', values='average_vix').reset_index()\n",
    "\n",
    "# normalize by the average value in 2 years\n",
    "def normalize_vix(column_name):\n",
    "    return cohort_data[column_name] / int(cohort_vix_normalized[cohort_vix_normalized['product_type'] == column_name]['average_vix_norm'])\n",
    "\n",
    "# apply to each of the columns\n",
    "for column in cohort_data.columns[2:]:\n",
    "    cohort_data[column + \"_norm\"] = normalize_vix(column)\n",
    "\n",
    "# cohort_data.columns = [cohort_data.columns[0]] + [value + \"_vix\" for value in list(cohort_data.columns[1:])]\n",
    "cohort_data.head()"
   ]
  },
  {
   "cell_type": "code",
   "execution_count": 47,
   "metadata": {
    "collapsed": false
   },
   "outputs": [],
   "source": [
    "cohort_data.to_csv(\"data/cohorts.csv\", index=False)"
   ]
  },
  {
   "cell_type": "markdown",
   "metadata": {},
   "source": [
    "### Users entity"
   ]
  },
  {
   "cell_type": "code",
   "execution_count": 9,
   "metadata": {
    "collapsed": false
   },
   "outputs": [
    {
     "data": {
      "text/html": [
       "<div>\n",
       "<style>\n",
       "    .dataframe thead tr:only-child th {\n",
       "        text-align: right;\n",
       "    }\n",
       "\n",
       "    .dataframe thead th {\n",
       "        text-align: left;\n",
       "    }\n",
       "\n",
       "    .dataframe tbody tr th {\n",
       "        vertical-align: top;\n",
       "    }\n",
       "</style>\n",
       "<table border=\"1\" class=\"dataframe\">\n",
       "  <thead>\n",
       "    <tr style=\"text-align: right;\">\n",
       "      <th></th>\n",
       "    </tr>\n",
       "  </thead>\n",
       "  <tbody>\n",
       "  </tbody>\n",
       "</table>\n",
       "</div>"
      ],
      "text/plain": [
       "Empty DataFrame\n",
       "Columns: []\n",
       "Index: []"
      ]
     },
     "execution_count": 9,
     "metadata": {},
     "output_type": "execute_result"
    }
   ],
   "source": [
    "# DROP TABLE IF EXISTS temp_users;\n",
    "\n",
    "query_users = \"\"\" \n",
    "        \n",
    "            CREATE LOCAL TEMPORARY TABLE temp_users ON COMMIT PRESERVE ROWS AS\n",
    "            SELECT user_id, country_cd, gender, nationality, platform_type_name, trading_experience, title, network, bux_account_created_dts, ams_first_funded_dts, initial_deposit_amount\n",
    "            FROM reporting.user_details\n",
    "            WHERE bux_account_created_dts::date BETWEEN '2016-10-01' AND '2017-09-30'\n",
    "            LIMIT 3000 OVER (PARTITION BY date_trunc('month', bux_account_created_dts) ORDER BY RANDOMINT(1000000000));\n",
    "        \"\"\"\n",
    "sql_query(query_users)"
   ]
  },
  {
   "cell_type": "code",
   "execution_count": 10,
   "metadata": {
    "collapsed": false
   },
   "outputs": [
    {
     "data": {
      "text/html": [
       "<div>\n",
       "<style>\n",
       "    .dataframe thead tr:only-child th {\n",
       "        text-align: right;\n",
       "    }\n",
       "\n",
       "    .dataframe thead th {\n",
       "        text-align: left;\n",
       "    }\n",
       "\n",
       "    .dataframe tbody tr th {\n",
       "        vertical-align: top;\n",
       "    }\n",
       "</style>\n",
       "<table border=\"1\" class=\"dataframe\">\n",
       "  <thead>\n",
       "    <tr style=\"text-align: right;\">\n",
       "      <th></th>\n",
       "      <th>user_id</th>\n",
       "      <th>country_cd</th>\n",
       "      <th>gender</th>\n",
       "      <th>nationality</th>\n",
       "      <th>platform_type_name</th>\n",
       "      <th>trading_experience</th>\n",
       "      <th>title</th>\n",
       "      <th>network</th>\n",
       "      <th>bux_account_created_dts</th>\n",
       "      <th>ams_first_funded_dts</th>\n",
       "      <th>initial_deposit_amount</th>\n",
       "      <th>trading_segment</th>\n",
       "      <th>report_week</th>\n",
       "    </tr>\n",
       "  </thead>\n",
       "  <tbody>\n",
       "    <tr>\n",
       "      <th>0</th>\n",
       "      <td>003bfd2c-8ae8-473c-93ec-1b5729f8609f</td>\n",
       "      <td>DE</td>\n",
       "      <td>None</td>\n",
       "      <td>None</td>\n",
       "      <td>iOS</td>\n",
       "      <td>SOME</td>\n",
       "      <td>Experienced Trader</td>\n",
       "      <td>Organic</td>\n",
       "      <td>2017-01-03 18:13:22.059</td>\n",
       "      <td>NaT</td>\n",
       "      <td>None</td>\n",
       "      <td>No Trades</td>\n",
       "      <td>2017-01-02</td>\n",
       "    </tr>\n",
       "    <tr>\n",
       "      <th>1</th>\n",
       "      <td>0047ed0a-79f7-466d-9018-6793c8400d3f</td>\n",
       "      <td>IT</td>\n",
       "      <td>None</td>\n",
       "      <td>None</td>\n",
       "      <td>Android</td>\n",
       "      <td>NONE</td>\n",
       "      <td>Rookie Trader</td>\n",
       "      <td>Facebook Installs</td>\n",
       "      <td>2017-07-26 11:54:20.204</td>\n",
       "      <td>NaT</td>\n",
       "      <td>None</td>\n",
       "      <td>Stocks Trader</td>\n",
       "      <td>2017-07-24</td>\n",
       "    </tr>\n",
       "    <tr>\n",
       "      <th>2</th>\n",
       "      <td>006e9491-ae2f-4dea-ab3e-4ac464fb4d84</td>\n",
       "      <td>NL</td>\n",
       "      <td>None</td>\n",
       "      <td>None</td>\n",
       "      <td>iOS</td>\n",
       "      <td>NONE</td>\n",
       "      <td>Rookie Trader</td>\n",
       "      <td>Organic</td>\n",
       "      <td>2016-12-24 01:41:21.599</td>\n",
       "      <td>NaT</td>\n",
       "      <td>None</td>\n",
       "      <td>No Trades</td>\n",
       "      <td>2016-12-19</td>\n",
       "    </tr>\n",
       "    <tr>\n",
       "      <th>3</th>\n",
       "      <td>008b8352-bc5f-4d62-9448-0af4df21ca30</td>\n",
       "      <td>NL</td>\n",
       "      <td>None</td>\n",
       "      <td>None</td>\n",
       "      <td>Android</td>\n",
       "      <td>NONE</td>\n",
       "      <td>Rookie Trader</td>\n",
       "      <td>Facebook Installs</td>\n",
       "      <td>2017-03-12 20:35:38.015</td>\n",
       "      <td>NaT</td>\n",
       "      <td>None</td>\n",
       "      <td>No Trades</td>\n",
       "      <td>2017-03-06</td>\n",
       "    </tr>\n",
       "    <tr>\n",
       "      <th>4</th>\n",
       "      <td>00eaa7a7-d4c5-4e2a-9276-f4efabf7ea56</td>\n",
       "      <td>AT</td>\n",
       "      <td>None</td>\n",
       "      <td>None</td>\n",
       "      <td>iOS</td>\n",
       "      <td>NONE</td>\n",
       "      <td>Rookie Trader</td>\n",
       "      <td>Facebook Installs</td>\n",
       "      <td>2016-12-19 09:46:58.085</td>\n",
       "      <td>NaT</td>\n",
       "      <td>None</td>\n",
       "      <td>Mix Trader</td>\n",
       "      <td>2016-12-19</td>\n",
       "    </tr>\n",
       "  </tbody>\n",
       "</table>\n",
       "</div>"
      ],
      "text/plain": [
       "                                user_id country_cd gender nationality  \\\n",
       "0  003bfd2c-8ae8-473c-93ec-1b5729f8609f         DE   None        None   \n",
       "1  0047ed0a-79f7-466d-9018-6793c8400d3f         IT   None        None   \n",
       "2  006e9491-ae2f-4dea-ab3e-4ac464fb4d84         NL   None        None   \n",
       "3  008b8352-bc5f-4d62-9448-0af4df21ca30         NL   None        None   \n",
       "4  00eaa7a7-d4c5-4e2a-9276-f4efabf7ea56         AT   None        None   \n",
       "\n",
       "  platform_type_name trading_experience               title  \\\n",
       "0                iOS               SOME  Experienced Trader   \n",
       "1            Android               NONE       Rookie Trader   \n",
       "2                iOS               NONE       Rookie Trader   \n",
       "3            Android               NONE       Rookie Trader   \n",
       "4                iOS               NONE       Rookie Trader   \n",
       "\n",
       "             network bux_account_created_dts ams_first_funded_dts  \\\n",
       "0            Organic 2017-01-03 18:13:22.059                  NaT   \n",
       "1  Facebook Installs 2017-07-26 11:54:20.204                  NaT   \n",
       "2            Organic 2016-12-24 01:41:21.599                  NaT   \n",
       "3  Facebook Installs 2017-03-12 20:35:38.015                  NaT   \n",
       "4  Facebook Installs 2016-12-19 09:46:58.085                  NaT   \n",
       "\n",
       "  initial_deposit_amount trading_segment report_week  \n",
       "0                   None       No Trades  2017-01-02  \n",
       "1                   None   Stocks Trader  2017-07-24  \n",
       "2                   None       No Trades  2016-12-19  \n",
       "3                   None       No Trades  2017-03-06  \n",
       "4                   None      Mix Trader  2016-12-19  "
      ]
     },
     "execution_count": 10,
     "metadata": {},
     "output_type": "execute_result"
    }
   ],
   "source": [
    "query_get_users = \"\"\"\n",
    "        SELECT a.*, nvl(b.segment_value, 'No Trades') as trading_segment, date_trunc('week', bux_account_created_dts)::date as report_week\n",
    "        FROM temp_users a\n",
    "        LEFT JOIN reporting.user_segments b\n",
    "        ON b.segment_type = 'Trading Segment'\n",
    "        AND b.user_id = a.user_id\n",
    "        AND a.bux_account_created_dts::date + interval '3 weeks' between b.valid_from_date and b.valid_to_date\n",
    "        LIMIT 1 OVER (PARTITION BY a.user_id ORDER BY valid_to_date desc)\n",
    "\"\"\"\n",
    "user_details = sql_query(query_get_users)\n",
    "user_details.to_csv(\"data/users_1y_6mCustomerValue_3000.csv\")\n",
    "user_details.head()"
   ]
  },
  {
   "cell_type": "code",
   "execution_count": 13,
   "metadata": {
    "collapsed": false
   },
   "outputs": [
    {
     "data": {
      "image/png": "[encoded data removed]",
      "text/plain": [
       "<matplotlib.figure.Figure at 0x7fa8a322c588>"
      ]
     },
     "metadata": {},
     "output_type": "display_data"
    }
   ],
   "source": [
    "user_details['trading_segment'].value_counts().plot(kind='bar');"
   ]
  },
  {
   "cell_type": "code",
   "execution_count": 14,
   "metadata": {
    "collapsed": false
   },
   "outputs": [
    {
     "data": {
      "text/plain": [
       "36000"
      ]
     },
     "execution_count": 14,
     "metadata": {},
     "output_type": "execute_result"
    }
   ],
   "source": [
    "len(user_details)"
   ]
  },
  {
   "cell_type": "markdown",
   "metadata": {},
   "source": [
    "### Transactions entity"
   ]
  },
  {
   "cell_type": "code",
   "execution_count": 15,
   "metadata": {
    "collapsed": false
   },
   "outputs": [
    {
     "name": "stdout",
     "output_type": "stream",
     "text": [
      "CPU times: user 3min 20s, sys: 16.3 s, total: 3min 36s\n",
      "Wall time: 3min 38s\n"
     ]
    }
   ],
   "source": [
    "%%time\n",
    "\n",
    "query_transactions= \"\"\"\n",
    "\n",
    "    SELECT a.user_id,\n",
    "    a.date,\n",
    "    trades_sb_invested_amount,\n",
    "    financing_deposits_amount,\n",
    "    trades_sb_short,\n",
    "    trades_sb_long,\n",
    "    view_position,\n",
    "    trades_sb_open_positions,\n",
    "    total_session_duration,\n",
    "    education_topic_read,\n",
    "    trades_fb_commission,\n",
    "    trades_fb_forex_open,\n",
    "    trades_sb_forex_open,\n",
    "    conversion_to_sb,\n",
    "    trades_fb_stocks_average_leverage,\n",
    "    trades_sb_stocks_average_leverage,\n",
    "    trades_sb_forex_average_leverage,\n",
    "    trades_sb_forex_average_leverage\n",
    "    \n",
    "    FROM temp_users b\n",
    "    JOIN calendar c ON c.date BETWEEN b.bux_account_created_dts::date and b.bux_account_created_dts::date + interval '3 weeks'\n",
    "    LEFT JOIN reporting.cube_daily_user a ON a.user_id = b.user_id AND a.date = c.date\n",
    "    \n",
    "\n",
    "\"\"\"\n",
    "\n",
    "cube_daily_user = sql_query(query_transactions)\n",
    "cube_daily_user.to_csv('data/cube_1y_6mCustomerValue_3000.csv')"
   ]
  },
  {
   "cell_type": "code",
   "execution_count": 16,
   "metadata": {
    "collapsed": false
   },
   "outputs": [
    {
     "data": {
      "text/plain": [
       "(792000, 35192)"
      ]
     },
     "execution_count": 16,
     "metadata": {},
     "output_type": "execute_result"
    }
   ],
   "source": [
    "len(cube_daily_user), len(cube_daily_user['user_id'].unique())"
   ]
  },
  {
   "cell_type": "markdown",
   "metadata": {},
   "source": [
    "### Target values (6m current customer value)"
   ]
  },
  {
   "cell_type": "code",
   "execution_count": 17,
   "metadata": {
    "collapsed": false
   },
   "outputs": [
    {
     "name": "stdout",
     "output_type": "stream",
     "text": [
      "CPU times: user 9.27 s, sys: 701 ms, total: 9.97 s\n",
      "Wall time: 11 s\n"
     ]
    }
   ],
   "source": [
    "%%time\n",
    "\n",
    "query_curcv= \"\"\" \n",
    "        \n",
    "        SELECT a.user_id\n",
    "        , bux_account_created_dts\n",
    "        , SUM(decode(b.transaction_type, 'COMMISSION',-amount * nvl(c.exchange_rate, 1),0))::numeric(20,2) as com\n",
    "        , SUM(decode(b.transaction_type, 'DIVIDEND',-amount * nvl(c.exchange_rate, 1),0))::numeric(20,2) as div\n",
    "        , SUM(decode(b.transaction_type, 'FINANCING_FEE',-amount * nvl(c.exchange_rate, 1),0))::numeric(20,2) as ff\n",
    "        FROM temp_users a\n",
    "        LEFT JOIN reporting.transactions b USING(user_id)\n",
    "        LEFT JOIN reporting.exchange_rates_eur c on c.report_date = b.created_dts::date and c.currency = b.currency\n",
    "        GROUP BY 1,2\n",
    "\n",
    "\"\"\"\n",
    "\n",
    "CurCV_whales = sql_query(query_curcv)\n",
    "CurCV_whales.to_csv('data/curcv_1y_6mCustomerValue_3000.csv')\n",
    "len(CurCV_whales)"
   ]
  },
  {
   "cell_type": "code",
   "execution_count": 18,
   "metadata": {
    "collapsed": false,
    "scrolled": true
   },
   "outputs": [
    {
     "data": {
      "text/html": [
       "<div>\n",
       "<style>\n",
       "    .dataframe thead tr:only-child th {\n",
       "        text-align: right;\n",
       "    }\n",
       "\n",
       "    .dataframe thead th {\n",
       "        text-align: left;\n",
       "    }\n",
       "\n",
       "    .dataframe tbody tr th {\n",
       "        vertical-align: top;\n",
       "    }\n",
       "</style>\n",
       "<table border=\"1\" class=\"dataframe\">\n",
       "  <thead>\n",
       "    <tr style=\"text-align: right;\">\n",
       "      <th></th>\n",
       "      <th>user_id</th>\n",
       "      <th>bux_account_created_dts</th>\n",
       "      <th>com</th>\n",
       "      <th>div</th>\n",
       "      <th>ff</th>\n",
       "    </tr>\n",
       "  </thead>\n",
       "  <tbody>\n",
       "    <tr>\n",
       "      <th>0</th>\n",
       "      <td>6aa954b7-c6fa-470f-a75f-04623b9d9315</td>\n",
       "      <td>2017-08-31 13:43:23.679</td>\n",
       "      <td>0.00</td>\n",
       "      <td>0.00</td>\n",
       "      <td>0.00</td>\n",
       "    </tr>\n",
       "    <tr>\n",
       "      <th>1</th>\n",
       "      <td>0f48e10b-aa6a-459b-b0c1-bf93f44b9660</td>\n",
       "      <td>2016-12-17 23:17:00.697</td>\n",
       "      <td>0.00</td>\n",
       "      <td>0.00</td>\n",
       "      <td>0.00</td>\n",
       "    </tr>\n",
       "    <tr>\n",
       "      <th>2</th>\n",
       "      <td>6b4acc53-c1f6-4b4f-8f02-a43ce728483f</td>\n",
       "      <td>2017-09-16 09:50:41.177</td>\n",
       "      <td>0.00</td>\n",
       "      <td>0.00</td>\n",
       "      <td>0.00</td>\n",
       "    </tr>\n",
       "    <tr>\n",
       "      <th>3</th>\n",
       "      <td>9ff53541-5801-438b-bf56-7a2077b145a6</td>\n",
       "      <td>2017-02-01 20:06:19.634</td>\n",
       "      <td>0.00</td>\n",
       "      <td>0.00</td>\n",
       "      <td>0.00</td>\n",
       "    </tr>\n",
       "    <tr>\n",
       "      <th>4</th>\n",
       "      <td>afa1ab8f-3775-4d1f-899c-74d3f63def8d</td>\n",
       "      <td>2017-09-25 14:04:55.117</td>\n",
       "      <td>0.00</td>\n",
       "      <td>0.00</td>\n",
       "      <td>0.00</td>\n",
       "    </tr>\n",
       "  </tbody>\n",
       "</table>\n",
       "</div>"
      ],
      "text/plain": [
       "                                user_id bux_account_created_dts   com   div  \\\n",
       "0  6aa954b7-c6fa-470f-a75f-04623b9d9315 2017-08-31 13:43:23.679  0.00  0.00   \n",
       "1  0f48e10b-aa6a-459b-b0c1-bf93f44b9660 2016-12-17 23:17:00.697  0.00  0.00   \n",
       "2  6b4acc53-c1f6-4b4f-8f02-a43ce728483f 2017-09-16 09:50:41.177  0.00  0.00   \n",
       "3  9ff53541-5801-438b-bf56-7a2077b145a6 2017-02-01 20:06:19.634  0.00  0.00   \n",
       "4  afa1ab8f-3775-4d1f-899c-74d3f63def8d 2017-09-25 14:04:55.117  0.00  0.00   \n",
       "\n",
       "     ff  \n",
       "0  0.00  \n",
       "1  0.00  \n",
       "2  0.00  \n",
       "3  0.00  \n",
       "4  0.00  "
      ]
     },
     "execution_count": 18,
     "metadata": {},
     "output_type": "execute_result"
    }
   ],
   "source": [
    "CurCV_whales.head()"
   ]
  },
  {
   "cell_type": "code",
   "execution_count": 19,
   "metadata": {
    "collapsed": false
   },
   "outputs": [
    {
     "data": {
      "text/plain": [
       "36000"
      ]
     },
     "execution_count": 19,
     "metadata": {},
     "output_type": "execute_result"
    }
   ],
   "source": [
    "len(CurCV_whales)"
   ]
  },
  {
   "cell_type": "code",
   "execution_count": 11,
   "metadata": {
    "collapsed": false
   },
   "outputs": [
    {
     "data": {
      "text/plain": [
       "36000"
      ]
     },
     "execution_count": 11,
     "metadata": {},
     "output_type": "execute_result"
    }
   ],
   "source": [
    "query= \"\"\" \n",
    "        \n",
    "        SELECT * FROM temp_users\n",
    "\n",
    "\"\"\"\n",
    "\n",
    "temp_df = sql_query(query)\n",
    "len(temp_df)"
   ]
  },
  {
   "cell_type": "code",
   "execution_count": 13,
   "metadata": {
    "collapsed": false
   },
   "outputs": [
    {
     "name": "stdout",
     "output_type": "stream",
     "text": [
      "CPU times: user 1min 2s, sys: 8.49 s, total: 1min 11s\n",
      "Wall time: 1min 14s\n"
     ]
    }
   ],
   "source": [
    "%%time\n",
    "\n",
    "query_curcv_large= \"\"\" \n",
    "\n",
    "        SELECT a.user_id, YEAR(a.bux_account_created_dts), MONTH(a.bux_account_created_dts), SUM(b.commission) as com, SUM(b.dividend) as div, SUM(b.financing_fee) as ff\n",
    "        FROM (\n",
    "        \n",
    "        SELECT user_id, bux_account_created_dts\n",
    "        FROM reporting.user_details\n",
    "        WHERE bux_account_created_dts::date BETWEEN '2016-10-01' AND '2017-09-30'\n",
    "        GROUP BY 1,2) a\n",
    "        \n",
    "        LEFT JOIN (\n",
    "        \n",
    "        SELECT\n",
    "        a.user_id\n",
    "        , created_dts::date as report_date\n",
    "        , SUM(decode(transaction_type, 'COMMISSION',-amount * nvl(b.exchange_rate, 1),0))::numeric(20,2) as commission\n",
    "        , SUM(decode(transaction_type, 'DIVIDEND',-amount * nvl(b.exchange_rate, 1),0))::numeric(20,2) as dividend\n",
    "        , SUM(decode(transaction_type, 'FINANCING_FEE',-amount * nvl(b.exchange_rate, 1),0))::numeric(20,2) as financing_fee\n",
    "        FROM reporting.transactions a\n",
    "        LEFT JOIN reporting.exchange_rates_eur b on b.report_date = a.created_dts::date and b.currency = a.currency\n",
    "        LEFT JOIN reporting.user_details c USING(user_id)\n",
    "        WHERE a.created_dts < c.bux_account_created_dts + interval '6 months'\n",
    "        GROUP BY 1,2\n",
    "        ORDER BY 1 ) b\n",
    "        \n",
    "        ON a.user_id = b.user_id\n",
    "        GROUP BY 1,2,3\n",
    "        ORDER BY 1,2\n",
    "\n",
    "\"\"\"\n",
    "\n",
    "CurCV_whales_large = sql_query(query_curcv_large)\n",
    "CurCV_whales_large.to_csv('data/curcv_1y_6mCustomerValue.csv')\n",
    "len(CurCV_whales_large)"
   ]
  },
  {
   "cell_type": "code",
   "execution_count": 14,
   "metadata": {
    "collapsed": false
   },
   "outputs": [
    {
     "data": {
      "text/plain": [
       "565983"
      ]
     },
     "execution_count": 14,
     "metadata": {},
     "output_type": "execute_result"
    }
   ],
   "source": [
    "len(CurCV_whales_large)"
   ]
  },
  {
   "cell_type": "markdown",
   "metadata": {},
   "source": [
    "## Current customer value (CurCV)"
   ]
  },
  {
   "cell_type": "code",
   "execution_count": 141,
   "metadata": {
    "collapsed": false
   },
   "outputs": [
    {
     "data": {
      "text/html": [
       "<div>\n",
       "<style>\n",
       "    .dataframe thead tr:only-child th {\n",
       "        text-align: right;\n",
       "    }\n",
       "\n",
       "    .dataframe thead th {\n",
       "        text-align: left;\n",
       "    }\n",
       "\n",
       "    .dataframe tbody tr th {\n",
       "        vertical-align: top;\n",
       "    }\n",
       "</style>\n",
       "<table border=\"1\" class=\"dataframe\">\n",
       "  <thead>\n",
       "    <tr style=\"text-align: right;\">\n",
       "      <th></th>\n",
       "      <th>user_id</th>\n",
       "      <th>com</th>\n",
       "      <th>div</th>\n",
       "      <th>ff</th>\n",
       "    </tr>\n",
       "  </thead>\n",
       "  <tbody>\n",
       "    <tr>\n",
       "      <th>0</th>\n",
       "      <td>3e675443-9762-4137-b92e-3cbcea38e44a</td>\n",
       "      <td>None</td>\n",
       "      <td>None</td>\n",
       "      <td>None</td>\n",
       "    </tr>\n",
       "    <tr>\n",
       "      <th>1</th>\n",
       "      <td>0de77d85-f73d-4798-90e2-7bc4de4f74dd</td>\n",
       "      <td>None</td>\n",
       "      <td>None</td>\n",
       "      <td>None</td>\n",
       "    </tr>\n",
       "    <tr>\n",
       "      <th>2</th>\n",
       "      <td>6f40a1bf-1d49-4d6a-8c6f-683526189f9e</td>\n",
       "      <td>None</td>\n",
       "      <td>None</td>\n",
       "      <td>None</td>\n",
       "    </tr>\n",
       "    <tr>\n",
       "      <th>3</th>\n",
       "      <td>20544428-b6fa-46be-9b82-25d064e3650f</td>\n",
       "      <td>None</td>\n",
       "      <td>None</td>\n",
       "      <td>None</td>\n",
       "    </tr>\n",
       "    <tr>\n",
       "      <th>4</th>\n",
       "      <td>076e3239-a377-4cbb-81ed-8f16a3197a5d</td>\n",
       "      <td>None</td>\n",
       "      <td>None</td>\n",
       "      <td>None</td>\n",
       "    </tr>\n",
       "  </tbody>\n",
       "</table>\n",
       "</div>"
      ],
      "text/plain": [
       "                                user_id   com   div    ff\n",
       "0  3e675443-9762-4137-b92e-3cbcea38e44a  None  None  None\n",
       "1  0de77d85-f73d-4798-90e2-7bc4de4f74dd  None  None  None\n",
       "2  6f40a1bf-1d49-4d6a-8c6f-683526189f9e  None  None  None\n",
       "3  20544428-b6fa-46be-9b82-25d064e3650f  None  None  None\n",
       "4  076e3239-a377-4cbb-81ed-8f16a3197a5d  None  None  None"
      ]
     },
     "execution_count": 141,
     "metadata": {},
     "output_type": "execute_result"
    }
   ],
   "source": [
    "query_curcv_feb17 = \"\"\" \n",
    "\n",
    "        SELECT a.user_id, sum(b.commission) as com, sum(b.dividend) as div, sum(b.financing_fee) as ff\n",
    "        FROM (\n",
    "        \n",
    "        SELECT user_id\n",
    "        FROM reporting.user_details\n",
    "        WHERE bux_account_created_dts::date BETWEEN '2017-02-01' AND '2017-03-01') a\n",
    "        \n",
    "\n",
    "        LEFT JOIN (\n",
    "        \n",
    "        \n",
    "        SELECT\n",
    "        a.user_id\n",
    "        , created_dts::date as report_date\n",
    "        , sum(decode(transaction_type, 'COMMISSION',-amount * nvl(b.exchange_rate, 1),0))::numeric(20,2) as commission\n",
    "        , sum(decode(transaction_type, 'DIVIDEND',-amount * nvl(b.exchange_rate, 1),0))::numeric(20,2) as dividend\n",
    "        , sum(decode(transaction_type, 'FINANCING_FEE',-amount * nvl(b.exchange_rate, 1),0))::numeric(20,2) as financing_fee\n",
    "        FROM reporting.transactions a\n",
    "        LEFT JOIN reporting.exchange_rates_eur b on b.report_date = a.created_dts::date and b.currency = a.currency\n",
    "        LEFT JOIN reporting.user_details c USING(user_id)\n",
    "        WHERE a.created_dts < c.bux_account_created_dts + interval '12 months'\n",
    "        GROUP BY 1,2\n",
    "        ORDER BY 1 ) b\n",
    "        \n",
    "        ON a.user_id = b.user_id\n",
    "        GROUP BY a.user_id\n",
    "\n",
    "\"\"\"\n",
    "\n",
    "CurCV_feb17 = sql_query(query_curcv_feb17)\n",
    "CurCV_feb17[0:5]"
   ]
  },
  {
   "cell_type": "markdown",
   "metadata": {},
   "source": [
    "### Query superbuxer"
   ]
  },
  {
   "cell_type": "code",
   "execution_count": 9,
   "metadata": {
    "collapsed": false
   },
   "outputs": [
    {
     "data": {
      "text/html": [
       "<div>\n",
       "<style>\n",
       "    .dataframe thead tr:only-child th {\n",
       "        text-align: right;\n",
       "    }\n",
       "\n",
       "    .dataframe thead th {\n",
       "        text-align: left;\n",
       "    }\n",
       "\n",
       "    .dataframe tbody tr th {\n",
       "        vertical-align: top;\n",
       "    }\n",
       "</style>\n",
       "<table border=\"1\" class=\"dataframe\">\n",
       "  <thead>\n",
       "    <tr style=\"text-align: right;\">\n",
       "      <th></th>\n",
       "      <th>COUNT</th>\n",
       "    </tr>\n",
       "  </thead>\n",
       "  <tbody>\n",
       "    <tr>\n",
       "      <th>0</th>\n",
       "      <td>219</td>\n",
       "    </tr>\n",
       "  </tbody>\n",
       "</table>\n",
       "</div>"
      ],
      "text/plain": [
       "   COUNT\n",
       "0    219"
      ]
     },
     "execution_count": 9,
     "metadata": {},
     "output_type": "execute_result"
    }
   ],
   "source": [
    "query_superbuxer = \"\"\"\n",
    "\n",
    "SELECT\n",
    "     COUNT (DISTINCT a.user_id)\n",
    "FROM\n",
    "     reporting.user_details a\n",
    "JOIN\n",
    "     reporting.user_type b\n",
    "USING\n",
    "     (user_id)\n",
    "WHERE\n",
    "     year (bux_account_created_dts) = 2017\n",
    " AND b.date <= a.bux_account_created_dts + interval '1 year'\n",
    " AND b.user_type = 'SuperBUXer'\n",
    " \n",
    " \n",
    "\"\"\"\n",
    "\n",
    "super_buxer_unique_count_2016 = sql_query(query_superbuxer)\n",
    "super_buxer_unique_count_2016[0:5]"
   ]
  },
  {
   "cell_type": "markdown",
   "metadata": {},
   "source": [
    "### Distinct BUX classses"
   ]
  },
  {
   "cell_type": "code",
   "execution_count": 26,
   "metadata": {
    "collapsed": false
   },
   "outputs": [
    {
     "data": {
      "text/html": [
       "<div>\n",
       "<style scoped>\n",
       "    .dataframe tbody tr th:only-of-type {\n",
       "        vertical-align: middle;\n",
       "    }\n",
       "\n",
       "    .dataframe tbody tr th {\n",
       "        vertical-align: top;\n",
       "    }\n",
       "\n",
       "    .dataframe thead th {\n",
       "        text-align: right;\n",
       "    }\n",
       "</style>\n",
       "<table border=\"1\" class=\"dataframe\">\n",
       "  <thead>\n",
       "    <tr style=\"text-align: right;\">\n",
       "      <th></th>\n",
       "      <th>user_type</th>\n",
       "    </tr>\n",
       "  </thead>\n",
       "  <tbody>\n",
       "    <tr>\n",
       "      <th>0</th>\n",
       "      <td>SuperBUXer</td>\n",
       "    </tr>\n",
       "    <tr>\n",
       "      <th>1</th>\n",
       "      <td>Ex-SeriousBUXer</td>\n",
       "    </tr>\n",
       "    <tr>\n",
       "      <th>2</th>\n",
       "      <td>FunBUXer</td>\n",
       "    </tr>\n",
       "    <tr>\n",
       "      <th>3</th>\n",
       "      <td>Prospect On Risk</td>\n",
       "    </tr>\n",
       "    <tr>\n",
       "      <th>4</th>\n",
       "      <td>SeriousBUXer</td>\n",
       "    </tr>\n",
       "  </tbody>\n",
       "</table>\n",
       "</div>"
      ],
      "text/plain": [
       "          user_type\n",
       "0        SuperBUXer\n",
       "1   Ex-SeriousBUXer\n",
       "2          FunBUXer\n",
       "3  Prospect On Risk\n",
       "4      SeriousBUXer"
      ]
     },
     "execution_count": 26,
     "metadata": {},
     "output_type": "execute_result"
    }
   ],
   "source": [
    "query_user_classes = \"\"\"\n",
    "\n",
    "SELECT\n",
    "     DISTINCT b.user_type\n",
    "FROM\n",
    "     reporting.user_details a\n",
    "JOIN\n",
    "     reporting.user_type b\n",
    "USING\n",
    "     (user_id)\n",
    "WHERE\n",
    "     year (bux_account_created_dts) = 2017\n",
    " AND b.date <= a.bux_account_created_dts + interval '1 year'\n",
    " \n",
    " \n",
    "\"\"\"\n",
    "\n",
    "user_classes = sql_query(query_user_classes)\n",
    "user_classes[0:5]"
   ]
  },
  {
   "cell_type": "markdown",
   "metadata": {
    "collapsed": true
   },
   "source": [
    "### Value of chorts MoM (6 months)"
   ]
  },
  {
   "cell_type": "code",
   "execution_count": null,
   "metadata": {
    "collapsed": true
   },
   "outputs": [],
   "source": []
  },
  {
   "cell_type": "code",
   "execution_count": 6,
   "metadata": {
    "collapsed": false
   },
   "outputs": [],
   "source": [
    "# query_mom_curcv = \"\"\" \n",
    "\n",
    "#         SELECT YEAR(a.bux_account_created_dts), MONTH(a.bux_account_created_dts), COUNT(DISTINCT a.user_id), SUM(b.commission) as com, SUM(b.dividend) as div, SUM(b.financing_fee) as ff\n",
    "#         FROM (\n",
    "        \n",
    "#         SELECT user_id, bux_account_created_dts\n",
    "#         FROM reporting.user_details\n",
    "#         WHERE bux_account_created_dts::date BETWEEN '2016-01-01' AND '2016-12-31'\n",
    "#         GROUP BY 1,2) a\n",
    "        \n",
    "\n",
    "#         LEFT JOIN (\n",
    "        \n",
    "        \n",
    "#         SELECT\n",
    "#         a.user_id\n",
    "#         , created_dts::date as report_date\n",
    "#         , SUM(decode(transaction_type, 'COMMISSION',-amount * nvl(b.exchange_rate, 1),0))::numeric(20,2) as commission\n",
    "#         , SUM(decode(transaction_type, 'DIVIDEND',-amount * nvl(b.exchange_rate, 1),0))::numeric(20,2) as dividend\n",
    "#         , SUM(decode(transaction_type, 'FINANCING_FEE',-amount * nvl(b.exchange_rate, 1),0))::numeric(20,2) as financing_fee\n",
    "#         FROM reporting.transactions a\n",
    "#         LEFT JOIN reporting.exchange_rates_eur b on b.report_date = a.created_dts::date and b.currency = a.currency\n",
    "#         LEFT JOIN reporting.user_details c USING(user_id)\n",
    "#         WHERE a.created_dts < c.bux_account_created_dts + interval '6 months'\n",
    "#         GROUP BY 1,2\n",
    "#         ORDER BY 1 ) b\n",
    "        \n",
    "#         ON a.user_id = b.user_id\n",
    "#         GROUP BY 1, 2\n",
    "#         ORDER BY 1,2\n",
    "\n",
    "# \"\"\"\n",
    "\n",
    "# CurCV_MoM = sql_query(query_mom_curcv)\n",
    "# CurCV_MoM[0:5]"
   ]
  },
  {
   "cell_type": "code",
   "execution_count": null,
   "metadata": {
    "collapsed": false
   },
   "outputs": [],
   "source": [
    "CurCV_MoM[\"YEAR_MONTH\"] = pd.Series([str(row[\"YEAR\"]) + \"-0\" + str(row[\"MONTH\"])  if row[\"MONTH\"] <= 9 else str(row[\"YEAR\"]) + \"-\" + str(row[\"MONTH\"]) for index, row in CurCV_MoM.iterrows()])\n",
    "CurCV_MoM[\"YEAR_MONTH\"] = pd.to_datetime(CurCV_MoM[\"YEAR_MONTH\"])\n",
    "CurCV_MoM[\"CLV\"] = CurCV_MoM[\"com\"] + CurCV_MoM[\"ff\"] # CurCV_MoM[\"div\"]\n",
    "CurCV_MoM[[\"CLV\", \"com\", \"div\", \"ff\"]]=CurCV_MoM[[\"CLV\", \"com\", \"div\", \"ff\"]].astype(float)\n",
    "CurCV_MoM[\"CLV/user\"] = CurCV_MoM[\"CLV\"] / CurCV_MoM[\"COUNT\"]\n",
    "CurCV_MoM.head()"
   ]
  },
  {
   "cell_type": "code",
   "execution_count": null,
   "metadata": {
    "collapsed": false
   },
   "outputs": [],
   "source": [
    "CurCV_MoM.to_csv(\"users_1y_6mCustomerValue.csv\")"
   ]
  },
  {
   "cell_type": "code",
   "execution_count": 115,
   "metadata": {
    "collapsed": false
   },
   "outputs": [
    {
     "data": {
      "image/png": "[encoded data removed]",
      "text/plain": [
       "<matplotlib.figure.Figure at 0x7f657c7822b0>"
      ]
     },
     "metadata": {},
     "output_type": "display_data"
    },
    {
     "data": {
      "image/png": "[encoded data removed]",
      "text/plain": [
       "<matplotlib.figure.Figure at 0x7f65649a6b38>"
      ]
     },
     "metadata": {},
     "output_type": "display_data"
    },
    {
     "data": {
      "image/png": "[encoded data removed]",
      "text/plain": [
       "<matplotlib.figure.Figure at 0x7f656529b390>"
      ]
     },
     "metadata": {},
     "output_type": "display_data"
    }
   ],
   "source": [
    "CurCV_MoM.plot(x='YEAR_MONTH', y='CLV', figsize=(10,6), ylim=(0,max(CurCV_MoM[\"CLV\"])*1.3));\n",
    "CurCV_MoM.plot(x='YEAR_MONTH', y='CLV/user', figsize=(10,6), ylim=(0,max(CurCV_MoM[\"CLV/user\"])*1.3));\n",
    "CurCV_MoM.plot(x='YEAR_MONTH', y='COUNT', figsize=(10,6), ylim=(0,max(CurCV_MoM[\"COUNT\"])*1.3));"
   ]
  },
  {
   "cell_type": "code",
   "execution_count": 116,
   "metadata": {
    "collapsed": false
   },
   "outputs": [
    {
     "data": {
      "image/png": "[encoded data removed]",
      "text/plain": [
       "<matplotlib.figure.Figure at 0x7f656292d2b0>"
      ]
     },
     "metadata": {},
     "output_type": "display_data"
    },
    {
     "data": {
      "image/png": "[encoded data removed]",
      "text/plain": [
       "<matplotlib.figure.Figure at 0x7f655ee79470>"
      ]
     },
     "metadata": {},
     "output_type": "display_data"
    },
    {
     "data": {
      "image/png": "[encoded data removed]",
      "text/plain": [
       "<matplotlib.figure.Figure at 0x7f6549d77668>"
      ]
     },
     "metadata": {},
     "output_type": "display_data"
    }
   ],
   "source": [
    "CurCV_MoM.plot(x='YEAR_MONTH', y='com', figsize=(10,6), ylim=(0,max(CurCV_MoM[\"CLV\"])*1.3));\n",
    "CurCV_MoM.plot(x='YEAR_MONTH', y='ff', figsize=(10,6), ylim=(0,max(CurCV_MoM[\"ff\"])*1.3));\n",
    "CurCV_MoM.plot(x='YEAR_MONTH', y='div', figsize=(10,6), ylim=(min(CurCV_MoM[\"div\"])*1.3,max(CurCV_MoM[\"div\"])*2));"
   ]
  },
  {
   "cell_type": "code",
   "execution_count": 112,
   "metadata": {
    "collapsed": false
   },
   "outputs": [
    {
     "data": {
      "image/png": "[encoded data removed]",
      "text/plain": [
       "<matplotlib.figure.Figure at 0x7f657a9f3780>"
      ]
     },
     "metadata": {},
     "output_type": "display_data"
    }
   ],
   "source": [
    "CurCV_MoM[\"CLV\"].plot(kind='hist',bins=10,figsize=(10,6));"
   ]
  },
  {
   "cell_type": "code",
   "execution_count": 113,
   "metadata": {
    "collapsed": false
   },
   "outputs": [
    {
     "data": {
      "text/plain": [
       "count        21.000000\n",
       "mean     245726.117143\n",
       "std       98897.728338\n",
       "min      132421.660000\n",
       "25%      167950.960000\n",
       "50%      204179.810000\n",
       "75%      306650.600000\n",
       "max      462606.420000\n",
       "Name: CLV, dtype: float64"
      ]
     },
     "execution_count": 113,
     "metadata": {},
     "output_type": "execute_result"
    }
   ],
   "source": [
    "CurCV_MoM[\"CLV\"].describe()"
   ]
  },
  {
   "cell_type": "markdown",
   "metadata": {},
   "source": [
    "#### 50% of 6 month value of monthly cohorts are fall between 170k and 300k"
   ]
  },
  {
   "cell_type": "markdown",
   "metadata": {},
   "source": [
    "### Distribution of whales MoM"
   ]
  },
  {
   "cell_type": "code",
   "execution_count": 13,
   "metadata": {
    "collapsed": true
   },
   "outputs": [],
   "source": [
    "conn = vertica_python.connect(**conn_info)\n",
    "cur = conn.cursor('dict')"
   ]
  },
  {
   "cell_type": "code",
   "execution_count": 14,
   "metadata": {
    "collapsed": false
   },
   "outputs": [
    {
     "name": "stdout",
     "output_type": "stream",
     "text": [
      "CPU times: user 12.7 s, sys: 1.6 s, total: 14.3 s\n",
      "Wall time: 18.2 s\n"
     ]
    }
   ],
   "source": [
    "%%time\n",
    "\n",
    "query_curcv_whales_1 = \"\"\" \n",
    "\n",
    "        SELECT a.user_id, YEAR(a.bux_account_created_dts), MONTH(a.bux_account_created_dts), SUM(b.commission) as com, SUM(b.dividend) as div, SUM(b.financing_fee) as ff\n",
    "        FROM (\n",
    "        \n",
    "        SELECT user_id, bux_account_created_dts\n",
    "        FROM reporting.user_details\n",
    "        WHERE bux_account_created_dts::date BETWEEN '2016-10-01' AND '2016-12-31'\n",
    "        GROUP BY 1,2) a\n",
    "        \n",
    "        LEFT JOIN (\n",
    "        \n",
    "        SELECT\n",
    "        a.user_id\n",
    "        , created_dts::date as report_date\n",
    "        , SUM(decode(transaction_type, 'COMMISSION',-amount * nvl(b.exchange_rate, 1),0))::numeric(20,2) as commission\n",
    "        , SUM(decode(transaction_type, 'DIVIDEND',-amount * nvl(b.exchange_rate, 1),0))::numeric(20,2) as dividend\n",
    "        , SUM(decode(transaction_type, 'FINANCING_FEE',-amount * nvl(b.exchange_rate, 1),0))::numeric(20,2) as financing_fee\n",
    "        FROM reporting.transactions a\n",
    "        LEFT JOIN reporting.exchange_rates_eur b on b.report_date = a.created_dts::date and b.currency = a.currency\n",
    "        LEFT JOIN reporting.user_details c USING(user_id)\n",
    "        WHERE a.created_dts < c.bux_account_created_dts + interval '6 months'\n",
    "        GROUP BY 1,2\n",
    "        ORDER BY 1 ) b\n",
    "        \n",
    "        ON a.user_id = b.user_id\n",
    "        GROUP BY 1,2,3\n",
    "        ORDER BY 1,2\n",
    "\n",
    "\"\"\"\n",
    "\n",
    "CurCV_whales_1 = sql_query(query_curcv_whales_1)\n",
    "CurCV_whales_1.to_csv(\"data/partitioned_data/part_1/curcv.csv\")\n",
    "len(CurCV_whales_1)"
   ]
  },
  {
   "cell_type": "code",
   "execution_count": 16,
   "metadata": {
    "collapsed": false
   },
   "outputs": [
    {
     "name": "stdout",
     "output_type": "stream",
     "text": [
      "CPU times: user 24.3 s, sys: 2.81 s, total: 27.1 s\n",
      "Wall time: 31.8 s\n"
     ]
    }
   ],
   "source": [
    "%%time\n",
    "\n",
    "query_curcv_whales_2 = \"\"\" \n",
    "\n",
    "        SELECT a.user_id, YEAR(a.bux_account_created_dts), MONTH(a.bux_account_created_dts), SUM(b.commission) as com, SUM(b.dividend) as div, SUM(b.financing_fee) as ff\n",
    "        FROM (\n",
    "        \n",
    "        SELECT user_id, bux_account_created_dts\n",
    "        FROM reporting.user_details\n",
    "        WHERE bux_account_created_dts::date BETWEEN '2017-01-01' AND '2017-03-31'\n",
    "        GROUP BY 1,2) a\n",
    "        \n",
    "        LEFT JOIN (\n",
    "        \n",
    "        SELECT\n",
    "        a.user_id\n",
    "        , created_dts::date as report_date\n",
    "        , SUM(decode(transaction_type, 'COMMISSION',-amount * nvl(b.exchange_rate, 1),0))::numeric(20,2) as commission\n",
    "        , SUM(decode(transaction_type, 'DIVIDEND',-amount * nvl(b.exchange_rate, 1),0))::numeric(20,2) as dividend\n",
    "        , SUM(decode(transaction_type, 'FINANCING_FEE',-amount * nvl(b.exchange_rate, 1),0))::numeric(20,2) as financing_fee\n",
    "        FROM reporting.transactions a\n",
    "        LEFT JOIN reporting.exchange_rates_eur b on b.report_date = a.created_dts::date and b.currency = a.currency\n",
    "        LEFT JOIN reporting.user_details c USING(user_id)\n",
    "        WHERE a.created_dts < c.bux_account_created_dts + interval '6 months'\n",
    "        GROUP BY 1,2\n",
    "        ORDER BY 1 ) b\n",
    "        \n",
    "        ON a.user_id = b.user_id\n",
    "        GROUP BY 1,2,3\n",
    "        ORDER BY 1,2\n",
    "\n",
    "\"\"\"\n",
    "\n",
    "CurCV_whales_2 = sql_query(query_curcv_whales_1)\n",
    "CurCV_whales_2.to_csv(\"data/partitioned_data/part_2/curcv.csv\")\n",
    "len(CurCV_whales_2)"
   ]
  },
  {
   "cell_type": "code",
   "execution_count": 18,
   "metadata": {
    "collapsed": false
   },
   "outputs": [
    {
     "name": "stdout",
     "output_type": "stream",
     "text": [
      "CPU times: user 16 s, sys: 1.56 s, total: 17.6 s\n",
      "Wall time: 21.3 s\n"
     ]
    }
   ],
   "source": [
    "%%time\n",
    "\n",
    "query_curcv_whales_3 = \"\"\" \n",
    "\n",
    "        SELECT a.user_id, YEAR(a.bux_account_created_dts), MONTH(a.bux_account_created_dts), SUM(b.commission) as com, SUM(b.dividend) as div, SUM(b.financing_fee) as ff\n",
    "        FROM (\n",
    "        \n",
    "        SELECT user_id, bux_account_created_dts\n",
    "        FROM reporting.user_details\n",
    "        WHERE bux_account_created_dts::date BETWEEN '2017-04-01' AND '2017-06-30'\n",
    "        GROUP BY 1,2) a\n",
    "        \n",
    "        LEFT JOIN (\n",
    "        \n",
    "        SELECT\n",
    "        a.user_id\n",
    "        , created_dts::date as report_date\n",
    "        , SUM(decode(transaction_type, 'COMMISSION',-amount * nvl(b.exchange_rate, 1),0))::numeric(20,2) as commission\n",
    "        , SUM(decode(transaction_type, 'DIVIDEND',-amount * nvl(b.exchange_rate, 1),0))::numeric(20,2) as dividend\n",
    "        , SUM(decode(transaction_type, 'FINANCING_FEE',-amount * nvl(b.exchange_rate, 1),0))::numeric(20,2) as financing_fee\n",
    "        FROM reporting.transactions a\n",
    "        LEFT JOIN reporting.exchange_rates_eur b on b.report_date = a.created_dts::date and b.currency = a.currency\n",
    "        LEFT JOIN reporting.user_details c USING(user_id)\n",
    "        WHERE a.created_dts < c.bux_account_created_dts + interval '6 months'\n",
    "        GROUP BY 1,2\n",
    "        ORDER BY 1 ) b\n",
    "        \n",
    "        ON a.user_id = b.user_id\n",
    "        GROUP BY 1,2,3\n",
    "        ORDER BY 1,2\n",
    "\n",
    "\"\"\"\n",
    "\n",
    "CurCV_whales_3 = sql_query(query_curcv_whales_1)\n",
    "CurCV_whales_3.to_csv(\"data/partitioned_data/part_3/curcv.csv\")\n",
    "len(CurCV_whales_3)"
   ]
  },
  {
   "cell_type": "code",
   "execution_count": 7,
   "metadata": {
    "collapsed": false
   },
   "outputs": [
    {
     "name": "stdout",
     "output_type": "stream",
     "text": [
      "CPU times: user 20.8 s, sys: 2.44 s, total: 23.2 s\n",
      "Wall time: 26.9 s\n"
     ]
    }
   ],
   "source": [
    "%%time\n",
    "\n",
    "query_curcv_whales_4 = \"\"\" \n",
    "\n",
    "        SELECT a.user_id, YEAR(a.bux_account_created_dts), MONTH(a.bux_account_created_dts), SUM(b.commission) as com, SUM(b.dividend) as div, SUM(b.financing_fee) as ff\n",
    "        FROM (\n",
    "        \n",
    "        SELECT user_id, bux_account_created_dts\n",
    "        FROM reporting.user_details\n",
    "        WHERE bux_account_created_dts::date BETWEEN '2017-07-01' AND '2017-09-30'\n",
    "        GROUP BY 1,2) a\n",
    "        \n",
    "        LEFT JOIN (\n",
    "        \n",
    "        SELECT\n",
    "        a.user_id\n",
    "        , created_dts::date as report_date\n",
    "        , SUM(decode(transaction_type, 'COMMISSION',-amount * nvl(b.exchange_rate, 1),0))::numeric(20,2) as commission\n",
    "        , SUM(decode(transaction_type, 'DIVIDEND',-amount * nvl(b.exchange_rate, 1),0))::numeric(20,2) as dividend\n",
    "        , SUM(decode(transaction_type, 'FINANCING_FEE',-amount * nvl(b.exchange_rate, 1),0))::numeric(20,2) as financing_fee\n",
    "        FROM reporting.transactions a\n",
    "        LEFT JOIN reporting.exchange_rates_eur b on b.report_date = a.created_dts::date and b.currency = a.currency\n",
    "        LEFT JOIN reporting.user_details c USING(user_id)\n",
    "        WHERE a.created_dts < c.bux_account_created_dts + interval '6 months'\n",
    "        GROUP BY 1,2\n",
    "        ORDER BY 1 ) b\n",
    "        \n",
    "        ON a.user_id = b.user_id\n",
    "        GROUP BY 1,2,3\n",
    "        ORDER BY 1,2\n",
    "\n",
    "\"\"\"\n",
    "\n",
    "CurCV_whales_4 = sql_query(query_curcv_whales_4)\n",
    "CurCV_whales_4.to_csv(\"data/partitioned_data/part_4/curcv.csv\")\n",
    "len(CurCV_whales_4)"
   ]
  },
  {
   "cell_type": "code",
   "execution_count": 67,
   "metadata": {
    "collapsed": false
   },
   "outputs": [
    {
     "data": {
      "text/plain": [
       "565983"
      ]
     },
     "execution_count": 67,
     "metadata": {},
     "output_type": "execute_result"
    }
   ],
   "source": [
    "len(CurCV_whales_1) + len(CurCV_whales_2) + len(CurCV_whales_3) + len(CurCV_whales_4)"
   ]
  },
  {
   "cell_type": "code",
   "execution_count": 68,
   "metadata": {
    "collapsed": false
   },
   "outputs": [],
   "source": [
    "CurCV_whales = CurCV_whales_1.append(CurCV_whales_2).append(CurCV_whales_3).append(CurCV_whales_4)"
   ]
  },
  {
   "cell_type": "code",
   "execution_count": 69,
   "metadata": {
    "collapsed": false
   },
   "outputs": [
    {
     "data": {
      "text/plain": [
       "565983"
      ]
     },
     "execution_count": 69,
     "metadata": {},
     "output_type": "execute_result"
    }
   ],
   "source": [
    "len(CurCV_whales)"
   ]
  },
  {
   "cell_type": "code",
   "execution_count": 70,
   "metadata": {
    "collapsed": false
   },
   "outputs": [
    {
     "name": "stdout",
     "output_type": "stream",
     "text": [
      "CPU times: user 2min 52s, sys: 279 ms, total: 2min 52s\n",
      "Wall time: 2min 53s\n"
     ]
    }
   ],
   "source": [
    "%%time\n",
    "\n",
    "CurCV_whales[\"YEAR_MONTH\"] = pd.Series([str(row[\"YEAR\"]) + \"-0\" + str(row[\"MONTH\"])  if row[\"MONTH\"] <= 9 else str(row[\"YEAR\"]) + \"-\" + str(row[\"MONTH\"]) for index, row in CurCV_whales.iterrows()])"
   ]
  },
  {
   "cell_type": "code",
   "execution_count": 71,
   "metadata": {
    "collapsed": false
   },
   "outputs": [],
   "source": [
    "CurCV_whales.to_csv('data/curcv_1y_6mCustomerValue.csv')"
   ]
  },
  {
   "cell_type": "code",
   "execution_count": 45,
   "metadata": {
    "collapsed": false
   },
   "outputs": [
    {
     "name": "stdout",
     "output_type": "stream",
     "text": [
      "CPU times: user 433 ms, sys: 91 µs, total: 433 ms\n",
      "Wall time: 459 ms\n"
     ]
    }
   ],
   "source": [
    "%%time\n",
    "\n",
    "CurCV_whales[\"YEAR_MONTH\"] = pd.to_datetime(CurCV_whales[\"YEAR_MONTH\"])\n",
    "CurCV_whales = CurCV_whales.fillna(0)\n",
    "CurCV_whales[\"CLV\"] = CurCV_whales[\"com\"] + CurCV_whales[\"ff\"] # + CurCV_whales[\"div\"]\n",
    "CurCV_whales[[\"CLV\", \"com\", \"div\", \"ff\"]]=CurCV_whales[[\"CLV\", \"com\", \"div\", \"ff\"]].astype(float)\n",
    "CurCV_whales.head()"
   ]
  },
  {
   "cell_type": "code",
   "execution_count": 46,
   "metadata": {
    "collapsed": false
   },
   "outputs": [
    {
     "data": {
      "image/png": "[encoded data removed]",
      "text/plain": [
       "<matplotlib.figure.Figure at 0x7f97e65b74a8>"
      ]
     },
     "metadata": {},
     "output_type": "display_data"
    }
   ],
   "source": [
    "CurCV_whales[\"CLV\"].plot(kind='hist',bins=100, xlim=(0,5000));"
   ]
  },
  {
   "cell_type": "code",
   "execution_count": 47,
   "metadata": {
    "collapsed": false
   },
   "outputs": [
    {
     "data": {
      "text/plain": [
       "98708"
      ]
     },
     "execution_count": 47,
     "metadata": {},
     "output_type": "execute_result"
    }
   ],
   "source": [
    "len(CurCV_whales[CurCV_whales[\"CLV\"] == 0])"
   ]
  },
  {
   "cell_type": "code",
   "execution_count": 48,
   "metadata": {
    "collapsed": false,
    "scrolled": true
   },
   "outputs": [
    {
     "data": {
      "text/plain": [
       "count    101955.000000\n",
       "mean          4.950874\n",
       "std         160.971694\n",
       "min           0.000000\n",
       "25%           0.000000\n",
       "50%           0.000000\n",
       "75%           0.000000\n",
       "max       25601.400000\n",
       "Name: CLV, dtype: float64"
      ]
     },
     "execution_count": 48,
     "metadata": {},
     "output_type": "execute_result"
    }
   ],
   "source": [
    "CurCV_whales[\"CLV\"].describe()"
   ]
  },
  {
   "cell_type": "code",
   "execution_count": 49,
   "metadata": {
    "collapsed": false
   },
   "outputs": [
    {
     "data": {
      "text/plain": [
       "38.57"
      ]
     },
     "execution_count": 49,
     "metadata": {},
     "output_type": "execute_result"
    }
   ],
   "source": [
    "whale_threshold = CurCV_whales['CLV'].quantile(0.99)\n",
    "whale_threshold"
   ]
  },
  {
   "cell_type": "code",
   "execution_count": 50,
   "metadata": {
    "collapsed": false
   },
   "outputs": [
    {
     "data": {
      "text/plain": [
       "(Timestamp('2016-10-01 00:00:00'), Timestamp('2016-12-01 00:00:00'))"
      ]
     },
     "execution_count": 50,
     "metadata": {},
     "output_type": "execute_result"
    }
   ],
   "source": [
    "CurCV_whales[\"YEAR_MONTH\"].min(), CurCV_whales[\"YEAR_MONTH\"].max()"
   ]
  },
  {
   "cell_type": "markdown",
   "metadata": {},
   "source": [
    "### 6 month whale value threshold:\n",
    "\n",
    "#### 2016-01 -> 2017-09 = 50 euros, mean = 6 euros, std = 184, 8800 whales\n",
    "#### 2016-01 -> 2016-12 = 50 euros, mean = 5.8 euros, std = 184, 5000 whales)\n",
    "#### 2017-01 -> 2017-09 = "
   ]
  },
  {
   "cell_type": "code",
   "execution_count": 294,
   "metadata": {
    "collapsed": false
   },
   "outputs": [
    {
     "data": {
      "text/plain": [
       "5059"
      ]
     },
     "execution_count": 294,
     "metadata": {},
     "output_type": "execute_result"
    }
   ],
   "source": [
    "len(CurCV_whales[CurCV_whales[\"CLV\"] > whale_threshold])"
   ]
  },
  {
   "cell_type": "code",
   "execution_count": null,
   "metadata": {
    "collapsed": false
   },
   "outputs": [
    {
     "data": {
      "text/plain": [
       "<matplotlib.axes._subplots.AxesSubplot at 0x7fba08d2fd68>"
      ]
     },
     "execution_count": 295,
     "metadata": {},
     "output_type": "execute_result"
    }
   ],
   "source": [
    "CurCV_whales[CurCV_whales[\"CLV\"] > whale_threshold][\"CLV\"].plot(kind='bar')"
   ]
  },
  {
   "cell_type": "code",
   "execution_count": null,
   "metadata": {
    "collapsed": true
   },
   "outputs": [],
   "source": [
    "# pd.DataFrame(serious_buxers).reset_index().hist(cumulative=True, normed=1, bins=100);"
   ]
  },
  {
   "cell_type": "code",
   "execution_count": 223,
   "metadata": {
    "collapsed": true
   },
   "outputs": [],
   "source": [
    "conn = vertica_python.connect(**conn_info)\n",
    "cur = conn.cursor('dict')"
   ]
  },
  {
   "cell_type": "markdown",
   "metadata": {},
   "source": [
    "# Downsampling (later in the pipeline, after splitting train/test)"
   ]
  },
  {
   "cell_type": "code",
   "execution_count": 37,
   "metadata": {
    "collapsed": false
   },
   "outputs": [
    {
     "data": {
      "text/plain": [
       "565983"
      ]
     },
     "execution_count": 37,
     "metadata": {},
     "output_type": "execute_result"
    }
   ],
   "source": [
    "len(CurCV_1yCohort_6mCurCV)"
   ]
  },
  {
   "cell_type": "code",
   "execution_count": 40,
   "metadata": {
    "collapsed": false
   },
   "outputs": [
    {
     "data": {
      "text/plain": [
       "0    561372\n",
       "1      4611\n",
       "Name: whale, dtype: int64"
      ]
     },
     "execution_count": 40,
     "metadata": {},
     "output_type": "execute_result"
    }
   ],
   "source": [
    "CurCV_1yCohort_6mCurCV[\"CLV\"] = CurCV_1yCohort_6mCurCV[\"CLV\"].astype(float)\n",
    "CurCV_1yCohort_6mCurCV = CurCV_1yCohort_6mCurCV.fillna(0)\n",
    "CurCV_1yCohort_6mCurCV[\"whale\"] = (CurCV_1yCohort_6mCurCV[\"CLV\"] > 50).astype(int)\n",
    "CurCV_1yCohort_6mCurCV[\"whale\"].value_counts()"
   ]
  },
  {
   "cell_type": "code",
   "execution_count": 64,
   "metadata": {
    "collapsed": false
   },
   "outputs": [
    {
     "data": {
      "text/plain": [
       "4611"
      ]
     },
     "execution_count": 64,
     "metadata": {},
     "output_type": "execute_result"
    }
   ],
   "source": [
    "num_of_whales = len(CurCV_1yCohort_6mCurCV[CurCV_1yCohort_6mCurCV[\"whale\"] == 1])\n",
    "num_of_whales"
   ]
  },
  {
   "cell_type": "code",
   "execution_count": 60,
   "metadata": {
    "collapsed": false
   },
   "outputs": [
    {
     "data": {
      "text/html": [
       "<div>\n",
       "<style>\n",
       "    .dataframe thead tr:only-child th {\n",
       "        text-align: right;\n",
       "    }\n",
       "\n",
       "    .dataframe thead th {\n",
       "        text-align: left;\n",
       "    }\n",
       "\n",
       "    .dataframe tbody tr th {\n",
       "        vertical-align: top;\n",
       "    }\n",
       "</style>\n",
       "<table border=\"1\" class=\"dataframe\">\n",
       "  <thead>\n",
       "    <tr style=\"text-align: right;\">\n",
       "      <th></th>\n",
       "      <th>user_id</th>\n",
       "      <th>bux_account_created_dts</th>\n",
       "      <th>com</th>\n",
       "      <th>div</th>\n",
       "      <th>ff</th>\n",
       "      <th>total</th>\n",
       "      <th>whale</th>\n",
       "      <th>CLV</th>\n",
       "    </tr>\n",
       "  </thead>\n",
       "  <tbody>\n",
       "    <tr>\n",
       "      <th>381732</th>\n",
       "      <td>acb6d13f-27f3-420e-8cef-d80fb7813fc2</td>\n",
       "      <td>2017-08-07 19:13:11.542</td>\n",
       "      <td>28269.25</td>\n",
       "      <td>-1302.31</td>\n",
       "      <td>2163.13</td>\n",
       "      <td>29130.07</td>\n",
       "      <td>1</td>\n",
       "      <td>29130.07</td>\n",
       "    </tr>\n",
       "    <tr>\n",
       "      <th>492888</th>\n",
       "      <td>df02e3b2-f83f-428f-8bda-c0f5293e6ddb</td>\n",
       "      <td>2016-10-11 05:53:56.543</td>\n",
       "      <td>24997.81</td>\n",
       "      <td>-90.13</td>\n",
       "      <td>603.59</td>\n",
       "      <td>25511.27</td>\n",
       "      <td>1</td>\n",
       "      <td>25511.27</td>\n",
       "    </tr>\n",
       "    <tr>\n",
       "      <th>124094</th>\n",
       "      <td>3841e8eb-c047-47b9-b1bb-aa117ca8121d</td>\n",
       "      <td>2017-06-25 10:23:10.752</td>\n",
       "      <td>22839.71</td>\n",
       "      <td>-91.43</td>\n",
       "      <td>1548.12</td>\n",
       "      <td>24296.40</td>\n",
       "      <td>1</td>\n",
       "      <td>24296.40</td>\n",
       "    </tr>\n",
       "    <tr>\n",
       "      <th>363591</th>\n",
       "      <td>a48ddf05-9e18-4c05-9514-bbb2de8b304e</td>\n",
       "      <td>2017-09-15 12:02:13.293</td>\n",
       "      <td>22676.53</td>\n",
       "      <td>-25.20</td>\n",
       "      <td>319.18</td>\n",
       "      <td>22970.51</td>\n",
       "      <td>1</td>\n",
       "      <td>22970.51</td>\n",
       "    </tr>\n",
       "    <tr>\n",
       "      <th>466948</th>\n",
       "      <td>d363380d-1e19-4c0d-98f5-0c97d6a514b9</td>\n",
       "      <td>2017-03-14 18:38:21.261</td>\n",
       "      <td>20530.05</td>\n",
       "      <td>0.00</td>\n",
       "      <td>1157.35</td>\n",
       "      <td>21687.40</td>\n",
       "      <td>1</td>\n",
       "      <td>21687.40</td>\n",
       "    </tr>\n",
       "    <tr>\n",
       "      <th>66173</th>\n",
       "      <td>1dfd5300-f30c-4e99-86bc-b158559e4dfc</td>\n",
       "      <td>2016-12-15 15:34:56.919</td>\n",
       "      <td>20472.92</td>\n",
       "      <td>-1625.86</td>\n",
       "      <td>2207.44</td>\n",
       "      <td>21054.50</td>\n",
       "      <td>1</td>\n",
       "      <td>21054.50</td>\n",
       "    </tr>\n",
       "    <tr>\n",
       "      <th>369551</th>\n",
       "      <td>a73a431f-b8f8-4a9c-b839-0091be9e4433</td>\n",
       "      <td>2016-10-12 23:00:48.589</td>\n",
       "      <td>19447.61</td>\n",
       "      <td>11.26</td>\n",
       "      <td>184.08</td>\n",
       "      <td>19642.95</td>\n",
       "      <td>1</td>\n",
       "      <td>19642.95</td>\n",
       "    </tr>\n",
       "    <tr>\n",
       "      <th>83251</th>\n",
       "      <td>25cf9821-ddb1-4c66-861d-bcc30b6d49c0</td>\n",
       "      <td>2017-01-13 20:10:43.712</td>\n",
       "      <td>11878.21</td>\n",
       "      <td>1308.34</td>\n",
       "      <td>5065.89</td>\n",
       "      <td>18252.44</td>\n",
       "      <td>1</td>\n",
       "      <td>18252.44</td>\n",
       "    </tr>\n",
       "    <tr>\n",
       "      <th>323265</th>\n",
       "      <td>923492d8-d04e-49a1-9c60-8c95d4597d4c</td>\n",
       "      <td>2016-11-07 00:22:56.164</td>\n",
       "      <td>14303.56</td>\n",
       "      <td>8.57</td>\n",
       "      <td>860.87</td>\n",
       "      <td>15173.00</td>\n",
       "      <td>1</td>\n",
       "      <td>15173.00</td>\n",
       "    </tr>\n",
       "    <tr>\n",
       "      <th>201655</th>\n",
       "      <td>5b484d6e-9003-4878-95b3-bd20e4bbdbab</td>\n",
       "      <td>2017-09-09 14:35:04.904</td>\n",
       "      <td>14076.76</td>\n",
       "      <td>-795.11</td>\n",
       "      <td>1616.62</td>\n",
       "      <td>14898.27</td>\n",
       "      <td>1</td>\n",
       "      <td>14898.27</td>\n",
       "    </tr>\n",
       "    <tr>\n",
       "      <th>103634</th>\n",
       "      <td>2efa0010-5381-4ab9-8673-4c7393814340</td>\n",
       "      <td>2017-07-12 15:25:59.909</td>\n",
       "      <td>12151.51</td>\n",
       "      <td>91.50</td>\n",
       "      <td>2349.41</td>\n",
       "      <td>14592.42</td>\n",
       "      <td>1</td>\n",
       "      <td>14592.42</td>\n",
       "    </tr>\n",
       "    <tr>\n",
       "      <th>509549</th>\n",
       "      <td>e68798fc-f35a-45ca-a2b3-a8e83ca49ed8</td>\n",
       "      <td>2017-05-06 19:02:06.240</td>\n",
       "      <td>13776.98</td>\n",
       "      <td>-67.83</td>\n",
       "      <td>727.15</td>\n",
       "      <td>14436.30</td>\n",
       "      <td>1</td>\n",
       "      <td>14436.30</td>\n",
       "    </tr>\n",
       "    <tr>\n",
       "      <th>181576</th>\n",
       "      <td>5240727e-63f9-47e7-819d-30ea20b41877</td>\n",
       "      <td>2017-04-24 12:46:37.308</td>\n",
       "      <td>12546.70</td>\n",
       "      <td>-3.78</td>\n",
       "      <td>1324.07</td>\n",
       "      <td>13866.99</td>\n",
       "      <td>1</td>\n",
       "      <td>13866.99</td>\n",
       "    </tr>\n",
       "    <tr>\n",
       "      <th>396336</th>\n",
       "      <td>b3528838-d37d-4ae5-a453-880f6128fad6</td>\n",
       "      <td>2017-01-05 10:30:54.458</td>\n",
       "      <td>12504.80</td>\n",
       "      <td>-182.71</td>\n",
       "      <td>596.55</td>\n",
       "      <td>12918.64</td>\n",
       "      <td>1</td>\n",
       "      <td>12918.64</td>\n",
       "    </tr>\n",
       "    <tr>\n",
       "      <th>339434</th>\n",
       "      <td>9988c764-6dba-4c26-a89b-1609c09a7756</td>\n",
       "      <td>2017-04-26 14:42:13.590</td>\n",
       "      <td>11982.81</td>\n",
       "      <td>-141.18</td>\n",
       "      <td>666.08</td>\n",
       "      <td>12507.71</td>\n",
       "      <td>1</td>\n",
       "      <td>12507.71</td>\n",
       "    </tr>\n",
       "  </tbody>\n",
       "</table>\n",
       "</div>"
      ],
      "text/plain": [
       "                                     user_id bux_account_created_dts  \\\n",
       "381732  acb6d13f-27f3-420e-8cef-d80fb7813fc2 2017-08-07 19:13:11.542   \n",
       "492888  df02e3b2-f83f-428f-8bda-c0f5293e6ddb 2016-10-11 05:53:56.543   \n",
       "124094  3841e8eb-c047-47b9-b1bb-aa117ca8121d 2017-06-25 10:23:10.752   \n",
       "363591  a48ddf05-9e18-4c05-9514-bbb2de8b304e 2017-09-15 12:02:13.293   \n",
       "466948  d363380d-1e19-4c0d-98f5-0c97d6a514b9 2017-03-14 18:38:21.261   \n",
       "66173   1dfd5300-f30c-4e99-86bc-b158559e4dfc 2016-12-15 15:34:56.919   \n",
       "369551  a73a431f-b8f8-4a9c-b839-0091be9e4433 2016-10-12 23:00:48.589   \n",
       "83251   25cf9821-ddb1-4c66-861d-bcc30b6d49c0 2017-01-13 20:10:43.712   \n",
       "323265  923492d8-d04e-49a1-9c60-8c95d4597d4c 2016-11-07 00:22:56.164   \n",
       "201655  5b484d6e-9003-4878-95b3-bd20e4bbdbab 2017-09-09 14:35:04.904   \n",
       "103634  2efa0010-5381-4ab9-8673-4c7393814340 2017-07-12 15:25:59.909   \n",
       "509549  e68798fc-f35a-45ca-a2b3-a8e83ca49ed8 2017-05-06 19:02:06.240   \n",
       "181576  5240727e-63f9-47e7-819d-30ea20b41877 2017-04-24 12:46:37.308   \n",
       "396336  b3528838-d37d-4ae5-a453-880f6128fad6 2017-01-05 10:30:54.458   \n",
       "339434  9988c764-6dba-4c26-a89b-1609c09a7756 2017-04-26 14:42:13.590   \n",
       "\n",
       "             com       div       ff     total  whale       CLV  \n",
       "381732  28269.25  -1302.31  2163.13  29130.07      1  29130.07  \n",
       "492888  24997.81    -90.13   603.59  25511.27      1  25511.27  \n",
       "124094  22839.71    -91.43  1548.12  24296.40      1  24296.40  \n",
       "363591  22676.53    -25.20   319.18  22970.51      1  22970.51  \n",
       "466948  20530.05      0.00  1157.35  21687.40      1  21687.40  \n",
       "66173   20472.92  -1625.86  2207.44  21054.50      1  21054.50  \n",
       "369551  19447.61     11.26   184.08  19642.95      1  19642.95  \n",
       "83251   11878.21   1308.34  5065.89  18252.44      1  18252.44  \n",
       "323265  14303.56      8.57   860.87  15173.00      1  15173.00  \n",
       "201655  14076.76   -795.11  1616.62  14898.27      1  14898.27  \n",
       "103634  12151.51     91.50  2349.41  14592.42      1  14592.42  \n",
       "509549  13776.98    -67.83   727.15  14436.30      1  14436.30  \n",
       "181576  12546.70     -3.78  1324.07  13866.99      1  13866.99  \n",
       "396336  12504.80   -182.71   596.55  12918.64      1  12918.64  \n",
       "339434  11982.81   -141.18   666.08  12507.71      1  12507.71  "
      ]
     },
     "execution_count": 60,
     "metadata": {},
     "output_type": "execute_result"
    }
   ],
   "source": [
    "CurCV_1yCohort_6mCurCV.sort_values(by=\"CLV\", ascending=False)[0:15]"
   ]
  },
  {
   "cell_type": "code",
   "execution_count": 96,
   "metadata": {
    "collapsed": false
   },
   "outputs": [
    {
     "data": {
      "text/html": [
       "<div>\n",
       "<style>\n",
       "    .dataframe thead tr:only-child th {\n",
       "        text-align: right;\n",
       "    }\n",
       "\n",
       "    .dataframe thead th {\n",
       "        text-align: left;\n",
       "    }\n",
       "\n",
       "    .dataframe tbody tr th {\n",
       "        vertical-align: top;\n",
       "    }\n",
       "</style>\n",
       "<table border=\"1\" class=\"dataframe\">\n",
       "  <thead>\n",
       "    <tr style=\"text-align: right;\">\n",
       "      <th></th>\n",
       "      <th>user_id</th>\n",
       "      <th>bux_account_created_dts</th>\n",
       "      <th>com</th>\n",
       "      <th>div</th>\n",
       "      <th>ff</th>\n",
       "      <th>total</th>\n",
       "      <th>whale</th>\n",
       "      <th>CLV</th>\n",
       "    </tr>\n",
       "  </thead>\n",
       "  <tbody>\n",
       "    <tr>\n",
       "      <th>277645</th>\n",
       "      <td>7d903ec2-62fb-4461-860a-6b61fa94c0dc</td>\n",
       "      <td>2017-05-09 20:25:26.566</td>\n",
       "      <td>35.30</td>\n",
       "      <td>-402.13</td>\n",
       "      <td>74.90</td>\n",
       "      <td>-291.93</td>\n",
       "      <td>0</td>\n",
       "      <td>-291.93</td>\n",
       "    </tr>\n",
       "    <tr>\n",
       "      <th>418226</th>\n",
       "      <td>bd50b13a-3890-4b15-b7c5-7fe3c534e4ba</td>\n",
       "      <td>2017-01-25 13:36:23.838</td>\n",
       "      <td>1996.15</td>\n",
       "      <td>-5652.77</td>\n",
       "      <td>792.31</td>\n",
       "      <td>-2864.31</td>\n",
       "      <td>0</td>\n",
       "      <td>-2864.31</td>\n",
       "    </tr>\n",
       "  </tbody>\n",
       "</table>\n",
       "</div>"
      ],
      "text/plain": [
       "                                     user_id bux_account_created_dts      com  \\\n",
       "277645  7d903ec2-62fb-4461-860a-6b61fa94c0dc 2017-05-09 20:25:26.566    35.30   \n",
       "418226  bd50b13a-3890-4b15-b7c5-7fe3c534e4ba 2017-01-25 13:36:23.838  1996.15   \n",
       "\n",
       "             div      ff     total  whale      CLV  \n",
       "277645   -402.13   74.90   -291.93      0  -291.93  \n",
       "418226  -5652.77  792.31  -2864.31      0 -2864.31  "
      ]
     },
     "execution_count": 96,
     "metadata": {},
     "output_type": "execute_result"
    }
   ],
   "source": [
    "CurCV_1yCohort_6mCurCV[CurCV_1yCohort_6mCurCV[\"CLV\"] < -100]"
   ]
  },
  {
   "cell_type": "code",
   "execution_count": 44,
   "metadata": {
    "collapsed": false
   },
   "outputs": [
    {
     "data": {
      "text/plain": [
       "count    565983.000000\n",
       "mean          4.340459\n",
       "std         137.687575\n",
       "min       -2864.310000\n",
       "25%           0.000000\n",
       "50%           0.000000\n",
       "75%           0.000000\n",
       "max       29130.070000\n",
       "Name: CLV, dtype: float64"
      ]
     },
     "execution_count": 44,
     "metadata": {},
     "output_type": "execute_result"
    }
   ],
   "source": [
    "CurCV_1yCohort_6mCurCV[\"CLV\"].describe()"
   ]
  },
  {
   "cell_type": "code",
   "execution_count": 42,
   "metadata": {
    "collapsed": false
   },
   "outputs": [
    {
     "data": {
      "text/html": [
       "<div>\n",
       "<style>\n",
       "    .dataframe thead tr:only-child th {\n",
       "        text-align: right;\n",
       "    }\n",
       "\n",
       "    .dataframe thead th {\n",
       "        text-align: left;\n",
       "    }\n",
       "\n",
       "    .dataframe tbody tr th {\n",
       "        vertical-align: top;\n",
       "    }\n",
       "</style>\n",
       "<table border=\"1\" class=\"dataframe\">\n",
       "  <thead>\n",
       "    <tr style=\"text-align: right;\">\n",
       "      <th></th>\n",
       "      <th>user_id</th>\n",
       "      <th>bux_account_created_dts</th>\n",
       "      <th>com</th>\n",
       "      <th>div</th>\n",
       "      <th>ff</th>\n",
       "      <th>total</th>\n",
       "      <th>whale</th>\n",
       "      <th>CLV</th>\n",
       "    </tr>\n",
       "  </thead>\n",
       "  <tbody>\n",
       "    <tr>\n",
       "      <th>0</th>\n",
       "      <td>00001025-a69f-498c-be1e-6fc4ec96453b</td>\n",
       "      <td>2016-10-01 07:48:23.647</td>\n",
       "      <td>0</td>\n",
       "      <td>0</td>\n",
       "      <td>0</td>\n",
       "      <td>0</td>\n",
       "      <td>0</td>\n",
       "      <td>0.0</td>\n",
       "    </tr>\n",
       "    <tr>\n",
       "      <th>1</th>\n",
       "      <td>00001e00-0bc0-4de5-a212-c19a9afe0dc0</td>\n",
       "      <td>2017-08-21 07:05:33.269</td>\n",
       "      <td>0</td>\n",
       "      <td>0</td>\n",
       "      <td>0</td>\n",
       "      <td>0</td>\n",
       "      <td>0</td>\n",
       "      <td>0.0</td>\n",
       "    </tr>\n",
       "    <tr>\n",
       "      <th>2</th>\n",
       "      <td>00003ad5-d62d-4a88-ae32-558b9ac70915</td>\n",
       "      <td>2017-01-22 18:43:34.760</td>\n",
       "      <td>0</td>\n",
       "      <td>0</td>\n",
       "      <td>0</td>\n",
       "      <td>0</td>\n",
       "      <td>0</td>\n",
       "      <td>0.0</td>\n",
       "    </tr>\n",
       "    <tr>\n",
       "      <th>3</th>\n",
       "      <td>0000656b-8703-4505-917d-652b80545a1f</td>\n",
       "      <td>2017-09-28 11:04:33.659</td>\n",
       "      <td>0</td>\n",
       "      <td>0</td>\n",
       "      <td>0</td>\n",
       "      <td>0</td>\n",
       "      <td>0</td>\n",
       "      <td>0.0</td>\n",
       "    </tr>\n",
       "    <tr>\n",
       "      <th>4</th>\n",
       "      <td>00008058-2e3f-42dd-a9d7-8ee371d876ab</td>\n",
       "      <td>2017-05-10 13:26:35.931</td>\n",
       "      <td>0</td>\n",
       "      <td>0</td>\n",
       "      <td>0</td>\n",
       "      <td>0</td>\n",
       "      <td>0</td>\n",
       "      <td>0.0</td>\n",
       "    </tr>\n",
       "  </tbody>\n",
       "</table>\n",
       "</div>"
      ],
      "text/plain": [
       "                                user_id bux_account_created_dts com div ff  \\\n",
       "0  00001025-a69f-498c-be1e-6fc4ec96453b 2016-10-01 07:48:23.647   0   0  0   \n",
       "1  00001e00-0bc0-4de5-a212-c19a9afe0dc0 2017-08-21 07:05:33.269   0   0  0   \n",
       "2  00003ad5-d62d-4a88-ae32-558b9ac70915 2017-01-22 18:43:34.760   0   0  0   \n",
       "3  0000656b-8703-4505-917d-652b80545a1f 2017-09-28 11:04:33.659   0   0  0   \n",
       "4  00008058-2e3f-42dd-a9d7-8ee371d876ab 2017-05-10 13:26:35.931   0   0  0   \n",
       "\n",
       "  total  whale  CLV  \n",
       "0     0      0  0.0  \n",
       "1     0      0  0.0  \n",
       "2     0      0  0.0  \n",
       "3     0      0  0.0  \n",
       "4     0      0  0.0  "
      ]
     },
     "execution_count": 42,
     "metadata": {},
     "output_type": "execute_result"
    }
   ],
   "source": [
    "CurCV_1yCohort_6mCurCV.head()"
   ]
  },
  {
   "cell_type": "code",
   "execution_count": 69,
   "metadata": {
    "collapsed": false
   },
   "outputs": [
    {
     "data": {
      "text/plain": [
       "0    46110\n",
       "1     4611\n",
       "Name: whale, dtype: int64"
      ]
     },
     "execution_count": 69,
     "metadata": {},
     "output_type": "execute_result"
    }
   ],
   "source": [
    "from sklearn.utils import resample\n",
    "\n",
    "# Separate majority and minority classes\n",
    "df_majority = CurCV_1yCohort_6mCurCV[CurCV_1yCohort_6mCurCV[\"whale\"] == 0]\n",
    "df_minority = CurCV_1yCohort_6mCurCV[CurCV_1yCohort_6mCurCV[\"whale\"] == 1]\n",
    " \n",
    "# Downsample majority class\n",
    "df_majority_downsampled = resample(df_majority, \n",
    "                                 replace=False,    # sample without replacement\n",
    "                                 n_samples=num_of_whales*10,     # to match minority class\n",
    "                                 random_state=123) # reproducible results\n",
    " \n",
    "# Combine minority class with downsampled majority class\n",
    "df_downsampled = pd.concat([df_majority_downsampled, df_minority])\n",
    " \n",
    "# Display new class counts\n",
    "df_downsampled[\"whale\"].value_counts()"
   ]
  },
  {
   "cell_type": "code",
   "execution_count": 70,
   "metadata": {
    "collapsed": false
   },
   "outputs": [
    {
     "data": {
      "text/html": [
       "<div>\n",
       "<style>\n",
       "    .dataframe thead tr:only-child th {\n",
       "        text-align: right;\n",
       "    }\n",
       "\n",
       "    .dataframe thead th {\n",
       "        text-align: left;\n",
       "    }\n",
       "\n",
       "    .dataframe tbody tr th {\n",
       "        vertical-align: top;\n",
       "    }\n",
       "</style>\n",
       "<table border=\"1\" class=\"dataframe\">\n",
       "  <thead>\n",
       "    <tr style=\"text-align: right;\">\n",
       "      <th></th>\n",
       "      <th>user_id</th>\n",
       "      <th>bux_account_created_dts</th>\n",
       "      <th>com</th>\n",
       "      <th>div</th>\n",
       "      <th>ff</th>\n",
       "      <th>total</th>\n",
       "      <th>whale</th>\n",
       "      <th>CLV</th>\n",
       "    </tr>\n",
       "  </thead>\n",
       "  <tbody>\n",
       "    <tr>\n",
       "      <th>305729</th>\n",
       "      <td>8a35d43b-b4be-4c0c-82c1-bee7b760bd87</td>\n",
       "      <td>2016-12-26 13:20:05.768</td>\n",
       "      <td>0</td>\n",
       "      <td>0</td>\n",
       "      <td>0</td>\n",
       "      <td>0</td>\n",
       "      <td>0</td>\n",
       "      <td>0.00</td>\n",
       "    </tr>\n",
       "    <tr>\n",
       "      <th>262165</th>\n",
       "      <td>76a63b6c-b839-4940-a09d-f3c7d312eaaa</td>\n",
       "      <td>2017-09-15 17:23:47.783</td>\n",
       "      <td>0</td>\n",
       "      <td>0</td>\n",
       "      <td>0</td>\n",
       "      <td>0</td>\n",
       "      <td>0</td>\n",
       "      <td>0.00</td>\n",
       "    </tr>\n",
       "    <tr>\n",
       "      <th>379319</th>\n",
       "      <td>aba37f50-7dd7-43e4-8110-557c892b90b1</td>\n",
       "      <td>2016-11-01 14:51:27.960</td>\n",
       "      <td>0</td>\n",
       "      <td>0</td>\n",
       "      <td>0</td>\n",
       "      <td>0</td>\n",
       "      <td>0</td>\n",
       "      <td>0.00</td>\n",
       "    </tr>\n",
       "    <tr>\n",
       "      <th>220680</th>\n",
       "      <td>64095894-06e8-49bf-a265-a9ac02bb8d29</td>\n",
       "      <td>2017-05-15 17:34:36.036</td>\n",
       "      <td>0</td>\n",
       "      <td>0</td>\n",
       "      <td>0</td>\n",
       "      <td>0</td>\n",
       "      <td>0</td>\n",
       "      <td>0.00</td>\n",
       "    </tr>\n",
       "    <tr>\n",
       "      <th>147611</th>\n",
       "      <td>42e702f2-a492-43fd-8e45-13fa53f4a351</td>\n",
       "      <td>2017-07-24 18:36:57.613</td>\n",
       "      <td>0</td>\n",
       "      <td>0</td>\n",
       "      <td>0</td>\n",
       "      <td>0</td>\n",
       "      <td>0</td>\n",
       "      <td>0.00</td>\n",
       "    </tr>\n",
       "    <tr>\n",
       "      <th>316664</th>\n",
       "      <td>8f3c08f8-d9b8-469a-a43f-af4947c7c325</td>\n",
       "      <td>2016-10-19 19:54:50.773</td>\n",
       "      <td>0</td>\n",
       "      <td>0</td>\n",
       "      <td>0</td>\n",
       "      <td>0</td>\n",
       "      <td>0</td>\n",
       "      <td>0.00</td>\n",
       "    </tr>\n",
       "    <tr>\n",
       "      <th>137602</th>\n",
       "      <td>3e549c63-b57d-4a8e-8db7-b5440dd4b25d</td>\n",
       "      <td>2017-04-17 17:17:26.015</td>\n",
       "      <td>0</td>\n",
       "      <td>0</td>\n",
       "      <td>0</td>\n",
       "      <td>0</td>\n",
       "      <td>0</td>\n",
       "      <td>0.00</td>\n",
       "    </tr>\n",
       "    <tr>\n",
       "      <th>324149</th>\n",
       "      <td>9297cc15-ed40-464a-850b-447ea5405f60</td>\n",
       "      <td>2016-12-27 23:55:21.909</td>\n",
       "      <td>0</td>\n",
       "      <td>0</td>\n",
       "      <td>0</td>\n",
       "      <td>0</td>\n",
       "      <td>0</td>\n",
       "      <td>0.00</td>\n",
       "    </tr>\n",
       "    <tr>\n",
       "      <th>348172</th>\n",
       "      <td>9d8548ae-d4da-4e4c-8398-499ebd5e892b</td>\n",
       "      <td>2017-01-02 12:03:34.071</td>\n",
       "      <td>0</td>\n",
       "      <td>0</td>\n",
       "      <td>0</td>\n",
       "      <td>0</td>\n",
       "      <td>0</td>\n",
       "      <td>0.00</td>\n",
       "    </tr>\n",
       "    <tr>\n",
       "      <th>254209</th>\n",
       "      <td>730c54b2-8b55-4a4f-b696-fb5f81226a1c</td>\n",
       "      <td>2017-02-14 20:02:47.074</td>\n",
       "      <td>0</td>\n",
       "      <td>0</td>\n",
       "      <td>0</td>\n",
       "      <td>0</td>\n",
       "      <td>0</td>\n",
       "      <td>0.00</td>\n",
       "    </tr>\n",
       "    <tr>\n",
       "      <th>210165</th>\n",
       "      <td>5f334f09-91f4-4db1-8e8e-d70dc310de5e</td>\n",
       "      <td>2017-08-21 20:49:51.391</td>\n",
       "      <td>0</td>\n",
       "      <td>0</td>\n",
       "      <td>0</td>\n",
       "      <td>0</td>\n",
       "      <td>0</td>\n",
       "      <td>0.00</td>\n",
       "    </tr>\n",
       "    <tr>\n",
       "      <th>335114</th>\n",
       "      <td>9795f41d-4f91-4987-ad8a-1694a7b994c1</td>\n",
       "      <td>2016-11-27 22:29:53.980</td>\n",
       "      <td>0</td>\n",
       "      <td>0</td>\n",
       "      <td>0</td>\n",
       "      <td>0</td>\n",
       "      <td>0</td>\n",
       "      <td>0.00</td>\n",
       "    </tr>\n",
       "    <tr>\n",
       "      <th>96734</th>\n",
       "      <td>2be4d189-750a-4d01-8cb5-1f95d4d45dc0</td>\n",
       "      <td>2017-03-11 08:50:30.836</td>\n",
       "      <td>0</td>\n",
       "      <td>0</td>\n",
       "      <td>0</td>\n",
       "      <td>0</td>\n",
       "      <td>0</td>\n",
       "      <td>0.00</td>\n",
       "    </tr>\n",
       "    <tr>\n",
       "      <th>521278</th>\n",
       "      <td>ebc890dd-ba0f-4241-8182-8c864d43e16e</td>\n",
       "      <td>2017-03-16 09:08:23.993</td>\n",
       "      <td>0</td>\n",
       "      <td>0</td>\n",
       "      <td>0</td>\n",
       "      <td>0</td>\n",
       "      <td>0</td>\n",
       "      <td>0.00</td>\n",
       "    </tr>\n",
       "    <tr>\n",
       "      <th>31701</th>\n",
       "      <td>0e4b248f-73e3-4cdb-9289-bd00d8434f45</td>\n",
       "      <td>2017-02-12 21:15:12.185</td>\n",
       "      <td>0</td>\n",
       "      <td>0</td>\n",
       "      <td>0</td>\n",
       "      <td>0</td>\n",
       "      <td>0</td>\n",
       "      <td>0.00</td>\n",
       "    </tr>\n",
       "    <tr>\n",
       "      <th>340910</th>\n",
       "      <td>9a33e240-16eb-4a0e-a414-868882854e33</td>\n",
       "      <td>2017-07-19 04:24:42.654</td>\n",
       "      <td>0</td>\n",
       "      <td>0</td>\n",
       "      <td>0</td>\n",
       "      <td>0</td>\n",
       "      <td>0</td>\n",
       "      <td>0.00</td>\n",
       "    </tr>\n",
       "    <tr>\n",
       "      <th>323840</th>\n",
       "      <td>927823f0-a180-4f96-ade2-625e3d367538</td>\n",
       "      <td>2017-01-18 15:28:54.892</td>\n",
       "      <td>0</td>\n",
       "      <td>0</td>\n",
       "      <td>0</td>\n",
       "      <td>0</td>\n",
       "      <td>0</td>\n",
       "      <td>0.00</td>\n",
       "    </tr>\n",
       "    <tr>\n",
       "      <th>36869</th>\n",
       "      <td>109f7687-584e-4c64-a414-cf44ed9b7369</td>\n",
       "      <td>2017-01-30 17:02:20.993</td>\n",
       "      <td>0</td>\n",
       "      <td>0</td>\n",
       "      <td>0</td>\n",
       "      <td>0</td>\n",
       "      <td>0</td>\n",
       "      <td>0.00</td>\n",
       "    </tr>\n",
       "    <tr>\n",
       "      <th>369159</th>\n",
       "      <td>a705e9e3-2db7-4634-8918-dc37e280b5f9</td>\n",
       "      <td>2017-04-23 05:23:00.244</td>\n",
       "      <td>0</td>\n",
       "      <td>0</td>\n",
       "      <td>0</td>\n",
       "      <td>0</td>\n",
       "      <td>0</td>\n",
       "      <td>0.00</td>\n",
       "    </tr>\n",
       "    <tr>\n",
       "      <th>238434</th>\n",
       "      <td>6c0161e3-3abc-4b84-b00b-0f53e89a7537</td>\n",
       "      <td>2017-04-09 07:18:14.992</td>\n",
       "      <td>0</td>\n",
       "      <td>0</td>\n",
       "      <td>0</td>\n",
       "      <td>0</td>\n",
       "      <td>0</td>\n",
       "      <td>0.00</td>\n",
       "    </tr>\n",
       "    <tr>\n",
       "      <th>29465</th>\n",
       "      <td>0d439189-7a9d-4a77-86b9-ea72b368ac49</td>\n",
       "      <td>2017-04-06 21:57:40.813</td>\n",
       "      <td>0</td>\n",
       "      <td>0</td>\n",
       "      <td>0</td>\n",
       "      <td>0</td>\n",
       "      <td>0</td>\n",
       "      <td>0.00</td>\n",
       "    </tr>\n",
       "    <tr>\n",
       "      <th>71758</th>\n",
       "      <td>207eb7aa-52ca-4b56-b317-af2c0fe607cc</td>\n",
       "      <td>2017-08-03 12:14:17.454</td>\n",
       "      <td>0</td>\n",
       "      <td>0</td>\n",
       "      <td>0</td>\n",
       "      <td>0</td>\n",
       "      <td>0</td>\n",
       "      <td>0.00</td>\n",
       "    </tr>\n",
       "    <tr>\n",
       "      <th>354703</th>\n",
       "      <td>a082358f-4abe-4708-a57a-9a28d4d6c342</td>\n",
       "      <td>2016-10-30 18:20:09.630</td>\n",
       "      <td>0</td>\n",
       "      <td>0</td>\n",
       "      <td>0</td>\n",
       "      <td>0</td>\n",
       "      <td>0</td>\n",
       "      <td>0.00</td>\n",
       "    </tr>\n",
       "    <tr>\n",
       "      <th>331278</th>\n",
       "      <td>95d458c5-7068-4ce8-94d0-36c4a175859e</td>\n",
       "      <td>2016-12-28 10:10:38.892</td>\n",
       "      <td>0</td>\n",
       "      <td>0</td>\n",
       "      <td>0</td>\n",
       "      <td>0</td>\n",
       "      <td>0</td>\n",
       "      <td>0.00</td>\n",
       "    </tr>\n",
       "    <tr>\n",
       "      <th>273356</th>\n",
       "      <td>7b9b8a7a-ef22-46f4-b9b0-38482d12869a</td>\n",
       "      <td>2016-11-23 22:30:18.042</td>\n",
       "      <td>0</td>\n",
       "      <td>0</td>\n",
       "      <td>0</td>\n",
       "      <td>0</td>\n",
       "      <td>0</td>\n",
       "      <td>0.00</td>\n",
       "    </tr>\n",
       "    <tr>\n",
       "      <th>127768</th>\n",
       "      <td>39ea596b-2c95-4bad-bc33-523490a29d9b</td>\n",
       "      <td>2016-10-31 17:24:04.702</td>\n",
       "      <td>0</td>\n",
       "      <td>0</td>\n",
       "      <td>0</td>\n",
       "      <td>0</td>\n",
       "      <td>0</td>\n",
       "      <td>0.00</td>\n",
       "    </tr>\n",
       "    <tr>\n",
       "      <th>103075</th>\n",
       "      <td>2eb5af06-1e8c-405f-8b5d-ad593f29a978</td>\n",
       "      <td>2017-02-09 15:09:55.094</td>\n",
       "      <td>0</td>\n",
       "      <td>0</td>\n",
       "      <td>0</td>\n",
       "      <td>0</td>\n",
       "      <td>0</td>\n",
       "      <td>0.00</td>\n",
       "    </tr>\n",
       "    <tr>\n",
       "      <th>296664</th>\n",
       "      <td>86255fd3-443b-416f-851a-0995cf98baad</td>\n",
       "      <td>2016-12-13 16:39:16.131</td>\n",
       "      <td>0</td>\n",
       "      <td>0</td>\n",
       "      <td>0</td>\n",
       "      <td>0</td>\n",
       "      <td>0</td>\n",
       "      <td>0.00</td>\n",
       "    </tr>\n",
       "    <tr>\n",
       "      <th>546170</th>\n",
       "      <td>f70e6dd8-39d2-4d31-94d4-0b56daf39ebd</td>\n",
       "      <td>2017-05-30 12:00:41.221</td>\n",
       "      <td>0</td>\n",
       "      <td>0</td>\n",
       "      <td>0</td>\n",
       "      <td>0</td>\n",
       "      <td>0</td>\n",
       "      <td>0.00</td>\n",
       "    </tr>\n",
       "    <tr>\n",
       "      <th>279789</th>\n",
       "      <td>7e8be301-9a74-4a9e-9e9d-d8e384024bd1</td>\n",
       "      <td>2016-11-22 17:30:41.573</td>\n",
       "      <td>0</td>\n",
       "      <td>0</td>\n",
       "      <td>0</td>\n",
       "      <td>0</td>\n",
       "      <td>0</td>\n",
       "      <td>0.00</td>\n",
       "    </tr>\n",
       "    <tr>\n",
       "      <th>...</th>\n",
       "      <td>...</td>\n",
       "      <td>...</td>\n",
       "      <td>...</td>\n",
       "      <td>...</td>\n",
       "      <td>...</td>\n",
       "      <td>...</td>\n",
       "      <td>...</td>\n",
       "      <td>...</td>\n",
       "    </tr>\n",
       "    <tr>\n",
       "      <th>563243</th>\n",
       "      <td>fec44357-a3cf-4550-82f6-6ed23ed33531</td>\n",
       "      <td>2016-11-05 23:20:57.845</td>\n",
       "      <td>1148.06</td>\n",
       "      <td>-4.80</td>\n",
       "      <td>66.92</td>\n",
       "      <td>1210.18</td>\n",
       "      <td>1</td>\n",
       "      <td>1210.18</td>\n",
       "    </tr>\n",
       "    <tr>\n",
       "      <th>563301</th>\n",
       "      <td>fecb3838-60c8-48c8-ace5-9320f3358e75</td>\n",
       "      <td>2016-11-26 08:50:58.257</td>\n",
       "      <td>89.61</td>\n",
       "      <td>0.00</td>\n",
       "      <td>12.14</td>\n",
       "      <td>101.75</td>\n",
       "      <td>1</td>\n",
       "      <td>101.75</td>\n",
       "    </tr>\n",
       "    <tr>\n",
       "      <th>563537</th>\n",
       "      <td>fee695c8-baf4-44eb-a297-1340db918d66</td>\n",
       "      <td>2017-03-07 20:20:49.426</td>\n",
       "      <td>152.28</td>\n",
       "      <td>-0.64</td>\n",
       "      <td>11.17</td>\n",
       "      <td>162.81</td>\n",
       "      <td>1</td>\n",
       "      <td>162.81</td>\n",
       "    </tr>\n",
       "    <tr>\n",
       "      <th>563634</th>\n",
       "      <td>fef03610-3659-4a50-8c39-3dad9e29dc73</td>\n",
       "      <td>2016-11-09 06:39:54.181</td>\n",
       "      <td>55.07</td>\n",
       "      <td>0.00</td>\n",
       "      <td>0.41</td>\n",
       "      <td>55.48</td>\n",
       "      <td>1</td>\n",
       "      <td>55.48</td>\n",
       "    </tr>\n",
       "    <tr>\n",
       "      <th>563775</th>\n",
       "      <td>ff017177-2cbb-4a76-bb8b-b8973c13ed5f</td>\n",
       "      <td>2017-07-04 02:58:55.576</td>\n",
       "      <td>2054.35</td>\n",
       "      <td>0.00</td>\n",
       "      <td>5.20</td>\n",
       "      <td>2059.55</td>\n",
       "      <td>1</td>\n",
       "      <td>2059.55</td>\n",
       "    </tr>\n",
       "    <tr>\n",
       "      <th>563939</th>\n",
       "      <td>ff15983d-dae1-4ae5-88a2-3e86a214dc13</td>\n",
       "      <td>2017-08-04 13:42:13.008</td>\n",
       "      <td>65.23</td>\n",
       "      <td>0.00</td>\n",
       "      <td>18.53</td>\n",
       "      <td>83.76</td>\n",
       "      <td>1</td>\n",
       "      <td>83.76</td>\n",
       "    </tr>\n",
       "    <tr>\n",
       "      <th>564006</th>\n",
       "      <td>ff1d77fd-eb00-47fa-a17e-09a6c03f4c4a</td>\n",
       "      <td>2017-04-14 11:51:21.242</td>\n",
       "      <td>68.30</td>\n",
       "      <td>-0.09</td>\n",
       "      <td>1.07</td>\n",
       "      <td>69.28</td>\n",
       "      <td>1</td>\n",
       "      <td>69.28</td>\n",
       "    </tr>\n",
       "    <tr>\n",
       "      <th>564030</th>\n",
       "      <td>ff20844b-6d40-44ff-ab2c-7df752a119f5</td>\n",
       "      <td>2017-08-27 13:18:11.900</td>\n",
       "      <td>211.24</td>\n",
       "      <td>-4.92</td>\n",
       "      <td>47.63</td>\n",
       "      <td>253.95</td>\n",
       "      <td>1</td>\n",
       "      <td>253.95</td>\n",
       "    </tr>\n",
       "    <tr>\n",
       "      <th>564055</th>\n",
       "      <td>ff235d8e-191d-4e8c-8d9d-0593ac531147</td>\n",
       "      <td>2016-11-04 00:33:41.102</td>\n",
       "      <td>221.07</td>\n",
       "      <td>-2.80</td>\n",
       "      <td>63.94</td>\n",
       "      <td>282.21</td>\n",
       "      <td>1</td>\n",
       "      <td>282.21</td>\n",
       "    </tr>\n",
       "    <tr>\n",
       "      <th>564059</th>\n",
       "      <td>ff239f4d-af36-4c3d-a298-ecb24bdf3994</td>\n",
       "      <td>2017-07-17 05:40:21.563</td>\n",
       "      <td>221.88</td>\n",
       "      <td>6.08</td>\n",
       "      <td>34.62</td>\n",
       "      <td>262.58</td>\n",
       "      <td>1</td>\n",
       "      <td>262.58</td>\n",
       "    </tr>\n",
       "    <tr>\n",
       "      <th>564152</th>\n",
       "      <td>ff2e1e2a-4db5-45e1-be2c-8c0856e6dabb</td>\n",
       "      <td>2016-11-28 16:46:32.472</td>\n",
       "      <td>909.73</td>\n",
       "      <td>-108.76</td>\n",
       "      <td>107.32</td>\n",
       "      <td>908.29</td>\n",
       "      <td>1</td>\n",
       "      <td>908.29</td>\n",
       "    </tr>\n",
       "    <tr>\n",
       "      <th>564199</th>\n",
       "      <td>ff334634-f07b-4df9-9f3d-b5cacb0e6744</td>\n",
       "      <td>2016-12-27 19:27:18.644</td>\n",
       "      <td>88.19</td>\n",
       "      <td>0.00</td>\n",
       "      <td>3.60</td>\n",
       "      <td>91.79</td>\n",
       "      <td>1</td>\n",
       "      <td>91.79</td>\n",
       "    </tr>\n",
       "    <tr>\n",
       "      <th>564322</th>\n",
       "      <td>ff41d64a-26b7-4c2a-b27b-b2085869ebd8</td>\n",
       "      <td>2017-09-18 07:51:35.406</td>\n",
       "      <td>55.24</td>\n",
       "      <td>-0.93</td>\n",
       "      <td>3.93</td>\n",
       "      <td>58.24</td>\n",
       "      <td>1</td>\n",
       "      <td>58.24</td>\n",
       "    </tr>\n",
       "    <tr>\n",
       "      <th>564375</th>\n",
       "      <td>ff491040-755c-4088-8765-b73ce697c664</td>\n",
       "      <td>2017-09-28 17:10:10.740</td>\n",
       "      <td>56.79</td>\n",
       "      <td>0.00</td>\n",
       "      <td>6.94</td>\n",
       "      <td>63.73</td>\n",
       "      <td>1</td>\n",
       "      <td>63.73</td>\n",
       "    </tr>\n",
       "    <tr>\n",
       "      <th>564413</th>\n",
       "      <td>ff4d16ec-b1be-4b7a-9926-882a716f485d</td>\n",
       "      <td>2017-03-10 08:12:03.068</td>\n",
       "      <td>59.89</td>\n",
       "      <td>0.06</td>\n",
       "      <td>7.89</td>\n",
       "      <td>67.84</td>\n",
       "      <td>1</td>\n",
       "      <td>67.84</td>\n",
       "    </tr>\n",
       "    <tr>\n",
       "      <th>564473</th>\n",
       "      <td>ff5478ef-a6ec-4e37-bccf-693370dac135</td>\n",
       "      <td>2017-07-20 16:37:00.417</td>\n",
       "      <td>104.45</td>\n",
       "      <td>0.00</td>\n",
       "      <td>2.88</td>\n",
       "      <td>107.33</td>\n",
       "      <td>1</td>\n",
       "      <td>107.33</td>\n",
       "    </tr>\n",
       "    <tr>\n",
       "      <th>564582</th>\n",
       "      <td>ff609344-908a-4dfc-8282-c4bc9d8a33ae</td>\n",
       "      <td>2017-09-20 20:46:03.118</td>\n",
       "      <td>52.40</td>\n",
       "      <td>-0.47</td>\n",
       "      <td>4.09</td>\n",
       "      <td>56.02</td>\n",
       "      <td>1</td>\n",
       "      <td>56.02</td>\n",
       "    </tr>\n",
       "    <tr>\n",
       "      <th>564623</th>\n",
       "      <td>ff64ec2e-6988-49d1-bd47-e9ebe8267af8</td>\n",
       "      <td>2017-04-19 15:18:48.933</td>\n",
       "      <td>80.12</td>\n",
       "      <td>2.17</td>\n",
       "      <td>6.04</td>\n",
       "      <td>88.33</td>\n",
       "      <td>1</td>\n",
       "      <td>88.33</td>\n",
       "    </tr>\n",
       "    <tr>\n",
       "      <th>564693</th>\n",
       "      <td>ff6e124b-f742-45e7-9476-08e2286b9edb</td>\n",
       "      <td>2016-12-15 08:01:48.562</td>\n",
       "      <td>87.34</td>\n",
       "      <td>-6.76</td>\n",
       "      <td>11.27</td>\n",
       "      <td>91.85</td>\n",
       "      <td>1</td>\n",
       "      <td>91.85</td>\n",
       "    </tr>\n",
       "    <tr>\n",
       "      <th>564824</th>\n",
       "      <td>ff7cda74-3b07-428e-bfca-ea803e3a3c45</td>\n",
       "      <td>2017-04-15 11:48:40.314</td>\n",
       "      <td>207.74</td>\n",
       "      <td>0.00</td>\n",
       "      <td>2.17</td>\n",
       "      <td>209.91</td>\n",
       "      <td>1</td>\n",
       "      <td>209.91</td>\n",
       "    </tr>\n",
       "    <tr>\n",
       "      <th>564889</th>\n",
       "      <td>ff847afe-6c98-42e6-a74b-98c3b56f0cd8</td>\n",
       "      <td>2016-10-23 13:42:28.688</td>\n",
       "      <td>52.48</td>\n",
       "      <td>0.29</td>\n",
       "      <td>15.35</td>\n",
       "      <td>68.12</td>\n",
       "      <td>1</td>\n",
       "      <td>68.12</td>\n",
       "    </tr>\n",
       "    <tr>\n",
       "      <th>565006</th>\n",
       "      <td>ff8fccb5-b328-48a5-94d5-567de7fe2f42</td>\n",
       "      <td>2017-04-04 16:19:05.838</td>\n",
       "      <td>272.10</td>\n",
       "      <td>0.00</td>\n",
       "      <td>32.12</td>\n",
       "      <td>304.22</td>\n",
       "      <td>1</td>\n",
       "      <td>304.22</td>\n",
       "    </tr>\n",
       "    <tr>\n",
       "      <th>565208</th>\n",
       "      <td>ffa5baae-3faf-4b12-9af7-08a24e1f10b4</td>\n",
       "      <td>2017-01-31 16:31:36.038</td>\n",
       "      <td>108.75</td>\n",
       "      <td>0.15</td>\n",
       "      <td>9.71</td>\n",
       "      <td>118.61</td>\n",
       "      <td>1</td>\n",
       "      <td>118.61</td>\n",
       "    </tr>\n",
       "    <tr>\n",
       "      <th>565259</th>\n",
       "      <td>ffab4d27-a776-4a51-aef7-c53569b83241</td>\n",
       "      <td>2017-08-08 06:39:35.100</td>\n",
       "      <td>85.35</td>\n",
       "      <td>0.00</td>\n",
       "      <td>2.42</td>\n",
       "      <td>87.77</td>\n",
       "      <td>1</td>\n",
       "      <td>87.77</td>\n",
       "    </tr>\n",
       "    <tr>\n",
       "      <th>565372</th>\n",
       "      <td>ffb9c6f5-08b7-4538-9806-9b5d7db0bf8d</td>\n",
       "      <td>2017-08-02 08:09:30.686</td>\n",
       "      <td>218.28</td>\n",
       "      <td>0.00</td>\n",
       "      <td>15.20</td>\n",
       "      <td>233.48</td>\n",
       "      <td>1</td>\n",
       "      <td>233.48</td>\n",
       "    </tr>\n",
       "    <tr>\n",
       "      <th>565423</th>\n",
       "      <td>ffbfe713-adc0-4101-a30e-19f0105c119a</td>\n",
       "      <td>2017-02-01 13:00:10.377</td>\n",
       "      <td>1168.60</td>\n",
       "      <td>-9.17</td>\n",
       "      <td>82.48</td>\n",
       "      <td>1241.91</td>\n",
       "      <td>1</td>\n",
       "      <td>1241.91</td>\n",
       "    </tr>\n",
       "    <tr>\n",
       "      <th>565582</th>\n",
       "      <td>ffd38ff2-c61c-4e2f-800d-1e8a9b2b6efa</td>\n",
       "      <td>2017-09-14 21:21:27.510</td>\n",
       "      <td>98.16</td>\n",
       "      <td>-0.21</td>\n",
       "      <td>0.00</td>\n",
       "      <td>97.95</td>\n",
       "      <td>1</td>\n",
       "      <td>97.95</td>\n",
       "    </tr>\n",
       "    <tr>\n",
       "      <th>565675</th>\n",
       "      <td>ffdef318-60d2-49bb-9ede-118a2ed1dc49</td>\n",
       "      <td>2017-06-12 20:55:41.823</td>\n",
       "      <td>1025.54</td>\n",
       "      <td>7.37</td>\n",
       "      <td>11.03</td>\n",
       "      <td>1043.94</td>\n",
       "      <td>1</td>\n",
       "      <td>1043.94</td>\n",
       "    </tr>\n",
       "    <tr>\n",
       "      <th>565811</th>\n",
       "      <td>ffee8491-5a3e-4760-b8b7-05f86d33f5ca</td>\n",
       "      <td>2017-03-08 07:55:18.487</td>\n",
       "      <td>284.98</td>\n",
       "      <td>12.08</td>\n",
       "      <td>49.11</td>\n",
       "      <td>346.17</td>\n",
       "      <td>1</td>\n",
       "      <td>346.17</td>\n",
       "    </tr>\n",
       "    <tr>\n",
       "      <th>565950</th>\n",
       "      <td>fffcb282-ca9d-4415-9386-4031d6cfa7d0</td>\n",
       "      <td>2017-06-15 08:21:10.870</td>\n",
       "      <td>55.43</td>\n",
       "      <td>-4.89</td>\n",
       "      <td>50.27</td>\n",
       "      <td>100.81</td>\n",
       "      <td>1</td>\n",
       "      <td>100.81</td>\n",
       "    </tr>\n",
       "  </tbody>\n",
       "</table>\n",
       "<p>50721 rows × 8 columns</p>\n",
       "</div>"
      ],
      "text/plain": [
       "                                     user_id bux_account_created_dts      com  \\\n",
       "305729  8a35d43b-b4be-4c0c-82c1-bee7b760bd87 2016-12-26 13:20:05.768        0   \n",
       "262165  76a63b6c-b839-4940-a09d-f3c7d312eaaa 2017-09-15 17:23:47.783        0   \n",
       "379319  aba37f50-7dd7-43e4-8110-557c892b90b1 2016-11-01 14:51:27.960        0   \n",
       "220680  64095894-06e8-49bf-a265-a9ac02bb8d29 2017-05-15 17:34:36.036        0   \n",
       "147611  42e702f2-a492-43fd-8e45-13fa53f4a351 2017-07-24 18:36:57.613        0   \n",
       "316664  8f3c08f8-d9b8-469a-a43f-af4947c7c325 2016-10-19 19:54:50.773        0   \n",
       "137602  3e549c63-b57d-4a8e-8db7-b5440dd4b25d 2017-04-17 17:17:26.015        0   \n",
       "324149  9297cc15-ed40-464a-850b-447ea5405f60 2016-12-27 23:55:21.909        0   \n",
       "348172  9d8548ae-d4da-4e4c-8398-499ebd5e892b 2017-01-02 12:03:34.071        0   \n",
       "254209  730c54b2-8b55-4a4f-b696-fb5f81226a1c 2017-02-14 20:02:47.074        0   \n",
       "210165  5f334f09-91f4-4db1-8e8e-d70dc310de5e 2017-08-21 20:49:51.391        0   \n",
       "335114  9795f41d-4f91-4987-ad8a-1694a7b994c1 2016-11-27 22:29:53.980        0   \n",
       "96734   2be4d189-750a-4d01-8cb5-1f95d4d45dc0 2017-03-11 08:50:30.836        0   \n",
       "521278  ebc890dd-ba0f-4241-8182-8c864d43e16e 2017-03-16 09:08:23.993        0   \n",
       "31701   0e4b248f-73e3-4cdb-9289-bd00d8434f45 2017-02-12 21:15:12.185        0   \n",
       "340910  9a33e240-16eb-4a0e-a414-868882854e33 2017-07-19 04:24:42.654        0   \n",
       "323840  927823f0-a180-4f96-ade2-625e3d367538 2017-01-18 15:28:54.892        0   \n",
       "36869   109f7687-584e-4c64-a414-cf44ed9b7369 2017-01-30 17:02:20.993        0   \n",
       "369159  a705e9e3-2db7-4634-8918-dc37e280b5f9 2017-04-23 05:23:00.244        0   \n",
       "238434  6c0161e3-3abc-4b84-b00b-0f53e89a7537 2017-04-09 07:18:14.992        0   \n",
       "29465   0d439189-7a9d-4a77-86b9-ea72b368ac49 2017-04-06 21:57:40.813        0   \n",
       "71758   207eb7aa-52ca-4b56-b317-af2c0fe607cc 2017-08-03 12:14:17.454        0   \n",
       "354703  a082358f-4abe-4708-a57a-9a28d4d6c342 2016-10-30 18:20:09.630        0   \n",
       "331278  95d458c5-7068-4ce8-94d0-36c4a175859e 2016-12-28 10:10:38.892        0   \n",
       "273356  7b9b8a7a-ef22-46f4-b9b0-38482d12869a 2016-11-23 22:30:18.042        0   \n",
       "127768  39ea596b-2c95-4bad-bc33-523490a29d9b 2016-10-31 17:24:04.702        0   \n",
       "103075  2eb5af06-1e8c-405f-8b5d-ad593f29a978 2017-02-09 15:09:55.094        0   \n",
       "296664  86255fd3-443b-416f-851a-0995cf98baad 2016-12-13 16:39:16.131        0   \n",
       "546170  f70e6dd8-39d2-4d31-94d4-0b56daf39ebd 2017-05-30 12:00:41.221        0   \n",
       "279789  7e8be301-9a74-4a9e-9e9d-d8e384024bd1 2016-11-22 17:30:41.573        0   \n",
       "...                                      ...                     ...      ...   \n",
       "563243  fec44357-a3cf-4550-82f6-6ed23ed33531 2016-11-05 23:20:57.845  1148.06   \n",
       "563301  fecb3838-60c8-48c8-ace5-9320f3358e75 2016-11-26 08:50:58.257    89.61   \n",
       "563537  fee695c8-baf4-44eb-a297-1340db918d66 2017-03-07 20:20:49.426   152.28   \n",
       "563634  fef03610-3659-4a50-8c39-3dad9e29dc73 2016-11-09 06:39:54.181    55.07   \n",
       "563775  ff017177-2cbb-4a76-bb8b-b8973c13ed5f 2017-07-04 02:58:55.576  2054.35   \n",
       "563939  ff15983d-dae1-4ae5-88a2-3e86a214dc13 2017-08-04 13:42:13.008    65.23   \n",
       "564006  ff1d77fd-eb00-47fa-a17e-09a6c03f4c4a 2017-04-14 11:51:21.242    68.30   \n",
       "564030  ff20844b-6d40-44ff-ab2c-7df752a119f5 2017-08-27 13:18:11.900   211.24   \n",
       "564055  ff235d8e-191d-4e8c-8d9d-0593ac531147 2016-11-04 00:33:41.102   221.07   \n",
       "564059  ff239f4d-af36-4c3d-a298-ecb24bdf3994 2017-07-17 05:40:21.563   221.88   \n",
       "564152  ff2e1e2a-4db5-45e1-be2c-8c0856e6dabb 2016-11-28 16:46:32.472   909.73   \n",
       "564199  ff334634-f07b-4df9-9f3d-b5cacb0e6744 2016-12-27 19:27:18.644    88.19   \n",
       "564322  ff41d64a-26b7-4c2a-b27b-b2085869ebd8 2017-09-18 07:51:35.406    55.24   \n",
       "564375  ff491040-755c-4088-8765-b73ce697c664 2017-09-28 17:10:10.740    56.79   \n",
       "564413  ff4d16ec-b1be-4b7a-9926-882a716f485d 2017-03-10 08:12:03.068    59.89   \n",
       "564473  ff5478ef-a6ec-4e37-bccf-693370dac135 2017-07-20 16:37:00.417   104.45   \n",
       "564582  ff609344-908a-4dfc-8282-c4bc9d8a33ae 2017-09-20 20:46:03.118    52.40   \n",
       "564623  ff64ec2e-6988-49d1-bd47-e9ebe8267af8 2017-04-19 15:18:48.933    80.12   \n",
       "564693  ff6e124b-f742-45e7-9476-08e2286b9edb 2016-12-15 08:01:48.562    87.34   \n",
       "564824  ff7cda74-3b07-428e-bfca-ea803e3a3c45 2017-04-15 11:48:40.314   207.74   \n",
       "564889  ff847afe-6c98-42e6-a74b-98c3b56f0cd8 2016-10-23 13:42:28.688    52.48   \n",
       "565006  ff8fccb5-b328-48a5-94d5-567de7fe2f42 2017-04-04 16:19:05.838   272.10   \n",
       "565208  ffa5baae-3faf-4b12-9af7-08a24e1f10b4 2017-01-31 16:31:36.038   108.75   \n",
       "565259  ffab4d27-a776-4a51-aef7-c53569b83241 2017-08-08 06:39:35.100    85.35   \n",
       "565372  ffb9c6f5-08b7-4538-9806-9b5d7db0bf8d 2017-08-02 08:09:30.686   218.28   \n",
       "565423  ffbfe713-adc0-4101-a30e-19f0105c119a 2017-02-01 13:00:10.377  1168.60   \n",
       "565582  ffd38ff2-c61c-4e2f-800d-1e8a9b2b6efa 2017-09-14 21:21:27.510    98.16   \n",
       "565675  ffdef318-60d2-49bb-9ede-118a2ed1dc49 2017-06-12 20:55:41.823  1025.54   \n",
       "565811  ffee8491-5a3e-4760-b8b7-05f86d33f5ca 2017-03-08 07:55:18.487   284.98   \n",
       "565950  fffcb282-ca9d-4415-9386-4031d6cfa7d0 2017-06-15 08:21:10.870    55.43   \n",
       "\n",
       "            div      ff    total  whale      CLV  \n",
       "305729        0       0        0      0     0.00  \n",
       "262165        0       0        0      0     0.00  \n",
       "379319        0       0        0      0     0.00  \n",
       "220680        0       0        0      0     0.00  \n",
       "147611        0       0        0      0     0.00  \n",
       "316664        0       0        0      0     0.00  \n",
       "137602        0       0        0      0     0.00  \n",
       "324149        0       0        0      0     0.00  \n",
       "348172        0       0        0      0     0.00  \n",
       "254209        0       0        0      0     0.00  \n",
       "210165        0       0        0      0     0.00  \n",
       "335114        0       0        0      0     0.00  \n",
       "96734         0       0        0      0     0.00  \n",
       "521278        0       0        0      0     0.00  \n",
       "31701         0       0        0      0     0.00  \n",
       "340910        0       0        0      0     0.00  \n",
       "323840        0       0        0      0     0.00  \n",
       "36869         0       0        0      0     0.00  \n",
       "369159        0       0        0      0     0.00  \n",
       "238434        0       0        0      0     0.00  \n",
       "29465         0       0        0      0     0.00  \n",
       "71758         0       0        0      0     0.00  \n",
       "354703        0       0        0      0     0.00  \n",
       "331278        0       0        0      0     0.00  \n",
       "273356        0       0        0      0     0.00  \n",
       "127768        0       0        0      0     0.00  \n",
       "103075        0       0        0      0     0.00  \n",
       "296664        0       0        0      0     0.00  \n",
       "546170        0       0        0      0     0.00  \n",
       "279789        0       0        0      0     0.00  \n",
       "...         ...     ...      ...    ...      ...  \n",
       "563243    -4.80   66.92  1210.18      1  1210.18  \n",
       "563301     0.00   12.14   101.75      1   101.75  \n",
       "563537    -0.64   11.17   162.81      1   162.81  \n",
       "563634     0.00    0.41    55.48      1    55.48  \n",
       "563775     0.00    5.20  2059.55      1  2059.55  \n",
       "563939     0.00   18.53    83.76      1    83.76  \n",
       "564006    -0.09    1.07    69.28      1    69.28  \n",
       "564030    -4.92   47.63   253.95      1   253.95  \n",
       "564055    -2.80   63.94   282.21      1   282.21  \n",
       "564059     6.08   34.62   262.58      1   262.58  \n",
       "564152  -108.76  107.32   908.29      1   908.29  \n",
       "564199     0.00    3.60    91.79      1    91.79  \n",
       "564322    -0.93    3.93    58.24      1    58.24  \n",
       "564375     0.00    6.94    63.73      1    63.73  \n",
       "564413     0.06    7.89    67.84      1    67.84  \n",
       "564473     0.00    2.88   107.33      1   107.33  \n",
       "564582    -0.47    4.09    56.02      1    56.02  \n",
       "564623     2.17    6.04    88.33      1    88.33  \n",
       "564693    -6.76   11.27    91.85      1    91.85  \n",
       "564824     0.00    2.17   209.91      1   209.91  \n",
       "564889     0.29   15.35    68.12      1    68.12  \n",
       "565006     0.00   32.12   304.22      1   304.22  \n",
       "565208     0.15    9.71   118.61      1   118.61  \n",
       "565259     0.00    2.42    87.77      1    87.77  \n",
       "565372     0.00   15.20   233.48      1   233.48  \n",
       "565423    -9.17   82.48  1241.91      1  1241.91  \n",
       "565582    -0.21    0.00    97.95      1    97.95  \n",
       "565675     7.37   11.03  1043.94      1  1043.94  \n",
       "565811    12.08   49.11   346.17      1   346.17  \n",
       "565950    -4.89   50.27   100.81      1   100.81  \n",
       "\n",
       "[50721 rows x 8 columns]"
      ]
     },
     "execution_count": 70,
     "metadata": {},
     "output_type": "execute_result"
    }
   ],
   "source": [
    "df_downsampled"
   ]
  },
  {
   "cell_type": "code",
   "execution_count": null,
   "metadata": {
    "collapsed": true
   },
   "outputs": [],
   "source": [
    "# # test\n",
    "\n",
    "\n",
    "# df_installs_no_signups = sql_query(\"\"\" select lower (trim (coalesce (a.idfa, a.android_id, a.gps_adid))) as device_id, a.country_cd, a.report_dts\n",
    "#     from\n",
    "#          reporting.adjust_installs a\n",
    "#     left join\n",
    "#          reporting.user_view b\n",
    "#       on\n",
    "#          lower (trim (b.device_id)) = lower (trim (coalesce (a.idfa, a.android_id, a.gps_adid)))\n",
    "#     where\n",
    "#          a.user_id is null\n",
    "#      and b.user_id is null\n",
    "#      and a.report_dts::date = current_date - 6 \"\"\")"
   ]
  }
 ],
 "metadata": {
  "anaconda-cloud": {},
  "kernelspec": {
   "display_name": "Python [conda root]",
   "language": "python",
   "name": "conda-root-py"
  },
  "language_info": {
   "codemirror_mode": {
    "name": "ipython",
    "version": 3
   },
   "file_extension": ".py",
   "mimetype": "text/x-python",
   "name": "python",
   "nbconvert_exporter": "python",
   "pygments_lexer": "ipython3",
   "version": "3.5.4"
  }
 },
 "nbformat": 4,
 "nbformat_minor": 1
}
