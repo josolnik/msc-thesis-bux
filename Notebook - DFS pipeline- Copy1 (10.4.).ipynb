{
 "cells": [
  {
   "cell_type": "code",
   "execution_count": 1,
   "metadata": {
    "collapsed": false
   },
   "outputs": [],
   "source": [
    "# data munging and visualization\n",
    "import numpy as np\n",
    "import pandas as pd\n",
    "import itertools\n",
    "\n",
    "# class imbalance treatment\n",
    "from imblearn.over_sampling import SMOTE\n",
    "from sklearn.utils import resample\n",
    "\n",
    "# visualization\n",
    "import matplotlib.pyplot as plt\n",
    "%matplotlib inline\n",
    "\n",
    "# feature engineering\n",
    "import featuretools as ft\n",
    "\n",
    "# predictor -> classification, regression\n",
    "from sklearn.ensemble import RandomForestClassifier\n",
    "from sklearn.ensemble import RandomForestRegressor\n",
    "from sklearn.ensemble import GradientBoostingRegressor\n",
    "from sklearn.metrics import precision_recall_fscore_support\n",
    "from sklearn.metrics import confusion_matrix\n",
    "from sklearn.model_selection import train_test_split\n",
    "from sklearn.model_selection import cross_val_score\n",
    "from sklearn.metrics import precision_recall_fscore_support as score\n",
    "from sklearn.metrics import f1_score\n",
    "\n",
    "# miscellanous\n",
    "import datetime\n",
    "import os\n",
    "\n",
    "# external functions\n",
    "import utils\n",
    "\n",
    "# parallelization\n",
    "from dask import bag\n",
    "from dask.diagnostics import ProgressBar"
   ]
  },
  {
   "cell_type": "code",
   "execution_count": 2,
   "metadata": {
    "collapsed": true
   },
   "outputs": [],
   "source": [
    "pbar = ProgressBar()\n",
    "pbar.register()"
   ]
  },
  {
   "cell_type": "markdown",
   "metadata": {},
   "source": [
    "# Unparallelized pipeline (iteration 1)"
   ]
  },
  {
   "cell_type": "code",
   "execution_count": 27,
   "metadata": {
    "collapsed": true
   },
   "outputs": [],
   "source": [
    "sample_user_ratio = 1000"
   ]
  },
  {
   "cell_type": "code",
   "execution_count": 32,
   "metadata": {
    "collapsed": false
   },
   "outputs": [],
   "source": [
    "# users entity\n",
    "user_details = pd.read_csv(\"data/users_1y_6mCustomerValue.csv\")\n",
    "user_details['bux_account_created_dts'] = pd.to_datetime(user_details['bux_account_created_dts'])\n",
    "user_details['month_year'] = user_details['bux_account_created_dts'].apply(lambda x: x.strftime('%B-%Y'))\n",
    "\n",
    "cohort_limit_df = utils.calculate_cohort_limit(user_details, sample_user_ratio)\n",
    "\n",
    "user_details_temp = pd.DataFrame()\n",
    "for month_year in cohort_limit_df[\"month_year\"]:\n",
    "    user_details_temp = user_details_temp.append(utils.limit_users(cohort_limit_df, user_details, month_year))\n",
    "\n",
    "user_details = user_details_temp\n",
    "distinct_users = user_details[\"user_id\"].unique()"
   ]
  },
  {
   "cell_type": "code",
   "execution_count": 33,
   "metadata": {
    "collapsed": false
   },
   "outputs": [
    {
     "data": {
      "text/plain": [
       "560"
      ]
     },
     "execution_count": 33,
     "metadata": {},
     "output_type": "execute_result"
    }
   ],
   "source": [
    "len(distinct_users)"
   ]
  },
  {
   "cell_type": "code",
   "execution_count": 34,
   "metadata": {
    "collapsed": false
   },
   "outputs": [],
   "source": [
    "# # transactions entity\n",
    "daily_transactions = transactions = pd.read_csv('data/cube_1y_6mCustomerValue.csv')\n",
    "daily_transactions['date'] = pd.to_datetime(daily_transactions['date'])\n",
    "daily_transactions = daily_transactions[daily_transactions.columns[1:]]\n",
    "daily_transactions.reset_index(inplace=True,drop=True)\n",
    "daily_transactions.reset_index(inplace=True)\n",
    "daily_transactions.rename(columns={'index': 'transaction_id'}, inplace=True)\n",
    "daily_transactions = daily_transactions[daily_transactions['user_id'].isin(distinct_users)]"
   ]
  },
  {
   "cell_type": "code",
   "execution_count": 35,
   "metadata": {
    "collapsed": false
   },
   "outputs": [
    {
     "data": {
      "text/plain": [
       "550"
      ]
     },
     "execution_count": 35,
     "metadata": {},
     "output_type": "execute_result"
    }
   ],
   "source": [
    "len(daily_transactions['user_id'].unique())"
   ]
  },
  {
   "cell_type": "code",
   "execution_count": 36,
   "metadata": {
    "collapsed": false
   },
   "outputs": [
    {
     "data": {
      "text/plain": [
       "Entityset: bux_cltv\n",
       "  Entities:\n",
       "    users (shape = [560, 13])\n",
       "    transactions (shape = [3423, 12])\n",
       "  Relationships:\n",
       "    transactions.user_id -> users.user_id"
      ]
     },
     "execution_count": 36,
     "metadata": {},
     "output_type": "execute_result"
    }
   ],
   "source": [
    "es = ft.EntitySet(\"bux_cltv\")\n",
    "\n",
    "es.entity_from_dataframe(entity_id='users',\n",
    "                    dataframe=user_details,\n",
    "                    index='user_id',\n",
    "                    time_index='bux_account_created_dts')\n",
    "\n",
    "es.entity_from_dataframe(entity_id='transactions',\n",
    "                    dataframe=daily_transactions,\n",
    "                    index='transaction_id',\n",
    "                    time_index='date')\n",
    "\n",
    "es.add_relationship(ft.Relationship(es['users']['user_id'], es['transactions']['user_id']))"
   ]
  },
  {
   "cell_type": "code",
   "execution_count": 38,
   "metadata": {
    "collapsed": false
   },
   "outputs": [],
   "source": [
    "label_data = pd.read_csv('data/curcv_1y_6mCustomerValue.csv')\n",
    "label_data = label_data[label_data['user_id'].isin(distinct_users)]\n",
    "label_data = label_data[label_data.columns[1:]]\n",
    "label_data[\"label\"] = label_data[\"com\"] + label_data[\"ff\"]\n",
    "label_data = label_data[['user_id', 'label']]\n",
    "label_data = label_data.fillna(0)\n",
    "\n",
    "# whale_threshold = label_data[\"label\"].quantile(0.99)\n",
    "whale_threshold = 50\n",
    "label_data[\"curcv\"] = label_data[\"label\"]\n",
    "label_data[\"label\"] = (label_data['curcv'] > whale_threshold).astype(int)"
   ]
  },
  {
   "cell_type": "markdown",
   "metadata": {},
   "source": [
    "# Parallelized pipeline (Dask)"
   ]
  },
  {
   "cell_type": "code",
   "execution_count": 16,
   "metadata": {
    "collapsed": false
   },
   "outputs": [],
   "source": [
    "path = \"data/partitioned_data/\"\n",
    "_, dirnames, _ = os.walk(path).__next__()\n",
    "dirnames = [path+d for d in dirnames]\n",
    "b = bag.from_sequence(dirnames)\n",
    "entity_sets = b.map(utils.load_entity_set_10)"
   ]
  },
  {
   "cell_type": "code",
   "execution_count": 17,
   "metadata": {
    "collapsed": false
   },
   "outputs": [
    {
     "data": {
      "text/plain": [
       "dask.bag<map-mak..., npartitions=4>"
      ]
     },
     "execution_count": 17,
     "metadata": {},
     "output_type": "execute_result"
    }
   ],
   "source": [
    "labels = entity_sets.map(utils.make_labels)\n",
    "labels"
   ]
  },
  {
   "cell_type": "code",
   "execution_count": 18,
   "metadata": {
    "collapsed": false
   },
   "outputs": [],
   "source": [
    "feature_matrices = labels.map(utils.calculate_feature_matrix)"
   ]
  },
  {
   "cell_type": "code",
   "execution_count": 19,
   "metadata": {
    "collapsed": false
   },
   "outputs": [
    {
     "name": "stdout",
     "output_type": "stream",
     "text": [
      "Building features: 65it [00:00, 2249.27it/s]\n",
      "Building features: 65it [00:00, 1549.75it/s]\n",
      "Building features: 65it [00:00, 2229.33it/s]\n",
      "Building features: 65it [00:00, 2844.52it/s]\n",
      "Progress: 100%|██████████| 1/1 [05:58<00:00, 358.47s/cutoff time]\n",
      "[                                        ] | 0% Completed |  6min 36.3s49 features generated\n",
      "Progress: 100%|██████████| 1/1 [06:54<00:00, 414.36s/cutoff time]\n",
      "[##########                              ] | 25% Completed |  7min 30.3s49 features generated\n",
      "Progress: 100%|██████████| 1/1 [09:25<00:00, 565.69s/cutoff time]\n",
      "[####################                    ] | 50% Completed | 10min 26.5s49 features generated\n",
      "Progress: 100%|██████████| 1/1 [09:38<00:00, 578.47s/cutoff time]\n",
      "[##############################          ] | 75% Completed | 10min 33.3s49 features generated\n",
      "[########################################] | 100% Completed | 10min 37.2s\n"
     ]
    }
   ],
   "source": [
    "fms_out = feature_matrices.compute()\n",
    "X = pd.concat(fms_out)"
   ]
  },
  {
   "cell_type": "code",
   "execution_count": 20,
   "metadata": {
    "collapsed": false
   },
   "outputs": [
    {
     "name": "stdout",
     "output_type": "stream",
     "text": [
      "[                                        ] | 0% Completed | 55.6s\n",
      "Building features: 65it [00:00, 1564.67it/s]\n",
      "Building features: 65it [00:00, 1418.44it/s]\n",
      "[                                        ] | 0% Completed |  1min 36.2s\n",
      "Progress: 100%|██████████| 1/1 [05:49<00:00, 349.89s/cutoff time]\n",
      "[                                        ] | 0% Completed |  6min 46.6s49 features generated\n",
      "Progress: 100%|██████████| 1/1 [06:45<00:00, 405.38s/cutoff time]\n",
      "[##########                              ] | 25% Completed |  7min 43.9s49 features generated\n",
      "Progress: 100%|██████████| 1/1 [08:37<00:00, 517.91s/cutoff time]\n",
      "[####################                    ] | 50% Completed |  9min 60.0s49 features generated\n",
      "Progress: 100%|██████████| 1/1 [08:32<00:00, 512.65s/cutoff time]\n",
      "[####################                    ] | 50% Completed | 10min  9.9s49 features generated\n",
      "[########################################] | 100% Completed | 10min 43.9s\n"
     ]
    }
   ],
   "source": [
    "# + 50% time\n",
    "features_encoded = labels.map(utils.calculate_features_encoded).compute()[0]"
   ]
  },
  {
   "cell_type": "code",
   "execution_count": 21,
   "metadata": {
    "collapsed": false
   },
   "outputs": [
    {
     "data": {
      "text/plain": [
       "0    56035\n",
       "1      558\n",
       "Name: label, dtype: int64"
      ]
     },
     "execution_count": 21,
     "metadata": {},
     "output_type": "execute_result"
    }
   ],
   "source": [
    "# drop after rerunning DFS again\n",
    "X.drop(['user_id', 'Unnamed: 0', 'curcv'], axis=1, inplace=True)\n",
    "X = X.fillna(0)\n",
    "y = X.pop('label').astype('int')\n",
    "y.value_counts()"
   ]
  },
  {
   "cell_type": "code",
   "execution_count": 22,
   "metadata": {
    "collapsed": false
   },
   "outputs": [
    {
     "data": {
      "text/plain": [
       "0.55118110236220486"
      ]
     },
     "execution_count": 22,
     "metadata": {},
     "output_type": "execute_result"
    }
   ],
   "source": [
    "X_train, X_test, y_train, y_test = train_test_split(X, y, test_size=0.3, random_state=42)\n",
    "rf_clf = RandomForestClassifier(n_estimators=400, n_jobs=-1)\n",
    "rf_clf.fit(X_train,y_train)\n",
    "y_pred = rf_clf.predict(X_test)\n",
    "f1_score(y_test, y_pred, average=None)[1]"
   ]
  },
  {
   "cell_type": "code",
   "execution_count": 23,
   "metadata": {
    "collapsed": false
   },
   "outputs": [
    {
     "data": {
      "image/png": "[encoded data removed]",
      "text/plain": [
       "<matplotlib.figure.Figure at 0x7fa1c5439cc0>"
      ]
     },
     "metadata": {},
     "output_type": "display_data"
    }
   ],
   "source": [
    "cm = confusion_matrix(y_test, y_pred)\n",
    "utils.plot_confusion_matrix(cm, ['Non-whale', 'Whale'], title='Customer lifetime value prediction')"
   ]
  },
  {
   "cell_type": "code",
   "execution_count": 24,
   "metadata": {
    "collapsed": false
   },
   "outputs": [
    {
     "name": "stderr",
     "output_type": "stream",
     "text": [
      "[Parallel(n_jobs=-1)]: Done   5 out of   5 | elapsed:  1.9min finished\n"
     ]
    },
    {
     "data": {
      "text/plain": [
       "'F1 0.49 +/- 0.06'"
      ]
     },
     "execution_count": 24,
     "metadata": {},
     "output_type": "execute_result"
    }
   ],
   "source": [
    "# random forest classifer, 5-fold cross-validation\n",
    "scores = cross_val_score(estimator=rf_clf, X=X, y=y, scoring='f1', verbose=True, cv=5, n_jobs=-1)\n",
    "\"F1 %.2f +/- %.2f\" % (scores.mean(), scores.std())"
   ]
  },
  {
   "cell_type": "code",
   "execution_count": 25,
   "metadata": {
    "collapsed": false
   },
   "outputs": [
    {
     "data": {
      "text/plain": [
       "array([ 0.54117647,  0.5       ,  0.38709677,  0.54444444,  0.46666667])"
      ]
     },
     "execution_count": 25,
     "metadata": {},
     "output_type": "execute_result"
    }
   ],
   "source": [
    "scores"
   ]
  },
  {
   "cell_type": "code",
   "execution_count": 26,
   "metadata": {
    "collapsed": false
   },
   "outputs": [
    {
     "name": "stdout",
     "output_type": "stream",
     "text": [
      "1: Feature: <Feature: MODE(transactions.social_status) = unknown>, 0.104\n",
      "2: Feature: <Feature: country_cd = unknown>, 0.061\n",
      "3: Feature: <Feature: network = unknown>, 0.055\n",
      "4: Feature: <Feature: trading_experience = SOME>, 0.052\n",
      "5: Feature: <Feature: gender = MALE>, 0.038\n",
      "6: Feature: <Feature: nationality = DE>, 0.037\n",
      "7: Feature: <Feature: title = unknown>, 0.037\n",
      "8: Feature: <Feature: network = Organic>, 0.033\n",
      "9: Feature: <Feature: network = TV>, 0.033\n",
      "10: Feature: <Feature: network = BUX Website>, 0.031\n",
      "11: Feature: <Feature: gender = unknown>, 0.030\n",
      "12: Feature: <Feature: network = Google Adwords Search>, 0.030\n",
      "13: Feature: <Feature: country_cd = ES>, 0.025\n",
      "14: Feature: <Feature: country_cd = NL>, 0.024\n",
      "15: Feature: <Feature: network = Viral Invites>, 0.023\n",
      "16: Feature: <Feature: nationality = HU>, 0.022\n",
      "17: Feature: <Feature: network = AdColony>, 0.021\n",
      "18: Feature: <Feature: nationality = PL>, 0.021\n",
      "19: Feature: <Feature: platform_type_name = iOS>, 0.021\n",
      "20: Feature: <Feature: Unnamed: 0>, 0.020\n"
     ]
    }
   ],
   "source": [
    "# calculate the top 20 features based on feature importance\n",
    "top_features = utils.feature_importances_old(rf_clf, features_encoded, n=20)\n",
    "ft.save_features(top_features, \"top_features\")"
   ]
  },
  {
   "cell_type": "markdown",
   "metadata": {},
   "source": [
    "## Retrain with top features"
   ]
  },
  {
   "cell_type": "code",
   "execution_count": 13,
   "metadata": {
    "collapsed": false
   },
   "outputs": [],
   "source": [
    "path = \"data/partitioned_data/\"\n",
    "_, dirnames, _ = os.walk(path).__next__()\n",
    "dirnames = [path+d for d in dirnames]\n",
    "b = bag.from_sequence(dirnames)\n",
    "entity_sets = b.map(utils.load_entity_set_10)"
   ]
  },
  {
   "cell_type": "code",
   "execution_count": 15,
   "metadata": {
    "collapsed": false
   },
   "outputs": [
    {
     "data": {
      "text/plain": [
       "dask.bag<map-mak..., npartitions=4>"
      ]
     },
     "execution_count": 15,
     "metadata": {},
     "output_type": "execute_result"
    }
   ],
   "source": [
    "labels = entity_sets.map(utils.make_labels)\n",
    "labels"
   ]
  },
  {
   "cell_type": "code",
   "execution_count": null,
   "metadata": {
    "collapsed": true
   },
   "outputs": [],
   "source": [
    "entity_sets_data = entity_sets.compute()[0]"
   ]
  },
  {
   "cell_type": "code",
   "execution_count": 16,
   "metadata": {
    "collapsed": false
   },
   "outputs": [],
   "source": [
    "# load in the features from before\n",
    "top_features = ft.load_features(\"top_features\", entity_sets_data)\n",
    "feature_matrices = labels.map(utils.calculate_feature_matrix_top_features, features=top_features)"
   ]
  },
  {
   "cell_type": "code",
   "execution_count": 17,
   "metadata": {
    "collapsed": false
   },
   "outputs": [
    {
     "name": "stdout",
     "output_type": "stream",
     "text": [
      "[########################################] | 100% Completed |  5min 48.4s\n"
     ]
    }
   ],
   "source": [
    "fms_out  = feature_matrices.compute()\n",
    "X = pd.concat(fms_out)"
   ]
  },
  {
   "cell_type": "code",
   "execution_count": 18,
   "metadata": {
    "collapsed": false
   },
   "outputs": [
    {
     "data": {
      "text/plain": [
       "0    56035\n",
       "1      558\n",
       "Name: label, dtype: int64"
      ]
     },
     "execution_count": 18,
     "metadata": {},
     "output_type": "execute_result"
    }
   ],
   "source": [
    "# drop after rerunning DFS again\n",
    "X.drop(['user_id', 'curcv', 'time'], axis=1, inplace=True)\n",
    "X = X.fillna(0)\n",
    "y = X.pop('label').astype('int')\n",
    "y.value_counts()"
   ]
  },
  {
   "cell_type": "code",
   "execution_count": 19,
   "metadata": {
    "collapsed": false
   },
   "outputs": [
    {
     "data": {
      "text/plain": [
       "0.38202247191011235"
      ]
     },
     "execution_count": 19,
     "metadata": {},
     "output_type": "execute_result"
    }
   ],
   "source": [
    "X_train, X_test, y_train, y_test = train_test_split(X, y, test_size=0.3, random_state=42)\n",
    "rf_clf = RandomForestClassifier(n_estimators=400, n_jobs=-1)\n",
    "rf_clf.fit(X_train,y_train)\n",
    "y_pred = rf_clf.predict(X_test)\n",
    "f1_score(y_test, y_pred, average=None)[1]"
   ]
  },
  {
   "cell_type": "code",
   "execution_count": 20,
   "metadata": {
    "collapsed": false
   },
   "outputs": [
    {
     "data": {
      "image/png": "[encoded data removed]",
      "text/plain": [
       "<matplotlib.figure.Figure at 0x7fcb5c16bbe0>"
      ]
     },
     "metadata": {},
     "output_type": "display_data"
    }
   ],
   "source": [
    "cm = confusion_matrix(y_test, y_pred)\n",
    "utils.plot_confusion_matrix(cm, ['Non-whale', 'Whale'], title='Customer lifetime value prediction')"
   ]
  },
  {
   "cell_type": "code",
   "execution_count": 21,
   "metadata": {
    "collapsed": false
   },
   "outputs": [
    {
     "name": "stderr",
     "output_type": "stream",
     "text": [
      "[Parallel(n_jobs=-1)]: Done   5 out of   5 | elapsed:   57.0s finished\n"
     ]
    },
    {
     "data": {
      "text/plain": [
       "'F1 0.38 +/- 0.03'"
      ]
     },
     "execution_count": 21,
     "metadata": {},
     "output_type": "execute_result"
    }
   ],
   "source": [
    "# random forest classifer, 5-fold cross-validation\n",
    "scores = cross_val_score(estimator=rf_clf, X=X, y=y, scoring='f1', verbose=True, cv=5, n_jobs=-1)\n",
    "\"F1 %.2f +/- %.2f\" % (scores.mean(), scores.std())"
   ]
  },
  {
   "cell_type": "code",
   "execution_count": 22,
   "metadata": {
    "collapsed": false
   },
   "outputs": [
    {
     "data": {
      "text/plain": [
       "array([ 0.42424242,  0.37078652,  0.3956044 ,  0.34831461,  0.37914692])"
      ]
     },
     "execution_count": 22,
     "metadata": {},
     "output_type": "execute_result"
    }
   ],
   "source": [
    "scores"
   ]
  },
  {
   "cell_type": "code",
   "execution_count": 25,
   "metadata": {
    "collapsed": false
   },
   "outputs": [
    {
     "name": "stdout",
     "output_type": "stream",
     "text": [
      "1: Unnamed: 0 [0.293]\n",
      "2: initial_deposit_amount [0.277]\n",
      "3: MIN(transactions.total_session_duration) [0.157]\n",
      "4: MAX(transactions.conversion_to_sb) [0.083]\n",
      "5: MODE(transactions.account_status) = SERIOUS_BUX [0.073]\n",
      "6: country_cd = AT [0.019]\n",
      "7: network = Viral Invites [0.017]\n",
      "8: platform_type_name = iOS [0.016]\n",
      "9: network = TV [0.014]\n",
      "10: network = unknown [0.014]\n",
      "11: title = Rookie Trader [0.008]\n",
      "12: network = Google Universal App Campaigns [0.008]\n",
      "13: network = BUX Website [0.007]\n",
      "14: trading_experience = NONE [0.006]\n",
      "15: title = Experienced Trader [0.006]\n",
      "16: network = Instagram Installs [0.002]\n",
      "17: MIN(transactions.trades_fb_commodities_open) [0.000]\n",
      "18: trading_experience = unknown [0.000]\n",
      "19: nationality = SI [0.000]\n",
      "20: platform_type_name = unknown [0.000]\n",
      "-----\n",
      "\n"
     ]
    },
    {
     "data": {
      "text/plain": [
       "['Unnamed: 0',\n",
       " 'initial_deposit_amount',\n",
       " 'MIN(transactions.total_session_duration)',\n",
       " 'MAX(transactions.conversion_to_sb)',\n",
       " 'MODE(transactions.account_status) = SERIOUS_BUX',\n",
       " 'country_cd = AT',\n",
       " 'network = Viral Invites',\n",
       " 'platform_type_name = iOS',\n",
       " 'network = TV',\n",
       " 'network = unknown',\n",
       " 'title = Rookie Trader',\n",
       " 'network = Google Universal App Campaigns',\n",
       " 'network = BUX Website',\n",
       " 'trading_experience = NONE',\n",
       " 'title = Experienced Trader',\n",
       " 'network = Instagram Installs',\n",
       " 'MIN(transactions.trades_fb_commodities_open)',\n",
       " 'trading_experience = unknown',\n",
       " 'nationality = SI',\n",
       " 'platform_type_name = unknown']"
      ]
     },
     "execution_count": 25,
     "metadata": {},
     "output_type": "execute_result"
    }
   ],
   "source": [
    "utils.feature_importances(X, rf_clf, feats=20)"
   ]
  },
  {
   "cell_type": "markdown",
   "metadata": {},
   "source": [
    "## SMOTE (oversampling)"
   ]
  },
  {
   "cell_type": "code",
   "execution_count": 76,
   "metadata": {
    "collapsed": false
   },
   "outputs": [
    {
     "name": "stderr",
     "output_type": "stream",
     "text": [
      "/home/jo/anaconda3/lib/python3.5/site-packages/sklearn/utils/deprecation.py:75: DeprecationWarning: Function _ratio_float is deprecated; Use a float for 'ratio' is deprecated from version 0.2. The support will be removed in 0.4. Use a dict, str, or a callable instead.\n",
      "  warnings.warn(msg, category=DeprecationWarning)\n"
     ]
    }
   ],
   "source": [
    "# https://elitedatascience.com/imbalanced-classes\n",
    "# https://chrisalbon.com/machine_learning/trees_and_forests/handle_imbalanced_classes_in_random_forests/\n",
    "\n",
    "# https://beckernick.github.io/oversampling-modeling/\n",
    "\n",
    "sm = SMOTE(random_state=100, ratio = 1)\n",
    "X_train_res, y_train_res = sm.fit_sample(X_train, y_train)"
   ]
  },
  {
   "cell_type": "code",
   "execution_count": 77,
   "metadata": {
    "collapsed": false
   },
   "outputs": [
    {
     "data": {
      "text/plain": [
       "1    44822\n",
       "0    44822\n",
       "dtype: int64"
      ]
     },
     "execution_count": 77,
     "metadata": {},
     "output_type": "execute_result"
    }
   ],
   "source": [
    "pd.Series(y_train_res).value_counts()"
   ]
  },
  {
   "cell_type": "code",
   "execution_count": 78,
   "metadata": {
    "collapsed": false
   },
   "outputs": [
    {
     "name": "stdout",
     "output_type": "stream",
     "text": [
      "CPU times: user 28.8 s, sys: 110 ms, total: 28.9 s\n",
      "Wall time: 29.1 s\n"
     ]
    }
   ],
   "source": [
    "%%time\n",
    "\n",
    "clf_smote = RandomForestClassifier(n_estimators=25, random_state=12)\n",
    "clf_smote.fit(X_train_res, y_train_res)"
   ]
  },
  {
   "cell_type": "code",
   "execution_count": 79,
   "metadata": {
    "collapsed": false
   },
   "outputs": [
    {
     "data": {
      "text/plain": [
       "array([0, 0, 0, ..., 0, 0, 0])"
      ]
     },
     "execution_count": 79,
     "metadata": {},
     "output_type": "execute_result"
    }
   ],
   "source": [
    "y_pred_smote = clf_smote.predict(X_test)\n",
    "y_pred_smote"
   ]
  },
  {
   "cell_type": "code",
   "execution_count": 82,
   "metadata": {
    "collapsed": false
   },
   "outputs": [
    {
     "data": {
      "image/png": "[encoded data removed]",
      "text/plain": [
       "<matplotlib.figure.Figure at 0x7f67be9281d0>"
      ]
     },
     "metadata": {},
     "output_type": "display_data"
    }
   ],
   "source": [
    "cm = confusion_matrix(y_test, y_pred_smote)\n",
    "utils.plot_confusion_matrix(cm, ['Non-whale', 'Whale'], title='Customer lifetime value prediction')"
   ]
  },
  {
   "cell_type": "code",
   "execution_count": 86,
   "metadata": {
    "collapsed": false
   },
   "outputs": [
    {
     "data": {
      "text/plain": [
       "0.55660377358490576"
      ]
     },
     "execution_count": 86,
     "metadata": {},
     "output_type": "execute_result"
    }
   ],
   "source": [
    "# f1 score with SMOTE\n",
    "f1_score(y_test, y_pred_smote, average=None)[1]"
   ]
  },
  {
   "cell_type": "code",
   "execution_count": 87,
   "metadata": {
    "collapsed": false
   },
   "outputs": [
    {
     "name": "stdout",
     "output_type": "stream",
     "text": [
      "1: Feature: initial_deposit_amount, 0.291\n",
      "2: Feature: SUM(transactions.conversion_to_sb), 0.096\n",
      "3: Feature: MAX(transactions.number_of_sessions), 0.069\n",
      "4: Feature: STD(transactions.conversion_to_sb), 0.061\n",
      "5: Feature: nationality = unknown, 0.057\n",
      "6: Feature: gender = unknown, 0.057\n",
      "7: Feature: gender = MALE, 0.052\n",
      "8: Feature: COUNT(transactions), 0.049\n",
      "9: Feature: STD(transactions.number_of_sessions), 0.044\n",
      "10: Feature: MEAN(transactions.conversion_to_sb), 0.043\n",
      "11: Feature: MAX(transactions.conversion_to_sb), 0.031\n",
      "12: Feature: MODE(transactions.account_status) = SERIOUS_BUX, 0.028\n",
      "13: Feature: NUM_UNIQUE(transactions.social_status), 0.020\n",
      "14: Feature: nationality = AT, 0.010\n",
      "15: Feature: MODE(transactions.account_status) = FUN_BUX, 0.007\n",
      "16: Feature: MEAN(transactions.number_of_sessions), 0.006\n",
      "17: Feature: NUM_UNIQUE(transactions.account_status), 0.004\n",
      "18: Feature: nationality = DE, 0.004\n",
      "19: Feature: network = Facebook Installs, 0.004\n",
      "20: Feature: country_cd = AT, 0.003\n"
     ]
    },
    {
     "data": {
      "text/plain": [
       "[<Feature: initial_deposit_amount>,\n",
       " <Feature: SUM(transactions.conversion_to_sb)>,\n",
       " <Feature: MAX(transactions.number_of_sessions)>,\n",
       " <Feature: STD(transactions.conversion_to_sb)>,\n",
       " <Feature: nationality = unknown>,\n",
       " <Feature: gender = unknown>,\n",
       " <Feature: gender = MALE>,\n",
       " <Feature: COUNT(transactions)>,\n",
       " <Feature: STD(transactions.number_of_sessions)>,\n",
       " <Feature: MEAN(transactions.conversion_to_sb)>,\n",
       " <Feature: MAX(transactions.conversion_to_sb)>,\n",
       " <Feature: MODE(transactions.account_status) = SERIOUS_BUX>,\n",
       " <Feature: NUM_UNIQUE(transactions.social_status)>,\n",
       " <Feature: nationality = AT>,\n",
       " <Feature: MODE(transactions.account_status) = FUN_BUX>,\n",
       " <Feature: MEAN(transactions.number_of_sessions)>,\n",
       " <Feature: NUM_UNIQUE(transactions.account_status)>,\n",
       " <Feature: nationality = DE>,\n",
       " <Feature: network = Facebook Installs>,\n",
       " <Feature: country_cd = AT>]"
      ]
     },
     "execution_count": 87,
     "metadata": {},
     "output_type": "execute_result"
    }
   ],
   "source": [
    "top_features = utils.feature_importances(clf_smote, features_encoded, n=20)\n",
    "top_features"
   ]
  },
  {
   "cell_type": "markdown",
   "metadata": {},
   "source": [
    "## Regular (no over/undersampling)"
   ]
  },
  {
   "cell_type": "code",
   "execution_count": 88,
   "metadata": {
    "collapsed": true
   },
   "outputs": [],
   "source": [
    "# GradientBoostingRegressor(verbose=True)\n",
    "clf = RandomForestClassifier(n_estimators=400, n_jobs=-1)"
   ]
  },
  {
   "cell_type": "code",
   "execution_count": 89,
   "metadata": {
    "collapsed": false
   },
   "outputs": [
    {
     "name": "stdout",
     "output_type": "stream",
     "text": [
      "CPU times: user 1min 4s, sys: 299 ms, total: 1min 4s\n",
      "Wall time: 23.3 s\n"
     ]
    },
    {
     "data": {
      "text/plain": [
       "RandomForestClassifier(bootstrap=True, class_weight=None, criterion='gini',\n",
       "            max_depth=None, max_features='auto', max_leaf_nodes=None,\n",
       "            min_impurity_decrease=0.0, min_impurity_split=None,\n",
       "            min_samples_leaf=1, min_samples_split=2,\n",
       "            min_weight_fraction_leaf=0.0, n_estimators=400, n_jobs=-1,\n",
       "            oob_score=False, random_state=None, verbose=0,\n",
       "            warm_start=False)"
      ]
     },
     "execution_count": 89,
     "metadata": {},
     "output_type": "execute_result"
    }
   ],
   "source": [
    "%%time\n",
    "\n",
    "clf.fit(X_train, y_train)"
   ]
  },
  {
   "cell_type": "code",
   "execution_count": 90,
   "metadata": {
    "collapsed": false
   },
   "outputs": [],
   "source": [
    "y_pred = clf.predict(X_test)"
   ]
  },
  {
   "cell_type": "code",
   "execution_count": 91,
   "metadata": {
    "collapsed": false,
    "scrolled": true
   },
   "outputs": [
    {
     "data": {
      "text/plain": [
       "0.99213711458609422"
      ]
     },
     "execution_count": 91,
     "metadata": {},
     "output_type": "execute_result"
    }
   ],
   "source": [
    "clf.score(X_test, y_test)"
   ]
  },
  {
   "cell_type": "code",
   "execution_count": 92,
   "metadata": {
    "collapsed": false
   },
   "outputs": [
    {
     "data": {
      "text/plain": [
       "(0.9908062736812574, 0.99213711458609422, 0.99101325275267171, None)"
      ]
     },
     "execution_count": 92,
     "metadata": {},
     "output_type": "execute_result"
    }
   ],
   "source": [
    "precision_recall_fscore_support(y_test, y_pred, average='weighted')"
   ]
  },
  {
   "cell_type": "code",
   "execution_count": 93,
   "metadata": {
    "collapsed": false
   },
   "outputs": [
    {
     "name": "stderr",
     "output_type": "stream",
     "text": [
      "[Parallel(n_jobs=1)]: Done   5 out of   5 | elapsed:  1.9min finished\n"
     ]
    },
    {
     "data": {
      "text/plain": [
       "'F1 0.55 +/- 0.04'"
      ]
     },
     "execution_count": 93,
     "metadata": {},
     "output_type": "execute_result"
    }
   ],
   "source": [
    "# random forest classifer, 5-fold cross-validation\n",
    "# clf_cv = RandomForestClassifier(n_estimators=400, n_jobs=-1)\n",
    "scores = cross_val_score(estimator=clf, X=X, y=y, scoring='f1', verbose=True, cv=5)\n",
    "\"F1 %.2f +/- %.2f\" % (scores.mean(), scores.std())"
   ]
  },
  {
   "cell_type": "code",
   "execution_count": 94,
   "metadata": {
    "collapsed": false
   },
   "outputs": [
    {
     "data": {
      "text/plain": [
       "array([ 0.55952381,  0.53551913,  0.57608696,  0.49411765,  0.60869565])"
      ]
     },
     "execution_count": 94,
     "metadata": {},
     "output_type": "execute_result"
    }
   ],
   "source": [
    "# get F1 score for each of the folds\n",
    "scores"
   ]
  },
  {
   "cell_type": "code",
   "execution_count": 95,
   "metadata": {
    "collapsed": true
   },
   "outputs": [],
   "source": [
    "cm = confusion_matrix(y_test, y_pred)"
   ]
  },
  {
   "cell_type": "code",
   "execution_count": 96,
   "metadata": {
    "collapsed": false
   },
   "outputs": [
    {
     "data": {
      "image/png": "[encoded data removed]",
      "text/plain": [
       "<matplotlib.figure.Figure at 0x7f679d174f28>"
      ]
     },
     "metadata": {},
     "output_type": "display_data"
    }
   ],
   "source": [
    "utils.plot_confusion_matrix(cm, ['Non-whale', 'Whale'], title='Customer lifetime value prediction')"
   ]
  },
  {
   "cell_type": "code",
   "execution_count": 97,
   "metadata": {
    "collapsed": false
   },
   "outputs": [
    {
     "data": {
      "text/plain": [
       "array([ 0.99603758,  0.49717514])"
      ]
     },
     "execution_count": 97,
     "metadata": {},
     "output_type": "execute_result"
    }
   ],
   "source": [
    "from sklearn.metrics import f1_score\n",
    "f1_score(y_test, y_pred, average=None)"
   ]
  },
  {
   "cell_type": "code",
   "execution_count": 98,
   "metadata": {
    "collapsed": false
   },
   "outputs": [
    {
     "name": "stdout",
     "output_type": "stream",
     "text": [
      "1: Feature: initial_deposit_amount, 0.106\n",
      "2: Feature: SUM(transactions.number_of_sessions), 0.068\n",
      "3: Feature: MEAN(transactions.number_of_sessions), 0.059\n",
      "4: Feature: SUM(transactions.total_session_duration), 0.051\n",
      "5: Feature: STD(transactions.number_of_sessions), 0.040\n",
      "6: Feature: STD(transactions.conversion_to_sb), 0.040\n",
      "7: Feature: MEAN(transactions.conversion_to_sb), 0.036\n",
      "8: Feature: MEAN(transactions.total_session_duration), 0.036\n",
      "9: Feature: MAX(transactions.number_of_sessions), 0.034\n",
      "10: Feature: MAX(transactions.total_session_duration), 0.030\n",
      "11: Feature: STD(transactions.total_session_duration), 0.030\n",
      "12: Feature: MAX(transactions.conversion_to_sb), 0.028\n",
      "13: Feature: SUM(transactions.conversion_to_sb), 0.028\n",
      "14: Feature: MODE(transactions.account_status) = SERIOUS_BUX, 0.023\n",
      "15: Feature: bux_account_created_day, 0.021\n",
      "16: Feature: MAX(transactions.day_of_year), 0.021\n",
      "17: Feature: SUM(transactions.day_of_year), 0.020\n",
      "18: Feature: MEAN(transactions.day_of_year), 0.020\n",
      "19: Feature: MIN(transactions.day_of_year), 0.019\n",
      "20: Feature: MIN(transactions.total_session_duration), 0.019\n"
     ]
    }
   ],
   "source": [
    "top_features = utils.feature_importances(clf, features_encoded, n=20)"
   ]
  },
  {
   "cell_type": "code",
   "execution_count": 99,
   "metadata": {
    "collapsed": true
   },
   "outputs": [],
   "source": [
    "ft.save_features(top_features, \"top_features\")"
   ]
  },
  {
   "cell_type": "markdown",
   "metadata": {
    "collapsed": true
   },
   "source": [
    "### Retrain the classifier on top 20 features"
   ]
  },
  {
   "cell_type": "code",
   "execution_count": 100,
   "metadata": {
    "collapsed": true
   },
   "outputs": [],
   "source": [
    "# load in the features from before\n",
    "top_features = ft.load_features(\"top_features\", es)"
   ]
  },
  {
   "cell_type": "code",
   "execution_count": 101,
   "metadata": {
    "collapsed": false
   },
   "outputs": [
    {
     "name": "stdout",
     "output_type": "stream",
     "text": [
      "CPU times: user 21min 57s, sys: 2.72 s, total: 21min 59s\n",
      "Wall time: 22min 7s\n"
     ]
    }
   ],
   "source": [
    "%%time\n",
    "\n",
    "fm = ft.calculate_feature_matrix(top_features,\n",
    "                                 entityset=es,\n",
    "                                 # cutoff_time = label_times,\n",
    "                                 cutoff_time_in_index=True,\n",
    "                                 verbose=False)"
   ]
  },
  {
   "cell_type": "markdown",
   "metadata": {},
   "source": [
    "## Classification"
   ]
  },
  {
   "cell_type": "code",
   "execution_count": 102,
   "metadata": {
    "collapsed": true
   },
   "outputs": [],
   "source": [
    "X = fm.reset_index().merge(CurCV[['user_id', 'whale']])\n",
    "X = X.fillna(0)\n",
    "X.drop([\"user_id\", \"time\"], axis=1, inplace=True)\n",
    "y = X.pop(\"whale\")"
   ]
  },
  {
   "cell_type": "code",
   "execution_count": 103,
   "metadata": {
    "collapsed": false
   },
   "outputs": [
    {
     "data": {
      "text/plain": [
       "20"
      ]
     },
     "execution_count": 103,
     "metadata": {},
     "output_type": "execute_result"
    }
   ],
   "source": [
    "# top 20 features\n",
    "len(X.columns)"
   ]
  },
  {
   "cell_type": "code",
   "execution_count": 104,
   "metadata": {
    "collapsed": false
   },
   "outputs": [
    {
     "data": {
      "text/plain": [
       "0    56027\n",
       "1      566\n",
       "Name: whale, dtype: int64"
      ]
     },
     "execution_count": 104,
     "metadata": {},
     "output_type": "execute_result"
    }
   ],
   "source": [
    "y.value_counts()"
   ]
  },
  {
   "cell_type": "code",
   "execution_count": 105,
   "metadata": {
    "collapsed": true
   },
   "outputs": [],
   "source": [
    "X_train, X_test, y_train, y_test = train_test_split(X, y, test_size=0.3, random_state=42)"
   ]
  },
  {
   "cell_type": "code",
   "execution_count": 106,
   "metadata": {
    "collapsed": true
   },
   "outputs": [],
   "source": [
    "# GradientBoostingRegressor(verbose=True)\n",
    "clf = RandomForestClassifier(n_estimators=400, n_jobs=-1)"
   ]
  },
  {
   "cell_type": "code",
   "execution_count": 107,
   "metadata": {
    "collapsed": false
   },
   "outputs": [
    {
     "name": "stdout",
     "output_type": "stream",
     "text": [
      "CPU times: user 1min 13s, sys: 299 ms, total: 1min 14s\n",
      "Wall time: 25.1 s\n"
     ]
    },
    {
     "data": {
      "text/plain": [
       "RandomForestClassifier(bootstrap=True, class_weight=None, criterion='gini',\n",
       "            max_depth=None, max_features='auto', max_leaf_nodes=None,\n",
       "            min_impurity_decrease=0.0, min_impurity_split=None,\n",
       "            min_samples_leaf=1, min_samples_split=2,\n",
       "            min_weight_fraction_leaf=0.0, n_estimators=400, n_jobs=-1,\n",
       "            oob_score=False, random_state=None, verbose=0,\n",
       "            warm_start=False)"
      ]
     },
     "execution_count": 107,
     "metadata": {},
     "output_type": "execute_result"
    }
   ],
   "source": [
    "%%time\n",
    "\n",
    "clf.fit(X_train, y_train)"
   ]
  },
  {
   "cell_type": "code",
   "execution_count": 108,
   "metadata": {
    "collapsed": true
   },
   "outputs": [],
   "source": [
    "y_pred = clf.predict(X_test)"
   ]
  },
  {
   "cell_type": "code",
   "execution_count": 109,
   "metadata": {
    "collapsed": false
   },
   "outputs": [
    {
     "name": "stdout",
     "output_type": "stream",
     "text": [
      "precision: [ 0.99431077  0.72115385]\n",
      "recall: [ 0.99827453  0.43859649]\n",
      "fscore: [ 0.99628871  0.54545455]\n",
      "support: [16807   171]\n"
     ]
    }
   ],
   "source": [
    "precision, recall, fscore, support = score(y_test, y_pred)\n",
    "\n",
    "print('precision: {}'.format(precision))\n",
    "print('recall: {}'.format(recall))\n",
    "print('fscore: {}'.format(fscore))\n",
    "print('support: {}'.format(support))"
   ]
  },
  {
   "cell_type": "code",
   "execution_count": 110,
   "metadata": {
    "collapsed": false
   },
   "outputs": [
    {
     "name": "stdout",
     "output_type": "stream",
     "text": [
      "F1 score 0.57 +/- 0.01\n",
      "CPU times: user 7min 14s, sys: 2.08 s, total: 7min 16s\n",
      "Wall time: 2min 13s\n"
     ]
    },
    {
     "name": "stderr",
     "output_type": "stream",
     "text": [
      "[Parallel(n_jobs=1)]: Done   5 out of   5 | elapsed:  2.2min finished\n"
     ]
    }
   ],
   "source": [
    "%%time\n",
    "\n",
    "clf_cv = RandomForestClassifier(n_estimators=400, n_jobs=-1)\n",
    "scores = cross_val_score(estimator=clf_cv, X=X, y=y, scoring='f1', verbose=True, cv=5)\n",
    "print(\"F1 score %.2f +/- %.2f\" % (scores.mean(), scores.std()))"
   ]
  },
  {
   "cell_type": "code",
   "execution_count": null,
   "metadata": {
    "collapsed": true
   },
   "outputs": [],
   "source": [
    "scores"
   ]
  },
  {
   "cell_type": "code",
   "execution_count": 111,
   "metadata": {
    "collapsed": false
   },
   "outputs": [
    {
     "name": "stdout",
     "output_type": "stream",
     "text": [
      "F1 score 0.74 +/- 0.03\n"
     ]
    },
    {
     "name": "stderr",
     "output_type": "stream",
     "text": [
      "[Parallel(n_jobs=1)]: Done   5 out of   5 | elapsed:  2.2min finished\n"
     ]
    }
   ],
   "source": [
    "clf_cv = RandomForestClassifier(n_estimators=400, n_jobs=-1)\n",
    "scores = cross_val_score(estimator=clf_cv, X=X, y=y, scoring='precision', verbose=True, cv=5)\n",
    "print(\"Precision score %.2f +/- %.2f\" % (scores.mean(), scores.std()))"
   ]
  },
  {
   "cell_type": "code",
   "execution_count": 116,
   "metadata": {
    "collapsed": false
   },
   "outputs": [
    {
     "data": {
      "text/plain": [
       "array([ 0.796875  ,  0.72222222,  0.72151899,  0.72463768,  0.75362319])"
      ]
     },
     "execution_count": 116,
     "metadata": {},
     "output_type": "execute_result"
    }
   ],
   "source": [
    "scores"
   ]
  },
  {
   "cell_type": "code",
   "execution_count": 117,
   "metadata": {
    "collapsed": false
   },
   "outputs": [
    {
     "data": {
      "text/plain": [
       "(0.99840961300583142,\n",
       " 0.85704188019084648,\n",
       " 0.99840961300583142,\n",
       " 1.1309418625198799,\n",
       " 1.015811324087978)"
      ]
     },
     "execution_count": 117,
     "metadata": {},
     "output_type": "execute_result"
    }
   ],
   "source": [
    "# percentage of whales in each cross-validation set\n",
    "\n",
    "lim_1 = int(len(y)/5)\n",
    "lim_2 = int(len(y)/5)*2\n",
    "lim_3 = int(len(y)/5)*3\n",
    "lim_4 = int(len(y)/5)*4\n",
    "lim_5 = int(len(y))\n",
    "\n",
    "\n",
    "y[0:lim_1].value_counts()[1] / len(y[0:lim_1])*100, y[lim_1:lim_2].value_counts()[1] / len(y[lim_1:lim_2])*100, y[lim_2:lim_3].value_counts()[1] / len(y[lim_2:lim_3])*100, y[lim_3:lim_4].value_counts()[1] / len(y[lim_3:lim_4])*100, y[lim_4:lim_5].value_counts()[1] / len(y[lim_4:lim_5])*100"
   ]
  },
  {
   "cell_type": "code",
   "execution_count": 118,
   "metadata": {
    "collapsed": false
   },
   "outputs": [
    {
     "data": {
      "image/png": "[encoded data removed]",
      "text/plain": [
       "<matplotlib.figure.Figure at 0x7f67be93f8d0>"
      ]
     },
     "metadata": {},
     "output_type": "display_data"
    }
   ],
   "source": [
    "cm = confusion_matrix(y_test, y_pred)\n",
    "utils.plot_confusion_matrix(cm, ['Non-whale', 'Whale'], title='Customer lifetime value prediction')"
   ]
  },
  {
   "cell_type": "code",
   "execution_count": 115,
   "metadata": {
    "collapsed": false
   },
   "outputs": [
    {
     "data": {
      "text/plain": [
       "Text(0.5,1,'2-class Precision-Recall curve: AP=0.32')"
      ]
     },
     "execution_count": 115,
     "metadata": {},
     "output_type": "execute_result"
    },
    {
     "data": {
      "image/png": "[encoded data removed]",
      "text/plain": [
       "<matplotlib.figure.Figure at 0x7f67aff1e9b0>"
      ]
     },
     "metadata": {},
     "output_type": "display_data"
    }
   ],
   "source": [
    "from sklearn.metrics import precision_recall_curve\n",
    "from sklearn.metrics import average_precision_score\n",
    "\n",
    "\n",
    "y_pred_proba = clf.predict_proba(X_test)\n",
    "average_precision = average_precision_score(y_test, y_pred)\n",
    "pr, re, _ = precision_recall_curve(y_test,y_pred,pos_label=1)\n",
    "\n",
    "\n",
    "plt.step(re, pr, color='b', alpha=0.2,\n",
    "         where='post')\n",
    "plt.fill_between(re, pr, step='post', alpha=0.2,\n",
    "                 color='b')\n",
    "\n",
    "plt.xlabel('Recall')\n",
    "plt.ylabel('Precision')\n",
    "plt.ylim([0.0, 1.05])\n",
    "plt.xlim([0.0, 1.0])\n",
    "plt.title('2-class Precision-Recall curve: AP={0:0.2f}'.format(\n",
    "          average_precision))"
   ]
  },
  {
   "cell_type": "code",
   "execution_count": null,
   "metadata": {
    "collapsed": false
   },
   "outputs": [],
   "source": [
    "clf_cv.decision_path(X_test)"
   ]
  },
  {
   "cell_type": "markdown",
   "metadata": {},
   "source": [
    "### 30% test set (Feb 17 cohort)\n",
    "\n",
    "![title](img/30% test set  - Feb 17 cohort.png)"
   ]
  },
  {
   "cell_type": "markdown",
   "metadata": {},
   "source": [
    "## 40% test set (Feb 17 cohort)\n",
    "\n",
    "![title](img/40% test set - Feb 17 cohort.png)"
   ]
  },
  {
   "cell_type": "markdown",
   "metadata": {},
   "source": [
    "## 30% test set (Feb 17 cohort, 30k users sample)\n",
    "![title](img/confusion_matrix - 30.000 users - first pipeline.png)"
   ]
  },
  {
   "cell_type": "markdown",
   "metadata": {},
   "source": [
    "## Regression"
   ]
  },
  {
   "cell_type": "code",
   "execution_count": 559,
   "metadata": {
    "collapsed": true
   },
   "outputs": [],
   "source": [
    "X = fm.reset_index().merge(CurCV[['user_id', 'curcv']])\n",
    "X = X.fillna(0)\n",
    "X.drop([\"user_id\", \"time\"], axis=1, inplace=True)\n",
    "y = X.pop(\"curcv\")"
   ]
  },
  {
   "cell_type": "code",
   "execution_count": 560,
   "metadata": {
    "collapsed": false
   },
   "outputs": [
    {
     "data": {
      "text/plain": [
       "20"
      ]
     },
     "execution_count": 560,
     "metadata": {},
     "output_type": "execute_result"
    }
   ],
   "source": [
    "len(X.columns)"
   ]
  },
  {
   "cell_type": "code",
   "execution_count": 561,
   "metadata": {
    "collapsed": false
   },
   "outputs": [
    {
     "data": {
      "text/plain": [
       "6.679892666666674"
      ]
     },
     "execution_count": 561,
     "metadata": {},
     "output_type": "execute_result"
    }
   ],
   "source": [
    "# average customer value\n",
    "y.mean()"
   ]
  },
  {
   "cell_type": "code",
   "execution_count": 562,
   "metadata": {
    "collapsed": true
   },
   "outputs": [],
   "source": [
    "X_train, X_test, y_train, y_test = train_test_split(X, y, test_size=0.3, random_state=42)"
   ]
  },
  {
   "cell_type": "code",
   "execution_count": 563,
   "metadata": {
    "collapsed": false
   },
   "outputs": [
    {
     "data": {
      "text/plain": [
       "count    10500.000000\n",
       "mean         5.319653\n",
       "std        113.743554\n",
       "min          0.000000\n",
       "25%          0.000000\n",
       "50%          0.000000\n",
       "75%          0.000000\n",
       "max       6210.170000\n",
       "Name: curcv, dtype: float64"
      ]
     },
     "execution_count": 563,
     "metadata": {},
     "output_type": "execute_result"
    }
   ],
   "source": [
    "y_train.describe()"
   ]
  },
  {
   "cell_type": "code",
   "execution_count": 564,
   "metadata": {
    "collapsed": false
   },
   "outputs": [
    {
     "data": {
      "text/plain": [
       "count     4500.000000\n",
       "mean         9.853784\n",
       "std        240.957293\n",
       "min          0.000000\n",
       "25%          0.000000\n",
       "50%          0.000000\n",
       "75%          0.000000\n",
       "max      12597.100000\n",
       "Name: curcv, dtype: float64"
      ]
     },
     "execution_count": 564,
     "metadata": {},
     "output_type": "execute_result"
    }
   ],
   "source": [
    "y_test.describe()"
   ]
  },
  {
   "cell_type": "code",
   "execution_count": 565,
   "metadata": {
    "collapsed": false
   },
   "outputs": [],
   "source": [
    "regr = RandomForestRegressor(max_depth=2, random_state=0)"
   ]
  },
  {
   "cell_type": "code",
   "execution_count": 566,
   "metadata": {
    "collapsed": false
   },
   "outputs": [
    {
     "name": "stdout",
     "output_type": "stream",
     "text": [
      "CPU times: user 636 ms, sys: 0 ns, total: 636 ms\n",
      "Wall time: 643 ms\n"
     ]
    },
    {
     "data": {
      "text/plain": [
       "RandomForestRegressor(bootstrap=True, criterion='mse', max_depth=2,\n",
       "           max_features='auto', max_leaf_nodes=None,\n",
       "           min_impurity_decrease=0.0, min_impurity_split=None,\n",
       "           min_samples_leaf=1, min_samples_split=2,\n",
       "           min_weight_fraction_leaf=0.0, n_estimators=10, n_jobs=1,\n",
       "           oob_score=False, random_state=0, verbose=0, warm_start=False)"
      ]
     },
     "execution_count": 566,
     "metadata": {},
     "output_type": "execute_result"
    }
   ],
   "source": [
    "%%time\n",
    "\n",
    "\n",
    "regr.fit(X_train, y_train)"
   ]
  },
  {
   "cell_type": "code",
   "execution_count": 567,
   "metadata": {
    "collapsed": false
   },
   "outputs": [
    {
     "name": "stdout",
     "output_type": "stream",
     "text": [
      "1: Feature: trading_experience = NONE, 0.560\n",
      "2: Feature: trading_experience = EXPERT, 0.134\n",
      "3: Feature: gender = unknown, 0.087\n",
      "4: Feature: nationality = IT, 0.081\n",
      "5: Feature: nationality = AT, 0.055\n",
      "6: Feature: trading_experience = unknown, 0.043\n",
      "7: Feature: nationality = PL, 0.040\n",
      "8: Feature: trading_experience = SOME, 0.000\n",
      "9: Feature: gender = MALE, 0.000\n",
      "10: Feature: gender = FEMALE, 0.000\n",
      "11: Feature: title = Rookie Trader, 0.000\n",
      "12: Feature: title = Experienced Trader, 0.000\n",
      "13: Feature: title = Pro Trader, 0.000\n",
      "14: Feature: title = unknown, 0.000\n",
      "15: Feature: nationality = DE, 0.000\n",
      "16: Feature: nationality = GB, 0.000\n",
      "17: Feature: nationality = TR, 0.000\n",
      "18: Feature: nationality = DK, 0.000\n",
      "19: Feature: nationality = RO, 0.000\n",
      "20: Feature: nationality = GR, 0.000\n"
     ]
    },
    {
     "data": {
      "text/plain": [
       "[<Feature: trading_experience = NONE>,\n",
       " <Feature: trading_experience = EXPERT>,\n",
       " <Feature: gender = unknown>,\n",
       " <Feature: nationality = IT>,\n",
       " <Feature: nationality = AT>,\n",
       " <Feature: trading_experience = unknown>,\n",
       " <Feature: nationality = PL>,\n",
       " <Feature: trading_experience = SOME>,\n",
       " <Feature: gender = MALE>,\n",
       " <Feature: gender = FEMALE>,\n",
       " <Feature: title = Rookie Trader>,\n",
       " <Feature: title = Experienced Trader>,\n",
       " <Feature: title = Pro Trader>,\n",
       " <Feature: title = unknown>,\n",
       " <Feature: nationality = DE>,\n",
       " <Feature: nationality = GB>,\n",
       " <Feature: nationality = TR>,\n",
       " <Feature: nationality = DK>,\n",
       " <Feature: nationality = RO>,\n",
       " <Feature: nationality = GR>]"
      ]
     },
     "execution_count": 567,
     "metadata": {},
     "output_type": "execute_result"
    }
   ],
   "source": [
    "utils.feature_importances(regr, features_encoded, n=20)"
   ]
  },
  {
   "cell_type": "code",
   "execution_count": 568,
   "metadata": {
    "collapsed": false
   },
   "outputs": [],
   "source": [
    "y_pred = regr.predict(X_test)"
   ]
  },
  {
   "cell_type": "code",
   "execution_count": 569,
   "metadata": {
    "collapsed": false
   },
   "outputs": [],
   "source": [
    "from sklearn.metrics import r2_score, mean_absolute_error, mean_squared_error"
   ]
  },
  {
   "cell_type": "code",
   "execution_count": 570,
   "metadata": {
    "collapsed": false
   },
   "outputs": [
    {
     "data": {
      "text/plain": [
       "11499    0.0\n",
       "6475     0.0\n",
       "13167    0.0\n",
       "862      0.0\n",
       "5970     0.0\n",
       "Name: curcv, dtype: float64"
      ]
     },
     "execution_count": 570,
     "metadata": {},
     "output_type": "execute_result"
    }
   ],
   "source": [
    "y_test.head()"
   ]
  },
  {
   "cell_type": "code",
   "execution_count": 571,
   "metadata": {
    "collapsed": false
   },
   "outputs": [
    {
     "data": {
      "text/plain": [
       "0.107"
      ]
     },
     "execution_count": 571,
     "metadata": {},
     "output_type": "execute_result"
    }
   ],
   "source": [
    "r2_reg = r2_score(y_test, y_pred).round(3)\n",
    "r2_reg"
   ]
  },
  {
   "cell_type": "code",
   "execution_count": 572,
   "metadata": {
    "collapsed": false
   },
   "outputs": [
    {
     "name": "stdout",
     "output_type": "stream",
     "text": [
      "11.7074452488\n",
      "51848.5119035\n",
      "227.702683128\n"
     ]
    }
   ],
   "source": [
    "print(mean_absolute_error(y_test, y_pred))\n",
    "print(mean_squared_error(y_test, y_pred))\n",
    "print(np.sqrt(mean_squared_error(y_test, y_pred)))"
   ]
  },
  {
   "cell_type": "code",
   "execution_count": 573,
   "metadata": {
    "collapsed": false
   },
   "outputs": [
    {
     "data": {
      "text/plain": [
       "(32763.885806112103, 44342.029999999984)"
      ]
     },
     "execution_count": 573,
     "metadata": {},
     "output_type": "execute_result"
    }
   ],
   "source": [
    "test_set_pred = sum(y_pred)\n",
    "test_set_true = sum(y_test)\n",
    "\n",
    "test_set_pred, test_set_true"
   ]
  },
  {
   "cell_type": "code",
   "execution_count": 574,
   "metadata": {
    "collapsed": false
   },
   "outputs": [
    {
     "data": {
      "text/plain": [
       "(31986.982499999987, 44342.029999999984)"
      ]
     },
     "execution_count": 574,
     "metadata": {},
     "output_type": "execute_result"
    }
   ],
   "source": [
    "test_set_benchmark = len(y_test) * CurCV['curcv'].mean()\n",
    "\n",
    "test_set_benchmark, test_set_true"
   ]
  },
  {
   "cell_type": "code",
   "execution_count": 575,
   "metadata": {
    "collapsed": true
   },
   "outputs": [],
   "source": [
    "y_benchmark = [CurCV['curcv'].mean() for i in range(0,len(y_test))]"
   ]
  },
  {
   "cell_type": "code",
   "execution_count": 576,
   "metadata": {
    "collapsed": false
   },
   "outputs": [
    {
     "name": "stdout",
     "output_type": "stream",
     "text": [
      "16.5399014526\n",
      "58055.0530432\n",
      "240.946162126\n"
     ]
    }
   ],
   "source": [
    "print(mean_absolute_error(y_test, y_benchmark))\n",
    "print(mean_squared_error(y_test, y_benchmark))\n",
    "print(np.sqrt(mean_squared_error(y_test, y_benchmark)))"
   ]
  },
  {
   "cell_type": "code",
   "execution_count": null,
   "metadata": {
    "collapsed": true
   },
   "outputs": [],
   "source": []
  },
  {
   "cell_type": "code",
   "execution_count": null,
   "metadata": {
    "collapsed": true
   },
   "outputs": [],
   "source": []
  }
 ],
 "metadata": {
  "anaconda-cloud": {},
  "kernelspec": {
   "display_name": "Python [default]",
   "language": "python",
   "name": "python3"
  },
  "language_info": {
   "codemirror_mode": {
    "name": "ipython",
    "version": 3
   },
   "file_extension": ".py",
   "mimetype": "text/x-python",
   "name": "python",
   "nbconvert_exporter": "python",
   "pygments_lexer": "ipython3",
   "version": "3.5.4"
  }
 },
 "nbformat": 4,
 "nbformat_minor": 1
}
