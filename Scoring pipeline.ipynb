{
 "cells": [
  {
   "cell_type": "code",
   "execution_count": 10,
   "metadata": {
    "collapsed": false
   },
   "outputs": [],
   "source": [
    "import sys\n",
    "import pandas as pd\n",
    "import utils\n",
    "import utils_bux\n",
    "import featuretools as ft\n",
    "from sklearn.externals import joblib"
   ]
  },
  {
   "cell_type": "markdown",
   "metadata": {},
   "source": [
    "### DEFINE PIPELINE PARAMETERS"
   ]
  },
  {
   "cell_type": "code",
   "execution_count": 11,
   "metadata": {
    "collapsed": false
   },
   "outputs": [
    {
     "name": "stdout",
     "output_type": "stream",
     "text": [
      "Pipeline parameters defined\n",
      "Extraction of scoring for users from 2018-04-01 till 2018-04-30\n"
     ]
    }
   ],
   "source": [
    "load_to_database = False\n",
    "save_as_csv = False\n",
    "\n",
    "# the timeframe of extracted users\n",
    "users_from = '2018-04-01'\n",
    "users_till = '2018-04-30'\n",
    "\n",
    "# include all users in each of the cohorts\n",
    "cohort_size = 1000000000\n",
    "\n",
    "# the timeframe of extracted behavioral data\n",
    "interval = '3 weeks'\n",
    "\n",
    "# the type of the prediction problem\n",
    "# 'regression', 'binary classification', 'multiclass classification'\n",
    "prediction_problem_type = 'binary classification'\n",
    "\n",
    "print(\"Pipeline parameters defined\")\n",
    "print(\"Extraction of scoring for users from\", users_from, \"till\", users_till)"
   ]
  },
  {
   "cell_type": "markdown",
   "metadata": {},
   "source": [
    "### CONNECT TO THE DATABASE"
   ]
  },
  {
   "cell_type": "code",
   "execution_count": 12,
   "metadata": {
    "collapsed": false
   },
   "outputs": [
    {
     "name": "stdout",
     "output_type": "stream",
     "text": [
      "Connected to the database\n"
     ]
    }
   ],
   "source": [
    "conn, cur = utils.connect_to_db()"
   ]
  },
  {
   "cell_type": "markdown",
   "metadata": {},
   "source": [
    "### BUILD ENTITIES"
   ]
  },
  {
   "cell_type": "markdown",
   "metadata": {},
   "source": [
    "#### Cohorts entity"
   ]
  },
  {
   "cell_type": "code",
   "execution_count": 13,
   "metadata": {
    "collapsed": false
   },
   "outputs": [
    {
     "name": "stdout",
     "output_type": "stream",
     "text": [
      "Cohorts entity built\n"
     ]
    }
   ],
   "source": [
    "cohorts = utils_bux.build_cohorts_entity(cur=cur,\n",
    "                                         users_from=users_from,\n",
    "                                         users_till=users_till)"
   ]
  },
  {
   "cell_type": "markdown",
   "metadata": {},
   "source": [
    "#### Users entity"
   ]
  },
  {
   "cell_type": "code",
   "execution_count": 14,
   "metadata": {
    "collapsed": false
   },
   "outputs": [
    {
     "name": "stdout",
     "output_type": "stream",
     "text": [
      "Users entity built with 36523 users\n"
     ]
    }
   ],
   "source": [
    "user_details = utils_bux.build_users_entity(cur=cur,\n",
    "                                            users_from=users_from,\n",
    "                                            users_till=users_till,\n",
    "                                            interval=interval,\n",
    "                                            cohorts=cohorts,\n",
    "                                            cohort_size=cohort_size)"
   ]
  },
  {
   "cell_type": "markdown",
   "metadata": {},
   "source": [
    "#### Transactions entity"
   ]
  },
  {
   "cell_type": "code",
   "execution_count": 15,
   "metadata": {
    "collapsed": false
   },
   "outputs": [
    {
     "name": "stdout",
     "output_type": "stream",
     "text": [
      "Transactions entity built with 803506 transactions\n"
     ]
    }
   ],
   "source": [
    "daily_transactions = utils_bux.build_transactions_entity(cur=cur,\n",
    "                                                         interval=interval)"
   ]
  },
  {
   "cell_type": "markdown",
   "metadata": {},
   "source": [
    "### CREATE THE ENTITY SET"
   ]
  },
  {
   "cell_type": "code",
   "execution_count": 16,
   "metadata": {
    "collapsed": false
   },
   "outputs": [
    {
     "name": "stdout",
     "output_type": "stream",
     "text": [
      "Entity set built\n"
     ]
    },
    {
     "data": {
      "text/plain": [
       "Entityset: bux_clv\n",
       "  Entities:\n",
       "    users (shape = [36523, 33])\n",
       "    cohorts (shape = [5, 11])\n",
       "    transactions (shape = [803506, 18])\n",
       "  Relationships:\n",
       "    users.cohort_id -> cohorts.cohort_id\n",
       "    transactions.user_id -> users.user_id"
      ]
     },
     "execution_count": 16,
     "metadata": {},
     "output_type": "execute_result"
    }
   ],
   "source": [
    "es = utils_bux.create_bux_entity_set(cohorts, user_details, daily_transactions)\n",
    "es"
   ]
  },
  {
   "cell_type": "markdown",
   "metadata": {},
   "source": [
    "### FEATURE ENGINEERING (DFS)"
   ]
  },
  {
   "cell_type": "code",
   "execution_count": 17,
   "metadata": {
    "collapsed": false,
    "scrolled": true
   },
   "outputs": [
    {
     "name": "stdout",
     "output_type": "stream",
     "text": [
      "Features built:\n",
      " ['MAX(transactions.trades_sb_long)', 'STD(transactions.trades_sb_open_positions)', 'NUM_UNIQUE(transactions.trades_sb_commission)', 'STD(transactions.trades_sb_long)', 'MEAN(transactions.trades_sb_long)', 'MAX(transactions.conversion_to_sb)', 'SUM(transactions.trades_sb_open_positions)', 'STD(transactions.trades_sb_invested_amount)', 'MAX(transactions.view_position)', 'MEAN(transactions.trades_sb_open_positions)', 'MAX(transactions.trades_sb_short)', 'MEAN(transactions.trades_sb_invested_amount)', 'MEAN(transactions.total_session_duration)', 'SUM(transactions.view_position)', 'MEAN(transactions.trades_sb_short)', 'SUM(transactions.trades_sb_invested_amount)', 'Conversion Completed_hours_till_event', 'SUM(transactions.total_session_duration)', 'SUM(transactions.trades_sb_long)', 'STD(transactions.view_position)']\n"
     ]
    }
   ],
   "source": [
    "top_features = ft.load_features(\"top_features\", es)\n",
    "fm = utils.calculate_feature_matrix_top_features(es, top_features)\n",
    "X = fm.reset_index(drop=True).fillna(0)\n",
    "print(\"Features built:\\n\", list(fm.columns))"
   ]
  },
  {
   "cell_type": "markdown",
   "metadata": {},
   "source": [
    "### LOADING THE MODEL"
   ]
  },
  {
   "cell_type": "code",
   "execution_count": 18,
   "metadata": {
    "collapsed": false
   },
   "outputs": [
    {
     "name": "stdout",
     "output_type": "stream",
     "text": [
      "Model loaded\n"
     ]
    }
   ],
   "source": [
    "model = joblib.load('models/model.pkl')\n",
    "print(\"Model loaded\")"
   ]
  },
  {
   "cell_type": "markdown",
   "metadata": {},
   "source": [
    "### SCORING"
   ]
  },
  {
   "cell_type": "code",
   "execution_count": 19,
   "metadata": {
    "collapsed": false
   },
   "outputs": [
    {
     "name": "stdout",
     "output_type": "stream",
     "text": [
      "Prediction done\n"
     ]
    }
   ],
   "source": [
    "y_pred = utils.rf_predict(model, X, prediction_problem_type)\n",
    "print(\"Prediction done\")"
   ]
  },
  {
   "cell_type": "code",
   "execution_count": 20,
   "metadata": {
    "collapsed": false
   },
   "outputs": [
    {
     "data": {
      "text/html": [
       "<div>\n",
       "<style>\n",
       "    .dataframe thead tr:only-child th {\n",
       "        text-align: right;\n",
       "    }\n",
       "\n",
       "    .dataframe thead th {\n",
       "        text-align: left;\n",
       "    }\n",
       "\n",
       "    .dataframe tbody tr th {\n",
       "        vertical-align: top;\n",
       "    }\n",
       "</style>\n",
       "<table border=\"1\" class=\"dataframe\">\n",
       "  <thead>\n",
       "    <tr style=\"text-align: right;\">\n",
       "      <th></th>\n",
       "      <th>topic_type</th>\n",
       "      <th>report_date</th>\n",
       "      <th>model_type</th>\n",
       "      <th>user_id</th>\n",
       "      <th>class_prediction</th>\n",
       "      <th>prob</th>\n",
       "    </tr>\n",
       "  </thead>\n",
       "  <tbody>\n",
       "    <tr>\n",
       "      <th>0</th>\n",
       "      <td>clv_prediction</td>\n",
       "      <td>2018-05-30</td>\n",
       "      <td>randomforest</td>\n",
       "      <td>00428a27-c6c8-4f77-9a7b-4475219bb6af</td>\n",
       "      <td>0.0</td>\n",
       "      <td>0</td>\n",
       "    </tr>\n",
       "    <tr>\n",
       "      <th>1</th>\n",
       "      <td>clv_prediction</td>\n",
       "      <td>2018-05-30</td>\n",
       "      <td>randomforest</td>\n",
       "      <td>00c9c2db-e0e2-4521-ad83-928276fe9e58</td>\n",
       "      <td>0.0</td>\n",
       "      <td>0</td>\n",
       "    </tr>\n",
       "    <tr>\n",
       "      <th>2</th>\n",
       "      <td>clv_prediction</td>\n",
       "      <td>2018-05-30</td>\n",
       "      <td>randomforest</td>\n",
       "      <td>0103f512-ec62-4214-8640-64a0532ef2a2</td>\n",
       "      <td>0.0</td>\n",
       "      <td>0</td>\n",
       "    </tr>\n",
       "    <tr>\n",
       "      <th>3</th>\n",
       "      <td>clv_prediction</td>\n",
       "      <td>2018-05-30</td>\n",
       "      <td>randomforest</td>\n",
       "      <td>01a6b32c-ca42-4785-96cd-9038bb512177</td>\n",
       "      <td>0.0</td>\n",
       "      <td>0</td>\n",
       "    </tr>\n",
       "    <tr>\n",
       "      <th>4</th>\n",
       "      <td>clv_prediction</td>\n",
       "      <td>2018-05-30</td>\n",
       "      <td>randomforest</td>\n",
       "      <td>022be82d-26e5-41cf-9d65-f41691763420</td>\n",
       "      <td>0.0</td>\n",
       "      <td>0</td>\n",
       "    </tr>\n",
       "  </tbody>\n",
       "</table>\n",
       "</div>"
      ],
      "text/plain": [
       "       topic_type report_date    model_type  \\\n",
       "0  clv_prediction  2018-05-30  randomforest   \n",
       "1  clv_prediction  2018-05-30  randomforest   \n",
       "2  clv_prediction  2018-05-30  randomforest   \n",
       "3  clv_prediction  2018-05-30  randomforest   \n",
       "4  clv_prediction  2018-05-30  randomforest   \n",
       "\n",
       "                                user_id  class_prediction  prob  \n",
       "0  00428a27-c6c8-4f77-9a7b-4475219bb6af               0.0     0  \n",
       "1  00c9c2db-e0e2-4521-ad83-928276fe9e58               0.0     0  \n",
       "2  0103f512-ec62-4214-8640-64a0532ef2a2               0.0     0  \n",
       "3  01a6b32c-ca42-4785-96cd-9038bb512177               0.0     0  \n",
       "4  022be82d-26e5-41cf-9d65-f41691763420               0.0     0  "
      ]
     },
     "execution_count": 20,
     "metadata": {},
     "output_type": "execute_result"
    }
   ],
   "source": [
    "# save predictions in a csv\n",
    "predictions = pd.DataFrame()\n",
    "predictions[\"user_id\"] = user_details[\"user_id\"]\n",
    "predictions[\"topic_type\"] = \"clv_prediction\"\n",
    "predictions['report_date'] = pd.to_datetime('today').strftime(\"%Y-%m-%d\")\n",
    "predictions[\"model_type\"] = \"randomforest\"\n",
    "predictions[\"class_prediction\"] = y_pred\n",
    "predictions[\"prob\"] = 0\n",
    "predictions = predictions[[\"topic_type\", \"report_date\", \"model_type\", \"user_id\", \"class_prediction\", \"prob\"]]\n",
    "predictions.head()"
   ]
  },
  {
   "cell_type": "markdown",
   "metadata": {},
   "source": [
    "### SAVE AS CSV AND/OR LOAD RESULTS INTO THE THE DATABASE"
   ]
  },
  {
   "cell_type": "code",
   "execution_count": 21,
   "metadata": {
    "collapsed": true
   },
   "outputs": [],
   "source": [
    "if save_as_csv:\n",
    "    predictions.to_csv(\"scoring/results\" + users_from + \"-\" + users_till, index=False)"
   ]
  },
  {
   "cell_type": "code",
   "execution_count": 22,
   "metadata": {
    "collapsed": true
   },
   "outputs": [],
   "source": [
    "if load_to_database:\n",
    "    utils_bux.copy_to_database(predictions, 'db_table_name', conn)"
   ]
  },
  {
   "cell_type": "code",
   "execution_count": null,
   "metadata": {
    "collapsed": true
   },
   "outputs": [],
   "source": [
    "# when running as a script\n",
    "if __name__ == \"__main__\":\n",
    "    users_from = sys.argv[1]\n",
    "    users_till = sys.argv[2]\n",
    "    # embed all the code above in the main function\n",
    "    main(users_from, users_till)"
   ]
  }
 ],
 "metadata": {
  "anaconda-cloud": {},
  "kernelspec": {
   "display_name": "Python [default]",
   "language": "python",
   "name": "python3"
  },
  "language_info": {
   "codemirror_mode": {
    "name": "ipython",
    "version": 3
   },
   "file_extension": ".py",
   "mimetype": "text/x-python",
   "name": "python",
   "nbconvert_exporter": "python",
   "pygments_lexer": "ipython3",
   "version": "3.5.4"
  }
 },
 "nbformat": 4,
 "nbformat_minor": 1
}
