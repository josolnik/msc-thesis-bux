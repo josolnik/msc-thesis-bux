{
 "cells": [
  {
   "cell_type": "code",
   "execution_count": 1,
   "metadata": {
    "collapsed": false
   },
   "outputs": [
    {
     "name": "stderr",
     "output_type": "stream",
     "text": [
      "/home/jo/anaconda3/lib/python3.5/site-packages/sklearn/cross_validation.py:41: DeprecationWarning: This module was deprecated in version 0.18 in favor of the model_selection module into which all the refactored classes and functions are moved. Also note that the interface of the new CV iterators are different from that of this module. This module will be removed in 0.20.\n",
      "  \"This module will be removed in 0.20.\", DeprecationWarning)\n"
     ]
    }
   ],
   "source": [
    "import pandas as pd\n",
    "import utils\n",
    "import utils_bux\n",
    "import featuretools as ft\n",
    "from sklearn.externals import joblib"
   ]
  },
  {
   "cell_type": "markdown",
   "metadata": {},
   "source": [
    "### DEFINE PIPELINE PARAMETERS"
   ]
  },
  {
   "cell_type": "code",
   "execution_count": 2,
   "metadata": {
    "collapsed": false
   },
   "outputs": [
    {
     "name": "stdout",
     "output_type": "stream",
     "text": [
      "Pipeline parameters defined\n"
     ]
    }
   ],
   "source": [
    "load_to_vertica = False\n",
    "\n",
    "# the timeframe of extracted users\n",
    "users_from = '2016-01-01'\n",
    "# make relative\n",
    "users_till = '2017-01-01'\n",
    "cohort_size = 2000\n",
    "\n",
    "# the timeframe of extracted behavioral data\n",
    "interval = '1 week'\n",
    "\n",
    "# the type of the prediction problem\n",
    "# 'regression', 'binary classification', 'multiclass classification'\n",
    "prediction_problem_type = 'multiclass classification'\n",
    "\n",
    "# multiclass values\n",
    "medium_value = 5\n",
    "high_value = 50\n",
    "\n",
    "print(\"Pipeline parameters defined\")"
   ]
  },
  {
   "cell_type": "markdown",
   "metadata": {},
   "source": [
    "### CONNECT TO THE DATABASE"
   ]
  },
  {
   "cell_type": "code",
   "execution_count": 3,
   "metadata": {
    "collapsed": false
   },
   "outputs": [
    {
     "name": "stdout",
     "output_type": "stream",
     "text": [
      "Connected to the database\n"
     ]
    }
   ],
   "source": [
    "# connect to the vertica database, create a cursor\n",
    "cur = utils.connect_to_db()\n",
    "print(\"Connected to the database\")"
   ]
  },
  {
   "cell_type": "markdown",
   "metadata": {},
   "source": [
    "### BUILD ENTITIES"
   ]
  },
  {
   "cell_type": "markdown",
   "metadata": {},
   "source": [
    "#### Cohorts entity"
   ]
  },
  {
   "cell_type": "code",
   "execution_count": 4,
   "metadata": {
    "collapsed": false
   },
   "outputs": [
    {
     "name": "stdout",
     "output_type": "stream",
     "text": [
      "Cohorts entity built\n"
     ]
    }
   ],
   "source": [
    "cohorts = utils_bux.build_cohorts_entity(cur=cur,\n",
    "                                         users_from=users_from,\n",
    "                                         users_till=users_till)\n",
    "print(\"Cohorts entity built\")"
   ]
  },
  {
   "cell_type": "markdown",
   "metadata": {},
   "source": [
    "#### Users entity"
   ]
  },
  {
   "cell_type": "code",
   "execution_count": 5,
   "metadata": {
    "collapsed": false
   },
   "outputs": [
    {
     "name": "stdout",
     "output_type": "stream",
     "text": [
      "Users entity built\n"
     ]
    }
   ],
   "source": [
    "user_details = utils_bux.build_users_entity(cur=cur,\n",
    "                                            users_from=users_from,\n",
    "                                            users_till=users_till,\n",
    "                                            interval=interval,\n",
    "                                            cohorts=cohorts,\n",
    "                                            cohort_size=cohort_size)\n",
    "print(\"Users entity built\")"
   ]
  },
  {
   "cell_type": "code",
   "execution_count": 6,
   "metadata": {
    "collapsed": false
   },
   "outputs": [
    {
     "data": {
      "text/html": [
       "<div>\n",
       "<style>\n",
       "    .dataframe thead tr:only-child th {\n",
       "        text-align: right;\n",
       "    }\n",
       "\n",
       "    .dataframe thead th {\n",
       "        text-align: left;\n",
       "    }\n",
       "\n",
       "    .dataframe tbody tr th {\n",
       "        vertical-align: top;\n",
       "    }\n",
       "</style>\n",
       "<table border=\"1\" class=\"dataframe\">\n",
       "  <thead>\n",
       "    <tr style=\"text-align: right;\">\n",
       "      <th></th>\n",
       "      <th>user_id</th>\n",
       "      <th>country_cd</th>\n",
       "      <th>gender</th>\n",
       "      <th>nationality</th>\n",
       "      <th>platform_type_name</th>\n",
       "      <th>trading_experience</th>\n",
       "      <th>title</th>\n",
       "      <th>network</th>\n",
       "      <th>bux_account_created_dts</th>\n",
       "      <th>ams_first_funded_dts</th>\n",
       "      <th>...</th>\n",
       "      <th>Withdrawal Completed_did_event</th>\n",
       "      <th>Banner Clicked_hours_till_event</th>\n",
       "      <th>Conversion Completed_hours_till_event</th>\n",
       "      <th>Group Followed_hours_till_event</th>\n",
       "      <th>In-App Purchase Completed_hours_till_event</th>\n",
       "      <th>News Item Opened_hours_till_event</th>\n",
       "      <th>Position Closed_hours_till_event</th>\n",
       "      <th>Position Opened_hours_till_event</th>\n",
       "      <th>Product Alert Set_hours_till_event</th>\n",
       "      <th>Withdrawal Completed_hours_till_event</th>\n",
       "    </tr>\n",
       "  </thead>\n",
       "  <tbody>\n",
       "    <tr>\n",
       "      <th>0</th>\n",
       "      <td>00298260-dc97-4382-8d59-863f3cc30398</td>\n",
       "      <td>NL</td>\n",
       "      <td>None</td>\n",
       "      <td>None</td>\n",
       "      <td>iOS</td>\n",
       "      <td>NONE</td>\n",
       "      <td>Rookie Trader</td>\n",
       "      <td>Organic</td>\n",
       "      <td>2016-02-05 13:31:01.650</td>\n",
       "      <td>NaT</td>\n",
       "      <td>...</td>\n",
       "      <td>0.0</td>\n",
       "      <td>0.0</td>\n",
       "      <td>500.0</td>\n",
       "      <td>500.0</td>\n",
       "      <td>500.0</td>\n",
       "      <td>500.0</td>\n",
       "      <td>0.0</td>\n",
       "      <td>0.0</td>\n",
       "      <td>500.0</td>\n",
       "      <td>500.0</td>\n",
       "    </tr>\n",
       "    <tr>\n",
       "      <th>1</th>\n",
       "      <td>20a35c57-d631-42a2-bd5b-00aa740f97a0</td>\n",
       "      <td>NL</td>\n",
       "      <td>MALE</td>\n",
       "      <td>NL</td>\n",
       "      <td>Android</td>\n",
       "      <td>NONE</td>\n",
       "      <td>Rookie Trader</td>\n",
       "      <td>Organic</td>\n",
       "      <td>2016-02-04 15:24:31.236</td>\n",
       "      <td>2017-10-25 12:01:25</td>\n",
       "      <td>...</td>\n",
       "      <td>0.0</td>\n",
       "      <td>0.0</td>\n",
       "      <td>500.0</td>\n",
       "      <td>500.0</td>\n",
       "      <td>500.0</td>\n",
       "      <td>500.0</td>\n",
       "      <td>0.0</td>\n",
       "      <td>0.0</td>\n",
       "      <td>500.0</td>\n",
       "      <td>500.0</td>\n",
       "    </tr>\n",
       "    <tr>\n",
       "      <th>2</th>\n",
       "      <td>29f8548c-54b5-4e86-89b3-66872b6bf7f5</td>\n",
       "      <td>NL</td>\n",
       "      <td>None</td>\n",
       "      <td>None</td>\n",
       "      <td>Android</td>\n",
       "      <td>NONE</td>\n",
       "      <td>Rookie Trader</td>\n",
       "      <td>Organic</td>\n",
       "      <td>2016-02-02 15:26:07.097</td>\n",
       "      <td>NaT</td>\n",
       "      <td>...</td>\n",
       "      <td>0.0</td>\n",
       "      <td>3.0</td>\n",
       "      <td>500.0</td>\n",
       "      <td>167.0</td>\n",
       "      <td>500.0</td>\n",
       "      <td>500.0</td>\n",
       "      <td>0.0</td>\n",
       "      <td>0.0</td>\n",
       "      <td>500.0</td>\n",
       "      <td>500.0</td>\n",
       "    </tr>\n",
       "    <tr>\n",
       "      <th>3</th>\n",
       "      <td>2eadc61a-2935-4484-8de0-19f89f708719</td>\n",
       "      <td>AT</td>\n",
       "      <td>None</td>\n",
       "      <td>None</td>\n",
       "      <td>Android</td>\n",
       "      <td>NONE</td>\n",
       "      <td>Rookie Trader</td>\n",
       "      <td>Facebook Installs</td>\n",
       "      <td>2016-02-01 14:15:22.799</td>\n",
       "      <td>NaT</td>\n",
       "      <td>...</td>\n",
       "      <td>0.0</td>\n",
       "      <td>500.0</td>\n",
       "      <td>500.0</td>\n",
       "      <td>500.0</td>\n",
       "      <td>500.0</td>\n",
       "      <td>500.0</td>\n",
       "      <td>0.0</td>\n",
       "      <td>0.0</td>\n",
       "      <td>500.0</td>\n",
       "      <td>500.0</td>\n",
       "    </tr>\n",
       "    <tr>\n",
       "      <th>4</th>\n",
       "      <td>3794cc61-9526-4a5a-9eb9-c3436aa4d75e</td>\n",
       "      <td>AT</td>\n",
       "      <td>MALE</td>\n",
       "      <td>AT</td>\n",
       "      <td>Android</td>\n",
       "      <td>SOME</td>\n",
       "      <td>Experienced Trader</td>\n",
       "      <td>Organic</td>\n",
       "      <td>2016-02-07 21:14:20.903</td>\n",
       "      <td>2016-02-08 16:37:55</td>\n",
       "      <td>...</td>\n",
       "      <td>1.0</td>\n",
       "      <td>500.0</td>\n",
       "      <td>19.0</td>\n",
       "      <td>500.0</td>\n",
       "      <td>500.0</td>\n",
       "      <td>0.0</td>\n",
       "      <td>10.5</td>\n",
       "      <td>10.0</td>\n",
       "      <td>500.0</td>\n",
       "      <td>42.0</td>\n",
       "    </tr>\n",
       "  </tbody>\n",
       "</table>\n",
       "<p>5 rows × 37 columns</p>\n",
       "</div>"
      ],
      "text/plain": [
       "                                user_id country_cd gender nationality  \\\n",
       "0  00298260-dc97-4382-8d59-863f3cc30398         NL   None        None   \n",
       "1  20a35c57-d631-42a2-bd5b-00aa740f97a0         NL   MALE          NL   \n",
       "2  29f8548c-54b5-4e86-89b3-66872b6bf7f5         NL   None        None   \n",
       "3  2eadc61a-2935-4484-8de0-19f89f708719         AT   None        None   \n",
       "4  3794cc61-9526-4a5a-9eb9-c3436aa4d75e         AT   MALE          AT   \n",
       "\n",
       "  platform_type_name trading_experience               title  \\\n",
       "0                iOS               NONE       Rookie Trader   \n",
       "1            Android               NONE       Rookie Trader   \n",
       "2            Android               NONE       Rookie Trader   \n",
       "3            Android               NONE       Rookie Trader   \n",
       "4            Android               SOME  Experienced Trader   \n",
       "\n",
       "             network bux_account_created_dts ams_first_funded_dts  \\\n",
       "0            Organic 2016-02-05 13:31:01.650                  NaT   \n",
       "1            Organic 2016-02-04 15:24:31.236  2017-10-25 12:01:25   \n",
       "2            Organic 2016-02-02 15:26:07.097                  NaT   \n",
       "3  Facebook Installs 2016-02-01 14:15:22.799                  NaT   \n",
       "4            Organic 2016-02-07 21:14:20.903  2016-02-08 16:37:55   \n",
       "\n",
       "                   ...                   Withdrawal Completed_did_event  \\\n",
       "0                  ...                                              0.0   \n",
       "1                  ...                                              0.0   \n",
       "2                  ...                                              0.0   \n",
       "3                  ...                                              0.0   \n",
       "4                  ...                                              1.0   \n",
       "\n",
       "  Banner Clicked_hours_till_event Conversion Completed_hours_till_event  \\\n",
       "0                             0.0                                 500.0   \n",
       "1                             0.0                                 500.0   \n",
       "2                             3.0                                 500.0   \n",
       "3                           500.0                                 500.0   \n",
       "4                           500.0                                  19.0   \n",
       "\n",
       "   Group Followed_hours_till_event  \\\n",
       "0                            500.0   \n",
       "1                            500.0   \n",
       "2                            167.0   \n",
       "3                            500.0   \n",
       "4                            500.0   \n",
       "\n",
       "   In-App Purchase Completed_hours_till_event  \\\n",
       "0                                       500.0   \n",
       "1                                       500.0   \n",
       "2                                       500.0   \n",
       "3                                       500.0   \n",
       "4                                       500.0   \n",
       "\n",
       "   News Item Opened_hours_till_event  Position Closed_hours_till_event  \\\n",
       "0                              500.0                               0.0   \n",
       "1                              500.0                               0.0   \n",
       "2                              500.0                               0.0   \n",
       "3                              500.0                               0.0   \n",
       "4                                0.0                              10.5   \n",
       "\n",
       "   Position Opened_hours_till_event  Product Alert Set_hours_till_event  \\\n",
       "0                               0.0                               500.0   \n",
       "1                               0.0                               500.0   \n",
       "2                               0.0                               500.0   \n",
       "3                               0.0                               500.0   \n",
       "4                              10.0                               500.0   \n",
       "\n",
       "   Withdrawal Completed_hours_till_event  \n",
       "0                                  500.0  \n",
       "1                                  500.0  \n",
       "2                                  500.0  \n",
       "3                                  500.0  \n",
       "4                                   42.0  \n",
       "\n",
       "[5 rows x 37 columns]"
      ]
     },
     "execution_count": 6,
     "metadata": {},
     "output_type": "execute_result"
    }
   ],
   "source": [
    "user_details.head()"
   ]
  },
  {
   "cell_type": "markdown",
   "metadata": {},
   "source": [
    "#### Transactions entity"
   ]
  },
  {
   "cell_type": "code",
   "execution_count": null,
   "metadata": {
    "collapsed": false
   },
   "outputs": [],
   "source": [
    "daily_transactions = utils_bux.build_transactions_entity(cur=cur,\n",
    "                                                         interval=interval)\n",
    "print(\"Transactions entity built\")"
   ]
  },
  {
   "cell_type": "code",
   "execution_count": null,
   "metadata": {
    "collapsed": false
   },
   "outputs": [],
   "source": [
    "daily_transactions.head()"
   ]
  },
  {
   "cell_type": "markdown",
   "metadata": {},
   "source": [
    "#### Labels"
   ]
  },
  {
   "cell_type": "code",
   "execution_count": null,
   "metadata": {
    "collapsed": false
   },
   "outputs": [],
   "source": [
    "labels = utils_bux.build_target_values(cur=cur,\n",
    "                                       medium_value=medium_value,\n",
    "                                       high_value=high_value)\n",
    "print(\"Target values built\")"
   ]
  },
  {
   "cell_type": "code",
   "execution_count": null,
   "metadata": {
    "collapsed": false
   },
   "outputs": [],
   "source": [
    "labels.head()"
   ]
  },
  {
   "cell_type": "markdown",
   "metadata": {},
   "source": [
    "### CREATE THE ENTITY SET"
   ]
  },
  {
   "cell_type": "code",
   "execution_count": 11,
   "metadata": {
    "collapsed": false
   },
   "outputs": [
    {
     "data": {
      "text/plain": [
       "Entityset: bux_clv\n",
       "  Entities:\n",
       "    cohorts (shape = [5, 11])\n",
       "    transactions (shape = [28144, 18])\n",
       "    users (shape = [3423, 37])\n",
       "  Relationships:\n",
       "    users.cohort_id -> cohorts.cohort_id\n",
       "    transactions.user_id -> users.user_id"
      ]
     },
     "execution_count": 11,
     "metadata": {},
     "output_type": "execute_result"
    }
   ],
   "source": [
    "es = utils_bux.create_bux_entity_set(cohorts, user_details, daily_transactions)\n",
    "es"
   ]
  },
  {
   "cell_type": "markdown",
   "metadata": {},
   "source": [
    "### FEATURE ENGINEERING (DFS)"
   ]
  },
  {
   "cell_type": "code",
   "execution_count": 12,
   "metadata": {
    "collapsed": false
   },
   "outputs": [
    {
     "name": "stdout",
     "output_type": "stream",
     "text": [
      "Features built\n"
     ]
    }
   ],
   "source": [
    "top_features = ft.load_features(\"top_features\", es)\n",
    "fm = utils.calculate_feature_matrix_top_features(es, top_features)\n",
    "# X = fm.reset_index().merge(labels)\n",
    "# X.to_csv(\"production_features.csv\")\n",
    "print(\"Features built\")"
   ]
  },
  {
   "cell_type": "markdown",
   "metadata": {},
   "source": [
    "### LOADING THE MODEL"
   ]
  },
  {
   "cell_type": "code",
   "execution_count": 13,
   "metadata": {
    "collapsed": false
   },
   "outputs": [
    {
     "name": "stdout",
     "output_type": "stream",
     "text": [
      "Model loaded\n"
     ]
    }
   ],
   "source": [
    "model = joblib.load('models/model.pkl')\n",
    "print(\"Model loaded\")"
   ]
  },
  {
   "cell_type": "markdown",
   "metadata": {},
   "source": [
    "### SCORING"
   ]
  },
  {
   "cell_type": "code",
   "execution_count": 15,
   "metadata": {
    "collapsed": true
   },
   "outputs": [],
   "source": [
    "X = fm.reset_index().merge(labels)"
   ]
  },
  {
   "cell_type": "code",
   "execution_count": 16,
   "metadata": {
    "collapsed": false
   },
   "outputs": [
    {
     "name": "stdout",
     "output_type": "stream",
     "text": [
      "Prediction done\n"
     ]
    }
   ],
   "source": [
    "X, y = utils.make_labels(X, prediction_problem_type)\n",
    "X_train, X_test, y_train, y_test = utils.train_test_splitting(X, y)\n",
    "model = utils.xgboost_train(X_train, y_train, prediction_problem_type)\n",
    "y_pred = utils.xgboost_predict(model, X_test, prediction_problem_type)\n",
    "print(\"Prediction done\")"
   ]
  },
  {
   "cell_type": "markdown",
   "metadata": {},
   "source": [
    "### LOAD RESULTS INTO VERTICA"
   ]
  },
  {
   "cell_type": "code",
   "execution_count": 13,
   "metadata": {
    "collapsed": false
   },
   "outputs": [
    {
     "name": "stdout",
     "output_type": "stream",
     "text": [
      "Scoring loaded to vertica\n"
     ]
    }
   ],
   "source": [
    "print(\"Scoring loaded to vertica\")"
   ]
  }
 ],
 "metadata": {
  "anaconda-cloud": {},
  "kernelspec": {
   "display_name": "Python [default]",
   "language": "python",
   "name": "python3"
  },
  "language_info": {
   "codemirror_mode": {
    "name": "ipython",
    "version": 3
   },
   "file_extension": ".py",
   "mimetype": "text/x-python",
   "name": "python",
   "nbconvert_exporter": "python",
   "pygments_lexer": "ipython3",
   "version": "3.5.4"
  }
 },
 "nbformat": 4,
 "nbformat_minor": 1
}
