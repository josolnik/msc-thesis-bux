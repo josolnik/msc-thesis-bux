{
 "cells": [
  {
   "cell_type": "code",
   "execution_count": 1,
   "metadata": {
    "collapsed": false
   },
   "outputs": [],
   "source": [
    "# data\n",
    "import numpy as np\n",
    "import pandas as pd\n",
    "import vertica_python\n",
    "import sqlalchemy as sa\n",
    "\n",
    "# visualization\n",
    "import matplotlib.pyplot as plt \n",
    "plt.style.use(u'ggplot')\n",
    "%matplotlib inline"
   ]
  },
  {
   "cell_type": "code",
   "execution_count": 2,
   "metadata": {
    "collapsed": true
   },
   "outputs": [],
   "source": [
    "# engine_info = \"vertica+vertica_python://\" + conn_info['user'] + \":\" + conn_info['password'] + \"@\" + \"vertica.getbux.com\" + \":5433/\" + conn_info['database'] \n",
    "# engine = sa.create_engine(engine_info)\n",
    "\n",
    "\n",
    "# cur = connection.cursor()\n",
    "# cur.execute(\"SELECT * FROM TABLE\")\n",
    "# result = cur.fetchall()\n",
    "# connection.close()\n",
    "\n",
    "# from sqlalchemy.engine import url as sa_url\n",
    "# from sqlalchemy import create_engine\n",
    "# db_connect_url = sa_url.URL(\n",
    "#             drivername='vertica+pyodbc',\n",
    "#             username='josolnik',\n",
    "#             password='CXw!CHeDa@N6hGQ8',\n",
    "#             host='vertica.getbux.com',\n",
    "#             port=5433,\n",
    "#             database='buxdwh',\n",
    "# )\n",
    "# create_engine(db_connect_url)"
   ]
  },
  {
   "cell_type": "code",
   "execution_count": 140,
   "metadata": {
    "collapsed": false
   },
   "outputs": [],
   "source": [
    "conn_info = {'host': 'vertica.getbux.com',\n",
    "              'port': 5433,\n",
    "              'user': 'josolnik',\n",
    "              'password': 'CXw!CHeDa@N6hGQ8',\n",
    "              'database': 'buxdwh',\n",
    "              # 10 minutes timeout on queries\n",
    "              'read_timeout': 600,\n",
    "              # default throw error on invalid UTF-8 results\n",
    "              'unicode_error': 'strict',\n",
    "              # SSL is disabled by default\n",
    "              'ssl': False,\n",
    "              'connection_timeout': 5\n",
    "              # connection timeout is not enabled by default\n",
    "           }\n",
    "\n",
    "# simple connection, with manual close\n",
    "\n",
    "\n",
    "conn = vertica_python.connect(**conn_info)\n",
    "cur = conn.cursor('dict')"
   ]
  },
  {
   "cell_type": "code",
   "execution_count": 139,
   "metadata": {
    "collapsed": true
   },
   "outputs": [],
   "source": [
    "def sql_query(query_string): # columns):\n",
    "    cur.execute(query_string)\n",
    "    df = pd.DataFrame(cur.fetchall())\n",
    "    # df.columns = columns\n",
    "    return df"
   ]
  },
  {
   "cell_type": "markdown",
   "metadata": {},
   "source": [
    "# Queries"
   ]
  },
  {
   "cell_type": "markdown",
   "metadata": {},
   "source": [
    "### Users"
   ]
  },
  {
   "cell_type": "code",
   "execution_count": 6,
   "metadata": {
    "collapsed": false
   },
   "outputs": [],
   "source": [
    "user_columns = ['user_id', 'country_cd', 'gender', 'nationality', 'platform_type_name', 'trading_experience', 'title', 'network', 'bux_account_created_dts', 'account_type', 'ams_first_funded_dts', 'initial_deposit_amount', 'sum_deposits', 'cnt_deposits']\n",
    "\n",
    "query_users_large = \"\"\" \n",
    "\n",
    "        SELECT user_id, country_cd, gender, nationality, platform_type_name, trading_experience, title, network, bux_account_created_dts, account_type, ams_first_funded_dts, initial_deposit_amount, sum_deposits, cnt_deposits\n",
    "        FROM reporting.user_details\n",
    "        WHERE bux_account_created_dts::date BETWEEN '2016-09-30' AND '2017-09-30'\n",
    "\n",
    "        \"\"\"\n",
    "users_large = sql_query(query_users_large)\n",
    "# users.columns = user_columns"
   ]
  },
  {
   "cell_type": "code",
   "execution_count": 60,
   "metadata": {
    "collapsed": false
   },
   "outputs": [],
   "source": [
    "user_columns = ['user_id', 'country_cd', 'gender', 'nationality', 'platform_type_name', 'trading_experience', 'title', 'network', 'bux_account_created_dts', 'account_type', 'ams_first_funded_dts', 'initial_deposit_amount', 'sum_deposits', 'cnt_deposits']\n",
    "\n",
    "query_users = \"\"\" \n",
    "\n",
    "        SELECT user_id, country_cd, gender, nationality, platform_type_name, trading_experience, title, network, bux_account_created_dts, account_type, ams_first_funded_dts, initial_deposit_amount, sum_deposits, cnt_deposits\n",
    "        FROM reporting.user_details\n",
    "        WHERE bux_account_created_dts::date BETWEEN '2017-02-01' AND '2017-03-01'\n",
    "\n",
    "        \"\"\"\n",
    "users = sql_query(query_users)\n",
    "# users.columns = user_columns"
   ]
  },
  {
   "cell_type": "code",
   "execution_count": 61,
   "metadata": {
    "collapsed": false
   },
   "outputs": [
    {
     "data": {
      "text/html": [
       "<div>\n",
       "<style scoped>\n",
       "    .dataframe tbody tr th:only-of-type {\n",
       "        vertical-align: middle;\n",
       "    }\n",
       "\n",
       "    .dataframe tbody tr th {\n",
       "        vertical-align: top;\n",
       "    }\n",
       "\n",
       "    .dataframe thead th {\n",
       "        text-align: right;\n",
       "    }\n",
       "</style>\n",
       "<table border=\"1\" class=\"dataframe\">\n",
       "  <thead>\n",
       "    <tr style=\"text-align: right;\">\n",
       "      <th></th>\n",
       "      <th>user_id</th>\n",
       "      <th>country_cd</th>\n",
       "      <th>gender</th>\n",
       "      <th>nationality</th>\n",
       "      <th>platform_type_name</th>\n",
       "      <th>trading_experience</th>\n",
       "      <th>title</th>\n",
       "      <th>network</th>\n",
       "      <th>bux_account_created_dts</th>\n",
       "      <th>account_type</th>\n",
       "      <th>ams_first_funded_dts</th>\n",
       "      <th>initial_deposit_amount</th>\n",
       "      <th>sum_deposits</th>\n",
       "      <th>cnt_deposits</th>\n",
       "    </tr>\n",
       "  </thead>\n",
       "  <tbody>\n",
       "    <tr>\n",
       "      <th>0</th>\n",
       "      <td>010e236f-8ab5-4681-a146-273531d19d54</td>\n",
       "      <td>AT</td>\n",
       "      <td>None</td>\n",
       "      <td>None</td>\n",
       "      <td>Android</td>\n",
       "      <td>NONE</td>\n",
       "      <td>Rookie Trader</td>\n",
       "      <td>Organic</td>\n",
       "      <td>2017-02-01 16:33:27.777</td>\n",
       "      <td>FUN_BUX</td>\n",
       "      <td>NaT</td>\n",
       "      <td>None</td>\n",
       "      <td>None</td>\n",
       "      <td>NaN</td>\n",
       "    </tr>\n",
       "    <tr>\n",
       "      <th>1</th>\n",
       "      <td>011f6526-ab7e-4790-b289-5fa1faf69bc3</td>\n",
       "      <td>AT</td>\n",
       "      <td>None</td>\n",
       "      <td>None</td>\n",
       "      <td>Android</td>\n",
       "      <td>NONE</td>\n",
       "      <td>Rookie Trader</td>\n",
       "      <td>Viral Invites</td>\n",
       "      <td>2017-02-26 11:55:06.928</td>\n",
       "      <td>FUN_BUX</td>\n",
       "      <td>NaT</td>\n",
       "      <td>None</td>\n",
       "      <td>None</td>\n",
       "      <td>NaN</td>\n",
       "    </tr>\n",
       "    <tr>\n",
       "      <th>2</th>\n",
       "      <td>0231bd62-6733-4f8b-9c57-87f4eb9e0aa1</td>\n",
       "      <td>AT</td>\n",
       "      <td>None</td>\n",
       "      <td>None</td>\n",
       "      <td>Android</td>\n",
       "      <td>NONE</td>\n",
       "      <td>Rookie Trader</td>\n",
       "      <td>Facebook Installs</td>\n",
       "      <td>2017-02-17 23:14:11.280</td>\n",
       "      <td>FUN_BUX</td>\n",
       "      <td>NaT</td>\n",
       "      <td>None</td>\n",
       "      <td>None</td>\n",
       "      <td>NaN</td>\n",
       "    </tr>\n",
       "    <tr>\n",
       "      <th>3</th>\n",
       "      <td>028e03b9-ab6d-4ede-85f2-ce6b6e38ad47</td>\n",
       "      <td>AT</td>\n",
       "      <td>None</td>\n",
       "      <td>None</td>\n",
       "      <td>Android</td>\n",
       "      <td>NONE</td>\n",
       "      <td>Rookie Trader</td>\n",
       "      <td>Facebook Installs</td>\n",
       "      <td>2017-02-20 10:30:34.584</td>\n",
       "      <td>FUN_BUX</td>\n",
       "      <td>NaT</td>\n",
       "      <td>None</td>\n",
       "      <td>None</td>\n",
       "      <td>NaN</td>\n",
       "    </tr>\n",
       "    <tr>\n",
       "      <th>4</th>\n",
       "      <td>031eedbe-8154-4032-b9b7-157ac8131669</td>\n",
       "      <td>AT</td>\n",
       "      <td>None</td>\n",
       "      <td>None</td>\n",
       "      <td>Android</td>\n",
       "      <td>NONE</td>\n",
       "      <td>Rookie Trader</td>\n",
       "      <td>Organic</td>\n",
       "      <td>2017-02-12 12:26:43.838</td>\n",
       "      <td>FUN_BUX</td>\n",
       "      <td>NaT</td>\n",
       "      <td>None</td>\n",
       "      <td>None</td>\n",
       "      <td>NaN</td>\n",
       "    </tr>\n",
       "  </tbody>\n",
       "</table>\n",
       "</div>"
      ],
      "text/plain": [
       "                                user_id country_cd gender nationality  \\\n",
       "0  010e236f-8ab5-4681-a146-273531d19d54         AT   None        None   \n",
       "1  011f6526-ab7e-4790-b289-5fa1faf69bc3         AT   None        None   \n",
       "2  0231bd62-6733-4f8b-9c57-87f4eb9e0aa1         AT   None        None   \n",
       "3  028e03b9-ab6d-4ede-85f2-ce6b6e38ad47         AT   None        None   \n",
       "4  031eedbe-8154-4032-b9b7-157ac8131669         AT   None        None   \n",
       "\n",
       "  platform_type_name trading_experience          title            network  \\\n",
       "0            Android               NONE  Rookie Trader            Organic   \n",
       "1            Android               NONE  Rookie Trader      Viral Invites   \n",
       "2            Android               NONE  Rookie Trader  Facebook Installs   \n",
       "3            Android               NONE  Rookie Trader  Facebook Installs   \n",
       "4            Android               NONE  Rookie Trader            Organic   \n",
       "\n",
       "  bux_account_created_dts account_type ams_first_funded_dts  \\\n",
       "0 2017-02-01 16:33:27.777      FUN_BUX                  NaT   \n",
       "1 2017-02-26 11:55:06.928      FUN_BUX                  NaT   \n",
       "2 2017-02-17 23:14:11.280      FUN_BUX                  NaT   \n",
       "3 2017-02-20 10:30:34.584      FUN_BUX                  NaT   \n",
       "4 2017-02-12 12:26:43.838      FUN_BUX                  NaT   \n",
       "\n",
       "  initial_deposit_amount sum_deposits  cnt_deposits  \n",
       "0                   None         None           NaN  \n",
       "1                   None         None           NaN  \n",
       "2                   None         None           NaN  \n",
       "3                   None         None           NaN  \n",
       "4                   None         None           NaN  "
      ]
     },
     "execution_count": 61,
     "metadata": {},
     "output_type": "execute_result"
    }
   ],
   "source": [
    "users.head()"
   ]
  },
  {
   "cell_type": "code",
   "execution_count": 27,
   "metadata": {
    "collapsed": true
   },
   "outputs": [],
   "source": [
    "users.to_csv('data/users_Feb_1_30days_cohort.csv')"
   ]
  },
  {
   "cell_type": "code",
   "execution_count": null,
   "metadata": {
    "collapsed": true
   },
   "outputs": [],
   "source": [
    "users_large.to_csv(\"data/users_1y_6mCustomerValue.csv\")"
   ]
  },
  {
   "cell_type": "code",
   "execution_count": 10,
   "metadata": {
    "collapsed": false
   },
   "outputs": [
    {
     "data": {
      "text/plain": [
       "5671.78"
      ]
     },
     "execution_count": 10,
     "metadata": {},
     "output_type": "execute_result"
    }
   ],
   "source": [
    "567178 / 100"
   ]
  },
  {
   "cell_type": "code",
   "execution_count": 8,
   "metadata": {
    "collapsed": false
   },
   "outputs": [
    {
     "data": {
      "text/plain": [
       "567178"
      ]
     },
     "execution_count": 8,
     "metadata": {},
     "output_type": "execute_result"
    }
   ],
   "source": [
    "len(users_large)"
   ]
  },
  {
   "cell_type": "code",
   "execution_count": 28,
   "metadata": {
    "collapsed": false
   },
   "outputs": [
    {
     "data": {
      "text/plain": [
       "58839"
      ]
     },
     "execution_count": 28,
     "metadata": {},
     "output_type": "execute_result"
    }
   ],
   "source": [
    "len(users)"
   ]
  },
  {
   "cell_type": "markdown",
   "metadata": {},
   "source": [
    "### USERS EDA"
   ]
  },
  {
   "cell_type": "code",
   "execution_count": 29,
   "metadata": {
    "collapsed": true
   },
   "outputs": [],
   "source": [
    "def column_summary(column_name, limit=False):\n",
    "    if limit:\n",
    "        df = pd.DataFrame(users[column_name].value_counts()).sort_values(by=column_name, ascending=False)[0:limit]\n",
    "        plot = df.plot(kind='bar')\n",
    "        return plot, df"
   ]
  },
  {
   "cell_type": "code",
   "execution_count": 30,
   "metadata": {
    "collapsed": false
   },
   "outputs": [
    {
     "data": {
      "text/html": [
       "<div>\n",
       "<style scoped>\n",
       "    .dataframe tbody tr th:only-of-type {\n",
       "        vertical-align: middle;\n",
       "    }\n",
       "\n",
       "    .dataframe tbody tr th {\n",
       "        vertical-align: top;\n",
       "    }\n",
       "\n",
       "    .dataframe thead th {\n",
       "        text-align: right;\n",
       "    }\n",
       "</style>\n",
       "<table border=\"1\" class=\"dataframe\">\n",
       "  <thead>\n",
       "    <tr style=\"text-align: right;\">\n",
       "      <th></th>\n",
       "      <th>sum_deposits</th>\n",
       "    </tr>\n",
       "  </thead>\n",
       "  <tbody>\n",
       "    <tr>\n",
       "      <th>50.0000000</th>\n",
       "      <td>756</td>\n",
       "    </tr>\n",
       "    <tr>\n",
       "      <th>100.0000000</th>\n",
       "      <td>354</td>\n",
       "    </tr>\n",
       "    <tr>\n",
       "      <th>150.0000000</th>\n",
       "      <td>131</td>\n",
       "    </tr>\n",
       "    <tr>\n",
       "      <th>200.0000000</th>\n",
       "      <td>107</td>\n",
       "    </tr>\n",
       "    <tr>\n",
       "      <th>250.0000000</th>\n",
       "      <td>76</td>\n",
       "    </tr>\n",
       "    <tr>\n",
       "      <th>300.0000000</th>\n",
       "      <td>65</td>\n",
       "    </tr>\n",
       "    <tr>\n",
       "      <th>500.0000000</th>\n",
       "      <td>64</td>\n",
       "    </tr>\n",
       "    <tr>\n",
       "      <th>350.0000000</th>\n",
       "      <td>38</td>\n",
       "    </tr>\n",
       "    <tr>\n",
       "      <th>400.0000000</th>\n",
       "      <td>36</td>\n",
       "    </tr>\n",
       "    <tr>\n",
       "      <th>1000.0000000</th>\n",
       "      <td>33</td>\n",
       "    </tr>\n",
       "  </tbody>\n",
       "</table>\n",
       "</div>"
      ],
      "text/plain": [
       "              sum_deposits\n",
       "50.0000000             756\n",
       "100.0000000            354\n",
       "150.0000000            131\n",
       "200.0000000            107\n",
       "250.0000000             76\n",
       "300.0000000             65\n",
       "500.0000000             64\n",
       "350.0000000             38\n",
       "400.0000000             36\n",
       "1000.0000000            33"
      ]
     },
     "execution_count": 30,
     "metadata": {},
     "output_type": "execute_result"
    },
    {
     "data": {
      "image/png": "[encoded data removed]",
      "text/plain": [
       "<matplotlib.figure.Figure at 0x7ff090bdae80>"
      ]
     },
     "metadata": {},
     "output_type": "display_data"
    }
   ],
   "source": [
    "df, plot = column_summary('sum_deposits', 10);\n",
    "df\n",
    "plot"
   ]
  },
  {
   "cell_type": "code",
   "execution_count": 31,
   "metadata": {
    "collapsed": false
   },
   "outputs": [
    {
     "data": {
      "text/html": [
       "<div>\n",
       "<style scoped>\n",
       "    .dataframe tbody tr th:only-of-type {\n",
       "        vertical-align: middle;\n",
       "    }\n",
       "\n",
       "    .dataframe tbody tr th {\n",
       "        vertical-align: top;\n",
       "    }\n",
       "\n",
       "    .dataframe thead th {\n",
       "        text-align: right;\n",
       "    }\n",
       "</style>\n",
       "<table border=\"1\" class=\"dataframe\">\n",
       "  <thead>\n",
       "    <tr style=\"text-align: right;\">\n",
       "      <th></th>\n",
       "      <th>account_type</th>\n",
       "    </tr>\n",
       "  </thead>\n",
       "  <tbody>\n",
       "    <tr>\n",
       "      <th>FUN_BUX</th>\n",
       "      <td>57393</td>\n",
       "    </tr>\n",
       "    <tr>\n",
       "      <th>SERIOUS_BUX</th>\n",
       "      <td>1446</td>\n",
       "    </tr>\n",
       "  </tbody>\n",
       "</table>\n",
       "</div>"
      ],
      "text/plain": [
       "             account_type\n",
       "FUN_BUX             57393\n",
       "SERIOUS_BUX          1446"
      ]
     },
     "execution_count": 31,
     "metadata": {},
     "output_type": "execute_result"
    },
    {
     "data": {
      "image/png": "[encoded data removed]",
      "text/plain": [
       "<matplotlib.figure.Figure at 0x7ff087e4f6a0>"
      ]
     },
     "metadata": {},
     "output_type": "display_data"
    }
   ],
   "source": [
    "df, plot = column_summary('account_type',10)\n",
    "df\n",
    "plot"
   ]
  },
  {
   "cell_type": "code",
   "execution_count": 32,
   "metadata": {
    "collapsed": false
   },
   "outputs": [
    {
     "data": {
      "text/html": [
       "<div>\n",
       "<style scoped>\n",
       "    .dataframe tbody tr th:only-of-type {\n",
       "        vertical-align: middle;\n",
       "    }\n",
       "\n",
       "    .dataframe tbody tr th {\n",
       "        vertical-align: top;\n",
       "    }\n",
       "\n",
       "    .dataframe thead th {\n",
       "        text-align: right;\n",
       "    }\n",
       "</style>\n",
       "<table border=\"1\" class=\"dataframe\">\n",
       "  <thead>\n",
       "    <tr style=\"text-align: right;\">\n",
       "      <th></th>\n",
       "      <th>network</th>\n",
       "    </tr>\n",
       "  </thead>\n",
       "  <tbody>\n",
       "    <tr>\n",
       "      <th>Facebook Installs</th>\n",
       "      <td>15845</td>\n",
       "    </tr>\n",
       "    <tr>\n",
       "      <th>Organic</th>\n",
       "      <td>12553</td>\n",
       "    </tr>\n",
       "    <tr>\n",
       "      <th>TV</th>\n",
       "      <td>12314</td>\n",
       "    </tr>\n",
       "    <tr>\n",
       "      <th>Viral Invites</th>\n",
       "      <td>10037</td>\n",
       "    </tr>\n",
       "    <tr>\n",
       "      <th>Instagram Installs</th>\n",
       "      <td>1913</td>\n",
       "    </tr>\n",
       "    <tr>\n",
       "      <th>Appnext</th>\n",
       "      <td>1680</td>\n",
       "    </tr>\n",
       "    <tr>\n",
       "      <th>Google Adwords Search</th>\n",
       "      <td>1135</td>\n",
       "    </tr>\n",
       "    <tr>\n",
       "      <th>BUX Website</th>\n",
       "      <td>817</td>\n",
       "    </tr>\n",
       "    <tr>\n",
       "      <th>AdColony</th>\n",
       "      <td>555</td>\n",
       "    </tr>\n",
       "    <tr>\n",
       "      <th>Ligatus</th>\n",
       "      <td>435</td>\n",
       "    </tr>\n",
       "  </tbody>\n",
       "</table>\n",
       "</div>"
      ],
      "text/plain": [
       "                       network\n",
       "Facebook Installs        15845\n",
       "Organic                  12553\n",
       "TV                       12314\n",
       "Viral Invites            10037\n",
       "Instagram Installs        1913\n",
       "Appnext                   1680\n",
       "Google Adwords Search     1135\n",
       "BUX Website                817\n",
       "AdColony                   555\n",
       "Ligatus                    435"
      ]
     },
     "execution_count": 32,
     "metadata": {},
     "output_type": "execute_result"
    },
    {
     "data": {
      "image/png": "[encoded data removed]",
      "text/plain": [
       "<matplotlib.figure.Figure at 0x7ff0878c22e8>"
      ]
     },
     "metadata": {},
     "output_type": "display_data"
    }
   ],
   "source": [
    "df, plot = column_summary('network',10)\n",
    "df\n",
    "plot"
   ]
  },
  {
   "cell_type": "code",
   "execution_count": 33,
   "metadata": {
    "collapsed": false
   },
   "outputs": [
    {
     "data": {
      "text/html": [
       "<div>\n",
       "<style scoped>\n",
       "    .dataframe tbody tr th:only-of-type {\n",
       "        vertical-align: middle;\n",
       "    }\n",
       "\n",
       "    .dataframe tbody tr th {\n",
       "        vertical-align: top;\n",
       "    }\n",
       "\n",
       "    .dataframe thead th {\n",
       "        text-align: right;\n",
       "    }\n",
       "</style>\n",
       "<table border=\"1\" class=\"dataframe\">\n",
       "  <thead>\n",
       "    <tr style=\"text-align: right;\">\n",
       "      <th></th>\n",
       "      <th>trading_experience</th>\n",
       "    </tr>\n",
       "  </thead>\n",
       "  <tbody>\n",
       "    <tr>\n",
       "      <th>NONE</th>\n",
       "      <td>45581</td>\n",
       "    </tr>\n",
       "    <tr>\n",
       "      <th>SOME</th>\n",
       "      <td>13254</td>\n",
       "    </tr>\n",
       "    <tr>\n",
       "      <th>EXPERT</th>\n",
       "      <td>4</td>\n",
       "    </tr>\n",
       "  </tbody>\n",
       "</table>\n",
       "</div>"
      ],
      "text/plain": [
       "        trading_experience\n",
       "NONE                 45581\n",
       "SOME                 13254\n",
       "EXPERT                   4"
      ]
     },
     "execution_count": 33,
     "metadata": {},
     "output_type": "execute_result"
    },
    {
     "data": {
      "image/png": "[encoded data removed]",
      "text/plain": [
       "<matplotlib.figure.Figure at 0x7ff087e7f1d0>"
      ]
     },
     "metadata": {},
     "output_type": "display_data"
    }
   ],
   "source": [
    "df, plot = column_summary('trading_experience',10)\n",
    "df\n",
    "plot"
   ]
  },
  {
   "cell_type": "code",
   "execution_count": 34,
   "metadata": {
    "collapsed": false
   },
   "outputs": [
    {
     "data": {
      "text/html": [
       "<div>\n",
       "<style scoped>\n",
       "    .dataframe tbody tr th:only-of-type {\n",
       "        vertical-align: middle;\n",
       "    }\n",
       "\n",
       "    .dataframe tbody tr th {\n",
       "        vertical-align: top;\n",
       "    }\n",
       "\n",
       "    .dataframe thead th {\n",
       "        text-align: right;\n",
       "    }\n",
       "</style>\n",
       "<table border=\"1\" class=\"dataframe\">\n",
       "  <thead>\n",
       "    <tr style=\"text-align: right;\">\n",
       "      <th></th>\n",
       "      <th>gender</th>\n",
       "    </tr>\n",
       "  </thead>\n",
       "  <tbody>\n",
       "    <tr>\n",
       "      <th>MALE</th>\n",
       "      <td>7040</td>\n",
       "    </tr>\n",
       "    <tr>\n",
       "      <th>FEMALE</th>\n",
       "      <td>402</td>\n",
       "    </tr>\n",
       "  </tbody>\n",
       "</table>\n",
       "</div>"
      ],
      "text/plain": [
       "        gender\n",
       "MALE      7040\n",
       "FEMALE     402"
      ]
     },
     "execution_count": 34,
     "metadata": {},
     "output_type": "execute_result"
    },
    {
     "data": {
      "image/png": "[encoded data removed]",
      "text/plain": [
       "<matplotlib.figure.Figure at 0x7ff087e895f8>"
      ]
     },
     "metadata": {},
     "output_type": "display_data"
    }
   ],
   "source": [
    "df, plot = column_summary('gender',10)\n",
    "df\n",
    "plot"
   ]
  },
  {
   "cell_type": "markdown",
   "metadata": {},
   "source": [
    "### Transactions (cube_daily_user)"
   ]
  },
  {
   "cell_type": "markdown",
   "metadata": {},
   "source": [
    "Daily transaction aggragation of user transactions"
   ]
  },
  {
   "cell_type": "code",
   "execution_count": 35,
   "metadata": {
    "collapsed": true
   },
   "outputs": [],
   "source": [
    "user_ids = tuple(users['user_id'].unique())"
   ]
  },
  {
   "cell_type": "code",
   "execution_count": 36,
   "metadata": {
    "collapsed": false
   },
   "outputs": [
    {
     "data": {
      "text/plain": [
       "('031b0f17-9a45-4b1b-b7b4-027802ffad95',\n",
       " '010e236f-8ab5-4681-a146-273531d19d54',\n",
       " '011f6526-ab7e-4790-b289-5fa1faf69bc3',\n",
       " '0231bd62-6733-4f8b-9c57-87f4eb9e0aa1',\n",
       " '028e03b9-ab6d-4ede-85f2-ce6b6e38ad47')"
      ]
     },
     "execution_count": 36,
     "metadata": {},
     "output_type": "execute_result"
    }
   ],
   "source": [
    "sample_user_ids = tuple(users[:5]['user_id'])\n",
    "# str(sample_user_ids)\n",
    "sample_user_ids"
   ]
  },
  {
   "cell_type": "code",
   "execution_count": 37,
   "metadata": {
    "collapsed": false
   },
   "outputs": [
    {
     "data": {
      "text/plain": [
       "'a.user_id, a.day_of_year, a.date, a.number_of_sessions, a.total_session_duration, a.account_status, a.trades_fb_commodities_open, a.trades_fb_commodities_profit, a.social_status_battles, a.social_status, a.conversion_to_sb'"
      ]
     },
     "execution_count": 37,
     "metadata": {},
     "output_type": "execute_result"
    }
   ],
   "source": [
    "daily_cube_columns = ['user_id', 'day_of_year', 'date', 'number_of_sessions', 'total_session_duration', 'account_status', 'trades_fb_commodities_open', 'trades_fb_commodities_profit', 'social_status_battles', 'social_status', 'conversion_to_sb']\n",
    "daily_cube_columns = str(tuple([\"a.\" + column for column in daily_cube_columns]))\n",
    "daily_cube_columns = daily_cube_columns.replace('(', '').replace(')','').replace(\"'\", \"\")\n",
    "daily_cube_columns"
   ]
  },
  {
   "cell_type": "markdown",
   "metadata": {},
   "source": [
    "## Query on all users"
   ]
  },
  {
   "cell_type": "code",
   "execution_count": 38,
   "metadata": {
    "collapsed": false
   },
   "outputs": [
    {
     "data": {
      "text/plain": [
       "58839"
      ]
     },
     "execution_count": 38,
     "metadata": {},
     "output_type": "execute_result"
    }
   ],
   "source": [
    "len(users)"
   ]
  },
  {
   "cell_type": "code",
   "execution_count": 39,
   "metadata": {
    "collapsed": false
   },
   "outputs": [
    {
     "data": {
      "text/plain": [
       "'a.user_id, a.day_of_year, a.date, a.number_of_sessions, a.total_session_duration, a.account_status, a.trades_fb_commodities_open, a.trades_fb_commodities_profit, a.social_status_battles, a.social_status, a.conversion_to_sb'"
      ]
     },
     "execution_count": 39,
     "metadata": {},
     "output_type": "execute_result"
    }
   ],
   "source": [
    "daily_cube_columns"
   ]
  },
  {
   "cell_type": "code",
   "execution_count": 11,
   "metadata": {
    "collapsed": false
   },
   "outputs": [],
   "source": [
    "# query_transactions = \"\"\"\n",
    "\n",
    "#     SELECT a.user_id, a.day_of_year, a.date, a.number_of_sessions, a.total_session_duration, a.account_status, a.trades_fb_commodities_open, a.trades_fb_commodities_profit, a.social_status_battles, a.social_status, a.conversion_to_sb\n",
    "#     FROM reporting.cube_daily_user a \n",
    "#     JOIN reporting.user_details b on b.user_id = a.user_id\n",
    "#     WHERE b.bux_account_created_dts::date  between '2017-02-01' and '2017-03-01'\n",
    "#     AND a.date between b.bux_account_created_dts::date and b.bux_account_created_dts::date + interval '3 weeks'\n",
    "    \n",
    "\n",
    "# \"\"\"\n",
    "# query_transactions"
   ]
  },
  {
   "cell_type": "code",
   "execution_count": null,
   "metadata": {
    "collapsed": true
   },
   "outputs": [],
   "source": [
    "BETWEEN '2016-10-01' AND '2017-09-30'"
   ]
  },
  {
   "cell_type": "code",
   "execution_count": 76,
   "metadata": {
    "collapsed": false
   },
   "outputs": [
    {
     "name": "stdout",
     "output_type": "stream",
     "text": [
      "CPU times: user 3min 30s, sys: 19.7 s, total: 3min 49s\n",
      "Wall time: 3min 57s\n"
     ]
    }
   ],
   "source": [
    "%%time\n",
    "\n",
    "query_transactions_large_1 = \"\"\"\n",
    "\n",
    "    SELECT a.user_id, a.day_of_year, a.date, a.number_of_sessions, a.total_session_duration, a.account_status, a.trades_fb_commodities_open, a.trades_fb_commodities_profit, a.social_status_battles, a.social_status, a.conversion_to_sb\n",
    "    FROM reporting.cube_daily_user a \n",
    "    JOIN reporting.user_details b on b.user_id = a.user_id\n",
    "    WHERE b.bux_account_created_dts::date  BETWEEN '2016-10-01' AND '2016-12-31'\n",
    "    AND a.date between b.bux_account_created_dts::date and b.bux_account_created_dts::date + interval '3 weeks'\n",
    "    \n",
    "\n",
    "\"\"\"\n",
    "\n",
    "cube_daily_user_large_1 = sql_query(query_transactions_large_1)\n",
    "cube_daily_user_large_1.head()"
   ]
  },
  {
   "cell_type": "code",
   "execution_count": 77,
   "metadata": {
    "collapsed": false
   },
   "outputs": [
    {
     "name": "stdout",
     "output_type": "stream",
     "text": [
      "CPU times: user 4min 41s, sys: 22.4 s, total: 5min 4s\n",
      "Wall time: 5min 29s\n"
     ]
    }
   ],
   "source": [
    "%%time\n",
    "\n",
    "query_transactions_large_2 = \"\"\"\n",
    "\n",
    "    SELECT a.user_id, a.day_of_year, a.date, a.number_of_sessions, a.total_session_duration, a.account_status, a.trades_fb_commodities_open, a.trades_fb_commodities_profit, a.social_status_battles, a.social_status, a.conversion_to_sb\n",
    "    FROM reporting.cube_daily_user a \n",
    "    JOIN reporting.user_details b on b.user_id = a.user_id\n",
    "    WHERE b.bux_account_created_dts::date  BETWEEN '2017-01-01' AND '2017-03-31'\n",
    "    AND a.date between b.bux_account_created_dts::date and b.bux_account_created_dts::date + interval '3 weeks'\n",
    "    \n",
    "\n",
    "\"\"\"\n",
    "\n",
    "cube_daily_user_large_2 = sql_query(query_transactions_large_2)\n",
    "cube_daily_user_large_2.head()"
   ]
  },
  {
   "cell_type": "code",
   "execution_count": 78,
   "metadata": {
    "collapsed": false
   },
   "outputs": [
    {
     "name": "stdout",
     "output_type": "stream",
     "text": [
      "CPU times: user 3min 14s, sys: 13.7 s, total: 3min 27s\n",
      "Wall time: 3min 38s\n"
     ]
    }
   ],
   "source": [
    "%%time\n",
    "\n",
    "query_transactions_large_3 = \"\"\"\n",
    "\n",
    "    SELECT a.user_id, a.day_of_year, a.date, a.number_of_sessions, a.total_session_duration, a.account_status, a.trades_fb_commodities_open, a.trades_fb_commodities_profit, a.social_status_battles, a.social_status, a.conversion_to_sb\n",
    "    FROM reporting.cube_daily_user a \n",
    "    JOIN reporting.user_details b on b.user_id = a.user_id\n",
    "    WHERE b.bux_account_created_dts::date  BETWEEN '2017-04-01' AND '2017-06-30'\n",
    "    AND a.date between b.bux_account_created_dts::date and b.bux_account_created_dts::date + interval '3 weeks'\n",
    "    \n",
    "\n",
    "\"\"\"\n",
    "\n",
    "cube_daily_user_large_3 = sql_query(query_transactions_large_3)\n",
    "cube_daily_user_large_3.head()"
   ]
  },
  {
   "cell_type": "code",
   "execution_count": 79,
   "metadata": {
    "collapsed": false
   },
   "outputs": [
    {
     "name": "stdout",
     "output_type": "stream",
     "text": [
      "CPU times: user 3min 36s, sys: 15.3 s, total: 3min 51s\n",
      "Wall time: 3min 57s\n"
     ]
    }
   ],
   "source": [
    "%%time\n",
    "\n",
    "query_transactions_large_4 = \"\"\"\n",
    "\n",
    "    SELECT a.user_id, a.day_of_year, a.date, a.number_of_sessions, a.total_session_duration, a.account_status, a.trades_fb_commodities_open, a.trades_fb_commodities_profit, a.social_status_battles, a.social_status, a.conversion_to_sb\n",
    "    FROM reporting.cube_daily_user a \n",
    "    JOIN reporting.user_details b on b.user_id = a.user_id\n",
    "    WHERE b.bux_account_created_dts::date  BETWEEN '2017-07-01' AND '2017-09-30'\n",
    "    AND a.date between b.bux_account_created_dts::date and b.bux_account_created_dts::date + interval '3 weeks'\n",
    "    \n",
    "\n",
    "\"\"\"\n",
    "\n",
    "cube_daily_user_large_4 = sql_query(query_transactions_large_4)\n",
    "cube_daily_user_large_4.head()"
   ]
  },
  {
   "cell_type": "code",
   "execution_count": 91,
   "metadata": {
    "collapsed": false,
    "scrolled": true
   },
   "outputs": [
    {
     "data": {
      "text/plain": [
       "\"\\n\\n    SELECT a.user_id, a.day_of_year, a.date, a.number_of_sessions, a.total_session_duration, a.account_status, a.trades_fb_commodities_open, a.trades_fb_commodities_profit, a.social_status_battles, a.social_status, a.conversion_to_sb\\n    FROM reporting.cube_daily_user a \\n    JOIN reporting.user_details b on b.user_id = a.user_id\\n    WHERE b.bux_account_created_dts::date  BETWEEN '2016-10-01' AND '2016-12-31'\\n    AND a.date between b.bux_account_created_dts::date and b.bux_account_created_dts::date + interval '3 weeks'\\n    \\n\\n\""
      ]
     },
     "execution_count": 91,
     "metadata": {},
     "output_type": "execute_result"
    }
   ],
   "source": [
    "query_transactions_large_1"
   ]
  },
  {
   "cell_type": "code",
   "execution_count": 92,
   "metadata": {
    "collapsed": false
   },
   "outputs": [],
   "source": [
    "cube_daily_user_large = cube_daily_user_large_1.append(cube_daily_user_large_2).append(cube_daily_user_large_3).append(cube_daily_user_large_4)"
   ]
  },
  {
   "cell_type": "code",
   "execution_count": 93,
   "metadata": {
    "collapsed": false
   },
   "outputs": [
    {
     "data": {
      "text/plain": [
       "3332705"
      ]
     },
     "execution_count": 93,
     "metadata": {},
     "output_type": "execute_result"
    }
   ],
   "source": [
    "len(cube_daily_user_large)"
   ]
  },
  {
   "cell_type": "code",
   "execution_count": 94,
   "metadata": {
    "collapsed": true
   },
   "outputs": [],
   "source": [
    "cube_daily_user_large.to_csv(\"data/cube_1y_6mCustomerValue.csv\")"
   ]
  },
  {
   "cell_type": "code",
   "execution_count": 41,
   "metadata": {
    "collapsed": false,
    "scrolled": false
   },
   "outputs": [
    {
     "data": {
      "text/html": [
       "<div>\n",
       "<style scoped>\n",
       "    .dataframe tbody tr th:only-of-type {\n",
       "        vertical-align: middle;\n",
       "    }\n",
       "\n",
       "    .dataframe tbody tr th {\n",
       "        vertical-align: top;\n",
       "    }\n",
       "\n",
       "    .dataframe thead th {\n",
       "        text-align: right;\n",
       "    }\n",
       "</style>\n",
       "<table border=\"1\" class=\"dataframe\">\n",
       "  <thead>\n",
       "    <tr style=\"text-align: right;\">\n",
       "      <th></th>\n",
       "      <th>user_id</th>\n",
       "      <th>day_of_year</th>\n",
       "      <th>date</th>\n",
       "      <th>number_of_sessions</th>\n",
       "      <th>total_session_duration</th>\n",
       "      <th>account_status</th>\n",
       "      <th>trades_fb_commodities_open</th>\n",
       "      <th>trades_fb_commodities_profit</th>\n",
       "      <th>social_status_battles</th>\n",
       "      <th>social_status</th>\n",
       "      <th>conversion_to_sb</th>\n",
       "    </tr>\n",
       "  </thead>\n",
       "  <tbody>\n",
       "    <tr>\n",
       "      <th>0</th>\n",
       "      <td>000c5e5d-4e25-412d-951b-31167045eb95</td>\n",
       "      <td>60</td>\n",
       "      <td>2017-03-01</td>\n",
       "      <td>0</td>\n",
       "      <td>0</td>\n",
       "      <td>FUN_BUX</td>\n",
       "      <td>0</td>\n",
       "      <td>0.00</td>\n",
       "      <td>0</td>\n",
       "      <td>Following</td>\n",
       "      <td>0</td>\n",
       "    </tr>\n",
       "    <tr>\n",
       "      <th>1</th>\n",
       "      <td>000c5e5d-4e25-412d-951b-31167045eb95</td>\n",
       "      <td>61</td>\n",
       "      <td>2017-03-02</td>\n",
       "      <td>0</td>\n",
       "      <td>0</td>\n",
       "      <td>FUN_BUX</td>\n",
       "      <td>0</td>\n",
       "      <td>0.00</td>\n",
       "      <td>0</td>\n",
       "      <td>Following</td>\n",
       "      <td>0</td>\n",
       "    </tr>\n",
       "    <tr>\n",
       "      <th>2</th>\n",
       "      <td>000c5e5d-4e25-412d-951b-31167045eb95</td>\n",
       "      <td>62</td>\n",
       "      <td>2017-03-03</td>\n",
       "      <td>0</td>\n",
       "      <td>0</td>\n",
       "      <td>FUN_BUX</td>\n",
       "      <td>0</td>\n",
       "      <td>0.00</td>\n",
       "      <td>0</td>\n",
       "      <td>Following</td>\n",
       "      <td>0</td>\n",
       "    </tr>\n",
       "    <tr>\n",
       "      <th>3</th>\n",
       "      <td>000c5e5d-4e25-412d-951b-31167045eb95</td>\n",
       "      <td>65</td>\n",
       "      <td>2017-03-06</td>\n",
       "      <td>0</td>\n",
       "      <td>0</td>\n",
       "      <td>FUN_BUX</td>\n",
       "      <td>0</td>\n",
       "      <td>0.00</td>\n",
       "      <td>0</td>\n",
       "      <td>Following</td>\n",
       "      <td>0</td>\n",
       "    </tr>\n",
       "    <tr>\n",
       "      <th>4</th>\n",
       "      <td>000c5e5d-4e25-412d-951b-31167045eb95</td>\n",
       "      <td>66</td>\n",
       "      <td>2017-03-07</td>\n",
       "      <td>0</td>\n",
       "      <td>0</td>\n",
       "      <td>FUN_BUX</td>\n",
       "      <td>0</td>\n",
       "      <td>0.00</td>\n",
       "      <td>0</td>\n",
       "      <td>Following</td>\n",
       "      <td>0</td>\n",
       "    </tr>\n",
       "  </tbody>\n",
       "</table>\n",
       "</div>"
      ],
      "text/plain": [
       "                                user_id  day_of_year        date  \\\n",
       "0  000c5e5d-4e25-412d-951b-31167045eb95           60  2017-03-01   \n",
       "1  000c5e5d-4e25-412d-951b-31167045eb95           61  2017-03-02   \n",
       "2  000c5e5d-4e25-412d-951b-31167045eb95           62  2017-03-03   \n",
       "3  000c5e5d-4e25-412d-951b-31167045eb95           65  2017-03-06   \n",
       "4  000c5e5d-4e25-412d-951b-31167045eb95           66  2017-03-07   \n",
       "\n",
       "   number_of_sessions  total_session_duration account_status  \\\n",
       "0                   0                       0        FUN_BUX   \n",
       "1                   0                       0        FUN_BUX   \n",
       "2                   0                       0        FUN_BUX   \n",
       "3                   0                       0        FUN_BUX   \n",
       "4                   0                       0        FUN_BUX   \n",
       "\n",
       "   trades_fb_commodities_open trades_fb_commodities_profit  \\\n",
       "0                           0                         0.00   \n",
       "1                           0                         0.00   \n",
       "2                           0                         0.00   \n",
       "3                           0                         0.00   \n",
       "4                           0                         0.00   \n",
       "\n",
       "   social_status_battles social_status  conversion_to_sb  \n",
       "0                      0     Following                 0  \n",
       "1                      0     Following                 0  \n",
       "2                      0     Following                 0  \n",
       "3                      0     Following                 0  \n",
       "4                      0     Following                 0  "
      ]
     },
     "execution_count": 41,
     "metadata": {},
     "output_type": "execute_result"
    }
   ],
   "source": [
    "# conn = vertica_python.connect(**conn_info)\n",
    "# cur = conn.cursor('dict')\n",
    "# cur.execute(query_transactions)\n",
    "# cube_daily_user = pd.DataFrame(cur.fetchall())\n",
    "# cube_daily_user.head()"
   ]
  },
  {
   "cell_type": "code",
   "execution_count": 46,
   "metadata": {
    "collapsed": false
   },
   "outputs": [
    {
     "data": {
      "text/plain": [
       "58045"
      ]
     },
     "execution_count": 46,
     "metadata": {},
     "output_type": "execute_result"
    }
   ],
   "source": [
    "len(cube_daily_user['user_id'].unique())"
   ]
  },
  {
   "cell_type": "code",
   "execution_count": 47,
   "metadata": {
    "collapsed": false
   },
   "outputs": [
    {
     "data": {
      "text/plain": [
       "370117"
      ]
     },
     "execution_count": 47,
     "metadata": {},
     "output_type": "execute_result"
    }
   ],
   "source": [
    "len(cube_daily_user)"
   ]
  },
  {
   "cell_type": "code",
   "execution_count": 48,
   "metadata": {
    "collapsed": false
   },
   "outputs": [
    {
     "data": {
      "text/plain": [
       "58045"
      ]
     },
     "execution_count": 48,
     "metadata": {},
     "output_type": "execute_result"
    }
   ],
   "source": [
    "len(cube_daily_user['user_id'].unique())"
   ]
  },
  {
   "cell_type": "code",
   "execution_count": 49,
   "metadata": {
    "collapsed": true
   },
   "outputs": [],
   "source": [
    "cube_daily_user.to_csv('data/cube_daily_user_Feb_1_30days_cohort.csv')"
   ]
  },
  {
   "cell_type": "code",
   "execution_count": 521,
   "metadata": {
    "collapsed": false
   },
   "outputs": [
    {
     "data": {
      "text/plain": [
       "0                          user_id\n",
       "1                      day_of_year\n",
       "2                             date\n",
       "3               number_of_sessions\n",
       "4           total_session_duration\n",
       "5                   account_status\n",
       "6       trades_fb_commodities_open\n",
       "7     trades_fb_commodities_profit\n",
       "8            social_status_battles\n",
       "9                    social_status\n",
       "10                conversion_to_sb\n",
       "dtype: object"
      ]
     },
     "execution_count": 521,
     "metadata": {},
     "output_type": "execute_result"
    }
   ],
   "source": [
    "pd.Series(cube_daily_user.columns)"
   ]
  },
  {
   "cell_type": "code",
   "execution_count": 523,
   "metadata": {
    "collapsed": false
   },
   "outputs": [
    {
     "data": {
      "text/html": [
       "<div>\n",
       "<style scoped>\n",
       "    .dataframe tbody tr th:only-of-type {\n",
       "        vertical-align: middle;\n",
       "    }\n",
       "\n",
       "    .dataframe tbody tr th {\n",
       "        vertical-align: top;\n",
       "    }\n",
       "\n",
       "    .dataframe thead th {\n",
       "        text-align: right;\n",
       "    }\n",
       "</style>\n",
       "<table border=\"1\" class=\"dataframe\">\n",
       "  <thead>\n",
       "    <tr style=\"text-align: right;\">\n",
       "      <th></th>\n",
       "      <th>number_of_sessions</th>\n",
       "      <th>total_session_duration</th>\n",
       "      <th>trades_fb_commodities_open</th>\n",
       "    </tr>\n",
       "    <tr>\n",
       "      <th>user_id</th>\n",
       "      <th></th>\n",
       "      <th></th>\n",
       "      <th></th>\n",
       "    </tr>\n",
       "  </thead>\n",
       "  <tbody>\n",
       "    <tr>\n",
       "      <th>0001a0b6-fe20-47d2-a9f9-dde0af2ee132</th>\n",
       "      <td>1.0</td>\n",
       "      <td>661.0</td>\n",
       "      <td>0.0</td>\n",
       "    </tr>\n",
       "    <tr>\n",
       "      <th>00028e09-fcff-4368-9409-e9419efec176</th>\n",
       "      <td>2.0</td>\n",
       "      <td>256.0</td>\n",
       "      <td>0.0</td>\n",
       "    </tr>\n",
       "    <tr>\n",
       "      <th>0008181d-5863-4378-ba9a-00206346827b</th>\n",
       "      <td>3.0</td>\n",
       "      <td>8391.0</td>\n",
       "      <td>0.0</td>\n",
       "    </tr>\n",
       "    <tr>\n",
       "      <th>000a8509-5100-4f81-9487-85b71f77e2a6</th>\n",
       "      <td>1.2</td>\n",
       "      <td>1658.4</td>\n",
       "      <td>0.0</td>\n",
       "    </tr>\n",
       "    <tr>\n",
       "      <th>000ce685-75a4-4490-81a0-2efb786f8c87</th>\n",
       "      <td>2.0</td>\n",
       "      <td>297.5</td>\n",
       "      <td>0.0</td>\n",
       "    </tr>\n",
       "  </tbody>\n",
       "</table>\n",
       "</div>"
      ],
      "text/plain": [
       "                                      number_of_sessions  \\\n",
       "user_id                                                    \n",
       "0001a0b6-fe20-47d2-a9f9-dde0af2ee132                 1.0   \n",
       "00028e09-fcff-4368-9409-e9419efec176                 2.0   \n",
       "0008181d-5863-4378-ba9a-00206346827b                 3.0   \n",
       "000a8509-5100-4f81-9487-85b71f77e2a6                 1.2   \n",
       "000ce685-75a4-4490-81a0-2efb786f8c87                 2.0   \n",
       "\n",
       "                                      total_session_duration  \\\n",
       "user_id                                                        \n",
       "0001a0b6-fe20-47d2-a9f9-dde0af2ee132                   661.0   \n",
       "00028e09-fcff-4368-9409-e9419efec176                   256.0   \n",
       "0008181d-5863-4378-ba9a-00206346827b                  8391.0   \n",
       "000a8509-5100-4f81-9487-85b71f77e2a6                  1658.4   \n",
       "000ce685-75a4-4490-81a0-2efb786f8c87                   297.5   \n",
       "\n",
       "                                      trades_fb_commodities_open  \n",
       "user_id                                                           \n",
       "0001a0b6-fe20-47d2-a9f9-dde0af2ee132                         0.0  \n",
       "00028e09-fcff-4368-9409-e9419efec176                         0.0  \n",
       "0008181d-5863-4378-ba9a-00206346827b                         0.0  \n",
       "000a8509-5100-4f81-9487-85b71f77e2a6                         0.0  \n",
       "000ce685-75a4-4490-81a0-2efb786f8c87                         0.0  "
      ]
     },
     "execution_count": 523,
     "metadata": {},
     "output_type": "execute_result"
    }
   ],
   "source": [
    "cube_daily_user.groupby('user_id')['number_of_sessions', 'total_session_duration', 'trades_fb_commodities_open'].mean()[0:5]"
   ]
  },
  {
   "cell_type": "markdown",
   "metadata": {},
   "source": [
    "## Current customer value (CurCV)"
   ]
  },
  {
   "cell_type": "code",
   "execution_count": 141,
   "metadata": {
    "collapsed": false
   },
   "outputs": [
    {
     "data": {
      "text/html": [
       "<div>\n",
       "<style>\n",
       "    .dataframe thead tr:only-child th {\n",
       "        text-align: right;\n",
       "    }\n",
       "\n",
       "    .dataframe thead th {\n",
       "        text-align: left;\n",
       "    }\n",
       "\n",
       "    .dataframe tbody tr th {\n",
       "        vertical-align: top;\n",
       "    }\n",
       "</style>\n",
       "<table border=\"1\" class=\"dataframe\">\n",
       "  <thead>\n",
       "    <tr style=\"text-align: right;\">\n",
       "      <th></th>\n",
       "      <th>user_id</th>\n",
       "      <th>com</th>\n",
       "      <th>div</th>\n",
       "      <th>ff</th>\n",
       "    </tr>\n",
       "  </thead>\n",
       "  <tbody>\n",
       "    <tr>\n",
       "      <th>0</th>\n",
       "      <td>3e675443-9762-4137-b92e-3cbcea38e44a</td>\n",
       "      <td>None</td>\n",
       "      <td>None</td>\n",
       "      <td>None</td>\n",
       "    </tr>\n",
       "    <tr>\n",
       "      <th>1</th>\n",
       "      <td>0de77d85-f73d-4798-90e2-7bc4de4f74dd</td>\n",
       "      <td>None</td>\n",
       "      <td>None</td>\n",
       "      <td>None</td>\n",
       "    </tr>\n",
       "    <tr>\n",
       "      <th>2</th>\n",
       "      <td>6f40a1bf-1d49-4d6a-8c6f-683526189f9e</td>\n",
       "      <td>None</td>\n",
       "      <td>None</td>\n",
       "      <td>None</td>\n",
       "    </tr>\n",
       "    <tr>\n",
       "      <th>3</th>\n",
       "      <td>20544428-b6fa-46be-9b82-25d064e3650f</td>\n",
       "      <td>None</td>\n",
       "      <td>None</td>\n",
       "      <td>None</td>\n",
       "    </tr>\n",
       "    <tr>\n",
       "      <th>4</th>\n",
       "      <td>076e3239-a377-4cbb-81ed-8f16a3197a5d</td>\n",
       "      <td>None</td>\n",
       "      <td>None</td>\n",
       "      <td>None</td>\n",
       "    </tr>\n",
       "  </tbody>\n",
       "</table>\n",
       "</div>"
      ],
      "text/plain": [
       "                                user_id   com   div    ff\n",
       "0  3e675443-9762-4137-b92e-3cbcea38e44a  None  None  None\n",
       "1  0de77d85-f73d-4798-90e2-7bc4de4f74dd  None  None  None\n",
       "2  6f40a1bf-1d49-4d6a-8c6f-683526189f9e  None  None  None\n",
       "3  20544428-b6fa-46be-9b82-25d064e3650f  None  None  None\n",
       "4  076e3239-a377-4cbb-81ed-8f16a3197a5d  None  None  None"
      ]
     },
     "execution_count": 141,
     "metadata": {},
     "output_type": "execute_result"
    }
   ],
   "source": [
    "query_curcv_feb17 = \"\"\" \n",
    "\n",
    "        SELECT a.user_id, sum(b.commission) as com, sum(b.dividend) as div, sum(b.financing_fee) as ff\n",
    "        FROM (\n",
    "        \n",
    "        SELECT user_id\n",
    "        FROM reporting.user_details\n",
    "        WHERE bux_account_created_dts::date BETWEEN '2017-02-01' AND '2017-03-01') a\n",
    "        \n",
    "\n",
    "        LEFT JOIN (\n",
    "        \n",
    "        \n",
    "        SELECT\n",
    "        a.user_id\n",
    "        , created_dts::date as report_date\n",
    "        , sum(decode(transaction_type, 'COMMISSION',-amount * nvl(b.exchange_rate, 1),0))::numeric(20,2) as commission\n",
    "        , sum(decode(transaction_type, 'DIVIDEND',-amount * nvl(b.exchange_rate, 1),0))::numeric(20,2) as dividend\n",
    "        , sum(decode(transaction_type, 'FINANCING_FEE',-amount * nvl(b.exchange_rate, 1),0))::numeric(20,2) as financing_fee\n",
    "        FROM reporting.transactions a\n",
    "        LEFT JOIN reporting.exchange_rates_eur b on b.report_date = a.created_dts::date and b.currency = a.currency\n",
    "        LEFT JOIN reporting.user_details c USING(user_id)\n",
    "        WHERE a.created_dts < c.bux_account_created_dts + interval '12 months'\n",
    "        GROUP BY 1,2\n",
    "        ORDER BY 1 ) b\n",
    "        \n",
    "        ON a.user_id = b.user_id\n",
    "        GROUP BY a.user_id\n",
    "\n",
    "\"\"\"\n",
    "\n",
    "CurCV_feb17 = sql_query(query_curcv_feb17)\n",
    "CurCV_feb17[0:5]"
   ]
  },
  {
   "cell_type": "code",
   "execution_count": 136,
   "metadata": {
    "collapsed": false
   },
   "outputs": [
    {
     "ename": "KeyboardInterrupt",
     "evalue": "",
     "output_type": "error",
     "traceback": [
      "\u001b[0;31m---------------------------------------------------------------------------\u001b[0m",
      "\u001b[0;31mKeyboardInterrupt\u001b[0m                         Traceback (most recent call last)",
      "\u001b[0;32m<ipython-input-136-c55b82c81e43>\u001b[0m in \u001b[0;36m<module>\u001b[0;34m()\u001b[0m\n\u001b[1;32m     30\u001b[0m \"\"\"\n\u001b[1;32m     31\u001b[0m \u001b[0;34m\u001b[0m\u001b[0m\n\u001b[0;32m---> 32\u001b[0;31m \u001b[0mCurCV_1yCohort_6mCurCV\u001b[0m \u001b[0;34m=\u001b[0m \u001b[0msql_query\u001b[0m\u001b[0;34m(\u001b[0m\u001b[0mquery_curcv_1ycohort_6mCurCV\u001b[0m\u001b[0;34m)\u001b[0m\u001b[0;34m\u001b[0m\u001b[0m\n\u001b[0m\u001b[1;32m     33\u001b[0m \u001b[0mCurCV_1yCohort_6mCurCV\u001b[0m\u001b[0;34m[\u001b[0m\u001b[0;36m0\u001b[0m\u001b[0;34m:\u001b[0m\u001b[0;36m5\u001b[0m\u001b[0;34m]\u001b[0m\u001b[0;34m\u001b[0m\u001b[0m\n",
      "\u001b[0;32m<ipython-input-4-b468179078e6>\u001b[0m in \u001b[0;36msql_query\u001b[0;34m(query_string)\u001b[0m\n\u001b[1;32m      1\u001b[0m \u001b[0;32mdef\u001b[0m \u001b[0msql_query\u001b[0m\u001b[0;34m(\u001b[0m\u001b[0mquery_string\u001b[0m\u001b[0;34m)\u001b[0m\u001b[0;34m:\u001b[0m \u001b[0;31m# columns):\u001b[0m\u001b[0;34m\u001b[0m\u001b[0m\n\u001b[1;32m      2\u001b[0m     \u001b[0mcur\u001b[0m\u001b[0;34m.\u001b[0m\u001b[0mexecute\u001b[0m\u001b[0;34m(\u001b[0m\u001b[0mquery_string\u001b[0m\u001b[0;34m)\u001b[0m\u001b[0;34m\u001b[0m\u001b[0m\n\u001b[0;32m----> 3\u001b[0;31m     \u001b[0mdf\u001b[0m \u001b[0;34m=\u001b[0m \u001b[0mpd\u001b[0m\u001b[0;34m.\u001b[0m\u001b[0mDataFrame\u001b[0m\u001b[0;34m(\u001b[0m\u001b[0mcur\u001b[0m\u001b[0;34m.\u001b[0m\u001b[0mfetchall\u001b[0m\u001b[0;34m(\u001b[0m\u001b[0;34m)\u001b[0m\u001b[0;34m)\u001b[0m\u001b[0;34m\u001b[0m\u001b[0m\n\u001b[0m\u001b[1;32m      4\u001b[0m     \u001b[0;31m# df.columns = columns\u001b[0m\u001b[0;34m\u001b[0m\u001b[0;34m\u001b[0m\u001b[0m\n\u001b[1;32m      5\u001b[0m     \u001b[0;32mreturn\u001b[0m \u001b[0mdf\u001b[0m\u001b[0;34m\u001b[0m\u001b[0m\n",
      "\u001b[0;32m/home/jo/anaconda3/lib/python3.5/site-packages/vertica_python/vertica/cursor.py\u001b[0m in \u001b[0;36mfetchall\u001b[0;34m(self)\u001b[0m\n\u001b[1;32m    197\u001b[0m \u001b[0;34m\u001b[0m\u001b[0m\n\u001b[1;32m    198\u001b[0m     \u001b[0;32mdef\u001b[0m \u001b[0mfetchall\u001b[0m\u001b[0;34m(\u001b[0m\u001b[0mself\u001b[0m\u001b[0;34m)\u001b[0m\u001b[0;34m:\u001b[0m\u001b[0;34m\u001b[0m\u001b[0m\n\u001b[0;32m--> 199\u001b[0;31m         \u001b[0;32mreturn\u001b[0m \u001b[0mlist\u001b[0m\u001b[0;34m(\u001b[0m\u001b[0mself\u001b[0m\u001b[0;34m.\u001b[0m\u001b[0miterate\u001b[0m\u001b[0;34m(\u001b[0m\u001b[0;34m)\u001b[0m\u001b[0;34m)\u001b[0m\u001b[0;34m\u001b[0m\u001b[0m\n\u001b[0m\u001b[1;32m    200\u001b[0m \u001b[0;34m\u001b[0m\u001b[0m\n\u001b[1;32m    201\u001b[0m     \u001b[0;32mdef\u001b[0m \u001b[0mnextset\u001b[0m\u001b[0;34m(\u001b[0m\u001b[0mself\u001b[0m\u001b[0;34m)\u001b[0m\u001b[0;34m:\u001b[0m\u001b[0;34m\u001b[0m\u001b[0m\n",
      "\u001b[0;32m/home/jo/anaconda3/lib/python3.5/site-packages/vertica_python/vertica/cursor.py\u001b[0m in \u001b[0;36miterate\u001b[0;34m(self)\u001b[0m\n\u001b[1;32m    181\u001b[0m         \u001b[0;32mwhile\u001b[0m \u001b[0mrow\u001b[0m\u001b[0;34m:\u001b[0m\u001b[0;34m\u001b[0m\u001b[0m\n\u001b[1;32m    182\u001b[0m             \u001b[0;32myield\u001b[0m \u001b[0mrow\u001b[0m\u001b[0;34m\u001b[0m\u001b[0m\n\u001b[0;32m--> 183\u001b[0;31m             \u001b[0mrow\u001b[0m \u001b[0;34m=\u001b[0m \u001b[0mself\u001b[0m\u001b[0;34m.\u001b[0m\u001b[0mfetchone\u001b[0m\u001b[0;34m(\u001b[0m\u001b[0;34m)\u001b[0m\u001b[0;34m\u001b[0m\u001b[0m\n\u001b[0m\u001b[1;32m    184\u001b[0m \u001b[0;34m\u001b[0m\u001b[0m\n\u001b[1;32m    185\u001b[0m     \u001b[0;32mdef\u001b[0m \u001b[0mfetchmany\u001b[0m\u001b[0;34m(\u001b[0m\u001b[0mself\u001b[0m\u001b[0;34m,\u001b[0m \u001b[0msize\u001b[0m\u001b[0;34m=\u001b[0m\u001b[0;32mNone\u001b[0m\u001b[0;34m)\u001b[0m\u001b[0;34m:\u001b[0m\u001b[0;34m\u001b[0m\u001b[0m\n",
      "\u001b[0;32m/home/jo/anaconda3/lib/python3.5/site-packages/vertica_python/vertica/cursor.py\u001b[0m in \u001b[0;36mfetchone\u001b[0;34m(self)\u001b[0m\n\u001b[1;32m    164\u001b[0m                 \u001b[0;32melse\u001b[0m\u001b[0;34m:\u001b[0m\u001b[0;34m\u001b[0m\u001b[0m\n\u001b[1;32m    165\u001b[0m                     \u001b[0mself\u001b[0m\u001b[0;34m.\u001b[0m\u001b[0mrowcount\u001b[0m \u001b[0;34m+=\u001b[0m \u001b[0;36m1\u001b[0m\u001b[0;34m\u001b[0m\u001b[0m\n\u001b[0;32m--> 166\u001b[0;31m                 \u001b[0mrow\u001b[0m \u001b[0;34m=\u001b[0m \u001b[0mself\u001b[0m\u001b[0;34m.\u001b[0m\u001b[0mrow_formatter\u001b[0m\u001b[0;34m(\u001b[0m\u001b[0mself\u001b[0m\u001b[0;34m.\u001b[0m\u001b[0m_message\u001b[0m\u001b[0;34m)\u001b[0m\u001b[0;34m\u001b[0m\u001b[0m\n\u001b[0m\u001b[1;32m    167\u001b[0m                 \u001b[0;31m# fetch next message\u001b[0m\u001b[0;34m\u001b[0m\u001b[0;34m\u001b[0m\u001b[0m\n\u001b[1;32m    168\u001b[0m                 \u001b[0mself\u001b[0m\u001b[0;34m.\u001b[0m\u001b[0m_message\u001b[0m \u001b[0;34m=\u001b[0m \u001b[0mself\u001b[0m\u001b[0;34m.\u001b[0m\u001b[0mconnection\u001b[0m\u001b[0;34m.\u001b[0m\u001b[0mread_message\u001b[0m\u001b[0;34m(\u001b[0m\u001b[0;34m)\u001b[0m\u001b[0;34m\u001b[0m\u001b[0m\n",
      "\u001b[0;32m/home/jo/anaconda3/lib/python3.5/site-packages/vertica_python/vertica/cursor.py\u001b[0m in \u001b[0;36mrow_formatter\u001b[0;34m(self, row_data)\u001b[0m\n\u001b[1;32m    315\u001b[0m             \u001b[0;32mreturn\u001b[0m \u001b[0mself\u001b[0m\u001b[0;34m.\u001b[0m\u001b[0mformat_row_as_array\u001b[0m\u001b[0;34m(\u001b[0m\u001b[0mrow_data\u001b[0m\u001b[0;34m)\u001b[0m\u001b[0;34m\u001b[0m\u001b[0m\n\u001b[1;32m    316\u001b[0m         \u001b[0;32melif\u001b[0m \u001b[0mself\u001b[0m\u001b[0;34m.\u001b[0m\u001b[0mcursor_type\u001b[0m \u001b[0;32min\u001b[0m \u001b[0;34m(\u001b[0m\u001b[0mdict\u001b[0m\u001b[0;34m,\u001b[0m \u001b[0;34m'dict'\u001b[0m\u001b[0;34m)\u001b[0m\u001b[0;34m:\u001b[0m\u001b[0;34m\u001b[0m\u001b[0m\n\u001b[0;32m--> 317\u001b[0;31m             \u001b[0;32mreturn\u001b[0m \u001b[0mself\u001b[0m\u001b[0;34m.\u001b[0m\u001b[0mformat_row_as_dict\u001b[0m\u001b[0;34m(\u001b[0m\u001b[0mrow_data\u001b[0m\u001b[0;34m)\u001b[0m\u001b[0;34m\u001b[0m\u001b[0m\n\u001b[0m\u001b[1;32m    318\u001b[0m         \u001b[0;32melse\u001b[0m\u001b[0;34m:\u001b[0m\u001b[0;34m\u001b[0m\u001b[0m\n\u001b[1;32m    319\u001b[0m             \u001b[0;32mraise\u001b[0m \u001b[0mTypeError\u001b[0m\u001b[0;34m(\u001b[0m\u001b[0;34m'Unrecognized cursor_type: {0}'\u001b[0m\u001b[0;34m.\u001b[0m\u001b[0mformat\u001b[0m\u001b[0;34m(\u001b[0m\u001b[0mself\u001b[0m\u001b[0;34m.\u001b[0m\u001b[0mcursor_type\u001b[0m\u001b[0;34m)\u001b[0m\u001b[0;34m)\u001b[0m\u001b[0;34m\u001b[0m\u001b[0m\n",
      "\u001b[0;32m/home/jo/anaconda3/lib/python3.5/site-packages/vertica_python/vertica/cursor.py\u001b[0m in \u001b[0;36mformat_row_as_dict\u001b[0;34m(self, row_data)\u001b[0m\n\u001b[1;32m    322\u001b[0m         return OrderedDict(\n\u001b[1;32m    323\u001b[0m             \u001b[0;34m(\u001b[0m\u001b[0mself\u001b[0m\u001b[0;34m.\u001b[0m\u001b[0mdescription\u001b[0m\u001b[0;34m[\u001b[0m\u001b[0midx\u001b[0m\u001b[0;34m]\u001b[0m\u001b[0;34m.\u001b[0m\u001b[0mname\u001b[0m\u001b[0;34m,\u001b[0m \u001b[0mself\u001b[0m\u001b[0;34m.\u001b[0m\u001b[0mdescription\u001b[0m\u001b[0;34m[\u001b[0m\u001b[0midx\u001b[0m\u001b[0;34m]\u001b[0m\u001b[0;34m.\u001b[0m\u001b[0mconvert\u001b[0m\u001b[0;34m(\u001b[0m\u001b[0mvalue\u001b[0m\u001b[0;34m)\u001b[0m\u001b[0;34m)\u001b[0m\u001b[0;34m\u001b[0m\u001b[0m\n\u001b[0;32m--> 324\u001b[0;31m             \u001b[0;32mfor\u001b[0m \u001b[0midx\u001b[0m\u001b[0;34m,\u001b[0m \u001b[0mvalue\u001b[0m \u001b[0;32min\u001b[0m \u001b[0menumerate\u001b[0m\u001b[0;34m(\u001b[0m\u001b[0mrow_data\u001b[0m\u001b[0;34m.\u001b[0m\u001b[0mvalues\u001b[0m\u001b[0;34m)\u001b[0m\u001b[0;34m\u001b[0m\u001b[0m\n\u001b[0m\u001b[1;32m    325\u001b[0m         )\n\u001b[1;32m    326\u001b[0m \u001b[0;34m\u001b[0m\u001b[0m\n",
      "\u001b[0;32m/home/jo/anaconda3/lib/python3.5/site-packages/vertica_python/vertica/cursor.py\u001b[0m in \u001b[0;36m<genexpr>\u001b[0;34m(.0)\u001b[0m\n\u001b[1;32m    322\u001b[0m         return OrderedDict(\n\u001b[1;32m    323\u001b[0m             \u001b[0;34m(\u001b[0m\u001b[0mself\u001b[0m\u001b[0;34m.\u001b[0m\u001b[0mdescription\u001b[0m\u001b[0;34m[\u001b[0m\u001b[0midx\u001b[0m\u001b[0;34m]\u001b[0m\u001b[0;34m.\u001b[0m\u001b[0mname\u001b[0m\u001b[0;34m,\u001b[0m \u001b[0mself\u001b[0m\u001b[0;34m.\u001b[0m\u001b[0mdescription\u001b[0m\u001b[0;34m[\u001b[0m\u001b[0midx\u001b[0m\u001b[0;34m]\u001b[0m\u001b[0;34m.\u001b[0m\u001b[0mconvert\u001b[0m\u001b[0;34m(\u001b[0m\u001b[0mvalue\u001b[0m\u001b[0;34m)\u001b[0m\u001b[0;34m)\u001b[0m\u001b[0;34m\u001b[0m\u001b[0m\n\u001b[0;32m--> 324\u001b[0;31m             \u001b[0;32mfor\u001b[0m \u001b[0midx\u001b[0m\u001b[0;34m,\u001b[0m \u001b[0mvalue\u001b[0m \u001b[0;32min\u001b[0m \u001b[0menumerate\u001b[0m\u001b[0;34m(\u001b[0m\u001b[0mrow_data\u001b[0m\u001b[0;34m.\u001b[0m\u001b[0mvalues\u001b[0m\u001b[0;34m)\u001b[0m\u001b[0;34m\u001b[0m\u001b[0m\n\u001b[0m\u001b[1;32m    325\u001b[0m         )\n\u001b[1;32m    326\u001b[0m \u001b[0;34m\u001b[0m\u001b[0m\n",
      "\u001b[0;31mKeyboardInterrupt\u001b[0m: "
     ]
    }
   ],
   "source": [
    "query_curcv_1ycohort_6mCurCV = \"\"\" \n",
    "\n",
    "        SELECT a.user_id, a.bux_account_created_dts, SUM(b.commission) as com, SUM(b.dividend) as div, SUM(b.financing_fee) as ff\n",
    "        FROM (\n",
    "        \n",
    "        SELECT user_id, bux_account_created_dts\n",
    "        FROM reporting.user_details\n",
    "        WHERE bux_account_created_dts::date BETWEEN '2016-10-01' AND '2017-09-30'\n",
    "        GROUP BY 1,2) a\n",
    "        \n",
    "        LEFT JOIN (\n",
    "        \n",
    "        SELECT\n",
    "        a.user_id\n",
    "        , created_dts::date as report_date\n",
    "        , SUM(decode(transaction_type, 'COMMISSION',-amount * nvl(b.exchange_rate, 1),0))::numeric(20,2) as commission\n",
    "        , SUM(decode(transaction_type, 'DIVIDEND',-amount * nvl(b.exchange_rate, 1),0))::numeric(20,2) as dividend\n",
    "        , SUM(decode(transaction_type, 'FINANCING_FEE',-amount * nvl(b.exchange_rate, 1),0))::numeric(20,2) as financing_fee\n",
    "        FROM reporting.transactions a\n",
    "        LEFT JOIN reporting.exchange_rates_eur b on b.report_date = a.created_dts::date and b.currency = a.currency\n",
    "        LEFT JOIN reporting.user_details c USING(user_id)\n",
    "        WHERE a.created_dts < c.bux_account_created_dts + interval '6 months'\n",
    "        GROUP BY 1,2\n",
    "        ORDER BY 1 ) b\n",
    "        \n",
    "        ON a.user_id = b.user_id\n",
    "        GROUP BY 1,2\n",
    "        ORDER BY 1,2\n",
    "\n",
    "\"\"\"\n",
    "\n",
    "CurCV_1yCohort_6mCurCV = sql_query(query_curcv_1ycohort_6mCurCV)\n",
    "CurCV_1yCohort_6mCurCV[0:5]"
   ]
  },
  {
   "cell_type": "code",
   "execution_count": 142,
   "metadata": {
    "collapsed": false
   },
   "outputs": [
    {
     "data": {
      "text/plain": [
       "565983"
      ]
     },
     "execution_count": 142,
     "metadata": {},
     "output_type": "execute_result"
    }
   ],
   "source": [
    "len(CurCV_1yCohort_6mCurCV)"
   ]
  },
  {
   "cell_type": "code",
   "execution_count": 143,
   "metadata": {
    "collapsed": false
   },
   "outputs": [],
   "source": [
    "# CurCV_feb17['CLV'] = CurCV_feb17['com'] + CurCV_feb17['ff'] # + CurCV_feb17['div'] \n",
    "# CurCV_1yCohort_6mCurCV['CLV'] = CurCV_1yCohort_6mCurCV['com'] + CurCV_1yCohort_6mCurCV['ff'] #  CurCV_1yCohort_6mCurCV['div']"
   ]
  },
  {
   "cell_type": "code",
   "execution_count": 144,
   "metadata": {
    "collapsed": false
   },
   "outputs": [],
   "source": [
    "CurCV_feb17.to_csv('data/curCv_Feb_1_30days_cohort.csv')\n",
    "CurCV_1yCohort_6mCurCV.to_csv('data/curCv_1ycohort_6mCurCV.csv')"
   ]
  },
  {
   "cell_type": "markdown",
   "metadata": {},
   "source": [
    "### Query superbuxer"
   ]
  },
  {
   "cell_type": "code",
   "execution_count": 22,
   "metadata": {
    "collapsed": false
   },
   "outputs": [
    {
     "data": {
      "text/html": [
       "<div>\n",
       "<style scoped>\n",
       "    .dataframe tbody tr th:only-of-type {\n",
       "        vertical-align: middle;\n",
       "    }\n",
       "\n",
       "    .dataframe tbody tr th {\n",
       "        vertical-align: top;\n",
       "    }\n",
       "\n",
       "    .dataframe thead th {\n",
       "        text-align: right;\n",
       "    }\n",
       "</style>\n",
       "<table border=\"1\" class=\"dataframe\">\n",
       "  <thead>\n",
       "    <tr style=\"text-align: right;\">\n",
       "      <th></th>\n",
       "      <th>COUNT</th>\n",
       "    </tr>\n",
       "  </thead>\n",
       "  <tbody>\n",
       "    <tr>\n",
       "      <th>0</th>\n",
       "      <td>5</td>\n",
       "    </tr>\n",
       "  </tbody>\n",
       "</table>\n",
       "</div>"
      ],
      "text/plain": [
       "   COUNT\n",
       "0      5"
      ]
     },
     "execution_count": 22,
     "metadata": {},
     "output_type": "execute_result"
    }
   ],
   "source": [
    "query_superbuxer = \"\"\"\n",
    "\n",
    "SELECT\n",
    "     COUNT (DISTINCT a.user_id)\n",
    "FROM\n",
    "     reporting.user_details a\n",
    "JOIN\n",
    "     reporting.user_type b\n",
    "USING\n",
    "     (user_id)\n",
    "WHERE\n",
    "     year (bux_account_created_dts) = 2018\n",
    " AND b.date <= a.bux_account_created_dts + interval '1 year'\n",
    " AND b.user_type = 'SuperBUXer'\n",
    " \n",
    " \n",
    "\"\"\"\n",
    "\n",
    "super_buxer_unique_count_2016 = sql_query(query_superbuxer)\n",
    "super_buxer_unique_count_2016[0:5]"
   ]
  },
  {
   "cell_type": "markdown",
   "metadata": {},
   "source": [
    "### Distinct BUX classses"
   ]
  },
  {
   "cell_type": "code",
   "execution_count": 26,
   "metadata": {
    "collapsed": false
   },
   "outputs": [
    {
     "data": {
      "text/html": [
       "<div>\n",
       "<style scoped>\n",
       "    .dataframe tbody tr th:only-of-type {\n",
       "        vertical-align: middle;\n",
       "    }\n",
       "\n",
       "    .dataframe tbody tr th {\n",
       "        vertical-align: top;\n",
       "    }\n",
       "\n",
       "    .dataframe thead th {\n",
       "        text-align: right;\n",
       "    }\n",
       "</style>\n",
       "<table border=\"1\" class=\"dataframe\">\n",
       "  <thead>\n",
       "    <tr style=\"text-align: right;\">\n",
       "      <th></th>\n",
       "      <th>user_type</th>\n",
       "    </tr>\n",
       "  </thead>\n",
       "  <tbody>\n",
       "    <tr>\n",
       "      <th>0</th>\n",
       "      <td>SuperBUXer</td>\n",
       "    </tr>\n",
       "    <tr>\n",
       "      <th>1</th>\n",
       "      <td>Ex-SeriousBUXer</td>\n",
       "    </tr>\n",
       "    <tr>\n",
       "      <th>2</th>\n",
       "      <td>FunBUXer</td>\n",
       "    </tr>\n",
       "    <tr>\n",
       "      <th>3</th>\n",
       "      <td>Prospect On Risk</td>\n",
       "    </tr>\n",
       "    <tr>\n",
       "      <th>4</th>\n",
       "      <td>SeriousBUXer</td>\n",
       "    </tr>\n",
       "  </tbody>\n",
       "</table>\n",
       "</div>"
      ],
      "text/plain": [
       "          user_type\n",
       "0        SuperBUXer\n",
       "1   Ex-SeriousBUXer\n",
       "2          FunBUXer\n",
       "3  Prospect On Risk\n",
       "4      SeriousBUXer"
      ]
     },
     "execution_count": 26,
     "metadata": {},
     "output_type": "execute_result"
    }
   ],
   "source": [
    "query_user_classes = \"\"\"\n",
    "\n",
    "SELECT\n",
    "     DISTINCT b.user_type\n",
    "FROM\n",
    "     reporting.user_details a\n",
    "JOIN\n",
    "     reporting.user_type b\n",
    "USING\n",
    "     (user_id)\n",
    "WHERE\n",
    "     year (bux_account_created_dts) = 2017\n",
    " AND b.date <= a.bux_account_created_dts + interval '1 year'\n",
    " \n",
    " \n",
    "\"\"\"\n",
    "\n",
    "user_classes = sql_query(query_user_classes)\n",
    "user_classes[0:5]"
   ]
  },
  {
   "cell_type": "markdown",
   "metadata": {
    "collapsed": true
   },
   "source": [
    "### Value of chorts MoM (6 months)"
   ]
  },
  {
   "cell_type": "code",
   "execution_count": 108,
   "metadata": {
    "collapsed": false
   },
   "outputs": [
    {
     "data": {
      "text/html": [
       "<div>\n",
       "<style>\n",
       "    .dataframe thead tr:only-child th {\n",
       "        text-align: right;\n",
       "    }\n",
       "\n",
       "    .dataframe thead th {\n",
       "        text-align: left;\n",
       "    }\n",
       "\n",
       "    .dataframe tbody tr th {\n",
       "        vertical-align: top;\n",
       "    }\n",
       "</style>\n",
       "<table border=\"1\" class=\"dataframe\">\n",
       "  <thead>\n",
       "    <tr style=\"text-align: right;\">\n",
       "      <th></th>\n",
       "      <th>YEAR</th>\n",
       "      <th>MONTH</th>\n",
       "      <th>COUNT</th>\n",
       "      <th>com</th>\n",
       "      <th>div</th>\n",
       "      <th>ff</th>\n",
       "    </tr>\n",
       "  </thead>\n",
       "  <tbody>\n",
       "    <tr>\n",
       "      <th>0</th>\n",
       "      <td>2016</td>\n",
       "      <td>1</td>\n",
       "      <td>47303</td>\n",
       "      <td>395593.96</td>\n",
       "      <td>-4963.92</td>\n",
       "      <td>21858.56</td>\n",
       "    </tr>\n",
       "    <tr>\n",
       "      <th>1</th>\n",
       "      <td>2016</td>\n",
       "      <td>2</td>\n",
       "      <td>37067</td>\n",
       "      <td>358764.78</td>\n",
       "      <td>-2252.60</td>\n",
       "      <td>25392.09</td>\n",
       "    </tr>\n",
       "    <tr>\n",
       "      <th>2</th>\n",
       "      <td>2016</td>\n",
       "      <td>3</td>\n",
       "      <td>35101</td>\n",
       "      <td>428034.48</td>\n",
       "      <td>-2886.60</td>\n",
       "      <td>34571.94</td>\n",
       "    </tr>\n",
       "    <tr>\n",
       "      <th>3</th>\n",
       "      <td>2016</td>\n",
       "      <td>4</td>\n",
       "      <td>36521</td>\n",
       "      <td>257482.60</td>\n",
       "      <td>-2837.27</td>\n",
       "      <td>24421.86</td>\n",
       "    </tr>\n",
       "    <tr>\n",
       "      <th>4</th>\n",
       "      <td>2016</td>\n",
       "      <td>5</td>\n",
       "      <td>27962</td>\n",
       "      <td>139534.00</td>\n",
       "      <td>-167.60</td>\n",
       "      <td>12828.07</td>\n",
       "    </tr>\n",
       "  </tbody>\n",
       "</table>\n",
       "</div>"
      ],
      "text/plain": [
       "   YEAR  MONTH  COUNT        com       div        ff\n",
       "0  2016      1  47303  395593.96  -4963.92  21858.56\n",
       "1  2016      2  37067  358764.78  -2252.60  25392.09\n",
       "2  2016      3  35101  428034.48  -2886.60  34571.94\n",
       "3  2016      4  36521  257482.60  -2837.27  24421.86\n",
       "4  2016      5  27962  139534.00   -167.60  12828.07"
      ]
     },
     "execution_count": 108,
     "metadata": {},
     "output_type": "execute_result"
    }
   ],
   "source": [
    "query_mom_curcv = \"\"\" \n",
    "\n",
    "        SELECT YEAR(a.bux_account_created_dts), MONTH(a.bux_account_created_dts), COUNT(DISTINCT a.user_id), SUM(b.commission) as com, SUM(b.dividend) as div, SUM(b.financing_fee) as ff\n",
    "        FROM (\n",
    "        \n",
    "        SELECT user_id, bux_account_created_dts\n",
    "        FROM reporting.user_details\n",
    "        WHERE bux_account_created_dts::date BETWEEN '2016-01-01' AND '2017-09-30'\n",
    "        GROUP BY 1,2) a\n",
    "        \n",
    "\n",
    "        LEFT JOIN (\n",
    "        \n",
    "        \n",
    "        SELECT\n",
    "        a.user_id\n",
    "        , created_dts::date as report_date\n",
    "        , SUM(decode(transaction_type, 'COMMISSION',-amount * nvl(b.exchange_rate, 1),0))::numeric(20,2) as commission\n",
    "        , SUM(decode(transaction_type, 'DIVIDEND',-amount * nvl(b.exchange_rate, 1),0))::numeric(20,2) as dividend\n",
    "        , SUM(decode(transaction_type, 'FINANCING_FEE',-amount * nvl(b.exchange_rate, 1),0))::numeric(20,2) as financing_fee\n",
    "        FROM reporting.transactions a\n",
    "        LEFT JOIN reporting.exchange_rates_eur b on b.report_date = a.created_dts::date and b.currency = a.currency\n",
    "        LEFT JOIN reporting.user_details c USING(user_id)\n",
    "        WHERE a.created_dts < c.bux_account_created_dts + interval '6 months'\n",
    "        GROUP BY 1,2\n",
    "        ORDER BY 1 ) b\n",
    "        \n",
    "        ON a.user_id = b.user_id\n",
    "        GROUP BY 1, 2\n",
    "        ORDER BY 1,2\n",
    "\n",
    "\"\"\"\n",
    "\n",
    "CurCV_MoM = sql_query(query_mom_curcv)\n",
    "CurCV_MoM[0:5]"
   ]
  },
  {
   "cell_type": "code",
   "execution_count": 114,
   "metadata": {
    "collapsed": false
   },
   "outputs": [
    {
     "data": {
      "text/html": [
       "<div>\n",
       "<style>\n",
       "    .dataframe thead tr:only-child th {\n",
       "        text-align: right;\n",
       "    }\n",
       "\n",
       "    .dataframe thead th {\n",
       "        text-align: left;\n",
       "    }\n",
       "\n",
       "    .dataframe tbody tr th {\n",
       "        vertical-align: top;\n",
       "    }\n",
       "</style>\n",
       "<table border=\"1\" class=\"dataframe\">\n",
       "  <thead>\n",
       "    <tr style=\"text-align: right;\">\n",
       "      <th></th>\n",
       "      <th>YEAR</th>\n",
       "      <th>MONTH</th>\n",
       "      <th>COUNT</th>\n",
       "      <th>com</th>\n",
       "      <th>div</th>\n",
       "      <th>ff</th>\n",
       "      <th>YEAR_MONTH</th>\n",
       "      <th>CLV</th>\n",
       "      <th>CLV/user</th>\n",
       "    </tr>\n",
       "  </thead>\n",
       "  <tbody>\n",
       "    <tr>\n",
       "      <th>0</th>\n",
       "      <td>2016</td>\n",
       "      <td>1</td>\n",
       "      <td>47303</td>\n",
       "      <td>395593.96</td>\n",
       "      <td>-4963.92</td>\n",
       "      <td>21858.56</td>\n",
       "      <td>2016-01-01</td>\n",
       "      <td>417452.52</td>\n",
       "      <td>8.825075</td>\n",
       "    </tr>\n",
       "    <tr>\n",
       "      <th>1</th>\n",
       "      <td>2016</td>\n",
       "      <td>2</td>\n",
       "      <td>37067</td>\n",
       "      <td>358764.78</td>\n",
       "      <td>-2252.60</td>\n",
       "      <td>25392.09</td>\n",
       "      <td>2016-02-01</td>\n",
       "      <td>384156.87</td>\n",
       "      <td>10.363851</td>\n",
       "    </tr>\n",
       "    <tr>\n",
       "      <th>2</th>\n",
       "      <td>2016</td>\n",
       "      <td>3</td>\n",
       "      <td>35101</td>\n",
       "      <td>428034.48</td>\n",
       "      <td>-2886.60</td>\n",
       "      <td>34571.94</td>\n",
       "      <td>2016-03-01</td>\n",
       "      <td>462606.42</td>\n",
       "      <td>13.179295</td>\n",
       "    </tr>\n",
       "    <tr>\n",
       "      <th>3</th>\n",
       "      <td>2016</td>\n",
       "      <td>4</td>\n",
       "      <td>36521</td>\n",
       "      <td>257482.60</td>\n",
       "      <td>-2837.27</td>\n",
       "      <td>24421.86</td>\n",
       "      <td>2016-04-01</td>\n",
       "      <td>281904.46</td>\n",
       "      <td>7.718969</td>\n",
       "    </tr>\n",
       "    <tr>\n",
       "      <th>4</th>\n",
       "      <td>2016</td>\n",
       "      <td>5</td>\n",
       "      <td>27962</td>\n",
       "      <td>139534.00</td>\n",
       "      <td>-167.60</td>\n",
       "      <td>12828.07</td>\n",
       "      <td>2016-05-01</td>\n",
       "      <td>152362.07</td>\n",
       "      <td>5.448897</td>\n",
       "    </tr>\n",
       "  </tbody>\n",
       "</table>\n",
       "</div>"
      ],
      "text/plain": [
       "   YEAR  MONTH  COUNT        com      div        ff YEAR_MONTH        CLV  \\\n",
       "0  2016      1  47303  395593.96 -4963.92  21858.56 2016-01-01  417452.52   \n",
       "1  2016      2  37067  358764.78 -2252.60  25392.09 2016-02-01  384156.87   \n",
       "2  2016      3  35101  428034.48 -2886.60  34571.94 2016-03-01  462606.42   \n",
       "3  2016      4  36521  257482.60 -2837.27  24421.86 2016-04-01  281904.46   \n",
       "4  2016      5  27962  139534.00  -167.60  12828.07 2016-05-01  152362.07   \n",
       "\n",
       "    CLV/user  \n",
       "0   8.825075  \n",
       "1  10.363851  \n",
       "2  13.179295  \n",
       "3   7.718969  \n",
       "4   5.448897  "
      ]
     },
     "execution_count": 114,
     "metadata": {},
     "output_type": "execute_result"
    }
   ],
   "source": [
    "CurCV_MoM[\"YEAR_MONTH\"] = pd.Series([str(row[\"YEAR\"]) + \"-0\" + str(row[\"MONTH\"])  if row[\"MONTH\"] <= 9 else str(row[\"YEAR\"]) + \"-\" + str(row[\"MONTH\"]) for index, row in CurCV_MoM.iterrows()])\n",
    "CurCV_MoM[\"YEAR_MONTH\"] = pd.to_datetime(CurCV_MoM[\"YEAR_MONTH\"])\n",
    "CurCV_MoM[\"CLV\"] = CurCV_MoM[\"com\"] + CurCV_MoM[\"ff\"] # CurCV_MoM[\"div\"]\n",
    "CurCV_MoM[[\"CLV\", \"com\", \"div\", \"ff\"]]=CurCV_MoM[[\"CLV\", \"com\", \"div\", \"ff\"]].astype(float)\n",
    "CurCV_MoM[\"CLV/user\"] = CurCV_MoM[\"CLV\"] / CurCV_MoM[\"COUNT\"]\n",
    "CurCV_MoM.head()"
   ]
  },
  {
   "cell_type": "code",
   "execution_count": 115,
   "metadata": {
    "collapsed": false
   },
   "outputs": [
    {
     "data": {
      "image/png": "[encoded data removed]",
      "text/plain": [
       "<matplotlib.figure.Figure at 0x7f657c7822b0>"
      ]
     },
     "metadata": {},
     "output_type": "display_data"
    },
    {
     "data": {
      "image/png": "[encoded data removed]",
      "text/plain": [
       "<matplotlib.figure.Figure at 0x7f65649a6b38>"
      ]
     },
     "metadata": {},
     "output_type": "display_data"
    },
    {
     "data": {
      "image/png": "[encoded data removed]",
      "text/plain": [
       "<matplotlib.figure.Figure at 0x7f656529b390>"
      ]
     },
     "metadata": {},
     "output_type": "display_data"
    }
   ],
   "source": [
    "CurCV_MoM.plot(x='YEAR_MONTH', y='CLV', figsize=(10,6), ylim=(0,max(CurCV_MoM[\"CLV\"])*1.3));\n",
    "CurCV_MoM.plot(x='YEAR_MONTH', y='CLV/user', figsize=(10,6), ylim=(0,max(CurCV_MoM[\"CLV/user\"])*1.3));\n",
    "CurCV_MoM.plot(x='YEAR_MONTH', y='COUNT', figsize=(10,6), ylim=(0,max(CurCV_MoM[\"COUNT\"])*1.3));"
   ]
  },
  {
   "cell_type": "code",
   "execution_count": 116,
   "metadata": {
    "collapsed": false
   },
   "outputs": [
    {
     "data": {
      "image/png": "[encoded data removed]",
      "text/plain": [
       "<matplotlib.figure.Figure at 0x7f656292d2b0>"
      ]
     },
     "metadata": {},
     "output_type": "display_data"
    },
    {
     "data": {
      "image/png": "[encoded data removed]",
      "text/plain": [
       "<matplotlib.figure.Figure at 0x7f655ee79470>"
      ]
     },
     "metadata": {},
     "output_type": "display_data"
    },
    {
     "data": {
      "image/png": "[encoded data removed]",
      "text/plain": [
       "<matplotlib.figure.Figure at 0x7f6549d77668>"
      ]
     },
     "metadata": {},
     "output_type": "display_data"
    }
   ],
   "source": [
    "CurCV_MoM.plot(x='YEAR_MONTH', y='com', figsize=(10,6), ylim=(0,max(CurCV_MoM[\"CLV\"])*1.3));\n",
    "CurCV_MoM.plot(x='YEAR_MONTH', y='ff', figsize=(10,6), ylim=(0,max(CurCV_MoM[\"ff\"])*1.3));\n",
    "CurCV_MoM.plot(x='YEAR_MONTH', y='div', figsize=(10,6), ylim=(min(CurCV_MoM[\"div\"])*1.3,max(CurCV_MoM[\"div\"])*2));"
   ]
  },
  {
   "cell_type": "code",
   "execution_count": 112,
   "metadata": {
    "collapsed": false
   },
   "outputs": [
    {
     "data": {
      "image/png": "[encoded data removed]",
      "text/plain": [
       "<matplotlib.figure.Figure at 0x7f657a9f3780>"
      ]
     },
     "metadata": {},
     "output_type": "display_data"
    }
   ],
   "source": [
    "CurCV_MoM[\"CLV\"].plot(kind='hist',bins=10,figsize=(10,6));"
   ]
  },
  {
   "cell_type": "code",
   "execution_count": 113,
   "metadata": {
    "collapsed": false
   },
   "outputs": [
    {
     "data": {
      "text/plain": [
       "count        21.000000\n",
       "mean     245726.117143\n",
       "std       98897.728338\n",
       "min      132421.660000\n",
       "25%      167950.960000\n",
       "50%      204179.810000\n",
       "75%      306650.600000\n",
       "max      462606.420000\n",
       "Name: CLV, dtype: float64"
      ]
     },
     "execution_count": 113,
     "metadata": {},
     "output_type": "execute_result"
    }
   ],
   "source": [
    "CurCV_MoM[\"CLV\"].describe()"
   ]
  },
  {
   "cell_type": "markdown",
   "metadata": {},
   "source": [
    "#### 50% of 6 month value of monthly cohorts are fall between 170k and 300k"
   ]
  },
  {
   "cell_type": "markdown",
   "metadata": {},
   "source": [
    "### Distribution of whales MoM"
   ]
  },
  {
   "cell_type": "code",
   "execution_count": 100,
   "metadata": {
    "collapsed": false
   },
   "outputs": [
    {
     "name": "stdout",
     "output_type": "stream",
     "text": [
      "CPU times: user 55.6 s, sys: 7.92 s, total: 1min 3s\n",
      "Wall time: 1min 14s\n"
     ]
    }
   ],
   "source": [
    "%%time\n",
    "\n",
    "query_curcv_whales = \"\"\" \n",
    "\n",
    "        SELECT a.user_id, YEAR(a.bux_account_created_dts), MONTH(a.bux_account_created_dts), SUM(b.commission) as com, SUM(b.dividend) as div, SUM(b.financing_fee) as ff\n",
    "        FROM (\n",
    "        \n",
    "        SELECT user_id, bux_account_created_dts\n",
    "        FROM reporting.user_details\n",
    "        WHERE bux_account_created_dts::date BETWEEN '2017-01-01' AND '2017-09-30'\n",
    "        GROUP BY 1,2) a\n",
    "        \n",
    "        LEFT JOIN (\n",
    "        \n",
    "        SELECT\n",
    "        a.user_id\n",
    "        , created_dts::date as report_date\n",
    "        , SUM(decode(transaction_type, 'COMMISSION',-amount * nvl(b.exchange_rate, 1),0))::numeric(20,2) as commission\n",
    "        , SUM(decode(transaction_type, 'DIVIDEND',-amount * nvl(b.exchange_rate, 1),0))::numeric(20,2) as dividend\n",
    "        , SUM(decode(transaction_type, 'FINANCING_FEE',-amount * nvl(b.exchange_rate, 1),0))::numeric(20,2) as financing_fee\n",
    "        FROM reporting.transactions a\n",
    "        LEFT JOIN reporting.exchange_rates_eur b on b.report_date = a.created_dts::date and b.currency = a.currency\n",
    "        LEFT JOIN reporting.user_details c USING(user_id)\n",
    "        WHERE a.created_dts < c.bux_account_created_dts + interval '6 months'\n",
    "        GROUP BY 1,2\n",
    "        ORDER BY 1 ) b\n",
    "        \n",
    "        ON a.user_id = b.user_id\n",
    "        GROUP BY 1,2,3\n",
    "        ORDER BY 1,2\n",
    "\n",
    "\"\"\"\n",
    "\n",
    "CurCV_whales = sql_query(query_curcv_whales)\n",
    "CurCV_whales[0:5]"
   ]
  },
  {
   "cell_type": "code",
   "execution_count": 101,
   "metadata": {
    "collapsed": false
   },
   "outputs": [
    {
     "name": "stdout",
     "output_type": "stream",
     "text": [
      "CPU times: user 2min 20s, sys: 333 ms, total: 2min 21s\n",
      "Wall time: 2min 22s\n"
     ]
    }
   ],
   "source": [
    "%%time\n",
    "\n",
    "CurCV_whales[\"YEAR_MONTH\"] = pd.Series([str(row[\"YEAR\"]) + \"-0\" + str(row[\"MONTH\"])  if row[\"MONTH\"] <= 9 else str(row[\"YEAR\"]) + \"-\" + str(row[\"MONTH\"]) for index, row in CurCV_whales.iterrows()])"
   ]
  },
  {
   "cell_type": "code",
   "execution_count": 102,
   "metadata": {
    "collapsed": false
   },
   "outputs": [
    {
     "name": "stdout",
     "output_type": "stream",
     "text": [
      "CPU times: user 1.67 s, sys: 16 ms, total: 1.68 s\n",
      "Wall time: 1.72 s\n"
     ]
    }
   ],
   "source": [
    "%%time\n",
    "\n",
    "CurCV_whales[\"YEAR_MONTH\"] = pd.to_datetime(CurCV_whales[\"YEAR_MONTH\"])\n",
    "CurCV_whales = CurCV_whales.fillna(0)\n",
    "CurCV_whales[\"CLV\"] = CurCV_whales[\"com\"] + CurCV_whales[\"ff\"] # + CurCV_whales[\"div\"]\n",
    "CurCV_whales[[\"CLV\", \"com\", \"div\", \"ff\"]]=CurCV_whales[[\"CLV\", \"com\", \"div\", \"ff\"]].astype(float)\n",
    "CurCV_whales.head()"
   ]
  },
  {
   "cell_type": "code",
   "execution_count": 103,
   "metadata": {
    "collapsed": false
   },
   "outputs": [
    {
     "data": {
      "image/png": "[encoded data removed]",
      "text/plain": [
       "<matplotlib.figure.Figure at 0x7f657e91a160>"
      ]
     },
     "metadata": {},
     "output_type": "display_data"
    }
   ],
   "source": [
    "CurCV_whales[\"CLV\"].plot(kind='hist',bins=100, xlim=(0,5000));"
   ]
  },
  {
   "cell_type": "code",
   "execution_count": 104,
   "metadata": {
    "collapsed": false
   },
   "outputs": [
    {
     "data": {
      "text/plain": [
       "449081"
      ]
     },
     "execution_count": 104,
     "metadata": {},
     "output_type": "execute_result"
    }
   ],
   "source": [
    "len(CurCV_whales[CurCV_whales[\"CLV\"] == 0])"
   ]
  },
  {
   "cell_type": "code",
   "execution_count": 105,
   "metadata": {
    "collapsed": false,
    "scrolled": true
   },
   "outputs": [
    {
     "data": {
      "text/plain": [
       "count    464028.000000\n",
       "mean          4.272114\n",
       "std         133.444258\n",
       "min           0.000000\n",
       "25%           0.000000\n",
       "50%           0.000000\n",
       "75%           0.000000\n",
       "max       30432.380000\n",
       "Name: CLV, dtype: float64"
      ]
     },
     "execution_count": 105,
     "metadata": {},
     "output_type": "execute_result"
    }
   ],
   "source": [
    "CurCV_whales[\"CLV\"].describe()"
   ]
  },
  {
   "cell_type": "code",
   "execution_count": 106,
   "metadata": {
    "collapsed": false
   },
   "outputs": [
    {
     "data": {
      "text/plain": [
       "35.93"
      ]
     },
     "execution_count": 106,
     "metadata": {},
     "output_type": "execute_result"
    }
   ],
   "source": [
    "whale_threshold = CurCV_whales['CLV'].quantile(0.99)\n",
    "whale_threshold"
   ]
  },
  {
   "cell_type": "code",
   "execution_count": 107,
   "metadata": {
    "collapsed": false
   },
   "outputs": [
    {
     "data": {
      "text/plain": [
       "(Timestamp('2017-01-01 00:00:00'), Timestamp('2017-09-01 00:00:00'))"
      ]
     },
     "execution_count": 107,
     "metadata": {},
     "output_type": "execute_result"
    }
   ],
   "source": [
    "CurCV_whales[\"YEAR_MONTH\"].min(), CurCV_whales[\"YEAR_MONTH\"].max()"
   ]
  },
  {
   "cell_type": "markdown",
   "metadata": {},
   "source": [
    "### 6 month whale value threshold:\n",
    "\n",
    "#### 2016-01 -> 2017-09 = 50 euros, mean = 6 euros, std = 184, 8800 whales\n",
    "#### 2016-01 -> 2016-12 = 50 euros, mean = 5.8 euros, std = 184, 5000 whales)\n",
    "#### 2017-01 -> 2017-09 = "
   ]
  },
  {
   "cell_type": "code",
   "execution_count": 294,
   "metadata": {
    "collapsed": false
   },
   "outputs": [
    {
     "data": {
      "text/plain": [
       "5059"
      ]
     },
     "execution_count": 294,
     "metadata": {},
     "output_type": "execute_result"
    }
   ],
   "source": [
    "len(CurCV_whales[CurCV_whales[\"CLV\"] > whale_threshold])"
   ]
  },
  {
   "cell_type": "code",
   "execution_count": null,
   "metadata": {
    "collapsed": false
   },
   "outputs": [
    {
     "data": {
      "text/plain": [
       "<matplotlib.axes._subplots.AxesSubplot at 0x7fba08d2fd68>"
      ]
     },
     "execution_count": 295,
     "metadata": {},
     "output_type": "execute_result"
    }
   ],
   "source": [
    "CurCV_whales[CurCV_whales[\"CLV\"] > whale_threshold][\"CLV\"].plot(kind='bar')"
   ]
  },
  {
   "cell_type": "code",
   "execution_count": null,
   "metadata": {
    "collapsed": true
   },
   "outputs": [],
   "source": [
    "# pd.DataFrame(serious_buxers).reset_index().hist(cumulative=True, normed=1, bins=100);"
   ]
  },
  {
   "cell_type": "code",
   "execution_count": 223,
   "metadata": {
    "collapsed": true
   },
   "outputs": [],
   "source": [
    "conn = vertica_python.connect(**conn_info)\n",
    "cur = conn.cursor('dict')"
   ]
  },
  {
   "cell_type": "markdown",
   "metadata": {},
   "source": [
    "# Downsampling (later in the pipeline, after splitting train/test)"
   ]
  },
  {
   "cell_type": "code",
   "execution_count": 37,
   "metadata": {
    "collapsed": false
   },
   "outputs": [
    {
     "data": {
      "text/plain": [
       "565983"
      ]
     },
     "execution_count": 37,
     "metadata": {},
     "output_type": "execute_result"
    }
   ],
   "source": [
    "len(CurCV_1yCohort_6mCurCV)"
   ]
  },
  {
   "cell_type": "code",
   "execution_count": 40,
   "metadata": {
    "collapsed": false
   },
   "outputs": [
    {
     "data": {
      "text/plain": [
       "0    561372\n",
       "1      4611\n",
       "Name: whale, dtype: int64"
      ]
     },
     "execution_count": 40,
     "metadata": {},
     "output_type": "execute_result"
    }
   ],
   "source": [
    "CurCV_1yCohort_6mCurCV[\"CLV\"] = CurCV_1yCohort_6mCurCV[\"CLV\"].astype(float)\n",
    "CurCV_1yCohort_6mCurCV = CurCV_1yCohort_6mCurCV.fillna(0)\n",
    "CurCV_1yCohort_6mCurCV[\"whale\"] = (CurCV_1yCohort_6mCurCV[\"CLV\"] > 50).astype(int)\n",
    "CurCV_1yCohort_6mCurCV[\"whale\"].value_counts()"
   ]
  },
  {
   "cell_type": "code",
   "execution_count": 64,
   "metadata": {
    "collapsed": false
   },
   "outputs": [
    {
     "data": {
      "text/plain": [
       "4611"
      ]
     },
     "execution_count": 64,
     "metadata": {},
     "output_type": "execute_result"
    }
   ],
   "source": [
    "num_of_whales = len(CurCV_1yCohort_6mCurCV[CurCV_1yCohort_6mCurCV[\"whale\"] == 1])\n",
    "num_of_whales"
   ]
  },
  {
   "cell_type": "code",
   "execution_count": 60,
   "metadata": {
    "collapsed": false
   },
   "outputs": [
    {
     "data": {
      "text/html": [
       "<div>\n",
       "<style>\n",
       "    .dataframe thead tr:only-child th {\n",
       "        text-align: right;\n",
       "    }\n",
       "\n",
       "    .dataframe thead th {\n",
       "        text-align: left;\n",
       "    }\n",
       "\n",
       "    .dataframe tbody tr th {\n",
       "        vertical-align: top;\n",
       "    }\n",
       "</style>\n",
       "<table border=\"1\" class=\"dataframe\">\n",
       "  <thead>\n",
       "    <tr style=\"text-align: right;\">\n",
       "      <th></th>\n",
       "      <th>user_id</th>\n",
       "      <th>bux_account_created_dts</th>\n",
       "      <th>com</th>\n",
       "      <th>div</th>\n",
       "      <th>ff</th>\n",
       "      <th>total</th>\n",
       "      <th>whale</th>\n",
       "      <th>CLV</th>\n",
       "    </tr>\n",
       "  </thead>\n",
       "  <tbody>\n",
       "    <tr>\n",
       "      <th>381732</th>\n",
       "      <td>acb6d13f-27f3-420e-8cef-d80fb7813fc2</td>\n",
       "      <td>2017-08-07 19:13:11.542</td>\n",
       "      <td>28269.25</td>\n",
       "      <td>-1302.31</td>\n",
       "      <td>2163.13</td>\n",
       "      <td>29130.07</td>\n",
       "      <td>1</td>\n",
       "      <td>29130.07</td>\n",
       "    </tr>\n",
       "    <tr>\n",
       "      <th>492888</th>\n",
       "      <td>df02e3b2-f83f-428f-8bda-c0f5293e6ddb</td>\n",
       "      <td>2016-10-11 05:53:56.543</td>\n",
       "      <td>24997.81</td>\n",
       "      <td>-90.13</td>\n",
       "      <td>603.59</td>\n",
       "      <td>25511.27</td>\n",
       "      <td>1</td>\n",
       "      <td>25511.27</td>\n",
       "    </tr>\n",
       "    <tr>\n",
       "      <th>124094</th>\n",
       "      <td>3841e8eb-c047-47b9-b1bb-aa117ca8121d</td>\n",
       "      <td>2017-06-25 10:23:10.752</td>\n",
       "      <td>22839.71</td>\n",
       "      <td>-91.43</td>\n",
       "      <td>1548.12</td>\n",
       "      <td>24296.40</td>\n",
       "      <td>1</td>\n",
       "      <td>24296.40</td>\n",
       "    </tr>\n",
       "    <tr>\n",
       "      <th>363591</th>\n",
       "      <td>a48ddf05-9e18-4c05-9514-bbb2de8b304e</td>\n",
       "      <td>2017-09-15 12:02:13.293</td>\n",
       "      <td>22676.53</td>\n",
       "      <td>-25.20</td>\n",
       "      <td>319.18</td>\n",
       "      <td>22970.51</td>\n",
       "      <td>1</td>\n",
       "      <td>22970.51</td>\n",
       "    </tr>\n",
       "    <tr>\n",
       "      <th>466948</th>\n",
       "      <td>d363380d-1e19-4c0d-98f5-0c97d6a514b9</td>\n",
       "      <td>2017-03-14 18:38:21.261</td>\n",
       "      <td>20530.05</td>\n",
       "      <td>0.00</td>\n",
       "      <td>1157.35</td>\n",
       "      <td>21687.40</td>\n",
       "      <td>1</td>\n",
       "      <td>21687.40</td>\n",
       "    </tr>\n",
       "    <tr>\n",
       "      <th>66173</th>\n",
       "      <td>1dfd5300-f30c-4e99-86bc-b158559e4dfc</td>\n",
       "      <td>2016-12-15 15:34:56.919</td>\n",
       "      <td>20472.92</td>\n",
       "      <td>-1625.86</td>\n",
       "      <td>2207.44</td>\n",
       "      <td>21054.50</td>\n",
       "      <td>1</td>\n",
       "      <td>21054.50</td>\n",
       "    </tr>\n",
       "    <tr>\n",
       "      <th>369551</th>\n",
       "      <td>a73a431f-b8f8-4a9c-b839-0091be9e4433</td>\n",
       "      <td>2016-10-12 23:00:48.589</td>\n",
       "      <td>19447.61</td>\n",
       "      <td>11.26</td>\n",
       "      <td>184.08</td>\n",
       "      <td>19642.95</td>\n",
       "      <td>1</td>\n",
       "      <td>19642.95</td>\n",
       "    </tr>\n",
       "    <tr>\n",
       "      <th>83251</th>\n",
       "      <td>25cf9821-ddb1-4c66-861d-bcc30b6d49c0</td>\n",
       "      <td>2017-01-13 20:10:43.712</td>\n",
       "      <td>11878.21</td>\n",
       "      <td>1308.34</td>\n",
       "      <td>5065.89</td>\n",
       "      <td>18252.44</td>\n",
       "      <td>1</td>\n",
       "      <td>18252.44</td>\n",
       "    </tr>\n",
       "    <tr>\n",
       "      <th>323265</th>\n",
       "      <td>923492d8-d04e-49a1-9c60-8c95d4597d4c</td>\n",
       "      <td>2016-11-07 00:22:56.164</td>\n",
       "      <td>14303.56</td>\n",
       "      <td>8.57</td>\n",
       "      <td>860.87</td>\n",
       "      <td>15173.00</td>\n",
       "      <td>1</td>\n",
       "      <td>15173.00</td>\n",
       "    </tr>\n",
       "    <tr>\n",
       "      <th>201655</th>\n",
       "      <td>5b484d6e-9003-4878-95b3-bd20e4bbdbab</td>\n",
       "      <td>2017-09-09 14:35:04.904</td>\n",
       "      <td>14076.76</td>\n",
       "      <td>-795.11</td>\n",
       "      <td>1616.62</td>\n",
       "      <td>14898.27</td>\n",
       "      <td>1</td>\n",
       "      <td>14898.27</td>\n",
       "    </tr>\n",
       "    <tr>\n",
       "      <th>103634</th>\n",
       "      <td>2efa0010-5381-4ab9-8673-4c7393814340</td>\n",
       "      <td>2017-07-12 15:25:59.909</td>\n",
       "      <td>12151.51</td>\n",
       "      <td>91.50</td>\n",
       "      <td>2349.41</td>\n",
       "      <td>14592.42</td>\n",
       "      <td>1</td>\n",
       "      <td>14592.42</td>\n",
       "    </tr>\n",
       "    <tr>\n",
       "      <th>509549</th>\n",
       "      <td>e68798fc-f35a-45ca-a2b3-a8e83ca49ed8</td>\n",
       "      <td>2017-05-06 19:02:06.240</td>\n",
       "      <td>13776.98</td>\n",
       "      <td>-67.83</td>\n",
       "      <td>727.15</td>\n",
       "      <td>14436.30</td>\n",
       "      <td>1</td>\n",
       "      <td>14436.30</td>\n",
       "    </tr>\n",
       "    <tr>\n",
       "      <th>181576</th>\n",
       "      <td>5240727e-63f9-47e7-819d-30ea20b41877</td>\n",
       "      <td>2017-04-24 12:46:37.308</td>\n",
       "      <td>12546.70</td>\n",
       "      <td>-3.78</td>\n",
       "      <td>1324.07</td>\n",
       "      <td>13866.99</td>\n",
       "      <td>1</td>\n",
       "      <td>13866.99</td>\n",
       "    </tr>\n",
       "    <tr>\n",
       "      <th>396336</th>\n",
       "      <td>b3528838-d37d-4ae5-a453-880f6128fad6</td>\n",
       "      <td>2017-01-05 10:30:54.458</td>\n",
       "      <td>12504.80</td>\n",
       "      <td>-182.71</td>\n",
       "      <td>596.55</td>\n",
       "      <td>12918.64</td>\n",
       "      <td>1</td>\n",
       "      <td>12918.64</td>\n",
       "    </tr>\n",
       "    <tr>\n",
       "      <th>339434</th>\n",
       "      <td>9988c764-6dba-4c26-a89b-1609c09a7756</td>\n",
       "      <td>2017-04-26 14:42:13.590</td>\n",
       "      <td>11982.81</td>\n",
       "      <td>-141.18</td>\n",
       "      <td>666.08</td>\n",
       "      <td>12507.71</td>\n",
       "      <td>1</td>\n",
       "      <td>12507.71</td>\n",
       "    </tr>\n",
       "  </tbody>\n",
       "</table>\n",
       "</div>"
      ],
      "text/plain": [
       "                                     user_id bux_account_created_dts  \\\n",
       "381732  acb6d13f-27f3-420e-8cef-d80fb7813fc2 2017-08-07 19:13:11.542   \n",
       "492888  df02e3b2-f83f-428f-8bda-c0f5293e6ddb 2016-10-11 05:53:56.543   \n",
       "124094  3841e8eb-c047-47b9-b1bb-aa117ca8121d 2017-06-25 10:23:10.752   \n",
       "363591  a48ddf05-9e18-4c05-9514-bbb2de8b304e 2017-09-15 12:02:13.293   \n",
       "466948  d363380d-1e19-4c0d-98f5-0c97d6a514b9 2017-03-14 18:38:21.261   \n",
       "66173   1dfd5300-f30c-4e99-86bc-b158559e4dfc 2016-12-15 15:34:56.919   \n",
       "369551  a73a431f-b8f8-4a9c-b839-0091be9e4433 2016-10-12 23:00:48.589   \n",
       "83251   25cf9821-ddb1-4c66-861d-bcc30b6d49c0 2017-01-13 20:10:43.712   \n",
       "323265  923492d8-d04e-49a1-9c60-8c95d4597d4c 2016-11-07 00:22:56.164   \n",
       "201655  5b484d6e-9003-4878-95b3-bd20e4bbdbab 2017-09-09 14:35:04.904   \n",
       "103634  2efa0010-5381-4ab9-8673-4c7393814340 2017-07-12 15:25:59.909   \n",
       "509549  e68798fc-f35a-45ca-a2b3-a8e83ca49ed8 2017-05-06 19:02:06.240   \n",
       "181576  5240727e-63f9-47e7-819d-30ea20b41877 2017-04-24 12:46:37.308   \n",
       "396336  b3528838-d37d-4ae5-a453-880f6128fad6 2017-01-05 10:30:54.458   \n",
       "339434  9988c764-6dba-4c26-a89b-1609c09a7756 2017-04-26 14:42:13.590   \n",
       "\n",
       "             com       div       ff     total  whale       CLV  \n",
       "381732  28269.25  -1302.31  2163.13  29130.07      1  29130.07  \n",
       "492888  24997.81    -90.13   603.59  25511.27      1  25511.27  \n",
       "124094  22839.71    -91.43  1548.12  24296.40      1  24296.40  \n",
       "363591  22676.53    -25.20   319.18  22970.51      1  22970.51  \n",
       "466948  20530.05      0.00  1157.35  21687.40      1  21687.40  \n",
       "66173   20472.92  -1625.86  2207.44  21054.50      1  21054.50  \n",
       "369551  19447.61     11.26   184.08  19642.95      1  19642.95  \n",
       "83251   11878.21   1308.34  5065.89  18252.44      1  18252.44  \n",
       "323265  14303.56      8.57   860.87  15173.00      1  15173.00  \n",
       "201655  14076.76   -795.11  1616.62  14898.27      1  14898.27  \n",
       "103634  12151.51     91.50  2349.41  14592.42      1  14592.42  \n",
       "509549  13776.98    -67.83   727.15  14436.30      1  14436.30  \n",
       "181576  12546.70     -3.78  1324.07  13866.99      1  13866.99  \n",
       "396336  12504.80   -182.71   596.55  12918.64      1  12918.64  \n",
       "339434  11982.81   -141.18   666.08  12507.71      1  12507.71  "
      ]
     },
     "execution_count": 60,
     "metadata": {},
     "output_type": "execute_result"
    }
   ],
   "source": [
    "CurCV_1yCohort_6mCurCV.sort_values(by=\"CLV\", ascending=False)[0:15]"
   ]
  },
  {
   "cell_type": "code",
   "execution_count": 96,
   "metadata": {
    "collapsed": false
   },
   "outputs": [
    {
     "data": {
      "text/html": [
       "<div>\n",
       "<style>\n",
       "    .dataframe thead tr:only-child th {\n",
       "        text-align: right;\n",
       "    }\n",
       "\n",
       "    .dataframe thead th {\n",
       "        text-align: left;\n",
       "    }\n",
       "\n",
       "    .dataframe tbody tr th {\n",
       "        vertical-align: top;\n",
       "    }\n",
       "</style>\n",
       "<table border=\"1\" class=\"dataframe\">\n",
       "  <thead>\n",
       "    <tr style=\"text-align: right;\">\n",
       "      <th></th>\n",
       "      <th>user_id</th>\n",
       "      <th>bux_account_created_dts</th>\n",
       "      <th>com</th>\n",
       "      <th>div</th>\n",
       "      <th>ff</th>\n",
       "      <th>total</th>\n",
       "      <th>whale</th>\n",
       "      <th>CLV</th>\n",
       "    </tr>\n",
       "  </thead>\n",
       "  <tbody>\n",
       "    <tr>\n",
       "      <th>277645</th>\n",
       "      <td>7d903ec2-62fb-4461-860a-6b61fa94c0dc</td>\n",
       "      <td>2017-05-09 20:25:26.566</td>\n",
       "      <td>35.30</td>\n",
       "      <td>-402.13</td>\n",
       "      <td>74.90</td>\n",
       "      <td>-291.93</td>\n",
       "      <td>0</td>\n",
       "      <td>-291.93</td>\n",
       "    </tr>\n",
       "    <tr>\n",
       "      <th>418226</th>\n",
       "      <td>bd50b13a-3890-4b15-b7c5-7fe3c534e4ba</td>\n",
       "      <td>2017-01-25 13:36:23.838</td>\n",
       "      <td>1996.15</td>\n",
       "      <td>-5652.77</td>\n",
       "      <td>792.31</td>\n",
       "      <td>-2864.31</td>\n",
       "      <td>0</td>\n",
       "      <td>-2864.31</td>\n",
       "    </tr>\n",
       "  </tbody>\n",
       "</table>\n",
       "</div>"
      ],
      "text/plain": [
       "                                     user_id bux_account_created_dts      com  \\\n",
       "277645  7d903ec2-62fb-4461-860a-6b61fa94c0dc 2017-05-09 20:25:26.566    35.30   \n",
       "418226  bd50b13a-3890-4b15-b7c5-7fe3c534e4ba 2017-01-25 13:36:23.838  1996.15   \n",
       "\n",
       "             div      ff     total  whale      CLV  \n",
       "277645   -402.13   74.90   -291.93      0  -291.93  \n",
       "418226  -5652.77  792.31  -2864.31      0 -2864.31  "
      ]
     },
     "execution_count": 96,
     "metadata": {},
     "output_type": "execute_result"
    }
   ],
   "source": [
    "CurCV_1yCohort_6mCurCV[CurCV_1yCohort_6mCurCV[\"CLV\"] < -100]"
   ]
  },
  {
   "cell_type": "code",
   "execution_count": 44,
   "metadata": {
    "collapsed": false
   },
   "outputs": [
    {
     "data": {
      "text/plain": [
       "count    565983.000000\n",
       "mean          4.340459\n",
       "std         137.687575\n",
       "min       -2864.310000\n",
       "25%           0.000000\n",
       "50%           0.000000\n",
       "75%           0.000000\n",
       "max       29130.070000\n",
       "Name: CLV, dtype: float64"
      ]
     },
     "execution_count": 44,
     "metadata": {},
     "output_type": "execute_result"
    }
   ],
   "source": [
    "CurCV_1yCohort_6mCurCV[\"CLV\"].describe()"
   ]
  },
  {
   "cell_type": "code",
   "execution_count": 42,
   "metadata": {
    "collapsed": false
   },
   "outputs": [
    {
     "data": {
      "text/html": [
       "<div>\n",
       "<style>\n",
       "    .dataframe thead tr:only-child th {\n",
       "        text-align: right;\n",
       "    }\n",
       "\n",
       "    .dataframe thead th {\n",
       "        text-align: left;\n",
       "    }\n",
       "\n",
       "    .dataframe tbody tr th {\n",
       "        vertical-align: top;\n",
       "    }\n",
       "</style>\n",
       "<table border=\"1\" class=\"dataframe\">\n",
       "  <thead>\n",
       "    <tr style=\"text-align: right;\">\n",
       "      <th></th>\n",
       "      <th>user_id</th>\n",
       "      <th>bux_account_created_dts</th>\n",
       "      <th>com</th>\n",
       "      <th>div</th>\n",
       "      <th>ff</th>\n",
       "      <th>total</th>\n",
       "      <th>whale</th>\n",
       "      <th>CLV</th>\n",
       "    </tr>\n",
       "  </thead>\n",
       "  <tbody>\n",
       "    <tr>\n",
       "      <th>0</th>\n",
       "      <td>00001025-a69f-498c-be1e-6fc4ec96453b</td>\n",
       "      <td>2016-10-01 07:48:23.647</td>\n",
       "      <td>0</td>\n",
       "      <td>0</td>\n",
       "      <td>0</td>\n",
       "      <td>0</td>\n",
       "      <td>0</td>\n",
       "      <td>0.0</td>\n",
       "    </tr>\n",
       "    <tr>\n",
       "      <th>1</th>\n",
       "      <td>00001e00-0bc0-4de5-a212-c19a9afe0dc0</td>\n",
       "      <td>2017-08-21 07:05:33.269</td>\n",
       "      <td>0</td>\n",
       "      <td>0</td>\n",
       "      <td>0</td>\n",
       "      <td>0</td>\n",
       "      <td>0</td>\n",
       "      <td>0.0</td>\n",
       "    </tr>\n",
       "    <tr>\n",
       "      <th>2</th>\n",
       "      <td>00003ad5-d62d-4a88-ae32-558b9ac70915</td>\n",
       "      <td>2017-01-22 18:43:34.760</td>\n",
       "      <td>0</td>\n",
       "      <td>0</td>\n",
       "      <td>0</td>\n",
       "      <td>0</td>\n",
       "      <td>0</td>\n",
       "      <td>0.0</td>\n",
       "    </tr>\n",
       "    <tr>\n",
       "      <th>3</th>\n",
       "      <td>0000656b-8703-4505-917d-652b80545a1f</td>\n",
       "      <td>2017-09-28 11:04:33.659</td>\n",
       "      <td>0</td>\n",
       "      <td>0</td>\n",
       "      <td>0</td>\n",
       "      <td>0</td>\n",
       "      <td>0</td>\n",
       "      <td>0.0</td>\n",
       "    </tr>\n",
       "    <tr>\n",
       "      <th>4</th>\n",
       "      <td>00008058-2e3f-42dd-a9d7-8ee371d876ab</td>\n",
       "      <td>2017-05-10 13:26:35.931</td>\n",
       "      <td>0</td>\n",
       "      <td>0</td>\n",
       "      <td>0</td>\n",
       "      <td>0</td>\n",
       "      <td>0</td>\n",
       "      <td>0.0</td>\n",
       "    </tr>\n",
       "  </tbody>\n",
       "</table>\n",
       "</div>"
      ],
      "text/plain": [
       "                                user_id bux_account_created_dts com div ff  \\\n",
       "0  00001025-a69f-498c-be1e-6fc4ec96453b 2016-10-01 07:48:23.647   0   0  0   \n",
       "1  00001e00-0bc0-4de5-a212-c19a9afe0dc0 2017-08-21 07:05:33.269   0   0  0   \n",
       "2  00003ad5-d62d-4a88-ae32-558b9ac70915 2017-01-22 18:43:34.760   0   0  0   \n",
       "3  0000656b-8703-4505-917d-652b80545a1f 2017-09-28 11:04:33.659   0   0  0   \n",
       "4  00008058-2e3f-42dd-a9d7-8ee371d876ab 2017-05-10 13:26:35.931   0   0  0   \n",
       "\n",
       "  total  whale  CLV  \n",
       "0     0      0  0.0  \n",
       "1     0      0  0.0  \n",
       "2     0      0  0.0  \n",
       "3     0      0  0.0  \n",
       "4     0      0  0.0  "
      ]
     },
     "execution_count": 42,
     "metadata": {},
     "output_type": "execute_result"
    }
   ],
   "source": [
    "CurCV_1yCohort_6mCurCV.head()"
   ]
  },
  {
   "cell_type": "code",
   "execution_count": 69,
   "metadata": {
    "collapsed": false
   },
   "outputs": [
    {
     "data": {
      "text/plain": [
       "0    46110\n",
       "1     4611\n",
       "Name: whale, dtype: int64"
      ]
     },
     "execution_count": 69,
     "metadata": {},
     "output_type": "execute_result"
    }
   ],
   "source": [
    "from sklearn.utils import resample\n",
    "\n",
    "# Separate majority and minority classes\n",
    "df_majority = CurCV_1yCohort_6mCurCV[CurCV_1yCohort_6mCurCV[\"whale\"] == 0]\n",
    "df_minority = CurCV_1yCohort_6mCurCV[CurCV_1yCohort_6mCurCV[\"whale\"] == 1]\n",
    " \n",
    "# Downsample majority class\n",
    "df_majority_downsampled = resample(df_majority, \n",
    "                                 replace=False,    # sample without replacement\n",
    "                                 n_samples=num_of_whales*10,     # to match minority class\n",
    "                                 random_state=123) # reproducible results\n",
    " \n",
    "# Combine minority class with downsampled majority class\n",
    "df_downsampled = pd.concat([df_majority_downsampled, df_minority])\n",
    " \n",
    "# Display new class counts\n",
    "df_downsampled[\"whale\"].value_counts()"
   ]
  },
  {
   "cell_type": "code",
   "execution_count": 70,
   "metadata": {
    "collapsed": false
   },
   "outputs": [
    {
     "data": {
      "text/html": [
       "<div>\n",
       "<style>\n",
       "    .dataframe thead tr:only-child th {\n",
       "        text-align: right;\n",
       "    }\n",
       "\n",
       "    .dataframe thead th {\n",
       "        text-align: left;\n",
       "    }\n",
       "\n",
       "    .dataframe tbody tr th {\n",
       "        vertical-align: top;\n",
       "    }\n",
       "</style>\n",
       "<table border=\"1\" class=\"dataframe\">\n",
       "  <thead>\n",
       "    <tr style=\"text-align: right;\">\n",
       "      <th></th>\n",
       "      <th>user_id</th>\n",
       "      <th>bux_account_created_dts</th>\n",
       "      <th>com</th>\n",
       "      <th>div</th>\n",
       "      <th>ff</th>\n",
       "      <th>total</th>\n",
       "      <th>whale</th>\n",
       "      <th>CLV</th>\n",
       "    </tr>\n",
       "  </thead>\n",
       "  <tbody>\n",
       "    <tr>\n",
       "      <th>305729</th>\n",
       "      <td>8a35d43b-b4be-4c0c-82c1-bee7b760bd87</td>\n",
       "      <td>2016-12-26 13:20:05.768</td>\n",
       "      <td>0</td>\n",
       "      <td>0</td>\n",
       "      <td>0</td>\n",
       "      <td>0</td>\n",
       "      <td>0</td>\n",
       "      <td>0.00</td>\n",
       "    </tr>\n",
       "    <tr>\n",
       "      <th>262165</th>\n",
       "      <td>76a63b6c-b839-4940-a09d-f3c7d312eaaa</td>\n",
       "      <td>2017-09-15 17:23:47.783</td>\n",
       "      <td>0</td>\n",
       "      <td>0</td>\n",
       "      <td>0</td>\n",
       "      <td>0</td>\n",
       "      <td>0</td>\n",
       "      <td>0.00</td>\n",
       "    </tr>\n",
       "    <tr>\n",
       "      <th>379319</th>\n",
       "      <td>aba37f50-7dd7-43e4-8110-557c892b90b1</td>\n",
       "      <td>2016-11-01 14:51:27.960</td>\n",
       "      <td>0</td>\n",
       "      <td>0</td>\n",
       "      <td>0</td>\n",
       "      <td>0</td>\n",
       "      <td>0</td>\n",
       "      <td>0.00</td>\n",
       "    </tr>\n",
       "    <tr>\n",
       "      <th>220680</th>\n",
       "      <td>64095894-06e8-49bf-a265-a9ac02bb8d29</td>\n",
       "      <td>2017-05-15 17:34:36.036</td>\n",
       "      <td>0</td>\n",
       "      <td>0</td>\n",
       "      <td>0</td>\n",
       "      <td>0</td>\n",
       "      <td>0</td>\n",
       "      <td>0.00</td>\n",
       "    </tr>\n",
       "    <tr>\n",
       "      <th>147611</th>\n",
       "      <td>42e702f2-a492-43fd-8e45-13fa53f4a351</td>\n",
       "      <td>2017-07-24 18:36:57.613</td>\n",
       "      <td>0</td>\n",
       "      <td>0</td>\n",
       "      <td>0</td>\n",
       "      <td>0</td>\n",
       "      <td>0</td>\n",
       "      <td>0.00</td>\n",
       "    </tr>\n",
       "    <tr>\n",
       "      <th>316664</th>\n",
       "      <td>8f3c08f8-d9b8-469a-a43f-af4947c7c325</td>\n",
       "      <td>2016-10-19 19:54:50.773</td>\n",
       "      <td>0</td>\n",
       "      <td>0</td>\n",
       "      <td>0</td>\n",
       "      <td>0</td>\n",
       "      <td>0</td>\n",
       "      <td>0.00</td>\n",
       "    </tr>\n",
       "    <tr>\n",
       "      <th>137602</th>\n",
       "      <td>3e549c63-b57d-4a8e-8db7-b5440dd4b25d</td>\n",
       "      <td>2017-04-17 17:17:26.015</td>\n",
       "      <td>0</td>\n",
       "      <td>0</td>\n",
       "      <td>0</td>\n",
       "      <td>0</td>\n",
       "      <td>0</td>\n",
       "      <td>0.00</td>\n",
       "    </tr>\n",
       "    <tr>\n",
       "      <th>324149</th>\n",
       "      <td>9297cc15-ed40-464a-850b-447ea5405f60</td>\n",
       "      <td>2016-12-27 23:55:21.909</td>\n",
       "      <td>0</td>\n",
       "      <td>0</td>\n",
       "      <td>0</td>\n",
       "      <td>0</td>\n",
       "      <td>0</td>\n",
       "      <td>0.00</td>\n",
       "    </tr>\n",
       "    <tr>\n",
       "      <th>348172</th>\n",
       "      <td>9d8548ae-d4da-4e4c-8398-499ebd5e892b</td>\n",
       "      <td>2017-01-02 12:03:34.071</td>\n",
       "      <td>0</td>\n",
       "      <td>0</td>\n",
       "      <td>0</td>\n",
       "      <td>0</td>\n",
       "      <td>0</td>\n",
       "      <td>0.00</td>\n",
       "    </tr>\n",
       "    <tr>\n",
       "      <th>254209</th>\n",
       "      <td>730c54b2-8b55-4a4f-b696-fb5f81226a1c</td>\n",
       "      <td>2017-02-14 20:02:47.074</td>\n",
       "      <td>0</td>\n",
       "      <td>0</td>\n",
       "      <td>0</td>\n",
       "      <td>0</td>\n",
       "      <td>0</td>\n",
       "      <td>0.00</td>\n",
       "    </tr>\n",
       "    <tr>\n",
       "      <th>210165</th>\n",
       "      <td>5f334f09-91f4-4db1-8e8e-d70dc310de5e</td>\n",
       "      <td>2017-08-21 20:49:51.391</td>\n",
       "      <td>0</td>\n",
       "      <td>0</td>\n",
       "      <td>0</td>\n",
       "      <td>0</td>\n",
       "      <td>0</td>\n",
       "      <td>0.00</td>\n",
       "    </tr>\n",
       "    <tr>\n",
       "      <th>335114</th>\n",
       "      <td>9795f41d-4f91-4987-ad8a-1694a7b994c1</td>\n",
       "      <td>2016-11-27 22:29:53.980</td>\n",
       "      <td>0</td>\n",
       "      <td>0</td>\n",
       "      <td>0</td>\n",
       "      <td>0</td>\n",
       "      <td>0</td>\n",
       "      <td>0.00</td>\n",
       "    </tr>\n",
       "    <tr>\n",
       "      <th>96734</th>\n",
       "      <td>2be4d189-750a-4d01-8cb5-1f95d4d45dc0</td>\n",
       "      <td>2017-03-11 08:50:30.836</td>\n",
       "      <td>0</td>\n",
       "      <td>0</td>\n",
       "      <td>0</td>\n",
       "      <td>0</td>\n",
       "      <td>0</td>\n",
       "      <td>0.00</td>\n",
       "    </tr>\n",
       "    <tr>\n",
       "      <th>521278</th>\n",
       "      <td>ebc890dd-ba0f-4241-8182-8c864d43e16e</td>\n",
       "      <td>2017-03-16 09:08:23.993</td>\n",
       "      <td>0</td>\n",
       "      <td>0</td>\n",
       "      <td>0</td>\n",
       "      <td>0</td>\n",
       "      <td>0</td>\n",
       "      <td>0.00</td>\n",
       "    </tr>\n",
       "    <tr>\n",
       "      <th>31701</th>\n",
       "      <td>0e4b248f-73e3-4cdb-9289-bd00d8434f45</td>\n",
       "      <td>2017-02-12 21:15:12.185</td>\n",
       "      <td>0</td>\n",
       "      <td>0</td>\n",
       "      <td>0</td>\n",
       "      <td>0</td>\n",
       "      <td>0</td>\n",
       "      <td>0.00</td>\n",
       "    </tr>\n",
       "    <tr>\n",
       "      <th>340910</th>\n",
       "      <td>9a33e240-16eb-4a0e-a414-868882854e33</td>\n",
       "      <td>2017-07-19 04:24:42.654</td>\n",
       "      <td>0</td>\n",
       "      <td>0</td>\n",
       "      <td>0</td>\n",
       "      <td>0</td>\n",
       "      <td>0</td>\n",
       "      <td>0.00</td>\n",
       "    </tr>\n",
       "    <tr>\n",
       "      <th>323840</th>\n",
       "      <td>927823f0-a180-4f96-ade2-625e3d367538</td>\n",
       "      <td>2017-01-18 15:28:54.892</td>\n",
       "      <td>0</td>\n",
       "      <td>0</td>\n",
       "      <td>0</td>\n",
       "      <td>0</td>\n",
       "      <td>0</td>\n",
       "      <td>0.00</td>\n",
       "    </tr>\n",
       "    <tr>\n",
       "      <th>36869</th>\n",
       "      <td>109f7687-584e-4c64-a414-cf44ed9b7369</td>\n",
       "      <td>2017-01-30 17:02:20.993</td>\n",
       "      <td>0</td>\n",
       "      <td>0</td>\n",
       "      <td>0</td>\n",
       "      <td>0</td>\n",
       "      <td>0</td>\n",
       "      <td>0.00</td>\n",
       "    </tr>\n",
       "    <tr>\n",
       "      <th>369159</th>\n",
       "      <td>a705e9e3-2db7-4634-8918-dc37e280b5f9</td>\n",
       "      <td>2017-04-23 05:23:00.244</td>\n",
       "      <td>0</td>\n",
       "      <td>0</td>\n",
       "      <td>0</td>\n",
       "      <td>0</td>\n",
       "      <td>0</td>\n",
       "      <td>0.00</td>\n",
       "    </tr>\n",
       "    <tr>\n",
       "      <th>238434</th>\n",
       "      <td>6c0161e3-3abc-4b84-b00b-0f53e89a7537</td>\n",
       "      <td>2017-04-09 07:18:14.992</td>\n",
       "      <td>0</td>\n",
       "      <td>0</td>\n",
       "      <td>0</td>\n",
       "      <td>0</td>\n",
       "      <td>0</td>\n",
       "      <td>0.00</td>\n",
       "    </tr>\n",
       "    <tr>\n",
       "      <th>29465</th>\n",
       "      <td>0d439189-7a9d-4a77-86b9-ea72b368ac49</td>\n",
       "      <td>2017-04-06 21:57:40.813</td>\n",
       "      <td>0</td>\n",
       "      <td>0</td>\n",
       "      <td>0</td>\n",
       "      <td>0</td>\n",
       "      <td>0</td>\n",
       "      <td>0.00</td>\n",
       "    </tr>\n",
       "    <tr>\n",
       "      <th>71758</th>\n",
       "      <td>207eb7aa-52ca-4b56-b317-af2c0fe607cc</td>\n",
       "      <td>2017-08-03 12:14:17.454</td>\n",
       "      <td>0</td>\n",
       "      <td>0</td>\n",
       "      <td>0</td>\n",
       "      <td>0</td>\n",
       "      <td>0</td>\n",
       "      <td>0.00</td>\n",
       "    </tr>\n",
       "    <tr>\n",
       "      <th>354703</th>\n",
       "      <td>a082358f-4abe-4708-a57a-9a28d4d6c342</td>\n",
       "      <td>2016-10-30 18:20:09.630</td>\n",
       "      <td>0</td>\n",
       "      <td>0</td>\n",
       "      <td>0</td>\n",
       "      <td>0</td>\n",
       "      <td>0</td>\n",
       "      <td>0.00</td>\n",
       "    </tr>\n",
       "    <tr>\n",
       "      <th>331278</th>\n",
       "      <td>95d458c5-7068-4ce8-94d0-36c4a175859e</td>\n",
       "      <td>2016-12-28 10:10:38.892</td>\n",
       "      <td>0</td>\n",
       "      <td>0</td>\n",
       "      <td>0</td>\n",
       "      <td>0</td>\n",
       "      <td>0</td>\n",
       "      <td>0.00</td>\n",
       "    </tr>\n",
       "    <tr>\n",
       "      <th>273356</th>\n",
       "      <td>7b9b8a7a-ef22-46f4-b9b0-38482d12869a</td>\n",
       "      <td>2016-11-23 22:30:18.042</td>\n",
       "      <td>0</td>\n",
       "      <td>0</td>\n",
       "      <td>0</td>\n",
       "      <td>0</td>\n",
       "      <td>0</td>\n",
       "      <td>0.00</td>\n",
       "    </tr>\n",
       "    <tr>\n",
       "      <th>127768</th>\n",
       "      <td>39ea596b-2c95-4bad-bc33-523490a29d9b</td>\n",
       "      <td>2016-10-31 17:24:04.702</td>\n",
       "      <td>0</td>\n",
       "      <td>0</td>\n",
       "      <td>0</td>\n",
       "      <td>0</td>\n",
       "      <td>0</td>\n",
       "      <td>0.00</td>\n",
       "    </tr>\n",
       "    <tr>\n",
       "      <th>103075</th>\n",
       "      <td>2eb5af06-1e8c-405f-8b5d-ad593f29a978</td>\n",
       "      <td>2017-02-09 15:09:55.094</td>\n",
       "      <td>0</td>\n",
       "      <td>0</td>\n",
       "      <td>0</td>\n",
       "      <td>0</td>\n",
       "      <td>0</td>\n",
       "      <td>0.00</td>\n",
       "    </tr>\n",
       "    <tr>\n",
       "      <th>296664</th>\n",
       "      <td>86255fd3-443b-416f-851a-0995cf98baad</td>\n",
       "      <td>2016-12-13 16:39:16.131</td>\n",
       "      <td>0</td>\n",
       "      <td>0</td>\n",
       "      <td>0</td>\n",
       "      <td>0</td>\n",
       "      <td>0</td>\n",
       "      <td>0.00</td>\n",
       "    </tr>\n",
       "    <tr>\n",
       "      <th>546170</th>\n",
       "      <td>f70e6dd8-39d2-4d31-94d4-0b56daf39ebd</td>\n",
       "      <td>2017-05-30 12:00:41.221</td>\n",
       "      <td>0</td>\n",
       "      <td>0</td>\n",
       "      <td>0</td>\n",
       "      <td>0</td>\n",
       "      <td>0</td>\n",
       "      <td>0.00</td>\n",
       "    </tr>\n",
       "    <tr>\n",
       "      <th>279789</th>\n",
       "      <td>7e8be301-9a74-4a9e-9e9d-d8e384024bd1</td>\n",
       "      <td>2016-11-22 17:30:41.573</td>\n",
       "      <td>0</td>\n",
       "      <td>0</td>\n",
       "      <td>0</td>\n",
       "      <td>0</td>\n",
       "      <td>0</td>\n",
       "      <td>0.00</td>\n",
       "    </tr>\n",
       "    <tr>\n",
       "      <th>...</th>\n",
       "      <td>...</td>\n",
       "      <td>...</td>\n",
       "      <td>...</td>\n",
       "      <td>...</td>\n",
       "      <td>...</td>\n",
       "      <td>...</td>\n",
       "      <td>...</td>\n",
       "      <td>...</td>\n",
       "    </tr>\n",
       "    <tr>\n",
       "      <th>563243</th>\n",
       "      <td>fec44357-a3cf-4550-82f6-6ed23ed33531</td>\n",
       "      <td>2016-11-05 23:20:57.845</td>\n",
       "      <td>1148.06</td>\n",
       "      <td>-4.80</td>\n",
       "      <td>66.92</td>\n",
       "      <td>1210.18</td>\n",
       "      <td>1</td>\n",
       "      <td>1210.18</td>\n",
       "    </tr>\n",
       "    <tr>\n",
       "      <th>563301</th>\n",
       "      <td>fecb3838-60c8-48c8-ace5-9320f3358e75</td>\n",
       "      <td>2016-11-26 08:50:58.257</td>\n",
       "      <td>89.61</td>\n",
       "      <td>0.00</td>\n",
       "      <td>12.14</td>\n",
       "      <td>101.75</td>\n",
       "      <td>1</td>\n",
       "      <td>101.75</td>\n",
       "    </tr>\n",
       "    <tr>\n",
       "      <th>563537</th>\n",
       "      <td>fee695c8-baf4-44eb-a297-1340db918d66</td>\n",
       "      <td>2017-03-07 20:20:49.426</td>\n",
       "      <td>152.28</td>\n",
       "      <td>-0.64</td>\n",
       "      <td>11.17</td>\n",
       "      <td>162.81</td>\n",
       "      <td>1</td>\n",
       "      <td>162.81</td>\n",
       "    </tr>\n",
       "    <tr>\n",
       "      <th>563634</th>\n",
       "      <td>fef03610-3659-4a50-8c39-3dad9e29dc73</td>\n",
       "      <td>2016-11-09 06:39:54.181</td>\n",
       "      <td>55.07</td>\n",
       "      <td>0.00</td>\n",
       "      <td>0.41</td>\n",
       "      <td>55.48</td>\n",
       "      <td>1</td>\n",
       "      <td>55.48</td>\n",
       "    </tr>\n",
       "    <tr>\n",
       "      <th>563775</th>\n",
       "      <td>ff017177-2cbb-4a76-bb8b-b8973c13ed5f</td>\n",
       "      <td>2017-07-04 02:58:55.576</td>\n",
       "      <td>2054.35</td>\n",
       "      <td>0.00</td>\n",
       "      <td>5.20</td>\n",
       "      <td>2059.55</td>\n",
       "      <td>1</td>\n",
       "      <td>2059.55</td>\n",
       "    </tr>\n",
       "    <tr>\n",
       "      <th>563939</th>\n",
       "      <td>ff15983d-dae1-4ae5-88a2-3e86a214dc13</td>\n",
       "      <td>2017-08-04 13:42:13.008</td>\n",
       "      <td>65.23</td>\n",
       "      <td>0.00</td>\n",
       "      <td>18.53</td>\n",
       "      <td>83.76</td>\n",
       "      <td>1</td>\n",
       "      <td>83.76</td>\n",
       "    </tr>\n",
       "    <tr>\n",
       "      <th>564006</th>\n",
       "      <td>ff1d77fd-eb00-47fa-a17e-09a6c03f4c4a</td>\n",
       "      <td>2017-04-14 11:51:21.242</td>\n",
       "      <td>68.30</td>\n",
       "      <td>-0.09</td>\n",
       "      <td>1.07</td>\n",
       "      <td>69.28</td>\n",
       "      <td>1</td>\n",
       "      <td>69.28</td>\n",
       "    </tr>\n",
       "    <tr>\n",
       "      <th>564030</th>\n",
       "      <td>ff20844b-6d40-44ff-ab2c-7df752a119f5</td>\n",
       "      <td>2017-08-27 13:18:11.900</td>\n",
       "      <td>211.24</td>\n",
       "      <td>-4.92</td>\n",
       "      <td>47.63</td>\n",
       "      <td>253.95</td>\n",
       "      <td>1</td>\n",
       "      <td>253.95</td>\n",
       "    </tr>\n",
       "    <tr>\n",
       "      <th>564055</th>\n",
       "      <td>ff235d8e-191d-4e8c-8d9d-0593ac531147</td>\n",
       "      <td>2016-11-04 00:33:41.102</td>\n",
       "      <td>221.07</td>\n",
       "      <td>-2.80</td>\n",
       "      <td>63.94</td>\n",
       "      <td>282.21</td>\n",
       "      <td>1</td>\n",
       "      <td>282.21</td>\n",
       "    </tr>\n",
       "    <tr>\n",
       "      <th>564059</th>\n",
       "      <td>ff239f4d-af36-4c3d-a298-ecb24bdf3994</td>\n",
       "      <td>2017-07-17 05:40:21.563</td>\n",
       "      <td>221.88</td>\n",
       "      <td>6.08</td>\n",
       "      <td>34.62</td>\n",
       "      <td>262.58</td>\n",
       "      <td>1</td>\n",
       "      <td>262.58</td>\n",
       "    </tr>\n",
       "    <tr>\n",
       "      <th>564152</th>\n",
       "      <td>ff2e1e2a-4db5-45e1-be2c-8c0856e6dabb</td>\n",
       "      <td>2016-11-28 16:46:32.472</td>\n",
       "      <td>909.73</td>\n",
       "      <td>-108.76</td>\n",
       "      <td>107.32</td>\n",
       "      <td>908.29</td>\n",
       "      <td>1</td>\n",
       "      <td>908.29</td>\n",
       "    </tr>\n",
       "    <tr>\n",
       "      <th>564199</th>\n",
       "      <td>ff334634-f07b-4df9-9f3d-b5cacb0e6744</td>\n",
       "      <td>2016-12-27 19:27:18.644</td>\n",
       "      <td>88.19</td>\n",
       "      <td>0.00</td>\n",
       "      <td>3.60</td>\n",
       "      <td>91.79</td>\n",
       "      <td>1</td>\n",
       "      <td>91.79</td>\n",
       "    </tr>\n",
       "    <tr>\n",
       "      <th>564322</th>\n",
       "      <td>ff41d64a-26b7-4c2a-b27b-b2085869ebd8</td>\n",
       "      <td>2017-09-18 07:51:35.406</td>\n",
       "      <td>55.24</td>\n",
       "      <td>-0.93</td>\n",
       "      <td>3.93</td>\n",
       "      <td>58.24</td>\n",
       "      <td>1</td>\n",
       "      <td>58.24</td>\n",
       "    </tr>\n",
       "    <tr>\n",
       "      <th>564375</th>\n",
       "      <td>ff491040-755c-4088-8765-b73ce697c664</td>\n",
       "      <td>2017-09-28 17:10:10.740</td>\n",
       "      <td>56.79</td>\n",
       "      <td>0.00</td>\n",
       "      <td>6.94</td>\n",
       "      <td>63.73</td>\n",
       "      <td>1</td>\n",
       "      <td>63.73</td>\n",
       "    </tr>\n",
       "    <tr>\n",
       "      <th>564413</th>\n",
       "      <td>ff4d16ec-b1be-4b7a-9926-882a716f485d</td>\n",
       "      <td>2017-03-10 08:12:03.068</td>\n",
       "      <td>59.89</td>\n",
       "      <td>0.06</td>\n",
       "      <td>7.89</td>\n",
       "      <td>67.84</td>\n",
       "      <td>1</td>\n",
       "      <td>67.84</td>\n",
       "    </tr>\n",
       "    <tr>\n",
       "      <th>564473</th>\n",
       "      <td>ff5478ef-a6ec-4e37-bccf-693370dac135</td>\n",
       "      <td>2017-07-20 16:37:00.417</td>\n",
       "      <td>104.45</td>\n",
       "      <td>0.00</td>\n",
       "      <td>2.88</td>\n",
       "      <td>107.33</td>\n",
       "      <td>1</td>\n",
       "      <td>107.33</td>\n",
       "    </tr>\n",
       "    <tr>\n",
       "      <th>564582</th>\n",
       "      <td>ff609344-908a-4dfc-8282-c4bc9d8a33ae</td>\n",
       "      <td>2017-09-20 20:46:03.118</td>\n",
       "      <td>52.40</td>\n",
       "      <td>-0.47</td>\n",
       "      <td>4.09</td>\n",
       "      <td>56.02</td>\n",
       "      <td>1</td>\n",
       "      <td>56.02</td>\n",
       "    </tr>\n",
       "    <tr>\n",
       "      <th>564623</th>\n",
       "      <td>ff64ec2e-6988-49d1-bd47-e9ebe8267af8</td>\n",
       "      <td>2017-04-19 15:18:48.933</td>\n",
       "      <td>80.12</td>\n",
       "      <td>2.17</td>\n",
       "      <td>6.04</td>\n",
       "      <td>88.33</td>\n",
       "      <td>1</td>\n",
       "      <td>88.33</td>\n",
       "    </tr>\n",
       "    <tr>\n",
       "      <th>564693</th>\n",
       "      <td>ff6e124b-f742-45e7-9476-08e2286b9edb</td>\n",
       "      <td>2016-12-15 08:01:48.562</td>\n",
       "      <td>87.34</td>\n",
       "      <td>-6.76</td>\n",
       "      <td>11.27</td>\n",
       "      <td>91.85</td>\n",
       "      <td>1</td>\n",
       "      <td>91.85</td>\n",
       "    </tr>\n",
       "    <tr>\n",
       "      <th>564824</th>\n",
       "      <td>ff7cda74-3b07-428e-bfca-ea803e3a3c45</td>\n",
       "      <td>2017-04-15 11:48:40.314</td>\n",
       "      <td>207.74</td>\n",
       "      <td>0.00</td>\n",
       "      <td>2.17</td>\n",
       "      <td>209.91</td>\n",
       "      <td>1</td>\n",
       "      <td>209.91</td>\n",
       "    </tr>\n",
       "    <tr>\n",
       "      <th>564889</th>\n",
       "      <td>ff847afe-6c98-42e6-a74b-98c3b56f0cd8</td>\n",
       "      <td>2016-10-23 13:42:28.688</td>\n",
       "      <td>52.48</td>\n",
       "      <td>0.29</td>\n",
       "      <td>15.35</td>\n",
       "      <td>68.12</td>\n",
       "      <td>1</td>\n",
       "      <td>68.12</td>\n",
       "    </tr>\n",
       "    <tr>\n",
       "      <th>565006</th>\n",
       "      <td>ff8fccb5-b328-48a5-94d5-567de7fe2f42</td>\n",
       "      <td>2017-04-04 16:19:05.838</td>\n",
       "      <td>272.10</td>\n",
       "      <td>0.00</td>\n",
       "      <td>32.12</td>\n",
       "      <td>304.22</td>\n",
       "      <td>1</td>\n",
       "      <td>304.22</td>\n",
       "    </tr>\n",
       "    <tr>\n",
       "      <th>565208</th>\n",
       "      <td>ffa5baae-3faf-4b12-9af7-08a24e1f10b4</td>\n",
       "      <td>2017-01-31 16:31:36.038</td>\n",
       "      <td>108.75</td>\n",
       "      <td>0.15</td>\n",
       "      <td>9.71</td>\n",
       "      <td>118.61</td>\n",
       "      <td>1</td>\n",
       "      <td>118.61</td>\n",
       "    </tr>\n",
       "    <tr>\n",
       "      <th>565259</th>\n",
       "      <td>ffab4d27-a776-4a51-aef7-c53569b83241</td>\n",
       "      <td>2017-08-08 06:39:35.100</td>\n",
       "      <td>85.35</td>\n",
       "      <td>0.00</td>\n",
       "      <td>2.42</td>\n",
       "      <td>87.77</td>\n",
       "      <td>1</td>\n",
       "      <td>87.77</td>\n",
       "    </tr>\n",
       "    <tr>\n",
       "      <th>565372</th>\n",
       "      <td>ffb9c6f5-08b7-4538-9806-9b5d7db0bf8d</td>\n",
       "      <td>2017-08-02 08:09:30.686</td>\n",
       "      <td>218.28</td>\n",
       "      <td>0.00</td>\n",
       "      <td>15.20</td>\n",
       "      <td>233.48</td>\n",
       "      <td>1</td>\n",
       "      <td>233.48</td>\n",
       "    </tr>\n",
       "    <tr>\n",
       "      <th>565423</th>\n",
       "      <td>ffbfe713-adc0-4101-a30e-19f0105c119a</td>\n",
       "      <td>2017-02-01 13:00:10.377</td>\n",
       "      <td>1168.60</td>\n",
       "      <td>-9.17</td>\n",
       "      <td>82.48</td>\n",
       "      <td>1241.91</td>\n",
       "      <td>1</td>\n",
       "      <td>1241.91</td>\n",
       "    </tr>\n",
       "    <tr>\n",
       "      <th>565582</th>\n",
       "      <td>ffd38ff2-c61c-4e2f-800d-1e8a9b2b6efa</td>\n",
       "      <td>2017-09-14 21:21:27.510</td>\n",
       "      <td>98.16</td>\n",
       "      <td>-0.21</td>\n",
       "      <td>0.00</td>\n",
       "      <td>97.95</td>\n",
       "      <td>1</td>\n",
       "      <td>97.95</td>\n",
       "    </tr>\n",
       "    <tr>\n",
       "      <th>565675</th>\n",
       "      <td>ffdef318-60d2-49bb-9ede-118a2ed1dc49</td>\n",
       "      <td>2017-06-12 20:55:41.823</td>\n",
       "      <td>1025.54</td>\n",
       "      <td>7.37</td>\n",
       "      <td>11.03</td>\n",
       "      <td>1043.94</td>\n",
       "      <td>1</td>\n",
       "      <td>1043.94</td>\n",
       "    </tr>\n",
       "    <tr>\n",
       "      <th>565811</th>\n",
       "      <td>ffee8491-5a3e-4760-b8b7-05f86d33f5ca</td>\n",
       "      <td>2017-03-08 07:55:18.487</td>\n",
       "      <td>284.98</td>\n",
       "      <td>12.08</td>\n",
       "      <td>49.11</td>\n",
       "      <td>346.17</td>\n",
       "      <td>1</td>\n",
       "      <td>346.17</td>\n",
       "    </tr>\n",
       "    <tr>\n",
       "      <th>565950</th>\n",
       "      <td>fffcb282-ca9d-4415-9386-4031d6cfa7d0</td>\n",
       "      <td>2017-06-15 08:21:10.870</td>\n",
       "      <td>55.43</td>\n",
       "      <td>-4.89</td>\n",
       "      <td>50.27</td>\n",
       "      <td>100.81</td>\n",
       "      <td>1</td>\n",
       "      <td>100.81</td>\n",
       "    </tr>\n",
       "  </tbody>\n",
       "</table>\n",
       "<p>50721 rows × 8 columns</p>\n",
       "</div>"
      ],
      "text/plain": [
       "                                     user_id bux_account_created_dts      com  \\\n",
       "305729  8a35d43b-b4be-4c0c-82c1-bee7b760bd87 2016-12-26 13:20:05.768        0   \n",
       "262165  76a63b6c-b839-4940-a09d-f3c7d312eaaa 2017-09-15 17:23:47.783        0   \n",
       "379319  aba37f50-7dd7-43e4-8110-557c892b90b1 2016-11-01 14:51:27.960        0   \n",
       "220680  64095894-06e8-49bf-a265-a9ac02bb8d29 2017-05-15 17:34:36.036        0   \n",
       "147611  42e702f2-a492-43fd-8e45-13fa53f4a351 2017-07-24 18:36:57.613        0   \n",
       "316664  8f3c08f8-d9b8-469a-a43f-af4947c7c325 2016-10-19 19:54:50.773        0   \n",
       "137602  3e549c63-b57d-4a8e-8db7-b5440dd4b25d 2017-04-17 17:17:26.015        0   \n",
       "324149  9297cc15-ed40-464a-850b-447ea5405f60 2016-12-27 23:55:21.909        0   \n",
       "348172  9d8548ae-d4da-4e4c-8398-499ebd5e892b 2017-01-02 12:03:34.071        0   \n",
       "254209  730c54b2-8b55-4a4f-b696-fb5f81226a1c 2017-02-14 20:02:47.074        0   \n",
       "210165  5f334f09-91f4-4db1-8e8e-d70dc310de5e 2017-08-21 20:49:51.391        0   \n",
       "335114  9795f41d-4f91-4987-ad8a-1694a7b994c1 2016-11-27 22:29:53.980        0   \n",
       "96734   2be4d189-750a-4d01-8cb5-1f95d4d45dc0 2017-03-11 08:50:30.836        0   \n",
       "521278  ebc890dd-ba0f-4241-8182-8c864d43e16e 2017-03-16 09:08:23.993        0   \n",
       "31701   0e4b248f-73e3-4cdb-9289-bd00d8434f45 2017-02-12 21:15:12.185        0   \n",
       "340910  9a33e240-16eb-4a0e-a414-868882854e33 2017-07-19 04:24:42.654        0   \n",
       "323840  927823f0-a180-4f96-ade2-625e3d367538 2017-01-18 15:28:54.892        0   \n",
       "36869   109f7687-584e-4c64-a414-cf44ed9b7369 2017-01-30 17:02:20.993        0   \n",
       "369159  a705e9e3-2db7-4634-8918-dc37e280b5f9 2017-04-23 05:23:00.244        0   \n",
       "238434  6c0161e3-3abc-4b84-b00b-0f53e89a7537 2017-04-09 07:18:14.992        0   \n",
       "29465   0d439189-7a9d-4a77-86b9-ea72b368ac49 2017-04-06 21:57:40.813        0   \n",
       "71758   207eb7aa-52ca-4b56-b317-af2c0fe607cc 2017-08-03 12:14:17.454        0   \n",
       "354703  a082358f-4abe-4708-a57a-9a28d4d6c342 2016-10-30 18:20:09.630        0   \n",
       "331278  95d458c5-7068-4ce8-94d0-36c4a175859e 2016-12-28 10:10:38.892        0   \n",
       "273356  7b9b8a7a-ef22-46f4-b9b0-38482d12869a 2016-11-23 22:30:18.042        0   \n",
       "127768  39ea596b-2c95-4bad-bc33-523490a29d9b 2016-10-31 17:24:04.702        0   \n",
       "103075  2eb5af06-1e8c-405f-8b5d-ad593f29a978 2017-02-09 15:09:55.094        0   \n",
       "296664  86255fd3-443b-416f-851a-0995cf98baad 2016-12-13 16:39:16.131        0   \n",
       "546170  f70e6dd8-39d2-4d31-94d4-0b56daf39ebd 2017-05-30 12:00:41.221        0   \n",
       "279789  7e8be301-9a74-4a9e-9e9d-d8e384024bd1 2016-11-22 17:30:41.573        0   \n",
       "...                                      ...                     ...      ...   \n",
       "563243  fec44357-a3cf-4550-82f6-6ed23ed33531 2016-11-05 23:20:57.845  1148.06   \n",
       "563301  fecb3838-60c8-48c8-ace5-9320f3358e75 2016-11-26 08:50:58.257    89.61   \n",
       "563537  fee695c8-baf4-44eb-a297-1340db918d66 2017-03-07 20:20:49.426   152.28   \n",
       "563634  fef03610-3659-4a50-8c39-3dad9e29dc73 2016-11-09 06:39:54.181    55.07   \n",
       "563775  ff017177-2cbb-4a76-bb8b-b8973c13ed5f 2017-07-04 02:58:55.576  2054.35   \n",
       "563939  ff15983d-dae1-4ae5-88a2-3e86a214dc13 2017-08-04 13:42:13.008    65.23   \n",
       "564006  ff1d77fd-eb00-47fa-a17e-09a6c03f4c4a 2017-04-14 11:51:21.242    68.30   \n",
       "564030  ff20844b-6d40-44ff-ab2c-7df752a119f5 2017-08-27 13:18:11.900   211.24   \n",
       "564055  ff235d8e-191d-4e8c-8d9d-0593ac531147 2016-11-04 00:33:41.102   221.07   \n",
       "564059  ff239f4d-af36-4c3d-a298-ecb24bdf3994 2017-07-17 05:40:21.563   221.88   \n",
       "564152  ff2e1e2a-4db5-45e1-be2c-8c0856e6dabb 2016-11-28 16:46:32.472   909.73   \n",
       "564199  ff334634-f07b-4df9-9f3d-b5cacb0e6744 2016-12-27 19:27:18.644    88.19   \n",
       "564322  ff41d64a-26b7-4c2a-b27b-b2085869ebd8 2017-09-18 07:51:35.406    55.24   \n",
       "564375  ff491040-755c-4088-8765-b73ce697c664 2017-09-28 17:10:10.740    56.79   \n",
       "564413  ff4d16ec-b1be-4b7a-9926-882a716f485d 2017-03-10 08:12:03.068    59.89   \n",
       "564473  ff5478ef-a6ec-4e37-bccf-693370dac135 2017-07-20 16:37:00.417   104.45   \n",
       "564582  ff609344-908a-4dfc-8282-c4bc9d8a33ae 2017-09-20 20:46:03.118    52.40   \n",
       "564623  ff64ec2e-6988-49d1-bd47-e9ebe8267af8 2017-04-19 15:18:48.933    80.12   \n",
       "564693  ff6e124b-f742-45e7-9476-08e2286b9edb 2016-12-15 08:01:48.562    87.34   \n",
       "564824  ff7cda74-3b07-428e-bfca-ea803e3a3c45 2017-04-15 11:48:40.314   207.74   \n",
       "564889  ff847afe-6c98-42e6-a74b-98c3b56f0cd8 2016-10-23 13:42:28.688    52.48   \n",
       "565006  ff8fccb5-b328-48a5-94d5-567de7fe2f42 2017-04-04 16:19:05.838   272.10   \n",
       "565208  ffa5baae-3faf-4b12-9af7-08a24e1f10b4 2017-01-31 16:31:36.038   108.75   \n",
       "565259  ffab4d27-a776-4a51-aef7-c53569b83241 2017-08-08 06:39:35.100    85.35   \n",
       "565372  ffb9c6f5-08b7-4538-9806-9b5d7db0bf8d 2017-08-02 08:09:30.686   218.28   \n",
       "565423  ffbfe713-adc0-4101-a30e-19f0105c119a 2017-02-01 13:00:10.377  1168.60   \n",
       "565582  ffd38ff2-c61c-4e2f-800d-1e8a9b2b6efa 2017-09-14 21:21:27.510    98.16   \n",
       "565675  ffdef318-60d2-49bb-9ede-118a2ed1dc49 2017-06-12 20:55:41.823  1025.54   \n",
       "565811  ffee8491-5a3e-4760-b8b7-05f86d33f5ca 2017-03-08 07:55:18.487   284.98   \n",
       "565950  fffcb282-ca9d-4415-9386-4031d6cfa7d0 2017-06-15 08:21:10.870    55.43   \n",
       "\n",
       "            div      ff    total  whale      CLV  \n",
       "305729        0       0        0      0     0.00  \n",
       "262165        0       0        0      0     0.00  \n",
       "379319        0       0        0      0     0.00  \n",
       "220680        0       0        0      0     0.00  \n",
       "147611        0       0        0      0     0.00  \n",
       "316664        0       0        0      0     0.00  \n",
       "137602        0       0        0      0     0.00  \n",
       "324149        0       0        0      0     0.00  \n",
       "348172        0       0        0      0     0.00  \n",
       "254209        0       0        0      0     0.00  \n",
       "210165        0       0        0      0     0.00  \n",
       "335114        0       0        0      0     0.00  \n",
       "96734         0       0        0      0     0.00  \n",
       "521278        0       0        0      0     0.00  \n",
       "31701         0       0        0      0     0.00  \n",
       "340910        0       0        0      0     0.00  \n",
       "323840        0       0        0      0     0.00  \n",
       "36869         0       0        0      0     0.00  \n",
       "369159        0       0        0      0     0.00  \n",
       "238434        0       0        0      0     0.00  \n",
       "29465         0       0        0      0     0.00  \n",
       "71758         0       0        0      0     0.00  \n",
       "354703        0       0        0      0     0.00  \n",
       "331278        0       0        0      0     0.00  \n",
       "273356        0       0        0      0     0.00  \n",
       "127768        0       0        0      0     0.00  \n",
       "103075        0       0        0      0     0.00  \n",
       "296664        0       0        0      0     0.00  \n",
       "546170        0       0        0      0     0.00  \n",
       "279789        0       0        0      0     0.00  \n",
       "...         ...     ...      ...    ...      ...  \n",
       "563243    -4.80   66.92  1210.18      1  1210.18  \n",
       "563301     0.00   12.14   101.75      1   101.75  \n",
       "563537    -0.64   11.17   162.81      1   162.81  \n",
       "563634     0.00    0.41    55.48      1    55.48  \n",
       "563775     0.00    5.20  2059.55      1  2059.55  \n",
       "563939     0.00   18.53    83.76      1    83.76  \n",
       "564006    -0.09    1.07    69.28      1    69.28  \n",
       "564030    -4.92   47.63   253.95      1   253.95  \n",
       "564055    -2.80   63.94   282.21      1   282.21  \n",
       "564059     6.08   34.62   262.58      1   262.58  \n",
       "564152  -108.76  107.32   908.29      1   908.29  \n",
       "564199     0.00    3.60    91.79      1    91.79  \n",
       "564322    -0.93    3.93    58.24      1    58.24  \n",
       "564375     0.00    6.94    63.73      1    63.73  \n",
       "564413     0.06    7.89    67.84      1    67.84  \n",
       "564473     0.00    2.88   107.33      1   107.33  \n",
       "564582    -0.47    4.09    56.02      1    56.02  \n",
       "564623     2.17    6.04    88.33      1    88.33  \n",
       "564693    -6.76   11.27    91.85      1    91.85  \n",
       "564824     0.00    2.17   209.91      1   209.91  \n",
       "564889     0.29   15.35    68.12      1    68.12  \n",
       "565006     0.00   32.12   304.22      1   304.22  \n",
       "565208     0.15    9.71   118.61      1   118.61  \n",
       "565259     0.00    2.42    87.77      1    87.77  \n",
       "565372     0.00   15.20   233.48      1   233.48  \n",
       "565423    -9.17   82.48  1241.91      1  1241.91  \n",
       "565582    -0.21    0.00    97.95      1    97.95  \n",
       "565675     7.37   11.03  1043.94      1  1043.94  \n",
       "565811    12.08   49.11   346.17      1   346.17  \n",
       "565950    -4.89   50.27   100.81      1   100.81  \n",
       "\n",
       "[50721 rows x 8 columns]"
      ]
     },
     "execution_count": 70,
     "metadata": {},
     "output_type": "execute_result"
    }
   ],
   "source": [
    "df_downsampled"
   ]
  },
  {
   "cell_type": "code",
   "execution_count": null,
   "metadata": {
    "collapsed": true
   },
   "outputs": [],
   "source": []
  }
 ],
 "metadata": {
  "anaconda-cloud": {},
  "kernelspec": {
   "display_name": "Python [conda root]",
   "language": "python",
   "name": "conda-root-py"
  },
  "language_info": {
   "codemirror_mode": {
    "name": "ipython",
    "version": 3
   },
   "file_extension": ".py",
   "mimetype": "text/x-python",
   "name": "python",
   "nbconvert_exporter": "python",
   "pygments_lexer": "ipython3",
   "version": "3.5.4"
  }
 },
 "nbformat": 4,
 "nbformat_minor": 1
}
