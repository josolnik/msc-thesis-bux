{
 "cells": [
  {
   "cell_type": "code",
   "execution_count": 1,
   "metadata": {
    "collapsed": false
   },
   "outputs": [
    {
     "name": "stderr",
     "output_type": "stream",
     "text": [
      "/home/jo/anaconda3/lib/python3.5/site-packages/sklearn/cross_validation.py:41: DeprecationWarning: This module was deprecated in version 0.18 in favor of the model_selection module into which all the refactored classes and functions are moved. Also note that the interface of the new CV iterators are different from that of this module. This module will be removed in 0.20.\n",
      "  \"This module will be removed in 0.20.\", DeprecationWarning)\n"
     ]
    }
   ],
   "source": [
    "import pandas as pd\n",
    "import utils\n",
    "import utils_bux\n",
    "import featuretools as ft\n",
    "from sklearn.externals import joblib"
   ]
  },
  {
   "cell_type": "markdown",
   "metadata": {},
   "source": [
    "### DEFINE PIPELINE PARAMETERS"
   ]
  },
  {
   "cell_type": "code",
   "execution_count": 2,
   "metadata": {
    "collapsed": false
   },
   "outputs": [
    {
     "name": "stdout",
     "output_type": "stream",
     "text": [
      "Pipeline parameters defined\n"
     ]
    }
   ],
   "source": [
    "prediction_problem_type = \"binary classification\"\n",
    "show_report = True\n",
    "load_to_vertica = False\n",
    "\n",
    "print(\"Pipeline parameters defined\")"
   ]
  },
  {
   "cell_type": "markdown",
   "metadata": {},
   "source": [
    "### CONNECT TO THE DATABASE"
   ]
  },
  {
   "cell_type": "code",
   "execution_count": 3,
   "metadata": {
    "collapsed": false
   },
   "outputs": [
    {
     "name": "stdout",
     "output_type": "stream",
     "text": [
      "Connected to the database\n"
     ]
    }
   ],
   "source": [
    "# connect to the vertica database, create a cursor\n",
    "cur = utils.connect_to_db()\n",
    "print(\"Connected to the database\")"
   ]
  },
  {
   "cell_type": "markdown",
   "metadata": {},
   "source": [
    "### EXTRACT THE ENTITY SET AND LABELS DATA"
   ]
  },
  {
   "cell_type": "markdown",
   "metadata": {},
   "source": [
    "#### Cohorts entity"
   ]
  },
  {
   "cell_type": "markdown",
   "metadata": {},
   "source": [
    "#### Users entity"
   ]
  },
  {
   "cell_type": "code",
   "execution_count": 4,
   "metadata": {
    "collapsed": true
   },
   "outputs": [],
   "source": [
    "users_timeframe = {\n",
    "                    'users_from': '2018-01-01',\n",
    "                    'users_till': '2018-04-30'\n",
    "}"
   ]
  },
  {
   "cell_type": "code",
   "execution_count": null,
   "metadata": {
    "collapsed": true
   },
   "outputs": [],
   "source": [
    "query_users = \"\"\" \n",
    "        \n",
    "            CREATE LOCAL TEMPORARY TABLE temp_users ON COMMIT PRESERVE ROWS AS\n",
    "            SELECT user_id, country_cd, gender, nationality, platform_type_name, trading_experience, title, network, bux_account_created_dts, ams_first_funded_dts\n",
    "            FROM reporting.user_details\n",
    "            WHERE bux_account_created_dts::date BETWEEN '{users_from}' AND '{users_till}'\n",
    "            LIMIT 2000 OVER (PARTITION BY date_trunc('month', bux_account_created_dts) ORDER BY RANDOMINT(1000000000));\n",
    "        \"\"\".format(users_from=users_from,users_till=users_till)\n",
    "utils.sql_query(cur, query_users)"
   ]
  },
  {
   "cell_type": "code",
   "execution_count": 30,
   "metadata": {
    "collapsed": false
   },
   "outputs": [
    {
     "ename": "KeyError",
     "evalue": "'did_event'",
     "output_type": "error",
     "traceback": [
      "\u001b[0;31m---------------------------------------------------------------------------\u001b[0m",
      "\u001b[0;31mKeyError\u001b[0m                                  Traceback (most recent call last)",
      "\u001b[0;32m<ipython-input-30-e6dfdc55324e>\u001b[0m in \u001b[0;36m<module>\u001b[0;34m()\u001b[0m\n\u001b[1;32m     62\u001b[0m \"\"\"\n\u001b[1;32m     63\u001b[0m \u001b[0;34m\u001b[0m\u001b[0m\n\u001b[0;32m---> 64\u001b[0;31m \u001b[0mtime_to_event_features\u001b[0m \u001b[0;34m=\u001b[0m \u001b[0mutils_bux\u001b[0m\u001b[0;34m.\u001b[0m\u001b[0mbuild_time_to_features\u001b[0m\u001b[0;34m(\u001b[0m\u001b[0mcur\u001b[0m\u001b[0;34m,\u001b[0m \u001b[0mquery_time_to_event\u001b[0m\u001b[0;34m)\u001b[0m\u001b[0;34m\u001b[0m\u001b[0m\n\u001b[0m\u001b[1;32m     65\u001b[0m \u001b[0;34m\u001b[0m\u001b[0m\n\u001b[1;32m     66\u001b[0m \u001b[0;34m\u001b[0m\u001b[0m\n",
      "\u001b[0;32m/home/jo/Documents/Master thesis @ BUX/notebooks/utils_bux.py\u001b[0m in \u001b[0;36mbuild_time_to_features\u001b[0;34m(cur, time_to_event_query)\u001b[0m\n\u001b[1;32m     32\u001b[0m     \u001b[0mtime_to_event\u001b[0m \u001b[0;34m=\u001b[0m \u001b[0mutils\u001b[0m\u001b[0;34m.\u001b[0m\u001b[0msql_query\u001b[0m\u001b[0;34m(\u001b[0m\u001b[0mcur\u001b[0m\u001b[0;34m,\u001b[0m \u001b[0mtime_to_event_query\u001b[0m\u001b[0;34m)\u001b[0m\u001b[0;34m\u001b[0m\u001b[0m\n\u001b[1;32m     33\u001b[0m \u001b[0;34m\u001b[0m\u001b[0m\n\u001b[0;32m---> 34\u001b[0;31m     \u001b[0mbinary_features\u001b[0m \u001b[0;34m=\u001b[0m \u001b[0mpd\u001b[0m\u001b[0;34m.\u001b[0m\u001b[0mpivot_table\u001b[0m\u001b[0;34m(\u001b[0m\u001b[0mtime_to_event\u001b[0m\u001b[0;34m,\u001b[0m \u001b[0mvalues\u001b[0m\u001b[0;34m=\u001b[0m\u001b[0;34m\"did_event\"\u001b[0m\u001b[0;34m,\u001b[0m \u001b[0mindex\u001b[0m\u001b[0;34m=\u001b[0m\u001b[0;34m\"user_id\"\u001b[0m\u001b[0;34m,\u001b[0m \u001b[0mcolumns\u001b[0m\u001b[0;34m=\u001b[0m\u001b[0;34m\"event_name\"\u001b[0m\u001b[0;34m)\u001b[0m\u001b[0;34m.\u001b[0m\u001b[0mreset_index\u001b[0m\u001b[0;34m(\u001b[0m\u001b[0;34m)\u001b[0m\u001b[0;34m\u001b[0m\u001b[0m\n\u001b[0m\u001b[1;32m     35\u001b[0m     \u001b[0mbinary_features\u001b[0m\u001b[0;34m.\u001b[0m\u001b[0mcolumns\u001b[0m \u001b[0;34m=\u001b[0m \u001b[0;34m[\u001b[0m\u001b[0;34m\"user_id\"\u001b[0m\u001b[0;34m]\u001b[0m \u001b[0;34m+\u001b[0m \u001b[0;34m[\u001b[0m\u001b[0mcolumn\u001b[0m \u001b[0;34m+\u001b[0m \u001b[0;34m\"_did_event\"\u001b[0m \u001b[0;32mfor\u001b[0m \u001b[0mcolumn\u001b[0m \u001b[0;32min\u001b[0m \u001b[0mbinary_features\u001b[0m\u001b[0;34m.\u001b[0m\u001b[0mcolumns\u001b[0m\u001b[0;34m[\u001b[0m\u001b[0;36m1\u001b[0m\u001b[0;34m:\u001b[0m\u001b[0;34m]\u001b[0m\u001b[0;34m]\u001b[0m\u001b[0;34m\u001b[0m\u001b[0m\n\u001b[1;32m     36\u001b[0m \u001b[0;34m\u001b[0m\u001b[0m\n",
      "\u001b[0;32m/home/jo/anaconda3/lib/python3.5/site-packages/pandas/core/reshape/pivot.py\u001b[0m in \u001b[0;36mpivot_table\u001b[0;34m(data, values, index, columns, aggfunc, fill_value, margins, dropna, margins_name)\u001b[0m\n\u001b[1;32m    110\u001b[0m         \u001b[0;32mfor\u001b[0m \u001b[0mi\u001b[0m \u001b[0;32min\u001b[0m \u001b[0mvalues\u001b[0m\u001b[0;34m:\u001b[0m\u001b[0;34m\u001b[0m\u001b[0m\n\u001b[1;32m    111\u001b[0m             \u001b[0;32mif\u001b[0m \u001b[0mi\u001b[0m \u001b[0;32mnot\u001b[0m \u001b[0;32min\u001b[0m \u001b[0mdata\u001b[0m\u001b[0;34m:\u001b[0m\u001b[0;34m\u001b[0m\u001b[0m\n\u001b[0;32m--> 112\u001b[0;31m                 \u001b[0;32mraise\u001b[0m \u001b[0mKeyError\u001b[0m\u001b[0;34m(\u001b[0m\u001b[0mi\u001b[0m\u001b[0;34m)\u001b[0m\u001b[0;34m\u001b[0m\u001b[0m\n\u001b[0m\u001b[1;32m    113\u001b[0m \u001b[0;34m\u001b[0m\u001b[0m\n\u001b[1;32m    114\u001b[0m         \u001b[0mto_filter\u001b[0m \u001b[0;34m=\u001b[0m \u001b[0;34m[\u001b[0m\u001b[0;34m]\u001b[0m\u001b[0;34m\u001b[0m\u001b[0m\n",
      "\u001b[0;31mKeyError\u001b[0m: 'did_event'"
     ]
    }
   ],
   "source": [
    "### Users basic features\n",
    "\n",
    "query_users = \"\"\" \n",
    "        \n",
    "            CREATE LOCAL TEMPORARY TABLE temp_users ON COMMIT PRESERVE ROWS AS\n",
    "            SELECT user_id, country_cd, gender, nationality, platform_type_name, trading_experience, title, network, bux_account_created_dts, ams_first_funded_dts\n",
    "            FROM reporting.user_details\n",
    "            WHERE bux_account_created_dts::date BETWEEN '{users_from}' AND '{users_till}'\n",
    "            LIMIT 5000 OVER (PARTITION BY date_trunc('month', bux_account_created_dts) ORDER BY RANDOMINT(1000000000));\n",
    "        \"\"\"\n",
    "\n",
    "utils.sql_query(cur, query_users)\n",
    "\n",
    "\n",
    "\n",
    "### Time to features\n",
    "\n",
    "query_time_to_event = \"\"\"\n",
    "\n",
    "     WITH b AS (SELECT * from meta.bux_events WHERE event_type_id IN (184517115891963731,\n",
    "                                                                 1900024676472176506,\n",
    "                                                                 6343323308049849851,\n",
    "                                                                 260687741711542992,\n",
    "                                                                 428210925287919525,\n",
    "                                                                 1106928361530839317,\n",
    "                                                                 2193673344032322170,\n",
    "                                                                 7378507635926096679,\n",
    "                                                                 98569569354769745,\n",
    "                                                                 229789708966444978,\n",
    "                                                                 617792645229736175,\n",
    "                                                                 1280889395537804445,\n",
    "                                                                 1498292874234664683,\n",
    "                                                                 1793263894043445928,\n",
    "                                                                 2092633507578741654,\n",
    "                                                                 2389031425774675520,\n",
    "                                                                 3784994946525179991,\n",
    "                                                                 4665563951835963528,\n",
    "                                                                 5283878399315578611,\n",
    "                                                                 5678827135657938137,\n",
    "                                                                 6070753512604390982,\n",
    "                                                                 8843571341358969389))\n",
    "   SELECT\n",
    "         a.user_id\n",
    "       , b.event_name\n",
    "       , case\n",
    "              when c.event_type_id is not null\n",
    "              then 1\n",
    "              else 0\n",
    "         end                                                       as did_event\n",
    "       , datediff ('hour', a.bux_account_created_dts, c.event_dts) as hours_till_event\n",
    "    FROM\n",
    "         temp_users a\n",
    "    CROSS JOIN\n",
    "         b\n",
    "    LEFT JOIN\n",
    "         reporting.user_session_events_first_occurence c\n",
    "      ON\n",
    "         c.user_id = a.user_id\n",
    "     AND c.event_type_id = b.event_type_id\n",
    "     AND c.event_dts::date - a.bux_account_created_dts::date <= 7\n",
    "\n",
    "\"\"\"\n",
    "\n",
    "time_to_event_features = utils_bux.build_time_to_features(cur, query_time_to_event)\n",
    "\n",
    "\n",
    "\n",
    "### Initial deposit features\n",
    "\n",
    "query_get_initial_deposit = \"\"\"\n",
    "    SELECT a.user_id, (amount * c.exchange_rate)::numeric(20,2) as initial_deposit_amount_lim, DATEDIFF(DAY, bux_account_created_dts, created_dts) as days_to_initial_deposit\n",
    "    FROM temp_users a\n",
    "    JOIN reporting.transactions b \n",
    "    ON a.user_id = b.user_id \n",
    "    AND b.created_dts < a.bux_account_created_dts + interval '1 week'\n",
    "    JOIN reporting.exchange_rates_eur c\n",
    "    ON c.currency = b.currency\n",
    "    AND c.report_date = b.created_dts::date    \n",
    "    WHERE b.transaction_type = 'DEPOSIT' OR (b.transaction_type = 'CASH_TRANSFER' AND b.amount * c.exchange_rate >= 50)\n",
    "    LIMIT 1 OVER (PARTITION BY a.user_id ORDER BY b.created_dts asc)\n",
    "\n",
    "\"\"\"\n",
    "\n",
    "users_initial_deposit_replace = utils.sql_query(cur, query_get_initial_deposit)\n",
    "\n",
    "\n",
    "\n",
    "### Trading segment feature\n",
    "\n",
    "query_get_users = \"\"\"\n",
    "        SELECT a.*, nvl(b.segment_value, 'No Trades') as trading_segment, date_trunc('week', bux_account_created_dts)::date as report_week\n",
    "        FROM temp_users a\n",
    "        LEFT JOIN reporting.user_segments b\n",
    "        ON b.segment_type = 'Trading Segment'\n",
    "        AND b.user_id = a.user_id\n",
    "        AND a.bux_account_created_dts::date + interval '1 week' between b.valid_from_date and b.valid_to_date\n",
    "        LIMIT 1 OVER (PARTITION BY a.user_id ORDER BY valid_to_date desc)\n",
    "\"\"\"\n",
    "user_details = utils.sql_query(cur, query_get_users)\n",
    "\n",
    "### Merge all users features\n",
    "\n",
    "user_details = utils_bux.merge_users_features(user_details, users_initial_deposit_replace, cohorts, time_to_event_features)\n",
    "print(\"Users entity built\")"
   ]
  },
  {
   "cell_type": "markdown",
   "metadata": {},
   "source": [
    "#### Transactions entity"
   ]
  },
  {
   "cell_type": "code",
   "execution_count": 14,
   "metadata": {
    "collapsed": false
   },
   "outputs": [
    {
     "name": "stdout",
     "output_type": "stream",
     "text": [
      "Entity set and labels data extracted\n"
     ]
    }
   ],
   "source": [
    "query_transactions= \"\"\"\n",
    "\n",
    "    SELECT a.user_id,\n",
    "    a.date,\n",
    "    trades_sb_invested_amount,\n",
    "    financing_deposits_amount,\n",
    "    trades_sb_short,\n",
    "    trades_sb_long,\n",
    "    view_position,\n",
    "    trades_sb_open_positions,\n",
    "    total_session_duration,\n",
    "    education_topic_read,\n",
    "    trades_sb_commission,\n",
    "    trades_fb_forex_open,\n",
    "    trades_sb_forex_open,\n",
    "    conversion_to_sb,\n",
    "    trades_sb_forex_average_leverage,\n",
    "    trades_sb_forex_average_leverage,\n",
    "    (trades_fb_forex_average_leverage + trades_sb_forex_average_leverage) as trades_fbsb_forex_average_leverage,\n",
    "    (trades_fb_forex_average_leverage + trades_sb_forex_average_leverage*10) as trades_fbsb10_forex_average_leverage\n",
    "    FROM temp_users b\n",
    "    JOIN calendar c ON c.date BETWEEN b.bux_account_created_dts::date and b.bux_account_created_dts::date + interval '1 week'\n",
    "    LEFT JOIN reporting.cube_daily_user a ON a.user_id = b.user_id AND a.date = c.date\n",
    "    \n",
    "\n",
    "\"\"\"\n",
    "\n",
    "daily_transactions = utils_bux.mungle_transactions(cur, query_transactions)\n",
    "print(\"Transactions entity built\")\n",
    "\n",
    "\n",
    "\n",
    "print(\"Entity set and labels data extracted\")"
   ]
  },
  {
   "cell_type": "markdown",
   "metadata": {},
   "source": [
    "### CREATE THE ENTITY SET & LABELS"
   ]
  },
  {
   "cell_type": "code",
   "execution_count": null,
   "metadata": {
    "collapsed": true
   },
   "outputs": [],
   "source": [
    "entityset_name = \"bux_clv\"\n",
    "\n",
    "entityset_quads = (\n",
    "    # entity name, entity dataframe, entity index, time index\n",
    "    ['cohorts', cohorts, 'cohort_id', None],\n",
    "    ['users', user_details, 'user_id', 'bux_account_created_dts'],\n",
    "    ['transactions', daily_transactions, 'transaction_id', 'date']\n",
    "    )\n",
    "\n",
    "entity_relationships = (\n",
    "    # parent entity, child entity, key\n",
    "    ['cohorts', 'users', 'cohort_id'],\n",
    "    ['users', 'transactions', 'user_id']\n",
    ")\n",
    "\n",
    "es = utils.create_entity_set(entityset_name, entityset_quads, entity_relationships)\n",
    "\n",
    "# labels = \n",
    "\n",
    "print(\"Entity set and labels built\")"
   ]
  },
  {
   "cell_type": "markdown",
   "metadata": {},
   "source": [
    "### BUILD FEATURES"
   ]
  },
  {
   "cell_type": "code",
   "execution_count": null,
   "metadata": {
    "collapsed": true
   },
   "outputs": [],
   "source": [
    "fm = utils.calculate_feature_matrix_top_features(es, top_features)\n",
    "X = fm_encoded.reset_index().merge(labels)\n",
    "# X.to_csv(\"production_features.csv\")\n",
    "print(\"Features built\")"
   ]
  },
  {
   "cell_type": "markdown",
   "metadata": {},
   "source": [
    "### PREDICTION"
   ]
  },
  {
   "cell_type": "code",
   "execution_count": 16,
   "metadata": {
    "collapsed": false
   },
   "outputs": [
    {
     "name": "stdout",
     "output_type": "stream",
     "text": [
      "Model loaded\n"
     ]
    }
   ],
   "source": [
    "model = joblib.load('models/model.pkl')\n",
    "print(\"Model loaded\")"
   ]
  },
  {
   "cell_type": "code",
   "execution_count": null,
   "metadata": {
    "collapsed": true
   },
   "outputs": [],
   "source": [
    "X, y = utils.make_labels(X, prediction_problem_type)\n",
    "X_train, X_test, y_train, y_test = utils.train_test_splitting(X, y)\n",
    "model = utils.xgboost_train(X_train, y_train, prediction_problem_type)\n",
    "y_pred = utils.xgboost_predict(model, X_test, prediction_problem_type)\n",
    "print(\"Prediction done\")"
   ]
  },
  {
   "cell_type": "markdown",
   "metadata": {},
   "source": [
    "### REPORT"
   ]
  },
  {
   "cell_type": "code",
   "execution_count": 12,
   "metadata": {
    "collapsed": false
   },
   "outputs": [
    {
     "name": "stdout",
     "output_type": "stream",
     "text": [
      "Report\n"
     ]
    }
   ],
   "source": [
    "if show_report == True:\n",
    "    # execute the report\n",
    "    print(\"Report shown\")"
   ]
  },
  {
   "cell_type": "markdown",
   "metadata": {},
   "source": [
    "### LOAD RESULTS INTO VERTICA"
   ]
  },
  {
   "cell_type": "code",
   "execution_count": 13,
   "metadata": {
    "collapsed": false
   },
   "outputs": [
    {
     "name": "stdout",
     "output_type": "stream",
     "text": [
      "Scoring loaded to vertica\n"
     ]
    }
   ],
   "source": [
    "print(\"Scoring loaded to vertica\")"
   ]
  }
 ],
 "metadata": {
  "anaconda-cloud": {},
  "kernelspec": {
   "display_name": "Python [default]",
   "language": "python",
   "name": "python3"
  },
  "language_info": {
   "codemirror_mode": {
    "name": "ipython",
    "version": 3
   },
   "file_extension": ".py",
   "mimetype": "text/x-python",
   "name": "python",
   "nbconvert_exporter": "python",
   "pygments_lexer": "ipython3",
   "version": "3.5.4"
  }
 },
 "nbformat": 4,
 "nbformat_minor": 1
}
