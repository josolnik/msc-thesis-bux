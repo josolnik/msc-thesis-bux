{
 "cells": [
  {
   "cell_type": "code",
   "execution_count": 1,
   "metadata": {
    "collapsed": false
   },
   "outputs": [],
   "source": [
    "# data munging and visualization\n",
    "import numpy as np\n",
    "import pandas as pd\n",
    "import itertools\n",
    "\n",
    "\n",
    "# class imbalance treatment\n",
    "from imblearn.over_sampling import SMOTE\n",
    "from sklearn.utils import resample\n",
    "\n",
    "\n",
    "# visualization\n",
    "import matplotlib.pyplot as plt\n",
    "%matplotlib inline\n",
    "\n",
    "\n",
    "# feature engineering\n",
    "import featuretools as ft\n",
    "\n",
    "\n",
    "# predictor -> classification, regression\n",
    "from sklearn.ensemble import RandomForestClassifier\n",
    "from sklearn.ensemble import RandomForestRegressor\n",
    "from sklearn.ensemble import GradientBoostingRegressor\n",
    "from sklearn.metrics import precision_recall_fscore_support\n",
    "from sklearn.metrics import confusion_matrix\n",
    "from sklearn.model_selection import train_test_split\n",
    "from sklearn.model_selection import cross_val_score\n",
    "from sklearn.metrics import precision_recall_fscore_support as score\n",
    "from sklearn.metrics import f1_score\n",
    "\n",
    "\n",
    "# miscellanous\n",
    "import datetime\n",
    "import os\n",
    "\n",
    "# external functions\n",
    "import utils"
   ]
  },
  {
   "cell_type": "markdown",
   "metadata": {},
   "source": [
    "# Non-parallelized"
   ]
  },
  {
   "cell_type": "markdown",
   "metadata": {},
   "source": [
    "## Users"
   ]
  },
  {
   "cell_type": "code",
   "execution_count": 2,
   "metadata": {
    "collapsed": false
   },
   "outputs": [
    {
     "data": {
      "text/plain": [
       "565983"
      ]
     },
     "execution_count": 2,
     "metadata": {},
     "output_type": "execute_result"
    }
   ],
   "source": [
    "# users = pd.read_csv('data/users_Feb_1_30days_cohort.csv')\n",
    "users = pd.read_csv('data/users_1y_6mCustomerValue.csv')\n",
    "users['bux_account_created_dts'] = pd.to_datetime(users['bux_account_created_dts'])\n",
    "users = users[users.columns[1:]]\n",
    "len(users)"
   ]
  },
  {
   "cell_type": "code",
   "execution_count": 3,
   "metadata": {
    "collapsed": false
   },
   "outputs": [
    {
     "data": {
      "text/plain": [
       "11"
      ]
     },
     "execution_count": 3,
     "metadata": {},
     "output_type": "execute_result"
    }
   ],
   "source": [
    "len(users.columns)"
   ]
  },
  {
   "cell_type": "code",
   "execution_count": 4,
   "metadata": {
    "collapsed": false
   },
   "outputs": [],
   "source": [
    "users['month_year'] = users['bux_account_created_dts'].apply(lambda x: x.strftime('%B-%Y'))"
   ]
  },
  {
   "cell_type": "code",
   "execution_count": 5,
   "metadata": {
    "collapsed": true
   },
   "outputs": [],
   "source": [
    "def calculate_cohort_limit(users, ratio):\n",
    "    cohort_limit_df = pd.DataFrame(users.groupby(\"month_year\").count()[\"user_id\"]).reset_index()\n",
    "    cohort_limit_df.columns = [[\"month_year\", \"count\"]]\n",
    "    cohort_limit_df[\"count/10\"] = (cohort_limit_df[\"count\"] / ratio).astype(int)\n",
    "    return cohort_limit_df"
   ]
  },
  {
   "cell_type": "code",
   "execution_count": 7,
   "metadata": {
    "collapsed": false
   },
   "outputs": [
    {
     "data": {
      "text/html": [
       "<div>\n",
       "<style>\n",
       "    .dataframe thead tr:only-child th {\n",
       "        text-align: right;\n",
       "    }\n",
       "\n",
       "    .dataframe thead th {\n",
       "        text-align: left;\n",
       "    }\n",
       "\n",
       "    .dataframe tbody tr th {\n",
       "        vertical-align: top;\n",
       "    }\n",
       "</style>\n",
       "<table border=\"1\" class=\"dataframe\">\n",
       "  <thead>\n",
       "    <tr style=\"text-align: right;\">\n",
       "      <th></th>\n",
       "      <th>month_year</th>\n",
       "      <th>count</th>\n",
       "      <th>count/n</th>\n",
       "    </tr>\n",
       "  </thead>\n",
       "  <tbody>\n",
       "    <tr>\n",
       "      <th>0</th>\n",
       "      <td>April-2017</td>\n",
       "      <td>48021</td>\n",
       "      <td>4802</td>\n",
       "    </tr>\n",
       "    <tr>\n",
       "      <th>1</th>\n",
       "      <td>August-2017</td>\n",
       "      <td>61159</td>\n",
       "      <td>6115</td>\n",
       "    </tr>\n",
       "    <tr>\n",
       "      <th>2</th>\n",
       "      <td>December-2016</td>\n",
       "      <td>25398</td>\n",
       "      <td>2539</td>\n",
       "    </tr>\n",
       "    <tr>\n",
       "      <th>3</th>\n",
       "      <td>February-2017</td>\n",
       "      <td>56861</td>\n",
       "      <td>5686</td>\n",
       "    </tr>\n",
       "    <tr>\n",
       "      <th>4</th>\n",
       "      <td>January-2017</td>\n",
       "      <td>53645</td>\n",
       "      <td>5364</td>\n",
       "    </tr>\n",
       "    <tr>\n",
       "      <th>5</th>\n",
       "      <td>July-2017</td>\n",
       "      <td>42778</td>\n",
       "      <td>4277</td>\n",
       "    </tr>\n",
       "    <tr>\n",
       "      <th>6</th>\n",
       "      <td>June-2017</td>\n",
       "      <td>34251</td>\n",
       "      <td>3425</td>\n",
       "    </tr>\n",
       "    <tr>\n",
       "      <th>7</th>\n",
       "      <td>March-2017</td>\n",
       "      <td>62328</td>\n",
       "      <td>6232</td>\n",
       "    </tr>\n",
       "    <tr>\n",
       "      <th>8</th>\n",
       "      <td>May-2017</td>\n",
       "      <td>35330</td>\n",
       "      <td>3533</td>\n",
       "    </tr>\n",
       "    <tr>\n",
       "      <th>9</th>\n",
       "      <td>November-2016</td>\n",
       "      <td>45996</td>\n",
       "      <td>4599</td>\n",
       "    </tr>\n",
       "    <tr>\n",
       "      <th>10</th>\n",
       "      <td>October-2016</td>\n",
       "      <td>30561</td>\n",
       "      <td>3056</td>\n",
       "    </tr>\n",
       "    <tr>\n",
       "      <th>11</th>\n",
       "      <td>September-2017</td>\n",
       "      <td>69655</td>\n",
       "      <td>6965</td>\n",
       "    </tr>\n",
       "  </tbody>\n",
       "</table>\n",
       "</div>"
      ],
      "text/plain": [
       "        month_year  count  count/n\n",
       "0       April-2017  48021     4802\n",
       "1      August-2017  61159     6115\n",
       "2    December-2016  25398     2539\n",
       "3    February-2017  56861     5686\n",
       "4     January-2017  53645     5364\n",
       "5        July-2017  42778     4277\n",
       "6        June-2017  34251     3425\n",
       "7       March-2017  62328     6232\n",
       "8         May-2017  35330     3533\n",
       "9    November-2016  45996     4599\n",
       "10    October-2016  30561     3056\n",
       "11  September-2017  69655     6965"
      ]
     },
     "execution_count": 7,
     "metadata": {},
     "output_type": "execute_result"
    }
   ],
   "source": [
    "cohort_limit_df = utils.calculate_cohort_limit(users)\n",
    "cohort_limit_df"
   ]
  },
  {
   "cell_type": "code",
   "execution_count": 8,
   "metadata": {
    "collapsed": false
   },
   "outputs": [],
   "source": [
    "sampled_users = utils.limit_users(cohort_limit_df, users, cohort_limit_df[\"month_year\"][0])"
   ]
  },
  {
   "cell_type": "code",
   "execution_count": 10,
   "metadata": {
    "collapsed": false
   },
   "outputs": [
    {
     "data": {
      "text/plain": [
       "56593"
      ]
     },
     "execution_count": 10,
     "metadata": {},
     "output_type": "execute_result"
    }
   ],
   "source": [
    "sampled_users = pd.DataFrame()\n",
    "\n",
    "\n",
    "for month_year in cohort_limit_df[\"month_year\"][0:]:\n",
    "    sampled_users = sampled_users.append(utils.limit_users(cohort_limit_df, users, month_year))\n",
    "    \n",
    "len(sampled_users)"
   ]
  },
  {
   "cell_type": "code",
   "execution_count": 11,
   "metadata": {
    "collapsed": false
   },
   "outputs": [
    {
     "data": {
      "text/html": [
       "<div>\n",
       "<style>\n",
       "    .dataframe thead tr:only-child th {\n",
       "        text-align: right;\n",
       "    }\n",
       "\n",
       "    .dataframe thead th {\n",
       "        text-align: left;\n",
       "    }\n",
       "\n",
       "    .dataframe tbody tr th {\n",
       "        vertical-align: top;\n",
       "    }\n",
       "</style>\n",
       "<table border=\"1\" class=\"dataframe\">\n",
       "  <thead>\n",
       "    <tr style=\"text-align: right;\">\n",
       "      <th></th>\n",
       "      <th>user_id</th>\n",
       "      <th>country_cd</th>\n",
       "      <th>gender</th>\n",
       "      <th>nationality</th>\n",
       "      <th>platform_type_name</th>\n",
       "      <th>trading_experience</th>\n",
       "      <th>title</th>\n",
       "      <th>network</th>\n",
       "      <th>bux_account_created_dts</th>\n",
       "      <th>ams_first_funded_dts</th>\n",
       "      <th>initial_deposit_amount</th>\n",
       "      <th>month_year</th>\n",
       "    </tr>\n",
       "  </thead>\n",
       "  <tbody>\n",
       "    <tr>\n",
       "      <th>0</th>\n",
       "      <td>00210d1f-ba50-47ae-8c4c-7e8f3b913696</td>\n",
       "      <td>AT</td>\n",
       "      <td>NaN</td>\n",
       "      <td>NaN</td>\n",
       "      <td>Android</td>\n",
       "      <td>NONE</td>\n",
       "      <td>Rookie Trader</td>\n",
       "      <td>Organic</td>\n",
       "      <td>2017-04-29 20:41:15.804</td>\n",
       "      <td>NaN</td>\n",
       "      <td>NaN</td>\n",
       "      <td>April-2017</td>\n",
       "    </tr>\n",
       "    <tr>\n",
       "      <th>1</th>\n",
       "      <td>00a56f5b-3306-4709-a183-a6084ec00875</td>\n",
       "      <td>AT</td>\n",
       "      <td>MALE</td>\n",
       "      <td>AT</td>\n",
       "      <td>Android</td>\n",
       "      <td>NONE</td>\n",
       "      <td>Rookie Trader</td>\n",
       "      <td>Facebook Installs</td>\n",
       "      <td>2017-04-25 15:06:08.110</td>\n",
       "      <td>NaN</td>\n",
       "      <td>NaN</td>\n",
       "      <td>April-2017</td>\n",
       "    </tr>\n",
       "    <tr>\n",
       "      <th>2</th>\n",
       "      <td>01346dc4-12a6-4335-837d-c57982561d81</td>\n",
       "      <td>AT</td>\n",
       "      <td>NaN</td>\n",
       "      <td>NaN</td>\n",
       "      <td>Android</td>\n",
       "      <td>NONE</td>\n",
       "      <td>Rookie Trader</td>\n",
       "      <td>TV</td>\n",
       "      <td>2017-04-24 12:51:40.771</td>\n",
       "      <td>NaN</td>\n",
       "      <td>NaN</td>\n",
       "      <td>April-2017</td>\n",
       "    </tr>\n",
       "    <tr>\n",
       "      <th>3</th>\n",
       "      <td>056f2077-d594-4529-a57f-1c2cfa6a3732</td>\n",
       "      <td>AT</td>\n",
       "      <td>NaN</td>\n",
       "      <td>NaN</td>\n",
       "      <td>Android</td>\n",
       "      <td>NONE</td>\n",
       "      <td>Rookie Trader</td>\n",
       "      <td>Viral Invites</td>\n",
       "      <td>2017-04-19 22:12:35.936</td>\n",
       "      <td>NaN</td>\n",
       "      <td>NaN</td>\n",
       "      <td>April-2017</td>\n",
       "    </tr>\n",
       "    <tr>\n",
       "      <th>4</th>\n",
       "      <td>065a5cfe-b30e-4279-abfe-f3dcab3e7856</td>\n",
       "      <td>AT</td>\n",
       "      <td>NaN</td>\n",
       "      <td>NaN</td>\n",
       "      <td>Android</td>\n",
       "      <td>NONE</td>\n",
       "      <td>Rookie Trader</td>\n",
       "      <td>Organic</td>\n",
       "      <td>2017-04-24 11:46:59.534</td>\n",
       "      <td>NaN</td>\n",
       "      <td>NaN</td>\n",
       "      <td>April-2017</td>\n",
       "    </tr>\n",
       "  </tbody>\n",
       "</table>\n",
       "</div>"
      ],
      "text/plain": [
       "                                user_id country_cd gender nationality  \\\n",
       "0  00210d1f-ba50-47ae-8c4c-7e8f3b913696         AT    NaN         NaN   \n",
       "1  00a56f5b-3306-4709-a183-a6084ec00875         AT   MALE          AT   \n",
       "2  01346dc4-12a6-4335-837d-c57982561d81         AT    NaN         NaN   \n",
       "3  056f2077-d594-4529-a57f-1c2cfa6a3732         AT    NaN         NaN   \n",
       "4  065a5cfe-b30e-4279-abfe-f3dcab3e7856         AT    NaN         NaN   \n",
       "\n",
       "  platform_type_name trading_experience          title            network  \\\n",
       "0            Android               NONE  Rookie Trader            Organic   \n",
       "1            Android               NONE  Rookie Trader  Facebook Installs   \n",
       "2            Android               NONE  Rookie Trader                 TV   \n",
       "3            Android               NONE  Rookie Trader      Viral Invites   \n",
       "4            Android               NONE  Rookie Trader            Organic   \n",
       "\n",
       "  bux_account_created_dts ams_first_funded_dts  initial_deposit_amount  \\\n",
       "0 2017-04-29 20:41:15.804                  NaN                     NaN   \n",
       "1 2017-04-25 15:06:08.110                  NaN                     NaN   \n",
       "2 2017-04-24 12:51:40.771                  NaN                     NaN   \n",
       "3 2017-04-19 22:12:35.936                  NaN                     NaN   \n",
       "4 2017-04-24 11:46:59.534                  NaN                     NaN   \n",
       "\n",
       "   month_year  \n",
       "0  April-2017  \n",
       "1  April-2017  \n",
       "2  April-2017  \n",
       "3  April-2017  \n",
       "4  April-2017  "
      ]
     },
     "execution_count": 11,
     "metadata": {},
     "output_type": "execute_result"
    }
   ],
   "source": [
    "users = sampled_users\n",
    "users.reset_index(inplace=True,drop=True)\n",
    "users.head()"
   ]
  },
  {
   "cell_type": "code",
   "execution_count": 12,
   "metadata": {
    "collapsed": false
   },
   "outputs": [],
   "source": [
    "# sample_users = False\n",
    "# sample_num = 30000\n",
    "\n",
    "# if sample_users:\n",
    "#     users = users[0:sample_num]\n",
    "\n",
    "# len(users)"
   ]
  },
  {
   "cell_type": "code",
   "execution_count": 13,
   "metadata": {
    "collapsed": false
   },
   "outputs": [
    {
     "data": {
      "image/png": "[encoded data removed]",
      "text/plain": [
       "<matplotlib.figure.Figure at 0x7f8dbd927d30>"
      ]
     },
     "metadata": {},
     "output_type": "display_data"
    }
   ],
   "source": [
    "users['bux_account_created_day'] = [ts.day for ts in users['bux_account_created_dts']]\n",
    "users['bux_account_created_day'].plot(kind='hist');"
   ]
  },
  {
   "cell_type": "markdown",
   "metadata": {},
   "source": [
    "## Cube daily user"
   ]
  },
  {
   "cell_type": "code",
   "execution_count": 14,
   "metadata": {
    "collapsed": false
   },
   "outputs": [
    {
     "data": {
      "text/html": [
       "<div>\n",
       "<style>\n",
       "    .dataframe thead tr:only-child th {\n",
       "        text-align: right;\n",
       "    }\n",
       "\n",
       "    .dataframe thead th {\n",
       "        text-align: left;\n",
       "    }\n",
       "\n",
       "    .dataframe tbody tr th {\n",
       "        vertical-align: top;\n",
       "    }\n",
       "</style>\n",
       "<table border=\"1\" class=\"dataframe\">\n",
       "  <thead>\n",
       "    <tr style=\"text-align: right;\">\n",
       "      <th></th>\n",
       "      <th>user_id</th>\n",
       "      <th>day_of_year</th>\n",
       "      <th>date</th>\n",
       "      <th>number_of_sessions</th>\n",
       "      <th>total_session_duration</th>\n",
       "      <th>account_status</th>\n",
       "      <th>trades_fb_commodities_open</th>\n",
       "      <th>trades_fb_commodities_profit</th>\n",
       "      <th>social_status_battles</th>\n",
       "      <th>social_status</th>\n",
       "      <th>conversion_to_sb</th>\n",
       "    </tr>\n",
       "  </thead>\n",
       "  <tbody>\n",
       "    <tr>\n",
       "      <th>0</th>\n",
       "      <td>db8f1a76-1cd5-46cb-a866-bef8b0e631f2</td>\n",
       "      <td>275</td>\n",
       "      <td>2016-10-01</td>\n",
       "      <td>4</td>\n",
       "      <td>368</td>\n",
       "      <td>FUN_BUX</td>\n",
       "      <td>0</td>\n",
       "      <td>0.00</td>\n",
       "      <td>0</td>\n",
       "      <td>Non-Social</td>\n",
       "      <td>0</td>\n",
       "    </tr>\n",
       "    <tr>\n",
       "      <th>1</th>\n",
       "      <td>db8fb559-e911-4437-8fed-87508d85e4a4</td>\n",
       "      <td>311</td>\n",
       "      <td>2016-11-06</td>\n",
       "      <td>1</td>\n",
       "      <td>287</td>\n",
       "      <td>FUN_BUX</td>\n",
       "      <td>0</td>\n",
       "      <td>0.00</td>\n",
       "      <td>0</td>\n",
       "      <td>Non-Social</td>\n",
       "      <td>0</td>\n",
       "    </tr>\n",
       "    <tr>\n",
       "      <th>2</th>\n",
       "      <td>db8fb559-e911-4437-8fed-87508d85e4a4</td>\n",
       "      <td>312</td>\n",
       "      <td>2016-11-07</td>\n",
       "      <td>1</td>\n",
       "      <td>194</td>\n",
       "      <td>FUN_BUX</td>\n",
       "      <td>0</td>\n",
       "      <td>0.00</td>\n",
       "      <td>0</td>\n",
       "      <td>Non-Social</td>\n",
       "      <td>0</td>\n",
       "    </tr>\n",
       "    <tr>\n",
       "      <th>3</th>\n",
       "      <td>db8fe7d1-141e-4643-978c-2695e96aab29</td>\n",
       "      <td>309</td>\n",
       "      <td>2016-11-04</td>\n",
       "      <td>3</td>\n",
       "      <td>376</td>\n",
       "      <td>FUN_BUX</td>\n",
       "      <td>2</td>\n",
       "      <td>1.16</td>\n",
       "      <td>0</td>\n",
       "      <td>Non-Social</td>\n",
       "      <td>0</td>\n",
       "    </tr>\n",
       "    <tr>\n",
       "      <th>4</th>\n",
       "      <td>db8fe7d1-141e-4643-978c-2695e96aab29</td>\n",
       "      <td>316</td>\n",
       "      <td>2016-11-11</td>\n",
       "      <td>0</td>\n",
       "      <td>0</td>\n",
       "      <td>FUN_BUX</td>\n",
       "      <td>0</td>\n",
       "      <td>0.00</td>\n",
       "      <td>0</td>\n",
       "      <td>Non-Social</td>\n",
       "      <td>0</td>\n",
       "    </tr>\n",
       "  </tbody>\n",
       "</table>\n",
       "</div>"
      ],
      "text/plain": [
       "                                user_id  day_of_year       date  \\\n",
       "0  db8f1a76-1cd5-46cb-a866-bef8b0e631f2          275 2016-10-01   \n",
       "1  db8fb559-e911-4437-8fed-87508d85e4a4          311 2016-11-06   \n",
       "2  db8fb559-e911-4437-8fed-87508d85e4a4          312 2016-11-07   \n",
       "3  db8fe7d1-141e-4643-978c-2695e96aab29          309 2016-11-04   \n",
       "4  db8fe7d1-141e-4643-978c-2695e96aab29          316 2016-11-11   \n",
       "\n",
       "   number_of_sessions  total_session_duration account_status  \\\n",
       "0                   4                     368        FUN_BUX   \n",
       "1                   1                     287        FUN_BUX   \n",
       "2                   1                     194        FUN_BUX   \n",
       "3                   3                     376        FUN_BUX   \n",
       "4                   0                       0        FUN_BUX   \n",
       "\n",
       "   trades_fb_commodities_open  trades_fb_commodities_profit  \\\n",
       "0                           0                          0.00   \n",
       "1                           0                          0.00   \n",
       "2                           0                          0.00   \n",
       "3                           2                          1.16   \n",
       "4                           0                          0.00   \n",
       "\n",
       "   social_status_battles social_status  conversion_to_sb  \n",
       "0                      0    Non-Social                 0  \n",
       "1                      0    Non-Social                 0  \n",
       "2                      0    Non-Social                 0  \n",
       "3                      0    Non-Social                 0  \n",
       "4                      0    Non-Social                 0  "
      ]
     },
     "execution_count": 14,
     "metadata": {},
     "output_type": "execute_result"
    }
   ],
   "source": [
    "# transactions = pd.read_csv('data/cube_daily_user_Feb_1_30days_cohort.csv')\n",
    "transactions = pd.read_csv('data/cube_1y_6mCustomerValue.csv')\n",
    "transactions['date'] = pd.to_datetime(transactions['date'])\n",
    "transactions = transactions[transactions.columns[1:]]\n",
    "transactions.head()"
   ]
  },
  {
   "cell_type": "code",
   "execution_count": 15,
   "metadata": {
    "collapsed": false
   },
   "outputs": [
    {
     "data": {
      "text/plain": [
       "(3332705, 552755, 11)"
      ]
     },
     "execution_count": 15,
     "metadata": {},
     "output_type": "execute_result"
    }
   ],
   "source": [
    "len(transactions), len(transactions['user_id'].unique()), len(transactions.columns)"
   ]
  },
  {
   "cell_type": "code",
   "execution_count": 16,
   "metadata": {
    "collapsed": false
   },
   "outputs": [
    {
     "data": {
      "text/plain": [
       "(352693, 55665)"
      ]
     },
     "execution_count": 16,
     "metadata": {},
     "output_type": "execute_result"
    }
   ],
   "source": [
    "transactions = transactions[transactions['user_id'].isin(users['user_id'])]\n",
    "# transactions = transactions[transactions.columns[1:]]\n",
    "transactions.reset_index(inplace=True,drop=True)\n",
    "transactions.reset_index(inplace=True)\n",
    "transactions.rename(columns={'index': 'transaction_id'}, inplace=True)\n",
    "len(transactions), len(transactions[\"user_id\"].unique())"
   ]
  },
  {
   "cell_type": "code",
   "execution_count": 17,
   "metadata": {
    "collapsed": false
   },
   "outputs": [
    {
     "data": {
      "text/html": [
       "<div>\n",
       "<style>\n",
       "    .dataframe thead tr:only-child th {\n",
       "        text-align: right;\n",
       "    }\n",
       "\n",
       "    .dataframe thead th {\n",
       "        text-align: left;\n",
       "    }\n",
       "\n",
       "    .dataframe tbody tr th {\n",
       "        vertical-align: top;\n",
       "    }\n",
       "</style>\n",
       "<table border=\"1\" class=\"dataframe\">\n",
       "  <thead>\n",
       "    <tr style=\"text-align: right;\">\n",
       "      <th></th>\n",
       "      <th>transaction_id</th>\n",
       "      <th>user_id</th>\n",
       "      <th>day_of_year</th>\n",
       "      <th>date</th>\n",
       "      <th>number_of_sessions</th>\n",
       "      <th>total_session_duration</th>\n",
       "      <th>account_status</th>\n",
       "      <th>trades_fb_commodities_open</th>\n",
       "      <th>trades_fb_commodities_profit</th>\n",
       "      <th>social_status_battles</th>\n",
       "      <th>social_status</th>\n",
       "      <th>conversion_to_sb</th>\n",
       "    </tr>\n",
       "  </thead>\n",
       "  <tbody>\n",
       "    <tr>\n",
       "      <th>0</th>\n",
       "      <td>0</td>\n",
       "      <td>dbba42b5-b26a-4435-9b3e-8bbc671779cd</td>\n",
       "      <td>306</td>\n",
       "      <td>2016-11-01</td>\n",
       "      <td>2</td>\n",
       "      <td>152</td>\n",
       "      <td>FUN_BUX</td>\n",
       "      <td>0</td>\n",
       "      <td>0.00</td>\n",
       "      <td>0</td>\n",
       "      <td>Non-Social</td>\n",
       "      <td>0</td>\n",
       "    </tr>\n",
       "    <tr>\n",
       "      <th>1</th>\n",
       "      <td>1</td>\n",
       "      <td>36d45205-9bc3-441b-9c32-c8e9e3d69999</td>\n",
       "      <td>314</td>\n",
       "      <td>2016-11-09</td>\n",
       "      <td>3</td>\n",
       "      <td>580</td>\n",
       "      <td>FUN_BUX</td>\n",
       "      <td>1</td>\n",
       "      <td>0.00</td>\n",
       "      <td>0</td>\n",
       "      <td>Non-Social</td>\n",
       "      <td>0</td>\n",
       "    </tr>\n",
       "    <tr>\n",
       "      <th>2</th>\n",
       "      <td>2</td>\n",
       "      <td>36d45205-9bc3-441b-9c32-c8e9e3d69999</td>\n",
       "      <td>315</td>\n",
       "      <td>2016-11-10</td>\n",
       "      <td>36</td>\n",
       "      <td>22691</td>\n",
       "      <td>SERIOUS_BUX</td>\n",
       "      <td>1</td>\n",
       "      <td>54.36</td>\n",
       "      <td>0</td>\n",
       "      <td>Non-Social</td>\n",
       "      <td>1</td>\n",
       "    </tr>\n",
       "    <tr>\n",
       "      <th>3</th>\n",
       "      <td>3</td>\n",
       "      <td>36d45205-9bc3-441b-9c32-c8e9e3d69999</td>\n",
       "      <td>316</td>\n",
       "      <td>2016-11-11</td>\n",
       "      <td>40</td>\n",
       "      <td>64388</td>\n",
       "      <td>SERIOUS_BUX</td>\n",
       "      <td>0</td>\n",
       "      <td>0.00</td>\n",
       "      <td>0</td>\n",
       "      <td>Non-Social</td>\n",
       "      <td>0</td>\n",
       "    </tr>\n",
       "    <tr>\n",
       "      <th>4</th>\n",
       "      <td>4</td>\n",
       "      <td>36d45205-9bc3-441b-9c32-c8e9e3d69999</td>\n",
       "      <td>317</td>\n",
       "      <td>2016-11-12</td>\n",
       "      <td>5</td>\n",
       "      <td>445</td>\n",
       "      <td>SERIOUS_BUX</td>\n",
       "      <td>0</td>\n",
       "      <td>0.00</td>\n",
       "      <td>0</td>\n",
       "      <td>Non-Social</td>\n",
       "      <td>0</td>\n",
       "    </tr>\n",
       "  </tbody>\n",
       "</table>\n",
       "</div>"
      ],
      "text/plain": [
       "   transaction_id                               user_id  day_of_year  \\\n",
       "0               0  dbba42b5-b26a-4435-9b3e-8bbc671779cd          306   \n",
       "1               1  36d45205-9bc3-441b-9c32-c8e9e3d69999          314   \n",
       "2               2  36d45205-9bc3-441b-9c32-c8e9e3d69999          315   \n",
       "3               3  36d45205-9bc3-441b-9c32-c8e9e3d69999          316   \n",
       "4               4  36d45205-9bc3-441b-9c32-c8e9e3d69999          317   \n",
       "\n",
       "        date  number_of_sessions  total_session_duration account_status  \\\n",
       "0 2016-11-01                   2                     152        FUN_BUX   \n",
       "1 2016-11-09                   3                     580        FUN_BUX   \n",
       "2 2016-11-10                  36                   22691    SERIOUS_BUX   \n",
       "3 2016-11-11                  40                   64388    SERIOUS_BUX   \n",
       "4 2016-11-12                   5                     445    SERIOUS_BUX   \n",
       "\n",
       "   trades_fb_commodities_open  trades_fb_commodities_profit  \\\n",
       "0                           0                          0.00   \n",
       "1                           1                          0.00   \n",
       "2                           1                         54.36   \n",
       "3                           0                          0.00   \n",
       "4                           0                          0.00   \n",
       "\n",
       "   social_status_battles social_status  conversion_to_sb  \n",
       "0                      0    Non-Social                 0  \n",
       "1                      0    Non-Social                 0  \n",
       "2                      0    Non-Social                 1  \n",
       "3                      0    Non-Social                 0  \n",
       "4                      0    Non-Social                 0  "
      ]
     },
     "execution_count": 17,
     "metadata": {},
     "output_type": "execute_result"
    }
   ],
   "source": [
    "transactions.head()"
   ]
  },
  {
   "cell_type": "markdown",
   "metadata": {},
   "source": [
    "## Target values (Current customer value - CurCV)"
   ]
  },
  {
   "cell_type": "code",
   "execution_count": 18,
   "metadata": {
    "collapsed": false
   },
   "outputs": [
    {
     "data": {
      "text/html": [
       "<div>\n",
       "<style>\n",
       "    .dataframe thead tr:only-child th {\n",
       "        text-align: right;\n",
       "    }\n",
       "\n",
       "    .dataframe thead th {\n",
       "        text-align: left;\n",
       "    }\n",
       "\n",
       "    .dataframe tbody tr th {\n",
       "        vertical-align: top;\n",
       "    }\n",
       "</style>\n",
       "<table border=\"1\" class=\"dataframe\">\n",
       "  <thead>\n",
       "    <tr style=\"text-align: right;\">\n",
       "      <th></th>\n",
       "      <th>user_id</th>\n",
       "      <th>curcv</th>\n",
       "    </tr>\n",
       "  </thead>\n",
       "  <tbody>\n",
       "    <tr>\n",
       "      <th>0</th>\n",
       "      <td>00001025-a69f-498c-be1e-6fc4ec96453b</td>\n",
       "      <td>0.0</td>\n",
       "    </tr>\n",
       "    <tr>\n",
       "      <th>1</th>\n",
       "      <td>000089cb-93b4-4f7e-b483-a40585c2f6c8</td>\n",
       "      <td>0.0</td>\n",
       "    </tr>\n",
       "    <tr>\n",
       "      <th>2</th>\n",
       "      <td>00020daa-71ab-4c8f-ac25-3eaa5ba2cc53</td>\n",
       "      <td>0.0</td>\n",
       "    </tr>\n",
       "    <tr>\n",
       "      <th>3</th>\n",
       "      <td>0003900f-c8f6-41b0-8ed7-36b8b2f6eb19</td>\n",
       "      <td>0.0</td>\n",
       "    </tr>\n",
       "    <tr>\n",
       "      <th>4</th>\n",
       "      <td>0003db40-1f04-4a05-a20a-b636b10aaf62</td>\n",
       "      <td>0.0</td>\n",
       "    </tr>\n",
       "  </tbody>\n",
       "</table>\n",
       "</div>"
      ],
      "text/plain": [
       "                                user_id  curcv\n",
       "0  00001025-a69f-498c-be1e-6fc4ec96453b    0.0\n",
       "1  000089cb-93b4-4f7e-b483-a40585c2f6c8    0.0\n",
       "2  00020daa-71ab-4c8f-ac25-3eaa5ba2cc53    0.0\n",
       "3  0003900f-c8f6-41b0-8ed7-36b8b2f6eb19    0.0\n",
       "4  0003db40-1f04-4a05-a20a-b636b10aaf62    0.0"
      ]
     },
     "execution_count": 18,
     "metadata": {},
     "output_type": "execute_result"
    }
   ],
   "source": [
    "# CurCV = pd.read_csv('data/curCv_Feb_1_30days_cohort.csv')\n",
    "CurCV = pd.read_csv('data/curcv_1y_6mCustomerValue.csv')\n",
    "CurCV[\"curcv\"] = CurCV[\"com\"] + CurCV[\"ff\"]\n",
    "CurCV = CurCV[['user_id', 'curcv']]\n",
    "CurCV = CurCV.fillna(0)\n",
    "CurCV.head()"
   ]
  },
  {
   "cell_type": "code",
   "execution_count": 19,
   "metadata": {
    "collapsed": false
   },
   "outputs": [
    {
     "data": {
      "text/plain": [
       "56593"
      ]
     },
     "execution_count": 19,
     "metadata": {},
     "output_type": "execute_result"
    }
   ],
   "source": [
    "len(users)"
   ]
  },
  {
   "cell_type": "code",
   "execution_count": 20,
   "metadata": {
    "collapsed": false
   },
   "outputs": [
    {
     "data": {
      "text/plain": [
       "565983"
      ]
     },
     "execution_count": 20,
     "metadata": {},
     "output_type": "execute_result"
    }
   ],
   "source": [
    "len(CurCV)"
   ]
  },
  {
   "cell_type": "code",
   "execution_count": 21,
   "metadata": {
    "collapsed": false
   },
   "outputs": [
    {
     "data": {
      "text/plain": [
       "count    565983.000000\n",
       "mean          4.394384\n",
       "std         138.806792\n",
       "min           0.000000\n",
       "25%           0.000000\n",
       "50%           0.000000\n",
       "75%           0.000000\n",
       "max       30432.380000\n",
       "Name: curcv, dtype: float64"
      ]
     },
     "execution_count": 21,
     "metadata": {},
     "output_type": "execute_result"
    }
   ],
   "source": [
    "CurCV[\"curcv\"].describe()"
   ]
  },
  {
   "cell_type": "code",
   "execution_count": 22,
   "metadata": {
    "collapsed": false
   },
   "outputs": [
    {
     "data": {
      "text/plain": [
       "True"
      ]
     },
     "execution_count": 22,
     "metadata": {},
     "output_type": "execute_result"
    }
   ],
   "source": [
    "CurCV = CurCV[CurCV['user_id'].isin(users['user_id'])]\n",
    "CurCV.reset_index(drop=True,inplace=True)\n",
    "len(CurCV) == len(users)"
   ]
  },
  {
   "cell_type": "markdown",
   "metadata": {},
   "source": [
    "## Define entities, entity tables and relationships"
   ]
  },
  {
   "cell_type": "code",
   "execution_count": 23,
   "metadata": {
    "collapsed": false
   },
   "outputs": [
    {
     "data": {
      "text/html": [
       "<div>\n",
       "<style>\n",
       "    .dataframe thead tr:only-child th {\n",
       "        text-align: right;\n",
       "    }\n",
       "\n",
       "    .dataframe thead th {\n",
       "        text-align: left;\n",
       "    }\n",
       "\n",
       "    .dataframe tbody tr th {\n",
       "        vertical-align: top;\n",
       "    }\n",
       "</style>\n",
       "<table border=\"1\" class=\"dataframe\">\n",
       "  <thead>\n",
       "    <tr style=\"text-align: right;\">\n",
       "      <th></th>\n",
       "      <th>user_id</th>\n",
       "      <th>country_cd</th>\n",
       "      <th>gender</th>\n",
       "      <th>nationality</th>\n",
       "      <th>platform_type_name</th>\n",
       "      <th>trading_experience</th>\n",
       "      <th>title</th>\n",
       "      <th>network</th>\n",
       "      <th>bux_account_created_dts</th>\n",
       "      <th>ams_first_funded_dts</th>\n",
       "      <th>initial_deposit_amount</th>\n",
       "      <th>month_year</th>\n",
       "      <th>bux_account_created_day</th>\n",
       "    </tr>\n",
       "  </thead>\n",
       "  <tbody>\n",
       "    <tr>\n",
       "      <th>0</th>\n",
       "      <td>00210d1f-ba50-47ae-8c4c-7e8f3b913696</td>\n",
       "      <td>AT</td>\n",
       "      <td>NaN</td>\n",
       "      <td>NaN</td>\n",
       "      <td>Android</td>\n",
       "      <td>NONE</td>\n",
       "      <td>Rookie Trader</td>\n",
       "      <td>Organic</td>\n",
       "      <td>2017-04-29 20:41:15.804</td>\n",
       "      <td>NaN</td>\n",
       "      <td>NaN</td>\n",
       "      <td>April-2017</td>\n",
       "      <td>29</td>\n",
       "    </tr>\n",
       "    <tr>\n",
       "      <th>1</th>\n",
       "      <td>00a56f5b-3306-4709-a183-a6084ec00875</td>\n",
       "      <td>AT</td>\n",
       "      <td>MALE</td>\n",
       "      <td>AT</td>\n",
       "      <td>Android</td>\n",
       "      <td>NONE</td>\n",
       "      <td>Rookie Trader</td>\n",
       "      <td>Facebook Installs</td>\n",
       "      <td>2017-04-25 15:06:08.110</td>\n",
       "      <td>NaN</td>\n",
       "      <td>NaN</td>\n",
       "      <td>April-2017</td>\n",
       "      <td>25</td>\n",
       "    </tr>\n",
       "    <tr>\n",
       "      <th>2</th>\n",
       "      <td>01346dc4-12a6-4335-837d-c57982561d81</td>\n",
       "      <td>AT</td>\n",
       "      <td>NaN</td>\n",
       "      <td>NaN</td>\n",
       "      <td>Android</td>\n",
       "      <td>NONE</td>\n",
       "      <td>Rookie Trader</td>\n",
       "      <td>TV</td>\n",
       "      <td>2017-04-24 12:51:40.771</td>\n",
       "      <td>NaN</td>\n",
       "      <td>NaN</td>\n",
       "      <td>April-2017</td>\n",
       "      <td>24</td>\n",
       "    </tr>\n",
       "    <tr>\n",
       "      <th>3</th>\n",
       "      <td>056f2077-d594-4529-a57f-1c2cfa6a3732</td>\n",
       "      <td>AT</td>\n",
       "      <td>NaN</td>\n",
       "      <td>NaN</td>\n",
       "      <td>Android</td>\n",
       "      <td>NONE</td>\n",
       "      <td>Rookie Trader</td>\n",
       "      <td>Viral Invites</td>\n",
       "      <td>2017-04-19 22:12:35.936</td>\n",
       "      <td>NaN</td>\n",
       "      <td>NaN</td>\n",
       "      <td>April-2017</td>\n",
       "      <td>19</td>\n",
       "    </tr>\n",
       "    <tr>\n",
       "      <th>4</th>\n",
       "      <td>065a5cfe-b30e-4279-abfe-f3dcab3e7856</td>\n",
       "      <td>AT</td>\n",
       "      <td>NaN</td>\n",
       "      <td>NaN</td>\n",
       "      <td>Android</td>\n",
       "      <td>NONE</td>\n",
       "      <td>Rookie Trader</td>\n",
       "      <td>Organic</td>\n",
       "      <td>2017-04-24 11:46:59.534</td>\n",
       "      <td>NaN</td>\n",
       "      <td>NaN</td>\n",
       "      <td>April-2017</td>\n",
       "      <td>24</td>\n",
       "    </tr>\n",
       "  </tbody>\n",
       "</table>\n",
       "</div>"
      ],
      "text/plain": [
       "                                user_id country_cd gender nationality  \\\n",
       "0  00210d1f-ba50-47ae-8c4c-7e8f3b913696         AT    NaN         NaN   \n",
       "1  00a56f5b-3306-4709-a183-a6084ec00875         AT   MALE          AT   \n",
       "2  01346dc4-12a6-4335-837d-c57982561d81         AT    NaN         NaN   \n",
       "3  056f2077-d594-4529-a57f-1c2cfa6a3732         AT    NaN         NaN   \n",
       "4  065a5cfe-b30e-4279-abfe-f3dcab3e7856         AT    NaN         NaN   \n",
       "\n",
       "  platform_type_name trading_experience          title            network  \\\n",
       "0            Android               NONE  Rookie Trader            Organic   \n",
       "1            Android               NONE  Rookie Trader  Facebook Installs   \n",
       "2            Android               NONE  Rookie Trader                 TV   \n",
       "3            Android               NONE  Rookie Trader      Viral Invites   \n",
       "4            Android               NONE  Rookie Trader            Organic   \n",
       "\n",
       "  bux_account_created_dts ams_first_funded_dts  initial_deposit_amount  \\\n",
       "0 2017-04-29 20:41:15.804                  NaN                     NaN   \n",
       "1 2017-04-25 15:06:08.110                  NaN                     NaN   \n",
       "2 2017-04-24 12:51:40.771                  NaN                     NaN   \n",
       "3 2017-04-19 22:12:35.936                  NaN                     NaN   \n",
       "4 2017-04-24 11:46:59.534                  NaN                     NaN   \n",
       "\n",
       "   month_year  bux_account_created_day  \n",
       "0  April-2017                       29  \n",
       "1  April-2017                       25  \n",
       "2  April-2017                       24  \n",
       "3  April-2017                       19  \n",
       "4  April-2017                       24  "
      ]
     },
     "execution_count": 23,
     "metadata": {},
     "output_type": "execute_result"
    }
   ],
   "source": [
    "users[0:5]"
   ]
  },
  {
   "cell_type": "code",
   "execution_count": 24,
   "metadata": {
    "collapsed": false
   },
   "outputs": [
    {
     "data": {
      "text/html": [
       "<div>\n",
       "<style>\n",
       "    .dataframe thead tr:only-child th {\n",
       "        text-align: right;\n",
       "    }\n",
       "\n",
       "    .dataframe thead th {\n",
       "        text-align: left;\n",
       "    }\n",
       "\n",
       "    .dataframe tbody tr th {\n",
       "        vertical-align: top;\n",
       "    }\n",
       "</style>\n",
       "<table border=\"1\" class=\"dataframe\">\n",
       "  <thead>\n",
       "    <tr style=\"text-align: right;\">\n",
       "      <th></th>\n",
       "      <th>transaction_id</th>\n",
       "      <th>user_id</th>\n",
       "      <th>day_of_year</th>\n",
       "      <th>date</th>\n",
       "      <th>number_of_sessions</th>\n",
       "      <th>total_session_duration</th>\n",
       "      <th>account_status</th>\n",
       "      <th>trades_fb_commodities_open</th>\n",
       "      <th>trades_fb_commodities_profit</th>\n",
       "      <th>social_status_battles</th>\n",
       "      <th>social_status</th>\n",
       "      <th>conversion_to_sb</th>\n",
       "    </tr>\n",
       "  </thead>\n",
       "  <tbody>\n",
       "    <tr>\n",
       "      <th>0</th>\n",
       "      <td>0</td>\n",
       "      <td>dbba42b5-b26a-4435-9b3e-8bbc671779cd</td>\n",
       "      <td>306</td>\n",
       "      <td>2016-11-01</td>\n",
       "      <td>2</td>\n",
       "      <td>152</td>\n",
       "      <td>FUN_BUX</td>\n",
       "      <td>0</td>\n",
       "      <td>0.00</td>\n",
       "      <td>0</td>\n",
       "      <td>Non-Social</td>\n",
       "      <td>0</td>\n",
       "    </tr>\n",
       "    <tr>\n",
       "      <th>1</th>\n",
       "      <td>1</td>\n",
       "      <td>36d45205-9bc3-441b-9c32-c8e9e3d69999</td>\n",
       "      <td>314</td>\n",
       "      <td>2016-11-09</td>\n",
       "      <td>3</td>\n",
       "      <td>580</td>\n",
       "      <td>FUN_BUX</td>\n",
       "      <td>1</td>\n",
       "      <td>0.00</td>\n",
       "      <td>0</td>\n",
       "      <td>Non-Social</td>\n",
       "      <td>0</td>\n",
       "    </tr>\n",
       "    <tr>\n",
       "      <th>2</th>\n",
       "      <td>2</td>\n",
       "      <td>36d45205-9bc3-441b-9c32-c8e9e3d69999</td>\n",
       "      <td>315</td>\n",
       "      <td>2016-11-10</td>\n",
       "      <td>36</td>\n",
       "      <td>22691</td>\n",
       "      <td>SERIOUS_BUX</td>\n",
       "      <td>1</td>\n",
       "      <td>54.36</td>\n",
       "      <td>0</td>\n",
       "      <td>Non-Social</td>\n",
       "      <td>1</td>\n",
       "    </tr>\n",
       "    <tr>\n",
       "      <th>3</th>\n",
       "      <td>3</td>\n",
       "      <td>36d45205-9bc3-441b-9c32-c8e9e3d69999</td>\n",
       "      <td>316</td>\n",
       "      <td>2016-11-11</td>\n",
       "      <td>40</td>\n",
       "      <td>64388</td>\n",
       "      <td>SERIOUS_BUX</td>\n",
       "      <td>0</td>\n",
       "      <td>0.00</td>\n",
       "      <td>0</td>\n",
       "      <td>Non-Social</td>\n",
       "      <td>0</td>\n",
       "    </tr>\n",
       "    <tr>\n",
       "      <th>4</th>\n",
       "      <td>4</td>\n",
       "      <td>36d45205-9bc3-441b-9c32-c8e9e3d69999</td>\n",
       "      <td>317</td>\n",
       "      <td>2016-11-12</td>\n",
       "      <td>5</td>\n",
       "      <td>445</td>\n",
       "      <td>SERIOUS_BUX</td>\n",
       "      <td>0</td>\n",
       "      <td>0.00</td>\n",
       "      <td>0</td>\n",
       "      <td>Non-Social</td>\n",
       "      <td>0</td>\n",
       "    </tr>\n",
       "  </tbody>\n",
       "</table>\n",
       "</div>"
      ],
      "text/plain": [
       "   transaction_id                               user_id  day_of_year  \\\n",
       "0               0  dbba42b5-b26a-4435-9b3e-8bbc671779cd          306   \n",
       "1               1  36d45205-9bc3-441b-9c32-c8e9e3d69999          314   \n",
       "2               2  36d45205-9bc3-441b-9c32-c8e9e3d69999          315   \n",
       "3               3  36d45205-9bc3-441b-9c32-c8e9e3d69999          316   \n",
       "4               4  36d45205-9bc3-441b-9c32-c8e9e3d69999          317   \n",
       "\n",
       "        date  number_of_sessions  total_session_duration account_status  \\\n",
       "0 2016-11-01                   2                     152        FUN_BUX   \n",
       "1 2016-11-09                   3                     580        FUN_BUX   \n",
       "2 2016-11-10                  36                   22691    SERIOUS_BUX   \n",
       "3 2016-11-11                  40                   64388    SERIOUS_BUX   \n",
       "4 2016-11-12                   5                     445    SERIOUS_BUX   \n",
       "\n",
       "   trades_fb_commodities_open  trades_fb_commodities_profit  \\\n",
       "0                           0                          0.00   \n",
       "1                           1                          0.00   \n",
       "2                           1                         54.36   \n",
       "3                           0                          0.00   \n",
       "4                           0                          0.00   \n",
       "\n",
       "   social_status_battles social_status  conversion_to_sb  \n",
       "0                      0    Non-Social                 0  \n",
       "1                      0    Non-Social                 0  \n",
       "2                      0    Non-Social                 1  \n",
       "3                      0    Non-Social                 0  \n",
       "4                      0    Non-Social                 0  "
      ]
     },
     "execution_count": 24,
     "metadata": {},
     "output_type": "execute_result"
    }
   ],
   "source": [
    "transactions[0:5]"
   ]
  },
  {
   "cell_type": "code",
   "execution_count": 25,
   "metadata": {
    "collapsed": false
   },
   "outputs": [
    {
     "data": {
      "text/html": [
       "<div>\n",
       "<style>\n",
       "    .dataframe thead tr:only-child th {\n",
       "        text-align: right;\n",
       "    }\n",
       "\n",
       "    .dataframe thead th {\n",
       "        text-align: left;\n",
       "    }\n",
       "\n",
       "    .dataframe tbody tr th {\n",
       "        vertical-align: top;\n",
       "    }\n",
       "</style>\n",
       "<table border=\"1\" class=\"dataframe\">\n",
       "  <thead>\n",
       "    <tr style=\"text-align: right;\">\n",
       "      <th></th>\n",
       "      <th>user_id</th>\n",
       "      <th>curcv</th>\n",
       "    </tr>\n",
       "  </thead>\n",
       "  <tbody>\n",
       "    <tr>\n",
       "      <th>0</th>\n",
       "      <td>000089cb-93b4-4f7e-b483-a40585c2f6c8</td>\n",
       "      <td>0.0</td>\n",
       "    </tr>\n",
       "    <tr>\n",
       "      <th>1</th>\n",
       "      <td>0003db40-1f04-4a05-a20a-b636b10aaf62</td>\n",
       "      <td>0.0</td>\n",
       "    </tr>\n",
       "    <tr>\n",
       "      <th>2</th>\n",
       "      <td>0005422d-14c7-4381-a9cc-c8516e2dfbf8</td>\n",
       "      <td>0.0</td>\n",
       "    </tr>\n",
       "    <tr>\n",
       "      <th>3</th>\n",
       "      <td>0006ae6e-0036-4ccd-bf05-16aeb5271d17</td>\n",
       "      <td>0.0</td>\n",
       "    </tr>\n",
       "    <tr>\n",
       "      <th>4</th>\n",
       "      <td>0007c175-df3c-41d3-b1c3-04f62579e954</td>\n",
       "      <td>0.0</td>\n",
       "    </tr>\n",
       "  </tbody>\n",
       "</table>\n",
       "</div>"
      ],
      "text/plain": [
       "                                user_id  curcv\n",
       "0  000089cb-93b4-4f7e-b483-a40585c2f6c8    0.0\n",
       "1  0003db40-1f04-4a05-a20a-b636b10aaf62    0.0\n",
       "2  0005422d-14c7-4381-a9cc-c8516e2dfbf8    0.0\n",
       "3  0006ae6e-0036-4ccd-bf05-16aeb5271d17    0.0\n",
       "4  0007c175-df3c-41d3-b1c3-04f62579e954    0.0"
      ]
     },
     "execution_count": 25,
     "metadata": {},
     "output_type": "execute_result"
    }
   ],
   "source": [
    "CurCV.head()"
   ]
  },
  {
   "cell_type": "code",
   "execution_count": 26,
   "metadata": {
    "collapsed": true
   },
   "outputs": [],
   "source": [
    "es = ft.EntitySet(\"bux_cltv\")"
   ]
  },
  {
   "cell_type": "code",
   "execution_count": 27,
   "metadata": {
    "collapsed": false
   },
   "outputs": [
    {
     "data": {
      "text/plain": [
       "Entityset: bux_cltv\n",
       "  Entities:\n",
       "    users (shape = [56593, 13])\n",
       "  Relationships:\n",
       "    No relationships"
      ]
     },
     "execution_count": 27,
     "metadata": {},
     "output_type": "execute_result"
    }
   ],
   "source": [
    "es.entity_from_dataframe(entity_id='users',\n",
    "                        dataframe=users,\n",
    "                        index='user_id',\n",
    "                        time_index='bux_account_created_dts')"
   ]
  },
  {
   "cell_type": "code",
   "execution_count": 28,
   "metadata": {
    "collapsed": false
   },
   "outputs": [
    {
     "data": {
      "text/plain": [
       "Entityset: bux_cltv\n",
       "  Entities:\n",
       "    transactions (shape = [352693, 12])\n",
       "    users (shape = [56593, 13])\n",
       "  Relationships:\n",
       "    No relationships"
      ]
     },
     "execution_count": 28,
     "metadata": {},
     "output_type": "execute_result"
    }
   ],
   "source": [
    "es.entity_from_dataframe(entity_id='transactions',\n",
    "                        dataframe=transactions,\n",
    "                        index='transaction_id',\n",
    "                        time_index='date')"
   ]
  },
  {
   "cell_type": "code",
   "execution_count": 29,
   "metadata": {
    "collapsed": false
   },
   "outputs": [
    {
     "data": {
      "text/plain": [
       "Entityset: bux_cltv\n",
       "  Entities:\n",
       "    transactions (shape = [352693, 12])\n",
       "    users (shape = [56593, 13])\n",
       "  Relationships:\n",
       "    transactions.user_id -> users.user_id"
      ]
     },
     "execution_count": 29,
     "metadata": {},
     "output_type": "execute_result"
    }
   ],
   "source": [
    "es.add_relationship(ft.Relationship(es['users']['user_id'], es['transactions']['user_id']))"
   ]
  },
  {
   "cell_type": "code",
   "execution_count": 30,
   "metadata": {
    "collapsed": false
   },
   "outputs": [
    {
     "data": {
      "text/html": [
       "<div>\n",
       "<style>\n",
       "    .dataframe thead tr:only-child th {\n",
       "        text-align: right;\n",
       "    }\n",
       "\n",
       "    .dataframe thead th {\n",
       "        text-align: left;\n",
       "    }\n",
       "\n",
       "    .dataframe tbody tr th {\n",
       "        vertical-align: top;\n",
       "    }\n",
       "</style>\n",
       "<table border=\"1\" class=\"dataframe\">\n",
       "  <thead>\n",
       "    <tr style=\"text-align: right;\">\n",
       "      <th></th>\n",
       "      <th>user_id</th>\n",
       "      <th>country_cd</th>\n",
       "      <th>gender</th>\n",
       "      <th>nationality</th>\n",
       "      <th>platform_type_name</th>\n",
       "      <th>trading_experience</th>\n",
       "      <th>title</th>\n",
       "      <th>network</th>\n",
       "      <th>bux_account_created_dts</th>\n",
       "      <th>ams_first_funded_dts</th>\n",
       "      <th>initial_deposit_amount</th>\n",
       "      <th>month_year</th>\n",
       "      <th>bux_account_created_day</th>\n",
       "    </tr>\n",
       "  </thead>\n",
       "  <tbody>\n",
       "    <tr>\n",
       "      <th>0</th>\n",
       "      <td>00210d1f-ba50-47ae-8c4c-7e8f3b913696</td>\n",
       "      <td>AT</td>\n",
       "      <td>NaN</td>\n",
       "      <td>NaN</td>\n",
       "      <td>Android</td>\n",
       "      <td>NONE</td>\n",
       "      <td>Rookie Trader</td>\n",
       "      <td>Organic</td>\n",
       "      <td>2017-04-29 20:41:15.804</td>\n",
       "      <td>NaN</td>\n",
       "      <td>NaN</td>\n",
       "      <td>April-2017</td>\n",
       "      <td>29</td>\n",
       "    </tr>\n",
       "    <tr>\n",
       "      <th>1</th>\n",
       "      <td>00a56f5b-3306-4709-a183-a6084ec00875</td>\n",
       "      <td>AT</td>\n",
       "      <td>MALE</td>\n",
       "      <td>AT</td>\n",
       "      <td>Android</td>\n",
       "      <td>NONE</td>\n",
       "      <td>Rookie Trader</td>\n",
       "      <td>Facebook Installs</td>\n",
       "      <td>2017-04-25 15:06:08.110</td>\n",
       "      <td>NaN</td>\n",
       "      <td>NaN</td>\n",
       "      <td>April-2017</td>\n",
       "      <td>25</td>\n",
       "    </tr>\n",
       "    <tr>\n",
       "      <th>2</th>\n",
       "      <td>01346dc4-12a6-4335-837d-c57982561d81</td>\n",
       "      <td>AT</td>\n",
       "      <td>NaN</td>\n",
       "      <td>NaN</td>\n",
       "      <td>Android</td>\n",
       "      <td>NONE</td>\n",
       "      <td>Rookie Trader</td>\n",
       "      <td>TV</td>\n",
       "      <td>2017-04-24 12:51:40.771</td>\n",
       "      <td>NaN</td>\n",
       "      <td>NaN</td>\n",
       "      <td>April-2017</td>\n",
       "      <td>24</td>\n",
       "    </tr>\n",
       "    <tr>\n",
       "      <th>3</th>\n",
       "      <td>056f2077-d594-4529-a57f-1c2cfa6a3732</td>\n",
       "      <td>AT</td>\n",
       "      <td>NaN</td>\n",
       "      <td>NaN</td>\n",
       "      <td>Android</td>\n",
       "      <td>NONE</td>\n",
       "      <td>Rookie Trader</td>\n",
       "      <td>Viral Invites</td>\n",
       "      <td>2017-04-19 22:12:35.936</td>\n",
       "      <td>NaN</td>\n",
       "      <td>NaN</td>\n",
       "      <td>April-2017</td>\n",
       "      <td>19</td>\n",
       "    </tr>\n",
       "    <tr>\n",
       "      <th>4</th>\n",
       "      <td>065a5cfe-b30e-4279-abfe-f3dcab3e7856</td>\n",
       "      <td>AT</td>\n",
       "      <td>NaN</td>\n",
       "      <td>NaN</td>\n",
       "      <td>Android</td>\n",
       "      <td>NONE</td>\n",
       "      <td>Rookie Trader</td>\n",
       "      <td>Organic</td>\n",
       "      <td>2017-04-24 11:46:59.534</td>\n",
       "      <td>NaN</td>\n",
       "      <td>NaN</td>\n",
       "      <td>April-2017</td>\n",
       "      <td>24</td>\n",
       "    </tr>\n",
       "  </tbody>\n",
       "</table>\n",
       "</div>"
      ],
      "text/plain": [
       "                                user_id country_cd gender nationality  \\\n",
       "0  00210d1f-ba50-47ae-8c4c-7e8f3b913696         AT    NaN         NaN   \n",
       "1  00a56f5b-3306-4709-a183-a6084ec00875         AT   MALE          AT   \n",
       "2  01346dc4-12a6-4335-837d-c57982561d81         AT    NaN         NaN   \n",
       "3  056f2077-d594-4529-a57f-1c2cfa6a3732         AT    NaN         NaN   \n",
       "4  065a5cfe-b30e-4279-abfe-f3dcab3e7856         AT    NaN         NaN   \n",
       "\n",
       "  platform_type_name trading_experience          title            network  \\\n",
       "0            Android               NONE  Rookie Trader            Organic   \n",
       "1            Android               NONE  Rookie Trader  Facebook Installs   \n",
       "2            Android               NONE  Rookie Trader                 TV   \n",
       "3            Android               NONE  Rookie Trader      Viral Invites   \n",
       "4            Android               NONE  Rookie Trader            Organic   \n",
       "\n",
       "  bux_account_created_dts ams_first_funded_dts  initial_deposit_amount  \\\n",
       "0 2017-04-29 20:41:15.804                  NaN                     NaN   \n",
       "1 2017-04-25 15:06:08.110                  NaN                     NaN   \n",
       "2 2017-04-24 12:51:40.771                  NaN                     NaN   \n",
       "3 2017-04-19 22:12:35.936                  NaN                     NaN   \n",
       "4 2017-04-24 11:46:59.534                  NaN                     NaN   \n",
       "\n",
       "   month_year  bux_account_created_day  \n",
       "0  April-2017                       29  \n",
       "1  April-2017                       25  \n",
       "2  April-2017                       24  \n",
       "3  April-2017                       19  \n",
       "4  April-2017                       24  "
      ]
     },
     "execution_count": 30,
     "metadata": {},
     "output_type": "execute_result"
    }
   ],
   "source": [
    "users.head()"
   ]
  },
  {
   "cell_type": "markdown",
   "metadata": {},
   "source": [
    "# Parallelized (Dask)"
   ]
  },
  {
   "cell_type": "code",
   "execution_count": 5,
   "metadata": {
    "collapsed": true
   },
   "outputs": [],
   "source": [
    "def load_entity_set(data_dir):\n",
    "    \n",
    "    user_details = pd.read_csv(os.path.join(data_dir, \"user_details.csv\"))\n",
    "    user_details['month_year'] = user_details['bux_account_created_dts'].apply(lambda x: x.strftime('%B-%Y'))\n",
    "    \n",
    "    daily_transactions = pd.read_csv(os.path.join(data_dir, \"daily_transactions.csv\"))\n",
    "    daily_transactions['date'] = pd.to_datetime(daily_transactions['date'])\n",
    "    daily_transactions = daily_transactions[daily_transactions.columns[1:]]\n",
    "    daily_transactions = daily_transactions[daily_transactions['user_id'].isin(users['user_id'])]\n",
    "    daily_transactions.reset_index(inplace=True,drop=True)\n",
    "    daily_transactions.reset_index(inplace=True)\n",
    "    daily_transactions.rename(columns={'index': 'transaction_id'}, inplace=True)\n",
    "\n",
    "    curcv = pd.read_csv(os.path.join(data_dir, \"curcv.csv\"))\n",
    "    \n",
    "        \n",
    "    es = ft.EntitySet(\"bux_cltv\")\n",
    "    \n",
    "    es.entity_from_dataframe(entity_id='users',\n",
    "                        dataframe=user_details,\n",
    "                        index='user_id',\n",
    "                        time_index='bux_account_created_dts')\n",
    "    \n",
    "    es.entity_from_dataframe(entity_id='transactions',\n",
    "                        dataframe=daily_transactions,\n",
    "                        index='transaction_id',\n",
    "                        time_index='date')\n",
    "    \n",
    "    es.add_relationship(ft.Relationship(es['users']['user_id'], es['transactions']['user_id']))\n",
    "    \n",
    "    \n",
    "    return es"
   ]
  },
  {
   "cell_type": "code",
   "execution_count": 3,
   "metadata": {
    "collapsed": false
   },
   "outputs": [
    {
     "data": {
      "text/plain": [
       "Entityset: bux_cltv\n",
       "  Entities:\n",
       "    transactions (shape = [70618, 12])\n",
       "    users (shape = [10194, 13])\n",
       "  Relationships:\n",
       "    transactions.user_id -> users.user_id"
      ]
     },
     "execution_count": 3,
     "metadata": {},
     "output_type": "execute_result"
    }
   ],
   "source": [
    "es = utils.load_entity_set(\"data/partitioned_data/part_1/\")\n",
    "es"
   ]
  },
  {
   "cell_type": "code",
   "execution_count": 4,
   "metadata": {
    "collapsed": false
   },
   "outputs": [],
   "source": [
    "from dask import bag\n",
    "from dask.diagnostics import ProgressBar\n",
    "\n",
    "pbar = ProgressBar()\n",
    "pbar.register()"
   ]
  },
  {
   "cell_type": "code",
   "execution_count": 5,
   "metadata": {
    "collapsed": false
   },
   "outputs": [],
   "source": [
    "path = \"data/partitioned_data/\"\n",
    "_, dirnames, _ = os.walk(path).__next__()\n",
    "dirnames = [path+d for d in dirnames]\n",
    "b = bag.from_sequence(dirnames)\n",
    "entity_sets = b.map(utils.load_entity_set)"
   ]
  },
  {
   "cell_type": "code",
   "execution_count": 6,
   "metadata": {
    "collapsed": false
   },
   "outputs": [
    {
     "data": {
      "text/plain": [
       "dask.bag<map-mak..., npartitions=4>"
      ]
     },
     "execution_count": 6,
     "metadata": {},
     "output_type": "execute_result"
    }
   ],
   "source": [
    "labels = entity_sets.map(utils.make_labels)\n",
    "labels"
   ]
  },
  {
   "cell_type": "code",
   "execution_count": 7,
   "metadata": {
    "collapsed": false
   },
   "outputs": [],
   "source": [
    "# load in the features from before\n",
    "# top_features = ft.load_features(\"top_features\", es)\n",
    "\n",
    "feature_matrices = labels.map(utils.calculate_feature_matrix) # , features=top_features)"
   ]
  },
  {
   "cell_type": "code",
   "execution_count": 8,
   "metadata": {
    "collapsed": false
   },
   "outputs": [
    {
     "name": "stdout",
     "output_type": "stream",
     "text": [
      "Building features: 65it [00:00, 1052.00it/s]\n",
      "Building features: 65it [00:00, 1421.54it/s]\n",
      "Building features: 65it [00:00, 2341.01it/s]\n",
      "Building features: 65it [00:00, 1505.14it/s]\n",
      "[                                        ] | 0% Completed |  5min 13.6s\n",
      "49 features generated\n",
      "Progress: 100%|██████████| 1/1 [05:10<00:00, 310.70s/cutoff time]\n",
      "[##########                              ] | 25% Completed |  5min 52.9s49 features generated\n",
      "Progress: 100%|██████████| 1/1 [06:30<00:00, 390.94s/cutoff time]\n",
      "[####################                    ] | 50% Completed |  7min 37.1s49 features generated\n",
      "Progress: 100%|██████████| 1/1 [10:17<00:00, 617.02s/cutoff time]\n",
      "[##############################          ] | 75% Completed | 12min 56.8s49 features generated\n",
      "[########################################] | 100% Completed | 13min  5.7s\n"
     ]
    }
   ],
   "source": [
    "fms_out = feature_matrices.compute()\n",
    "X = pd.concat(fms_out)"
   ]
  },
  {
   "cell_type": "code",
   "execution_count": 10,
   "metadata": {
    "collapsed": false
   },
   "outputs": [
    {
     "data": {
      "text/plain": [
       "95829"
      ]
     },
     "execution_count": 10,
     "metadata": {},
     "output_type": "execute_result"
    }
   ],
   "source": [
    "len(X)"
   ]
  },
  {
   "cell_type": "code",
   "execution_count": 16,
   "metadata": {
    "collapsed": false
   },
   "outputs": [],
   "source": [
    "temp_df = pd.read_csv(\"data/1y_6mCustomerValue.csv\").head()"
   ]
  },
  {
   "cell_type": "code",
   "execution_count": null,
   "metadata": {
    "collapsed": true
   },
   "outputs": [],
   "source": [
    "# CurCV = pd.read_csv('data/curCv_Feb_1_30days_cohort.csv')\n",
    "CurCV = pd.read_csv('data/curcv_1y_6mCustomerValue.csv')\n",
    "CurCV[\"curcv\"] = CurCV[\"com\"] + CurCV[\"ff\"]\n",
    "CurCV = CurCV[['user_id', 'curcv']]\n",
    "CurCV = CurCV.fillna(0)\n",
    "CurCV.head()"
   ]
  },
  {
   "cell_type": "code",
   "execution_count": null,
   "metadata": {
    "collapsed": true
   },
   "outputs": [],
   "source": [
    "# target values - current customer value\n",
    "labels = curcv = pd.read_csv(os.path.join(data_dir, \"curcv.csv\"))\n",
    "labels = curcv[curcv['user_id'].isin(distinct_users)]"
   ]
  },
  {
   "cell_type": "code",
   "execution_count": null,
   "metadata": {
    "collapsed": true
   },
   "outputs": [],
   "source": [
    "feature_matrices = label_times.map(utils.calculate_feature_matrix, features=top_features)"
   ]
  },
  {
   "cell_type": "markdown",
   "metadata": {},
   "source": [
    "## Building labels"
   ]
  },
  {
   "cell_type": "code",
   "execution_count": 34,
   "metadata": {
    "collapsed": true
   },
   "outputs": [],
   "source": [
    "# rebalancing (R), visualization\n",
    "# https://shiring.github.io/machine_learning/2017/04/02/unbalanced"
   ]
  },
  {
   "cell_type": "markdown",
   "metadata": {},
   "source": [
    "- #### First, we'll separate observations from each class into different DataFrames.\n",
    "- #### Next, we'll resample the minority class with replacement, setting the number of samples to match that of the majority class.\n",
    "- #### Finally, we'll combine the up-sampled minority class DataFrame with the original majority class DataFrame."
   ]
  },
  {
   "cell_type": "code",
   "execution_count": 31,
   "metadata": {
    "collapsed": false
   },
   "outputs": [
    {
     "data": {
      "text/plain": [
       "48.41200000000026"
      ]
     },
     "execution_count": 31,
     "metadata": {},
     "output_type": "execute_result"
    }
   ],
   "source": [
    "# 70 euros 1 year customer value-> a user whale or not whale\n",
    "whale_threshold = CurCV['curcv'].quantile(0.99)\n",
    "whale_threshold"
   ]
  },
  {
   "cell_type": "code",
   "execution_count": 32,
   "metadata": {
    "collapsed": false
   },
   "outputs": [
    {
     "data": {
      "text/plain": [
       "0    56027\n",
       "1      566\n",
       "Name: whale, dtype: int64"
      ]
     },
     "execution_count": 32,
     "metadata": {},
     "output_type": "execute_result"
    }
   ],
   "source": [
    "CurCV['whale'] = (CurCV['curcv'] > whale_threshold).astype(int)\n",
    "CurCV['whale'].value_counts()"
   ]
  },
  {
   "cell_type": "code",
   "execution_count": 33,
   "metadata": {
    "collapsed": false
   },
   "outputs": [
    {
     "data": {
      "text/plain": [
       "(5.070059194600033, 0.0)"
      ]
     },
     "execution_count": 33,
     "metadata": {},
     "output_type": "execute_result"
    }
   ],
   "source": [
    "# CurCV\n",
    "CurCV['curcv'].mean(), CurCV['curcv'].median()"
   ]
  },
  {
   "cell_type": "code",
   "execution_count": 34,
   "metadata": {
    "collapsed": false
   },
   "outputs": [
    {
     "data": {
      "text/plain": [
       "286929.85999999964"
      ]
     },
     "execution_count": 34,
     "metadata": {},
     "output_type": "execute_result"
    }
   ],
   "source": [
    "# cohort value\n",
    "CurCV['curcv'].sum()"
   ]
  },
  {
   "cell_type": "code",
   "execution_count": 35,
   "metadata": {
    "collapsed": false
   },
   "outputs": [
    {
     "data": {
      "text/plain": [
       "9435.0599999999995"
      ]
     },
     "execution_count": 35,
     "metadata": {},
     "output_type": "execute_result"
    }
   ],
   "source": [
    "# max value\n",
    "CurCV['curcv'].max()"
   ]
  },
  {
   "cell_type": "code",
   "execution_count": 36,
   "metadata": {
    "collapsed": false
   },
   "outputs": [
    {
     "data": {
      "text/html": [
       "<div>\n",
       "<style>\n",
       "    .dataframe thead tr:only-child th {\n",
       "        text-align: right;\n",
       "    }\n",
       "\n",
       "    .dataframe thead th {\n",
       "        text-align: left;\n",
       "    }\n",
       "\n",
       "    .dataframe tbody tr th {\n",
       "        vertical-align: top;\n",
       "    }\n",
       "</style>\n",
       "<table border=\"1\" class=\"dataframe\">\n",
       "  <thead>\n",
       "    <tr style=\"text-align: right;\">\n",
       "      <th></th>\n",
       "      <th>user_id</th>\n",
       "      <th>curcv</th>\n",
       "      <th>whale</th>\n",
       "    </tr>\n",
       "  </thead>\n",
       "  <tbody>\n",
       "    <tr>\n",
       "      <th>0</th>\n",
       "      <td>000089cb-93b4-4f7e-b483-a40585c2f6c8</td>\n",
       "      <td>0.0</td>\n",
       "      <td>0</td>\n",
       "    </tr>\n",
       "    <tr>\n",
       "      <th>1</th>\n",
       "      <td>0003db40-1f04-4a05-a20a-b636b10aaf62</td>\n",
       "      <td>0.0</td>\n",
       "      <td>0</td>\n",
       "    </tr>\n",
       "    <tr>\n",
       "      <th>2</th>\n",
       "      <td>0005422d-14c7-4381-a9cc-c8516e2dfbf8</td>\n",
       "      <td>0.0</td>\n",
       "      <td>0</td>\n",
       "    </tr>\n",
       "    <tr>\n",
       "      <th>3</th>\n",
       "      <td>0006ae6e-0036-4ccd-bf05-16aeb5271d17</td>\n",
       "      <td>0.0</td>\n",
       "      <td>0</td>\n",
       "    </tr>\n",
       "    <tr>\n",
       "      <th>4</th>\n",
       "      <td>0007c175-df3c-41d3-b1c3-04f62579e954</td>\n",
       "      <td>0.0</td>\n",
       "      <td>0</td>\n",
       "    </tr>\n",
       "  </tbody>\n",
       "</table>\n",
       "</div>"
      ],
      "text/plain": [
       "                                user_id  curcv  whale\n",
       "0  000089cb-93b4-4f7e-b483-a40585c2f6c8    0.0      0\n",
       "1  0003db40-1f04-4a05-a20a-b636b10aaf62    0.0      0\n",
       "2  0005422d-14c7-4381-a9cc-c8516e2dfbf8    0.0      0\n",
       "3  0006ae6e-0036-4ccd-bf05-16aeb5271d17    0.0      0\n",
       "4  0007c175-df3c-41d3-b1c3-04f62579e954    0.0      0"
      ]
     },
     "execution_count": 36,
     "metadata": {},
     "output_type": "execute_result"
    }
   ],
   "source": [
    "CurCV.head()"
   ]
  },
  {
   "cell_type": "code",
   "execution_count": 37,
   "metadata": {
    "collapsed": false
   },
   "outputs": [
    {
     "data": {
      "text/plain": [
       "0"
      ]
     },
     "execution_count": 37,
     "metadata": {},
     "output_type": "execute_result"
    }
   ],
   "source": [
    "len(CurCV[CurCV[\"user_id\"] == \"70c15a3e-b516-4aca-bea2-aa909a4a16d2\"])"
   ]
  },
  {
   "cell_type": "code",
   "execution_count": 38,
   "metadata": {
    "collapsed": false
   },
   "outputs": [],
   "source": [
    "# # Separate majority and minority classes\n",
    "# CurCV_majority = CurCV[CurCV[\"whale\"] == 0 ]\n",
    "# CurCV_minority = CurCV[CurCV[\"whale\"] == 1 ]\n",
    " \n",
    "# # Upsample minority class\n",
    "# CurCV_minority_upsampled = resample(CurCV_minority, \n",
    "#                                  replace=True,     # sample with replacement\n",
    "#                                  n_samples=len(CurCV[CurCV[\"whale\"] == 0]),    # to match majority class\n",
    "#                                  random_state=123) # reproducible results\n",
    " \n",
    "# # Combine majority class with upsampled minority class\n",
    "# CurCV_upsampled = pd.concat([CurCV_majority, CurCV_minority_upsampled])\n",
    " \n",
    "# # Display new class counts\n",
    "# CurCV_upsampled[\"whale\"].value_counts()"
   ]
  },
  {
   "cell_type": "code",
   "execution_count": 39,
   "metadata": {
    "collapsed": false
   },
   "outputs": [],
   "source": [
    "# len(CurCV_upsampled[CurCV_upsampled[\"user_id\"] == \"70c15a3e-b516-4aca-bea2-aa909a4a16d2\"])"
   ]
  },
  {
   "cell_type": "code",
   "execution_count": 40,
   "metadata": {
    "collapsed": false
   },
   "outputs": [],
   "source": [
    "# CurCV['whale'].plot(kind='bar')"
   ]
  },
  {
   "cell_type": "markdown",
   "metadata": {},
   "source": [
    "- Training window = the amount of historical data we want to use when calculating features\n",
    "- cutoff_time = the point in time to calculate the features\n",
    "\n",
    "We use cutoff times to avoid the risk of leaking labels into prediction"
   ]
  },
  {
   "cell_type": "code",
   "execution_count": 41,
   "metadata": {
    "collapsed": false
   },
   "outputs": [
    {
     "data": {
      "text/plain": [
       "transaction_id\n",
       "2399   2016-10-01\n",
       "4311   2016-10-01\n",
       "4579   2016-10-01\n",
       "5874   2016-10-01\n",
       "5877   2016-10-01\n",
       "Name: date, dtype: datetime64[ns]"
      ]
     },
     "execution_count": 41,
     "metadata": {},
     "output_type": "execute_result"
    }
   ],
   "source": [
    "# transactions sorted by the date\n",
    "trans = es['transactions'].df\n",
    "trans['date'][0:5]"
   ]
  },
  {
   "cell_type": "markdown",
   "metadata": {},
   "source": [
    "## Automated feature engineering"
   ]
  },
  {
   "cell_type": "code",
   "execution_count": 42,
   "metadata": {
    "collapsed": false
   },
   "outputs": [
    {
     "data": {
      "text/html": [
       "<div>\n",
       "<style>\n",
       "    .dataframe thead tr:only-child th {\n",
       "        text-align: right;\n",
       "    }\n",
       "\n",
       "    .dataframe thead th {\n",
       "        text-align: left;\n",
       "    }\n",
       "\n",
       "    .dataframe tbody tr th {\n",
       "        vertical-align: top;\n",
       "    }\n",
       "</style>\n",
       "<table border=\"1\" class=\"dataframe\">\n",
       "  <thead>\n",
       "    <tr style=\"text-align: right;\">\n",
       "      <th></th>\n",
       "      <th>user_id</th>\n",
       "      <th>country_cd</th>\n",
       "      <th>gender</th>\n",
       "      <th>nationality</th>\n",
       "      <th>platform_type_name</th>\n",
       "      <th>trading_experience</th>\n",
       "      <th>title</th>\n",
       "      <th>network</th>\n",
       "      <th>bux_account_created_dts</th>\n",
       "      <th>ams_first_funded_dts</th>\n",
       "      <th>initial_deposit_amount</th>\n",
       "      <th>month_year</th>\n",
       "      <th>bux_account_created_day</th>\n",
       "    </tr>\n",
       "    <tr>\n",
       "      <th>user_id</th>\n",
       "      <th></th>\n",
       "      <th></th>\n",
       "      <th></th>\n",
       "      <th></th>\n",
       "      <th></th>\n",
       "      <th></th>\n",
       "      <th></th>\n",
       "      <th></th>\n",
       "      <th></th>\n",
       "      <th></th>\n",
       "      <th></th>\n",
       "      <th></th>\n",
       "      <th></th>\n",
       "    </tr>\n",
       "  </thead>\n",
       "  <tbody>\n",
       "    <tr>\n",
       "      <th>13811ce2-4166-40e1-92ea-657e30e4c48e</th>\n",
       "      <td>13811ce2-4166-40e1-92ea-657e30e4c48e</td>\n",
       "      <td>DE</td>\n",
       "      <td>NaN</td>\n",
       "      <td>NaN</td>\n",
       "      <td>Android</td>\n",
       "      <td>NONE</td>\n",
       "      <td>Rookie Trader</td>\n",
       "      <td>Facebook Installs</td>\n",
       "      <td>2016-10-01 00:23:47.153</td>\n",
       "      <td>NaT</td>\n",
       "      <td>NaN</td>\n",
       "      <td>2016-10-01</td>\n",
       "      <td>1</td>\n",
       "    </tr>\n",
       "    <tr>\n",
       "      <th>466b8225-19f2-4cba-9680-1b74274da251</th>\n",
       "      <td>466b8225-19f2-4cba-9680-1b74274da251</td>\n",
       "      <td>DE</td>\n",
       "      <td>NaN</td>\n",
       "      <td>NaN</td>\n",
       "      <td>Android</td>\n",
       "      <td>NONE</td>\n",
       "      <td>Rookie Trader</td>\n",
       "      <td>Facebook Installs</td>\n",
       "      <td>2016-10-01 00:25:35.654</td>\n",
       "      <td>NaT</td>\n",
       "      <td>NaN</td>\n",
       "      <td>2016-10-01</td>\n",
       "      <td>1</td>\n",
       "    </tr>\n",
       "    <tr>\n",
       "      <th>128c4f3c-25f3-4d22-aa10-c416efd3aefa</th>\n",
       "      <td>128c4f3c-25f3-4d22-aa10-c416efd3aefa</td>\n",
       "      <td>DE</td>\n",
       "      <td>MALE</td>\n",
       "      <td>DE</td>\n",
       "      <td>Android</td>\n",
       "      <td>SOME</td>\n",
       "      <td>Experienced Trader</td>\n",
       "      <td>Organic</td>\n",
       "      <td>2016-10-01 01:36:49.294</td>\n",
       "      <td>NaT</td>\n",
       "      <td>NaN</td>\n",
       "      <td>2016-10-01</td>\n",
       "      <td>1</td>\n",
       "    </tr>\n",
       "    <tr>\n",
       "      <th>2ec93ee9-c6b4-4d73-88d5-690f90d192a6</th>\n",
       "      <td>2ec93ee9-c6b4-4d73-88d5-690f90d192a6</td>\n",
       "      <td>DE</td>\n",
       "      <td>NaN</td>\n",
       "      <td>NaN</td>\n",
       "      <td>Android</td>\n",
       "      <td>SOME</td>\n",
       "      <td>Experienced Trader</td>\n",
       "      <td>Facebook Installs</td>\n",
       "      <td>2016-10-01 01:46:35.980</td>\n",
       "      <td>NaT</td>\n",
       "      <td>NaN</td>\n",
       "      <td>2016-10-01</td>\n",
       "      <td>1</td>\n",
       "    </tr>\n",
       "    <tr>\n",
       "      <th>22554ec3-5b03-4978-9534-40cc6c973140</th>\n",
       "      <td>22554ec3-5b03-4978-9534-40cc6c973140</td>\n",
       "      <td>DE</td>\n",
       "      <td>NaN</td>\n",
       "      <td>NaN</td>\n",
       "      <td>Android</td>\n",
       "      <td>NONE</td>\n",
       "      <td>Rookie Trader</td>\n",
       "      <td>Facebook Installs</td>\n",
       "      <td>2016-10-01 04:45:02.741</td>\n",
       "      <td>NaT</td>\n",
       "      <td>NaN</td>\n",
       "      <td>2016-10-01</td>\n",
       "      <td>1</td>\n",
       "    </tr>\n",
       "    <tr>\n",
       "      <th>0bf22723-3ff5-4088-be4b-b27e6589f40d</th>\n",
       "      <td>0bf22723-3ff5-4088-be4b-b27e6589f40d</td>\n",
       "      <td>DE</td>\n",
       "      <td>NaN</td>\n",
       "      <td>NaN</td>\n",
       "      <td>Android</td>\n",
       "      <td>NONE</td>\n",
       "      <td>Rookie Trader</td>\n",
       "      <td>Facebook Installs</td>\n",
       "      <td>2016-10-01 05:37:31.257</td>\n",
       "      <td>NaT</td>\n",
       "      <td>NaN</td>\n",
       "      <td>2016-10-01</td>\n",
       "      <td>1</td>\n",
       "    </tr>\n",
       "    <tr>\n",
       "      <th>53300836-3b2d-4f63-8f55-b9a6d104df1d</th>\n",
       "      <td>53300836-3b2d-4f63-8f55-b9a6d104df1d</td>\n",
       "      <td>DE</td>\n",
       "      <td>NaN</td>\n",
       "      <td>NaN</td>\n",
       "      <td>Android</td>\n",
       "      <td>NONE</td>\n",
       "      <td>Rookie Trader</td>\n",
       "      <td>Facebook Installs</td>\n",
       "      <td>2016-10-01 05:47:28.379</td>\n",
       "      <td>NaT</td>\n",
       "      <td>NaN</td>\n",
       "      <td>2016-10-01</td>\n",
       "      <td>1</td>\n",
       "    </tr>\n",
       "    <tr>\n",
       "      <th>1c2afe81-e81e-43a8-8a2a-32a143dfb337</th>\n",
       "      <td>1c2afe81-e81e-43a8-8a2a-32a143dfb337</td>\n",
       "      <td>AT</td>\n",
       "      <td>NaN</td>\n",
       "      <td>NaN</td>\n",
       "      <td>Android</td>\n",
       "      <td>NONE</td>\n",
       "      <td>Rookie Trader</td>\n",
       "      <td>Facebook Installs</td>\n",
       "      <td>2016-10-01 06:38:50.098</td>\n",
       "      <td>NaT</td>\n",
       "      <td>NaN</td>\n",
       "      <td>2016-10-01</td>\n",
       "      <td>1</td>\n",
       "    </tr>\n",
       "    <tr>\n",
       "      <th>0378e91d-8e94-47fd-942a-8bb4662bb693</th>\n",
       "      <td>0378e91d-8e94-47fd-942a-8bb4662bb693</td>\n",
       "      <td>DE</td>\n",
       "      <td>NaN</td>\n",
       "      <td>NaN</td>\n",
       "      <td>Android</td>\n",
       "      <td>SOME</td>\n",
       "      <td>Experienced Trader</td>\n",
       "      <td>Viral Invites</td>\n",
       "      <td>2016-10-01 06:45:54.523</td>\n",
       "      <td>NaT</td>\n",
       "      <td>NaN</td>\n",
       "      <td>2016-10-01</td>\n",
       "      <td>1</td>\n",
       "    </tr>\n",
       "    <tr>\n",
       "      <th>39703849-377f-4236-ae73-834e0607d8aa</th>\n",
       "      <td>39703849-377f-4236-ae73-834e0607d8aa</td>\n",
       "      <td>DE</td>\n",
       "      <td>NaN</td>\n",
       "      <td>NaN</td>\n",
       "      <td>Android</td>\n",
       "      <td>SOME</td>\n",
       "      <td>Experienced Trader</td>\n",
       "      <td>Facebook Installs</td>\n",
       "      <td>2016-10-01 06:54:48.507</td>\n",
       "      <td>NaT</td>\n",
       "      <td>NaN</td>\n",
       "      <td>2016-10-01</td>\n",
       "      <td>1</td>\n",
       "    </tr>\n",
       "  </tbody>\n",
       "</table>\n",
       "</div>"
      ],
      "text/plain": [
       "                                                                   user_id  \\\n",
       "user_id                                                                      \n",
       "13811ce2-4166-40e1-92ea-657e30e4c48e  13811ce2-4166-40e1-92ea-657e30e4c48e   \n",
       "466b8225-19f2-4cba-9680-1b74274da251  466b8225-19f2-4cba-9680-1b74274da251   \n",
       "128c4f3c-25f3-4d22-aa10-c416efd3aefa  128c4f3c-25f3-4d22-aa10-c416efd3aefa   \n",
       "2ec93ee9-c6b4-4d73-88d5-690f90d192a6  2ec93ee9-c6b4-4d73-88d5-690f90d192a6   \n",
       "22554ec3-5b03-4978-9534-40cc6c973140  22554ec3-5b03-4978-9534-40cc6c973140   \n",
       "0bf22723-3ff5-4088-be4b-b27e6589f40d  0bf22723-3ff5-4088-be4b-b27e6589f40d   \n",
       "53300836-3b2d-4f63-8f55-b9a6d104df1d  53300836-3b2d-4f63-8f55-b9a6d104df1d   \n",
       "1c2afe81-e81e-43a8-8a2a-32a143dfb337  1c2afe81-e81e-43a8-8a2a-32a143dfb337   \n",
       "0378e91d-8e94-47fd-942a-8bb4662bb693  0378e91d-8e94-47fd-942a-8bb4662bb693   \n",
       "39703849-377f-4236-ae73-834e0607d8aa  39703849-377f-4236-ae73-834e0607d8aa   \n",
       "\n",
       "                                     country_cd gender nationality  \\\n",
       "user_id                                                              \n",
       "13811ce2-4166-40e1-92ea-657e30e4c48e         DE    NaN         NaN   \n",
       "466b8225-19f2-4cba-9680-1b74274da251         DE    NaN         NaN   \n",
       "128c4f3c-25f3-4d22-aa10-c416efd3aefa         DE   MALE          DE   \n",
       "2ec93ee9-c6b4-4d73-88d5-690f90d192a6         DE    NaN         NaN   \n",
       "22554ec3-5b03-4978-9534-40cc6c973140         DE    NaN         NaN   \n",
       "0bf22723-3ff5-4088-be4b-b27e6589f40d         DE    NaN         NaN   \n",
       "53300836-3b2d-4f63-8f55-b9a6d104df1d         DE    NaN         NaN   \n",
       "1c2afe81-e81e-43a8-8a2a-32a143dfb337         AT    NaN         NaN   \n",
       "0378e91d-8e94-47fd-942a-8bb4662bb693         DE    NaN         NaN   \n",
       "39703849-377f-4236-ae73-834e0607d8aa         DE    NaN         NaN   \n",
       "\n",
       "                                     platform_type_name trading_experience  \\\n",
       "user_id                                                                      \n",
       "13811ce2-4166-40e1-92ea-657e30e4c48e            Android               NONE   \n",
       "466b8225-19f2-4cba-9680-1b74274da251            Android               NONE   \n",
       "128c4f3c-25f3-4d22-aa10-c416efd3aefa            Android               SOME   \n",
       "2ec93ee9-c6b4-4d73-88d5-690f90d192a6            Android               SOME   \n",
       "22554ec3-5b03-4978-9534-40cc6c973140            Android               NONE   \n",
       "0bf22723-3ff5-4088-be4b-b27e6589f40d            Android               NONE   \n",
       "53300836-3b2d-4f63-8f55-b9a6d104df1d            Android               NONE   \n",
       "1c2afe81-e81e-43a8-8a2a-32a143dfb337            Android               NONE   \n",
       "0378e91d-8e94-47fd-942a-8bb4662bb693            Android               SOME   \n",
       "39703849-377f-4236-ae73-834e0607d8aa            Android               SOME   \n",
       "\n",
       "                                                   title            network  \\\n",
       "user_id                                                                       \n",
       "13811ce2-4166-40e1-92ea-657e30e4c48e       Rookie Trader  Facebook Installs   \n",
       "466b8225-19f2-4cba-9680-1b74274da251       Rookie Trader  Facebook Installs   \n",
       "128c4f3c-25f3-4d22-aa10-c416efd3aefa  Experienced Trader            Organic   \n",
       "2ec93ee9-c6b4-4d73-88d5-690f90d192a6  Experienced Trader  Facebook Installs   \n",
       "22554ec3-5b03-4978-9534-40cc6c973140       Rookie Trader  Facebook Installs   \n",
       "0bf22723-3ff5-4088-be4b-b27e6589f40d       Rookie Trader  Facebook Installs   \n",
       "53300836-3b2d-4f63-8f55-b9a6d104df1d       Rookie Trader  Facebook Installs   \n",
       "1c2afe81-e81e-43a8-8a2a-32a143dfb337       Rookie Trader  Facebook Installs   \n",
       "0378e91d-8e94-47fd-942a-8bb4662bb693  Experienced Trader      Viral Invites   \n",
       "39703849-377f-4236-ae73-834e0607d8aa  Experienced Trader  Facebook Installs   \n",
       "\n",
       "                                     bux_account_created_dts  \\\n",
       "user_id                                                        \n",
       "13811ce2-4166-40e1-92ea-657e30e4c48e 2016-10-01 00:23:47.153   \n",
       "466b8225-19f2-4cba-9680-1b74274da251 2016-10-01 00:25:35.654   \n",
       "128c4f3c-25f3-4d22-aa10-c416efd3aefa 2016-10-01 01:36:49.294   \n",
       "2ec93ee9-c6b4-4d73-88d5-690f90d192a6 2016-10-01 01:46:35.980   \n",
       "22554ec3-5b03-4978-9534-40cc6c973140 2016-10-01 04:45:02.741   \n",
       "0bf22723-3ff5-4088-be4b-b27e6589f40d 2016-10-01 05:37:31.257   \n",
       "53300836-3b2d-4f63-8f55-b9a6d104df1d 2016-10-01 05:47:28.379   \n",
       "1c2afe81-e81e-43a8-8a2a-32a143dfb337 2016-10-01 06:38:50.098   \n",
       "0378e91d-8e94-47fd-942a-8bb4662bb693 2016-10-01 06:45:54.523   \n",
       "39703849-377f-4236-ae73-834e0607d8aa 2016-10-01 06:54:48.507   \n",
       "\n",
       "                                     ams_first_funded_dts  \\\n",
       "user_id                                                     \n",
       "13811ce2-4166-40e1-92ea-657e30e4c48e                  NaT   \n",
       "466b8225-19f2-4cba-9680-1b74274da251                  NaT   \n",
       "128c4f3c-25f3-4d22-aa10-c416efd3aefa                  NaT   \n",
       "2ec93ee9-c6b4-4d73-88d5-690f90d192a6                  NaT   \n",
       "22554ec3-5b03-4978-9534-40cc6c973140                  NaT   \n",
       "0bf22723-3ff5-4088-be4b-b27e6589f40d                  NaT   \n",
       "53300836-3b2d-4f63-8f55-b9a6d104df1d                  NaT   \n",
       "1c2afe81-e81e-43a8-8a2a-32a143dfb337                  NaT   \n",
       "0378e91d-8e94-47fd-942a-8bb4662bb693                  NaT   \n",
       "39703849-377f-4236-ae73-834e0607d8aa                  NaT   \n",
       "\n",
       "                                      initial_deposit_amount month_year  \\\n",
       "user_id                                                                   \n",
       "13811ce2-4166-40e1-92ea-657e30e4c48e                     NaN 2016-10-01   \n",
       "466b8225-19f2-4cba-9680-1b74274da251                     NaN 2016-10-01   \n",
       "128c4f3c-25f3-4d22-aa10-c416efd3aefa                     NaN 2016-10-01   \n",
       "2ec93ee9-c6b4-4d73-88d5-690f90d192a6                     NaN 2016-10-01   \n",
       "22554ec3-5b03-4978-9534-40cc6c973140                     NaN 2016-10-01   \n",
       "0bf22723-3ff5-4088-be4b-b27e6589f40d                     NaN 2016-10-01   \n",
       "53300836-3b2d-4f63-8f55-b9a6d104df1d                     NaN 2016-10-01   \n",
       "1c2afe81-e81e-43a8-8a2a-32a143dfb337                     NaN 2016-10-01   \n",
       "0378e91d-8e94-47fd-942a-8bb4662bb693                     NaN 2016-10-01   \n",
       "39703849-377f-4236-ae73-834e0607d8aa                     NaN 2016-10-01   \n",
       "\n",
       "                                      bux_account_created_day  \n",
       "user_id                                                        \n",
       "13811ce2-4166-40e1-92ea-657e30e4c48e                        1  \n",
       "466b8225-19f2-4cba-9680-1b74274da251                        1  \n",
       "128c4f3c-25f3-4d22-aa10-c416efd3aefa                        1  \n",
       "2ec93ee9-c6b4-4d73-88d5-690f90d192a6                        1  \n",
       "22554ec3-5b03-4978-9534-40cc6c973140                        1  \n",
       "0bf22723-3ff5-4088-be4b-b27e6589f40d                        1  \n",
       "53300836-3b2d-4f63-8f55-b9a6d104df1d                        1  \n",
       "1c2afe81-e81e-43a8-8a2a-32a143dfb337                        1  \n",
       "0378e91d-8e94-47fd-942a-8bb4662bb693                        1  \n",
       "39703849-377f-4236-ae73-834e0607d8aa                        1  "
      ]
     },
     "execution_count": 42,
     "metadata": {},
     "output_type": "execute_result"
    }
   ],
   "source": [
    "es['users'].head()"
   ]
  },
  {
   "cell_type": "code",
   "execution_count": 43,
   "metadata": {
    "collapsed": false
   },
   "outputs": [
    {
     "data": {
      "text/html": [
       "<div>\n",
       "<style>\n",
       "    .dataframe thead tr:only-child th {\n",
       "        text-align: right;\n",
       "    }\n",
       "\n",
       "    .dataframe thead th {\n",
       "        text-align: left;\n",
       "    }\n",
       "\n",
       "    .dataframe tbody tr th {\n",
       "        vertical-align: top;\n",
       "    }\n",
       "</style>\n",
       "<table border=\"1\" class=\"dataframe\">\n",
       "  <thead>\n",
       "    <tr style=\"text-align: right;\">\n",
       "      <th></th>\n",
       "      <th>transaction_id</th>\n",
       "      <th>user_id</th>\n",
       "      <th>day_of_year</th>\n",
       "      <th>date</th>\n",
       "      <th>number_of_sessions</th>\n",
       "      <th>total_session_duration</th>\n",
       "      <th>account_status</th>\n",
       "      <th>trades_fb_commodities_open</th>\n",
       "      <th>trades_fb_commodities_profit</th>\n",
       "      <th>social_status_battles</th>\n",
       "      <th>social_status</th>\n",
       "      <th>conversion_to_sb</th>\n",
       "    </tr>\n",
       "    <tr>\n",
       "      <th>transaction_id</th>\n",
       "      <th></th>\n",
       "      <th></th>\n",
       "      <th></th>\n",
       "      <th></th>\n",
       "      <th></th>\n",
       "      <th></th>\n",
       "      <th></th>\n",
       "      <th></th>\n",
       "      <th></th>\n",
       "      <th></th>\n",
       "      <th></th>\n",
       "      <th></th>\n",
       "    </tr>\n",
       "  </thead>\n",
       "  <tbody>\n",
       "    <tr>\n",
       "      <th>2399</th>\n",
       "      <td>2399</td>\n",
       "      <td>3800ff41-49e8-4476-a02b-c798eb0673ec</td>\n",
       "      <td>275</td>\n",
       "      <td>2016-10-01</td>\n",
       "      <td>1</td>\n",
       "      <td>240</td>\n",
       "      <td>FUN_BUX</td>\n",
       "      <td>0</td>\n",
       "      <td>0.0</td>\n",
       "      <td>0</td>\n",
       "      <td>Non-Social</td>\n",
       "      <td>0</td>\n",
       "    </tr>\n",
       "    <tr>\n",
       "      <th>4311</th>\n",
       "      <td>4311</td>\n",
       "      <td>0378e91d-8e94-47fd-942a-8bb4662bb693</td>\n",
       "      <td>275</td>\n",
       "      <td>2016-10-01</td>\n",
       "      <td>1</td>\n",
       "      <td>191</td>\n",
       "      <td>FUN_BUX</td>\n",
       "      <td>0</td>\n",
       "      <td>0.0</td>\n",
       "      <td>0</td>\n",
       "      <td>Non-Social</td>\n",
       "      <td>0</td>\n",
       "    </tr>\n",
       "    <tr>\n",
       "      <th>4579</th>\n",
       "      <td>4579</td>\n",
       "      <td>39703849-377f-4236-ae73-834e0607d8aa</td>\n",
       "      <td>275</td>\n",
       "      <td>2016-10-01</td>\n",
       "      <td>1</td>\n",
       "      <td>314</td>\n",
       "      <td>FUN_BUX</td>\n",
       "      <td>0</td>\n",
       "      <td>0.0</td>\n",
       "      <td>0</td>\n",
       "      <td>Non-Social</td>\n",
       "      <td>0</td>\n",
       "    </tr>\n",
       "    <tr>\n",
       "      <th>5874</th>\n",
       "      <td>5874</td>\n",
       "      <td>03d7e40b-2db8-47f3-981f-6ab88844f42d</td>\n",
       "      <td>275</td>\n",
       "      <td>2016-10-01</td>\n",
       "      <td>2</td>\n",
       "      <td>281</td>\n",
       "      <td>FUN_BUX</td>\n",
       "      <td>0</td>\n",
       "      <td>0.0</td>\n",
       "      <td>0</td>\n",
       "      <td>Non-Social</td>\n",
       "      <td>0</td>\n",
       "    </tr>\n",
       "    <tr>\n",
       "      <th>5877</th>\n",
       "      <td>5877</td>\n",
       "      <td>03d8f46a-442f-414b-8580-388070372c21</td>\n",
       "      <td>275</td>\n",
       "      <td>2016-10-01</td>\n",
       "      <td>2</td>\n",
       "      <td>87</td>\n",
       "      <td>FUN_BUX</td>\n",
       "      <td>0</td>\n",
       "      <td>0.0</td>\n",
       "      <td>0</td>\n",
       "      <td>Non-Social</td>\n",
       "      <td>0</td>\n",
       "    </tr>\n",
       "    <tr>\n",
       "      <th>6180</th>\n",
       "      <td>6180</td>\n",
       "      <td>3de0f083-b92e-4611-8f42-ec492ab99466</td>\n",
       "      <td>275</td>\n",
       "      <td>2016-10-01</td>\n",
       "      <td>2</td>\n",
       "      <td>234</td>\n",
       "      <td>FUN_BUX</td>\n",
       "      <td>0</td>\n",
       "      <td>0.0</td>\n",
       "      <td>0</td>\n",
       "      <td>Non-Social</td>\n",
       "      <td>0</td>\n",
       "    </tr>\n",
       "    <tr>\n",
       "      <th>6864</th>\n",
       "      <td>6864</td>\n",
       "      <td>e04a2b04-eaa8-4d1d-8a9f-9688413e0d17</td>\n",
       "      <td>275</td>\n",
       "      <td>2016-10-01</td>\n",
       "      <td>1</td>\n",
       "      <td>275</td>\n",
       "      <td>FUN_BUX</td>\n",
       "      <td>0</td>\n",
       "      <td>0.0</td>\n",
       "      <td>0</td>\n",
       "      <td>Non-Social</td>\n",
       "      <td>0</td>\n",
       "    </tr>\n",
       "    <tr>\n",
       "      <th>7083</th>\n",
       "      <td>7083</td>\n",
       "      <td>3bd246c5-46ef-48bf-8d8e-e605cfcfdb70</td>\n",
       "      <td>275</td>\n",
       "      <td>2016-10-01</td>\n",
       "      <td>4</td>\n",
       "      <td>1058</td>\n",
       "      <td>FUN_BUX</td>\n",
       "      <td>0</td>\n",
       "      <td>0.0</td>\n",
       "      <td>0</td>\n",
       "      <td>Non-Social</td>\n",
       "      <td>0</td>\n",
       "    </tr>\n",
       "    <tr>\n",
       "      <th>7160</th>\n",
       "      <td>7160</td>\n",
       "      <td>3c07f923-b48c-487f-b377-6fc91bd3705c</td>\n",
       "      <td>275</td>\n",
       "      <td>2016-10-01</td>\n",
       "      <td>2</td>\n",
       "      <td>115</td>\n",
       "      <td>FUN_BUX</td>\n",
       "      <td>0</td>\n",
       "      <td>0.0</td>\n",
       "      <td>2</td>\n",
       "      <td>Chatting</td>\n",
       "      <td>0</td>\n",
       "    </tr>\n",
       "    <tr>\n",
       "      <th>8153</th>\n",
       "      <td>8153</td>\n",
       "      <td>3f6af921-0115-4160-9419-1a84d782076b</td>\n",
       "      <td>275</td>\n",
       "      <td>2016-10-01</td>\n",
       "      <td>3</td>\n",
       "      <td>332</td>\n",
       "      <td>FUN_BUX</td>\n",
       "      <td>0</td>\n",
       "      <td>0.0</td>\n",
       "      <td>0</td>\n",
       "      <td>Non-Social</td>\n",
       "      <td>0</td>\n",
       "    </tr>\n",
       "  </tbody>\n",
       "</table>\n",
       "</div>"
      ],
      "text/plain": [
       "                transaction_id                               user_id  \\\n",
       "transaction_id                                                         \n",
       "2399                      2399  3800ff41-49e8-4476-a02b-c798eb0673ec   \n",
       "4311                      4311  0378e91d-8e94-47fd-942a-8bb4662bb693   \n",
       "4579                      4579  39703849-377f-4236-ae73-834e0607d8aa   \n",
       "5874                      5874  03d7e40b-2db8-47f3-981f-6ab88844f42d   \n",
       "5877                      5877  03d8f46a-442f-414b-8580-388070372c21   \n",
       "6180                      6180  3de0f083-b92e-4611-8f42-ec492ab99466   \n",
       "6864                      6864  e04a2b04-eaa8-4d1d-8a9f-9688413e0d17   \n",
       "7083                      7083  3bd246c5-46ef-48bf-8d8e-e605cfcfdb70   \n",
       "7160                      7160  3c07f923-b48c-487f-b377-6fc91bd3705c   \n",
       "8153                      8153  3f6af921-0115-4160-9419-1a84d782076b   \n",
       "\n",
       "                day_of_year       date  number_of_sessions  \\\n",
       "transaction_id                                               \n",
       "2399                    275 2016-10-01                   1   \n",
       "4311                    275 2016-10-01                   1   \n",
       "4579                    275 2016-10-01                   1   \n",
       "5874                    275 2016-10-01                   2   \n",
       "5877                    275 2016-10-01                   2   \n",
       "6180                    275 2016-10-01                   2   \n",
       "6864                    275 2016-10-01                   1   \n",
       "7083                    275 2016-10-01                   4   \n",
       "7160                    275 2016-10-01                   2   \n",
       "8153                    275 2016-10-01                   3   \n",
       "\n",
       "                total_session_duration account_status  \\\n",
       "transaction_id                                          \n",
       "2399                               240        FUN_BUX   \n",
       "4311                               191        FUN_BUX   \n",
       "4579                               314        FUN_BUX   \n",
       "5874                               281        FUN_BUX   \n",
       "5877                                87        FUN_BUX   \n",
       "6180                               234        FUN_BUX   \n",
       "6864                               275        FUN_BUX   \n",
       "7083                              1058        FUN_BUX   \n",
       "7160                               115        FUN_BUX   \n",
       "8153                               332        FUN_BUX   \n",
       "\n",
       "                trades_fb_commodities_open  trades_fb_commodities_profit  \\\n",
       "transaction_id                                                             \n",
       "2399                                     0                           0.0   \n",
       "4311                                     0                           0.0   \n",
       "4579                                     0                           0.0   \n",
       "5874                                     0                           0.0   \n",
       "5877                                     0                           0.0   \n",
       "6180                                     0                           0.0   \n",
       "6864                                     0                           0.0   \n",
       "7083                                     0                           0.0   \n",
       "7160                                     0                           0.0   \n",
       "8153                                     0                           0.0   \n",
       "\n",
       "                social_status_battles social_status  conversion_to_sb  \n",
       "transaction_id                                                         \n",
       "2399                                0    Non-Social                 0  \n",
       "4311                                0    Non-Social                 0  \n",
       "4579                                0    Non-Social                 0  \n",
       "5874                                0    Non-Social                 0  \n",
       "5877                                0    Non-Social                 0  \n",
       "6180                                0    Non-Social                 0  \n",
       "6864                                0    Non-Social                 0  \n",
       "7083                                0    Non-Social                 0  \n",
       "7160                                2      Chatting                 0  \n",
       "8153                                0    Non-Social                 0  "
      ]
     },
     "execution_count": 43,
     "metadata": {},
     "output_type": "execute_result"
    }
   ],
   "source": [
    "es['transactions'].head()"
   ]
  },
  {
   "cell_type": "code",
   "execution_count": 44,
   "metadata": {
    "collapsed": true
   },
   "outputs": [],
   "source": [
    "from dask import bag\n",
    "from dask.diagnostics import ProgressBar"
   ]
  },
  {
   "cell_type": "code",
   "execution_count": 45,
   "metadata": {
    "collapsed": false
   },
   "outputs": [],
   "source": [
    "# %%time\n",
    "\n",
    "# from featuretools.primitives import (Sum, Std, Max, Min, Mean,\n",
    "#                                      Count, PercentTrue, NUnique, \n",
    "#                                      Mode, Trend, Skew)\n",
    "\n",
    "\n",
    "# agg_primitives = [Sum, Std, Max, Min, Mean, \n",
    "#                   Count, PercentTrue, NUnique, \n",
    "#                   Mode, Trend, Skew]\n",
    "\n",
    "# feature_matrix, features = ft.dfs(\n",
    "#     entityset=es,\n",
    "#     target_entity=\"users\",\n",
    "#     trans_primitives=[],\n",
    "#     agg_primitives=agg_primitives,\n",
    "#     max_depth=3,\n",
    "#     # cutoff_time=cutoff_times,\n",
    "#     verbose=True\n",
    "# )\n",
    "\n",
    "# print(\"{} features generated\".format(len(features)))"
   ]
  },
  {
   "cell_type": "code",
   "execution_count": 46,
   "metadata": {
    "collapsed": false
   },
   "outputs": [],
   "source": [
    "# %%time\n",
    "\n",
    "# from featuretools.primitives import (Sum, Std, Max, Min, Mean,\n",
    "#                                      Count, PercentTrue, NUnique, \n",
    "#                                      Mode, Trend, Skew)\n",
    "\n",
    "\n",
    "# agg_primitives = [Sum, Std, Max, Min, Mean, \n",
    "#                   Count, PercentTrue, NUnique, \n",
    "#                   Mode]\n",
    "\n",
    "# feature_matrix, features = ft.dfs(\n",
    "#     entityset=es,\n",
    "#     target_entity=\"users\",\n",
    "#     trans_primitives=[],\n",
    "#     agg_primitives=agg_primitives,\n",
    "#     max_depth=3,\n",
    "#     # cutoff_time=cutoff_times,\n",
    "#     verbose=True\n",
    "# )\n",
    "\n",
    "# print(\"{} features generated\".format(len(features)))"
   ]
  },
  {
   "cell_type": "code",
   "execution_count": 47,
   "metadata": {
    "collapsed": false
   },
   "outputs": [
    {
     "name": "stdout",
     "output_type": "stream",
     "text": [
      "Building features: 65it [00:00, 4372.36it/s]\n",
      "Progress: 100%|██████████| 1/1 [23:42<00:00, 1422.45s/cutoff time]\n",
      "49 features generated\n",
      "CPU times: user 22min 40s, sys: 5.28 s, total: 22min 45s\n",
      "Wall time: 23min 43s\n"
     ]
    }
   ],
   "source": [
    "%%time\n",
    "\n",
    "from featuretools.primitives import (Sum, Std, Max, Min, Mean,\n",
    "                                     Count, PercentTrue, NUnique, \n",
    "                                     Mode, Trend, Skew)\n",
    "\n",
    "\n",
    "agg_primitives = [Sum, Std, Max, Min, Mean, \n",
    "                  Count, PercentTrue, NUnique, \n",
    "                  Mode]\n",
    "\n",
    "feature_matrix, features = ft.dfs(\n",
    "    entityset=es,\n",
    "    target_entity=\"users\",\n",
    "    trans_primitives=[],\n",
    "    agg_primitives=agg_primitives,\n",
    "    max_depth=2,\n",
    "    # cutoff_time=cutoff_times,\n",
    "    verbose=True\n",
    ")\n",
    "\n",
    "print(\"{} features generated\".format(len(features)))"
   ]
  },
  {
   "cell_type": "code",
   "execution_count": 54,
   "metadata": {
    "collapsed": false
   },
   "outputs": [
    {
     "data": {
      "text/plain": [
       "56593"
      ]
     },
     "execution_count": 54,
     "metadata": {},
     "output_type": "execute_result"
    }
   ],
   "source": [
    "len(feature_matrix)"
   ]
  },
  {
   "cell_type": "code",
   "execution_count": 53,
   "metadata": {
    "collapsed": false
   },
   "outputs": [
    {
     "data": {
      "text/plain": [
       "featuretools.primitives.binary_transform.Equals"
      ]
     },
     "execution_count": 53,
     "metadata": {},
     "output_type": "execute_result"
    }
   ],
   "source": [
    "type(features_encoded[0])"
   ]
  },
  {
   "cell_type": "code",
   "execution_count": 48,
   "metadata": {
    "collapsed": false
   },
   "outputs": [
    {
     "name": "stdout",
     "output_type": "stream",
     "text": [
      "Number of features 95\n"
     ]
    },
    {
     "data": {
      "text/html": [
       "<div>\n",
       "<style>\n",
       "    .dataframe thead tr:only-child th {\n",
       "        text-align: right;\n",
       "    }\n",
       "\n",
       "    .dataframe thead th {\n",
       "        text-align: left;\n",
       "    }\n",
       "\n",
       "    .dataframe tbody tr th {\n",
       "        vertical-align: top;\n",
       "    }\n",
       "</style>\n",
       "<table border=\"1\" class=\"dataframe\">\n",
       "  <thead>\n",
       "    <tr style=\"text-align: right;\">\n",
       "      <th></th>\n",
       "      <th>title = Rookie Trader</th>\n",
       "      <th>title = Experienced Trader</th>\n",
       "      <th>title = Pro Trader</th>\n",
       "      <th>title = Channel Owner</th>\n",
       "      <th>title = PRO Trader</th>\n",
       "      <th>title = BUX Editor</th>\n",
       "      <th>title = unknown</th>\n",
       "      <th>trading_experience = NONE</th>\n",
       "      <th>trading_experience = SOME</th>\n",
       "      <th>trading_experience = EXPERT</th>\n",
       "      <th>...</th>\n",
       "      <th>MODE(transactions.social_status) = Chatting</th>\n",
       "      <th>MODE(transactions.social_status) = unknown</th>\n",
       "      <th>STD(transactions.conversion_to_sb)</th>\n",
       "      <th>STD(transactions.day_of_year)</th>\n",
       "      <th>MEAN(transactions.trades_fb_commodities_open)</th>\n",
       "      <th>MAX(transactions.conversion_to_sb)</th>\n",
       "      <th>MIN(transactions.trades_fb_commodities_profit)</th>\n",
       "      <th>SUM(transactions.social_status_battles)</th>\n",
       "      <th>MAX(transactions.number_of_sessions)</th>\n",
       "      <th>MEAN(transactions.day_of_year)</th>\n",
       "    </tr>\n",
       "    <tr>\n",
       "      <th>user_id</th>\n",
       "      <th></th>\n",
       "      <th></th>\n",
       "      <th></th>\n",
       "      <th></th>\n",
       "      <th></th>\n",
       "      <th></th>\n",
       "      <th></th>\n",
       "      <th></th>\n",
       "      <th></th>\n",
       "      <th></th>\n",
       "      <th></th>\n",
       "      <th></th>\n",
       "      <th></th>\n",
       "      <th></th>\n",
       "      <th></th>\n",
       "      <th></th>\n",
       "      <th></th>\n",
       "      <th></th>\n",
       "      <th></th>\n",
       "      <th></th>\n",
       "      <th></th>\n",
       "    </tr>\n",
       "  </thead>\n",
       "  <tbody>\n",
       "    <tr>\n",
       "      <th>00008084-d9b4-40e9-967a-8a197c3cb82a</th>\n",
       "      <td>1</td>\n",
       "      <td>0</td>\n",
       "      <td>0</td>\n",
       "      <td>0</td>\n",
       "      <td>0</td>\n",
       "      <td>0</td>\n",
       "      <td>0</td>\n",
       "      <td>1</td>\n",
       "      <td>0</td>\n",
       "      <td>0</td>\n",
       "      <td>...</td>\n",
       "      <td>0</td>\n",
       "      <td>0</td>\n",
       "      <td>0.0</td>\n",
       "      <td>6.492626</td>\n",
       "      <td>0.095238</td>\n",
       "      <td>0.0</td>\n",
       "      <td>0.0</td>\n",
       "      <td>0.0</td>\n",
       "      <td>9.0</td>\n",
       "      <td>13.47619</td>\n",
       "    </tr>\n",
       "    <tr>\n",
       "      <th>000089cb-93b4-4f7e-b483-a40585c2f6c8</th>\n",
       "      <td>1</td>\n",
       "      <td>0</td>\n",
       "      <td>0</td>\n",
       "      <td>0</td>\n",
       "      <td>0</td>\n",
       "      <td>0</td>\n",
       "      <td>0</td>\n",
       "      <td>1</td>\n",
       "      <td>0</td>\n",
       "      <td>0</td>\n",
       "      <td>...</td>\n",
       "      <td>0</td>\n",
       "      <td>0</td>\n",
       "      <td>0.0</td>\n",
       "      <td>1.118034</td>\n",
       "      <td>0.250000</td>\n",
       "      <td>0.0</td>\n",
       "      <td>0.0</td>\n",
       "      <td>0.0</td>\n",
       "      <td>4.0</td>\n",
       "      <td>298.50000</td>\n",
       "    </tr>\n",
       "    <tr>\n",
       "      <th>00008f39-ccc7-4043-8be9-e141a39dd81e</th>\n",
       "      <td>1</td>\n",
       "      <td>0</td>\n",
       "      <td>0</td>\n",
       "      <td>0</td>\n",
       "      <td>0</td>\n",
       "      <td>0</td>\n",
       "      <td>0</td>\n",
       "      <td>1</td>\n",
       "      <td>0</td>\n",
       "      <td>0</td>\n",
       "      <td>...</td>\n",
       "      <td>0</td>\n",
       "      <td>0</td>\n",
       "      <td>0.0</td>\n",
       "      <td>5.473573</td>\n",
       "      <td>0.200000</td>\n",
       "      <td>0.0</td>\n",
       "      <td>0.0</td>\n",
       "      <td>0.0</td>\n",
       "      <td>6.0</td>\n",
       "      <td>220.80000</td>\n",
       "    </tr>\n",
       "    <tr>\n",
       "      <th>0000c78d-d1ba-4758-8b0d-8503058aaa4e</th>\n",
       "      <td>0</td>\n",
       "      <td>1</td>\n",
       "      <td>0</td>\n",
       "      <td>0</td>\n",
       "      <td>0</td>\n",
       "      <td>0</td>\n",
       "      <td>0</td>\n",
       "      <td>0</td>\n",
       "      <td>1</td>\n",
       "      <td>0</td>\n",
       "      <td>...</td>\n",
       "      <td>0</td>\n",
       "      <td>0</td>\n",
       "      <td>0.0</td>\n",
       "      <td>7.500000</td>\n",
       "      <td>0.000000</td>\n",
       "      <td>0.0</td>\n",
       "      <td>0.0</td>\n",
       "      <td>0.0</td>\n",
       "      <td>5.0</td>\n",
       "      <td>52.50000</td>\n",
       "    </tr>\n",
       "    <tr>\n",
       "      <th>0001bf69-1d0a-43c4-ac29-98f8ae900f4b</th>\n",
       "      <td>1</td>\n",
       "      <td>0</td>\n",
       "      <td>0</td>\n",
       "      <td>0</td>\n",
       "      <td>0</td>\n",
       "      <td>0</td>\n",
       "      <td>0</td>\n",
       "      <td>1</td>\n",
       "      <td>0</td>\n",
       "      <td>0</td>\n",
       "      <td>...</td>\n",
       "      <td>0</td>\n",
       "      <td>0</td>\n",
       "      <td>0.0</td>\n",
       "      <td>0.000000</td>\n",
       "      <td>0.000000</td>\n",
       "      <td>0.0</td>\n",
       "      <td>0.0</td>\n",
       "      <td>0.0</td>\n",
       "      <td>1.0</td>\n",
       "      <td>16.00000</td>\n",
       "    </tr>\n",
       "  </tbody>\n",
       "</table>\n",
       "<p>5 rows × 95 columns</p>\n",
       "</div>"
      ],
      "text/plain": [
       "                                      title = Rookie Trader  \\\n",
       "user_id                                                       \n",
       "00008084-d9b4-40e9-967a-8a197c3cb82a                      1   \n",
       "000089cb-93b4-4f7e-b483-a40585c2f6c8                      1   \n",
       "00008f39-ccc7-4043-8be9-e141a39dd81e                      1   \n",
       "0000c78d-d1ba-4758-8b0d-8503058aaa4e                      0   \n",
       "0001bf69-1d0a-43c4-ac29-98f8ae900f4b                      1   \n",
       "\n",
       "                                      title = Experienced Trader  \\\n",
       "user_id                                                            \n",
       "00008084-d9b4-40e9-967a-8a197c3cb82a                           0   \n",
       "000089cb-93b4-4f7e-b483-a40585c2f6c8                           0   \n",
       "00008f39-ccc7-4043-8be9-e141a39dd81e                           0   \n",
       "0000c78d-d1ba-4758-8b0d-8503058aaa4e                           1   \n",
       "0001bf69-1d0a-43c4-ac29-98f8ae900f4b                           0   \n",
       "\n",
       "                                      title = Pro Trader  \\\n",
       "user_id                                                    \n",
       "00008084-d9b4-40e9-967a-8a197c3cb82a                   0   \n",
       "000089cb-93b4-4f7e-b483-a40585c2f6c8                   0   \n",
       "00008f39-ccc7-4043-8be9-e141a39dd81e                   0   \n",
       "0000c78d-d1ba-4758-8b0d-8503058aaa4e                   0   \n",
       "0001bf69-1d0a-43c4-ac29-98f8ae900f4b                   0   \n",
       "\n",
       "                                      title = Channel Owner  \\\n",
       "user_id                                                       \n",
       "00008084-d9b4-40e9-967a-8a197c3cb82a                      0   \n",
       "000089cb-93b4-4f7e-b483-a40585c2f6c8                      0   \n",
       "00008f39-ccc7-4043-8be9-e141a39dd81e                      0   \n",
       "0000c78d-d1ba-4758-8b0d-8503058aaa4e                      0   \n",
       "0001bf69-1d0a-43c4-ac29-98f8ae900f4b                      0   \n",
       "\n",
       "                                      title = PRO Trader  title = BUX Editor  \\\n",
       "user_id                                                                        \n",
       "00008084-d9b4-40e9-967a-8a197c3cb82a                   0                   0   \n",
       "000089cb-93b4-4f7e-b483-a40585c2f6c8                   0                   0   \n",
       "00008f39-ccc7-4043-8be9-e141a39dd81e                   0                   0   \n",
       "0000c78d-d1ba-4758-8b0d-8503058aaa4e                   0                   0   \n",
       "0001bf69-1d0a-43c4-ac29-98f8ae900f4b                   0                   0   \n",
       "\n",
       "                                      title = unknown  \\\n",
       "user_id                                                 \n",
       "00008084-d9b4-40e9-967a-8a197c3cb82a                0   \n",
       "000089cb-93b4-4f7e-b483-a40585c2f6c8                0   \n",
       "00008f39-ccc7-4043-8be9-e141a39dd81e                0   \n",
       "0000c78d-d1ba-4758-8b0d-8503058aaa4e                0   \n",
       "0001bf69-1d0a-43c4-ac29-98f8ae900f4b                0   \n",
       "\n",
       "                                      trading_experience = NONE  \\\n",
       "user_id                                                           \n",
       "00008084-d9b4-40e9-967a-8a197c3cb82a                          1   \n",
       "000089cb-93b4-4f7e-b483-a40585c2f6c8                          1   \n",
       "00008f39-ccc7-4043-8be9-e141a39dd81e                          1   \n",
       "0000c78d-d1ba-4758-8b0d-8503058aaa4e                          0   \n",
       "0001bf69-1d0a-43c4-ac29-98f8ae900f4b                          1   \n",
       "\n",
       "                                      trading_experience = SOME  \\\n",
       "user_id                                                           \n",
       "00008084-d9b4-40e9-967a-8a197c3cb82a                          0   \n",
       "000089cb-93b4-4f7e-b483-a40585c2f6c8                          0   \n",
       "00008f39-ccc7-4043-8be9-e141a39dd81e                          0   \n",
       "0000c78d-d1ba-4758-8b0d-8503058aaa4e                          1   \n",
       "0001bf69-1d0a-43c4-ac29-98f8ae900f4b                          0   \n",
       "\n",
       "                                      trading_experience = EXPERT  \\\n",
       "user_id                                                             \n",
       "00008084-d9b4-40e9-967a-8a197c3cb82a                            0   \n",
       "000089cb-93b4-4f7e-b483-a40585c2f6c8                            0   \n",
       "00008f39-ccc7-4043-8be9-e141a39dd81e                            0   \n",
       "0000c78d-d1ba-4758-8b0d-8503058aaa4e                            0   \n",
       "0001bf69-1d0a-43c4-ac29-98f8ae900f4b                            0   \n",
       "\n",
       "                                                   ...                \\\n",
       "user_id                                            ...                 \n",
       "00008084-d9b4-40e9-967a-8a197c3cb82a               ...                 \n",
       "000089cb-93b4-4f7e-b483-a40585c2f6c8               ...                 \n",
       "00008f39-ccc7-4043-8be9-e141a39dd81e               ...                 \n",
       "0000c78d-d1ba-4758-8b0d-8503058aaa4e               ...                 \n",
       "0001bf69-1d0a-43c4-ac29-98f8ae900f4b               ...                 \n",
       "\n",
       "                                      MODE(transactions.social_status) = Chatting  \\\n",
       "user_id                                                                             \n",
       "00008084-d9b4-40e9-967a-8a197c3cb82a                                            0   \n",
       "000089cb-93b4-4f7e-b483-a40585c2f6c8                                            0   \n",
       "00008f39-ccc7-4043-8be9-e141a39dd81e                                            0   \n",
       "0000c78d-d1ba-4758-8b0d-8503058aaa4e                                            0   \n",
       "0001bf69-1d0a-43c4-ac29-98f8ae900f4b                                            0   \n",
       "\n",
       "                                      MODE(transactions.social_status) = unknown  \\\n",
       "user_id                                                                            \n",
       "00008084-d9b4-40e9-967a-8a197c3cb82a                                           0   \n",
       "000089cb-93b4-4f7e-b483-a40585c2f6c8                                           0   \n",
       "00008f39-ccc7-4043-8be9-e141a39dd81e                                           0   \n",
       "0000c78d-d1ba-4758-8b0d-8503058aaa4e                                           0   \n",
       "0001bf69-1d0a-43c4-ac29-98f8ae900f4b                                           0   \n",
       "\n",
       "                                      STD(transactions.conversion_to_sb)  \\\n",
       "user_id                                                                    \n",
       "00008084-d9b4-40e9-967a-8a197c3cb82a                                 0.0   \n",
       "000089cb-93b4-4f7e-b483-a40585c2f6c8                                 0.0   \n",
       "00008f39-ccc7-4043-8be9-e141a39dd81e                                 0.0   \n",
       "0000c78d-d1ba-4758-8b0d-8503058aaa4e                                 0.0   \n",
       "0001bf69-1d0a-43c4-ac29-98f8ae900f4b                                 0.0   \n",
       "\n",
       "                                      STD(transactions.day_of_year)  \\\n",
       "user_id                                                               \n",
       "00008084-d9b4-40e9-967a-8a197c3cb82a                       6.492626   \n",
       "000089cb-93b4-4f7e-b483-a40585c2f6c8                       1.118034   \n",
       "00008f39-ccc7-4043-8be9-e141a39dd81e                       5.473573   \n",
       "0000c78d-d1ba-4758-8b0d-8503058aaa4e                       7.500000   \n",
       "0001bf69-1d0a-43c4-ac29-98f8ae900f4b                       0.000000   \n",
       "\n",
       "                                      MEAN(transactions.trades_fb_commodities_open)  \\\n",
       "user_id                                                                               \n",
       "00008084-d9b4-40e9-967a-8a197c3cb82a                                       0.095238   \n",
       "000089cb-93b4-4f7e-b483-a40585c2f6c8                                       0.250000   \n",
       "00008f39-ccc7-4043-8be9-e141a39dd81e                                       0.200000   \n",
       "0000c78d-d1ba-4758-8b0d-8503058aaa4e                                       0.000000   \n",
       "0001bf69-1d0a-43c4-ac29-98f8ae900f4b                                       0.000000   \n",
       "\n",
       "                                      MAX(transactions.conversion_to_sb)  \\\n",
       "user_id                                                                    \n",
       "00008084-d9b4-40e9-967a-8a197c3cb82a                                 0.0   \n",
       "000089cb-93b4-4f7e-b483-a40585c2f6c8                                 0.0   \n",
       "00008f39-ccc7-4043-8be9-e141a39dd81e                                 0.0   \n",
       "0000c78d-d1ba-4758-8b0d-8503058aaa4e                                 0.0   \n",
       "0001bf69-1d0a-43c4-ac29-98f8ae900f4b                                 0.0   \n",
       "\n",
       "                                      MIN(transactions.trades_fb_commodities_profit)  \\\n",
       "user_id                                                                                \n",
       "00008084-d9b4-40e9-967a-8a197c3cb82a                                             0.0   \n",
       "000089cb-93b4-4f7e-b483-a40585c2f6c8                                             0.0   \n",
       "00008f39-ccc7-4043-8be9-e141a39dd81e                                             0.0   \n",
       "0000c78d-d1ba-4758-8b0d-8503058aaa4e                                             0.0   \n",
       "0001bf69-1d0a-43c4-ac29-98f8ae900f4b                                             0.0   \n",
       "\n",
       "                                      SUM(transactions.social_status_battles)  \\\n",
       "user_id                                                                         \n",
       "00008084-d9b4-40e9-967a-8a197c3cb82a                                      0.0   \n",
       "000089cb-93b4-4f7e-b483-a40585c2f6c8                                      0.0   \n",
       "00008f39-ccc7-4043-8be9-e141a39dd81e                                      0.0   \n",
       "0000c78d-d1ba-4758-8b0d-8503058aaa4e                                      0.0   \n",
       "0001bf69-1d0a-43c4-ac29-98f8ae900f4b                                      0.0   \n",
       "\n",
       "                                      MAX(transactions.number_of_sessions)  \\\n",
       "user_id                                                                      \n",
       "00008084-d9b4-40e9-967a-8a197c3cb82a                                   9.0   \n",
       "000089cb-93b4-4f7e-b483-a40585c2f6c8                                   4.0   \n",
       "00008f39-ccc7-4043-8be9-e141a39dd81e                                   6.0   \n",
       "0000c78d-d1ba-4758-8b0d-8503058aaa4e                                   5.0   \n",
       "0001bf69-1d0a-43c4-ac29-98f8ae900f4b                                   1.0   \n",
       "\n",
       "                                      MEAN(transactions.day_of_year)  \n",
       "user_id                                                               \n",
       "00008084-d9b4-40e9-967a-8a197c3cb82a                        13.47619  \n",
       "000089cb-93b4-4f7e-b483-a40585c2f6c8                       298.50000  \n",
       "00008f39-ccc7-4043-8be9-e141a39dd81e                       220.80000  \n",
       "0000c78d-d1ba-4758-8b0d-8503058aaa4e                        52.50000  \n",
       "0001bf69-1d0a-43c4-ac29-98f8ae900f4b                        16.00000  \n",
       "\n",
       "[5 rows x 95 columns]"
      ]
     },
     "execution_count": 48,
     "metadata": {},
     "output_type": "execute_result"
    }
   ],
   "source": [
    "# encode categorical features\n",
    "fm_encoded, features_encoded = ft.encode_features(feature_matrix, features)\n",
    "\n",
    "\n",
    "print('Number of features %s' % len(features_encoded))\n",
    "fm_encoded.head()"
   ]
  },
  {
   "cell_type": "markdown",
   "metadata": {},
   "source": [
    "## Machine learning"
   ]
  },
  {
   "cell_type": "code",
   "execution_count": 69,
   "metadata": {
    "collapsed": false
   },
   "outputs": [
    {
     "data": {
      "text/plain": [
       "True"
      ]
     },
     "execution_count": 69,
     "metadata": {},
     "output_type": "execute_result"
    }
   ],
   "source": [
    "# if building features on all users\n",
    "len(users) == len(fm_encoded)"
   ]
  },
  {
   "cell_type": "code",
   "execution_count": 70,
   "metadata": {
    "collapsed": false
   },
   "outputs": [],
   "source": [
    "# add the target labels to the feature set (fm_encoded)\n",
    "# X = fm_encoded.reset_index().merge(label_times)\n",
    "X = fm_encoded.reset_index().merge(CurCV)\n",
    "\n",
    "\n",
    "# drop the user_id and cutoff_time (no information gain)\n",
    "X.drop(['user_id', 'curcv'], axis=1, inplace=True)\n",
    "\n",
    "# fill all NaN values as 0s\n",
    "X = X.fillna(0)\n",
    "# pop = return an item and drop from the frame\n",
    "y = X.pop('whale').astype('int')"
   ]
  },
  {
   "cell_type": "code",
   "execution_count": 71,
   "metadata": {
    "collapsed": false
   },
   "outputs": [],
   "source": [
    "# https://beckernick.github.io/oversampling-modeling/\n",
    "# the right way to oversample (SMOTE)\n",
    "# oversample only on the training data"
   ]
  },
  {
   "cell_type": "code",
   "execution_count": 72,
   "metadata": {
    "collapsed": false
   },
   "outputs": [
    {
     "data": {
      "text/plain": [
       "0    56027\n",
       "1      566\n",
       "Name: whale, dtype: int64"
      ]
     },
     "execution_count": 72,
     "metadata": {},
     "output_type": "execute_result"
    }
   ],
   "source": [
    "# class (im)balance\n",
    "y.value_counts()"
   ]
  },
  {
   "cell_type": "code",
   "execution_count": 73,
   "metadata": {
    "collapsed": false
   },
   "outputs": [
    {
     "data": {
      "text/html": [
       "<div>\n",
       "<style>\n",
       "    .dataframe thead tr:only-child th {\n",
       "        text-align: right;\n",
       "    }\n",
       "\n",
       "    .dataframe thead th {\n",
       "        text-align: left;\n",
       "    }\n",
       "\n",
       "    .dataframe tbody tr th {\n",
       "        vertical-align: top;\n",
       "    }\n",
       "</style>\n",
       "<table border=\"1\" class=\"dataframe\">\n",
       "  <thead>\n",
       "    <tr style=\"text-align: right;\">\n",
       "      <th></th>\n",
       "      <th>trading_experience = NONE</th>\n",
       "      <th>trading_experience = SOME</th>\n",
       "      <th>trading_experience = EXPERT</th>\n",
       "      <th>trading_experience = FUN_BUX</th>\n",
       "      <th>trading_experience = unknown</th>\n",
       "      <th>platform_type_name = Android</th>\n",
       "      <th>platform_type_name = iOS</th>\n",
       "      <th>platform_type_name = unknown</th>\n",
       "      <th>bux_account_created_day</th>\n",
       "      <th>network = Facebook Installs</th>\n",
       "      <th>...</th>\n",
       "      <th>SUM(transactions.trades_fb_commodities_open)</th>\n",
       "      <th>MIN(transactions.trades_fb_commodities_open)</th>\n",
       "      <th>MEAN(transactions.total_session_duration)</th>\n",
       "      <th>NUM_UNIQUE(transactions.account_status)</th>\n",
       "      <th>SUM(transactions.social_status_battles)</th>\n",
       "      <th>MAX(transactions.social_status_battles)</th>\n",
       "      <th>SUM(transactions.total_session_duration)</th>\n",
       "      <th>MEAN(transactions.trades_fb_commodities_open)</th>\n",
       "      <th>MIN(transactions.day_of_year)</th>\n",
       "      <th>MEAN(transactions.trades_fb_commodities_profit)</th>\n",
       "    </tr>\n",
       "  </thead>\n",
       "  <tbody>\n",
       "    <tr>\n",
       "      <th>0</th>\n",
       "      <td>1</td>\n",
       "      <td>0</td>\n",
       "      <td>0</td>\n",
       "      <td>0</td>\n",
       "      <td>0</td>\n",
       "      <td>1</td>\n",
       "      <td>0</td>\n",
       "      <td>0</td>\n",
       "      <td>3</td>\n",
       "      <td>0</td>\n",
       "      <td>...</td>\n",
       "      <td>2.0</td>\n",
       "      <td>0.0</td>\n",
       "      <td>102.285714</td>\n",
       "      <td>1.0</td>\n",
       "      <td>0.0</td>\n",
       "      <td>0.0</td>\n",
       "      <td>2148.0</td>\n",
       "      <td>0.095238</td>\n",
       "      <td>3.0</td>\n",
       "      <td>0.000</td>\n",
       "    </tr>\n",
       "    <tr>\n",
       "      <th>1</th>\n",
       "      <td>1</td>\n",
       "      <td>0</td>\n",
       "      <td>0</td>\n",
       "      <td>0</td>\n",
       "      <td>0</td>\n",
       "      <td>1</td>\n",
       "      <td>0</td>\n",
       "      <td>0</td>\n",
       "      <td>23</td>\n",
       "      <td>0</td>\n",
       "      <td>...</td>\n",
       "      <td>1.0</td>\n",
       "      <td>0.0</td>\n",
       "      <td>248.000000</td>\n",
       "      <td>1.0</td>\n",
       "      <td>0.0</td>\n",
       "      <td>0.0</td>\n",
       "      <td>992.0</td>\n",
       "      <td>0.250000</td>\n",
       "      <td>297.0</td>\n",
       "      <td>0.220</td>\n",
       "    </tr>\n",
       "    <tr>\n",
       "      <th>2</th>\n",
       "      <td>1</td>\n",
       "      <td>0</td>\n",
       "      <td>0</td>\n",
       "      <td>0</td>\n",
       "      <td>0</td>\n",
       "      <td>1</td>\n",
       "      <td>0</td>\n",
       "      <td>0</td>\n",
       "      <td>3</td>\n",
       "      <td>0</td>\n",
       "      <td>...</td>\n",
       "      <td>2.0</td>\n",
       "      <td>0.0</td>\n",
       "      <td>245.200000</td>\n",
       "      <td>1.0</td>\n",
       "      <td>0.0</td>\n",
       "      <td>0.0</td>\n",
       "      <td>2452.0</td>\n",
       "      <td>0.200000</td>\n",
       "      <td>215.0</td>\n",
       "      <td>0.101</td>\n",
       "    </tr>\n",
       "    <tr>\n",
       "      <th>3</th>\n",
       "      <td>0</td>\n",
       "      <td>1</td>\n",
       "      <td>0</td>\n",
       "      <td>0</td>\n",
       "      <td>0</td>\n",
       "      <td>1</td>\n",
       "      <td>0</td>\n",
       "      <td>0</td>\n",
       "      <td>14</td>\n",
       "      <td>1</td>\n",
       "      <td>...</td>\n",
       "      <td>0.0</td>\n",
       "      <td>0.0</td>\n",
       "      <td>330.000000</td>\n",
       "      <td>1.0</td>\n",
       "      <td>0.0</td>\n",
       "      <td>0.0</td>\n",
       "      <td>660.0</td>\n",
       "      <td>0.000000</td>\n",
       "      <td>45.0</td>\n",
       "      <td>0.000</td>\n",
       "    </tr>\n",
       "    <tr>\n",
       "      <th>4</th>\n",
       "      <td>1</td>\n",
       "      <td>0</td>\n",
       "      <td>0</td>\n",
       "      <td>0</td>\n",
       "      <td>0</td>\n",
       "      <td>1</td>\n",
       "      <td>0</td>\n",
       "      <td>0</td>\n",
       "      <td>16</td>\n",
       "      <td>0</td>\n",
       "      <td>...</td>\n",
       "      <td>0.0</td>\n",
       "      <td>0.0</td>\n",
       "      <td>107.000000</td>\n",
       "      <td>1.0</td>\n",
       "      <td>0.0</td>\n",
       "      <td>0.0</td>\n",
       "      <td>107.0</td>\n",
       "      <td>0.000000</td>\n",
       "      <td>16.0</td>\n",
       "      <td>0.000</td>\n",
       "    </tr>\n",
       "  </tbody>\n",
       "</table>\n",
       "<p>5 rows × 95 columns</p>\n",
       "</div>"
      ],
      "text/plain": [
       "   trading_experience = NONE  trading_experience = SOME  \\\n",
       "0                          1                          0   \n",
       "1                          1                          0   \n",
       "2                          1                          0   \n",
       "3                          0                          1   \n",
       "4                          1                          0   \n",
       "\n",
       "   trading_experience = EXPERT  trading_experience = FUN_BUX  \\\n",
       "0                            0                             0   \n",
       "1                            0                             0   \n",
       "2                            0                             0   \n",
       "3                            0                             0   \n",
       "4                            0                             0   \n",
       "\n",
       "   trading_experience = unknown  platform_type_name = Android  \\\n",
       "0                             0                             1   \n",
       "1                             0                             1   \n",
       "2                             0                             1   \n",
       "3                             0                             1   \n",
       "4                             0                             1   \n",
       "\n",
       "   platform_type_name = iOS  platform_type_name = unknown  \\\n",
       "0                         0                             0   \n",
       "1                         0                             0   \n",
       "2                         0                             0   \n",
       "3                         0                             0   \n",
       "4                         0                             0   \n",
       "\n",
       "   bux_account_created_day  network = Facebook Installs  \\\n",
       "0                        3                            0   \n",
       "1                       23                            0   \n",
       "2                        3                            0   \n",
       "3                       14                            1   \n",
       "4                       16                            0   \n",
       "\n",
       "                        ...                         \\\n",
       "0                       ...                          \n",
       "1                       ...                          \n",
       "2                       ...                          \n",
       "3                       ...                          \n",
       "4                       ...                          \n",
       "\n",
       "   SUM(transactions.trades_fb_commodities_open)  \\\n",
       "0                                           2.0   \n",
       "1                                           1.0   \n",
       "2                                           2.0   \n",
       "3                                           0.0   \n",
       "4                                           0.0   \n",
       "\n",
       "   MIN(transactions.trades_fb_commodities_open)  \\\n",
       "0                                           0.0   \n",
       "1                                           0.0   \n",
       "2                                           0.0   \n",
       "3                                           0.0   \n",
       "4                                           0.0   \n",
       "\n",
       "   MEAN(transactions.total_session_duration)  \\\n",
       "0                                 102.285714   \n",
       "1                                 248.000000   \n",
       "2                                 245.200000   \n",
       "3                                 330.000000   \n",
       "4                                 107.000000   \n",
       "\n",
       "   NUM_UNIQUE(transactions.account_status)  \\\n",
       "0                                      1.0   \n",
       "1                                      1.0   \n",
       "2                                      1.0   \n",
       "3                                      1.0   \n",
       "4                                      1.0   \n",
       "\n",
       "   SUM(transactions.social_status_battles)  \\\n",
       "0                                      0.0   \n",
       "1                                      0.0   \n",
       "2                                      0.0   \n",
       "3                                      0.0   \n",
       "4                                      0.0   \n",
       "\n",
       "   MAX(transactions.social_status_battles)  \\\n",
       "0                                      0.0   \n",
       "1                                      0.0   \n",
       "2                                      0.0   \n",
       "3                                      0.0   \n",
       "4                                      0.0   \n",
       "\n",
       "   SUM(transactions.total_session_duration)  \\\n",
       "0                                    2148.0   \n",
       "1                                     992.0   \n",
       "2                                    2452.0   \n",
       "3                                     660.0   \n",
       "4                                     107.0   \n",
       "\n",
       "   MEAN(transactions.trades_fb_commodities_open)  \\\n",
       "0                                       0.095238   \n",
       "1                                       0.250000   \n",
       "2                                       0.200000   \n",
       "3                                       0.000000   \n",
       "4                                       0.000000   \n",
       "\n",
       "   MIN(transactions.day_of_year)  \\\n",
       "0                            3.0   \n",
       "1                          297.0   \n",
       "2                          215.0   \n",
       "3                           45.0   \n",
       "4                           16.0   \n",
       "\n",
       "   MEAN(transactions.trades_fb_commodities_profit)  \n",
       "0                                            0.000  \n",
       "1                                            0.220  \n",
       "2                                            0.101  \n",
       "3                                            0.000  \n",
       "4                                            0.000  \n",
       "\n",
       "[5 rows x 95 columns]"
      ]
     },
     "execution_count": 73,
     "metadata": {},
     "output_type": "execute_result"
    }
   ],
   "source": [
    "X.head()"
   ]
  },
  {
   "cell_type": "code",
   "execution_count": 74,
   "metadata": {
    "collapsed": false
   },
   "outputs": [],
   "source": [
    "X_train, X_test, y_train, y_test = train_test_split(X, y, test_size=0.3, random_state=42)"
   ]
  },
  {
   "cell_type": "code",
   "execution_count": 75,
   "metadata": {
    "collapsed": false
   },
   "outputs": [
    {
     "data": {
      "text/plain": [
       "0.010071561091969255"
      ]
     },
     "execution_count": 75,
     "metadata": {},
     "output_type": "execute_result"
    }
   ],
   "source": [
    "# representativeness of test set (1% of whales)\n",
    "y_test.value_counts()[1] / len(y_test)"
   ]
  },
  {
   "cell_type": "markdown",
   "metadata": {},
   "source": [
    "## SMOTE (oversampling)"
   ]
  },
  {
   "cell_type": "code",
   "execution_count": 76,
   "metadata": {
    "collapsed": false
   },
   "outputs": [
    {
     "name": "stderr",
     "output_type": "stream",
     "text": [
      "/home/jo/anaconda3/lib/python3.5/site-packages/sklearn/utils/deprecation.py:75: DeprecationWarning: Function _ratio_float is deprecated; Use a float for 'ratio' is deprecated from version 0.2. The support will be removed in 0.4. Use a dict, str, or a callable instead.\n",
      "  warnings.warn(msg, category=DeprecationWarning)\n"
     ]
    }
   ],
   "source": [
    "# https://elitedatascience.com/imbalanced-classes\n",
    "# https://chrisalbon.com/machine_learning/trees_and_forests/handle_imbalanced_classes_in_random_forests/\n",
    "\n",
    "# https://beckernick.github.io/oversampling-modeling/\n",
    "\n",
    "sm = SMOTE(random_state=100, ratio = 1)\n",
    "X_train_res, y_train_res = sm.fit_sample(X_train, y_train)"
   ]
  },
  {
   "cell_type": "code",
   "execution_count": 77,
   "metadata": {
    "collapsed": false
   },
   "outputs": [
    {
     "data": {
      "text/plain": [
       "1    44822\n",
       "0    44822\n",
       "dtype: int64"
      ]
     },
     "execution_count": 77,
     "metadata": {},
     "output_type": "execute_result"
    }
   ],
   "source": [
    "pd.Series(y_train_res).value_counts()"
   ]
  },
  {
   "cell_type": "code",
   "execution_count": 78,
   "metadata": {
    "collapsed": false
   },
   "outputs": [
    {
     "name": "stdout",
     "output_type": "stream",
     "text": [
      "CPU times: user 28.8 s, sys: 110 ms, total: 28.9 s\n",
      "Wall time: 29.1 s\n"
     ]
    }
   ],
   "source": [
    "%%time\n",
    "\n",
    "clf_smote = RandomForestClassifier(n_estimators=25, random_state=12)\n",
    "clf_smote.fit(X_train_res, y_train_res)"
   ]
  },
  {
   "cell_type": "code",
   "execution_count": 79,
   "metadata": {
    "collapsed": false
   },
   "outputs": [
    {
     "data": {
      "text/plain": [
       "array([0, 0, 0, ..., 0, 0, 0])"
      ]
     },
     "execution_count": 79,
     "metadata": {},
     "output_type": "execute_result"
    }
   ],
   "source": [
    "y_pred_smote = clf_smote.predict(X_test)\n",
    "y_pred_smote"
   ]
  },
  {
   "cell_type": "code",
   "execution_count": 82,
   "metadata": {
    "collapsed": false
   },
   "outputs": [
    {
     "data": {
      "image/png": "[encoded data removed]",
      "text/plain": [
       "<matplotlib.figure.Figure at 0x7f67be9281d0>"
      ]
     },
     "metadata": {},
     "output_type": "display_data"
    }
   ],
   "source": [
    "cm = confusion_matrix(y_test, y_pred_smote)\n",
    "utils.plot_confusion_matrix(cm, ['Non-whale', 'Whale'], title='Customer lifetime value prediction')"
   ]
  },
  {
   "cell_type": "code",
   "execution_count": 86,
   "metadata": {
    "collapsed": false
   },
   "outputs": [
    {
     "data": {
      "text/plain": [
       "0.55660377358490576"
      ]
     },
     "execution_count": 86,
     "metadata": {},
     "output_type": "execute_result"
    }
   ],
   "source": [
    "# f1 score with SMOTE\n",
    "f1_score(y_test, y_pred_smote, average=None)[1]"
   ]
  },
  {
   "cell_type": "code",
   "execution_count": 87,
   "metadata": {
    "collapsed": false
   },
   "outputs": [
    {
     "name": "stdout",
     "output_type": "stream",
     "text": [
      "1: Feature: initial_deposit_amount, 0.291\n",
      "2: Feature: SUM(transactions.conversion_to_sb), 0.096\n",
      "3: Feature: MAX(transactions.number_of_sessions), 0.069\n",
      "4: Feature: STD(transactions.conversion_to_sb), 0.061\n",
      "5: Feature: nationality = unknown, 0.057\n",
      "6: Feature: gender = unknown, 0.057\n",
      "7: Feature: gender = MALE, 0.052\n",
      "8: Feature: COUNT(transactions), 0.049\n",
      "9: Feature: STD(transactions.number_of_sessions), 0.044\n",
      "10: Feature: MEAN(transactions.conversion_to_sb), 0.043\n",
      "11: Feature: MAX(transactions.conversion_to_sb), 0.031\n",
      "12: Feature: MODE(transactions.account_status) = SERIOUS_BUX, 0.028\n",
      "13: Feature: NUM_UNIQUE(transactions.social_status), 0.020\n",
      "14: Feature: nationality = AT, 0.010\n",
      "15: Feature: MODE(transactions.account_status) = FUN_BUX, 0.007\n",
      "16: Feature: MEAN(transactions.number_of_sessions), 0.006\n",
      "17: Feature: NUM_UNIQUE(transactions.account_status), 0.004\n",
      "18: Feature: nationality = DE, 0.004\n",
      "19: Feature: network = Facebook Installs, 0.004\n",
      "20: Feature: country_cd = AT, 0.003\n"
     ]
    },
    {
     "data": {
      "text/plain": [
       "[<Feature: initial_deposit_amount>,\n",
       " <Feature: SUM(transactions.conversion_to_sb)>,\n",
       " <Feature: MAX(transactions.number_of_sessions)>,\n",
       " <Feature: STD(transactions.conversion_to_sb)>,\n",
       " <Feature: nationality = unknown>,\n",
       " <Feature: gender = unknown>,\n",
       " <Feature: gender = MALE>,\n",
       " <Feature: COUNT(transactions)>,\n",
       " <Feature: STD(transactions.number_of_sessions)>,\n",
       " <Feature: MEAN(transactions.conversion_to_sb)>,\n",
       " <Feature: MAX(transactions.conversion_to_sb)>,\n",
       " <Feature: MODE(transactions.account_status) = SERIOUS_BUX>,\n",
       " <Feature: NUM_UNIQUE(transactions.social_status)>,\n",
       " <Feature: nationality = AT>,\n",
       " <Feature: MODE(transactions.account_status) = FUN_BUX>,\n",
       " <Feature: MEAN(transactions.number_of_sessions)>,\n",
       " <Feature: NUM_UNIQUE(transactions.account_status)>,\n",
       " <Feature: nationality = DE>,\n",
       " <Feature: network = Facebook Installs>,\n",
       " <Feature: country_cd = AT>]"
      ]
     },
     "execution_count": 87,
     "metadata": {},
     "output_type": "execute_result"
    }
   ],
   "source": [
    "top_features = utils.feature_importances(clf_smote, features_encoded, n=20)\n",
    "top_features"
   ]
  },
  {
   "cell_type": "markdown",
   "metadata": {},
   "source": [
    "## Regular (no over/undersampling)"
   ]
  },
  {
   "cell_type": "code",
   "execution_count": 88,
   "metadata": {
    "collapsed": true
   },
   "outputs": [],
   "source": [
    "# GradientBoostingRegressor(verbose=True)\n",
    "clf = RandomForestClassifier(n_estimators=400, n_jobs=-1)"
   ]
  },
  {
   "cell_type": "code",
   "execution_count": 89,
   "metadata": {
    "collapsed": false
   },
   "outputs": [
    {
     "name": "stdout",
     "output_type": "stream",
     "text": [
      "CPU times: user 1min 4s, sys: 299 ms, total: 1min 4s\n",
      "Wall time: 23.3 s\n"
     ]
    },
    {
     "data": {
      "text/plain": [
       "RandomForestClassifier(bootstrap=True, class_weight=None, criterion='gini',\n",
       "            max_depth=None, max_features='auto', max_leaf_nodes=None,\n",
       "            min_impurity_decrease=0.0, min_impurity_split=None,\n",
       "            min_samples_leaf=1, min_samples_split=2,\n",
       "            min_weight_fraction_leaf=0.0, n_estimators=400, n_jobs=-1,\n",
       "            oob_score=False, random_state=None, verbose=0,\n",
       "            warm_start=False)"
      ]
     },
     "execution_count": 89,
     "metadata": {},
     "output_type": "execute_result"
    }
   ],
   "source": [
    "%%time\n",
    "\n",
    "clf.fit(X_train, y_train)"
   ]
  },
  {
   "cell_type": "code",
   "execution_count": 90,
   "metadata": {
    "collapsed": false
   },
   "outputs": [],
   "source": [
    "y_pred = clf.predict(X_test)"
   ]
  },
  {
   "cell_type": "code",
   "execution_count": 91,
   "metadata": {
    "collapsed": false,
    "scrolled": true
   },
   "outputs": [
    {
     "data": {
      "text/plain": [
       "0.99213711458609422"
      ]
     },
     "execution_count": 91,
     "metadata": {},
     "output_type": "execute_result"
    }
   ],
   "source": [
    "clf.score(X_test, y_test)"
   ]
  },
  {
   "cell_type": "code",
   "execution_count": 92,
   "metadata": {
    "collapsed": false
   },
   "outputs": [
    {
     "data": {
      "text/plain": [
       "(0.9908062736812574, 0.99213711458609422, 0.99101325275267171, None)"
      ]
     },
     "execution_count": 92,
     "metadata": {},
     "output_type": "execute_result"
    }
   ],
   "source": [
    "precision_recall_fscore_support(y_test, y_pred, average='weighted')"
   ]
  },
  {
   "cell_type": "code",
   "execution_count": 93,
   "metadata": {
    "collapsed": false
   },
   "outputs": [
    {
     "name": "stderr",
     "output_type": "stream",
     "text": [
      "[Parallel(n_jobs=1)]: Done   5 out of   5 | elapsed:  1.9min finished\n"
     ]
    },
    {
     "data": {
      "text/plain": [
       "'F1 0.55 +/- 0.04'"
      ]
     },
     "execution_count": 93,
     "metadata": {},
     "output_type": "execute_result"
    }
   ],
   "source": [
    "# random forest classifer, 5-fold cross-validation\n",
    "# clf_cv = RandomForestClassifier(n_estimators=400, n_jobs=-1)\n",
    "scores = cross_val_score(estimator=clf, X=X, y=y, scoring='f1', verbose=True, cv=5)\n",
    "\"F1 %.2f +/- %.2f\" % (scores.mean(), scores.std())"
   ]
  },
  {
   "cell_type": "code",
   "execution_count": 94,
   "metadata": {
    "collapsed": false
   },
   "outputs": [
    {
     "data": {
      "text/plain": [
       "array([ 0.55952381,  0.53551913,  0.57608696,  0.49411765,  0.60869565])"
      ]
     },
     "execution_count": 94,
     "metadata": {},
     "output_type": "execute_result"
    }
   ],
   "source": [
    "# get F1 score for each of the folds\n",
    "scores"
   ]
  },
  {
   "cell_type": "code",
   "execution_count": 95,
   "metadata": {
    "collapsed": true
   },
   "outputs": [],
   "source": [
    "cm = confusion_matrix(y_test, y_pred)"
   ]
  },
  {
   "cell_type": "code",
   "execution_count": 96,
   "metadata": {
    "collapsed": false
   },
   "outputs": [
    {
     "data": {
      "image/png": "[encoded data removed]",
      "text/plain": [
       "<matplotlib.figure.Figure at 0x7f679d174f28>"
      ]
     },
     "metadata": {},
     "output_type": "display_data"
    }
   ],
   "source": [
    "utils.plot_confusion_matrix(cm, ['Non-whale', 'Whale'], title='Customer lifetime value prediction')"
   ]
  },
  {
   "cell_type": "code",
   "execution_count": 97,
   "metadata": {
    "collapsed": false
   },
   "outputs": [
    {
     "data": {
      "text/plain": [
       "array([ 0.99603758,  0.49717514])"
      ]
     },
     "execution_count": 97,
     "metadata": {},
     "output_type": "execute_result"
    }
   ],
   "source": [
    "from sklearn.metrics import f1_score\n",
    "f1_score(y_test, y_pred, average=None)"
   ]
  },
  {
   "cell_type": "code",
   "execution_count": 98,
   "metadata": {
    "collapsed": false
   },
   "outputs": [
    {
     "name": "stdout",
     "output_type": "stream",
     "text": [
      "1: Feature: initial_deposit_amount, 0.106\n",
      "2: Feature: SUM(transactions.number_of_sessions), 0.068\n",
      "3: Feature: MEAN(transactions.number_of_sessions), 0.059\n",
      "4: Feature: SUM(transactions.total_session_duration), 0.051\n",
      "5: Feature: STD(transactions.number_of_sessions), 0.040\n",
      "6: Feature: STD(transactions.conversion_to_sb), 0.040\n",
      "7: Feature: MEAN(transactions.conversion_to_sb), 0.036\n",
      "8: Feature: MEAN(transactions.total_session_duration), 0.036\n",
      "9: Feature: MAX(transactions.number_of_sessions), 0.034\n",
      "10: Feature: MAX(transactions.total_session_duration), 0.030\n",
      "11: Feature: STD(transactions.total_session_duration), 0.030\n",
      "12: Feature: MAX(transactions.conversion_to_sb), 0.028\n",
      "13: Feature: SUM(transactions.conversion_to_sb), 0.028\n",
      "14: Feature: MODE(transactions.account_status) = SERIOUS_BUX, 0.023\n",
      "15: Feature: bux_account_created_day, 0.021\n",
      "16: Feature: MAX(transactions.day_of_year), 0.021\n",
      "17: Feature: SUM(transactions.day_of_year), 0.020\n",
      "18: Feature: MEAN(transactions.day_of_year), 0.020\n",
      "19: Feature: MIN(transactions.day_of_year), 0.019\n",
      "20: Feature: MIN(transactions.total_session_duration), 0.019\n"
     ]
    }
   ],
   "source": [
    "top_features = utils.feature_importances(clf, features_encoded, n=20)"
   ]
  },
  {
   "cell_type": "code",
   "execution_count": 99,
   "metadata": {
    "collapsed": true
   },
   "outputs": [],
   "source": [
    "ft.save_features(top_features, \"top_features\")"
   ]
  },
  {
   "cell_type": "markdown",
   "metadata": {
    "collapsed": true
   },
   "source": [
    "### Retrain the classifier on top 20 features"
   ]
  },
  {
   "cell_type": "code",
   "execution_count": 100,
   "metadata": {
    "collapsed": true
   },
   "outputs": [],
   "source": [
    "# load in the features from before\n",
    "top_features = ft.load_features(\"top_features\", es)"
   ]
  },
  {
   "cell_type": "code",
   "execution_count": 101,
   "metadata": {
    "collapsed": false
   },
   "outputs": [
    {
     "name": "stdout",
     "output_type": "stream",
     "text": [
      "CPU times: user 21min 57s, sys: 2.72 s, total: 21min 59s\n",
      "Wall time: 22min 7s\n"
     ]
    }
   ],
   "source": [
    "%%time\n",
    "\n",
    "fm = ft.calculate_feature_matrix(top_features,\n",
    "                                 entityset=es,\n",
    "                                 # cutoff_time = label_times,\n",
    "                                 cutoff_time_in_index=True,\n",
    "                                 verbose=False)"
   ]
  },
  {
   "cell_type": "markdown",
   "metadata": {},
   "source": [
    "## Classification"
   ]
  },
  {
   "cell_type": "code",
   "execution_count": 102,
   "metadata": {
    "collapsed": true
   },
   "outputs": [],
   "source": [
    "X = fm.reset_index().merge(CurCV[['user_id', 'whale']])\n",
    "X = X.fillna(0)\n",
    "X.drop([\"user_id\", \"time\"], axis=1, inplace=True)\n",
    "y = X.pop(\"whale\")"
   ]
  },
  {
   "cell_type": "code",
   "execution_count": 103,
   "metadata": {
    "collapsed": false
   },
   "outputs": [
    {
     "data": {
      "text/plain": [
       "20"
      ]
     },
     "execution_count": 103,
     "metadata": {},
     "output_type": "execute_result"
    }
   ],
   "source": [
    "# top 20 features\n",
    "len(X.columns)"
   ]
  },
  {
   "cell_type": "code",
   "execution_count": 104,
   "metadata": {
    "collapsed": false
   },
   "outputs": [
    {
     "data": {
      "text/plain": [
       "0    56027\n",
       "1      566\n",
       "Name: whale, dtype: int64"
      ]
     },
     "execution_count": 104,
     "metadata": {},
     "output_type": "execute_result"
    }
   ],
   "source": [
    "y.value_counts()"
   ]
  },
  {
   "cell_type": "code",
   "execution_count": 105,
   "metadata": {
    "collapsed": true
   },
   "outputs": [],
   "source": [
    "X_train, X_test, y_train, y_test = train_test_split(X, y, test_size=0.3, random_state=42)"
   ]
  },
  {
   "cell_type": "code",
   "execution_count": 106,
   "metadata": {
    "collapsed": true
   },
   "outputs": [],
   "source": [
    "# GradientBoostingRegressor(verbose=True)\n",
    "clf = RandomForestClassifier(n_estimators=400, n_jobs=-1)"
   ]
  },
  {
   "cell_type": "code",
   "execution_count": 107,
   "metadata": {
    "collapsed": false
   },
   "outputs": [
    {
     "name": "stdout",
     "output_type": "stream",
     "text": [
      "CPU times: user 1min 13s, sys: 299 ms, total: 1min 14s\n",
      "Wall time: 25.1 s\n"
     ]
    },
    {
     "data": {
      "text/plain": [
       "RandomForestClassifier(bootstrap=True, class_weight=None, criterion='gini',\n",
       "            max_depth=None, max_features='auto', max_leaf_nodes=None,\n",
       "            min_impurity_decrease=0.0, min_impurity_split=None,\n",
       "            min_samples_leaf=1, min_samples_split=2,\n",
       "            min_weight_fraction_leaf=0.0, n_estimators=400, n_jobs=-1,\n",
       "            oob_score=False, random_state=None, verbose=0,\n",
       "            warm_start=False)"
      ]
     },
     "execution_count": 107,
     "metadata": {},
     "output_type": "execute_result"
    }
   ],
   "source": [
    "%%time\n",
    "\n",
    "clf.fit(X_train, y_train)"
   ]
  },
  {
   "cell_type": "code",
   "execution_count": 108,
   "metadata": {
    "collapsed": true
   },
   "outputs": [],
   "source": [
    "y_pred = clf.predict(X_test)"
   ]
  },
  {
   "cell_type": "code",
   "execution_count": 109,
   "metadata": {
    "collapsed": false
   },
   "outputs": [
    {
     "name": "stdout",
     "output_type": "stream",
     "text": [
      "precision: [ 0.99431077  0.72115385]\n",
      "recall: [ 0.99827453  0.43859649]\n",
      "fscore: [ 0.99628871  0.54545455]\n",
      "support: [16807   171]\n"
     ]
    }
   ],
   "source": [
    "precision, recall, fscore, support = score(y_test, y_pred)\n",
    "\n",
    "print('precision: {}'.format(precision))\n",
    "print('recall: {}'.format(recall))\n",
    "print('fscore: {}'.format(fscore))\n",
    "print('support: {}'.format(support))"
   ]
  },
  {
   "cell_type": "code",
   "execution_count": 110,
   "metadata": {
    "collapsed": false
   },
   "outputs": [
    {
     "name": "stdout",
     "output_type": "stream",
     "text": [
      "F1 score 0.57 +/- 0.01\n",
      "CPU times: user 7min 14s, sys: 2.08 s, total: 7min 16s\n",
      "Wall time: 2min 13s\n"
     ]
    },
    {
     "name": "stderr",
     "output_type": "stream",
     "text": [
      "[Parallel(n_jobs=1)]: Done   5 out of   5 | elapsed:  2.2min finished\n"
     ]
    }
   ],
   "source": [
    "%%time\n",
    "\n",
    "clf_cv = RandomForestClassifier(n_estimators=400, n_jobs=-1)\n",
    "scores = cross_val_score(estimator=clf_cv, X=X, y=y, scoring='f1', verbose=True, cv=5)\n",
    "print(\"F1 score %.2f +/- %.2f\" % (scores.mean(), scores.std()))"
   ]
  },
  {
   "cell_type": "code",
   "execution_count": null,
   "metadata": {
    "collapsed": true
   },
   "outputs": [],
   "source": [
    "scores"
   ]
  },
  {
   "cell_type": "code",
   "execution_count": 111,
   "metadata": {
    "collapsed": false
   },
   "outputs": [
    {
     "name": "stdout",
     "output_type": "stream",
     "text": [
      "F1 score 0.74 +/- 0.03\n"
     ]
    },
    {
     "name": "stderr",
     "output_type": "stream",
     "text": [
      "[Parallel(n_jobs=1)]: Done   5 out of   5 | elapsed:  2.2min finished\n"
     ]
    }
   ],
   "source": [
    "clf_cv = RandomForestClassifier(n_estimators=400, n_jobs=-1)\n",
    "scores = cross_val_score(estimator=clf_cv, X=X, y=y, scoring='precision', verbose=True, cv=5)\n",
    "print(\"Precision score %.2f +/- %.2f\" % (scores.mean(), scores.std()))"
   ]
  },
  {
   "cell_type": "code",
   "execution_count": 116,
   "metadata": {
    "collapsed": false
   },
   "outputs": [
    {
     "data": {
      "text/plain": [
       "array([ 0.796875  ,  0.72222222,  0.72151899,  0.72463768,  0.75362319])"
      ]
     },
     "execution_count": 116,
     "metadata": {},
     "output_type": "execute_result"
    }
   ],
   "source": [
    "scores"
   ]
  },
  {
   "cell_type": "code",
   "execution_count": 117,
   "metadata": {
    "collapsed": false
   },
   "outputs": [
    {
     "data": {
      "text/plain": [
       "(0.99840961300583142,\n",
       " 0.85704188019084648,\n",
       " 0.99840961300583142,\n",
       " 1.1309418625198799,\n",
       " 1.015811324087978)"
      ]
     },
     "execution_count": 117,
     "metadata": {},
     "output_type": "execute_result"
    }
   ],
   "source": [
    "# percentage of whales in each cross-validation set\n",
    "\n",
    "lim_1 = int(len(y)/5)\n",
    "lim_2 = int(len(y)/5)*2\n",
    "lim_3 = int(len(y)/5)*3\n",
    "lim_4 = int(len(y)/5)*4\n",
    "lim_5 = int(len(y))\n",
    "\n",
    "\n",
    "y[0:lim_1].value_counts()[1] / len(y[0:lim_1])*100, y[lim_1:lim_2].value_counts()[1] / len(y[lim_1:lim_2])*100, y[lim_2:lim_3].value_counts()[1] / len(y[lim_2:lim_3])*100, y[lim_3:lim_4].value_counts()[1] / len(y[lim_3:lim_4])*100, y[lim_4:lim_5].value_counts()[1] / len(y[lim_4:lim_5])*100"
   ]
  },
  {
   "cell_type": "code",
   "execution_count": 118,
   "metadata": {
    "collapsed": false
   },
   "outputs": [
    {
     "data": {
      "image/png": "[encoded data removed]",
      "text/plain": [
       "<matplotlib.figure.Figure at 0x7f67be93f8d0>"
      ]
     },
     "metadata": {},
     "output_type": "display_data"
    }
   ],
   "source": [
    "cm = confusion_matrix(y_test, y_pred)\n",
    "utils.plot_confusion_matrix(cm, ['Non-whale', 'Whale'], title='Customer lifetime value prediction')"
   ]
  },
  {
   "cell_type": "code",
   "execution_count": 115,
   "metadata": {
    "collapsed": false
   },
   "outputs": [
    {
     "data": {
      "text/plain": [
       "Text(0.5,1,'2-class Precision-Recall curve: AP=0.32')"
      ]
     },
     "execution_count": 115,
     "metadata": {},
     "output_type": "execute_result"
    },
    {
     "data": {
      "image/png": "[encoded data removed]",
      "text/plain": [
       "<matplotlib.figure.Figure at 0x7f67aff1e9b0>"
      ]
     },
     "metadata": {},
     "output_type": "display_data"
    }
   ],
   "source": [
    "from sklearn.metrics import precision_recall_curve\n",
    "from sklearn.metrics import average_precision_score\n",
    "\n",
    "\n",
    "y_pred_proba = clf.predict_proba(X_test)\n",
    "average_precision = average_precision_score(y_test, y_pred)\n",
    "pr, re, _ = precision_recall_curve(y_test,y_pred,pos_label=1)\n",
    "\n",
    "\n",
    "plt.step(re, pr, color='b', alpha=0.2,\n",
    "         where='post')\n",
    "plt.fill_between(re, pr, step='post', alpha=0.2,\n",
    "                 color='b')\n",
    "\n",
    "plt.xlabel('Recall')\n",
    "plt.ylabel('Precision')\n",
    "plt.ylim([0.0, 1.05])\n",
    "plt.xlim([0.0, 1.0])\n",
    "plt.title('2-class Precision-Recall curve: AP={0:0.2f}'.format(\n",
    "          average_precision))"
   ]
  },
  {
   "cell_type": "code",
   "execution_count": null,
   "metadata": {
    "collapsed": false
   },
   "outputs": [],
   "source": [
    "clf_cv.decision_path(X_test)"
   ]
  },
  {
   "cell_type": "markdown",
   "metadata": {},
   "source": [
    "### 30% test set (Feb 17 cohort)\n",
    "\n",
    "![title](img/30% test set  - Feb 17 cohort.png)"
   ]
  },
  {
   "cell_type": "markdown",
   "metadata": {},
   "source": [
    "## 40% test set (Feb 17 cohort)\n",
    "\n",
    "![title](img/40% test set - Feb 17 cohort.png)"
   ]
  },
  {
   "cell_type": "markdown",
   "metadata": {},
   "source": [
    "## 30% test set (Feb 17 cohort, 30k users sample)\n",
    "![title](img/confusion_matrix - 30.000 users - first pipeline.png)"
   ]
  },
  {
   "cell_type": "markdown",
   "metadata": {},
   "source": [
    "## Regression"
   ]
  },
  {
   "cell_type": "code",
   "execution_count": 559,
   "metadata": {
    "collapsed": true
   },
   "outputs": [],
   "source": [
    "X = fm.reset_index().merge(CurCV[['user_id', 'curcv']])\n",
    "X = X.fillna(0)\n",
    "X.drop([\"user_id\", \"time\"], axis=1, inplace=True)\n",
    "y = X.pop(\"curcv\")"
   ]
  },
  {
   "cell_type": "code",
   "execution_count": 560,
   "metadata": {
    "collapsed": false
   },
   "outputs": [
    {
     "data": {
      "text/plain": [
       "20"
      ]
     },
     "execution_count": 560,
     "metadata": {},
     "output_type": "execute_result"
    }
   ],
   "source": [
    "len(X.columns)"
   ]
  },
  {
   "cell_type": "code",
   "execution_count": 561,
   "metadata": {
    "collapsed": false
   },
   "outputs": [
    {
     "data": {
      "text/plain": [
       "6.679892666666674"
      ]
     },
     "execution_count": 561,
     "metadata": {},
     "output_type": "execute_result"
    }
   ],
   "source": [
    "# average customer value\n",
    "y.mean()"
   ]
  },
  {
   "cell_type": "code",
   "execution_count": 562,
   "metadata": {
    "collapsed": true
   },
   "outputs": [],
   "source": [
    "X_train, X_test, y_train, y_test = train_test_split(X, y, test_size=0.3, random_state=42)"
   ]
  },
  {
   "cell_type": "code",
   "execution_count": 563,
   "metadata": {
    "collapsed": false
   },
   "outputs": [
    {
     "data": {
      "text/plain": [
       "count    10500.000000\n",
       "mean         5.319653\n",
       "std        113.743554\n",
       "min          0.000000\n",
       "25%          0.000000\n",
       "50%          0.000000\n",
       "75%          0.000000\n",
       "max       6210.170000\n",
       "Name: curcv, dtype: float64"
      ]
     },
     "execution_count": 563,
     "metadata": {},
     "output_type": "execute_result"
    }
   ],
   "source": [
    "y_train.describe()"
   ]
  },
  {
   "cell_type": "code",
   "execution_count": 564,
   "metadata": {
    "collapsed": false
   },
   "outputs": [
    {
     "data": {
      "text/plain": [
       "count     4500.000000\n",
       "mean         9.853784\n",
       "std        240.957293\n",
       "min          0.000000\n",
       "25%          0.000000\n",
       "50%          0.000000\n",
       "75%          0.000000\n",
       "max      12597.100000\n",
       "Name: curcv, dtype: float64"
      ]
     },
     "execution_count": 564,
     "metadata": {},
     "output_type": "execute_result"
    }
   ],
   "source": [
    "y_test.describe()"
   ]
  },
  {
   "cell_type": "code",
   "execution_count": 565,
   "metadata": {
    "collapsed": false
   },
   "outputs": [],
   "source": [
    "regr = RandomForestRegressor(max_depth=2, random_state=0)"
   ]
  },
  {
   "cell_type": "code",
   "execution_count": 566,
   "metadata": {
    "collapsed": false
   },
   "outputs": [
    {
     "name": "stdout",
     "output_type": "stream",
     "text": [
      "CPU times: user 636 ms, sys: 0 ns, total: 636 ms\n",
      "Wall time: 643 ms\n"
     ]
    },
    {
     "data": {
      "text/plain": [
       "RandomForestRegressor(bootstrap=True, criterion='mse', max_depth=2,\n",
       "           max_features='auto', max_leaf_nodes=None,\n",
       "           min_impurity_decrease=0.0, min_impurity_split=None,\n",
       "           min_samples_leaf=1, min_samples_split=2,\n",
       "           min_weight_fraction_leaf=0.0, n_estimators=10, n_jobs=1,\n",
       "           oob_score=False, random_state=0, verbose=0, warm_start=False)"
      ]
     },
     "execution_count": 566,
     "metadata": {},
     "output_type": "execute_result"
    }
   ],
   "source": [
    "%%time\n",
    "\n",
    "\n",
    "regr.fit(X_train, y_train)"
   ]
  },
  {
   "cell_type": "code",
   "execution_count": 567,
   "metadata": {
    "collapsed": false
   },
   "outputs": [
    {
     "name": "stdout",
     "output_type": "stream",
     "text": [
      "1: Feature: trading_experience = NONE, 0.560\n",
      "2: Feature: trading_experience = EXPERT, 0.134\n",
      "3: Feature: gender = unknown, 0.087\n",
      "4: Feature: nationality = IT, 0.081\n",
      "5: Feature: nationality = AT, 0.055\n",
      "6: Feature: trading_experience = unknown, 0.043\n",
      "7: Feature: nationality = PL, 0.040\n",
      "8: Feature: trading_experience = SOME, 0.000\n",
      "9: Feature: gender = MALE, 0.000\n",
      "10: Feature: gender = FEMALE, 0.000\n",
      "11: Feature: title = Rookie Trader, 0.000\n",
      "12: Feature: title = Experienced Trader, 0.000\n",
      "13: Feature: title = Pro Trader, 0.000\n",
      "14: Feature: title = unknown, 0.000\n",
      "15: Feature: nationality = DE, 0.000\n",
      "16: Feature: nationality = GB, 0.000\n",
      "17: Feature: nationality = TR, 0.000\n",
      "18: Feature: nationality = DK, 0.000\n",
      "19: Feature: nationality = RO, 0.000\n",
      "20: Feature: nationality = GR, 0.000\n"
     ]
    },
    {
     "data": {
      "text/plain": [
       "[<Feature: trading_experience = NONE>,\n",
       " <Feature: trading_experience = EXPERT>,\n",
       " <Feature: gender = unknown>,\n",
       " <Feature: nationality = IT>,\n",
       " <Feature: nationality = AT>,\n",
       " <Feature: trading_experience = unknown>,\n",
       " <Feature: nationality = PL>,\n",
       " <Feature: trading_experience = SOME>,\n",
       " <Feature: gender = MALE>,\n",
       " <Feature: gender = FEMALE>,\n",
       " <Feature: title = Rookie Trader>,\n",
       " <Feature: title = Experienced Trader>,\n",
       " <Feature: title = Pro Trader>,\n",
       " <Feature: title = unknown>,\n",
       " <Feature: nationality = DE>,\n",
       " <Feature: nationality = GB>,\n",
       " <Feature: nationality = TR>,\n",
       " <Feature: nationality = DK>,\n",
       " <Feature: nationality = RO>,\n",
       " <Feature: nationality = GR>]"
      ]
     },
     "execution_count": 567,
     "metadata": {},
     "output_type": "execute_result"
    }
   ],
   "source": [
    "utils.feature_importances(regr, features_encoded, n=20)"
   ]
  },
  {
   "cell_type": "code",
   "execution_count": 568,
   "metadata": {
    "collapsed": false
   },
   "outputs": [],
   "source": [
    "y_pred = regr.predict(X_test)"
   ]
  },
  {
   "cell_type": "code",
   "execution_count": 569,
   "metadata": {
    "collapsed": false
   },
   "outputs": [],
   "source": [
    "from sklearn.metrics import r2_score, mean_absolute_error, mean_squared_error"
   ]
  },
  {
   "cell_type": "code",
   "execution_count": 570,
   "metadata": {
    "collapsed": false
   },
   "outputs": [
    {
     "data": {
      "text/plain": [
       "11499    0.0\n",
       "6475     0.0\n",
       "13167    0.0\n",
       "862      0.0\n",
       "5970     0.0\n",
       "Name: curcv, dtype: float64"
      ]
     },
     "execution_count": 570,
     "metadata": {},
     "output_type": "execute_result"
    }
   ],
   "source": [
    "y_test.head()"
   ]
  },
  {
   "cell_type": "code",
   "execution_count": 571,
   "metadata": {
    "collapsed": false
   },
   "outputs": [
    {
     "data": {
      "text/plain": [
       "0.107"
      ]
     },
     "execution_count": 571,
     "metadata": {},
     "output_type": "execute_result"
    }
   ],
   "source": [
    "r2_reg = r2_score(y_test, y_pred).round(3)\n",
    "r2_reg"
   ]
  },
  {
   "cell_type": "code",
   "execution_count": 572,
   "metadata": {
    "collapsed": false
   },
   "outputs": [
    {
     "name": "stdout",
     "output_type": "stream",
     "text": [
      "11.7074452488\n",
      "51848.5119035\n",
      "227.702683128\n"
     ]
    }
   ],
   "source": [
    "print(mean_absolute_error(y_test, y_pred))\n",
    "print(mean_squared_error(y_test, y_pred))\n",
    "print(np.sqrt(mean_squared_error(y_test, y_pred)))"
   ]
  },
  {
   "cell_type": "code",
   "execution_count": 573,
   "metadata": {
    "collapsed": false
   },
   "outputs": [
    {
     "data": {
      "text/plain": [
       "(32763.885806112103, 44342.029999999984)"
      ]
     },
     "execution_count": 573,
     "metadata": {},
     "output_type": "execute_result"
    }
   ],
   "source": [
    "test_set_pred = sum(y_pred)\n",
    "test_set_true = sum(y_test)\n",
    "\n",
    "test_set_pred, test_set_true"
   ]
  },
  {
   "cell_type": "code",
   "execution_count": 574,
   "metadata": {
    "collapsed": false
   },
   "outputs": [
    {
     "data": {
      "text/plain": [
       "(31986.982499999987, 44342.029999999984)"
      ]
     },
     "execution_count": 574,
     "metadata": {},
     "output_type": "execute_result"
    }
   ],
   "source": [
    "test_set_benchmark = len(y_test) * CurCV['curcv'].mean()\n",
    "\n",
    "test_set_benchmark, test_set_true"
   ]
  },
  {
   "cell_type": "code",
   "execution_count": 575,
   "metadata": {
    "collapsed": true
   },
   "outputs": [],
   "source": [
    "y_benchmark = [CurCV['curcv'].mean() for i in range(0,len(y_test))]"
   ]
  },
  {
   "cell_type": "code",
   "execution_count": 576,
   "metadata": {
    "collapsed": false
   },
   "outputs": [
    {
     "name": "stdout",
     "output_type": "stream",
     "text": [
      "16.5399014526\n",
      "58055.0530432\n",
      "240.946162126\n"
     ]
    }
   ],
   "source": [
    "print(mean_absolute_error(y_test, y_benchmark))\n",
    "print(mean_squared_error(y_test, y_benchmark))\n",
    "print(np.sqrt(mean_squared_error(y_test, y_benchmark)))"
   ]
  },
  {
   "cell_type": "code",
   "execution_count": null,
   "metadata": {
    "collapsed": true
   },
   "outputs": [],
   "source": []
  },
  {
   "cell_type": "code",
   "execution_count": null,
   "metadata": {
    "collapsed": true
   },
   "outputs": [],
   "source": []
  }
 ],
 "metadata": {
  "anaconda-cloud": {},
  "kernelspec": {
   "display_name": "Python [default]",
   "language": "python",
   "name": "python3"
  },
  "language_info": {
   "codemirror_mode": {
    "name": "ipython",
    "version": 3
   },
   "file_extension": ".py",
   "mimetype": "text/x-python",
   "name": "python",
   "nbconvert_exporter": "python",
   "pygments_lexer": "ipython3",
   "version": "3.5.4"
  }
 },
 "nbformat": 4,
 "nbformat_minor": 1
}
