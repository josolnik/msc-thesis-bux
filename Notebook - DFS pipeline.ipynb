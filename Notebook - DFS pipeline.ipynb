{
 "cells": [
  {
   "cell_type": "code",
   "execution_count": 384,
   "metadata": {
    "collapsed": true
   },
   "outputs": [],
   "source": [
    "# data munging and visualization\n",
    "import numpy as np\n",
    "import pandas as pd\n",
    "import itertools\n",
    "\n",
    "\n",
    "# class imbalance treatment\n",
    "from imblearn.over_sampling import SMOTE\n",
    "from sklearn.utils import resample\n",
    "\n",
    "\n",
    "# visualization\n",
    "import matplotlib.pyplot as plt\n",
    "%matplotlib inline\n",
    "\n",
    "\n",
    "# feature engineering\n",
    "import featuretools as ft\n",
    "\n",
    "\n",
    "# predictor -> classification, regression\n",
    "from sklearn.ensemble import RandomForestClassifier\n",
    "from sklearn.ensemble import RandomForestRegressor\n",
    "from sklearn.ensemble import GradientBoostingRegressor\n",
    "from sklearn.metrics import precision_recall_fscore_support\n",
    "from sklearn.metrics import confusion_matrix\n",
    "from sklearn.model_selection import train_test_split\n",
    "from sklearn.model_selection import cross_val_score\n",
    "from sklearn.metrics import precision_recall_fscore_support as score\n",
    "\n",
    "\n",
    "# miscellanous\n",
    "import datetime\n",
    "import os"
   ]
  },
  {
   "cell_type": "markdown",
   "metadata": {},
   "source": [
    "## Users"
   ]
  },
  {
   "cell_type": "code",
   "execution_count": 385,
   "metadata": {
    "collapsed": false
   },
   "outputs": [
    {
     "data": {
      "text/plain": [
       "58839"
      ]
     },
     "execution_count": 385,
     "metadata": {},
     "output_type": "execute_result"
    }
   ],
   "source": [
    "users = pd.read_csv('data/users_Feb_1_30days_cohort.csv')\n",
    "users['bux_account_created_dts'] = pd.to_datetime(users['bux_account_created_dts'])\n",
    "users = users[users.columns[1:]]\n",
    "len(users)"
   ]
  },
  {
   "cell_type": "code",
   "execution_count": 386,
   "metadata": {
    "collapsed": false
   },
   "outputs": [
    {
     "data": {
      "text/plain": [
       "58839"
      ]
     },
     "execution_count": 386,
     "metadata": {},
     "output_type": "execute_result"
    }
   ],
   "source": [
    "sample_users = False\n",
    "sample_num = 15000\n",
    "\n",
    "if sample_users:\n",
    "    users = users[0:sample_num]\n",
    "\n",
    "len(users)"
   ]
  },
  {
   "cell_type": "code",
   "execution_count": 387,
   "metadata": {
    "collapsed": false
   },
   "outputs": [
    {
     "data": {
      "text/html": [
       "<div>\n",
       "<style>\n",
       "    .dataframe thead tr:only-child th {\n",
       "        text-align: right;\n",
       "    }\n",
       "\n",
       "    .dataframe thead th {\n",
       "        text-align: left;\n",
       "    }\n",
       "\n",
       "    .dataframe tbody tr th {\n",
       "        vertical-align: top;\n",
       "    }\n",
       "</style>\n",
       "<table border=\"1\" class=\"dataframe\">\n",
       "  <thead>\n",
       "    <tr style=\"text-align: right;\">\n",
       "      <th></th>\n",
       "      <th>user_id</th>\n",
       "      <th>country_cd</th>\n",
       "      <th>gender</th>\n",
       "      <th>nationality</th>\n",
       "      <th>platform_type_name</th>\n",
       "      <th>trading_experience</th>\n",
       "      <th>title</th>\n",
       "      <th>network</th>\n",
       "      <th>bux_account_created_dts</th>\n",
       "      <th>account_type</th>\n",
       "      <th>ams_first_funded_dts</th>\n",
       "      <th>initial_deposit_amount</th>\n",
       "      <th>sum_deposits</th>\n",
       "      <th>cnt_deposits</th>\n",
       "    </tr>\n",
       "  </thead>\n",
       "  <tbody>\n",
       "    <tr>\n",
       "      <th>0</th>\n",
       "      <td>031b0f17-9a45-4b1b-b7b4-027802ffad95</td>\n",
       "      <td>DE</td>\n",
       "      <td>MALE</td>\n",
       "      <td>DE</td>\n",
       "      <td>iOS</td>\n",
       "      <td>SOME</td>\n",
       "      <td>Experienced Trader</td>\n",
       "      <td>Appnext</td>\n",
       "      <td>2017-02-03 21:10:20.056</td>\n",
       "      <td>SERIOUS_BUX</td>\n",
       "      <td>2017-02-13 22:11:52.000</td>\n",
       "      <td>450.0</td>\n",
       "      <td>450.0</td>\n",
       "      <td>1.0</td>\n",
       "    </tr>\n",
       "    <tr>\n",
       "      <th>1</th>\n",
       "      <td>010e236f-8ab5-4681-a146-273531d19d54</td>\n",
       "      <td>AT</td>\n",
       "      <td>NaN</td>\n",
       "      <td>NaN</td>\n",
       "      <td>Android</td>\n",
       "      <td>NONE</td>\n",
       "      <td>Rookie Trader</td>\n",
       "      <td>Organic</td>\n",
       "      <td>2017-02-01 16:33:27.777</td>\n",
       "      <td>FUN_BUX</td>\n",
       "      <td>NaN</td>\n",
       "      <td>NaN</td>\n",
       "      <td>NaN</td>\n",
       "      <td>NaN</td>\n",
       "    </tr>\n",
       "    <tr>\n",
       "      <th>2</th>\n",
       "      <td>011f6526-ab7e-4790-b289-5fa1faf69bc3</td>\n",
       "      <td>AT</td>\n",
       "      <td>NaN</td>\n",
       "      <td>NaN</td>\n",
       "      <td>Android</td>\n",
       "      <td>NONE</td>\n",
       "      <td>Rookie Trader</td>\n",
       "      <td>Viral Invites</td>\n",
       "      <td>2017-02-26 11:55:06.928</td>\n",
       "      <td>FUN_BUX</td>\n",
       "      <td>NaN</td>\n",
       "      <td>NaN</td>\n",
       "      <td>NaN</td>\n",
       "      <td>NaN</td>\n",
       "    </tr>\n",
       "    <tr>\n",
       "      <th>3</th>\n",
       "      <td>0231bd62-6733-4f8b-9c57-87f4eb9e0aa1</td>\n",
       "      <td>AT</td>\n",
       "      <td>NaN</td>\n",
       "      <td>NaN</td>\n",
       "      <td>Android</td>\n",
       "      <td>NONE</td>\n",
       "      <td>Rookie Trader</td>\n",
       "      <td>Facebook Installs</td>\n",
       "      <td>2017-02-17 23:14:11.280</td>\n",
       "      <td>FUN_BUX</td>\n",
       "      <td>NaN</td>\n",
       "      <td>NaN</td>\n",
       "      <td>NaN</td>\n",
       "      <td>NaN</td>\n",
       "    </tr>\n",
       "    <tr>\n",
       "      <th>4</th>\n",
       "      <td>028e03b9-ab6d-4ede-85f2-ce6b6e38ad47</td>\n",
       "      <td>AT</td>\n",
       "      <td>NaN</td>\n",
       "      <td>NaN</td>\n",
       "      <td>Android</td>\n",
       "      <td>NONE</td>\n",
       "      <td>Rookie Trader</td>\n",
       "      <td>Facebook Installs</td>\n",
       "      <td>2017-02-20 10:30:34.584</td>\n",
       "      <td>FUN_BUX</td>\n",
       "      <td>NaN</td>\n",
       "      <td>NaN</td>\n",
       "      <td>NaN</td>\n",
       "      <td>NaN</td>\n",
       "    </tr>\n",
       "  </tbody>\n",
       "</table>\n",
       "</div>"
      ],
      "text/plain": [
       "                                user_id country_cd gender nationality  \\\n",
       "0  031b0f17-9a45-4b1b-b7b4-027802ffad95         DE   MALE          DE   \n",
       "1  010e236f-8ab5-4681-a146-273531d19d54         AT    NaN         NaN   \n",
       "2  011f6526-ab7e-4790-b289-5fa1faf69bc3         AT    NaN         NaN   \n",
       "3  0231bd62-6733-4f8b-9c57-87f4eb9e0aa1         AT    NaN         NaN   \n",
       "4  028e03b9-ab6d-4ede-85f2-ce6b6e38ad47         AT    NaN         NaN   \n",
       "\n",
       "  platform_type_name trading_experience               title  \\\n",
       "0                iOS               SOME  Experienced Trader   \n",
       "1            Android               NONE       Rookie Trader   \n",
       "2            Android               NONE       Rookie Trader   \n",
       "3            Android               NONE       Rookie Trader   \n",
       "4            Android               NONE       Rookie Trader   \n",
       "\n",
       "             network bux_account_created_dts account_type  \\\n",
       "0            Appnext 2017-02-03 21:10:20.056  SERIOUS_BUX   \n",
       "1            Organic 2017-02-01 16:33:27.777      FUN_BUX   \n",
       "2      Viral Invites 2017-02-26 11:55:06.928      FUN_BUX   \n",
       "3  Facebook Installs 2017-02-17 23:14:11.280      FUN_BUX   \n",
       "4  Facebook Installs 2017-02-20 10:30:34.584      FUN_BUX   \n",
       "\n",
       "      ams_first_funded_dts  initial_deposit_amount  sum_deposits  cnt_deposits  \n",
       "0  2017-02-13 22:11:52.000                   450.0         450.0           1.0  \n",
       "1                      NaN                     NaN           NaN           NaN  \n",
       "2                      NaN                     NaN           NaN           NaN  \n",
       "3                      NaN                     NaN           NaN           NaN  \n",
       "4                      NaN                     NaN           NaN           NaN  "
      ]
     },
     "execution_count": 387,
     "metadata": {},
     "output_type": "execute_result"
    }
   ],
   "source": [
    "users.head()"
   ]
  },
  {
   "cell_type": "code",
   "execution_count": 388,
   "metadata": {
    "collapsed": false
   },
   "outputs": [
    {
     "data": {
      "text/plain": [
       "0     3\n",
       "1     1\n",
       "2    26\n",
       "3    17\n",
       "4    20\n",
       "Name: bux_account_created_day, dtype: int64"
      ]
     },
     "execution_count": 388,
     "metadata": {},
     "output_type": "execute_result"
    }
   ],
   "source": [
    "users['bux_account_created_day'] = [ts.day for ts in users['bux_account_created_dts']]\n",
    "users['bux_account_created_day'].head()"
   ]
  },
  {
   "cell_type": "code",
   "execution_count": 389,
   "metadata": {
    "collapsed": false
   },
   "outputs": [
    {
     "data": {
      "image/png": "[encoded data removed]",
      "text/plain": [
       "<matplotlib.figure.Figure at 0x7fa517ffe4a8>"
      ]
     },
     "metadata": {},
     "output_type": "display_data"
    }
   ],
   "source": [
    "users['bux_account_created_day'].plot(kind='hist');"
   ]
  },
  {
   "cell_type": "markdown",
   "metadata": {},
   "source": [
    "## Cube daily user"
   ]
  },
  {
   "cell_type": "code",
   "execution_count": 390,
   "metadata": {
    "collapsed": false
   },
   "outputs": [
    {
     "data": {
      "text/html": [
       "<div>\n",
       "<style>\n",
       "    .dataframe thead tr:only-child th {\n",
       "        text-align: right;\n",
       "    }\n",
       "\n",
       "    .dataframe thead th {\n",
       "        text-align: left;\n",
       "    }\n",
       "\n",
       "    .dataframe tbody tr th {\n",
       "        vertical-align: top;\n",
       "    }\n",
       "</style>\n",
       "<table border=\"1\" class=\"dataframe\">\n",
       "  <thead>\n",
       "    <tr style=\"text-align: right;\">\n",
       "      <th></th>\n",
       "      <th>index</th>\n",
       "      <th>user_id</th>\n",
       "      <th>day_of_year</th>\n",
       "      <th>date</th>\n",
       "      <th>number_of_sessions</th>\n",
       "      <th>total_session_duration</th>\n",
       "      <th>account_status</th>\n",
       "      <th>trades_fb_commodities_open</th>\n",
       "      <th>trades_fb_commodities_profit</th>\n",
       "      <th>social_status_battles</th>\n",
       "      <th>social_status</th>\n",
       "      <th>conversion_to_sb</th>\n",
       "    </tr>\n",
       "  </thead>\n",
       "  <tbody>\n",
       "    <tr>\n",
       "      <th>0</th>\n",
       "      <td>0</td>\n",
       "      <td>000c5e5d-4e25-412d-951b-31167045eb95</td>\n",
       "      <td>60</td>\n",
       "      <td>2017-03-01</td>\n",
       "      <td>0</td>\n",
       "      <td>0</td>\n",
       "      <td>FUN_BUX</td>\n",
       "      <td>0</td>\n",
       "      <td>0.0</td>\n",
       "      <td>0</td>\n",
       "      <td>Following</td>\n",
       "      <td>0</td>\n",
       "    </tr>\n",
       "    <tr>\n",
       "      <th>1</th>\n",
       "      <td>1</td>\n",
       "      <td>000c5e5d-4e25-412d-951b-31167045eb95</td>\n",
       "      <td>61</td>\n",
       "      <td>2017-03-02</td>\n",
       "      <td>0</td>\n",
       "      <td>0</td>\n",
       "      <td>FUN_BUX</td>\n",
       "      <td>0</td>\n",
       "      <td>0.0</td>\n",
       "      <td>0</td>\n",
       "      <td>Following</td>\n",
       "      <td>0</td>\n",
       "    </tr>\n",
       "    <tr>\n",
       "      <th>2</th>\n",
       "      <td>2</td>\n",
       "      <td>000c5e5d-4e25-412d-951b-31167045eb95</td>\n",
       "      <td>62</td>\n",
       "      <td>2017-03-03</td>\n",
       "      <td>0</td>\n",
       "      <td>0</td>\n",
       "      <td>FUN_BUX</td>\n",
       "      <td>0</td>\n",
       "      <td>0.0</td>\n",
       "      <td>0</td>\n",
       "      <td>Following</td>\n",
       "      <td>0</td>\n",
       "    </tr>\n",
       "    <tr>\n",
       "      <th>3</th>\n",
       "      <td>3</td>\n",
       "      <td>000c5e5d-4e25-412d-951b-31167045eb95</td>\n",
       "      <td>65</td>\n",
       "      <td>2017-03-06</td>\n",
       "      <td>0</td>\n",
       "      <td>0</td>\n",
       "      <td>FUN_BUX</td>\n",
       "      <td>0</td>\n",
       "      <td>0.0</td>\n",
       "      <td>0</td>\n",
       "      <td>Following</td>\n",
       "      <td>0</td>\n",
       "    </tr>\n",
       "    <tr>\n",
       "      <th>4</th>\n",
       "      <td>4</td>\n",
       "      <td>000c5e5d-4e25-412d-951b-31167045eb95</td>\n",
       "      <td>66</td>\n",
       "      <td>2017-03-07</td>\n",
       "      <td>0</td>\n",
       "      <td>0</td>\n",
       "      <td>FUN_BUX</td>\n",
       "      <td>0</td>\n",
       "      <td>0.0</td>\n",
       "      <td>0</td>\n",
       "      <td>Following</td>\n",
       "      <td>0</td>\n",
       "    </tr>\n",
       "  </tbody>\n",
       "</table>\n",
       "</div>"
      ],
      "text/plain": [
       "   index                               user_id  day_of_year       date  \\\n",
       "0      0  000c5e5d-4e25-412d-951b-31167045eb95           60 2017-03-01   \n",
       "1      1  000c5e5d-4e25-412d-951b-31167045eb95           61 2017-03-02   \n",
       "2      2  000c5e5d-4e25-412d-951b-31167045eb95           62 2017-03-03   \n",
       "3      3  000c5e5d-4e25-412d-951b-31167045eb95           65 2017-03-06   \n",
       "4      4  000c5e5d-4e25-412d-951b-31167045eb95           66 2017-03-07   \n",
       "\n",
       "   number_of_sessions  total_session_duration account_status  \\\n",
       "0                   0                       0        FUN_BUX   \n",
       "1                   0                       0        FUN_BUX   \n",
       "2                   0                       0        FUN_BUX   \n",
       "3                   0                       0        FUN_BUX   \n",
       "4                   0                       0        FUN_BUX   \n",
       "\n",
       "   trades_fb_commodities_open  trades_fb_commodities_profit  \\\n",
       "0                           0                           0.0   \n",
       "1                           0                           0.0   \n",
       "2                           0                           0.0   \n",
       "3                           0                           0.0   \n",
       "4                           0                           0.0   \n",
       "\n",
       "   social_status_battles social_status  conversion_to_sb  \n",
       "0                      0     Following                 0  \n",
       "1                      0     Following                 0  \n",
       "2                      0     Following                 0  \n",
       "3                      0     Following                 0  \n",
       "4                      0     Following                 0  "
      ]
     },
     "execution_count": 390,
     "metadata": {},
     "output_type": "execute_result"
    }
   ],
   "source": [
    "transactions = pd.read_csv('data/cube_daily_user_Feb_1_30days_cohort.csv')\n",
    "transactions['date'] = pd.to_datetime(transactions['date'])\n",
    "transactions = transactions[transactions.columns[1:]]\n",
    "transactions = transactions.reset_index()\n",
    "transactions.head()"
   ]
  },
  {
   "cell_type": "code",
   "execution_count": 391,
   "metadata": {
    "collapsed": false
   },
   "outputs": [
    {
     "data": {
      "text/plain": [
       "(370117, 58045, 12)"
      ]
     },
     "execution_count": 391,
     "metadata": {},
     "output_type": "execute_result"
    }
   ],
   "source": [
    "len(transactions), len(transactions['user_id'].unique()), len(transactions.columns)"
   ]
  },
  {
   "cell_type": "code",
   "execution_count": 392,
   "metadata": {
    "collapsed": false
   },
   "outputs": [
    {
     "data": {
      "text/plain": [
       "370117"
      ]
     },
     "execution_count": 392,
     "metadata": {},
     "output_type": "execute_result"
    }
   ],
   "source": [
    "transactions = transactions[transactions['user_id'].isin(users['user_id'])]\n",
    "len(transactions)"
   ]
  },
  {
   "cell_type": "markdown",
   "metadata": {},
   "source": [
    "## Target values (Current customer value - CurCV)"
   ]
  },
  {
   "cell_type": "code",
   "execution_count": 393,
   "metadata": {
    "collapsed": false
   },
   "outputs": [
    {
     "data": {
      "text/html": [
       "<div>\n",
       "<style>\n",
       "    .dataframe thead tr:only-child th {\n",
       "        text-align: right;\n",
       "    }\n",
       "\n",
       "    .dataframe thead th {\n",
       "        text-align: left;\n",
       "    }\n",
       "\n",
       "    .dataframe tbody tr th {\n",
       "        vertical-align: top;\n",
       "    }\n",
       "</style>\n",
       "<table border=\"1\" class=\"dataframe\">\n",
       "  <thead>\n",
       "    <tr style=\"text-align: right;\">\n",
       "      <th></th>\n",
       "      <th>user_id</th>\n",
       "      <th>curcv</th>\n",
       "    </tr>\n",
       "  </thead>\n",
       "  <tbody>\n",
       "    <tr>\n",
       "      <th>0</th>\n",
       "      <td>3e675443-9762-4137-b92e-3cbcea38e44a</td>\n",
       "      <td>0.0</td>\n",
       "    </tr>\n",
       "    <tr>\n",
       "      <th>1</th>\n",
       "      <td>0de77d85-f73d-4798-90e2-7bc4de4f74dd</td>\n",
       "      <td>0.0</td>\n",
       "    </tr>\n",
       "    <tr>\n",
       "      <th>2</th>\n",
       "      <td>6f40a1bf-1d49-4d6a-8c6f-683526189f9e</td>\n",
       "      <td>0.0</td>\n",
       "    </tr>\n",
       "    <tr>\n",
       "      <th>3</th>\n",
       "      <td>20544428-b6fa-46be-9b82-25d064e3650f</td>\n",
       "      <td>0.0</td>\n",
       "    </tr>\n",
       "    <tr>\n",
       "      <th>4</th>\n",
       "      <td>076e3239-a377-4cbb-81ed-8f16a3197a5d</td>\n",
       "      <td>0.0</td>\n",
       "    </tr>\n",
       "  </tbody>\n",
       "</table>\n",
       "</div>"
      ],
      "text/plain": [
       "                                user_id  curcv\n",
       "0  3e675443-9762-4137-b92e-3cbcea38e44a    0.0\n",
       "1  0de77d85-f73d-4798-90e2-7bc4de4f74dd    0.0\n",
       "2  6f40a1bf-1d49-4d6a-8c6f-683526189f9e    0.0\n",
       "3  20544428-b6fa-46be-9b82-25d064e3650f    0.0\n",
       "4  076e3239-a377-4cbb-81ed-8f16a3197a5d    0.0"
      ]
     },
     "execution_count": 393,
     "metadata": {},
     "output_type": "execute_result"
    }
   ],
   "source": [
    "CurCV = pd.read_csv('data/curCv_Feb_1_30days_cohort.csv')\n",
    "CurCV[\"curcv\"] = CurCV[\"com\"] + CurCV[\"ff\"]\n",
    "CurCV = CurCV[['user_id', 'curcv']]\n",
    "CurCV = CurCV.fillna(0)\n",
    "CurCV.head()"
   ]
  },
  {
   "cell_type": "code",
   "execution_count": 394,
   "metadata": {
    "collapsed": false
   },
   "outputs": [
    {
     "data": {
      "text/plain": [
       "count    58839.000000\n",
       "mean         6.510799\n",
       "std        210.954290\n",
       "min          0.000000\n",
       "25%          0.000000\n",
       "50%          0.000000\n",
       "75%          0.000000\n",
       "max      39186.110000\n",
       "Name: curcv, dtype: float64"
      ]
     },
     "execution_count": 394,
     "metadata": {},
     "output_type": "execute_result"
    }
   ],
   "source": [
    "CurCV[\"curcv\"].describe()"
   ]
  },
  {
   "cell_type": "code",
   "execution_count": 395,
   "metadata": {
    "collapsed": false
   },
   "outputs": [
    {
     "data": {
      "text/plain": [
       "58839"
      ]
     },
     "execution_count": 395,
     "metadata": {},
     "output_type": "execute_result"
    }
   ],
   "source": [
    "CurCV = CurCV[CurCV['user_id'].isin(users['user_id'])]\n",
    "len(CurCV)"
   ]
  },
  {
   "cell_type": "markdown",
   "metadata": {},
   "source": [
    "## Define entities, entity tables and relationships"
   ]
  },
  {
   "cell_type": "code",
   "execution_count": 396,
   "metadata": {
    "collapsed": false
   },
   "outputs": [
    {
     "data": {
      "text/html": [
       "<div>\n",
       "<style>\n",
       "    .dataframe thead tr:only-child th {\n",
       "        text-align: right;\n",
       "    }\n",
       "\n",
       "    .dataframe thead th {\n",
       "        text-align: left;\n",
       "    }\n",
       "\n",
       "    .dataframe tbody tr th {\n",
       "        vertical-align: top;\n",
       "    }\n",
       "</style>\n",
       "<table border=\"1\" class=\"dataframe\">\n",
       "  <thead>\n",
       "    <tr style=\"text-align: right;\">\n",
       "      <th></th>\n",
       "      <th>user_id</th>\n",
       "      <th>country_cd</th>\n",
       "      <th>gender</th>\n",
       "      <th>nationality</th>\n",
       "      <th>platform_type_name</th>\n",
       "      <th>trading_experience</th>\n",
       "      <th>title</th>\n",
       "      <th>network</th>\n",
       "      <th>bux_account_created_dts</th>\n",
       "      <th>account_type</th>\n",
       "      <th>ams_first_funded_dts</th>\n",
       "      <th>initial_deposit_amount</th>\n",
       "      <th>sum_deposits</th>\n",
       "      <th>cnt_deposits</th>\n",
       "      <th>bux_account_created_day</th>\n",
       "    </tr>\n",
       "  </thead>\n",
       "  <tbody>\n",
       "    <tr>\n",
       "      <th>0</th>\n",
       "      <td>031b0f17-9a45-4b1b-b7b4-027802ffad95</td>\n",
       "      <td>DE</td>\n",
       "      <td>MALE</td>\n",
       "      <td>DE</td>\n",
       "      <td>iOS</td>\n",
       "      <td>SOME</td>\n",
       "      <td>Experienced Trader</td>\n",
       "      <td>Appnext</td>\n",
       "      <td>2017-02-03 21:10:20.056</td>\n",
       "      <td>SERIOUS_BUX</td>\n",
       "      <td>2017-02-13 22:11:52.000</td>\n",
       "      <td>450.0</td>\n",
       "      <td>450.0</td>\n",
       "      <td>1.0</td>\n",
       "      <td>3</td>\n",
       "    </tr>\n",
       "    <tr>\n",
       "      <th>1</th>\n",
       "      <td>010e236f-8ab5-4681-a146-273531d19d54</td>\n",
       "      <td>AT</td>\n",
       "      <td>NaN</td>\n",
       "      <td>NaN</td>\n",
       "      <td>Android</td>\n",
       "      <td>NONE</td>\n",
       "      <td>Rookie Trader</td>\n",
       "      <td>Organic</td>\n",
       "      <td>2017-02-01 16:33:27.777</td>\n",
       "      <td>FUN_BUX</td>\n",
       "      <td>NaN</td>\n",
       "      <td>NaN</td>\n",
       "      <td>NaN</td>\n",
       "      <td>NaN</td>\n",
       "      <td>1</td>\n",
       "    </tr>\n",
       "    <tr>\n",
       "      <th>2</th>\n",
       "      <td>011f6526-ab7e-4790-b289-5fa1faf69bc3</td>\n",
       "      <td>AT</td>\n",
       "      <td>NaN</td>\n",
       "      <td>NaN</td>\n",
       "      <td>Android</td>\n",
       "      <td>NONE</td>\n",
       "      <td>Rookie Trader</td>\n",
       "      <td>Viral Invites</td>\n",
       "      <td>2017-02-26 11:55:06.928</td>\n",
       "      <td>FUN_BUX</td>\n",
       "      <td>NaN</td>\n",
       "      <td>NaN</td>\n",
       "      <td>NaN</td>\n",
       "      <td>NaN</td>\n",
       "      <td>26</td>\n",
       "    </tr>\n",
       "    <tr>\n",
       "      <th>3</th>\n",
       "      <td>0231bd62-6733-4f8b-9c57-87f4eb9e0aa1</td>\n",
       "      <td>AT</td>\n",
       "      <td>NaN</td>\n",
       "      <td>NaN</td>\n",
       "      <td>Android</td>\n",
       "      <td>NONE</td>\n",
       "      <td>Rookie Trader</td>\n",
       "      <td>Facebook Installs</td>\n",
       "      <td>2017-02-17 23:14:11.280</td>\n",
       "      <td>FUN_BUX</td>\n",
       "      <td>NaN</td>\n",
       "      <td>NaN</td>\n",
       "      <td>NaN</td>\n",
       "      <td>NaN</td>\n",
       "      <td>17</td>\n",
       "    </tr>\n",
       "    <tr>\n",
       "      <th>4</th>\n",
       "      <td>028e03b9-ab6d-4ede-85f2-ce6b6e38ad47</td>\n",
       "      <td>AT</td>\n",
       "      <td>NaN</td>\n",
       "      <td>NaN</td>\n",
       "      <td>Android</td>\n",
       "      <td>NONE</td>\n",
       "      <td>Rookie Trader</td>\n",
       "      <td>Facebook Installs</td>\n",
       "      <td>2017-02-20 10:30:34.584</td>\n",
       "      <td>FUN_BUX</td>\n",
       "      <td>NaN</td>\n",
       "      <td>NaN</td>\n",
       "      <td>NaN</td>\n",
       "      <td>NaN</td>\n",
       "      <td>20</td>\n",
       "    </tr>\n",
       "  </tbody>\n",
       "</table>\n",
       "</div>"
      ],
      "text/plain": [
       "                                user_id country_cd gender nationality  \\\n",
       "0  031b0f17-9a45-4b1b-b7b4-027802ffad95         DE   MALE          DE   \n",
       "1  010e236f-8ab5-4681-a146-273531d19d54         AT    NaN         NaN   \n",
       "2  011f6526-ab7e-4790-b289-5fa1faf69bc3         AT    NaN         NaN   \n",
       "3  0231bd62-6733-4f8b-9c57-87f4eb9e0aa1         AT    NaN         NaN   \n",
       "4  028e03b9-ab6d-4ede-85f2-ce6b6e38ad47         AT    NaN         NaN   \n",
       "\n",
       "  platform_type_name trading_experience               title  \\\n",
       "0                iOS               SOME  Experienced Trader   \n",
       "1            Android               NONE       Rookie Trader   \n",
       "2            Android               NONE       Rookie Trader   \n",
       "3            Android               NONE       Rookie Trader   \n",
       "4            Android               NONE       Rookie Trader   \n",
       "\n",
       "             network bux_account_created_dts account_type  \\\n",
       "0            Appnext 2017-02-03 21:10:20.056  SERIOUS_BUX   \n",
       "1            Organic 2017-02-01 16:33:27.777      FUN_BUX   \n",
       "2      Viral Invites 2017-02-26 11:55:06.928      FUN_BUX   \n",
       "3  Facebook Installs 2017-02-17 23:14:11.280      FUN_BUX   \n",
       "4  Facebook Installs 2017-02-20 10:30:34.584      FUN_BUX   \n",
       "\n",
       "      ams_first_funded_dts  initial_deposit_amount  sum_deposits  \\\n",
       "0  2017-02-13 22:11:52.000                   450.0         450.0   \n",
       "1                      NaN                     NaN           NaN   \n",
       "2                      NaN                     NaN           NaN   \n",
       "3                      NaN                     NaN           NaN   \n",
       "4                      NaN                     NaN           NaN   \n",
       "\n",
       "   cnt_deposits  bux_account_created_day  \n",
       "0           1.0                        3  \n",
       "1           NaN                        1  \n",
       "2           NaN                       26  \n",
       "3           NaN                       17  \n",
       "4           NaN                       20  "
      ]
     },
     "execution_count": 396,
     "metadata": {},
     "output_type": "execute_result"
    }
   ],
   "source": [
    "users[0:5]"
   ]
  },
  {
   "cell_type": "code",
   "execution_count": 397,
   "metadata": {
    "collapsed": false
   },
   "outputs": [
    {
     "data": {
      "text/html": [
       "<div>\n",
       "<style>\n",
       "    .dataframe thead tr:only-child th {\n",
       "        text-align: right;\n",
       "    }\n",
       "\n",
       "    .dataframe thead th {\n",
       "        text-align: left;\n",
       "    }\n",
       "\n",
       "    .dataframe tbody tr th {\n",
       "        vertical-align: top;\n",
       "    }\n",
       "</style>\n",
       "<table border=\"1\" class=\"dataframe\">\n",
       "  <thead>\n",
       "    <tr style=\"text-align: right;\">\n",
       "      <th></th>\n",
       "      <th>index</th>\n",
       "      <th>user_id</th>\n",
       "      <th>day_of_year</th>\n",
       "      <th>date</th>\n",
       "      <th>number_of_sessions</th>\n",
       "      <th>total_session_duration</th>\n",
       "      <th>account_status</th>\n",
       "      <th>trades_fb_commodities_open</th>\n",
       "      <th>trades_fb_commodities_profit</th>\n",
       "      <th>social_status_battles</th>\n",
       "      <th>social_status</th>\n",
       "      <th>conversion_to_sb</th>\n",
       "    </tr>\n",
       "  </thead>\n",
       "  <tbody>\n",
       "    <tr>\n",
       "      <th>0</th>\n",
       "      <td>0</td>\n",
       "      <td>000c5e5d-4e25-412d-951b-31167045eb95</td>\n",
       "      <td>60</td>\n",
       "      <td>2017-03-01</td>\n",
       "      <td>0</td>\n",
       "      <td>0</td>\n",
       "      <td>FUN_BUX</td>\n",
       "      <td>0</td>\n",
       "      <td>0.0</td>\n",
       "      <td>0</td>\n",
       "      <td>Following</td>\n",
       "      <td>0</td>\n",
       "    </tr>\n",
       "    <tr>\n",
       "      <th>1</th>\n",
       "      <td>1</td>\n",
       "      <td>000c5e5d-4e25-412d-951b-31167045eb95</td>\n",
       "      <td>61</td>\n",
       "      <td>2017-03-02</td>\n",
       "      <td>0</td>\n",
       "      <td>0</td>\n",
       "      <td>FUN_BUX</td>\n",
       "      <td>0</td>\n",
       "      <td>0.0</td>\n",
       "      <td>0</td>\n",
       "      <td>Following</td>\n",
       "      <td>0</td>\n",
       "    </tr>\n",
       "    <tr>\n",
       "      <th>2</th>\n",
       "      <td>2</td>\n",
       "      <td>000c5e5d-4e25-412d-951b-31167045eb95</td>\n",
       "      <td>62</td>\n",
       "      <td>2017-03-03</td>\n",
       "      <td>0</td>\n",
       "      <td>0</td>\n",
       "      <td>FUN_BUX</td>\n",
       "      <td>0</td>\n",
       "      <td>0.0</td>\n",
       "      <td>0</td>\n",
       "      <td>Following</td>\n",
       "      <td>0</td>\n",
       "    </tr>\n",
       "    <tr>\n",
       "      <th>3</th>\n",
       "      <td>3</td>\n",
       "      <td>000c5e5d-4e25-412d-951b-31167045eb95</td>\n",
       "      <td>65</td>\n",
       "      <td>2017-03-06</td>\n",
       "      <td>0</td>\n",
       "      <td>0</td>\n",
       "      <td>FUN_BUX</td>\n",
       "      <td>0</td>\n",
       "      <td>0.0</td>\n",
       "      <td>0</td>\n",
       "      <td>Following</td>\n",
       "      <td>0</td>\n",
       "    </tr>\n",
       "    <tr>\n",
       "      <th>4</th>\n",
       "      <td>4</td>\n",
       "      <td>000c5e5d-4e25-412d-951b-31167045eb95</td>\n",
       "      <td>66</td>\n",
       "      <td>2017-03-07</td>\n",
       "      <td>0</td>\n",
       "      <td>0</td>\n",
       "      <td>FUN_BUX</td>\n",
       "      <td>0</td>\n",
       "      <td>0.0</td>\n",
       "      <td>0</td>\n",
       "      <td>Following</td>\n",
       "      <td>0</td>\n",
       "    </tr>\n",
       "  </tbody>\n",
       "</table>\n",
       "</div>"
      ],
      "text/plain": [
       "   index                               user_id  day_of_year       date  \\\n",
       "0      0  000c5e5d-4e25-412d-951b-31167045eb95           60 2017-03-01   \n",
       "1      1  000c5e5d-4e25-412d-951b-31167045eb95           61 2017-03-02   \n",
       "2      2  000c5e5d-4e25-412d-951b-31167045eb95           62 2017-03-03   \n",
       "3      3  000c5e5d-4e25-412d-951b-31167045eb95           65 2017-03-06   \n",
       "4      4  000c5e5d-4e25-412d-951b-31167045eb95           66 2017-03-07   \n",
       "\n",
       "   number_of_sessions  total_session_duration account_status  \\\n",
       "0                   0                       0        FUN_BUX   \n",
       "1                   0                       0        FUN_BUX   \n",
       "2                   0                       0        FUN_BUX   \n",
       "3                   0                       0        FUN_BUX   \n",
       "4                   0                       0        FUN_BUX   \n",
       "\n",
       "   trades_fb_commodities_open  trades_fb_commodities_profit  \\\n",
       "0                           0                           0.0   \n",
       "1                           0                           0.0   \n",
       "2                           0                           0.0   \n",
       "3                           0                           0.0   \n",
       "4                           0                           0.0   \n",
       "\n",
       "   social_status_battles social_status  conversion_to_sb  \n",
       "0                      0     Following                 0  \n",
       "1                      0     Following                 0  \n",
       "2                      0     Following                 0  \n",
       "3                      0     Following                 0  \n",
       "4                      0     Following                 0  "
      ]
     },
     "execution_count": 397,
     "metadata": {},
     "output_type": "execute_result"
    }
   ],
   "source": [
    "transactions[0:5]"
   ]
  },
  {
   "cell_type": "code",
   "execution_count": 398,
   "metadata": {
    "collapsed": false
   },
   "outputs": [
    {
     "data": {
      "text/html": [
       "<div>\n",
       "<style>\n",
       "    .dataframe thead tr:only-child th {\n",
       "        text-align: right;\n",
       "    }\n",
       "\n",
       "    .dataframe thead th {\n",
       "        text-align: left;\n",
       "    }\n",
       "\n",
       "    .dataframe tbody tr th {\n",
       "        vertical-align: top;\n",
       "    }\n",
       "</style>\n",
       "<table border=\"1\" class=\"dataframe\">\n",
       "  <thead>\n",
       "    <tr style=\"text-align: right;\">\n",
       "      <th></th>\n",
       "      <th>user_id</th>\n",
       "      <th>curcv</th>\n",
       "    </tr>\n",
       "  </thead>\n",
       "  <tbody>\n",
       "    <tr>\n",
       "      <th>0</th>\n",
       "      <td>3e675443-9762-4137-b92e-3cbcea38e44a</td>\n",
       "      <td>0.0</td>\n",
       "    </tr>\n",
       "    <tr>\n",
       "      <th>1</th>\n",
       "      <td>0de77d85-f73d-4798-90e2-7bc4de4f74dd</td>\n",
       "      <td>0.0</td>\n",
       "    </tr>\n",
       "    <tr>\n",
       "      <th>2</th>\n",
       "      <td>6f40a1bf-1d49-4d6a-8c6f-683526189f9e</td>\n",
       "      <td>0.0</td>\n",
       "    </tr>\n",
       "    <tr>\n",
       "      <th>3</th>\n",
       "      <td>20544428-b6fa-46be-9b82-25d064e3650f</td>\n",
       "      <td>0.0</td>\n",
       "    </tr>\n",
       "    <tr>\n",
       "      <th>4</th>\n",
       "      <td>076e3239-a377-4cbb-81ed-8f16a3197a5d</td>\n",
       "      <td>0.0</td>\n",
       "    </tr>\n",
       "  </tbody>\n",
       "</table>\n",
       "</div>"
      ],
      "text/plain": [
       "                                user_id  curcv\n",
       "0  3e675443-9762-4137-b92e-3cbcea38e44a    0.0\n",
       "1  0de77d85-f73d-4798-90e2-7bc4de4f74dd    0.0\n",
       "2  6f40a1bf-1d49-4d6a-8c6f-683526189f9e    0.0\n",
       "3  20544428-b6fa-46be-9b82-25d064e3650f    0.0\n",
       "4  076e3239-a377-4cbb-81ed-8f16a3197a5d    0.0"
      ]
     },
     "execution_count": 398,
     "metadata": {},
     "output_type": "execute_result"
    }
   ],
   "source": [
    "CurCV.head()"
   ]
  },
  {
   "cell_type": "code",
   "execution_count": 399,
   "metadata": {
    "collapsed": true
   },
   "outputs": [],
   "source": [
    "es = ft.EntitySet(\"bux_cltv\")"
   ]
  },
  {
   "cell_type": "code",
   "execution_count": 400,
   "metadata": {
    "collapsed": false
   },
   "outputs": [
    {
     "data": {
      "text/plain": [
       "Entityset: bux_cltv\n",
       "  Entities:\n",
       "    users (shape = [58839, 15])\n",
       "  Relationships:\n",
       "    No relationships"
      ]
     },
     "execution_count": 400,
     "metadata": {},
     "output_type": "execute_result"
    }
   ],
   "source": [
    "es.entity_from_dataframe(entity_id='users',\n",
    "                        dataframe=users,\n",
    "                        index='user_id',\n",
    "                        time_index='bux_account_created_dts')"
   ]
  },
  {
   "cell_type": "code",
   "execution_count": 401,
   "metadata": {
    "collapsed": false
   },
   "outputs": [
    {
     "data": {
      "text/plain": [
       "Entityset: bux_cltv\n",
       "  Entities:\n",
       "    users (shape = [58839, 15])\n",
       "    transactions (shape = [370117, 12])\n",
       "  Relationships:\n",
       "    No relationships"
      ]
     },
     "execution_count": 401,
     "metadata": {},
     "output_type": "execute_result"
    }
   ],
   "source": [
    "es.entity_from_dataframe(entity_id='transactions',\n",
    "                        dataframe=transactions,\n",
    "                        index='index',\n",
    "                        time_index='date')"
   ]
  },
  {
   "cell_type": "code",
   "execution_count": 402,
   "metadata": {
    "collapsed": false
   },
   "outputs": [
    {
     "data": {
      "text/plain": [
       "Entityset: bux_cltv\n",
       "  Entities:\n",
       "    users (shape = [58839, 15])\n",
       "    transactions (shape = [370117, 12])\n",
       "  Relationships:\n",
       "    transactions.user_id -> users.user_id"
      ]
     },
     "execution_count": 402,
     "metadata": {},
     "output_type": "execute_result"
    }
   ],
   "source": [
    "es.add_relationship(ft.Relationship(es['users']['user_id'], es['transactions']['user_id']))"
   ]
  },
  {
   "cell_type": "markdown",
   "metadata": {
    "collapsed": true
   },
   "source": [
    "## Building labels"
   ]
  },
  {
   "cell_type": "code",
   "execution_count": 403,
   "metadata": {
    "collapsed": true
   },
   "outputs": [],
   "source": [
    "# rebalancing (R), visualization\n",
    "# https://shiring.github.io/machine_learning/2017/04/02/unbalanced"
   ]
  },
  {
   "cell_type": "markdown",
   "metadata": {},
   "source": [
    "- #### First, we'll separate observations from each class into different DataFrames.\n",
    "- #### Next, we'll resample the minority class with replacement, setting the number of samples to match that of the majority class.\n",
    "- #### Finally, we'll combine the up-sampled minority class DataFrame with the original majority class DataFrame."
   ]
  },
  {
   "cell_type": "code",
   "execution_count": 404,
   "metadata": {
    "collapsed": false
   },
   "outputs": [
    {
     "data": {
      "text/plain": [
       "53.242400000000046"
      ]
     },
     "execution_count": 404,
     "metadata": {},
     "output_type": "execute_result"
    }
   ],
   "source": [
    "# 70 euros 1 year customer value-> a user whale or not whale\n",
    "whale_threshold = CurCV['curcv'].quantile(0.99)\n",
    "whale_threshold"
   ]
  },
  {
   "cell_type": "code",
   "execution_count": 405,
   "metadata": {
    "collapsed": false
   },
   "outputs": [],
   "source": [
    "CurCV['whale'] = (CurCV['curcv'] > whale_threshold).astype(int)"
   ]
  },
  {
   "cell_type": "code",
   "execution_count": 406,
   "metadata": {
    "collapsed": false
   },
   "outputs": [
    {
     "data": {
      "text/plain": [
       "0    58250\n",
       "1      589\n",
       "Name: whale, dtype: int64"
      ]
     },
     "execution_count": 406,
     "metadata": {},
     "output_type": "execute_result"
    }
   ],
   "source": [
    "CurCV['whale'].value_counts()"
   ]
  },
  {
   "cell_type": "code",
   "execution_count": 407,
   "metadata": {
    "collapsed": false
   },
   "outputs": [
    {
     "data": {
      "text/plain": [
       "589"
      ]
     },
     "execution_count": 407,
     "metadata": {},
     "output_type": "execute_result"
    }
   ],
   "source": [
    "# number of whales\n",
    "whales = CurCV[CurCV['curcv'] >= whale_threshold]\n",
    "len(whales)"
   ]
  },
  {
   "cell_type": "code",
   "execution_count": 408,
   "metadata": {
    "collapsed": false
   },
   "outputs": [
    {
     "data": {
      "text/plain": [
       "58250"
      ]
     },
     "execution_count": 408,
     "metadata": {},
     "output_type": "execute_result"
    }
   ],
   "source": [
    "non_whales = CurCV[CurCV['curcv'] < whale_threshold]\n",
    "len(non_whales)"
   ]
  },
  {
   "cell_type": "code",
   "execution_count": 409,
   "metadata": {
    "collapsed": false
   },
   "outputs": [
    {
     "data": {
      "text/plain": [
       "(6.510798789918253, 0.0)"
      ]
     },
     "execution_count": 409,
     "metadata": {},
     "output_type": "execute_result"
    }
   ],
   "source": [
    "# 6m CV\n",
    "CurCV['curcv'].mean(), CurCV['curcv'].median()"
   ]
  },
  {
   "cell_type": "code",
   "execution_count": 410,
   "metadata": {
    "collapsed": false
   },
   "outputs": [
    {
     "data": {
      "text/plain": [
       "383088.8900000001"
      ]
     },
     "execution_count": 410,
     "metadata": {},
     "output_type": "execute_result"
    }
   ],
   "source": [
    "# cohort value\n",
    "CurCV['curcv'].sum()"
   ]
  },
  {
   "cell_type": "code",
   "execution_count": 411,
   "metadata": {
    "collapsed": false
   },
   "outputs": [
    {
     "data": {
      "text/plain": [
       "39186.110000000001"
      ]
     },
     "execution_count": 411,
     "metadata": {},
     "output_type": "execute_result"
    }
   ],
   "source": [
    "# max value\n",
    "CurCV['curcv'].max()"
   ]
  },
  {
   "cell_type": "code",
   "execution_count": 412,
   "metadata": {
    "collapsed": false
   },
   "outputs": [
    {
     "data": {
      "text/html": [
       "<div>\n",
       "<style>\n",
       "    .dataframe thead tr:only-child th {\n",
       "        text-align: right;\n",
       "    }\n",
       "\n",
       "    .dataframe thead th {\n",
       "        text-align: left;\n",
       "    }\n",
       "\n",
       "    .dataframe tbody tr th {\n",
       "        vertical-align: top;\n",
       "    }\n",
       "</style>\n",
       "<table border=\"1\" class=\"dataframe\">\n",
       "  <thead>\n",
       "    <tr style=\"text-align: right;\">\n",
       "      <th></th>\n",
       "      <th>user_id</th>\n",
       "      <th>curcv</th>\n",
       "      <th>whale</th>\n",
       "    </tr>\n",
       "  </thead>\n",
       "  <tbody>\n",
       "    <tr>\n",
       "      <th>0</th>\n",
       "      <td>3e675443-9762-4137-b92e-3cbcea38e44a</td>\n",
       "      <td>0.0</td>\n",
       "      <td>0</td>\n",
       "    </tr>\n",
       "    <tr>\n",
       "      <th>1</th>\n",
       "      <td>0de77d85-f73d-4798-90e2-7bc4de4f74dd</td>\n",
       "      <td>0.0</td>\n",
       "      <td>0</td>\n",
       "    </tr>\n",
       "    <tr>\n",
       "      <th>2</th>\n",
       "      <td>6f40a1bf-1d49-4d6a-8c6f-683526189f9e</td>\n",
       "      <td>0.0</td>\n",
       "      <td>0</td>\n",
       "    </tr>\n",
       "    <tr>\n",
       "      <th>3</th>\n",
       "      <td>20544428-b6fa-46be-9b82-25d064e3650f</td>\n",
       "      <td>0.0</td>\n",
       "      <td>0</td>\n",
       "    </tr>\n",
       "    <tr>\n",
       "      <th>4</th>\n",
       "      <td>076e3239-a377-4cbb-81ed-8f16a3197a5d</td>\n",
       "      <td>0.0</td>\n",
       "      <td>0</td>\n",
       "    </tr>\n",
       "  </tbody>\n",
       "</table>\n",
       "</div>"
      ],
      "text/plain": [
       "                                user_id  curcv  whale\n",
       "0  3e675443-9762-4137-b92e-3cbcea38e44a    0.0      0\n",
       "1  0de77d85-f73d-4798-90e2-7bc4de4f74dd    0.0      0\n",
       "2  6f40a1bf-1d49-4d6a-8c6f-683526189f9e    0.0      0\n",
       "3  20544428-b6fa-46be-9b82-25d064e3650f    0.0      0\n",
       "4  076e3239-a377-4cbb-81ed-8f16a3197a5d    0.0      0"
      ]
     },
     "execution_count": 412,
     "metadata": {},
     "output_type": "execute_result"
    }
   ],
   "source": [
    "CurCV.head()"
   ]
  },
  {
   "cell_type": "code",
   "execution_count": 413,
   "metadata": {
    "collapsed": false
   },
   "outputs": [
    {
     "data": {
      "text/plain": [
       "1"
      ]
     },
     "execution_count": 413,
     "metadata": {},
     "output_type": "execute_result"
    }
   ],
   "source": [
    "len(CurCV[CurCV[\"user_id\"] == \"70c15a3e-b516-4aca-bea2-aa909a4a16d2\"])"
   ]
  },
  {
   "cell_type": "code",
   "execution_count": 414,
   "metadata": {
    "collapsed": false
   },
   "outputs": [
    {
     "data": {
      "text/plain": [
       "1    58250\n",
       "0    58250\n",
       "Name: whale, dtype: int64"
      ]
     },
     "execution_count": 414,
     "metadata": {},
     "output_type": "execute_result"
    }
   ],
   "source": [
    "# Separate majority and minority classes\n",
    "CurCV_majority = CurCV[CurCV[\"whale\"] == 0 ]\n",
    "CurCV_minority = CurCV[CurCV[\"whale\"] == 1 ]\n",
    " \n",
    "# Upsample minority class\n",
    "CurCV_minority_upsampled = resample(CurCV_minority, \n",
    "                                 replace=True,     # sample with replacement\n",
    "                                 n_samples=len(CurCV[CurCV[\"whale\"] == 0]),    # to match majority class\n",
    "                                 random_state=123) # reproducible results\n",
    " \n",
    "# Combine majority class with upsampled minority class\n",
    "CurCV_upsampled = pd.concat([CurCV_majority, CurCV_minority_upsampled])\n",
    " \n",
    "# Display new class counts\n",
    "CurCV_upsampled[\"whale\"].value_counts()"
   ]
  },
  {
   "cell_type": "code",
   "execution_count": 415,
   "metadata": {
    "collapsed": false
   },
   "outputs": [
    {
     "data": {
      "text/plain": [
       "93"
      ]
     },
     "execution_count": 415,
     "metadata": {},
     "output_type": "execute_result"
    }
   ],
   "source": [
    "len(CurCV_upsampled[CurCV_upsampled[\"user_id\"] == \"70c15a3e-b516-4aca-bea2-aa909a4a16d2\"])"
   ]
  },
  {
   "cell_type": "code",
   "execution_count": 416,
   "metadata": {
    "collapsed": false
   },
   "outputs": [],
   "source": [
    "# CurCV['whale'].plot(kind='bar')"
   ]
  },
  {
   "cell_type": "markdown",
   "metadata": {},
   "source": [
    "- Training window = the amount of historical data we want to use when calculating features\n",
    "- cutoff_time = the point in time to calculate the features\n",
    "\n",
    "We use cutoff times to avoid the risk of leaking labels into prediction"
   ]
  },
  {
   "cell_type": "code",
   "execution_count": 417,
   "metadata": {
    "collapsed": false
   },
   "outputs": [
    {
     "data": {
      "text/plain": [
       "(numpy.datetime64('2017-02-01T00:00:00.000000000'),\n",
       " numpy.datetime64('2017-03-22T00:00:00.000000000'))"
      ]
     },
     "execution_count": 417,
     "metadata": {},
     "output_type": "execute_result"
    }
   ],
   "source": [
    "min(transactions['date'].unique()), max(transactions['date'].unique())"
   ]
  },
  {
   "cell_type": "code",
   "execution_count": 418,
   "metadata": {
    "collapsed": false
   },
   "outputs": [
    {
     "data": {
      "text/plain": [
       "'\\n\\ncutoff_time = pd.Timestamp(\\'Feb 10, 2017\\')\\n# 1 month prediction window\\nprediction_window = ft.Timedelta(\"3 weeks\")\\n# 6 months of training data\\ntraining_window = ft.Timedelta(\"10 days\")\\n\\nprediction_window_end = cutoff_time + prediction_window\\nt_start = cutoff_time - training_window\\n\\n\\ncutoff_time = pd.Timestamp(\\'Mar 1, 2017\\')\\n# 1 month prediction window\\nprediction_window = ft.Timedelta(\"1 day\")\\n# 6 months of training data\\ntraining_window = ft.Timedelta(\"4 weeks\")\\n\\nprediction_window_end = cutoff_time + prediction_window\\nt_start = cutoff_time - training_window\\nprediction_window_end\\n\\nt_start\\ntransactions.head()\\n\\n'"
      ]
     },
     "execution_count": 418,
     "metadata": {},
     "output_type": "execute_result"
    }
   ],
   "source": [
    "\"\"\"\n",
    "\n",
    "cutoff_time = pd.Timestamp('Feb 10, 2017')\n",
    "# 1 month prediction window\n",
    "prediction_window = ft.Timedelta(\"3 weeks\")\n",
    "# 6 months of training data\n",
    "training_window = ft.Timedelta(\"10 days\")\n",
    "\n",
    "prediction_window_end = cutoff_time + prediction_window\n",
    "t_start = cutoff_time - training_window\n",
    "\n",
    "\n",
    "cutoff_time = pd.Timestamp('Mar 1, 2017')\n",
    "# 1 month prediction window\n",
    "prediction_window = ft.Timedelta(\"1 day\")\n",
    "# 6 months of training data\n",
    "training_window = ft.Timedelta(\"4 weeks\")\n",
    "\n",
    "prediction_window_end = cutoff_time + prediction_window\n",
    "t_start = cutoff_time - training_window\n",
    "prediction_window_end\n",
    "\n",
    "t_start\n",
    "transactions.head()\n",
    "\n",
    "\"\"\""
   ]
  },
  {
   "cell_type": "code",
   "execution_count": 419,
   "metadata": {
    "collapsed": false
   },
   "outputs": [
    {
     "data": {
      "text/plain": [
       "index\n",
       "1791   2017-02-01\n",
       "3120   2017-02-01\n",
       "3165   2017-02-01\n",
       "3225   2017-02-01\n",
       "3306   2017-02-01\n",
       "Name: date, dtype: datetime64[ns]"
      ]
     },
     "execution_count": 419,
     "metadata": {},
     "output_type": "execute_result"
    }
   ],
   "source": [
    "# transactions sorted by the date\n",
    "trans = es['transactions'].df\n",
    "trans['date'][0:5]"
   ]
  },
  {
   "cell_type": "code",
   "execution_count": 420,
   "metadata": {
    "collapsed": false
   },
   "outputs": [],
   "source": [
    "# # get the first launch of a user\n",
    "# # user_created = pd.DataFrame(trans.groupby('user_id')['date'].min()).reset_index()\n",
    "\n",
    "# user_last_event_last = pd.DataFrame(trans.groupby('user_id')['date'].max()).reset_index()\n",
    "# user_last_event_last = user_last_event_last['date'].max()\n",
    "# user_last_event_last"
   ]
  },
  {
   "cell_type": "code",
   "execution_count": 421,
   "metadata": {
    "collapsed": false
   },
   "outputs": [],
   "source": [
    "# cutoff_time = '2017-02-20'\n",
    "# users_in_training = user_created[user_created['date'] < cutoff_time]['user_id']\n",
    "# len(users_in_training)"
   ]
  },
  {
   "cell_type": "code",
   "execution_count": 422,
   "metadata": {
    "collapsed": false
   },
   "outputs": [],
   "source": [
    "# training_data = trans[trans['user_id'].isin(users_in_training)]\n",
    "# validation_data = trans[~trans['user_id'].isin(users_in_training)]"
   ]
  },
  {
   "cell_type": "code",
   "execution_count": 423,
   "metadata": {
    "collapsed": false
   },
   "outputs": [],
   "source": [
    "# len(training_data)"
   ]
  },
  {
   "cell_type": "code",
   "execution_count": 424,
   "metadata": {
    "collapsed": false
   },
   "outputs": [],
   "source": [
    "# len(validation_data)"
   ]
  },
  {
   "cell_type": "code",
   "execution_count": 425,
   "metadata": {
    "collapsed": false
   },
   "outputs": [],
   "source": [
    "# # the raw feature values\n",
    "# training_data = trans[(trans['date'] <= cutoff_time) & (trans['date'] > t_start)]\n",
    "# # to compute the label\n",
    "# prediction_data = trans[(trans['date'] > cutoff_time) & (trans['date'] < prediction_window_end)]"
   ]
  },
  {
   "cell_type": "code",
   "execution_count": 426,
   "metadata": {
    "collapsed": true
   },
   "outputs": [],
   "source": [
    "# users_in_training = training_data['user_id'].unique()"
   ]
  },
  {
   "cell_type": "code",
   "execution_count": 427,
   "metadata": {
    "collapsed": false
   },
   "outputs": [],
   "source": [
    "# prediction_data['user_id'].isin(users_in_training)[0:5]"
   ]
  },
  {
   "cell_type": "code",
   "execution_count": 428,
   "metadata": {
    "collapsed": false
   },
   "outputs": [],
   "source": [
    "# ~something.isin(somewhere)\n",
    "# ~prediction_data['user_id'].isin(users_in_training)[0:5]"
   ]
  },
  {
   "cell_type": "code",
   "execution_count": 429,
   "metadata": {
    "collapsed": false
   },
   "outputs": [],
   "source": [
    "# valid_pred_data = prediction_data[~prediction_data['user_id'].isin(users_in_training)]"
   ]
  },
  {
   "cell_type": "code",
   "execution_count": 430,
   "metadata": {
    "collapsed": false
   },
   "outputs": [],
   "source": [
    "# len(training_data['user_id'].unique())"
   ]
  },
  {
   "cell_type": "code",
   "execution_count": 431,
   "metadata": {
    "collapsed": false
   },
   "outputs": [],
   "source": [
    "# len(valid_pred_data['user_id'].unique())"
   ]
  },
  {
   "cell_type": "code",
   "execution_count": 432,
   "metadata": {
    "collapsed": false
   },
   "outputs": [],
   "source": [
    "# label_times = CurCV[CurCV['user_id'].isin(users_in_training)][['user_id', 'whale']]\n",
    "# label_times = label_times.merge(user_created, on ='user_id')\n",
    "# label_times['cutoff_time'] = user_last_event_last\n",
    "# # label_times['cutoff_time'] =  label_times['date'] + datetime.timedelta(weeks=3)\n",
    "# # label_times['cutoff_time'] = cutoff_time\n",
    "# label_times.head()"
   ]
  },
  {
   "cell_type": "code",
   "execution_count": 433,
   "metadata": {
    "collapsed": false
   },
   "outputs": [],
   "source": [
    "# print(\" First launch:\", transactions[transactions['user_id'] == 'a9727139-75e6-41b0-8428-6b2a7d2ff893']['date'].min(), \"\\n\" ,\n",
    "#      \"Three weeks after first launch:\" + \" 3 weeks of usage: \", transactions[transactions['user_id'] == 'a9727139-75e6-41b0-8428-6b2a7d2ff893']['date'].min() + datetime.timedelta(weeks=3))"
   ]
  },
  {
   "cell_type": "markdown",
   "metadata": {},
   "source": [
    "## Automated feature engineering"
   ]
  },
  {
   "cell_type": "code",
   "execution_count": 434,
   "metadata": {
    "collapsed": false
   },
   "outputs": [
    {
     "data": {
      "text/html": [
       "<div>\n",
       "<style>\n",
       "    .dataframe thead tr:only-child th {\n",
       "        text-align: right;\n",
       "    }\n",
       "\n",
       "    .dataframe thead th {\n",
       "        text-align: left;\n",
       "    }\n",
       "\n",
       "    .dataframe tbody tr th {\n",
       "        vertical-align: top;\n",
       "    }\n",
       "</style>\n",
       "<table border=\"1\" class=\"dataframe\">\n",
       "  <thead>\n",
       "    <tr style=\"text-align: right;\">\n",
       "      <th></th>\n",
       "      <th>user_id</th>\n",
       "      <th>country_cd</th>\n",
       "      <th>gender</th>\n",
       "      <th>nationality</th>\n",
       "      <th>platform_type_name</th>\n",
       "      <th>trading_experience</th>\n",
       "      <th>title</th>\n",
       "      <th>network</th>\n",
       "      <th>bux_account_created_dts</th>\n",
       "      <th>account_type</th>\n",
       "      <th>ams_first_funded_dts</th>\n",
       "      <th>initial_deposit_amount</th>\n",
       "      <th>sum_deposits</th>\n",
       "      <th>cnt_deposits</th>\n",
       "      <th>bux_account_created_day</th>\n",
       "    </tr>\n",
       "    <tr>\n",
       "      <th>user_id</th>\n",
       "      <th></th>\n",
       "      <th></th>\n",
       "      <th></th>\n",
       "      <th></th>\n",
       "      <th></th>\n",
       "      <th></th>\n",
       "      <th></th>\n",
       "      <th></th>\n",
       "      <th></th>\n",
       "      <th></th>\n",
       "      <th></th>\n",
       "      <th></th>\n",
       "      <th></th>\n",
       "      <th></th>\n",
       "      <th></th>\n",
       "    </tr>\n",
       "  </thead>\n",
       "  <tbody>\n",
       "    <tr>\n",
       "      <th>65c8c310-d0f9-4e38-bc56-5228c8290755</th>\n",
       "      <td>65c8c310-d0f9-4e38-bc56-5228c8290755</td>\n",
       "      <td>DE</td>\n",
       "      <td>NaN</td>\n",
       "      <td>NaN</td>\n",
       "      <td>Android</td>\n",
       "      <td>NONE</td>\n",
       "      <td>Rookie Trader</td>\n",
       "      <td>Viral Invites</td>\n",
       "      <td>2017-02-01 00:02:28.610</td>\n",
       "      <td>FUN_BUX</td>\n",
       "      <td>NaT</td>\n",
       "      <td>NaN</td>\n",
       "      <td>NaN</td>\n",
       "      <td>NaN</td>\n",
       "      <td>1</td>\n",
       "    </tr>\n",
       "    <tr>\n",
       "      <th>72fda13b-6385-42e3-8607-e9df7d877b66</th>\n",
       "      <td>72fda13b-6385-42e3-8607-e9df7d877b66</td>\n",
       "      <td>DE</td>\n",
       "      <td>NaN</td>\n",
       "      <td>NaN</td>\n",
       "      <td>Android</td>\n",
       "      <td>NONE</td>\n",
       "      <td>Rookie Trader</td>\n",
       "      <td>Organic</td>\n",
       "      <td>2017-02-01 00:03:06.424</td>\n",
       "      <td>FUN_BUX</td>\n",
       "      <td>NaT</td>\n",
       "      <td>NaN</td>\n",
       "      <td>NaN</td>\n",
       "      <td>NaN</td>\n",
       "      <td>1</td>\n",
       "    </tr>\n",
       "    <tr>\n",
       "      <th>8a221199-30a2-4e3b-bd22-9832be66e482</th>\n",
       "      <td>8a221199-30a2-4e3b-bd22-9832be66e482</td>\n",
       "      <td>GB</td>\n",
       "      <td>MALE</td>\n",
       "      <td>GB</td>\n",
       "      <td>iOS</td>\n",
       "      <td>NONE</td>\n",
       "      <td>Rookie Trader</td>\n",
       "      <td>Organic</td>\n",
       "      <td>2017-02-01 00:03:12.324</td>\n",
       "      <td>SERIOUS_BUX</td>\n",
       "      <td>2017-02-08 21:17:30</td>\n",
       "      <td>50.0</td>\n",
       "      <td>250.0</td>\n",
       "      <td>4.0</td>\n",
       "      <td>1</td>\n",
       "    </tr>\n",
       "    <tr>\n",
       "      <th>f47e9b1b-0778-4809-98ff-008ad8df347a</th>\n",
       "      <td>f47e9b1b-0778-4809-98ff-008ad8df347a</td>\n",
       "      <td>DE</td>\n",
       "      <td>NaN</td>\n",
       "      <td>NaN</td>\n",
       "      <td>Android</td>\n",
       "      <td>NONE</td>\n",
       "      <td>Rookie Trader</td>\n",
       "      <td>Facebook Installs</td>\n",
       "      <td>2017-02-01 00:04:30.705</td>\n",
       "      <td>FUN_BUX</td>\n",
       "      <td>NaT</td>\n",
       "      <td>NaN</td>\n",
       "      <td>NaN</td>\n",
       "      <td>NaN</td>\n",
       "      <td>1</td>\n",
       "    </tr>\n",
       "    <tr>\n",
       "      <th>1c4c7025-5ca7-445d-ad9d-22fd397944e3</th>\n",
       "      <td>1c4c7025-5ca7-445d-ad9d-22fd397944e3</td>\n",
       "      <td>DE</td>\n",
       "      <td>NaN</td>\n",
       "      <td>NaN</td>\n",
       "      <td>Android</td>\n",
       "      <td>NONE</td>\n",
       "      <td>Rookie Trader</td>\n",
       "      <td>Viral Invites</td>\n",
       "      <td>2017-02-01 00:05:25.479</td>\n",
       "      <td>FUN_BUX</td>\n",
       "      <td>NaT</td>\n",
       "      <td>NaN</td>\n",
       "      <td>NaN</td>\n",
       "      <td>NaN</td>\n",
       "      <td>1</td>\n",
       "    </tr>\n",
       "    <tr>\n",
       "      <th>390f4493-89f7-46aa-b717-49ac81f630f7</th>\n",
       "      <td>390f4493-89f7-46aa-b717-49ac81f630f7</td>\n",
       "      <td>DE</td>\n",
       "      <td>NaN</td>\n",
       "      <td>NaN</td>\n",
       "      <td>iOS</td>\n",
       "      <td>NONE</td>\n",
       "      <td>Rookie Trader</td>\n",
       "      <td>Viral Invites</td>\n",
       "      <td>2017-02-01 00:05:26.389</td>\n",
       "      <td>FUN_BUX</td>\n",
       "      <td>NaT</td>\n",
       "      <td>NaN</td>\n",
       "      <td>NaN</td>\n",
       "      <td>NaN</td>\n",
       "      <td>1</td>\n",
       "    </tr>\n",
       "    <tr>\n",
       "      <th>80505c8e-2f64-4f79-bf3e-72e5acf86986</th>\n",
       "      <td>80505c8e-2f64-4f79-bf3e-72e5acf86986</td>\n",
       "      <td>DE</td>\n",
       "      <td>NaN</td>\n",
       "      <td>NaN</td>\n",
       "      <td>iOS</td>\n",
       "      <td>NONE</td>\n",
       "      <td>Rookie Trader</td>\n",
       "      <td>Organic</td>\n",
       "      <td>2017-02-01 00:05:36.067</td>\n",
       "      <td>FUN_BUX</td>\n",
       "      <td>NaT</td>\n",
       "      <td>NaN</td>\n",
       "      <td>NaN</td>\n",
       "      <td>NaN</td>\n",
       "      <td>1</td>\n",
       "    </tr>\n",
       "    <tr>\n",
       "      <th>1322c37f-b82e-475c-971c-12166b50ff5d</th>\n",
       "      <td>1322c37f-b82e-475c-971c-12166b50ff5d</td>\n",
       "      <td>DE</td>\n",
       "      <td>NaN</td>\n",
       "      <td>NaN</td>\n",
       "      <td>iOS</td>\n",
       "      <td>NONE</td>\n",
       "      <td>Rookie Trader</td>\n",
       "      <td>Facebook Installs</td>\n",
       "      <td>2017-02-01 00:05:45.406</td>\n",
       "      <td>FUN_BUX</td>\n",
       "      <td>NaT</td>\n",
       "      <td>NaN</td>\n",
       "      <td>NaN</td>\n",
       "      <td>NaN</td>\n",
       "      <td>1</td>\n",
       "    </tr>\n",
       "    <tr>\n",
       "      <th>1f84ae24-a906-4eef-a6b4-141c268ec727</th>\n",
       "      <td>1f84ae24-a906-4eef-a6b4-141c268ec727</td>\n",
       "      <td>DE</td>\n",
       "      <td>NaN</td>\n",
       "      <td>NaN</td>\n",
       "      <td>Android</td>\n",
       "      <td>NONE</td>\n",
       "      <td>Rookie Trader</td>\n",
       "      <td>Organic</td>\n",
       "      <td>2017-02-01 00:06:14.630</td>\n",
       "      <td>FUN_BUX</td>\n",
       "      <td>NaT</td>\n",
       "      <td>NaN</td>\n",
       "      <td>NaN</td>\n",
       "      <td>NaN</td>\n",
       "      <td>1</td>\n",
       "    </tr>\n",
       "    <tr>\n",
       "      <th>9a06ddd4-14be-475e-a0e5-a5dd185ecf66</th>\n",
       "      <td>9a06ddd4-14be-475e-a0e5-a5dd185ecf66</td>\n",
       "      <td>DK</td>\n",
       "      <td>MALE</td>\n",
       "      <td>DK</td>\n",
       "      <td>iOS</td>\n",
       "      <td>NONE</td>\n",
       "      <td>Rookie Trader</td>\n",
       "      <td>Facebook Installs</td>\n",
       "      <td>2017-02-01 00:06:32.373</td>\n",
       "      <td>FUN_BUX</td>\n",
       "      <td>NaT</td>\n",
       "      <td>NaN</td>\n",
       "      <td>NaN</td>\n",
       "      <td>NaN</td>\n",
       "      <td>1</td>\n",
       "    </tr>\n",
       "  </tbody>\n",
       "</table>\n",
       "</div>"
      ],
      "text/plain": [
       "                                                                   user_id  \\\n",
       "user_id                                                                      \n",
       "65c8c310-d0f9-4e38-bc56-5228c8290755  65c8c310-d0f9-4e38-bc56-5228c8290755   \n",
       "72fda13b-6385-42e3-8607-e9df7d877b66  72fda13b-6385-42e3-8607-e9df7d877b66   \n",
       "8a221199-30a2-4e3b-bd22-9832be66e482  8a221199-30a2-4e3b-bd22-9832be66e482   \n",
       "f47e9b1b-0778-4809-98ff-008ad8df347a  f47e9b1b-0778-4809-98ff-008ad8df347a   \n",
       "1c4c7025-5ca7-445d-ad9d-22fd397944e3  1c4c7025-5ca7-445d-ad9d-22fd397944e3   \n",
       "390f4493-89f7-46aa-b717-49ac81f630f7  390f4493-89f7-46aa-b717-49ac81f630f7   \n",
       "80505c8e-2f64-4f79-bf3e-72e5acf86986  80505c8e-2f64-4f79-bf3e-72e5acf86986   \n",
       "1322c37f-b82e-475c-971c-12166b50ff5d  1322c37f-b82e-475c-971c-12166b50ff5d   \n",
       "1f84ae24-a906-4eef-a6b4-141c268ec727  1f84ae24-a906-4eef-a6b4-141c268ec727   \n",
       "9a06ddd4-14be-475e-a0e5-a5dd185ecf66  9a06ddd4-14be-475e-a0e5-a5dd185ecf66   \n",
       "\n",
       "                                     country_cd gender nationality  \\\n",
       "user_id                                                              \n",
       "65c8c310-d0f9-4e38-bc56-5228c8290755         DE    NaN         NaN   \n",
       "72fda13b-6385-42e3-8607-e9df7d877b66         DE    NaN         NaN   \n",
       "8a221199-30a2-4e3b-bd22-9832be66e482         GB   MALE          GB   \n",
       "f47e9b1b-0778-4809-98ff-008ad8df347a         DE    NaN         NaN   \n",
       "1c4c7025-5ca7-445d-ad9d-22fd397944e3         DE    NaN         NaN   \n",
       "390f4493-89f7-46aa-b717-49ac81f630f7         DE    NaN         NaN   \n",
       "80505c8e-2f64-4f79-bf3e-72e5acf86986         DE    NaN         NaN   \n",
       "1322c37f-b82e-475c-971c-12166b50ff5d         DE    NaN         NaN   \n",
       "1f84ae24-a906-4eef-a6b4-141c268ec727         DE    NaN         NaN   \n",
       "9a06ddd4-14be-475e-a0e5-a5dd185ecf66         DK   MALE          DK   \n",
       "\n",
       "                                     platform_type_name trading_experience  \\\n",
       "user_id                                                                      \n",
       "65c8c310-d0f9-4e38-bc56-5228c8290755            Android               NONE   \n",
       "72fda13b-6385-42e3-8607-e9df7d877b66            Android               NONE   \n",
       "8a221199-30a2-4e3b-bd22-9832be66e482                iOS               NONE   \n",
       "f47e9b1b-0778-4809-98ff-008ad8df347a            Android               NONE   \n",
       "1c4c7025-5ca7-445d-ad9d-22fd397944e3            Android               NONE   \n",
       "390f4493-89f7-46aa-b717-49ac81f630f7                iOS               NONE   \n",
       "80505c8e-2f64-4f79-bf3e-72e5acf86986                iOS               NONE   \n",
       "1322c37f-b82e-475c-971c-12166b50ff5d                iOS               NONE   \n",
       "1f84ae24-a906-4eef-a6b4-141c268ec727            Android               NONE   \n",
       "9a06ddd4-14be-475e-a0e5-a5dd185ecf66                iOS               NONE   \n",
       "\n",
       "                                              title            network  \\\n",
       "user_id                                                                  \n",
       "65c8c310-d0f9-4e38-bc56-5228c8290755  Rookie Trader      Viral Invites   \n",
       "72fda13b-6385-42e3-8607-e9df7d877b66  Rookie Trader            Organic   \n",
       "8a221199-30a2-4e3b-bd22-9832be66e482  Rookie Trader            Organic   \n",
       "f47e9b1b-0778-4809-98ff-008ad8df347a  Rookie Trader  Facebook Installs   \n",
       "1c4c7025-5ca7-445d-ad9d-22fd397944e3  Rookie Trader      Viral Invites   \n",
       "390f4493-89f7-46aa-b717-49ac81f630f7  Rookie Trader      Viral Invites   \n",
       "80505c8e-2f64-4f79-bf3e-72e5acf86986  Rookie Trader            Organic   \n",
       "1322c37f-b82e-475c-971c-12166b50ff5d  Rookie Trader  Facebook Installs   \n",
       "1f84ae24-a906-4eef-a6b4-141c268ec727  Rookie Trader            Organic   \n",
       "9a06ddd4-14be-475e-a0e5-a5dd185ecf66  Rookie Trader  Facebook Installs   \n",
       "\n",
       "                                     bux_account_created_dts account_type  \\\n",
       "user_id                                                                     \n",
       "65c8c310-d0f9-4e38-bc56-5228c8290755 2017-02-01 00:02:28.610      FUN_BUX   \n",
       "72fda13b-6385-42e3-8607-e9df7d877b66 2017-02-01 00:03:06.424      FUN_BUX   \n",
       "8a221199-30a2-4e3b-bd22-9832be66e482 2017-02-01 00:03:12.324  SERIOUS_BUX   \n",
       "f47e9b1b-0778-4809-98ff-008ad8df347a 2017-02-01 00:04:30.705      FUN_BUX   \n",
       "1c4c7025-5ca7-445d-ad9d-22fd397944e3 2017-02-01 00:05:25.479      FUN_BUX   \n",
       "390f4493-89f7-46aa-b717-49ac81f630f7 2017-02-01 00:05:26.389      FUN_BUX   \n",
       "80505c8e-2f64-4f79-bf3e-72e5acf86986 2017-02-01 00:05:36.067      FUN_BUX   \n",
       "1322c37f-b82e-475c-971c-12166b50ff5d 2017-02-01 00:05:45.406      FUN_BUX   \n",
       "1f84ae24-a906-4eef-a6b4-141c268ec727 2017-02-01 00:06:14.630      FUN_BUX   \n",
       "9a06ddd4-14be-475e-a0e5-a5dd185ecf66 2017-02-01 00:06:32.373      FUN_BUX   \n",
       "\n",
       "                                     ams_first_funded_dts  \\\n",
       "user_id                                                     \n",
       "65c8c310-d0f9-4e38-bc56-5228c8290755                  NaT   \n",
       "72fda13b-6385-42e3-8607-e9df7d877b66                  NaT   \n",
       "8a221199-30a2-4e3b-bd22-9832be66e482  2017-02-08 21:17:30   \n",
       "f47e9b1b-0778-4809-98ff-008ad8df347a                  NaT   \n",
       "1c4c7025-5ca7-445d-ad9d-22fd397944e3                  NaT   \n",
       "390f4493-89f7-46aa-b717-49ac81f630f7                  NaT   \n",
       "80505c8e-2f64-4f79-bf3e-72e5acf86986                  NaT   \n",
       "1322c37f-b82e-475c-971c-12166b50ff5d                  NaT   \n",
       "1f84ae24-a906-4eef-a6b4-141c268ec727                  NaT   \n",
       "9a06ddd4-14be-475e-a0e5-a5dd185ecf66                  NaT   \n",
       "\n",
       "                                      initial_deposit_amount  sum_deposits  \\\n",
       "user_id                                                                      \n",
       "65c8c310-d0f9-4e38-bc56-5228c8290755                     NaN           NaN   \n",
       "72fda13b-6385-42e3-8607-e9df7d877b66                     NaN           NaN   \n",
       "8a221199-30a2-4e3b-bd22-9832be66e482                    50.0         250.0   \n",
       "f47e9b1b-0778-4809-98ff-008ad8df347a                     NaN           NaN   \n",
       "1c4c7025-5ca7-445d-ad9d-22fd397944e3                     NaN           NaN   \n",
       "390f4493-89f7-46aa-b717-49ac81f630f7                     NaN           NaN   \n",
       "80505c8e-2f64-4f79-bf3e-72e5acf86986                     NaN           NaN   \n",
       "1322c37f-b82e-475c-971c-12166b50ff5d                     NaN           NaN   \n",
       "1f84ae24-a906-4eef-a6b4-141c268ec727                     NaN           NaN   \n",
       "9a06ddd4-14be-475e-a0e5-a5dd185ecf66                     NaN           NaN   \n",
       "\n",
       "                                      cnt_deposits  bux_account_created_day  \n",
       "user_id                                                                      \n",
       "65c8c310-d0f9-4e38-bc56-5228c8290755           NaN                        1  \n",
       "72fda13b-6385-42e3-8607-e9df7d877b66           NaN                        1  \n",
       "8a221199-30a2-4e3b-bd22-9832be66e482           4.0                        1  \n",
       "f47e9b1b-0778-4809-98ff-008ad8df347a           NaN                        1  \n",
       "1c4c7025-5ca7-445d-ad9d-22fd397944e3           NaN                        1  \n",
       "390f4493-89f7-46aa-b717-49ac81f630f7           NaN                        1  \n",
       "80505c8e-2f64-4f79-bf3e-72e5acf86986           NaN                        1  \n",
       "1322c37f-b82e-475c-971c-12166b50ff5d           NaN                        1  \n",
       "1f84ae24-a906-4eef-a6b4-141c268ec727           NaN                        1  \n",
       "9a06ddd4-14be-475e-a0e5-a5dd185ecf66           NaN                        1  "
      ]
     },
     "execution_count": 434,
     "metadata": {},
     "output_type": "execute_result"
    }
   ],
   "source": [
    "es['users'].head()"
   ]
  },
  {
   "cell_type": "code",
   "execution_count": 435,
   "metadata": {
    "collapsed": false
   },
   "outputs": [
    {
     "data": {
      "text/html": [
       "<div>\n",
       "<style>\n",
       "    .dataframe thead tr:only-child th {\n",
       "        text-align: right;\n",
       "    }\n",
       "\n",
       "    .dataframe thead th {\n",
       "        text-align: left;\n",
       "    }\n",
       "\n",
       "    .dataframe tbody tr th {\n",
       "        vertical-align: top;\n",
       "    }\n",
       "</style>\n",
       "<table border=\"1\" class=\"dataframe\">\n",
       "  <thead>\n",
       "    <tr style=\"text-align: right;\">\n",
       "      <th></th>\n",
       "      <th>index</th>\n",
       "      <th>user_id</th>\n",
       "      <th>day_of_year</th>\n",
       "      <th>date</th>\n",
       "      <th>number_of_sessions</th>\n",
       "      <th>total_session_duration</th>\n",
       "      <th>account_status</th>\n",
       "      <th>trades_fb_commodities_open</th>\n",
       "      <th>trades_fb_commodities_profit</th>\n",
       "      <th>social_status_battles</th>\n",
       "      <th>social_status</th>\n",
       "      <th>conversion_to_sb</th>\n",
       "    </tr>\n",
       "    <tr>\n",
       "      <th>index</th>\n",
       "      <th></th>\n",
       "      <th></th>\n",
       "      <th></th>\n",
       "      <th></th>\n",
       "      <th></th>\n",
       "      <th></th>\n",
       "      <th></th>\n",
       "      <th></th>\n",
       "      <th></th>\n",
       "      <th></th>\n",
       "      <th></th>\n",
       "      <th></th>\n",
       "    </tr>\n",
       "  </thead>\n",
       "  <tbody>\n",
       "    <tr>\n",
       "      <th>1791</th>\n",
       "      <td>1791</td>\n",
       "      <td>009261bb-e03a-4273-9923-6299819e3745</td>\n",
       "      <td>32</td>\n",
       "      <td>2017-02-01</td>\n",
       "      <td>15</td>\n",
       "      <td>2720</td>\n",
       "      <td>FUN_BUX</td>\n",
       "      <td>0</td>\n",
       "      <td>0.0</td>\n",
       "      <td>0</td>\n",
       "      <td>Non-Social</td>\n",
       "      <td>0</td>\n",
       "    </tr>\n",
       "    <tr>\n",
       "      <th>3120</th>\n",
       "      <td>3120</td>\n",
       "      <td>00ae6e75-2862-4b30-a437-bfe17fc65053</td>\n",
       "      <td>32</td>\n",
       "      <td>2017-02-01</td>\n",
       "      <td>4</td>\n",
       "      <td>550</td>\n",
       "      <td>FUN_BUX</td>\n",
       "      <td>0</td>\n",
       "      <td>0.0</td>\n",
       "      <td>0</td>\n",
       "      <td>Non-Social</td>\n",
       "      <td>0</td>\n",
       "    </tr>\n",
       "    <tr>\n",
       "      <th>3165</th>\n",
       "      <td>3165</td>\n",
       "      <td>00df3a5f-c6e7-424a-be06-9940b5e8ea19</td>\n",
       "      <td>32</td>\n",
       "      <td>2017-02-01</td>\n",
       "      <td>2</td>\n",
       "      <td>380</td>\n",
       "      <td>FUN_BUX</td>\n",
       "      <td>0</td>\n",
       "      <td>0.0</td>\n",
       "      <td>1</td>\n",
       "      <td>Following</td>\n",
       "      <td>0</td>\n",
       "    </tr>\n",
       "    <tr>\n",
       "      <th>3225</th>\n",
       "      <td>3225</td>\n",
       "      <td>01060844-879c-41a4-bb11-368521a50a3d</td>\n",
       "      <td>32</td>\n",
       "      <td>2017-02-01</td>\n",
       "      <td>2</td>\n",
       "      <td>666</td>\n",
       "      <td>FUN_BUX</td>\n",
       "      <td>0</td>\n",
       "      <td>0.0</td>\n",
       "      <td>0</td>\n",
       "      <td>Following</td>\n",
       "      <td>0</td>\n",
       "    </tr>\n",
       "    <tr>\n",
       "      <th>3306</th>\n",
       "      <td>3306</td>\n",
       "      <td>013ed593-66d6-480f-8ccf-355fdbe3ec52</td>\n",
       "      <td>32</td>\n",
       "      <td>2017-02-01</td>\n",
       "      <td>2</td>\n",
       "      <td>418</td>\n",
       "      <td>FUN_BUX</td>\n",
       "      <td>0</td>\n",
       "      <td>0.0</td>\n",
       "      <td>0</td>\n",
       "      <td>Non-Social</td>\n",
       "      <td>0</td>\n",
       "    </tr>\n",
       "    <tr>\n",
       "      <th>3310</th>\n",
       "      <td>3310</td>\n",
       "      <td>0140e3fc-6960-4f8f-b5a6-3b1252c14435</td>\n",
       "      <td>32</td>\n",
       "      <td>2017-02-01</td>\n",
       "      <td>1</td>\n",
       "      <td>287</td>\n",
       "      <td>FUN_BUX</td>\n",
       "      <td>0</td>\n",
       "      <td>0.0</td>\n",
       "      <td>0</td>\n",
       "      <td>Non-Social</td>\n",
       "      <td>0</td>\n",
       "    </tr>\n",
       "    <tr>\n",
       "      <th>4387</th>\n",
       "      <td>4387</td>\n",
       "      <td>0176657e-73d7-490d-9c0e-09983ecce3bd</td>\n",
       "      <td>32</td>\n",
       "      <td>2017-02-01</td>\n",
       "      <td>13</td>\n",
       "      <td>2142</td>\n",
       "      <td>FUN_BUX</td>\n",
       "      <td>0</td>\n",
       "      <td>0.0</td>\n",
       "      <td>0</td>\n",
       "      <td>Following</td>\n",
       "      <td>0</td>\n",
       "    </tr>\n",
       "    <tr>\n",
       "      <th>4469</th>\n",
       "      <td>4469</td>\n",
       "      <td>01d9b716-4f45-4696-9b6d-0bc2b501ddf9</td>\n",
       "      <td>32</td>\n",
       "      <td>2017-02-01</td>\n",
       "      <td>2</td>\n",
       "      <td>115</td>\n",
       "      <td>FUN_BUX</td>\n",
       "      <td>0</td>\n",
       "      <td>0.0</td>\n",
       "      <td>0</td>\n",
       "      <td>Non-Social</td>\n",
       "      <td>0</td>\n",
       "    </tr>\n",
       "    <tr>\n",
       "      <th>4553</th>\n",
       "      <td>4553</td>\n",
       "      <td>0211f774-2934-4777-8e58-ab159acb74d9</td>\n",
       "      <td>32</td>\n",
       "      <td>2017-02-01</td>\n",
       "      <td>1</td>\n",
       "      <td>337</td>\n",
       "      <td>FUN_BUX</td>\n",
       "      <td>0</td>\n",
       "      <td>0.0</td>\n",
       "      <td>0</td>\n",
       "      <td>Non-Social</td>\n",
       "      <td>0</td>\n",
       "    </tr>\n",
       "    <tr>\n",
       "      <th>4772</th>\n",
       "      <td>4772</td>\n",
       "      <td>02ce0b6b-3c2f-45cd-b36a-bdf574d2dc77</td>\n",
       "      <td>32</td>\n",
       "      <td>2017-02-01</td>\n",
       "      <td>2</td>\n",
       "      <td>94</td>\n",
       "      <td>FUN_BUX</td>\n",
       "      <td>0</td>\n",
       "      <td>0.0</td>\n",
       "      <td>0</td>\n",
       "      <td>Non-Social</td>\n",
       "      <td>0</td>\n",
       "    </tr>\n",
       "  </tbody>\n",
       "</table>\n",
       "</div>"
      ],
      "text/plain": [
       "       index                               user_id  day_of_year       date  \\\n",
       "index                                                                        \n",
       "1791    1791  009261bb-e03a-4273-9923-6299819e3745           32 2017-02-01   \n",
       "3120    3120  00ae6e75-2862-4b30-a437-bfe17fc65053           32 2017-02-01   \n",
       "3165    3165  00df3a5f-c6e7-424a-be06-9940b5e8ea19           32 2017-02-01   \n",
       "3225    3225  01060844-879c-41a4-bb11-368521a50a3d           32 2017-02-01   \n",
       "3306    3306  013ed593-66d6-480f-8ccf-355fdbe3ec52           32 2017-02-01   \n",
       "3310    3310  0140e3fc-6960-4f8f-b5a6-3b1252c14435           32 2017-02-01   \n",
       "4387    4387  0176657e-73d7-490d-9c0e-09983ecce3bd           32 2017-02-01   \n",
       "4469    4469  01d9b716-4f45-4696-9b6d-0bc2b501ddf9           32 2017-02-01   \n",
       "4553    4553  0211f774-2934-4777-8e58-ab159acb74d9           32 2017-02-01   \n",
       "4772    4772  02ce0b6b-3c2f-45cd-b36a-bdf574d2dc77           32 2017-02-01   \n",
       "\n",
       "       number_of_sessions  total_session_duration account_status  \\\n",
       "index                                                              \n",
       "1791                   15                    2720        FUN_BUX   \n",
       "3120                    4                     550        FUN_BUX   \n",
       "3165                    2                     380        FUN_BUX   \n",
       "3225                    2                     666        FUN_BUX   \n",
       "3306                    2                     418        FUN_BUX   \n",
       "3310                    1                     287        FUN_BUX   \n",
       "4387                   13                    2142        FUN_BUX   \n",
       "4469                    2                     115        FUN_BUX   \n",
       "4553                    1                     337        FUN_BUX   \n",
       "4772                    2                      94        FUN_BUX   \n",
       "\n",
       "       trades_fb_commodities_open  trades_fb_commodities_profit  \\\n",
       "index                                                             \n",
       "1791                            0                           0.0   \n",
       "3120                            0                           0.0   \n",
       "3165                            0                           0.0   \n",
       "3225                            0                           0.0   \n",
       "3306                            0                           0.0   \n",
       "3310                            0                           0.0   \n",
       "4387                            0                           0.0   \n",
       "4469                            0                           0.0   \n",
       "4553                            0                           0.0   \n",
       "4772                            0                           0.0   \n",
       "\n",
       "       social_status_battles social_status  conversion_to_sb  \n",
       "index                                                         \n",
       "1791                       0    Non-Social                 0  \n",
       "3120                       0    Non-Social                 0  \n",
       "3165                       1     Following                 0  \n",
       "3225                       0     Following                 0  \n",
       "3306                       0    Non-Social                 0  \n",
       "3310                       0    Non-Social                 0  \n",
       "4387                       0     Following                 0  \n",
       "4469                       0    Non-Social                 0  \n",
       "4553                       0    Non-Social                 0  \n",
       "4772                       0    Non-Social                 0  "
      ]
     },
     "execution_count": 435,
     "metadata": {},
     "output_type": "execute_result"
    }
   ],
   "source": [
    "es['transactions'].head()"
   ]
  },
  {
   "cell_type": "code",
   "execution_count": 436,
   "metadata": {
    "collapsed": true
   },
   "outputs": [],
   "source": [
    "from dask import bag\n",
    "from dask.diagnostics import ProgressBar"
   ]
  },
  {
   "cell_type": "code",
   "execution_count": 437,
   "metadata": {
    "collapsed": false
   },
   "outputs": [],
   "source": [
    "# %%time\n",
    "\n",
    "# from featuretools.primitives import (Sum, Std, Max, Min, Mean,\n",
    "#                                      Count, PercentTrue, NUnique, \n",
    "#                                      Mode, Trend, Skew)\n",
    "\n",
    "\n",
    "# agg_primitives = [Sum, Std, Max, Min, Mean, \n",
    "#                   Count, PercentTrue, NUnique, \n",
    "#                   Mode, Trend, Skew]\n",
    "\n",
    "# feature_matrix, features = ft.dfs(\n",
    "#     entityset=es,\n",
    "#     target_entity=\"users\",\n",
    "#     trans_primitives=[],\n",
    "#     agg_primitives=agg_primitives,\n",
    "#     max_depth=3,\n",
    "#     # cutoff_time=cutoff_times,\n",
    "#     verbose=True\n",
    "# )\n",
    "\n",
    "# print(\"{} features generated\".format(len(features)))"
   ]
  },
  {
   "cell_type": "code",
   "execution_count": 438,
   "metadata": {
    "collapsed": false
   },
   "outputs": [],
   "source": [
    "# %%time\n",
    "\n",
    "# from featuretools.primitives import (Sum, Std, Max, Min, Mean,\n",
    "#                                      Count, PercentTrue, NUnique, \n",
    "#                                      Mode, Trend, Skew)\n",
    "\n",
    "\n",
    "# agg_primitives = [Sum, Std, Max, Min, Mean, \n",
    "#                   Count, PercentTrue, NUnique, \n",
    "#                   Mode]\n",
    "\n",
    "# feature_matrix, features = ft.dfs(\n",
    "#     entityset=es,\n",
    "#     target_entity=\"users\",\n",
    "#     trans_primitives=[],\n",
    "#     agg_primitives=agg_primitives,\n",
    "#     max_depth=3,\n",
    "#     # cutoff_time=cutoff_times,\n",
    "#     verbose=True\n",
    "# )\n",
    "\n",
    "# print(\"{} features generated\".format(len(features)))"
   ]
  },
  {
   "cell_type": "code",
   "execution_count": 439,
   "metadata": {
    "collapsed": false
   },
   "outputs": [
    {
     "name": "stdout",
     "output_type": "stream",
     "text": [
      "Building features: 67it [00:00, 2129.41it/s]\n",
      "Progress: 100%|██████████| 1/1 [37:33<00:00, 2253.91s/cutoff time]\n",
      "52 features generated\n",
      "CPU times: user 19min 23s, sys: 5.2 s, total: 19min 28s\n",
      "Wall time: 37min 35s\n"
     ]
    }
   ],
   "source": [
    "%%time\n",
    "\n",
    "from featuretools.primitives import (Sum, Std, Max, Min, Mean,\n",
    "                                     Count, PercentTrue, NUnique, \n",
    "                                     Mode, Trend, Skew)\n",
    "\n",
    "\n",
    "agg_primitives = [Sum, Std, Max, Min, Mean, \n",
    "                  Count, PercentTrue, NUnique, \n",
    "                  Mode]\n",
    "\n",
    "feature_matrix, features = ft.dfs(\n",
    "    entityset=es,\n",
    "    target_entity=\"users\",\n",
    "    trans_primitives=[],\n",
    "    agg_primitives=agg_primitives,\n",
    "    max_depth=2,\n",
    "    # cutoff_time=cutoff_times,\n",
    "    verbose=True\n",
    ")\n",
    "\n",
    "print(\"{} features generated\".format(len(features)))"
   ]
  },
  {
   "cell_type": "code",
   "execution_count": 440,
   "metadata": {
    "collapsed": false
   },
   "outputs": [
    {
     "name": "stdout",
     "output_type": "stream",
     "text": [
      "Number of features 98\n"
     ]
    },
    {
     "data": {
      "text/html": [
       "<div>\n",
       "<style>\n",
       "    .dataframe thead tr:only-child th {\n",
       "        text-align: right;\n",
       "    }\n",
       "\n",
       "    .dataframe thead th {\n",
       "        text-align: left;\n",
       "    }\n",
       "\n",
       "    .dataframe tbody tr th {\n",
       "        vertical-align: top;\n",
       "    }\n",
       "</style>\n",
       "<table border=\"1\" class=\"dataframe\">\n",
       "  <thead>\n",
       "    <tr style=\"text-align: right;\">\n",
       "      <th></th>\n",
       "      <th>trading_experience = NONE</th>\n",
       "      <th>trading_experience = SOME</th>\n",
       "      <th>trading_experience = EXPERT</th>\n",
       "      <th>trading_experience = unknown</th>\n",
       "      <th>bux_account_created_day</th>\n",
       "      <th>gender = MALE</th>\n",
       "      <th>gender = FEMALE</th>\n",
       "      <th>gender = unknown</th>\n",
       "      <th>country_cd = DE</th>\n",
       "      <th>country_cd = NL</th>\n",
       "      <th>...</th>\n",
       "      <th>STD(transactions.conversion_to_sb)</th>\n",
       "      <th>STD(transactions.social_status_battles)</th>\n",
       "      <th>COUNT(transactions)</th>\n",
       "      <th>NUM_UNIQUE(transactions.account_status)</th>\n",
       "      <th>MAX(transactions.total_session_duration)</th>\n",
       "      <th>MIN(transactions.total_session_duration)</th>\n",
       "      <th>MIN(transactions.social_status_battles)</th>\n",
       "      <th>SUM(transactions.day_of_year)</th>\n",
       "      <th>STD(transactions.trades_fb_commodities_open)</th>\n",
       "      <th>MAX(transactions.trades_fb_commodities_open)</th>\n",
       "    </tr>\n",
       "    <tr>\n",
       "      <th>user_id</th>\n",
       "      <th></th>\n",
       "      <th></th>\n",
       "      <th></th>\n",
       "      <th></th>\n",
       "      <th></th>\n",
       "      <th></th>\n",
       "      <th></th>\n",
       "      <th></th>\n",
       "      <th></th>\n",
       "      <th></th>\n",
       "      <th></th>\n",
       "      <th></th>\n",
       "      <th></th>\n",
       "      <th></th>\n",
       "      <th></th>\n",
       "      <th></th>\n",
       "      <th></th>\n",
       "      <th></th>\n",
       "      <th></th>\n",
       "      <th></th>\n",
       "      <th></th>\n",
       "    </tr>\n",
       "  </thead>\n",
       "  <tbody>\n",
       "    <tr>\n",
       "      <th>0000c78d-d1ba-4758-8b0d-8503058aaa4e</th>\n",
       "      <td>0</td>\n",
       "      <td>1</td>\n",
       "      <td>0</td>\n",
       "      <td>0</td>\n",
       "      <td>14</td>\n",
       "      <td>1</td>\n",
       "      <td>0</td>\n",
       "      <td>0</td>\n",
       "      <td>1</td>\n",
       "      <td>0</td>\n",
       "      <td>...</td>\n",
       "      <td>0.0</td>\n",
       "      <td>0.0</td>\n",
       "      <td>2.0</td>\n",
       "      <td>1.0</td>\n",
       "      <td>639.0</td>\n",
       "      <td>21.0</td>\n",
       "      <td>0.0</td>\n",
       "      <td>105.0</td>\n",
       "      <td>0.0</td>\n",
       "      <td>0.0</td>\n",
       "    </tr>\n",
       "    <tr>\n",
       "      <th>0000c99c-df27-4af0-afe7-a8f0ed96a885</th>\n",
       "      <td>1</td>\n",
       "      <td>0</td>\n",
       "      <td>0</td>\n",
       "      <td>0</td>\n",
       "      <td>16</td>\n",
       "      <td>0</td>\n",
       "      <td>0</td>\n",
       "      <td>1</td>\n",
       "      <td>0</td>\n",
       "      <td>1</td>\n",
       "      <td>...</td>\n",
       "      <td>0.0</td>\n",
       "      <td>0.0</td>\n",
       "      <td>21.0</td>\n",
       "      <td>1.0</td>\n",
       "      <td>1799.0</td>\n",
       "      <td>0.0</td>\n",
       "      <td>0.0</td>\n",
       "      <td>1216.0</td>\n",
       "      <td>0.0</td>\n",
       "      <td>0.0</td>\n",
       "    </tr>\n",
       "    <tr>\n",
       "      <th>0001a0b6-fe20-47d2-a9f9-dde0af2ee132</th>\n",
       "      <td>1</td>\n",
       "      <td>0</td>\n",
       "      <td>0</td>\n",
       "      <td>0</td>\n",
       "      <td>9</td>\n",
       "      <td>0</td>\n",
       "      <td>0</td>\n",
       "      <td>1</td>\n",
       "      <td>0</td>\n",
       "      <td>1</td>\n",
       "      <td>...</td>\n",
       "      <td>0.0</td>\n",
       "      <td>0.0</td>\n",
       "      <td>1.0</td>\n",
       "      <td>1.0</td>\n",
       "      <td>661.0</td>\n",
       "      <td>661.0</td>\n",
       "      <td>0.0</td>\n",
       "      <td>40.0</td>\n",
       "      <td>0.0</td>\n",
       "      <td>0.0</td>\n",
       "    </tr>\n",
       "    <tr>\n",
       "      <th>00028e09-fcff-4368-9409-e9419efec176</th>\n",
       "      <td>1</td>\n",
       "      <td>0</td>\n",
       "      <td>0</td>\n",
       "      <td>0</td>\n",
       "      <td>7</td>\n",
       "      <td>0</td>\n",
       "      <td>0</td>\n",
       "      <td>1</td>\n",
       "      <td>1</td>\n",
       "      <td>0</td>\n",
       "      <td>...</td>\n",
       "      <td>0.0</td>\n",
       "      <td>0.0</td>\n",
       "      <td>1.0</td>\n",
       "      <td>1.0</td>\n",
       "      <td>256.0</td>\n",
       "      <td>256.0</td>\n",
       "      <td>0.0</td>\n",
       "      <td>38.0</td>\n",
       "      <td>0.0</td>\n",
       "      <td>0.0</td>\n",
       "    </tr>\n",
       "    <tr>\n",
       "      <th>0003f8f2-2648-40b9-ae39-8bf1a00b5417</th>\n",
       "      <td>1</td>\n",
       "      <td>0</td>\n",
       "      <td>0</td>\n",
       "      <td>0</td>\n",
       "      <td>20</td>\n",
       "      <td>0</td>\n",
       "      <td>0</td>\n",
       "      <td>1</td>\n",
       "      <td>0</td>\n",
       "      <td>1</td>\n",
       "      <td>...</td>\n",
       "      <td>0.0</td>\n",
       "      <td>0.0</td>\n",
       "      <td>1.0</td>\n",
       "      <td>1.0</td>\n",
       "      <td>329.0</td>\n",
       "      <td>329.0</td>\n",
       "      <td>0.0</td>\n",
       "      <td>51.0</td>\n",
       "      <td>0.0</td>\n",
       "      <td>0.0</td>\n",
       "    </tr>\n",
       "  </tbody>\n",
       "</table>\n",
       "<p>5 rows × 98 columns</p>\n",
       "</div>"
      ],
      "text/plain": [
       "                                      trading_experience = NONE  \\\n",
       "user_id                                                           \n",
       "0000c78d-d1ba-4758-8b0d-8503058aaa4e                          0   \n",
       "0000c99c-df27-4af0-afe7-a8f0ed96a885                          1   \n",
       "0001a0b6-fe20-47d2-a9f9-dde0af2ee132                          1   \n",
       "00028e09-fcff-4368-9409-e9419efec176                          1   \n",
       "0003f8f2-2648-40b9-ae39-8bf1a00b5417                          1   \n",
       "\n",
       "                                      trading_experience = SOME  \\\n",
       "user_id                                                           \n",
       "0000c78d-d1ba-4758-8b0d-8503058aaa4e                          1   \n",
       "0000c99c-df27-4af0-afe7-a8f0ed96a885                          0   \n",
       "0001a0b6-fe20-47d2-a9f9-dde0af2ee132                          0   \n",
       "00028e09-fcff-4368-9409-e9419efec176                          0   \n",
       "0003f8f2-2648-40b9-ae39-8bf1a00b5417                          0   \n",
       "\n",
       "                                      trading_experience = EXPERT  \\\n",
       "user_id                                                             \n",
       "0000c78d-d1ba-4758-8b0d-8503058aaa4e                            0   \n",
       "0000c99c-df27-4af0-afe7-a8f0ed96a885                            0   \n",
       "0001a0b6-fe20-47d2-a9f9-dde0af2ee132                            0   \n",
       "00028e09-fcff-4368-9409-e9419efec176                            0   \n",
       "0003f8f2-2648-40b9-ae39-8bf1a00b5417                            0   \n",
       "\n",
       "                                      trading_experience = unknown  \\\n",
       "user_id                                                              \n",
       "0000c78d-d1ba-4758-8b0d-8503058aaa4e                             0   \n",
       "0000c99c-df27-4af0-afe7-a8f0ed96a885                             0   \n",
       "0001a0b6-fe20-47d2-a9f9-dde0af2ee132                             0   \n",
       "00028e09-fcff-4368-9409-e9419efec176                             0   \n",
       "0003f8f2-2648-40b9-ae39-8bf1a00b5417                             0   \n",
       "\n",
       "                                      bux_account_created_day  gender = MALE  \\\n",
       "user_id                                                                        \n",
       "0000c78d-d1ba-4758-8b0d-8503058aaa4e                       14              1   \n",
       "0000c99c-df27-4af0-afe7-a8f0ed96a885                       16              0   \n",
       "0001a0b6-fe20-47d2-a9f9-dde0af2ee132                        9              0   \n",
       "00028e09-fcff-4368-9409-e9419efec176                        7              0   \n",
       "0003f8f2-2648-40b9-ae39-8bf1a00b5417                       20              0   \n",
       "\n",
       "                                      gender = FEMALE  gender = unknown  \\\n",
       "user_id                                                                   \n",
       "0000c78d-d1ba-4758-8b0d-8503058aaa4e                0                 0   \n",
       "0000c99c-df27-4af0-afe7-a8f0ed96a885                0                 1   \n",
       "0001a0b6-fe20-47d2-a9f9-dde0af2ee132                0                 1   \n",
       "00028e09-fcff-4368-9409-e9419efec176                0                 1   \n",
       "0003f8f2-2648-40b9-ae39-8bf1a00b5417                0                 1   \n",
       "\n",
       "                                      country_cd = DE  country_cd = NL  \\\n",
       "user_id                                                                  \n",
       "0000c78d-d1ba-4758-8b0d-8503058aaa4e                1                0   \n",
       "0000c99c-df27-4af0-afe7-a8f0ed96a885                0                1   \n",
       "0001a0b6-fe20-47d2-a9f9-dde0af2ee132                0                1   \n",
       "00028e09-fcff-4368-9409-e9419efec176                1                0   \n",
       "0003f8f2-2648-40b9-ae39-8bf1a00b5417                0                1   \n",
       "\n",
       "                                                          ...                       \\\n",
       "user_id                                                   ...                        \n",
       "0000c78d-d1ba-4758-8b0d-8503058aaa4e                      ...                        \n",
       "0000c99c-df27-4af0-afe7-a8f0ed96a885                      ...                        \n",
       "0001a0b6-fe20-47d2-a9f9-dde0af2ee132                      ...                        \n",
       "00028e09-fcff-4368-9409-e9419efec176                      ...                        \n",
       "0003f8f2-2648-40b9-ae39-8bf1a00b5417                      ...                        \n",
       "\n",
       "                                      STD(transactions.conversion_to_sb)  \\\n",
       "user_id                                                                    \n",
       "0000c78d-d1ba-4758-8b0d-8503058aaa4e                                 0.0   \n",
       "0000c99c-df27-4af0-afe7-a8f0ed96a885                                 0.0   \n",
       "0001a0b6-fe20-47d2-a9f9-dde0af2ee132                                 0.0   \n",
       "00028e09-fcff-4368-9409-e9419efec176                                 0.0   \n",
       "0003f8f2-2648-40b9-ae39-8bf1a00b5417                                 0.0   \n",
       "\n",
       "                                      STD(transactions.social_status_battles)  \\\n",
       "user_id                                                                         \n",
       "0000c78d-d1ba-4758-8b0d-8503058aaa4e                                      0.0   \n",
       "0000c99c-df27-4af0-afe7-a8f0ed96a885                                      0.0   \n",
       "0001a0b6-fe20-47d2-a9f9-dde0af2ee132                                      0.0   \n",
       "00028e09-fcff-4368-9409-e9419efec176                                      0.0   \n",
       "0003f8f2-2648-40b9-ae39-8bf1a00b5417                                      0.0   \n",
       "\n",
       "                                      COUNT(transactions)  \\\n",
       "user_id                                                     \n",
       "0000c78d-d1ba-4758-8b0d-8503058aaa4e                  2.0   \n",
       "0000c99c-df27-4af0-afe7-a8f0ed96a885                 21.0   \n",
       "0001a0b6-fe20-47d2-a9f9-dde0af2ee132                  1.0   \n",
       "00028e09-fcff-4368-9409-e9419efec176                  1.0   \n",
       "0003f8f2-2648-40b9-ae39-8bf1a00b5417                  1.0   \n",
       "\n",
       "                                      NUM_UNIQUE(transactions.account_status)  \\\n",
       "user_id                                                                         \n",
       "0000c78d-d1ba-4758-8b0d-8503058aaa4e                                      1.0   \n",
       "0000c99c-df27-4af0-afe7-a8f0ed96a885                                      1.0   \n",
       "0001a0b6-fe20-47d2-a9f9-dde0af2ee132                                      1.0   \n",
       "00028e09-fcff-4368-9409-e9419efec176                                      1.0   \n",
       "0003f8f2-2648-40b9-ae39-8bf1a00b5417                                      1.0   \n",
       "\n",
       "                                      MAX(transactions.total_session_duration)  \\\n",
       "user_id                                                                          \n",
       "0000c78d-d1ba-4758-8b0d-8503058aaa4e                                     639.0   \n",
       "0000c99c-df27-4af0-afe7-a8f0ed96a885                                    1799.0   \n",
       "0001a0b6-fe20-47d2-a9f9-dde0af2ee132                                     661.0   \n",
       "00028e09-fcff-4368-9409-e9419efec176                                     256.0   \n",
       "0003f8f2-2648-40b9-ae39-8bf1a00b5417                                     329.0   \n",
       "\n",
       "                                      MIN(transactions.total_session_duration)  \\\n",
       "user_id                                                                          \n",
       "0000c78d-d1ba-4758-8b0d-8503058aaa4e                                      21.0   \n",
       "0000c99c-df27-4af0-afe7-a8f0ed96a885                                       0.0   \n",
       "0001a0b6-fe20-47d2-a9f9-dde0af2ee132                                     661.0   \n",
       "00028e09-fcff-4368-9409-e9419efec176                                     256.0   \n",
       "0003f8f2-2648-40b9-ae39-8bf1a00b5417                                     329.0   \n",
       "\n",
       "                                      MIN(transactions.social_status_battles)  \\\n",
       "user_id                                                                         \n",
       "0000c78d-d1ba-4758-8b0d-8503058aaa4e                                      0.0   \n",
       "0000c99c-df27-4af0-afe7-a8f0ed96a885                                      0.0   \n",
       "0001a0b6-fe20-47d2-a9f9-dde0af2ee132                                      0.0   \n",
       "00028e09-fcff-4368-9409-e9419efec176                                      0.0   \n",
       "0003f8f2-2648-40b9-ae39-8bf1a00b5417                                      0.0   \n",
       "\n",
       "                                      SUM(transactions.day_of_year)  \\\n",
       "user_id                                                               \n",
       "0000c78d-d1ba-4758-8b0d-8503058aaa4e                          105.0   \n",
       "0000c99c-df27-4af0-afe7-a8f0ed96a885                         1216.0   \n",
       "0001a0b6-fe20-47d2-a9f9-dde0af2ee132                           40.0   \n",
       "00028e09-fcff-4368-9409-e9419efec176                           38.0   \n",
       "0003f8f2-2648-40b9-ae39-8bf1a00b5417                           51.0   \n",
       "\n",
       "                                      STD(transactions.trades_fb_commodities_open)  \\\n",
       "user_id                                                                              \n",
       "0000c78d-d1ba-4758-8b0d-8503058aaa4e                                           0.0   \n",
       "0000c99c-df27-4af0-afe7-a8f0ed96a885                                           0.0   \n",
       "0001a0b6-fe20-47d2-a9f9-dde0af2ee132                                           0.0   \n",
       "00028e09-fcff-4368-9409-e9419efec176                                           0.0   \n",
       "0003f8f2-2648-40b9-ae39-8bf1a00b5417                                           0.0   \n",
       "\n",
       "                                      MAX(transactions.trades_fb_commodities_open)  \n",
       "user_id                                                                             \n",
       "0000c78d-d1ba-4758-8b0d-8503058aaa4e                                           0.0  \n",
       "0000c99c-df27-4af0-afe7-a8f0ed96a885                                           0.0  \n",
       "0001a0b6-fe20-47d2-a9f9-dde0af2ee132                                           0.0  \n",
       "00028e09-fcff-4368-9409-e9419efec176                                           0.0  \n",
       "0003f8f2-2648-40b9-ae39-8bf1a00b5417                                           0.0  \n",
       "\n",
       "[5 rows x 98 columns]"
      ]
     },
     "execution_count": 440,
     "metadata": {},
     "output_type": "execute_result"
    }
   ],
   "source": [
    "# encode categorical features\n",
    "fm_encoded, features_encoded = ft.encode_features(feature_matrix, features)\n",
    "\n",
    "\n",
    "print('Number of features %s' % len(features_encoded))\n",
    "fm_encoded.head()"
   ]
  },
  {
   "cell_type": "markdown",
   "metadata": {},
   "source": [
    "## Machine learning"
   ]
  },
  {
   "cell_type": "code",
   "execution_count": 441,
   "metadata": {
    "collapsed": false
   },
   "outputs": [
    {
     "data": {
      "text/plain": [
       "True"
      ]
     },
     "execution_count": 441,
     "metadata": {},
     "output_type": "execute_result"
    }
   ],
   "source": [
    "# if building features on all users\n",
    "len(users) == len(fm_encoded)\n",
    "\n",
    "# if buiding features only on training users\n",
    "# len(fm_encoded) == len(users_in_training)"
   ]
  },
  {
   "cell_type": "code",
   "execution_count": 442,
   "metadata": {
    "collapsed": false
   },
   "outputs": [
    {
     "data": {
      "text/html": [
       "<div>\n",
       "<style>\n",
       "    .dataframe thead tr:only-child th {\n",
       "        text-align: right;\n",
       "    }\n",
       "\n",
       "    .dataframe thead th {\n",
       "        text-align: left;\n",
       "    }\n",
       "\n",
       "    .dataframe tbody tr th {\n",
       "        vertical-align: top;\n",
       "    }\n",
       "</style>\n",
       "<table border=\"1\" class=\"dataframe\">\n",
       "  <thead>\n",
       "    <tr style=\"text-align: right;\">\n",
       "      <th></th>\n",
       "      <th>user_id</th>\n",
       "      <th>curcv</th>\n",
       "      <th>whale</th>\n",
       "    </tr>\n",
       "  </thead>\n",
       "  <tbody>\n",
       "    <tr>\n",
       "      <th>0</th>\n",
       "      <td>3e675443-9762-4137-b92e-3cbcea38e44a</td>\n",
       "      <td>0.0</td>\n",
       "      <td>0</td>\n",
       "    </tr>\n",
       "    <tr>\n",
       "      <th>1</th>\n",
       "      <td>0de77d85-f73d-4798-90e2-7bc4de4f74dd</td>\n",
       "      <td>0.0</td>\n",
       "      <td>0</td>\n",
       "    </tr>\n",
       "    <tr>\n",
       "      <th>2</th>\n",
       "      <td>6f40a1bf-1d49-4d6a-8c6f-683526189f9e</td>\n",
       "      <td>0.0</td>\n",
       "      <td>0</td>\n",
       "    </tr>\n",
       "    <tr>\n",
       "      <th>3</th>\n",
       "      <td>20544428-b6fa-46be-9b82-25d064e3650f</td>\n",
       "      <td>0.0</td>\n",
       "      <td>0</td>\n",
       "    </tr>\n",
       "    <tr>\n",
       "      <th>4</th>\n",
       "      <td>076e3239-a377-4cbb-81ed-8f16a3197a5d</td>\n",
       "      <td>0.0</td>\n",
       "      <td>0</td>\n",
       "    </tr>\n",
       "  </tbody>\n",
       "</table>\n",
       "</div>"
      ],
      "text/plain": [
       "                                user_id  curcv  whale\n",
       "0  3e675443-9762-4137-b92e-3cbcea38e44a    0.0      0\n",
       "1  0de77d85-f73d-4798-90e2-7bc4de4f74dd    0.0      0\n",
       "2  6f40a1bf-1d49-4d6a-8c6f-683526189f9e    0.0      0\n",
       "3  20544428-b6fa-46be-9b82-25d064e3650f    0.0      0\n",
       "4  076e3239-a377-4cbb-81ed-8f16a3197a5d    0.0      0"
      ]
     },
     "execution_count": 442,
     "metadata": {},
     "output_type": "execute_result"
    }
   ],
   "source": [
    "CurCV.head()"
   ]
  },
  {
   "cell_type": "code",
   "execution_count": 443,
   "metadata": {
    "collapsed": false
   },
   "outputs": [],
   "source": [
    "# add the target labels to the feature set (fm_encoded)\n",
    "# X = fm_encoded.reset_index().merge(label_times)\n",
    "X = fm_encoded.reset_index().merge(CurCV)\n",
    "\n",
    "\n",
    "# drop the user_id and cutoff_time (no information gain)\n",
    "X.drop(['user_id', 'curcv'], axis=1, inplace=True)\n",
    "\n",
    "# fill all NaN values as 0s\n",
    "X = X.fillna(0)\n",
    "# pop = return an item and drop from the frame\n",
    "y = X.pop('whale').astype('int')"
   ]
  },
  {
   "cell_type": "code",
   "execution_count": 444,
   "metadata": {
    "collapsed": false
   },
   "outputs": [],
   "source": [
    "# https://beckernick.github.io/oversampling-modeling/\n",
    "# the right way to oversample (SMOTE)\n",
    "# oversample only on the training data"
   ]
  },
  {
   "cell_type": "code",
   "execution_count": 445,
   "metadata": {
    "collapsed": false
   },
   "outputs": [
    {
     "data": {
      "text/plain": [
       "0    58250\n",
       "1      589\n",
       "Name: whale, dtype: int64"
      ]
     },
     "execution_count": 445,
     "metadata": {},
     "output_type": "execute_result"
    }
   ],
   "source": [
    "# class (im)balance\n",
    "y.value_counts()"
   ]
  },
  {
   "cell_type": "code",
   "execution_count": 446,
   "metadata": {
    "collapsed": false
   },
   "outputs": [
    {
     "data": {
      "text/html": [
       "<div>\n",
       "<style>\n",
       "    .dataframe thead tr:only-child th {\n",
       "        text-align: right;\n",
       "    }\n",
       "\n",
       "    .dataframe thead th {\n",
       "        text-align: left;\n",
       "    }\n",
       "\n",
       "    .dataframe tbody tr th {\n",
       "        vertical-align: top;\n",
       "    }\n",
       "</style>\n",
       "<table border=\"1\" class=\"dataframe\">\n",
       "  <thead>\n",
       "    <tr style=\"text-align: right;\">\n",
       "      <th></th>\n",
       "      <th>trading_experience = NONE</th>\n",
       "      <th>trading_experience = SOME</th>\n",
       "      <th>trading_experience = EXPERT</th>\n",
       "      <th>trading_experience = unknown</th>\n",
       "      <th>bux_account_created_day</th>\n",
       "      <th>gender = MALE</th>\n",
       "      <th>gender = FEMALE</th>\n",
       "      <th>gender = unknown</th>\n",
       "      <th>country_cd = DE</th>\n",
       "      <th>country_cd = NL</th>\n",
       "      <th>...</th>\n",
       "      <th>STD(transactions.conversion_to_sb)</th>\n",
       "      <th>STD(transactions.social_status_battles)</th>\n",
       "      <th>COUNT(transactions)</th>\n",
       "      <th>NUM_UNIQUE(transactions.account_status)</th>\n",
       "      <th>MAX(transactions.total_session_duration)</th>\n",
       "      <th>MIN(transactions.total_session_duration)</th>\n",
       "      <th>MIN(transactions.social_status_battles)</th>\n",
       "      <th>SUM(transactions.day_of_year)</th>\n",
       "      <th>STD(transactions.trades_fb_commodities_open)</th>\n",
       "      <th>MAX(transactions.trades_fb_commodities_open)</th>\n",
       "    </tr>\n",
       "  </thead>\n",
       "  <tbody>\n",
       "    <tr>\n",
       "      <th>0</th>\n",
       "      <td>0</td>\n",
       "      <td>1</td>\n",
       "      <td>0</td>\n",
       "      <td>0</td>\n",
       "      <td>14</td>\n",
       "      <td>1</td>\n",
       "      <td>0</td>\n",
       "      <td>0</td>\n",
       "      <td>1</td>\n",
       "      <td>0</td>\n",
       "      <td>...</td>\n",
       "      <td>0.0</td>\n",
       "      <td>0.0</td>\n",
       "      <td>2.0</td>\n",
       "      <td>1.0</td>\n",
       "      <td>639.0</td>\n",
       "      <td>21.0</td>\n",
       "      <td>0.0</td>\n",
       "      <td>105.0</td>\n",
       "      <td>0.0</td>\n",
       "      <td>0.0</td>\n",
       "    </tr>\n",
       "    <tr>\n",
       "      <th>1</th>\n",
       "      <td>1</td>\n",
       "      <td>0</td>\n",
       "      <td>0</td>\n",
       "      <td>0</td>\n",
       "      <td>16</td>\n",
       "      <td>0</td>\n",
       "      <td>0</td>\n",
       "      <td>1</td>\n",
       "      <td>0</td>\n",
       "      <td>1</td>\n",
       "      <td>...</td>\n",
       "      <td>0.0</td>\n",
       "      <td>0.0</td>\n",
       "      <td>21.0</td>\n",
       "      <td>1.0</td>\n",
       "      <td>1799.0</td>\n",
       "      <td>0.0</td>\n",
       "      <td>0.0</td>\n",
       "      <td>1216.0</td>\n",
       "      <td>0.0</td>\n",
       "      <td>0.0</td>\n",
       "    </tr>\n",
       "    <tr>\n",
       "      <th>2</th>\n",
       "      <td>1</td>\n",
       "      <td>0</td>\n",
       "      <td>0</td>\n",
       "      <td>0</td>\n",
       "      <td>9</td>\n",
       "      <td>0</td>\n",
       "      <td>0</td>\n",
       "      <td>1</td>\n",
       "      <td>0</td>\n",
       "      <td>1</td>\n",
       "      <td>...</td>\n",
       "      <td>0.0</td>\n",
       "      <td>0.0</td>\n",
       "      <td>1.0</td>\n",
       "      <td>1.0</td>\n",
       "      <td>661.0</td>\n",
       "      <td>661.0</td>\n",
       "      <td>0.0</td>\n",
       "      <td>40.0</td>\n",
       "      <td>0.0</td>\n",
       "      <td>0.0</td>\n",
       "    </tr>\n",
       "    <tr>\n",
       "      <th>3</th>\n",
       "      <td>1</td>\n",
       "      <td>0</td>\n",
       "      <td>0</td>\n",
       "      <td>0</td>\n",
       "      <td>7</td>\n",
       "      <td>0</td>\n",
       "      <td>0</td>\n",
       "      <td>1</td>\n",
       "      <td>1</td>\n",
       "      <td>0</td>\n",
       "      <td>...</td>\n",
       "      <td>0.0</td>\n",
       "      <td>0.0</td>\n",
       "      <td>1.0</td>\n",
       "      <td>1.0</td>\n",
       "      <td>256.0</td>\n",
       "      <td>256.0</td>\n",
       "      <td>0.0</td>\n",
       "      <td>38.0</td>\n",
       "      <td>0.0</td>\n",
       "      <td>0.0</td>\n",
       "    </tr>\n",
       "    <tr>\n",
       "      <th>4</th>\n",
       "      <td>1</td>\n",
       "      <td>0</td>\n",
       "      <td>0</td>\n",
       "      <td>0</td>\n",
       "      <td>20</td>\n",
       "      <td>0</td>\n",
       "      <td>0</td>\n",
       "      <td>1</td>\n",
       "      <td>0</td>\n",
       "      <td>1</td>\n",
       "      <td>...</td>\n",
       "      <td>0.0</td>\n",
       "      <td>0.0</td>\n",
       "      <td>1.0</td>\n",
       "      <td>1.0</td>\n",
       "      <td>329.0</td>\n",
       "      <td>329.0</td>\n",
       "      <td>0.0</td>\n",
       "      <td>51.0</td>\n",
       "      <td>0.0</td>\n",
       "      <td>0.0</td>\n",
       "    </tr>\n",
       "  </tbody>\n",
       "</table>\n",
       "<p>5 rows × 98 columns</p>\n",
       "</div>"
      ],
      "text/plain": [
       "   trading_experience = NONE  trading_experience = SOME  \\\n",
       "0                          0                          1   \n",
       "1                          1                          0   \n",
       "2                          1                          0   \n",
       "3                          1                          0   \n",
       "4                          1                          0   \n",
       "\n",
       "   trading_experience = EXPERT  trading_experience = unknown  \\\n",
       "0                            0                             0   \n",
       "1                            0                             0   \n",
       "2                            0                             0   \n",
       "3                            0                             0   \n",
       "4                            0                             0   \n",
       "\n",
       "   bux_account_created_day  gender = MALE  gender = FEMALE  gender = unknown  \\\n",
       "0                       14              1                0                 0   \n",
       "1                       16              0                0                 1   \n",
       "2                        9              0                0                 1   \n",
       "3                        7              0                0                 1   \n",
       "4                       20              0                0                 1   \n",
       "\n",
       "   country_cd = DE  country_cd = NL  \\\n",
       "0                1                0   \n",
       "1                0                1   \n",
       "2                0                1   \n",
       "3                1                0   \n",
       "4                0                1   \n",
       "\n",
       "                       ...                       \\\n",
       "0                      ...                        \n",
       "1                      ...                        \n",
       "2                      ...                        \n",
       "3                      ...                        \n",
       "4                      ...                        \n",
       "\n",
       "   STD(transactions.conversion_to_sb)  \\\n",
       "0                                 0.0   \n",
       "1                                 0.0   \n",
       "2                                 0.0   \n",
       "3                                 0.0   \n",
       "4                                 0.0   \n",
       "\n",
       "   STD(transactions.social_status_battles)  COUNT(transactions)  \\\n",
       "0                                      0.0                  2.0   \n",
       "1                                      0.0                 21.0   \n",
       "2                                      0.0                  1.0   \n",
       "3                                      0.0                  1.0   \n",
       "4                                      0.0                  1.0   \n",
       "\n",
       "   NUM_UNIQUE(transactions.account_status)  \\\n",
       "0                                      1.0   \n",
       "1                                      1.0   \n",
       "2                                      1.0   \n",
       "3                                      1.0   \n",
       "4                                      1.0   \n",
       "\n",
       "   MAX(transactions.total_session_duration)  \\\n",
       "0                                     639.0   \n",
       "1                                    1799.0   \n",
       "2                                     661.0   \n",
       "3                                     256.0   \n",
       "4                                     329.0   \n",
       "\n",
       "   MIN(transactions.total_session_duration)  \\\n",
       "0                                      21.0   \n",
       "1                                       0.0   \n",
       "2                                     661.0   \n",
       "3                                     256.0   \n",
       "4                                     329.0   \n",
       "\n",
       "   MIN(transactions.social_status_battles)  SUM(transactions.day_of_year)  \\\n",
       "0                                      0.0                          105.0   \n",
       "1                                      0.0                         1216.0   \n",
       "2                                      0.0                           40.0   \n",
       "3                                      0.0                           38.0   \n",
       "4                                      0.0                           51.0   \n",
       "\n",
       "   STD(transactions.trades_fb_commodities_open)  \\\n",
       "0                                           0.0   \n",
       "1                                           0.0   \n",
       "2                                           0.0   \n",
       "3                                           0.0   \n",
       "4                                           0.0   \n",
       "\n",
       "   MAX(transactions.trades_fb_commodities_open)  \n",
       "0                                           0.0  \n",
       "1                                           0.0  \n",
       "2                                           0.0  \n",
       "3                                           0.0  \n",
       "4                                           0.0  \n",
       "\n",
       "[5 rows x 98 columns]"
      ]
     },
     "execution_count": 446,
     "metadata": {},
     "output_type": "execute_result"
    }
   ],
   "source": [
    "X.head()"
   ]
  },
  {
   "cell_type": "code",
   "execution_count": 447,
   "metadata": {
    "collapsed": false
   },
   "outputs": [],
   "source": [
    "X_train, X_test, y_train, y_test = train_test_split(X, y, test_size=0.3, random_state=42)"
   ]
  },
  {
   "cell_type": "markdown",
   "metadata": {},
   "source": [
    "## SMOTE (oversampling)"
   ]
  },
  {
   "cell_type": "code",
   "execution_count": 448,
   "metadata": {
    "collapsed": false
   },
   "outputs": [
    {
     "name": "stderr",
     "output_type": "stream",
     "text": [
      "/home/jo/anaconda3/lib/python3.5/site-packages/sklearn/utils/deprecation.py:75: DeprecationWarning: Function _ratio_float is deprecated; Use a float for 'ratio' is deprecated from version 0.2. The support will be removed in 0.4. Use a dict, str, or a callable instead.\n",
      "  warnings.warn(msg, category=DeprecationWarning)\n"
     ]
    }
   ],
   "source": [
    "# https://beckernick.github.io/oversampling-modeling/\n",
    "\n",
    "sm = SMOTE(random_state=100, ratio = 1)\n",
    "X_train_res, y_train_res = sm.fit_sample(X_train, y_train)"
   ]
  },
  {
   "cell_type": "code",
   "execution_count": 449,
   "metadata": {
    "collapsed": false
   },
   "outputs": [
    {
     "data": {
      "text/plain": [
       "1    40764\n",
       "0    40764\n",
       "dtype: int64"
      ]
     },
     "execution_count": 449,
     "metadata": {},
     "output_type": "execute_result"
    }
   ],
   "source": [
    "pd.Series(y_train_res).value_counts()"
   ]
  },
  {
   "cell_type": "code",
   "execution_count": 450,
   "metadata": {
    "collapsed": false
   },
   "outputs": [
    {
     "name": "stdout",
     "output_type": "stream",
     "text": [
      "CPU times: user 24 s, sys: 83.7 ms, total: 24.1 s\n",
      "Wall time: 24.3 s\n"
     ]
    }
   ],
   "source": [
    "%%time\n",
    "\n",
    "clf_smote = RandomForestClassifier(n_estimators=25, random_state=12)\n",
    "clf_smote.fit(X_train_res, y_train_res)"
   ]
  },
  {
   "cell_type": "code",
   "execution_count": 451,
   "metadata": {
    "collapsed": false
   },
   "outputs": [
    {
     "data": {
      "text/plain": [
       "array([0, 0, 0, ..., 0, 0, 0])"
      ]
     },
     "execution_count": 451,
     "metadata": {},
     "output_type": "execute_result"
    }
   ],
   "source": [
    "y_pred_smote = clf_smote.predict(X_test)\n",
    "y_pred_smote"
   ]
  },
  {
   "cell_type": "code",
   "execution_count": 452,
   "metadata": {
    "collapsed": false
   },
   "outputs": [
    {
     "data": {
      "image/png": "[encoded data removed]",
      "text/plain": [
       "<matplotlib.figure.Figure at 0x7fa517fd2e10>"
      ]
     },
     "metadata": {},
     "output_type": "display_data"
    }
   ],
   "source": [
    "cm = confusion_matrix(y_test, y_pred_smote)\n",
    "plot_confusion_matrix(cm, ['Non-whale', 'Whale'], title='Customer lifetime value prediction')"
   ]
  },
  {
   "cell_type": "code",
   "execution_count": 453,
   "metadata": {
    "collapsed": false
   },
   "outputs": [
    {
     "data": {
      "text/plain": [
       "0.68749999999999989"
      ]
     },
     "execution_count": 453,
     "metadata": {},
     "output_type": "execute_result"
    }
   ],
   "source": [
    "# f1 score with SMOTE\n",
    "f1_score(y_test, y_pred_smote, average=None)[1]"
   ]
  },
  {
   "cell_type": "markdown",
   "metadata": {},
   "source": [
    "## Regular (no over/undersampling)"
   ]
  },
  {
   "cell_type": "code",
   "execution_count": 454,
   "metadata": {
    "collapsed": true
   },
   "outputs": [],
   "source": [
    "# GradientBoostingRegressor(verbose=True)\n",
    "clf = RandomForestClassifier(n_estimators=400, n_jobs=-1)"
   ]
  },
  {
   "cell_type": "code",
   "execution_count": 455,
   "metadata": {
    "collapsed": false
   },
   "outputs": [
    {
     "name": "stdout",
     "output_type": "stream",
     "text": [
      "CPU times: user 56.6 s, sys: 280 ms, total: 56.9 s\n",
      "Wall time: 22.1 s\n"
     ]
    },
    {
     "data": {
      "text/plain": [
       "RandomForestClassifier(bootstrap=True, class_weight=None, criterion='gini',\n",
       "            max_depth=None, max_features='auto', max_leaf_nodes=None,\n",
       "            min_impurity_decrease=0.0, min_impurity_split=None,\n",
       "            min_samples_leaf=1, min_samples_split=2,\n",
       "            min_weight_fraction_leaf=0.0, n_estimators=400, n_jobs=-1,\n",
       "            oob_score=False, random_state=None, verbose=0,\n",
       "            warm_start=False)"
      ]
     },
     "execution_count": 455,
     "metadata": {},
     "output_type": "execute_result"
    }
   ],
   "source": [
    "%%time\n",
    "\n",
    "clf.fit(X_train, y_train)"
   ]
  },
  {
   "cell_type": "code",
   "execution_count": 456,
   "metadata": {
    "collapsed": false
   },
   "outputs": [],
   "source": [
    "y_pred = clf.predict(X_test)"
   ]
  },
  {
   "cell_type": "code",
   "execution_count": 457,
   "metadata": {
    "collapsed": false,
    "scrolled": true
   },
   "outputs": [
    {
     "data": {
      "text/plain": [
       "0.99490142760027189"
      ]
     },
     "execution_count": 457,
     "metadata": {},
     "output_type": "execute_result"
    }
   ],
   "source": [
    "clf.score(X_test, y_test)"
   ]
  },
  {
   "cell_type": "code",
   "execution_count": 458,
   "metadata": {
    "collapsed": false
   },
   "outputs": [
    {
     "data": {
      "text/plain": [
       "(0.99463337384156347, 0.99490142760027189, 0.99473946888624476, None)"
      ]
     },
     "execution_count": 458,
     "metadata": {},
     "output_type": "execute_result"
    }
   ],
   "source": [
    "precision_recall_fscore_support(y_test, y_pred, average='weighted')"
   ]
  },
  {
   "cell_type": "code",
   "execution_count": 459,
   "metadata": {
    "collapsed": false
   },
   "outputs": [
    {
     "name": "stderr",
     "output_type": "stream",
     "text": [
      "[Parallel(n_jobs=1)]: Done   5 out of   5 | elapsed:  2.2min finished\n"
     ]
    },
    {
     "data": {
      "text/plain": [
       "'F1 0.72 +/- 0.03'"
      ]
     },
     "execution_count": 459,
     "metadata": {},
     "output_type": "execute_result"
    }
   ],
   "source": [
    "# random forest classifer, 5-fold cross-validation\n",
    "clf_cv = RandomForestClassifier(n_estimators=400, n_jobs=-1)\n",
    "scores = cross_val_score(estimator=clf_cv, X=X, y=y, scoring='f1', verbose=True, cv=5)\n",
    "\"F1 %.2f +/- %.2f\" % (scores.mean(), scores.std())"
   ]
  },
  {
   "cell_type": "code",
   "execution_count": 460,
   "metadata": {
    "collapsed": false
   },
   "outputs": [
    {
     "data": {
      "text/plain": [
       "array([ 0.72146119,  0.78899083,  0.70754717,  0.70093458,  0.70093458])"
      ]
     },
     "execution_count": 460,
     "metadata": {},
     "output_type": "execute_result"
    }
   ],
   "source": [
    "# get F1 score per each of the folds\n",
    "scores"
   ]
  },
  {
   "cell_type": "code",
   "execution_count": 461,
   "metadata": {
    "collapsed": true
   },
   "outputs": [],
   "source": [
    "cm = confusion_matrix(y_test, y_pred)"
   ]
  },
  {
   "cell_type": "code",
   "execution_count": 462,
   "metadata": {
    "collapsed": true
   },
   "outputs": [],
   "source": [
    "def plot_confusion_matrix(cm,\n",
    "                          classes=[0, 1],\n",
    "                          title='Confusion matrix',\n",
    "                          cmap=plt.cm.Blues):\n",
    "    \"\"\"\n",
    "    This function prints and plots the confusion matrix.\n",
    "    Source:\n",
    "    http://scikit-learn.org/stable/auto_examples/model_selection/plot_confusion_matrix.html#sphx-glr-auto-examples-model-selection-plot-confusion-matrix-py\n",
    "    \"\"\"\n",
    "    plt.imshow(cm, interpolation='nearest', cmap=cmap)\n",
    "    plt.title(title)\n",
    "    plt.colorbar()\n",
    "    tick_marks = np.arange(len(classes))\n",
    "    plt.xticks(tick_marks, classes, rotation=45)\n",
    "    plt.yticks(tick_marks, classes)\n",
    "\n",
    "    thresh = cm.max() / 2.\n",
    "    for i, j in itertools.product(range(cm.shape[0]), range(cm.shape[1])):\n",
    "        plt.text(\n",
    "            j,\n",
    "            i,\n",
    "            cm[i, j],\n",
    "            horizontalalignment=\"center\",\n",
    "            color=\"white\" if cm[i, j] > thresh else \"black\")\n",
    "\n",
    "    plt.tight_layout()\n",
    "    plt.ylabel('True Label')\n",
    "    plt.xlabel('Predicted Label')"
   ]
  },
  {
   "cell_type": "code",
   "execution_count": 463,
   "metadata": {
    "collapsed": false
   },
   "outputs": [
    {
     "data": {
      "image/png": "[encoded data removed]",
      "text/plain": [
       "<matplotlib.figure.Figure at 0x7fa514342ef0>"
      ]
     },
     "metadata": {},
     "output_type": "display_data"
    }
   ],
   "source": [
    "plot_confusion_matrix(cm, ['Non-whale', 'Whale'], title='Customer lifetime value prediction')"
   ]
  },
  {
   "cell_type": "code",
   "execution_count": 464,
   "metadata": {
    "collapsed": false
   },
   "outputs": [
    {
     "data": {
      "text/plain": [
       "array([ 0.99742798,  0.71153846])"
      ]
     },
     "execution_count": 464,
     "metadata": {},
     "output_type": "execute_result"
    }
   ],
   "source": [
    "from sklearn.metrics import f1_score\n",
    "f1_score(y_test, y_pred, average=None)"
   ]
  },
  {
   "cell_type": "code",
   "execution_count": 465,
   "metadata": {
    "collapsed": false
   },
   "outputs": [],
   "source": [
    "# # feature importance calculation\n",
    "# # get top n features\n",
    "\n",
    "# importances = clf.feature_importances_\n",
    "# n = 20\n",
    "\n",
    "# zipped = sorted(zip(features, importances), key=lambda x: - x[1])\n",
    "\n",
    "# for i, f in enumerate(zipped[:n]):\n",
    "#     print(\"%d: Feature: %s, %.3f\" % (i+1, f[0].get_name(), f[1]))\n",
    "    \n",
    "    \n",
    "# top_features = [f[0] for f in zipped[:n]]\n",
    "# top_features"
   ]
  },
  {
   "cell_type": "code",
   "execution_count": 466,
   "metadata": {
    "collapsed": false
   },
   "outputs": [],
   "source": [
    "def feature_importances(model, features, n=10):\n",
    "    importances = model.feature_importances_\n",
    "    zipped = sorted(zip(features, importances), key=lambda x: -x[1])\n",
    "    for i, f in enumerate(zipped[:n]):\n",
    "        print(\"%d: Feature: %s, %.3f\" % (i+1, f[0].get_name(), f[1]))\n",
    "\n",
    "    return([f[0] for f in zipped[:n]])"
   ]
  },
  {
   "cell_type": "code",
   "execution_count": 467,
   "metadata": {
    "collapsed": false
   },
   "outputs": [
    {
     "name": "stdout",
     "output_type": "stream",
     "text": [
      "1: Feature: sum_deposits, 0.175\n",
      "2: Feature: cnt_deposits, 0.125\n",
      "3: Feature: initial_deposit_amount, 0.060\n",
      "4: Feature: account_type = SERIOUS_BUX, 0.041\n",
      "5: Feature: account_type = FUN_BUX, 0.039\n",
      "6: Feature: SUM(transactions.number_of_sessions), 0.038\n",
      "7: Feature: SUM(transactions.total_session_duration), 0.032\n",
      "8: Feature: MEAN(transactions.number_of_sessions), 0.029\n",
      "9: Feature: MEAN(transactions.total_session_duration), 0.025\n",
      "10: Feature: STD(transactions.conversion_to_sb), 0.022\n",
      "11: Feature: STD(transactions.number_of_sessions), 0.022\n",
      "12: Feature: MAX(transactions.total_session_duration), 0.021\n",
      "13: Feature: MAX(transactions.conversion_to_sb), 0.020\n",
      "14: Feature: MAX(transactions.number_of_sessions), 0.020\n",
      "15: Feature: STD(transactions.total_session_duration), 0.019\n",
      "16: Feature: SUM(transactions.conversion_to_sb), 0.018\n",
      "17: Feature: MEAN(transactions.conversion_to_sb), 0.016\n",
      "18: Feature: SUM(transactions.day_of_year), 0.015\n",
      "19: Feature: MODE(transactions.account_status) = SERIOUS_BUX, 0.014\n",
      "20: Feature: MEAN(transactions.day_of_year), 0.013\n"
     ]
    }
   ],
   "source": [
    "top_features = feature_importances(clf, features_encoded, n=20)"
   ]
  },
  {
   "cell_type": "code",
   "execution_count": 468,
   "metadata": {
    "collapsed": true
   },
   "outputs": [],
   "source": [
    "ft.save_features(top_features, \"top_features\")"
   ]
  },
  {
   "cell_type": "markdown",
   "metadata": {
    "collapsed": true
   },
   "source": [
    "### Retrain the classifier on top 20 features"
   ]
  },
  {
   "cell_type": "code",
   "execution_count": 469,
   "metadata": {
    "collapsed": true
   },
   "outputs": [],
   "source": [
    "# load in the features from before\n",
    "top_features = ft.load_features(\"top_features\", es)"
   ]
  },
  {
   "cell_type": "code",
   "execution_count": 470,
   "metadata": {
    "collapsed": false
   },
   "outputs": [
    {
     "name": "stdout",
     "output_type": "stream",
     "text": [
      "CPU times: user 18min 47s, sys: 2.66 s, total: 18min 50s\n",
      "Wall time: 18min 54s\n"
     ]
    }
   ],
   "source": [
    "%%time\n",
    "\n",
    "fm = ft.calculate_feature_matrix(top_features,\n",
    "                                 entityset=es,\n",
    "                                 # cutoff_time = label_times,\n",
    "                                 cutoff_time_in_index=True,\n",
    "                                 verbose=False)"
   ]
  },
  {
   "cell_type": "markdown",
   "metadata": {},
   "source": [
    "## Classification"
   ]
  },
  {
   "cell_type": "code",
   "execution_count": 471,
   "metadata": {
    "collapsed": true
   },
   "outputs": [],
   "source": [
    "X = fm.reset_index().merge(CurCV[['user_id', 'whale']])\n",
    "X = X.fillna(0)\n",
    "X.drop([\"user_id\", \"time\"], axis=1, inplace=True)\n",
    "y = X.pop(\"whale\")"
   ]
  },
  {
   "cell_type": "code",
   "execution_count": 472,
   "metadata": {
    "collapsed": false
   },
   "outputs": [
    {
     "data": {
      "text/plain": [
       "20"
      ]
     },
     "execution_count": 472,
     "metadata": {},
     "output_type": "execute_result"
    }
   ],
   "source": [
    "# top 20 features\n",
    "len(X.columns)"
   ]
  },
  {
   "cell_type": "code",
   "execution_count": 473,
   "metadata": {
    "collapsed": false
   },
   "outputs": [
    {
     "data": {
      "text/plain": [
       "0    58250\n",
       "1      589\n",
       "Name: whale, dtype: int64"
      ]
     },
     "execution_count": 473,
     "metadata": {},
     "output_type": "execute_result"
    }
   ],
   "source": [
    "y.value_counts()"
   ]
  },
  {
   "cell_type": "code",
   "execution_count": 474,
   "metadata": {
    "collapsed": true
   },
   "outputs": [],
   "source": [
    "X_train, X_test, y_train, y_test = train_test_split(X, y, test_size=0.3, random_state=42)"
   ]
  },
  {
   "cell_type": "code",
   "execution_count": 475,
   "metadata": {
    "collapsed": true
   },
   "outputs": [],
   "source": [
    "# GradientBoostingRegressor(verbose=True)\n",
    "clf = RandomForestClassifier(n_estimators=400, n_jobs=-1)"
   ]
  },
  {
   "cell_type": "code",
   "execution_count": 476,
   "metadata": {
    "collapsed": false
   },
   "outputs": [
    {
     "name": "stdout",
     "output_type": "stream",
     "text": [
      "CPU times: user 47.9 s, sys: 279 ms, total: 48.1 s\n",
      "Wall time: 13.7 s\n"
     ]
    },
    {
     "data": {
      "text/plain": [
       "RandomForestClassifier(bootstrap=True, class_weight=None, criterion='gini',\n",
       "            max_depth=None, max_features='auto', max_leaf_nodes=None,\n",
       "            min_impurity_decrease=0.0, min_impurity_split=None,\n",
       "            min_samples_leaf=1, min_samples_split=2,\n",
       "            min_weight_fraction_leaf=0.0, n_estimators=400, n_jobs=-1,\n",
       "            oob_score=False, random_state=None, verbose=0,\n",
       "            warm_start=False)"
      ]
     },
     "execution_count": 476,
     "metadata": {},
     "output_type": "execute_result"
    }
   ],
   "source": [
    "%%time\n",
    "\n",
    "clf.fit(X_train, y_train)"
   ]
  },
  {
   "cell_type": "code",
   "execution_count": 477,
   "metadata": {
    "collapsed": true
   },
   "outputs": [],
   "source": [
    "y_pred = clf.predict(X_test)"
   ]
  },
  {
   "cell_type": "code",
   "execution_count": 478,
   "metadata": {
    "collapsed": false
   },
   "outputs": [
    {
     "name": "stdout",
     "output_type": "stream",
     "text": [
      "precision: [ 0.99725746  0.78666667]\n",
      "recall: [ 0.99816996  0.71084337]\n",
      "fscore: [ 0.9977135   0.74683544]\n",
      "support: [17486   166]\n"
     ]
    }
   ],
   "source": [
    "precision, recall, fscore, support = score(y_test, y_pred)\n",
    "\n",
    "print('precision: {}'.format(precision))\n",
    "print('recall: {}'.format(recall))\n",
    "print('fscore: {}'.format(fscore))\n",
    "print('support: {}'.format(support))"
   ]
  },
  {
   "cell_type": "code",
   "execution_count": 479,
   "metadata": {
    "collapsed": false
   },
   "outputs": [
    {
     "name": "stderr",
     "output_type": "stream",
     "text": [
      "[Parallel(n_jobs=1)]: Done   5 out of   5 | elapsed:  1.5min finished\n"
     ]
    },
    {
     "data": {
      "text/plain": [
       "'F1 score 0.73 +/- 0.03'"
      ]
     },
     "execution_count": 479,
     "metadata": {},
     "output_type": "execute_result"
    }
   ],
   "source": [
    "# %%time\n",
    "\n",
    "clf_cv = RandomForestClassifier(n_estimators=400, n_jobs=-1)\n",
    "scores = cross_val_score(estimator=clf_cv, X=X, y=y, scoring='f1', verbose=True, cv=5)\n",
    "\"F1 score %.2f +/- %.2f\" % (scores.mean(), scores.std())"
   ]
  },
  {
   "cell_type": "code",
   "execution_count": 480,
   "metadata": {
    "collapsed": false
   },
   "outputs": [
    {
     "data": {
      "text/plain": [
       "array([ 0.70222222,  0.79646018,  0.72146119,  0.72477064,  0.70909091])"
      ]
     },
     "execution_count": 480,
     "metadata": {},
     "output_type": "execute_result"
    }
   ],
   "source": [
    "scores"
   ]
  },
  {
   "cell_type": "code",
   "execution_count": 481,
   "metadata": {
    "collapsed": false
   },
   "outputs": [
    {
     "data": {
      "image/png": "[encoded data removed]",
      "text/plain": [
       "<matplotlib.figure.Figure at 0x7fa516ebc048>"
      ]
     },
     "metadata": {},
     "output_type": "display_data"
    }
   ],
   "source": [
    "cm = confusion_matrix(y_test, y_pred)\n",
    "plot_confusion_matrix(cm, ['Non-whale', 'Whale'], title='Customer lifetime value prediction')"
   ]
  },
  {
   "cell_type": "code",
   "execution_count": 482,
   "metadata": {
    "collapsed": false
   },
   "outputs": [],
   "source": [
    "# from sklearn.metrics import precision_recall_curve\n",
    "# from sklearn.metrics import average_precision_score\n",
    "\n",
    "\n",
    "# y_pred_proba = clf.predict_proba(X_test)\n",
    "# average_precision = average_precision_score(y_test, y_pred)\n",
    "# pr, re, _ = precision_recall_curve(y_test,y_pred,pos_label=1)\n",
    "\n",
    "\n",
    "# plt.step(re, pr, color='b', alpha=0.2,\n",
    "#          where='post')\n",
    "# plt.fill_between(re, pr, step='post', alpha=0.2,\n",
    "#                  color='b')\n",
    "\n",
    "# plt.xlabel('Recall')\n",
    "# plt.ylabel('Precision')\n",
    "# plt.ylim([0.0, 1.05])\n",
    "# plt.xlim([0.0, 1.0])\n",
    "# plt.title('2-class Precision-Recall curve: AP={0:0.2f}'.format(\n",
    "#           average_precision))"
   ]
  },
  {
   "cell_type": "code",
   "execution_count": 483,
   "metadata": {
    "collapsed": false
   },
   "outputs": [],
   "source": [
    "# clf_cv.decision_path(X_test)"
   ]
  },
  {
   "cell_type": "markdown",
   "metadata": {},
   "source": [
    "### 30% test set (Feb 17 cohort)\n",
    "\n",
    "![title](img/30% test set  - Feb 17 cohort.png)"
   ]
  },
  {
   "cell_type": "markdown",
   "metadata": {},
   "source": [
    "## 40% test set (Feb 17 cohort)\n",
    "\n",
    "![title](img/40% test set - Feb 17 cohort.png)"
   ]
  },
  {
   "cell_type": "markdown",
   "metadata": {},
   "source": [
    "## 30% test set (Feb 17 cohort, 30k users sample)\n",
    "![title](img/confusion_matrix - 30.000 users - first pipeline.png)"
   ]
  },
  {
   "cell_type": "markdown",
   "metadata": {},
   "source": [
    "## Regression"
   ]
  },
  {
   "cell_type": "code",
   "execution_count": 420,
   "metadata": {
    "collapsed": true
   },
   "outputs": [],
   "source": [
    "X = fm.reset_index().merge(CurCV[['user_id', 'curcv']])\n",
    "X = X.fillna(0)\n",
    "X.drop([\"user_id\", \"time\"], axis=1, inplace=True)\n",
    "y = X.pop(\"curcv\")"
   ]
  },
  {
   "cell_type": "code",
   "execution_count": 421,
   "metadata": {
    "collapsed": false
   },
   "outputs": [
    {
     "data": {
      "text/plain": [
       "20"
      ]
     },
     "execution_count": 421,
     "metadata": {},
     "output_type": "execute_result"
    }
   ],
   "source": [
    "len(X.columns)"
   ]
  },
  {
   "cell_type": "code",
   "execution_count": 422,
   "metadata": {
    "collapsed": false
   },
   "outputs": [
    {
     "data": {
      "text/plain": [
       "7.031610000000002"
      ]
     },
     "execution_count": 422,
     "metadata": {},
     "output_type": "execute_result"
    }
   ],
   "source": [
    "# average customer value\n",
    "y.mean()"
   ]
  },
  {
   "cell_type": "code",
   "execution_count": 423,
   "metadata": {
    "collapsed": true
   },
   "outputs": [],
   "source": [
    "X_train, X_test, y_train, y_test = train_test_split(X, y, test_size=0.3, random_state=42)"
   ]
  },
  {
   "cell_type": "code",
   "execution_count": 424,
   "metadata": {
    "collapsed": false
   },
   "outputs": [
    {
     "data": {
      "text/plain": [
       "count    10500.000000\n",
       "mean         7.968665\n",
       "std        182.495069\n",
       "min        -18.560000\n",
       "25%          0.000000\n",
       "50%          0.000000\n",
       "75%          0.000000\n",
       "max      12735.330000\n",
       "Name: curcv, dtype: float64"
      ]
     },
     "execution_count": 424,
     "metadata": {},
     "output_type": "execute_result"
    }
   ],
   "source": [
    "y_train.describe()"
   ]
  },
  {
   "cell_type": "code",
   "execution_count": 425,
   "metadata": {
    "collapsed": false
   },
   "outputs": [
    {
     "data": {
      "text/plain": [
       "count    4500.000000\n",
       "mean        4.845149\n",
       "std        86.642488\n",
       "min         0.000000\n",
       "25%         0.000000\n",
       "50%         0.000000\n",
       "75%         0.000000\n",
       "max      4235.600000\n",
       "Name: curcv, dtype: float64"
      ]
     },
     "execution_count": 425,
     "metadata": {},
     "output_type": "execute_result"
    }
   ],
   "source": [
    "y_test.describe()"
   ]
  },
  {
   "cell_type": "code",
   "execution_count": 426,
   "metadata": {
    "collapsed": false
   },
   "outputs": [],
   "source": [
    "regr = RandomForestRegressor(max_depth=2, random_state=0)"
   ]
  },
  {
   "cell_type": "code",
   "execution_count": 427,
   "metadata": {
    "collapsed": false
   },
   "outputs": [
    {
     "name": "stdout",
     "output_type": "stream",
     "text": [
      "CPU times: user 454 ms, sys: 11.9 ms, total: 466 ms\n",
      "Wall time: 470 ms\n"
     ]
    },
    {
     "data": {
      "text/plain": [
       "RandomForestRegressor(bootstrap=True, criterion='mse', max_depth=2,\n",
       "           max_features='auto', max_leaf_nodes=None,\n",
       "           min_impurity_decrease=0.0, min_impurity_split=None,\n",
       "           min_samples_leaf=1, min_samples_split=2,\n",
       "           min_weight_fraction_leaf=0.0, n_estimators=10, n_jobs=1,\n",
       "           oob_score=False, random_state=0, verbose=0, warm_start=False)"
      ]
     },
     "execution_count": 427,
     "metadata": {},
     "output_type": "execute_result"
    }
   ],
   "source": [
    "%%time\n",
    "\n",
    "\n",
    "regr.fit(X_train, y_train)"
   ]
  },
  {
   "cell_type": "code",
   "execution_count": 428,
   "metadata": {
    "collapsed": false
   },
   "outputs": [
    {
     "name": "stdout",
     "output_type": "stream",
     "text": [
      "1: Feature: initial_deposit_amount, 0.760\n",
      "2: Feature: network = Viral Invites, 0.078\n",
      "3: Feature: title = Rookie Trader, 0.069\n",
      "4: Feature: account_type = FUN_BUX, 0.031\n",
      "5: Feature: network = BUX Website, 0.029\n",
      "6: Feature: title = Experienced Trader, 0.027\n",
      "7: Feature: cnt_deposits, 0.003\n",
      "8: Feature: network = Appnext, 0.003\n",
      "9: Feature: title = Pro Trader, 0.000\n",
      "10: Feature: title = unknown, 0.000\n",
      "11: Feature: network = Facebook Installs, 0.000\n",
      "12: Feature: network = Organic, 0.000\n",
      "13: Feature: network = TV, 0.000\n",
      "14: Feature: network = Google Adwords Search, 0.000\n",
      "15: Feature: network = Instagram Installs, 0.000\n",
      "16: Feature: network = AdColony, 0.000\n",
      "17: Feature: network = Finanzen.net, 0.000\n",
      "18: Feature: network = unknown, 0.000\n",
      "19: Feature: account_type = SERIOUS_BUX, 0.000\n",
      "20: Feature: account_type = unknown, 0.000\n"
     ]
    },
    {
     "data": {
      "text/plain": [
       "[<Feature: initial_deposit_amount>,\n",
       " <Feature: network = Viral Invites>,\n",
       " <Feature: title = Rookie Trader>,\n",
       " <Feature: account_type = FUN_BUX>,\n",
       " <Feature: network = BUX Website>,\n",
       " <Feature: title = Experienced Trader>,\n",
       " <Feature: cnt_deposits>,\n",
       " <Feature: network = Appnext>,\n",
       " <Feature: title = Pro Trader>,\n",
       " <Feature: title = unknown>,\n",
       " <Feature: network = Facebook Installs>,\n",
       " <Feature: network = Organic>,\n",
       " <Feature: network = TV>,\n",
       " <Feature: network = Google Adwords Search>,\n",
       " <Feature: network = Instagram Installs>,\n",
       " <Feature: network = AdColony>,\n",
       " <Feature: network = Finanzen.net>,\n",
       " <Feature: network = unknown>,\n",
       " <Feature: account_type = SERIOUS_BUX>,\n",
       " <Feature: account_type = unknown>]"
      ]
     },
     "execution_count": 428,
     "metadata": {},
     "output_type": "execute_result"
    }
   ],
   "source": [
    "feature_importances(regr, features_encoded, n=20)"
   ]
  },
  {
   "cell_type": "code",
   "execution_count": 429,
   "metadata": {
    "collapsed": false
   },
   "outputs": [],
   "source": [
    "y_pred = regr.predict(X_test)"
   ]
  },
  {
   "cell_type": "code",
   "execution_count": 430,
   "metadata": {
    "collapsed": false
   },
   "outputs": [],
   "source": [
    "from sklearn.metrics import r2_score, mean_absolute_error, mean_squared_error"
   ]
  },
  {
   "cell_type": "code",
   "execution_count": 431,
   "metadata": {
    "collapsed": false
   },
   "outputs": [
    {
     "data": {
      "text/plain": [
       "11499    0.0\n",
       "6475     0.0\n",
       "13167    0.0\n",
       "862      0.0\n",
       "5970     0.0\n",
       "Name: curcv, dtype: float64"
      ]
     },
     "execution_count": 431,
     "metadata": {},
     "output_type": "execute_result"
    }
   ],
   "source": [
    "y_test.head()"
   ]
  },
  {
   "cell_type": "code",
   "execution_count": 432,
   "metadata": {
    "collapsed": false
   },
   "outputs": [
    {
     "data": {
      "text/plain": [
       "0.50800000000000001"
      ]
     },
     "execution_count": 432,
     "metadata": {},
     "output_type": "execute_result"
    }
   ],
   "source": [
    "r2_reg = r2_score(y_test, y_pred).round(3)\n",
    "r2_reg"
   ]
  },
  {
   "cell_type": "code",
   "execution_count": 433,
   "metadata": {
    "collapsed": false
   },
   "outputs": [
    {
     "name": "stdout",
     "output_type": "stream",
     "text": [
      "6.58775311675\n",
      "3689.43427066\n",
      "60.740713452\n"
     ]
    }
   ],
   "source": [
    "print(mean_absolute_error(y_test, y_pred))\n",
    "print(mean_squared_error(y_test, y_pred))\n",
    "print(np.sqrt(mean_squared_error(y_test, y_pred)))"
   ]
  },
  {
   "cell_type": "code",
   "execution_count": 434,
   "metadata": {
    "collapsed": false
   },
   "outputs": [
    {
     "data": {
      "text/plain": [
       "(26014.572203602893, 21803.169999999995)"
      ]
     },
     "execution_count": 434,
     "metadata": {},
     "output_type": "execute_result"
    }
   ],
   "source": [
    "test_set_pred = sum(y_pred)\n",
    "test_set_true = sum(y_test)\n",
    "\n",
    "test_set_pred, test_set_true"
   ]
  },
  {
   "cell_type": "code",
   "execution_count": 435,
   "metadata": {
    "collapsed": false
   },
   "outputs": [
    {
     "data": {
      "text/plain": [
       "(31642.245000000006, 21803.169999999995)"
      ]
     },
     "execution_count": 435,
     "metadata": {},
     "output_type": "execute_result"
    }
   ],
   "source": [
    "test_set_benchmark = len(y_test) * CurCV['curcv'].mean()\n",
    "\n",
    "test_set_benchmark, test_set_true"
   ]
  },
  {
   "cell_type": "code",
   "execution_count": 436,
   "metadata": {
    "collapsed": true
   },
   "outputs": [],
   "source": [
    "y_benchmark = [CurCV['curcv'].mean() for i in range(0,len(y_test))]"
   ]
  },
  {
   "cell_type": "code",
   "execution_count": 437,
   "metadata": {
    "collapsed": false
   },
   "outputs": [
    {
     "name": "stdout",
     "output_type": "stream",
     "text": [
      "11.5028622489\n",
      "7510.03314215\n",
      "86.6604473918\n"
     ]
    }
   ],
   "source": [
    "print(mean_absolute_error(y_test, y_benchmark))\n",
    "print(mean_squared_error(y_test, y_benchmark))\n",
    "print(np.sqrt(mean_squared_error(y_test, y_benchmark)))"
   ]
  },
  {
   "cell_type": "code",
   "execution_count": null,
   "metadata": {
    "collapsed": true
   },
   "outputs": [],
   "source": []
  },
  {
   "cell_type": "code",
   "execution_count": null,
   "metadata": {
    "collapsed": true
   },
   "outputs": [],
   "source": []
  }
 ],
 "metadata": {
  "anaconda-cloud": {},
  "kernelspec": {
   "display_name": "Python [conda root]",
   "language": "python",
   "name": "conda-root-py"
  },
  "language_info": {
   "codemirror_mode": {
    "name": "ipython",
    "version": 3
   },
   "file_extension": ".py",
   "mimetype": "text/x-python",
   "name": "python",
   "nbconvert_exporter": "python",
   "pygments_lexer": "ipython3",
   "version": "3.5.4"
  }
 },
 "nbformat": 4,
 "nbformat_minor": 1
}
