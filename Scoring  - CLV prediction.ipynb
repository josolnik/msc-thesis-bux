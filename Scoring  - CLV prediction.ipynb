{
 "cells": [
  {
   "cell_type": "code",
   "execution_count": 1,
   "metadata": {
    "collapsed": false
   },
   "outputs": [],
   "source": [
    "import sys\n",
    "import pandas as pd\n",
    "import utils\n",
    "import utils_bux\n",
    "import featuretools as ft\n",
    "from sklearn.externals import joblib"
   ]
  },
  {
   "cell_type": "markdown",
   "metadata": {},
   "source": [
    "### DEFINE PIPELINE PARAMETERS"
   ]
  },
  {
   "cell_type": "code",
   "execution_count": 2,
   "metadata": {
    "collapsed": false
   },
   "outputs": [
    {
     "name": "stdout",
     "output_type": "stream",
     "text": [
      "Pipeline parameters defined\n",
      "Extraction of scoring for users from 2016-01-01 till 2016-01-07\n"
     ]
    }
   ],
   "source": [
    "load_to_vertica = True\n",
    "save_as_csv = False\n",
    "\n",
    "# the timeframe of extracted users\n",
    "# users_from = '2016-01-01'\n",
    "# users_till = '2016-01-07'\n",
    "cohort_size = 10000000\n",
    "\n",
    "# the timeframe of extracted behavioral data\n",
    "interval = '6 days'\n",
    "\n",
    "# the type of the prediction problem\n",
    "# 'regression', 'binary classification', 'multiclass classification'\n",
    "prediction_problem_type = 'multiclass classification'\n",
    "\n",
    "# # multiclass values\n",
    "# medium_value = 5\n",
    "# high_value = 50\n",
    "\n",
    "print(\"Pipeline parameters defined\")\n",
    "print(\"Extraction of scoring for users from\", users_from, \"till\", users_till)"
   ]
  },
  {
   "cell_type": "markdown",
   "metadata": {},
   "source": [
    "### CONNECT TO THE DATABASE"
   ]
  },
  {
   "cell_type": "code",
   "execution_count": 3,
   "metadata": {
    "collapsed": false
   },
   "outputs": [
    {
     "name": "stdout",
     "output_type": "stream",
     "text": [
      "Connected to the database\n"
     ]
    }
   ],
   "source": [
    "# connect to the vertica database, create a cursor\n",
    "conn, cur = utils.connect_to_db()"
   ]
  },
  {
   "cell_type": "markdown",
   "metadata": {},
   "source": [
    "### BUILD ENTITIES"
   ]
  },
  {
   "cell_type": "markdown",
   "metadata": {},
   "source": [
    "#### Cohorts entity"
   ]
  },
  {
   "cell_type": "code",
   "execution_count": 4,
   "metadata": {
    "collapsed": false
   },
   "outputs": [
    {
     "name": "stdout",
     "output_type": "stream",
     "text": [
      "Cohorts entity built\n"
     ]
    }
   ],
   "source": [
    "cohorts = utils_bux.build_cohorts_entity(cur=cur,\n",
    "                                         users_from=users_from,\n",
    "                                         users_till=users_till)"
   ]
  },
  {
   "cell_type": "markdown",
   "metadata": {},
   "source": [
    "#### Users entity"
   ]
  },
  {
   "cell_type": "code",
   "execution_count": 5,
   "metadata": {
    "collapsed": false
   },
   "outputs": [
    {
     "name": "stdout",
     "output_type": "stream",
     "text": [
      "Users entity built with 7891 users\n"
     ]
    }
   ],
   "source": [
    "user_details = utils_bux.build_users_entity(cur=cur,\n",
    "                                            users_from=users_from,\n",
    "                                            users_till=users_till,\n",
    "                                            interval=interval,\n",
    "                                            cohorts=cohorts,\n",
    "                                            cohort_size=cohort_size)"
   ]
  },
  {
   "cell_type": "markdown",
   "metadata": {},
   "source": [
    "#### Transactions entity"
   ]
  },
  {
   "cell_type": "code",
   "execution_count": 9,
   "metadata": {
    "collapsed": false
   },
   "outputs": [
    {
     "name": "stdout",
     "output_type": "stream",
     "text": [
      "Transactions entity built with 55237 transactions\n"
     ]
    }
   ],
   "source": [
    "daily_transactions = utils_bux.build_transactions_entity(cur=cur,\n",
    "                                                         interval=interval)"
   ]
  },
  {
   "cell_type": "code",
   "execution_count": 10,
   "metadata": {
    "collapsed": true
   },
   "outputs": [],
   "source": [
    "### no need for labels"
   ]
  },
  {
   "cell_type": "markdown",
   "metadata": {},
   "source": [
    "### CREATE THE ENTITY SET"
   ]
  },
  {
   "cell_type": "code",
   "execution_count": 11,
   "metadata": {
    "collapsed": false
   },
   "outputs": [
    {
     "name": "stdout",
     "output_type": "stream",
     "text": [
      "Entity set built\n"
     ]
    },
    {
     "data": {
      "text/plain": [
       "Entityset: bux_clv\n",
       "  Entities:\n",
       "    users (shape = [7891, 32])\n",
       "    transactions (shape = [55237, 18])\n",
       "  Relationships:\n",
       "    transactions.user_id -> users.user_id"
      ]
     },
     "execution_count": 11,
     "metadata": {},
     "output_type": "execute_result"
    }
   ],
   "source": [
    "es = utils_bux.create_bux_entity_set(cohorts, user_details, daily_transactions)\n",
    "es"
   ]
  },
  {
   "cell_type": "markdown",
   "metadata": {},
   "source": [
    "### FEATURE ENGINEERING (DFS)"
   ]
  },
  {
   "cell_type": "code",
   "execution_count": 12,
   "metadata": {
    "collapsed": false,
    "scrolled": true
   },
   "outputs": [
    {
     "name": "stdout",
     "output_type": "stream",
     "text": [
      "Features built:\n",
      " ['MEAN(transactions.trades_sb_invested_amount)', 'MAX(transactions.trades_sb_invested_amount)', 'SUM(transactions.trades_sb_invested_amount)', 'MAX(transactions.total_session_duration)', 'NUM_UNIQUE(transactions.trades_sb_commission)', 'MAX(transactions.trades_sb_long)', 'STD(transactions.trades_sb_invested_amount)', 'MEAN(transactions.trades_sb_open_positions)', 'SUM(transactions.total_session_duration)', 'STD(transactions.trades_sb_long)', 'SUM(transactions.view_position)', 'SUM(transactions.trades_sb_long)', 'STD(transactions.total_session_duration)', 'NUM_UNIQUE(transactions.financing_deposits_amount)', 'MEAN(transactions.total_session_duration)', 'MEAN(transactions.view_position)', 'MEAN(transactions.trades_sb_long)', 'STD(transactions.trades_sb_short)', 'SUM(transactions.trades_sb_open_positions)', 'MAX(transactions.view_position)', 'Position Closed_did_event', 'STD(transactions.view_position)', 'STD(transactions.trades_sb_open_positions)', 'MAX(transactions.trades_sb_open_positions)', 'STD(transactions.trades_sb_forex_open)', 'SUM(transactions.trades_sb_forex_open)', 'SUM(transactions.trades_sb_short)', 'initial_deposit_amount_lim = unknown', 'MEAN(transactions.education_topic_read)', 'Position Closed_hours_till_event']\n"
     ]
    }
   ],
   "source": [
    "top_features = ft.load_features(\"top_features\", es)\n",
    "fm = utils.calculate_feature_matrix_top_features(es, top_features)\n",
    "X = fm.reset_index(drop=True).fillna(0)\n",
    "print(\"Features built:\\n\", list(fm.columns))"
   ]
  },
  {
   "cell_type": "markdown",
   "metadata": {},
   "source": [
    "### LOADING THE MODEL"
   ]
  },
  {
   "cell_type": "code",
   "execution_count": 13,
   "metadata": {
    "collapsed": false
   },
   "outputs": [
    {
     "name": "stdout",
     "output_type": "stream",
     "text": [
      "Model loaded\n"
     ]
    }
   ],
   "source": [
    "model = joblib.load('models/model.pkl')\n",
    "print(\"Model loaded\")"
   ]
  },
  {
   "cell_type": "markdown",
   "metadata": {},
   "source": [
    "### SCORING"
   ]
  },
  {
   "cell_type": "code",
   "execution_count": 28,
   "metadata": {
    "collapsed": false
   },
   "outputs": [
    {
     "name": "stdout",
     "output_type": "stream",
     "text": [
      "Prediction done\n"
     ]
    }
   ],
   "source": [
    "y_pred = utils.rf_predict(model, X, prediction_problem_type)\n",
    "print(\"Prediction done\")"
   ]
  },
  {
   "cell_type": "code",
   "execution_count": 30,
   "metadata": {
    "collapsed": false
   },
   "outputs": [
    {
     "data": {
      "text/html": [
       "<div>\n",
       "<style>\n",
       "    .dataframe thead tr:only-child th {\n",
       "        text-align: right;\n",
       "    }\n",
       "\n",
       "    .dataframe thead th {\n",
       "        text-align: left;\n",
       "    }\n",
       "\n",
       "    .dataframe tbody tr th {\n",
       "        vertical-align: top;\n",
       "    }\n",
       "</style>\n",
       "<table border=\"1\" class=\"dataframe\">\n",
       "  <thead>\n",
       "    <tr style=\"text-align: right;\">\n",
       "      <th></th>\n",
       "      <th>topic_type</th>\n",
       "      <th>report_date</th>\n",
       "      <th>model_type</th>\n",
       "      <th>user_id</th>\n",
       "      <th>class_prediction</th>\n",
       "      <th>prob</th>\n",
       "    </tr>\n",
       "  </thead>\n",
       "  <tbody>\n",
       "    <tr>\n",
       "      <th>0</th>\n",
       "      <td>clv_prediction</td>\n",
       "      <td>2018-05-25</td>\n",
       "      <td>xgboost</td>\n",
       "      <td>0032cdbe-5d18-4dfc-82d0-ab990e15d7af</td>\n",
       "      <td>0.0</td>\n",
       "      <td>0</td>\n",
       "    </tr>\n",
       "    <tr>\n",
       "      <th>1</th>\n",
       "      <td>clv_prediction</td>\n",
       "      <td>2018-05-25</td>\n",
       "      <td>xgboost</td>\n",
       "      <td>006f908c-6c61-437e-b026-2bb245fca3dd</td>\n",
       "      <td>0.0</td>\n",
       "      <td>0</td>\n",
       "    </tr>\n",
       "    <tr>\n",
       "      <th>2</th>\n",
       "      <td>clv_prediction</td>\n",
       "      <td>2018-05-25</td>\n",
       "      <td>xgboost</td>\n",
       "      <td>00f916da-5908-414a-99df-45e916209a52</td>\n",
       "      <td>0.0</td>\n",
       "      <td>0</td>\n",
       "    </tr>\n",
       "    <tr>\n",
       "      <th>3</th>\n",
       "      <td>clv_prediction</td>\n",
       "      <td>2018-05-25</td>\n",
       "      <td>xgboost</td>\n",
       "      <td>01745aa2-f52a-44b4-85fb-a54f5551358f</td>\n",
       "      <td>0.0</td>\n",
       "      <td>0</td>\n",
       "    </tr>\n",
       "    <tr>\n",
       "      <th>4</th>\n",
       "      <td>clv_prediction</td>\n",
       "      <td>2018-05-25</td>\n",
       "      <td>xgboost</td>\n",
       "      <td>0286d747-554a-475a-9737-c0aa9a33ec0e</td>\n",
       "      <td>0.0</td>\n",
       "      <td>0</td>\n",
       "    </tr>\n",
       "  </tbody>\n",
       "</table>\n",
       "</div>"
      ],
      "text/plain": [
       "       topic_type report_date model_type  \\\n",
       "0  clv_prediction  2018-05-25    xgboost   \n",
       "1  clv_prediction  2018-05-25    xgboost   \n",
       "2  clv_prediction  2018-05-25    xgboost   \n",
       "3  clv_prediction  2018-05-25    xgboost   \n",
       "4  clv_prediction  2018-05-25    xgboost   \n",
       "\n",
       "                                user_id  class_prediction  prob  \n",
       "0  0032cdbe-5d18-4dfc-82d0-ab990e15d7af               0.0     0  \n",
       "1  006f908c-6c61-437e-b026-2bb245fca3dd               0.0     0  \n",
       "2  00f916da-5908-414a-99df-45e916209a52               0.0     0  \n",
       "3  01745aa2-f52a-44b4-85fb-a54f5551358f               0.0     0  \n",
       "4  0286d747-554a-475a-9737-c0aa9a33ec0e               0.0     0  "
      ]
     },
     "execution_count": 30,
     "metadata": {},
     "output_type": "execute_result"
    }
   ],
   "source": [
    "# save predictions in a csv\n",
    "predictions = pd.DataFrame()\n",
    "predictions[\"user_id\"] = user_details[\"user_id\"]\n",
    "predictions[\"topic_type\"] = \"clv_prediction\"\n",
    "predictions['report_date'] = pd.to_datetime('today').strftime(\"%Y-%m-%d\")\n",
    "predictions[\"model_type\"] = \"xgboost\"\n",
    "predictions[\"class_prediction\"] = y_pred\n",
    "predictions[\"prob\"] = 0\n",
    "predictions = predictions[[\"topic_type\", \"report_date\", \"model_type\", \"user_id\", \"class_prediction\", \"prob\"]]\n",
    "predictions.head()"
   ]
  },
  {
   "cell_type": "markdown",
   "metadata": {},
   "source": [
    "### LOAD RESULTS INTO  THE DATABASE"
   ]
  },
  {
   "cell_type": "code",
   "execution_count": null,
   "metadata": {
    "collapsed": true
   },
   "outputs": [],
   "source": [
    "# ### SAVE RESULTS AS A CSV\n",
    "if save_as_csv:\n",
    "    predictions.to_csv(\"scoring/clv_prediction_\" + users_from + \"-\" + users_till, index=False)\n",
    "# load to vertica\n",
    "# conn, cur = utils.connect_to_db()\n",
    "# os.chdir('/home/jo/Documents/Master thesis @ BUX/notebooks/scoring')\n",
    "# predictions = dd.read_csv('*.csv').compute()\n",
    "# print(\"Number of users:\", len(predictions))"
   ]
  },
  {
   "cell_type": "code",
   "execution_count": null,
   "metadata": {
    "collapsed": true
   },
   "outputs": [],
   "source": [
    "if load_to_vertica:\n",
    "    utils_bux.copy_to_vertica(predictions, 'analytics.model_scoring_predictions', conn)"
   ]
  },
  {
   "cell_type": "code",
   "execution_count": null,
   "metadata": {
    "collapsed": true
   },
   "outputs": [],
   "source": [
    "# when running as a script\n",
    "if __name__ == \"__main__\":\n",
    "    users_from = sys.argv[1]\n",
    "    users_till = sys.argv[2]\n",
    "    main(users_from, users_till)"
   ]
  }
 ],
 "metadata": {
  "anaconda-cloud": {},
  "kernelspec": {
   "display_name": "Python [default]",
   "language": "python",
   "name": "python3"
  },
  "language_info": {
   "codemirror_mode": {
    "name": "ipython",
    "version": 3
   },
   "file_extension": ".py",
   "mimetype": "text/x-python",
   "name": "python",
   "nbconvert_exporter": "python",
   "pygments_lexer": "ipython3",
   "version": "3.5.4"
  }
 },
 "nbformat": 4,
 "nbformat_minor": 1
}
